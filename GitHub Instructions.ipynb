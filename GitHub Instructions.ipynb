{
 "cells": [
  {
   "cell_type": "markdown",
   "metadata": {},
   "source": [
    "# Using Git with GitHub\n",
    "\n",
    "If you've been able to open this document, then you're doing great so far! This notebook will help you to pull the course notes into your own local space.\n",
    "\n",
    "First things first. Within a Jupyter notebook, you can do run Linux terminal commands within a notebook cell. If you are unfamiliar with the Linux terminal, don't worry! I've written out all of the commands you'll need to use.\n",
    "\n",
    "Now, let's set your GitHub username and email address. Click on the next cell and type your GitHub username between the `<>` brackets. Press the keys `Shift` + `Enter` on the keyboard to run the cell."
   ]
  },
  {
   "cell_type": "code",
   "execution_count": 3,
   "metadata": {},
   "outputs": [],
   "source": [
    "!git config --global user.name \"definitelyMatt\"\n",
    "!git config --global user.email \"Matthew.Adams@ucalgary.ca\""
   ]
  },
  {
   "cell_type": "markdown",
   "metadata": {},
   "source": [
    "Let's make sure it worked. Click on the next cell and press `Shift` + `Enter` to run it."
   ]
  },
  {
   "cell_type": "code",
   "execution_count": 7,
   "metadata": {},
   "outputs": [
    {
     "name": "stdout",
     "output_type": "stream",
     "text": [
      "definitelyMatt\n",
      "snimpids@gmail.com\n"
     ]
    }
   ],
   "source": [
    "!git config user.name\n",
    "!git config --global user.email"
   ]
  },
  {
   "cell_type": "markdown",
   "metadata": {},
   "source": [
    "The output from the last cell should be your GitHub username.\n",
    "\n",
    "Now we'll copy or 'clone' the course notes into your local space. They are located in my [GitHub repository](https://github.com/definitelyMatt/ICT-781)."
   ]
  },
  {
   "cell_type": "code",
   "execution_count": 5,
   "metadata": {},
   "outputs": [
    {
     "name": "stdout",
     "output_type": "stream",
     "text": [
      "Cloning into 'ICT-781'...\n",
      "remote: Counting objects: 46, done.\u001b[K\n",
      "remote: Compressing objects: 100% (36/36), done.\u001b[K\n",
      "remote: Total 46 (delta 15), reused 26 (delta 6), pack-reused 0\u001b[K\n",
      "Unpacking objects: 100% (46/46), done.\n"
     ]
    }
   ],
   "source": [
    "!git clone https://github.com/definitelyMatt/ICT-781"
   ]
  },
  {
   "cell_type": "markdown",
   "metadata": {},
   "source": [
    "That's it! The course notes are in your local space (also called your *remote repository*) now. To see the course files, go to the top of your screen, to the tab labelled 'Home'. If you click on it, you should now see the course files. \n",
    "\n",
    "Find the file called 'week1-notes.ipynb' in the 'Week-1' folder and open it."
   ]
  },
  {
   "cell_type": "markdown",
   "metadata": {},
   "source": [
    "# Updating the Course Notes\n",
    "\n",
    "I'll release the course notes for subsequent classes about a week before our Adobe Connect Session. That means that they won't be in your local space. In the language of Git, your remote will be *behind* the master.\n",
    "\n",
    "Let's set your remote to track the course repository."
   ]
  },
  {
   "cell_type": "code",
   "execution_count": 4,
   "metadata": {},
   "outputs": [
    {
     "name": "stdout",
     "output_type": "stream",
     "text": [
      "fatal: remote origin already exists.\r\n"
     ]
    }
   ],
   "source": [
    "!git remote add origin https://github.com/definitelyMatt/ICT-781.git"
   ]
  },
  {
   "cell_type": "markdown",
   "metadata": {},
   "source": [
    "If you get the message `fatal: remote origin already exists.`, then run the next cell."
   ]
  },
  {
   "cell_type": "code",
   "execution_count": 7,
   "metadata": {},
   "outputs": [
    {
     "name": "stdout",
     "output_type": "stream",
     "text": [
      "origin\thttps://github.com/snimpids/ICT-781 (fetch)\r\n",
      "origin\thttps://github.com/snimpids/ICT-781 (push)\r\n"
     ]
    }
   ],
   "source": [
    "!git remote -v"
   ]
  },
  {
   "cell_type": "markdown",
   "metadata": {},
   "source": [
    "The message above is just telling you that the *origin* is already set. The command `!git remote -v` tells you where the origin is."
   ]
  },
  {
   "cell_type": "markdown",
   "metadata": {},
   "source": [
    "In Git, you use the command `pull` to *pull* changes in the origin repository into your remote repository. This is done in one line. Run the next cell to pull changes to your remote."
   ]
  },
  {
   "cell_type": "code",
   "execution_count": 6,
   "metadata": {},
   "outputs": [
    {
     "name": "stdout",
     "output_type": "stream",
     "text": [
      "Already up-to-date.\r\n"
     ]
    }
   ],
   "source": [
    "!git pull"
   ]
  },
  {
   "cell_type": "markdown",
   "metadata": {},
   "source": [
    "In future weeks, you'll only need to run the `!git pull` cell to update the course notes."
   ]
  },
  {
   "cell_type": "code",
   "execution_count": 1,
   "metadata": {},
   "outputs": [
    {
     "name": "stdout",
     "output_type": "stream",
     "text": [
      "origin\thttps://github.com/snimpids/ICT-781 (fetch)\r\n",
      "origin\thttps://github.com/snimpids/ICT-781 (push)\r\n"
     ]
    }
   ],
   "source": [
    "!git remote -v"
   ]
  },
  {
   "cell_type": "code",
   "execution_count": 2,
   "metadata": {},
   "outputs": [
    {
     "name": "stdout",
     "output_type": "stream",
     "text": [
      "  master\u001b[m\r\n",
      "* \u001b[32mstaging\u001b[m\r\n",
      "  \u001b[31mremotes/origin/master\u001b[m\r\n",
      "  \u001b[31mremotes/origin/staging\u001b[m\r\n"
     ]
    }
   ],
   "source": [
    "!git branch -a"
   ]
  },
  {
   "cell_type": "code",
   "execution_count": null,
   "metadata": {},
   "outputs": [],
   "source": []
  }
 ],
 "metadata": {
  "kernelspec": {
   "display_name": "Python 3",
   "language": "python",
   "name": "python3"
  },
  "language_info": {
   "codemirror_mode": {
    "name": "ipython",
    "version": 3
   },
   "file_extension": ".py",
   "mimetype": "text/x-python",
   "name": "python",
   "nbconvert_exporter": "python",
   "pygments_lexer": "ipython3",
   "version": "3.6.5"
  }
 },
 "nbformat": 4,
 "nbformat_minor": 2
}
