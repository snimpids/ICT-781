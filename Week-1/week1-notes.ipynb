{
 "cells": [
  {
   "cell_type": "markdown",
   "metadata": {},
   "source": [
    "# ICT 781-002 - Python Level 1 - Week 1 Notes\n",
    "\n",
    "![](images/python-logo-master-v3-TM.png)\n",
    "*Python logo from [Python Foundation](https://www.python.org)*"
   ]
  },
  {
   "cell_type": "markdown",
   "metadata": {},
   "source": [
    "# Welcome to *your* Introduction to Python Course!\n",
    "\n",
    "Hello everybody! I put emphasis on the word 'your' in my welcome, because I really do want this course to fit each of your learning goals. \n",
    "\n",
    "Python is an increasingly popular general purpose programming language which is widely used in many development areas. It features a less demanding syntax to make rapid development easier for the programmer. As a result, it has been adopted as the language of choice for many projects in data analysis, mobile development, and academia.\n",
    "\n",
    "Have a look at this plot produced by RedMonk. It ranks programming languages by the number of tags on Stack Overflow and the number of projects on GitHub. You can see Python way up in the top right."
   ]
  },
  {
   "cell_type": "markdown",
   "metadata": {},
   "source": [
    "![](images/redmonk_rankings.png)"
   ]
  },
  {
   "cell_type": "markdown",
   "metadata": {},
   "source": [
    "For this course, we'll be using Python 3+ exclusively. Ideally this means Python 3.6. So, if you've had any experience with Python 2.7, expect to see some differences in syntax and in programming style. As of this summer, Python 2.7 is no longer supported by the Python Foundation. However, if you haven't had any experience with Python, then there's nothing to worry about!"
   ]
  },
  {
   "cell_type": "markdown",
   "metadata": {},
   "source": [
    "## Python as a Programming Language\n",
    "\n",
    "In this section, we'll briefly discuss how Python differs from other languages. This section is mainly to satisfy some technical curiosity you might have about the comparison between Python and C++ or other languages. \n",
    "\n",
    "Python is an **interpreted** programming language. In a **compiled** programming language such as C++ or Java, source code is written and then sent to a compiler. The compiler translates the source code into machine code, which gives instructions to the computer hardware. The entire translation process is completed *before* the program is run. An executable (often a `.exe` file) is created, which can be run many times without re-translating the source code.\n",
    "\n",
    "In an **interpreted** language, the source code is instead sent to the interpreter, which reads a few lines of source code and then executes them. This process continues, with the interpreter alternating between reading and executing code until the source code ends."
   ]
  },
  {
   "cell_type": "markdown",
   "metadata": {},
   "source": [
    "## Python Programming Environments\n",
    "\n",
    "There are many different programming environments in which to develop Python code. In all truth, any basic text editor can be used to write Python code. However, a dedicated Python programming environment greatly reduces the barrier to developing and maintaining good Python code. Each environment or program has its own strengths and weaknesses (subject to the opinion of this author). In this section, we'll explore some of the most popular options for Python programming. These are divided into three headings: IDLE, third-party integrated environments (those not developed by or affiliated with the Python Foundation), and Jupyter notebooks.\n",
    "\n",
    "### IDLE\n",
    "The simplest environment for Python programming is the Integrated DeveLopment Environment (IDLE). This environment comes with any distribution of Python, which can be downloaded for free from [Python.org](https://www.python.org/). It is accessed from the command line in Linux/Unix, or from the command prompt in Windows.\n",
    "\n",
    "For example, after downloading and installing Python on a Windows computer, you can enter the Python IDLE as seen in the next screenshot.\n",
    "\n",
    "![](images/pythonIDLE.png)\n",
    "\n",
    "The first yellow arrow is pointing to the command used to enter IDLE. In either the Linux terminal or Windows command prompt, simply type `python`. This enters the Python IDLE. The second yellow arrow indicates the version of Python that you are using. In this case, the version is Python 3.6. You can always tell if you are in the Python IDLE by either the three brackets `>>>` indicating the beginning a line of Python code, or by scrolling to the top of the screen and searching for the version of Python. You can exit IDLE by typing `exit()`.\n",
    "\n",
    "#### Benefits of IDLE\n",
    "<ul>\n",
    "    <li> Free to use and comes with Python distribution </li>\n",
    "    <li> Keeps a running list of all previously entered commands, which you can access by pressing the `up` key on your keyboard </li>\n",
    "    <li> Great for short, simple projects or small calculations </li>\n",
    "    <li> Comes with a simple editor for writing Python scripts </li>\n",
    "</ul>\n",
    "\n",
    "#### Shortcomings of IDLE\n",
    "<ul>\n",
    "    <li> Requires local installation of Python </li>\n",
    "    <li> Very bare-bones code editor </li>\n",
    "    <li> Writing and execution of Python code is kept separate, slowing down the development process </li>\n",
    "</ul>\n",
    "\n",
    "### Third-Party Integrated Environments (PyCharm, Eclipse, etc)\n",
    "These are powerful development environments for writing Python **scripts**. A **script** is a collection of Python code that accomplishes some user-specified task. These programming environments are desktop applications that the user downloads and installs locally on their computer. They are typically very feature-rich, with support for multiple programming languages.\n",
    "\n",
    "#### Benefits of Third-Party Environments\n",
    "<ul>\n",
    "    <li> Tons of features for writing and debugging code in many languages </li>\n",
    "    <li> All-in-one code writing and execution </li>\n",
    "    <li> Often free to download, sometimes open source </li>\n",
    "    <li> Code correction features reduce syntax errors (which we'll discuss later) </li>\n",
    "</ul>\n",
    "\n",
    "#### Shortcomings of Third-Party Environments\n",
    "<ul>\n",
    "    <li> The many features can be overwhelming and carry a steeper learning curve </li>\n",
    "    <li> Many features will never be used, meaning there is computer memory being taken up by unused programs </li>\n",
    "    <li> Often they are free, but sometimes they require the purchase of a license to use the full version </li>\n",
    "</ul>\n",
    "\n",
    "Some third-party development environments to consider are [PyCharm](https://www.jetbrains.com/pycharm/), [Eclipse](https://www.eclipse.org/downloads/), or the stellar [Anaconda](https://www.anaconda.com/download/). Anaconda facilitates code development, external package management (which we'll discuss later), and access to the next option for Python development, the Jupyter notebook.\n",
    "\n",
    "### Jupyter Notebooks\n",
    "These notes are written in a Jupyter notebook. Within the Jupyter notebook format, the user can combine HTML, Markdown (text), Python code, and many other technologies and languages. Within the same document, Python code, formatted text, Javascript, the R statistical language, Ruby code, GitHub terminal commands, and many other technologies exist in separate cells, and can communicate with each other. At the University of Calgary, all students have access to the [Syzygy server](https://ucalgary.syzygy.ca), which means that nothing needs to be downloaded locally. All code is written, saved, and run on the remote server.\n",
    "\n",
    "#### Benefits of Jupyter Notebooks\n",
    "<ul>\n",
    "    <li> Multiple technologies combined into one format </li>\n",
    "    <li> No local installation needed (unless you use Anaconda) </li>\n",
    "    <li> Easy to share code with others </li>\n",
    "    <li> Used by more and more projects and companies each month </li>\n",
    "    <li> Convenient format for exploring and sharing ideas </li>\n",
    "    <li> Relatively easy to create interactive visuals </li>\n",
    "</ul>\n",
    "\n",
    "#### Shortcomings of Jupyter Notebooks\n",
    "<ul>\n",
    "    <li> Hard to develop large projects with multiple users contributing </li>\n",
    "    <li> No code correction feature </li>\n",
    "    <li> Hard to test code </li>\n",
    "    <li> The Syzygy server automatically signs you out every 30 minutes! (this doesn't happen if you install Anaconda) Arggggh! </li>\n",
    "</ul>\n",
    "\n",
    "In this course, I'll mainly use Jupyter notebooks as a teaching tool. In my own research and development work, I've used Jupyter to try out ideas, to create interactive educational tools, and to communicate ideas to other researchers. \n",
    "\n",
    "If you want to use another method of Python development, that is completely fine with me. It generally best practice to have at least tried all three types of Python development listed above. Once you find one that you are comfortable with, you can use that as your main development tool and then use the others as necessary.\n",
    "\n",
    "### Using IDLE Within a Jupyter Notebook\n",
    "For fast testing of code, you can use IDLE within a Jupyter notebook in two ways. First, you can enter the code in a single code cell and run it by pressing `Shift` + `Enter`. Second, you can run IDLE from the main window in Syzygy. To do this, go to the Syzygy tab in your browser (it should be labeled 'Home'). Go to the far right of the screen and click the 'New' dropdown menu. Then click the 'Terminal' option. This opens a Linux terminal. The screenshot below shows how this is done.\n",
    "\n",
    "![](images/jupyter_terminal.png)\n",
    "\n",
    "From here, simply type `python`, and you're in IDLE!"
   ]
  },
  {
   "cell_type": "markdown",
   "metadata": {},
   "source": [
    "## Types of Errors in Programming\n",
    "\n",
    "### Syntax Errors\n",
    "Because Python is a programming language, developers must be careful to follow the rules of the language. A syntax error is when the rules of the language are broken. For example, suppose I wrote the English sentence: \"do you have any mustard\". I have clearly broken two rules of the English language. First, I didn't start the sentence with a capital letter. Second, I didn't end the sentence, which takes the form of a question, with a question mark.\n",
    "\n",
    "Python has similar rules relating to its structure. Unlike English, Python's rules are absolutely strict and must be followed to produce meaningful output. We can read a poorly written English sentence and still understand its meaning. The Python interpreter can't read or parse a poorly written statement in Python and still 'get the gist' of what you were trying to do. If you make a syntax error in Python, the interpreter will complain by spitting out an error message. In Python, you must follow the rules.\n",
    "\n",
    "### Runtime Errors\n",
    "These subtle errors only appear once the program is run, hence their name. In Python, we also call these **exceptions**. They usually mean that the interpreter has taken exception with something you tried to do. \n",
    "\n",
    "An example of a runtime error would be something like `'hello' > 1`. We'll talk more about data types later, but the problem with this statement is that we are trying to compare a word to an integer. There is no way to compare these two data types, since a word has no numerical value. \n",
    "\n",
    "However, there's no problem with the *syntax* of the statement `'hello' > 1`. Python doesn't see anything wrong with what you *wrote*, but it takes exception with what you are trying to *do*.\n",
    "\n",
    "### Semantic Errors\n",
    "These are the hardest errors to find. A semantic error is when the program runs without any problems, but it doesn't do what you expect it to do. Instead, it will do exactly what you *told* it to do. To correct these errors, you often have to trace the problem backwards from the program output to the source of the error.\n",
    "\n",
    "All three types of error are located and corrected (hopefully) in the process known as **debugging**."
   ]
  },
  {
   "cell_type": "markdown",
   "metadata": {},
   "source": [
    "## Debugging\n",
    "\n",
    "![](images/bug.jpg)\n",
    "*Photo credit by Rushenb - Own work, CC BY-SA 3.0, https://commons.wikimedia.org/w/index.php?curid=32780699*\n",
    "\n",
    "**Bugs** are problems in your code. These lead to syntax, runtime, and semantic errors. Debugging is the process of seeking out the sources of the errors and fixing them. In a way, debugging is detective work. \n",
    "\n",
    "Debugging is often seen as tedious, embarrassing, frustrating, hard, soul-crushing, motivation-killing, dull, infuriating, or vexatious. Here is the cure to ease the debugging process: write perfect code that always works.\n",
    "\n",
    "All joking aside, you simply can't always write code that works. I can't do it, professional developers can't do it, and you shouldn't expect yourself to do it either. Instead, approach writing code with the knowledge that things will go wrong. Debugging then becomes a path of mastery as you dig deeper into your problematic code, checking your assumptions and testing your knowledge. If you get stuck, be patient."
   ]
  },
  {
   "cell_type": "markdown",
   "metadata": {},
   "source": [
    "## Arithmetic Operators in Python\n",
    "\n",
    "You can use the Python programming language as a simple calculator. For example, we can perform the multiplication $5\\times7$ as follows."
   ]
  },
  {
   "cell_type": "code",
   "execution_count": 1,
   "metadata": {},
   "outputs": [
    {
     "data": {
      "text/plain": [
       "35"
      ]
     },
     "execution_count": 1,
     "metadata": {},
     "output_type": "execute_result"
    }
   ],
   "source": [
    "5*7"
   ]
  },
  {
   "cell_type": "markdown",
   "metadata": {},
   "source": [
    "In Python, the `*` symbol is used for multiplication. The other mathematical symbols are found in the following list.\n",
    "\n",
    "|Key|Mathematical Operation in Python|\n",
    "|---|:--|\n",
    "|`*`|Multiplication|\n",
    "|`/`|Division|\n",
    "|`+`|Addition|\n",
    "|`-`|Subtraction|\n",
    "\n",
    "Let's do some quick math to see how these look."
   ]
  },
  {
   "cell_type": "code",
   "execution_count": 2,
   "metadata": {},
   "outputs": [
    {
     "data": {
      "text/plain": [
       "0.7142857142857143"
      ]
     },
     "execution_count": 2,
     "metadata": {},
     "output_type": "execute_result"
    }
   ],
   "source": [
    "5/7"
   ]
  },
  {
   "cell_type": "code",
   "execution_count": 4,
   "metadata": {},
   "outputs": [
    {
     "data": {
      "text/plain": [
       "12"
      ]
     },
     "execution_count": 4,
     "metadata": {},
     "output_type": "execute_result"
    }
   ],
   "source": [
    "5+7"
   ]
  },
  {
   "cell_type": "code",
   "execution_count": 5,
   "metadata": {},
   "outputs": [
    {
     "data": {
      "text/plain": [
       "-2"
      ]
     },
     "execution_count": 5,
     "metadata": {},
     "output_type": "execute_result"
    }
   ],
   "source": [
    "5-7"
   ]
  },
  {
   "cell_type": "markdown",
   "metadata": {},
   "source": [
    "A few other useful keys are:\n",
    "\n",
    "|Key|Mathematical Operation in Python|\n",
    "|---|---|\n",
    "|`**`|Exponent|\n",
    "|`%`|Modulo|\n",
    "\n",
    "Since the modulo operator may be less familiar, let's spend a few minutes getting used to it. If we take the number 5 and divide it by another number less than or equal to 5, we either get a remainder of 0 or a non-zero remainder. For example, suppose we divide 5 by 4. Well, $\\frac{5}{4}$ would have a remainder of 1, since 4 goes into 5 once and then leaves a remainder of a single unit. Thus, 5 modulo 4 is 1. \n",
    "\n",
    "Let's see a few examples of the exponent and modulo operators."
   ]
  },
  {
   "cell_type": "code",
   "execution_count": 10,
   "metadata": {},
   "outputs": [
    {
     "data": {
      "text/plain": [
       "625"
      ]
     },
     "execution_count": 10,
     "metadata": {},
     "output_type": "execute_result"
    }
   ],
   "source": [
    "5**4"
   ]
  },
  {
   "cell_type": "code",
   "execution_count": 11,
   "metadata": {},
   "outputs": [
    {
     "data": {
      "text/plain": [
       "1"
      ]
     },
     "execution_count": 11,
     "metadata": {},
     "output_type": "execute_result"
    }
   ],
   "source": [
    "5%4"
   ]
  },
  {
   "cell_type": "code",
   "execution_count": 12,
   "metadata": {},
   "outputs": [
    {
     "data": {
      "text/plain": [
       "64"
      ]
     },
     "execution_count": 12,
     "metadata": {},
     "output_type": "execute_result"
    }
   ],
   "source": [
    "2**6"
   ]
  },
  {
   "cell_type": "code",
   "execution_count": 13,
   "metadata": {},
   "outputs": [
    {
     "data": {
      "text/plain": [
       "0"
      ]
     },
     "execution_count": 13,
     "metadata": {},
     "output_type": "execute_result"
    }
   ],
   "source": [
    "6%2"
   ]
  },
  {
   "cell_type": "markdown",
   "metadata": {},
   "source": [
    "Notice that 6 modulo 2 returns a remainder of 0, since 6/2 = 3, and there is no remainder.\n",
    "\n",
    "### Order of Mathematical Operations\n",
    "\n",
    "Somewhere back in the hazy past, you learned about a rule called BEDMAS or PEDMAS. This acronym stood for the order in which mathematical operations should be completed: Brackets (or Parentheses), Exponents, Division, Multiplication, Addition, and Subtraction. Python does these operations in exactly the same order.\n",
    "\n",
    "Here is an example of how order of operations matters. In the example, I want to calculate $5\\times(5-1)\\times(5-2)\\times(5-3)\\times(5-4)$. This may seem like a silly way to write $5\\times4\\times3\\times2\\times1$, but it is a really useful function called the factorial function. On with the example!"
   ]
  },
  {
   "cell_type": "markdown",
   "metadata": {},
   "source": [
    "First, I'll 'forget' to write the parentheses. The result should be 120."
   ]
  },
  {
   "cell_type": "code",
   "execution_count": 3,
   "metadata": {},
   "outputs": [
    {
     "data": {
      "text/plain": [
       "-9"
      ]
     },
     "execution_count": 3,
     "metadata": {},
     "output_type": "execute_result"
    }
   ],
   "source": [
    "5*5-1*5-2*5-3*5-4"
   ]
  },
  {
   "cell_type": "markdown",
   "metadata": {},
   "source": [
    "Hmm, not 120. Now I'll include the parentheses."
   ]
  },
  {
   "cell_type": "code",
   "execution_count": 4,
   "metadata": {},
   "outputs": [
    {
     "data": {
      "text/plain": [
       "120"
      ]
     },
     "execution_count": 4,
     "metadata": {},
     "output_type": "execute_result"
    }
   ],
   "source": [
    "5*(5-1)*(5-2)*(5-3)*(5-4)"
   ]
  },
  {
   "cell_type": "markdown",
   "metadata": {},
   "source": [
    "Great, it worked! \n",
    "\n",
    "Note that only the round parentheses `()` are used in the order of operations. The other types of parentheses/brackets `[]` and `{}` are reserved in Python and will be discussed later.\n",
    "\n",
    "What if we want to do some more complicated math? Let's see if we can use the sine function from trigonometry."
   ]
  },
  {
   "cell_type": "code",
   "execution_count": 18,
   "metadata": {},
   "outputs": [
    {
     "ename": "NameError",
     "evalue": "name 'sin' is not defined",
     "output_type": "error",
     "traceback": [
      "\u001b[0;31m---------------------------------------------------------------------------\u001b[0m",
      "\u001b[0;31mNameError\u001b[0m                                 Traceback (most recent call last)",
      "\u001b[0;32m<ipython-input-18-242eb9389477>\u001b[0m in \u001b[0;36m<module>\u001b[0;34m()\u001b[0m\n\u001b[0;32m----> 1\u001b[0;31m \u001b[0msin\u001b[0m\u001b[0;34m(\u001b[0m\u001b[0;36m0.5\u001b[0m\u001b[0;34m)\u001b[0m\u001b[0;34m\u001b[0m\u001b[0m\n\u001b[0m",
      "\u001b[0;31mNameError\u001b[0m: name 'sin' is not defined"
     ]
    }
   ],
   "source": [
    "sin(0.5)"
   ]
  },
  {
   "cell_type": "markdown",
   "metadata": {},
   "source": [
    "It appears that Python doesn't have a built-in sine function. However, we can import the sine function (and many other mathematical functions) from the `math` package. Importing packages in Python is done in a single line of code."
   ]
  },
  {
   "cell_type": "code",
   "execution_count": 19,
   "metadata": {},
   "outputs": [],
   "source": [
    "from math import sin"
   ]
  },
  {
   "cell_type": "markdown",
   "metadata": {},
   "source": [
    "Now let's take the sine of 0.5."
   ]
  },
  {
   "cell_type": "code",
   "execution_count": 20,
   "metadata": {},
   "outputs": [
    {
     "data": {
      "text/plain": [
       "0.479425538604203"
      ]
     },
     "execution_count": 20,
     "metadata": {},
     "output_type": "execute_result"
    }
   ],
   "source": [
    "sin(0.5)"
   ]
  },
  {
   "cell_type": "markdown",
   "metadata": {},
   "source": [
    "Ok, now let's find the cosine of 0.5."
   ]
  },
  {
   "cell_type": "code",
   "execution_count": 21,
   "metadata": {},
   "outputs": [
    {
     "ename": "NameError",
     "evalue": "name 'cos' is not defined",
     "output_type": "error",
     "traceback": [
      "\u001b[0;31m---------------------------------------------------------------------------\u001b[0m",
      "\u001b[0;31mNameError\u001b[0m                                 Traceback (most recent call last)",
      "\u001b[0;32m<ipython-input-21-781895f472eb>\u001b[0m in \u001b[0;36m<module>\u001b[0;34m()\u001b[0m\n\u001b[0;32m----> 1\u001b[0;31m \u001b[0mcos\u001b[0m\u001b[0;34m(\u001b[0m\u001b[0;36m0.5\u001b[0m\u001b[0;34m)\u001b[0m\u001b[0;34m\u001b[0m\u001b[0m\n\u001b[0m",
      "\u001b[0;31mNameError\u001b[0m: name 'cos' is not defined"
     ]
    }
   ],
   "source": [
    "cos(0.5)"
   ]
  },
  {
   "cell_type": "markdown",
   "metadata": {},
   "source": [
    "We shouldn't be surprised that we got an error here, since we only imported the sine function from the `math` package. To import the entire package, we have three options. One of them is potentially dangerous."
   ]
  },
  {
   "cell_type": "code",
   "execution_count": 20,
   "metadata": {},
   "outputs": [
    {
     "name": "stdout",
     "output_type": "stream",
     "text": [
      "0.8775825618903728\n",
      "0.8775825618903728\n",
      "0.8775825618903728\n"
     ]
    }
   ],
   "source": [
    "# Option 1\n",
    "import math\n",
    "print(math.cos(0.5))\n",
    "\n",
    "# Option 2\n",
    "import math as mh\n",
    "print(mh.cos(0.5))\n",
    "\n",
    "# Option 3 (Here be dragons!)\n",
    "from math import *\n",
    "print(cos(0.5))"
   ]
  },
  {
   "cell_type": "markdown",
   "metadata": {},
   "source": [
    "So, each import statement results in the same output. \n",
    "\n",
    "Why, then, is the third import statement so dangerous? When you are working on developing your own Python projects, it may be necessary to import multiple packages from many different sources. It is completely possible that two packages may use the same naming conventions for two completely different functions. Therefore, you may think you are calling the function from one package, when you are in reality calling the function with the same name from a different package.\n",
    "\n",
    "To avoid these errors, it is best to either import the package as in Option 1 or Option 2."
   ]
  },
  {
   "cell_type": "markdown",
   "metadata": {},
   "source": [
    "## Python Data Types\n",
    "\n",
    "As with any programming language, the variables that manipulated through arithmetic calculations have two key attributes: **values** and **types**. An example of a **value** is given in the Python code below."
   ]
  },
  {
   "cell_type": "code",
   "execution_count": 11,
   "metadata": {},
   "outputs": [
    {
     "data": {
      "text/plain": [
       "2"
      ]
     },
     "execution_count": 11,
     "metadata": {},
     "output_type": "execute_result"
    }
   ],
   "source": [
    "2"
   ]
  },
  {
   "cell_type": "markdown",
   "metadata": {},
   "source": [
    "The value of `2` is 2, which is not surprising. Let's find the **type** of `2` by calling Python's built-in `type()` function."
   ]
  },
  {
   "cell_type": "code",
   "execution_count": 9,
   "metadata": {},
   "outputs": [
    {
     "data": {
      "text/plain": [
       "int"
      ]
     },
     "execution_count": 9,
     "metadata": {},
     "output_type": "execute_result"
    }
   ],
   "source": [
    "type(2)"
   ]
  },
  {
   "cell_type": "markdown",
   "metadata": {},
   "source": [
    "The **type** of `2` is `int`, which stands for 'integer'. The other main data types in Python are **floats**, which are floating-point or decimal numbers, **strings**, which are literally 'strings' of letters or characters, and **booleans**, which have the value of either `True` or `False`.\n",
    "\n",
    "Strings are written in Python by enclosing letters or characters inside the quotation marks `''` or `\"\"`."
   ]
  },
  {
   "cell_type": "code",
   "execution_count": 12,
   "metadata": {},
   "outputs": [
    {
     "data": {
      "text/plain": [
       "'I am a string'"
      ]
     },
     "execution_count": 12,
     "metadata": {},
     "output_type": "execute_result"
    }
   ],
   "source": [
    "'I am a string'"
   ]
  },
  {
   "cell_type": "code",
   "execution_count": 14,
   "metadata": {},
   "outputs": [
    {
     "data": {
      "text/plain": [
       "'I'"
      ]
     },
     "execution_count": 14,
     "metadata": {},
     "output_type": "execute_result"
    }
   ],
   "source": [
    "\"I\""
   ]
  },
  {
   "cell_type": "code",
   "execution_count": 15,
   "metadata": {},
   "outputs": [
    {
     "data": {
      "text/plain": [
       "str"
      ]
     },
     "execution_count": 15,
     "metadata": {},
     "output_type": "execute_result"
    }
   ],
   "source": [
    "type('I am a string')"
   ]
  },
  {
   "cell_type": "code",
   "execution_count": 16,
   "metadata": {},
   "outputs": [
    {
     "data": {
      "text/plain": [
       "str"
      ]
     },
     "execution_count": 16,
     "metadata": {},
     "output_type": "execute_result"
    }
   ],
   "source": [
    "type(\"I\")"
   ]
  },
  {
   "cell_type": "markdown",
   "metadata": {},
   "source": [
    "Notice that the value of a string is unaffected by using either `''` or `\"\"`. Also note that a space within a string is considered a character, and that single characters are considered strings in Python.\n",
    "\n",
    "We've already seen an example of the integer data type above.\n",
    "\n",
    "An example of the float data type was also subtly given above. I'll repeat it here."
   ]
  },
  {
   "cell_type": "code",
   "execution_count": 26,
   "metadata": {},
   "outputs": [
    {
     "data": {
      "text/plain": [
       "0.8775825618903728"
      ]
     },
     "execution_count": 26,
     "metadata": {},
     "output_type": "execute_result"
    }
   ],
   "source": [
    "cos(0.5)"
   ]
  },
  {
   "cell_type": "code",
   "execution_count": 27,
   "metadata": {},
   "outputs": [
    {
     "data": {
      "text/plain": [
       "float"
      ]
     },
     "execution_count": 27,
     "metadata": {},
     "output_type": "execute_result"
    }
   ],
   "source": [
    "type(cos(0.5))"
   ]
  },
  {
   "cell_type": "code",
   "execution_count": 29,
   "metadata": {},
   "outputs": [
    {
     "data": {
      "text/plain": [
       "2.0"
      ]
     },
     "execution_count": 29,
     "metadata": {},
     "output_type": "execute_result"
    }
   ],
   "source": [
    "2."
   ]
  },
  {
   "cell_type": "code",
   "execution_count": 28,
   "metadata": {},
   "outputs": [
    {
     "data": {
      "text/plain": [
       "float"
      ]
     },
     "execution_count": 28,
     "metadata": {},
     "output_type": "execute_result"
    }
   ],
   "source": [
    "type(2.)"
   ]
  },
  {
   "cell_type": "markdown",
   "metadata": {},
   "source": [
    "Notice that putting the decimal `.` after an integer makes that number a float.\n",
    "\n",
    "Finally, here are examples of booleans. The value of a boolean always has a capitalized first letter."
   ]
  },
  {
   "cell_type": "code",
   "execution_count": 25,
   "metadata": {},
   "outputs": [
    {
     "data": {
      "text/plain": [
       "True"
      ]
     },
     "execution_count": 25,
     "metadata": {},
     "output_type": "execute_result"
    }
   ],
   "source": [
    "True"
   ]
  },
  {
   "cell_type": "code",
   "execution_count": 30,
   "metadata": {},
   "outputs": [
    {
     "data": {
      "text/plain": [
       "bool"
      ]
     },
     "execution_count": 30,
     "metadata": {},
     "output_type": "execute_result"
    }
   ],
   "source": [
    "type(True)"
   ]
  },
  {
   "cell_type": "code",
   "execution_count": 31,
   "metadata": {},
   "outputs": [
    {
     "data": {
      "text/plain": [
       "False"
      ]
     },
     "execution_count": 31,
     "metadata": {},
     "output_type": "execute_result"
    }
   ],
   "source": [
    "False"
   ]
  },
  {
   "cell_type": "code",
   "execution_count": 32,
   "metadata": {},
   "outputs": [
    {
     "data": {
      "text/plain": [
       "bool"
      ]
     },
     "execution_count": 32,
     "metadata": {},
     "output_type": "execute_result"
    }
   ],
   "source": [
    "type(False)"
   ]
  },
  {
   "cell_type": "markdown",
   "metadata": {},
   "source": [
    "Other data types we'll encounter in this course are **lists**, **functions**, and **classes**. We'll get to these in the coming weeks.\n",
    "\n",
    "A convenient thing you can do with strings is called **concatenation**. This means stitching two strings together. To make things slightly confusing, the `+` operator is used for string concatenation."
   ]
  },
  {
   "cell_type": "code",
   "execution_count": 4,
   "metadata": {},
   "outputs": [
    {
     "data": {
      "text/plain": [
       "'Ricotta cheese is very creamy.'"
      ]
     },
     "execution_count": 4,
     "metadata": {},
     "output_type": "execute_result"
    }
   ],
   "source": [
    "'Ricotta cheese ' + 'is' + ' very creamy.'"
   ]
  },
  {
   "cell_type": "markdown",
   "metadata": {},
   "source": [
    "## Variables, Statements, and Expressions\n",
    "\n",
    "Programming would be very nearly impossible if we relied solely on single-line code for every task. Therefore, we can define our own **variables**. In Python, we give our variables a name and a value in the same line. This also implicitly determines the variable's type.\n",
    "\n",
    "Here are some examples of defining variables."
   ]
  },
  {
   "cell_type": "code",
   "execution_count": 36,
   "metadata": {},
   "outputs": [
    {
     "name": "stdout",
     "output_type": "stream",
     "text": [
      "Hello world!\n",
      "1\n",
      "3.141592653589793\n",
      "True\n"
     ]
    }
   ],
   "source": [
    "hello = 'Hello world!';\n",
    "number1 = 1\n",
    "PI = math.pi;\n",
    "python_is_great = True\n",
    "\n",
    "print(hello)\n",
    "print(number1)\n",
    "print(PI)\n",
    "print(python_is_great)"
   ]
  },
  {
   "cell_type": "markdown",
   "metadata": {},
   "source": [
    "Note that it makes no difference if a line of code in Python ends with a semi-colon `;` or not.\n",
    "\n",
    "It is also important to know that Python is a **dynamically typed** language. This means that you can arbitrarily re-assign a value of a different type to a declared variable. Let's see this in action."
   ]
  },
  {
   "cell_type": "code",
   "execution_count": 49,
   "metadata": {},
   "outputs": [
    {
     "name": "stdout",
     "output_type": "stream",
     "text": [
      "5\n",
      "happy\n"
     ]
    }
   ],
   "source": [
    "happy = 5\n",
    "print(happy)\n",
    "\n",
    "happy = 'happy'\n",
    "print(happy)"
   ]
  },
  {
   "cell_type": "markdown",
   "metadata": {},
   "source": [
    "This can be both a blessing and a curse. It avoids some of the drudgery of declaring types with variables as in languages such as C++ or Java, but also can lead to semantic errors. Be careful!"
   ]
  },
  {
   "cell_type": "markdown",
   "metadata": {},
   "source": [
    "### Variable Naming Conventions\n",
    "\n",
    "There are a few conventions to follow when naming variables. First, the variable name may not begin with a number. Also, it is extremely bad practice to name a variable using a reserved keyword. These keywords are, specifically, the names of either built-in or external functions. \n",
    "\n",
    "According to the [Python Style Guide (PEP8)](https://www.python.org/dev/peps/pep-0008/), variable names that begin with an underscore `_` are used to signal to other programmers that the variable is for internal use (known as 'private' data in other languages). \n",
    "\n",
    "In general, avoid using the lower-case `l`, lower- or upper-case `o`, or upper-case `I` to name variables. It is confusing and cruel.\n",
    "\n",
    "Best practices for naming variables are outlined in PEP8 and in Jeff Knupp's book *Writing Idiomatic Python*. They are listed as follows.\n",
    "\n",
    "<ul>\n",
    "    <li> Use all capital letters to declare a constant variable. <br>Example: `TWO_PI = 2*math.pi` </li>\n",
    "    <li> Join lower-case words with underscores to declare variables. <br>Example: `number_of_times_python_has_saved_my_life = 0` </li>\n",
    "</ul>\n",
    "\n",
    "You should also note that Python is case-sensitive. This means that `b` and `B` are two different (and extremely vague) variable names.\n",
    "\n",
    "More conventions will follow as we learn more about functions and classes in the upcoming weeks."
   ]
  },
  {
   "cell_type": "markdown",
   "metadata": {},
   "source": [
    "### Statements vs Expressions\n",
    "\n",
    "This section is adapted from the book 'How to Think Like a Computer Scientist: Learning Python' by Allen Downey, Jeffrey Elkner, and Chris Meyers.\n",
    "\n",
    "A Python **statement** is a line of code that can be read by the interpreter. A variable declaration/assignment is a type of Python statement. Another type of Python statement is asking the interpreter to print something to the console by calling the `print()` function. Here are some examples of statements.\n",
    "<br>`cheese = 'very tasty'`\n",
    "<br>`GRAV_CONSTANT = 6.67408e-11`\n",
    "<br>`print(GRAV_CONSTANT)`\n",
    "\n",
    "Note that `6.67408e-11` is the Python version of $6.67408\\times10^{-11}$. I'm leaving out the units because I'm a cheeky mathematician. If you're a physicist or astronomer, I'm very sorry.\n",
    "\n",
    "An **expression** is a line of code that combines variable values and Python operations (such as arithmetic operations). Here are some examples of expressions.\n",
    "<br>`5*8`\n",
    "<br>`'Hare-brained schemes' + ' have ' + 'neither hare ' + 'nor brains.'`\n",
    "<br>`17`\n",
    "\n",
    "Look at the difference between evaluating an expression and printing a value."
   ]
  },
  {
   "cell_type": "code",
   "execution_count": 6,
   "metadata": {},
   "outputs": [
    {
     "data": {
      "text/plain": [
       "'The true North strong and free.'"
      ]
     },
     "execution_count": 6,
     "metadata": {},
     "output_type": "execute_result"
    }
   ],
   "source": [
    "'The true North ' + 'strong and free.'"
   ]
  },
  {
   "cell_type": "code",
   "execution_count": 7,
   "metadata": {},
   "outputs": [
    {
     "name": "stdout",
     "output_type": "stream",
     "text": [
      "The true North strong and free.\n"
     ]
    }
   ],
   "source": [
    "print('The true North ' + 'strong and free.')"
   ]
  },
  {
   "cell_type": "markdown",
   "metadata": {},
   "source": [
    "The distinction between these two outputs is that, in the first case, the interpreter has displayed the output in the same format as the inputs. In the second case, only the value of the expression within the `print()` function is displayed."
   ]
  },
  {
   "cell_type": "markdown",
   "metadata": {},
   "source": [
    "## Python's Built-in Functions\n",
    "\n",
    "This relates to the code above where we called the built-in Python functions `type()` and `print()`.\n",
    "\n",
    "Python comes with some built-in functions in what is usually referred to as the *standard library*. These functions can be used without importing any external packages, something we discussed above. Each of these functions takes an input, which we will refer to as an **argument**, and returns an output. The main built-in functions we will use in this course are:\n",
    "\n",
    "|Python Function|Purpose|\n",
    "|---|---|\n",
    "|print()|Print out the argument|\n",
    "|input()|Query the user for input in the console and <br>either print it or assign it to a variable|\n",
    "|int()|Convert the argument to integer|\n",
    "|float()|Convert the argument to float|\n",
    "|str()|Convert the argument to string|\n",
    "|round()|Round the argument to the nearest integer|\n",
    "\n",
    "Here are some examples of these functions in action."
   ]
  },
  {
   "cell_type": "code",
   "execution_count": 2,
   "metadata": {},
   "outputs": [
    {
     "name": "stdout",
     "output_type": "stream",
     "text": [
      "Hello world!\n"
     ]
    }
   ],
   "source": [
    "print('Hello world!')"
   ]
  },
  {
   "cell_type": "code",
   "execution_count": 3,
   "metadata": {},
   "outputs": [
    {
     "name": "stdout",
     "output_type": "stream",
     "text": [
      "Please input here: You did it correctly.\n"
     ]
    },
    {
     "data": {
      "text/plain": [
       "'You did it correctly.'"
      ]
     },
     "execution_count": 3,
     "metadata": {},
     "output_type": "execute_result"
    }
   ],
   "source": [
    "input('Please input here: ')"
   ]
  },
  {
   "cell_type": "code",
   "execution_count": 3,
   "metadata": {},
   "outputs": [
    {
     "data": {
      "text/plain": [
       "5"
      ]
     },
     "execution_count": 3,
     "metadata": {},
     "output_type": "execute_result"
    }
   ],
   "source": [
    "int(5.0) # Convert 5.0 to an integer"
   ]
  },
  {
   "cell_type": "code",
   "execution_count": 5,
   "metadata": {},
   "outputs": [
    {
     "data": {
      "text/plain": [
       "5.0"
      ]
     },
     "execution_count": 5,
     "metadata": {},
     "output_type": "execute_result"
    }
   ],
   "source": [
    "float(5) # Convert 5 to a float"
   ]
  },
  {
   "cell_type": "code",
   "execution_count": 6,
   "metadata": {},
   "outputs": [
    {
     "data": {
      "text/plain": [
       "'5'"
      ]
     },
     "execution_count": 6,
     "metadata": {},
     "output_type": "execute_result"
    }
   ],
   "source": [
    "str(5) # Convert the integer 5 to a string"
   ]
  },
  {
   "cell_type": "code",
   "execution_count": 7,
   "metadata": {},
   "outputs": [
    {
     "data": {
      "text/plain": [
       "5"
      ]
     },
     "execution_count": 7,
     "metadata": {},
     "output_type": "execute_result"
    }
   ],
   "source": [
    "round(5.4) # Round 5.4 to the nearest integer"
   ]
  },
  {
   "cell_type": "code",
   "execution_count": 8,
   "metadata": {},
   "outputs": [
    {
     "data": {
      "text/plain": [
       "6"
      ]
     },
     "execution_count": 8,
     "metadata": {},
     "output_type": "execute_result"
    }
   ],
   "source": [
    "round(5.5) # Round 5.5 to the nearest integer"
   ]
  },
  {
   "cell_type": "markdown",
   "metadata": {},
   "source": [
    "Python functions can be chained together by calling functions inside of functions. When performing a chain of Python functions, the innermost function is called first, then the next innermost, and so on."
   ]
  },
  {
   "cell_type": "code",
   "execution_count": 14,
   "metadata": {},
   "outputs": [
    {
     "name": "stdout",
     "output_type": "stream",
     "text": [
      "2\n"
     ]
    }
   ],
   "source": [
    "print(round(int(float(str(5.5)))/2))"
   ]
  },
  {
   "cell_type": "markdown",
   "metadata": {},
   "source": [
    "### *Exercise*\n",
    "\n",
    "Convince yourself that 2 is the correct output for the previous Python code."
   ]
  },
  {
   "cell_type": "markdown",
   "metadata": {},
   "source": [
    "There is a convenient way to print out a custom string together with numerical variables. This is also hinting at something we'll cover later in this course: that everything in Python is an object!\n",
    "\n",
    "Since that last sentence may or may not make sense for everyone, let's just see how to print out strings and integers together. I'll define a string variable called `message` and an integer variable called `times_button_pressed`."
   ]
  },
  {
   "cell_type": "code",
   "execution_count": 44,
   "metadata": {},
   "outputs": [],
   "source": [
    "message = 'You pressed the button this many times: {}'\n",
    "times_button_pressed = 104"
   ]
  },
  {
   "cell_type": "markdown",
   "metadata": {},
   "source": [
    "When I execute this code cell, nothing is printed to the console. Now I'll print both variables together."
   ]
  },
  {
   "cell_type": "code",
   "execution_count": 45,
   "metadata": {},
   "outputs": [
    {
     "name": "stdout",
     "output_type": "stream",
     "text": [
      "You pressed the button this many times: 104\n"
     ]
    }
   ],
   "source": [
    "print(message.format(times_button_pressed))"
   ]
  },
  {
   "cell_type": "markdown",
   "metadata": {},
   "source": [
    "When I declared the `message` variable, I made sure to end the string with curly braces `{}`. When I ask the console to print `message.format(times_button_pressed)`, the value for `times_button_pressed` is inserted in place of the curly braces.\n",
    "\n",
    "There are more fancy ways to format numerical output. We'll leave it as it is for now. Note that I could have left out declaring the variable `message` and just printed the value of `times_button_pressed` as follows."
   ]
  },
  {
   "cell_type": "code",
   "execution_count": 47,
   "metadata": {},
   "outputs": [
    {
     "name": "stdout",
     "output_type": "stream",
     "text": [
      "You pressed the button this many times: 104\n"
     ]
    }
   ],
   "source": [
    "# Alternative way to use the .format method.\n",
    "print('You pressed the button this many times: {}'.format(times_button_pressed))"
   ]
  },
  {
   "cell_type": "markdown",
   "metadata": {},
   "source": [
    "## Comments\n",
    "\n",
    "You'll notice that in the above Python code, I've got an incomplete sentence starting with the `#` symbol in each code cell. This is how inline comments are written in the Python language. Comments are for the reader of the code, and do not typically result in any code output (more about that when we talk about testing code).\n",
    "\n",
    "Comments are used for two main reasons: readability and maintainability. Including well-written, concise comments in your code gives anyone who reads your code the opportunity to see what the code is supposed to do. You can use comments to explain a particularly complicated section of code, to remind the reader of the flow of your program, or to justify certain choices you made when writing the code.\n",
    "\n",
    "Equally important is writing comments directed at yourself, the author or developer of the code. Very frequently, we'll write some code to do a particular task. Once that task is complete, we may not look at the code again for several weeks, months, or even years. To avoid having to re-learn how everything was done, line by line, you can leave yourself helpful comments that describe your reasoning and the intended function of your code. You will thank your past self for being such a considerate and responsible developer.\n",
    "\n",
    "As mentioned before, you write inline comments (a comment on a single line) and comment blocks by using the `#` symbol. You can write multi-line comments by enclosing your comment between the triple quotation marks `''' '''` or `\"\"\" \"\"\"`."
   ]
  },
  {
   "cell_type": "code",
   "execution_count": 38,
   "metadata": {},
   "outputs": [
    {
     "name": "stdout",
     "output_type": "stream",
     "text": [
      "None of the above comments were printed to the console.\n"
     ]
    }
   ],
   "source": [
    "# This is an inline comment.\n",
    "\n",
    "# This \n",
    "# is\n",
    "# a\n",
    "# comment\n",
    "# block.\n",
    "#\n",
    "# Paragraphs are separated by a single `#`.\n",
    "\n",
    "#=~=~=~=~=~=~=~=~=~=~=~=~=~=~=~=~=~=~=~=\n",
    "#= This is an unnecessarily decorative =\n",
    "#= comment block (but it sure looks    =\n",
    "#= cool).                              =\n",
    "#=~=~=~=~=~=~=~=~=~=~=~=~=~=~=~=~=~=~=~=\n",
    "\n",
    "''' This\n",
    "    is\n",
    "    a\n",
    "    multi-line\n",
    "    comment.\n",
    "'''\n",
    "\n",
    "\"\"\" This\n",
    "    is\n",
    "    also\n",
    "    a\n",
    "    multi-line\n",
    "    comment.\n",
    "\"\"\"\n",
    "print('None of the above comments were printed to the console.')"
   ]
  },
  {
   "cell_type": "markdown",
   "metadata": {},
   "source": [
    "### Non-negotiable Comments: Docstrings\n",
    "\n",
    "This will come up in a few weeks when we talk about writing custom functions in Python. For now, it suffices to say that docstrings are absolutely necessary in any code that you write. A docstring is a multi-line comment that outlines the intended use of a custom function, a description of the function's inputs and outputs, and examples of the function in use."
   ]
  },
  {
   "cell_type": "markdown",
   "metadata": {},
   "source": [
    "### *Exercises*\n",
    "\n",
    "These are either taken or adapted from exercises in Urban and Murach's book, *Murach's Python Programming*.\n",
    "\n",
    "<ol>\n",
    "    <li> Open IDLE and type in the following statements: \n",
    "            <ul>\n",
    "                <li> `print()` </li>\n",
    "                <li> `30 + 12` </li>\n",
    "                <li> `30-12` </li>\n",
    "                <li> `3 * 4` </li>\n",
    "                <li> `12/4` </li>\n",
    "                <li> `1/3` </li>\n",
    "                <li> `4 * 4 + 20` </li>\n",
    "                <li> `4 * (4 + 20)` </li>\n",
    "            </ul>\n",
    "        Do the spaces matter between numbers and the arithmetic operators? Which do you prefer: spaces or no spaces?\n",
    "    </li>\n",
    "    <li> In IDLE, enter the following statements to see how they work. \n",
    "        <ul>\n",
    "            <li> `var1 = 10` </li>\n",
    "            <li> `var2 = 20` </li>\n",
    "            <li> `var1 + 10` </li>\n",
    "            <li> `var1` </li>\n",
    "            <li> `var1 + var2` </li>\n",
    "            <li> `var_2` </li>\n",
    "        </ul>\n",
    "    </li>\n",
    "    <li> <ol> \n",
    "            <li> In the Order of Mathematical Operations Section, I 'forgot' to include the parentheses and wrote `5*5-1*5-2*5-3*5-4`. What kind of error did I experience: syntax, runtime, or semantic? </li>\n",
    "            <li> When I tried to compute `cos(0.5)` before importing the `math` package, what kind of error did I experience: syntax, runtime, or semantic? </li>\n",
    "            <li> It is best practice to use the import command `import math` or `import math as mh` instead of `from math import *` when importing the math package. What kind of error do we avoid when we use this import practice: syntax, runtime, or semantic? </li>\n",
    "        </ol>\n",
    "    </li>\n",
    "            \n",
    "    <li> Debug the Python code snippet below. The intention of the code is to convert miles into kilometres. Also change the variable names and add comments to better adhere to best practices. </li>\n",
    "</ol>"
   ]
  },
  {
   "cell_type": "code",
   "execution_count": null,
   "metadata": {},
   "outputs": [],
   "source": [
    "# Exercise 4 code snippet.\n",
    "\n",
    "\"\"\" Converting miles to kilometers. \"\"\"\n",
    "\n",
    "c = int(1.60934)\n",
    "input = input('Please enter a distance in miles to be converted to kilometres: ')\n",
    "output = input*c\n",
    "print(output)"
   ]
  },
  {
   "cell_type": "markdown",
   "metadata": {},
   "source": [
    "<ol start='5'>\n",
    "    <li> Write a simple program to take in two numbers, `length` and `width`, and print out the perimeter and area of a square with `length` and `width` as sides. Make sure to use the `.format()` method as outlined above. </li>\n",
    "</ol>"
   ]
  },
  {
   "cell_type": "code",
   "execution_count": null,
   "metadata": {},
   "outputs": [],
   "source": [
    "# Exercise 5 program.\n"
   ]
  }
 ],
 "metadata": {
  "kernelspec": {
   "display_name": "Python 3",
   "language": "python",
   "name": "python3"
  },
  "language_info": {
   "codemirror_mode": {
    "name": "ipython",
    "version": 3
   },
   "file_extension": ".py",
   "mimetype": "text/x-python",
   "name": "python",
   "nbconvert_exporter": "python",
   "pygments_lexer": "ipython3",
   "version": "3.6.5"
  }
 },
 "nbformat": 4,
 "nbformat_minor": 2
}
