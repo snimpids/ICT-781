{
 "cells": [
  {
   "cell_type": "markdown",
   "metadata": {},
   "source": [
    "# ICT 781-002 - Python Level 1 - Week 2 Notes"
   ]
  },
  {
   "cell_type": "markdown",
   "metadata": {},
   "source": [
    "# Motivation\n",
    "\n",
    "Consider the following problem. Jim is on the main floor of a building. He presses the elevator call button with the intention of traveling to the 12th floor of the building. The elevator must keep track of the number of stops it makes as it travels up. Suppose that 4 other people appear and get on the elevator with Jim, and they press the buttons for the 3rd, 4th, 6th, and 10th floors. Write a Python program that simulates the elevator as it keeps track of how many stops it needs to make, as well as the floor it is currently stopped at.\n",
    "\n",
    "To see two implementations of this problem, scroll down to the bottom of the notebook."
   ]
  },
  {
   "cell_type": "markdown",
   "metadata": {},
   "source": [
    "# Control Statements in Python\n",
    "\n",
    "This week we'll focus on developing core programming skills in Python. Control statements are ubiquitous across all programming languages. Through this lesson, we'll explore coding the following controls in Python:\n",
    "\n",
    "<ul>\n",
    "    <li> Boolean expressions </li>\n",
    "    <li> Logical operators (`is`, `is not`, `and`, and `or`) </li>\n",
    "    <li> If/else statements </li>\n",
    "    <li> `for` and `while` loops </li>\n",
    "</ul>"
   ]
  },
  {
   "cell_type": "markdown",
   "metadata": {},
   "source": [
    "## Boolean Expressions\n",
    "\n",
    "Recall that we previously discussed a boolean *variable*, which is a variable that is assigned either of the values `True` or `False`. We also discussed *statements*, which are lines of code that are read by the interpreter. A **boolean expression** is then, by extension, a statement that results in either of the truth values `True` or `False`.\n",
    "\n",
    "Here is an example."
   ]
  },
  {
   "cell_type": "code",
   "execution_count": 1,
   "metadata": {},
   "outputs": [
    {
     "data": {
      "text/plain": [
       "True"
      ]
     },
     "execution_count": 1,
     "metadata": {},
     "output_type": "execute_result"
    }
   ],
   "source": [
    "15 > 1"
   ]
  },
  {
   "cell_type": "markdown",
   "metadata": {},
   "source": [
    "In the preceding code snippet, I wrote the expression `15 > 1`. The mathematical comparison `>` is exactly as we learned it in grade school. We are saying that '15 is greater than 1'. Python knows that this is true, and so outputs the value `True`. Let's see another example."
   ]
  },
  {
   "cell_type": "code",
   "execution_count": 2,
   "metadata": {},
   "outputs": [
    {
     "data": {
      "text/plain": [
       "False"
      ]
     },
     "execution_count": 2,
     "metadata": {},
     "output_type": "execute_result"
    }
   ],
   "source": [
    "15 > 30"
   ]
  },
  {
   "cell_type": "markdown",
   "metadata": {},
   "source": [
    "15 is not greater than 30, so the interpreter output a `False` value.\n",
    "\n",
    "Let's try comparing two variables to see if they are equal. We must remember that the symbol `=` is used in variable assignment. If we try to compare two variables with `=`, the interpreter should get confused. Let's try it out."
   ]
  },
  {
   "cell_type": "code",
   "execution_count": 3,
   "metadata": {},
   "outputs": [
    {
     "ename": "SyntaxError",
     "evalue": "can't assign to literal (<ipython-input-3-716d4afe7cec>, line 1)",
     "output_type": "error",
     "traceback": [
      "\u001b[0;36m  File \u001b[0;32m\"<ipython-input-3-716d4afe7cec>\"\u001b[0;36m, line \u001b[0;32m1\u001b[0m\n\u001b[0;31m    5=5\u001b[0m\n\u001b[0m       ^\u001b[0m\n\u001b[0;31mSyntaxError\u001b[0m\u001b[0;31m:\u001b[0m can't assign to literal\n"
     ]
    }
   ],
   "source": [
    "5=5"
   ]
  },
  {
   "cell_type": "markdown",
   "metadata": {},
   "source": [
    "Of course this won't work because the interpreter thinks that we are trying to assign the variable named '5' a value of 5. We can't use numbers as variable names. So what if we use the word 'five' instead?"
   ]
  },
  {
   "cell_type": "code",
   "execution_count": 4,
   "metadata": {},
   "outputs": [
    {
     "ename": "TypeError",
     "evalue": "'five' is an invalid keyword argument for this function",
     "output_type": "error",
     "traceback": [
      "\u001b[0;31m---------------------------------------------------------------------------\u001b[0m",
      "\u001b[0;31mTypeError\u001b[0m                                 Traceback (most recent call last)",
      "\u001b[0;32m<ipython-input-4-e5f5931c0457>\u001b[0m in \u001b[0;36m<module>\u001b[0;34m()\u001b[0m\n\u001b[1;32m      1\u001b[0m \u001b[0mfive\u001b[0m \u001b[0;34m=\u001b[0m \u001b[0;36m5\u001b[0m\u001b[0;34m\u001b[0m\u001b[0m\n\u001b[1;32m      2\u001b[0m \u001b[0mfive\u001b[0m \u001b[0;34m=\u001b[0m \u001b[0mfive\u001b[0m\u001b[0;34m\u001b[0m\u001b[0m\n\u001b[0;32m----> 3\u001b[0;31m \u001b[0mprint\u001b[0m\u001b[0;34m(\u001b[0m\u001b[0mfive\u001b[0m \u001b[0;34m=\u001b[0m \u001b[0mfive\u001b[0m\u001b[0;34m)\u001b[0m\u001b[0;34m\u001b[0m\u001b[0m\n\u001b[0m",
      "\u001b[0;31mTypeError\u001b[0m: 'five' is an invalid keyword argument for this function"
     ]
    }
   ],
   "source": [
    "five = 5\n",
    "five = five\n",
    "print(five = five)"
   ]
  },
  {
   "cell_type": "markdown",
   "metadata": {},
   "source": [
    "The interpreter got angry and output an error message. The problem here is that we are asking the interpreter to print out a variable assignment, not a boolean expression. \n",
    "\n",
    "We can compare the values of two variables using the `==` symbol for equality. For inequality, we use `!=`."
   ]
  },
  {
   "cell_type": "code",
   "execution_count": 5,
   "metadata": {},
   "outputs": [
    {
     "name": "stdout",
     "output_type": "stream",
     "text": [
      "True\n",
      "False\n"
     ]
    }
   ],
   "source": [
    "five = 5\n",
    "print(five == five)\n",
    "print(five == 6)"
   ]
  },
  {
   "cell_type": "markdown",
   "metadata": {},
   "source": [
    "The complete list of Python's relational operators for comparing variables are found in the next table. We'll call the variable or value that comes first in a comparison the 'first operand' and the variable that comes after the operator the 'second operand'. This table is adapted from *Murach's Python Programming* by Michael Urban and Joel Murach.\n",
    "\n",
    "|Operator|Name|Way it works|\n",
    "|---|---|---|\n",
    "|`>`|Greater than|Returns `True` if first operand is greater than the second operand|\n",
    "|`<`|Less than|Returns `True` if first operand is less than the second operand|\n",
    "|`>=`|Greater than or equal to|Returns `True` if first operand is greater than or equal to the second operand|\n",
    "|`<=`|Less than or equal to|Returns `True` if first operand is less than or equal to the second operand|\n",
    "|`==`|Equals|Returns `True` if both operands are equal|\n",
    "|`!=`|Not equal|Returns `True` if operands are not equal|\n",
    "\n",
    "**Note:** We discussed declaring variables with `float` type. When we do comparisons, we should not compare the equality of a  `float` with another `float`. This is because Python doesn't use exact values for variable of `float` type."
   ]
  },
  {
   "cell_type": "markdown",
   "metadata": {},
   "source": [
    "## Logical Operators\n",
    "\n",
    "Python also has a convenient syntax for chaining boolean statements together. You can use the `and` and `or` operators as illustrated in the next examples."
   ]
  },
  {
   "cell_type": "code",
   "execution_count": 7,
   "metadata": {},
   "outputs": [
    {
     "data": {
      "text/plain": [
       "True"
      ]
     },
     "execution_count": 7,
     "metadata": {},
     "output_type": "execute_result"
    }
   ],
   "source": [
    "3 >= 2 and 5 < 7"
   ]
  },
  {
   "cell_type": "code",
   "execution_count": 8,
   "metadata": {},
   "outputs": [
    {
     "data": {
      "text/plain": [
       "False"
      ]
     },
     "execution_count": 8,
     "metadata": {},
     "output_type": "execute_result"
    }
   ],
   "source": [
    "3 >= 2 and 5 > 7"
   ]
  },
  {
   "cell_type": "markdown",
   "metadata": {},
   "source": [
    "While using the `and` operator, both statements on either side of `and` must be `True`. In the second example above, I wrote `3 >= 2 and 5 > 7`. The first boolean statement, `3 >=2`, is certainly `True`. However, the second statement `5 > 7` is `False`, so the overall statement is `False`.\n",
    "\n",
    "Let's see how the same statements would work if we used the `or` operator instead of `and`."
   ]
  },
  {
   "cell_type": "code",
   "execution_count": 9,
   "metadata": {},
   "outputs": [
    {
     "data": {
      "text/plain": [
       "True"
      ]
     },
     "execution_count": 9,
     "metadata": {},
     "output_type": "execute_result"
    }
   ],
   "source": [
    "3 >= 2 or 5 < 7"
   ]
  },
  {
   "cell_type": "code",
   "execution_count": 10,
   "metadata": {},
   "outputs": [
    {
     "data": {
      "text/plain": [
       "True"
      ]
     },
     "execution_count": 10,
     "metadata": {},
     "output_type": "execute_result"
    }
   ],
   "source": [
    "3 >= 2 or 5 > 7"
   ]
  },
  {
   "cell_type": "markdown",
   "metadata": {},
   "source": [
    "From this example, we see that only *one* of the statements on either side of the `or` operator must be `True` in order for the whole statement to be `True`. If neither the first statement nor the second statement are `True`, the overall statement will be `False`, as seen in the next example."
   ]
  },
  {
   "cell_type": "code",
   "execution_count": 11,
   "metadata": {},
   "outputs": [
    {
     "data": {
      "text/plain": [
       "False"
      ]
     },
     "execution_count": 11,
     "metadata": {},
     "output_type": "execute_result"
    }
   ],
   "source": [
    "3 <= 2 or 5 > 7"
   ]
  },
  {
   "cell_type": "markdown",
   "metadata": {},
   "source": [
    "Python has another way of comparing equality and inequality which will be very important when we talk about conditional control. Instead of writing `==`, there are some situations in which we should be writing `is`. Similarly, there are situations where writing `is not` is preferable to writing `!=`. There will be examples of these cases later.\n",
    "\n",
    "For now, we'll look at examples of how the `is` and `is not` operators work."
   ]
  },
  {
   "cell_type": "code",
   "execution_count": 15,
   "metadata": {},
   "outputs": [
    {
     "name": "stdout",
     "output_type": "stream",
     "text": [
      "True\n",
      "False\n"
     ]
    }
   ],
   "source": [
    "six = 6\n",
    "\n",
    "# This should print out 'True'.\n",
    "print(six is 6)\n",
    "\n",
    "# This should print out 'False'.\n",
    "print(six is 5)"
   ]
  },
  {
   "cell_type": "code",
   "execution_count": 13,
   "metadata": {},
   "outputs": [
    {
     "name": "stdout",
     "output_type": "stream",
     "text": [
      "False\n",
      "True\n"
     ]
    }
   ],
   "source": [
    "# This should print out 'False'.\n",
    "print(six is not 6)\n",
    "\n",
    "# This should print out 'True'.\n",
    "print(six is not 5 and six is not 7)"
   ]
  },
  {
   "cell_type": "markdown",
   "metadata": {},
   "source": [
    "We can also use parentheses to chain together boolean statements in more creative and useful ways. Similarly, we can chain together several compound statements to form even larger compound statements. Let's look at some examples."
   ]
  },
  {
   "cell_type": "code",
   "execution_count": 14,
   "metadata": {},
   "outputs": [
    {
     "name": "stdout",
     "output_type": "stream",
     "text": [
      "True\n",
      "True\n"
     ]
    }
   ],
   "source": [
    "age = 35\n",
    "handedness = 'right'\n",
    "city = 'Calgary'\n",
    "\n",
    "# Chain of booleans using 'and' with parentheses.\n",
    "print((age < 45 and handedness == 'right') and (age < 36 or handedness != 'left'))\n",
    "\n",
    "# Using parentheses to create compound statement.\n",
    "print((age < 34 or city == 'Calgary') and handedness == 'right')"
   ]
  },
  {
   "cell_type": "markdown",
   "metadata": {},
   "source": [
    "## Comparing Strings\n",
    "\n",
    "Variables of the type `str` are different than the numerical variables of type `int` and `float`. In this section, we'll make sense of statements such as `'hello' < 'Hello'`, which returns the value `False`.\n",
    "\n",
    "The way this works is as follows. The interpreter reads a string from left to right. The characters are compared one at a time. This means that the first comparison is between the characters `h` and `H`. In Python, the hierarchy (also called the 'sort sequence') of characters is given by:\n",
    "\n",
    "<ol>\n",
    "    <li> Lowercase letters, alphabetically ordered </li>\n",
    "    <li> Uppercase letters, alphabetically ordered </li>\n",
    "    <li> Digits 0-9 </li>\n",
    "</ol>\n",
    "\n",
    "Therefore, lower case characters are considered as having the 'top' value. Next in value are the upper case characters, followed by digits. Here are some examples."
   ]
  },
  {
   "cell_type": "code",
   "execution_count": 4,
   "metadata": {},
   "outputs": [
    {
     "data": {
      "text/plain": [
       "False"
      ]
     },
     "execution_count": 4,
     "metadata": {},
     "output_type": "execute_result"
    }
   ],
   "source": [
    "'hello' < 'hEllo'"
   ]
  },
  {
   "cell_type": "code",
   "execution_count": 44,
   "metadata": {},
   "outputs": [
    {
     "data": {
      "text/plain": [
       "True"
      ]
     },
     "execution_count": 44,
     "metadata": {},
     "output_type": "execute_result"
    }
   ],
   "source": [
    "'1hello' < '2hello'"
   ]
  },
  {
   "cell_type": "code",
   "execution_count": 45,
   "metadata": {},
   "outputs": [
    {
     "data": {
      "text/plain": [
       "True"
      ]
     },
     "execution_count": 45,
     "metadata": {},
     "output_type": "execute_result"
    }
   ],
   "source": [
    "'apple' > 'Apple'"
   ]
  },
  {
   "cell_type": "code",
   "execution_count": 16,
   "metadata": {},
   "outputs": [
    {
     "data": {
      "text/plain": [
       "False"
      ]
     },
     "execution_count": 16,
     "metadata": {},
     "output_type": "execute_result"
    }
   ],
   "source": [
    "'0' > 'A' or 'A' > 'a'"
   ]
  },
  {
   "cell_type": "code",
   "execution_count": 25,
   "metadata": {},
   "outputs": [
    {
     "data": {
      "text/plain": [
       "True"
      ]
     },
     "execution_count": 25,
     "metadata": {},
     "output_type": "execute_result"
    }
   ],
   "source": [
    "'1' < '@'"
   ]
  },
  {
   "cell_type": "markdown",
   "metadata": {},
   "source": [
    "We can use one of Python's most powerful features to manipulate strings. This is something we hinted at last week, and we'll continue to hint at until we finally start to define our own objects.\n",
    "\n",
    "In Python, *everything* is an object. You may have encountered object-oriented programming in past experiences with other programming languages. The short introduction to an object is this: objects have **attributes** and **methods**. An **attribute** is some defined property of the object, and a **method** is a function specific to the object.\n",
    "\n",
    "Let's remove some of the mystery around objects. Our first example of an object is the `str` data type. We can access the 'uppercase-ness' of a string by typing `string_name.isupper()`."
   ]
  },
  {
   "cell_type": "code",
   "execution_count": 34,
   "metadata": {},
   "outputs": [
    {
     "data": {
      "text/plain": [
       "True"
      ]
     },
     "execution_count": 34,
     "metadata": {},
     "output_type": "execute_result"
    }
   ],
   "source": [
    "'string'.islower()"
   ]
  },
  {
   "cell_type": "markdown",
   "metadata": {},
   "source": [
    "Not surprisingly, the interpreter says that `'string'` is not uppercase. We called the `isupper()` method by using dot notation `.`.\n",
    "\n",
    "Let's call two other useful methods, `lower()` and `upper()`."
   ]
  },
  {
   "cell_type": "code",
   "execution_count": 51,
   "metadata": {},
   "outputs": [
    {
     "name": "stdout",
     "output_type": "stream",
     "text": [
      "STRING\n",
      "string\n"
     ]
    }
   ],
   "source": [
    "string = 'question'\n",
    "\n",
    "print('string'.upper())\n",
    "print('STRING'.lower())"
   ]
  },
  {
   "cell_type": "markdown",
   "metadata": {},
   "source": [
    "When comparing strings, it is often most helpful to change the strings to either uppercase or lowercase due to the confusing values given to characters."
   ]
  },
  {
   "cell_type": "markdown",
   "metadata": {},
   "source": [
    "## Conditional Control\n",
    "\n",
    "Here is where things get really interesting. What we did above with boolean statements and compound statements is necessary to understand the language of Python. However, they don't tell us much about *programming*. That is to say, they don't help us put statements and expressions together to accomplish various tasks. This is where we introduce conditional control, which is a way for a program to use boolean statements to decide what to do next.\n",
    "\n",
    "These control statements are present in every programming language. Here is an example of how Python handles them."
   ]
  },
  {
   "cell_type": "code",
   "execution_count": 56,
   "metadata": {},
   "outputs": [
    {
     "name": "stdout",
     "output_type": "stream",
     "text": [
      "This is my message.\n"
     ]
    }
   ],
   "source": [
    "msg = 'This is my message.'\n",
    "decision_value = 5\n",
    "\n",
    "# Here is the control statement.\n",
    "if decision_value > 4:\n",
    "    print(msg)"
   ]
  },
  {
   "cell_type": "markdown",
   "metadata": {},
   "source": [
    "In a conditional `if` statement, the line containing the keyword `if` always must end with a colon `:`. Note that it makes no difference if we place the entire conditional statement on the same line."
   ]
  },
  {
   "cell_type": "code",
   "execution_count": 57,
   "metadata": {},
   "outputs": [
    {
     "name": "stdout",
     "output_type": "stream",
     "text": [
      "This is my message.\n"
     ]
    }
   ],
   "source": [
    "if decision_value > 4: print(msg)"
   ]
  },
  {
   "cell_type": "markdown",
   "metadata": {},
   "source": [
    "This is, however, bad practice. Long blocks of code with conditional statements written in this way are difficult to read and maintain. For example, if you encountered the following code, you might not immediately see what the `if` statement is really doing."
   ]
  },
  {
   "cell_type": "code",
   "execution_count": 59,
   "metadata": {},
   "outputs": [
    {
     "name": "stdout",
     "output_type": "stream",
     "text": [
      "Fatal error: formatting hard drive now...\n"
     ]
    }
   ],
   "source": [
    "msg = 'Fatal error: formatting hard drive now...'\n",
    "msg1 = 'Program executed successfully.'\n",
    "decision = 3\n",
    "\n",
    "if decision > 4: print(msg1)\n",
    "print(msg)"
   ]
  },
  {
   "cell_type": "markdown",
   "metadata": {},
   "source": [
    "Earlier we discussed comparing numerical values with the relational operators `>`, `<`, `>=`, `<=`, `==`, and `!=`. These operators are combined with a conditional `if` statement to direct Python programs, as in the following example."
   ]
  },
  {
   "cell_type": "code",
   "execution_count": 60,
   "metadata": {},
   "outputs": [
    {
     "name": "stdout",
     "output_type": "stream",
     "text": [
      "Not enough votes to win.\n"
     ]
    }
   ],
   "source": [
    "votes_to_win = 50\n",
    "votes = 45\n",
    "\n",
    "if 0 < votes and votes < votes_to_win:\n",
    "    print('Not enough votes to win.')"
   ]
  },
  {
   "cell_type": "markdown",
   "metadata": {},
   "source": [
    "The previous example is purely illustrational. Python allows relational operators to be chained arbitrarily. This greatly simplifies the `if` statement in the previous example."
   ]
  },
  {
   "cell_type": "code",
   "execution_count": 61,
   "metadata": {},
   "outputs": [
    {
     "name": "stdout",
     "output_type": "stream",
     "text": [
      "Not enough votes to win.\n"
     ]
    }
   ],
   "source": [
    "votes_to_win = 50\n",
    "votes = 45\n",
    "\n",
    "if 0 < votes < votes_to_win:\n",
    "    print('Not enough votes to win.')"
   ]
  },
  {
   "cell_type": "markdown",
   "metadata": {},
   "source": [
    "It is also best practice to avoid comparing a variable directly to a boolean value. By default, most values in Python are considered `True`. \n",
    "\n",
    "Values considered `False` by default include `False`, `None`, `0`, and `0.`, among others that we will discuss next week. \n",
    "\n",
    "Not comparing variables directly to boolean values avoids problems brought on by Python's dynamic typing. Recall that we may declare an `int` variable and then change it arbitrarily to the `str` type. This can result in confusion, as shown in the next example."
   ]
  },
  {
   "cell_type": "code",
   "execution_count": 62,
   "metadata": {},
   "outputs": [
    {
     "name": "stdout",
     "output_type": "stream",
     "text": [
      "This is confusing.\n"
     ]
    }
   ],
   "source": [
    "var = 0\n",
    "\n",
    "if var == False:\n",
    "    print('This is confusing.')\n",
    "    \n",
    "var = '0'\n",
    "\n",
    "if var == False:\n",
    "    print('This is also confusing.')"
   ]
  },
  {
   "cell_type": "markdown",
   "metadata": {},
   "source": [
    "The confusion arises because it may be that we wanted `var` to be `False`, but changing it to a `str` made its boolean value `True`. Therefore, to check a boolean value, instead of writing `if var == False:`, we write `if not var:`.\n",
    "\n",
    "Similarly, instead of writing `if var == True:`, we write `if var:`. Similarly, instead of writing `if var == False:`, we write `if not var:`.\n",
    "\n",
    "Also, when using the `==` operator, Python simply checks if the two variables have the same *value*. Using `is` instead of `==` results in Python checking if the two variables are *the same object*. "
   ]
  },
  {
   "cell_type": "code",
   "execution_count": 63,
   "metadata": {},
   "outputs": [
    {
     "name": "stdout",
     "output_type": "stream",
     "text": [
      "This is less confusing.\n",
      "Ahh, much better.\n",
      "And less characters in the code makes it easier to read.\n"
     ]
    }
   ],
   "source": [
    "var = 0\n",
    "\n",
    "if not var:\n",
    "    print('This is less confusing.')\n",
    "    \n",
    "var = 1\n",
    "\n",
    "if var:\n",
    "    print('Ahh, much better.')\n",
    "\n",
    "if var is 1:\n",
    "    print('And less characters in the code makes it easier to read.')"
   ]
  },
  {
   "cell_type": "markdown",
   "metadata": {},
   "source": [
    "For writing alternate decisions in Python, we use the `elif` (else if) and `else` keywords. Here is an example."
   ]
  },
  {
   "cell_type": "code",
   "execution_count": 68,
   "metadata": {
    "scrolled": true
   },
   "outputs": [
    {
     "name": "stdout",
     "output_type": "stream",
     "text": [
      "Barely empathetic support system activated...\n",
      "How are you feeling today? SAD\n",
      "Sorry to hear that.\n"
     ]
    }
   ],
   "source": [
    "print('Barely empathetic support system activated...')\n",
    "user_var = input('How are you feeling today? ').lower()\n",
    "\n",
    "if user_var == 'happy':\n",
    "    print('Glad to hear it!')\n",
    "elif user_var == 'sad':\n",
    "    print('Sorry to hear that.')\n",
    "else:\n",
    "    print('...ok...')"
   ]
  },
  {
   "cell_type": "markdown",
   "metadata": {},
   "source": [
    "## Computing through Repetition: Iteration\n",
    "\n",
    "It is almost always necessary to repeat tasks when writing code to do any programming task. For example, a music player shouldn't just play a single song and then shut down. We accomplish the repetition of programming tasks through *iteration*. The most basic methods for iteration are the `while` and `for` loops.\n",
    "\n",
    "### `while` Loops\n",
    "\n",
    "A `while` loop is commonly used when it is unknown when a given task should terminate. For example, in numerical analysis, a branch of applied mathematics, a given procedure will terminate when a specific error estimate is below a given threshold. \n",
    "\n",
    "Here's a simple example of a `while` loop using [Stochcheck's approximation of $\\pi$](http://mathworld.wolfram.com/PiApproximations.html). This loop continues iterating until the difference between the variable `pi_estimate` and Python's computation of $\\pi$ is within $10^{-3}$. In other words, until $|\\text{pi_estimate} - \\pi| \\leq 10^{-3}$.\n",
    "\n",
    "while/for, range, break, continue, +="
   ]
  },
  {
   "cell_type": "code",
   "execution_count": 70,
   "metadata": {},
   "outputs": [
    {
     "name": "stdout",
     "output_type": "stream",
     "text": [
      "Stoscheck's approximation to pi is 3.1411042944785277.\n",
      "The value of pi given by Python is 3.141592653589793.\n",
      "The procedure repeated 9 times.\n"
     ]
    }
   ],
   "source": [
    "import math\n",
    "\n",
    "# Stoscheck's approximation of pi.\n",
    "power = 0\n",
    "DENOMINATOR = 163\n",
    "TOLERANCE = 10e-3\n",
    "\n",
    "pi_estimate = 2**power/DENOMINATOR\n",
    "\n",
    "while abs(pi_estimate - math.pi) > TOLERANCE:\n",
    "    power += 1\n",
    "    pi_estimate = 2**power/DENOMINATOR\n",
    "\n",
    "print(\"Stoscheck's approximation to pi is {}.\".format(pi_estimate))\n",
    "print(\"The value of pi given by Python is {}.\".format(math.pi))\n",
    "print(\"The procedure repeated {} times.\".format(power))"
   ]
  },
  {
   "cell_type": "markdown",
   "metadata": {},
   "source": [
    "### A Caution about `while` Loops\n",
    "\n",
    "Python, and computers in general, lack the decision-making power to do anything but what we tell them. Therefore, when you write a `while` loop, you need to ensure that there is some condition included so that the loop will eventually stop. If you don't do this, you will create an **infinite loop**. Valuable memory resources will be taken up by this infinite (non-terminating) loop and your program won't continue.\n",
    "\n",
    "To avoid this in `while` loops, you can declare a 'counter' variable that keeps track of the current iteration of the loop. You can include an `if` clause containing a `break` statement so that the `while` loop terminates when a specified iteration is reached."
   ]
  },
  {
   "cell_type": "code",
   "execution_count": 74,
   "metadata": {},
   "outputs": [
    {
     "name": "stdout",
     "output_type": "stream",
     "text": [
      "This is an infinite loop. I hope it ends soon...\n",
      "This is an infinite loop. I hope it ends soon...\n",
      "This is an infinite loop. I hope it ends soon...\n",
      "This is an infinite loop. I hope it ends soon...\n",
      "This is an infinite loop. I hope it ends soon...\n",
      "This is an infinite loop. I hope it ends soon...\n"
     ]
    }
   ],
   "source": [
    "a = 5\n",
    "counter = 0\n",
    "\n",
    "while a > 4:\n",
    "    print('This is an infinite loop. I hope it ends soon...')\n",
    "    counter += 1\n",
    "    if counter > 5:\n",
    "        break"
   ]
  },
  {
   "cell_type": "markdown",
   "metadata": {},
   "source": [
    "## `for` Loops\n",
    "\n",
    "This style of loop is more commonly used than a `while` loop in most applications. The upper limit for iteration is set before the `for` loop begins. Use a `for` loop when you know how many times a given procedure must be completed.\n",
    "\n",
    "### The `range()` Variable\n",
    "\n",
    "In C++ and Java, `for` loops required the programmer to declare an `int` index variable, set an upper limit for iterations, and to increment the index variable. The standard `for` loop setup looked like the next example."
   ]
  },
  {
   "cell_type": "code",
   "execution_count": null,
   "metadata": {
    "scrolled": true
   },
   "outputs": [],
   "source": [
    "for (int i = 0; i < 10; i++) {\n",
    "    // compute some task here\n",
    "}"
   ]
  },
  {
   "cell_type": "markdown",
   "metadata": {},
   "source": [
    "The purpose of the `for` loop in the previous cell is to compute some procedure 10 times. The same `for` loop is written in Python using the `range(<int>)` function. The programmer specifies the upper limit for iterations (or terminating index) as the argument to the `range()` function. Let's see the Python `for` loop."
   ]
  },
  {
   "cell_type": "code",
   "execution_count": 75,
   "metadata": {
    "scrolled": true
   },
   "outputs": [
    {
     "name": "stdout",
     "output_type": "stream",
     "text": [
      "\n",
      "\n",
      "\n",
      "\n",
      "\n",
      "\n",
      "\n",
      "\n",
      "\n",
      "\n"
     ]
    }
   ],
   "source": [
    "for i in range(10):\n",
    "    # compute some task here\n",
    "    print()"
   ]
  },
  {
   "cell_type": "markdown",
   "metadata": {},
   "source": [
    "Just to make it more clear what's going on, let's print the iteration index at each iteration."
   ]
  },
  {
   "cell_type": "code",
   "execution_count": 76,
   "metadata": {
    "scrolled": false
   },
   "outputs": [
    {
     "name": "stdout",
     "output_type": "stream",
     "text": [
      "0\n",
      "1\n",
      "2\n",
      "3\n",
      "4\n",
      "5\n",
      "6\n",
      "7\n",
      "8\n",
      "9\n"
     ]
    }
   ],
   "source": [
    "for i in range(10):\n",
    "    print(i)"
   ]
  },
  {
   "cell_type": "markdown",
   "metadata": {},
   "source": [
    "You can also use a custom-defined `range()`."
   ]
  },
  {
   "cell_type": "code",
   "execution_count": 77,
   "metadata": {
    "scrolled": true
   },
   "outputs": [
    {
     "name": "stdout",
     "output_type": "stream",
     "text": [
      "2\n",
      "3\n",
      "4\n",
      "5\n",
      "6\n",
      "7\n",
      "8\n",
      "9\n",
      "10\n",
      "11\n"
     ]
    }
   ],
   "source": [
    "for i in range(2,12):\n",
    "    print(i)"
   ]
  },
  {
   "cell_type": "code",
   "execution_count": 79,
   "metadata": {},
   "outputs": [
    {
     "name": "stdout",
     "output_type": "stream",
     "text": [
      "0\n",
      "2\n",
      "4\n",
      "6\n",
      "8\n"
     ]
    }
   ],
   "source": [
    "# Print every third index.\n",
    "for i in range(0,10,2):\n",
    "    print(i)"
   ]
  },
  {
   "cell_type": "markdown",
   "metadata": {},
   "source": [
    "The general format for the `range()` function is `range(start,end,increment)`. The default values are `start = 0`, `end = <user-defined integer>`, and `increment = 1`. Any non-integer upper range limit causes an error."
   ]
  },
  {
   "cell_type": "code",
   "execution_count": 82,
   "metadata": {},
   "outputs": [
    {
     "ename": "TypeError",
     "evalue": "'float' object cannot be interpreted as an integer",
     "output_type": "error",
     "traceback": [
      "\u001b[0;31m---------------------------------------------------------------------------\u001b[0m",
      "\u001b[0;31mTypeError\u001b[0m                                 Traceback (most recent call last)",
      "\u001b[0;32m<ipython-input-82-c4c89acd37b7>\u001b[0m in \u001b[0;36m<module>\u001b[0;34m()\u001b[0m\n\u001b[0;32m----> 1\u001b[0;31m \u001b[0;32mfor\u001b[0m \u001b[0mi\u001b[0m \u001b[0;32min\u001b[0m \u001b[0mrange\u001b[0m\u001b[0;34m(\u001b[0m\u001b[0;36m10.1\u001b[0m\u001b[0;34m)\u001b[0m\u001b[0;34m:\u001b[0m\u001b[0;34m\u001b[0m\u001b[0m\n\u001b[0m\u001b[1;32m      2\u001b[0m     \u001b[0mprint\u001b[0m\u001b[0;34m(\u001b[0m\u001b[0mi\u001b[0m\u001b[0;34m)\u001b[0m\u001b[0;34m\u001b[0m\u001b[0m\n",
      "\u001b[0;31mTypeError\u001b[0m: 'float' object cannot be interpreted as an integer"
     ]
    }
   ],
   "source": [
    "for i in range(10.1):\n",
    "    print(i)"
   ]
  },
  {
   "cell_type": "markdown",
   "metadata": {},
   "source": [
    "You'll notice that the upper limit of the `range()` is never reached. This is because Python is a **zero-indexed** language. This means that the `range()` variable starts at 0 by default. **Zero-indexing** will take on more meaning next week when we talk about lists and dictionaries. For now, it means that any iteration index will start at 0 by default. So, instead of a loop starting at the 'first' iteration, the loop starts at the 'zero-th' iteration.\n",
    "\n",
    "Therefore, when we call `range(10)`, we're saying that we want 10 iterations **starting at 0**. This naturally gives the iteration indices 0, 1, 2, 3, 4, 5, 6, 7, 8, and 9.\n",
    "\n",
    "Perhaps a more useful example of using the `for` loop with a conditional expression is given in the next cell. This short program uses the `random` module that comes packaged with Python. The program begins by generated a random integer between 1 and 10. Iterating through the `range()`, the program stops when the iteration index is the same number as the randomly generated integer."
   ]
  },
  {
   "cell_type": "code",
   "execution_count": 86,
   "metadata": {},
   "outputs": [
    {
     "name": "stdout",
     "output_type": "stream",
     "text": [
      "0\n",
      "1\n",
      "2\n",
      "3\n",
      "4\n",
      "5\n",
      "6\n",
      "I found the random integer! It was 6.\n"
     ]
    }
   ],
   "source": [
    "import random\n",
    "\n",
    "# Generate the random integer.\n",
    "random_int = random.randint(1,10)\n",
    "\n",
    "# Loop until we find the random integer.\n",
    "for i in range(11):\n",
    "    print(i)\n",
    "    if i == random_int:\n",
    "        print('I found the random integer! It was {}.'.format(i))\n",
    "        break"
   ]
  },
  {
   "cell_type": "markdown",
   "metadata": {},
   "source": [
    "This short program illustrates a few new concepts. First, we imported the `random` module, which will be very useful for your first assignment.\n",
    "\n",
    "Second, we used the `break` statement. This statement exits the `for` loop when it is called. In our example, the `break` statement is called when the iteration index matches the value of the random integer.\n",
    "\n",
    "Similar to the `break` statement is the `continue` statement. However, instead of exiting the `for` loop, the `continue` statement 'cancels' the current iteration and moves on, or 'continues' to the next iteration. An example of this is in the next cell."
   ]
  },
  {
   "cell_type": "code",
   "execution_count": 87,
   "metadata": {
    "scrolled": true
   },
   "outputs": [
    {
     "name": "stdout",
     "output_type": "stream",
     "text": [
      "0\n",
      "1\n",
      "2\n",
      "3\n",
      "4\n",
      "6\n",
      "7\n",
      "8\n",
      "9\n"
     ]
    }
   ],
   "source": [
    "for i in range(10):\n",
    "    if i == 5:\n",
    "        continue\n",
    "    else:\n",
    "        print(i)"
   ]
  },
  {
   "cell_type": "markdown",
   "metadata": {},
   "source": [
    "You can see in the output how the 5th iteration was skipped."
   ]
  },
  {
   "cell_type": "markdown",
   "metadata": {},
   "source": [
    "## *Exercises*\n",
    "\n",
    "<ol>\n",
    "    <li> A chocolate bar typically has a rectangular shape divided into $m \\times n$ smaller rectangles. To equally share a chocolate bar among $k$ friends, the chocolate bar must be evenly divided into $k$ smaller pieces. Thus, $m \\times n$ must be divisible by $k$ with no remainder. Write a program that accepts the integers $m$, $n$, and $k$ using the `input()` function. Your program should output whether the chocolate bar with dimensions $m \\times n$ can be divided evenly among $k$ people. </li>\n",
    "</ol>"
   ]
  },
  {
   "cell_type": "code",
   "execution_count": 119,
   "metadata": {},
   "outputs": [
    {
     "name": "stdout",
     "output_type": "stream",
     "text": [
      "Please input the length of the chocolate bar: 23\n",
      "Please input the width of the chocolate bar: 4\n",
      "With how many people would you like to share the candy? 6\n",
      "You'll have to cut a piece.\n"
     ]
    }
   ],
   "source": [
    "# Write your chocolate bar program here.\n",
    "\n",
    "m = int(input('Please input the length of the chocolate bar: '))\n",
    "n = int(input('Please input the width of the chocolate bar: '))\n",
    "k = int(input('With how many people would you like to share the candy? '))\n",
    "\n",
    "if m*n % k == 0:\n",
    "    print('You may share fairly.')\n",
    "else:\n",
    "    print(\"You'll have to cut a piece.\")"
   ]
  },
  {
   "cell_type": "markdown",
   "metadata": {},
   "source": [
    "<ol start = '2'>\n",
    "    <li> Determine the truth value (`True` or `False`) for each of the following boolean statements/expressions given that `i=20` and `error = 2e-3`. \n",
    "        <ul>\n",
    "            <li> `i < 30 and error > 0` </li>\n",
    "            <li> `i > 30 and error > 0` </li>\n",
    "            <li> `i < 21 or error < 0` </li>\n",
    "            <li> `i is not 20` </li>\n",
    "            <li> `error < 1e-2` </li>\n",
    "            <li> `i and not error` </li>\n",
    "            <li> `1e-4 < error < 1e-2` </li>\n",
    "        </ul>\n",
    "        <br>\n",
    "    **Solutions**\n",
    "        <ul>\n",
    "            <li> `True` </li>\n",
    "            <li> `False` </li>\n",
    "            <li> `True` </li>\n",
    "            <li> `False` </li>\n",
    "            <li> `True` </li>\n",
    "            <li> `False` </li>\n",
    "            <li> `True` </li>\n",
    "        </ul>\n",
    "    </li>\n",
    "    <br>\n",
    "    <li> Write a program that takes in a positive integer from the user and prints out a countdown from that integer to zero. To keep things reasonable, make sure that the user cannot enter a positive integer higher than 50. </li>\n",
    "</ol>"
   ]
  },
  {
   "cell_type": "code",
   "execution_count": null,
   "metadata": {
    "scrolled": false
   },
   "outputs": [],
   "source": [
    "# Write your countdown program here.\n",
    "upper_limit = -1\n",
    "\n",
    "while upper_limit <= 0 or upper_limit > 50:\n",
    "    upper_limit = int(input('Please input a positive integer: '))\n",
    "\n",
    "for i in range(upper_limit + 1):\n",
    "    print(upper_limit - i)"
   ]
  },
  {
   "cell_type": "code",
   "execution_count": 93,
   "metadata": {},
   "outputs": [
    {
     "name": "stdout",
     "output_type": "stream",
     "text": [
      "Current floor is 0.\n",
      "There are 5 more stops to go.\n",
      "Current floor is 3.\n",
      "There are 4 more stops to go.\n",
      "Current floor is 4.\n",
      "There are 3 more stops to go.\n",
      "Current floor is 6.\n",
      "There are 2 more stops to go.\n",
      "Current floor is 10.\n",
      "There are 1 more stops to go.\n",
      "Current floor is 12.\n",
      "There are 0 more stops to go.\n"
     ]
    }
   ],
   "source": [
    "# Elevator program deluxe.\n",
    "\n",
    "current_floor = 0\n",
    "number_of_stops = 5\n",
    "\n",
    "# Floors are 3, 4, 6, 10, 12.\n",
    "\n",
    "TOP_FLOOR = 12\n",
    "\n",
    "for floor in range(TOP_FLOOR+1):\n",
    "    if floor is 3:\n",
    "        current_floor = floor\n",
    "        number_of_stops -= 1\n",
    "        print('Current floor is {}.'.format(current_floor))\n",
    "        print('There are {} more stops to go.'.format(number_of_stops))\n",
    "    elif floor is 4:\n",
    "        current_floor = floor\n",
    "        number_of_stops -= 1\n",
    "        print('Current floor is {}.'.format(current_floor))\n",
    "        print('There are {} more stops to go.'.format(number_of_stops))\n",
    "    elif floor is 6:\n",
    "        current_floor = floor\n",
    "        number_of_stops -= 1\n",
    "        print('Current floor is {}.'.format(current_floor))\n",
    "        print('There are {} more stops to go.'.format(number_of_stops))\n",
    "    elif floor is 10:\n",
    "        current_floor = floor\n",
    "        number_of_stops -= 1\n",
    "        print('Current floor is {}.'.format(current_floor))\n",
    "        print('There are {} more stops to go.'.format(number_of_stops))\n",
    "    elif floor is 12:\n",
    "        current_floor = floor\n",
    "        number_of_stops -= 1\n",
    "        print('Current floor is {}.'.format(current_floor))\n",
    "        print('There are {} more stops to go.'.format(number_of_stops))\n",
    "    elif floor is 0:\n",
    "        current_floor = floor\n",
    "        print('Current floor is {}.'.format(current_floor))\n",
    "        print('There are {} more stops to go.'.format(number_of_stops))"
   ]
  },
  {
   "cell_type": "markdown",
   "metadata": {},
   "source": [
    "That was good, but inefficient. Here's a more efficient way."
   ]
  },
  {
   "cell_type": "code",
   "execution_count": 95,
   "metadata": {},
   "outputs": [
    {
     "name": "stdout",
     "output_type": "stream",
     "text": [
      "Current floor is 0.\n",
      "There are 5 more stops to go.\n",
      "Current floor is 3.\n",
      "There are 4 more stops to go.\n",
      "Current floor is 4.\n",
      "There are 3 more stops to go.\n",
      "Current floor is 6.\n",
      "There are 2 more stops to go.\n",
      "Current floor is 10.\n",
      "There are 1 more stops to go.\n",
      "Current floor is 12.\n",
      "There are 0 more stops to go.\n"
     ]
    }
   ],
   "source": [
    "# Elevator program de-deluxe.\n",
    "\n",
    "current_floor = 0\n",
    "number_of_stops = 5\n",
    "\n",
    "# This is a list. We'll talk more about these next week.\n",
    "floors = [3, 4, 6, 10, 12]\n",
    "\n",
    "TOP_FLOOR = 12\n",
    "\n",
    "for floor in range(TOP_FLOOR+1):\n",
    "    if floor is 0:\n",
    "        current_floor = floor\n",
    "        print('Current floor is {}.'.format(current_floor))\n",
    "        print('There are {} more stops to go.'.format(number_of_stops))\n",
    "    if floor in floors:\n",
    "        current_floor = floor\n",
    "        number_of_stops -= 1\n",
    "        print('Current floor is {}.'.format(current_floor))\n",
    "        print('There are {} more stops to go.'.format(number_of_stops))"
   ]
  },
  {
   "cell_type": "code",
   "execution_count": 116,
   "metadata": {},
   "outputs": [
    {
     "name": "stdout",
     "output_type": "stream",
     "text": [
      "Please input the top floor: 13\n",
      "Welcome, please input the floor(s) you would like to visit.\n",
      "This building only has 13 floors.\n",
      "Input your choice(s) as a comma-separated list. Press <Enter> to enter. 5,6,7,14\n",
      "[5, 6, 7, 1, 4]\n"
     ]
    }
   ],
   "source": [
    "# Let's make the user input a bunch of values.\n",
    "top_floor = -20\n",
    "\n",
    "while (top_floor <= 0 or top_floor > 20) or type(top_floor) is type('anything'):\n",
    "    top_floor = int(input('Please input the top floor: '))\n",
    "\n",
    "print('Welcome, please input the floor(s) you would like to visit.')\n",
    "print('This building only has {} floors.'.format(top_floor))\n",
    "user_requests = list(input('Input your choice(s) as a comma-separated list. Press <Enter> to enter. '))\n",
    "\n",
    "requested_floors = []\n",
    "for request in user_requests:\n",
    "    if request is ',':\n",
    "        continue\n",
    "    requested_floors.append(int(request))\n",
    "\n",
    "print(requested_floors)"
   ]
  },
  {
   "cell_type": "markdown",
   "metadata": {},
   "source": [
    "This last implementation needs some work. The interpreter is reading in the list of user values as individual characters, which separates the number `14` into `1` and `4`. We'll talk about how to fix this next week."
   ]
  }
 ],
 "metadata": {
  "kernelspec": {
   "display_name": "Python 3",
   "language": "python",
   "name": "python3"
  },
  "language_info": {
   "codemirror_mode": {
    "name": "ipython",
    "version": 3
   },
   "file_extension": ".py",
   "mimetype": "text/x-python",
   "name": "python",
   "nbconvert_exporter": "python",
   "pygments_lexer": "ipython3",
   "version": "3.6.5"
  }
 },
 "nbformat": 4,
 "nbformat_minor": 2
}
