{
 "cells": [
  {
   "cell_type": "markdown",
   "metadata": {},
   "source": [
    "# ICT 781 - Week 3\n",
    "\n",
    "# Lists, Tuples, and Dictionaries\n",
    "\n",
    "When we last met, we discussed control statements in Python. One of the most important concepts from this discussion was the `for` loop. In particular, we looped using the `range()` function, which created an index variable for us. This index variable is intrinsic to three more of Python's most useful variable types: lists, tuples, and dictionaries. "
   ]
  },
  {
   "cell_type": "markdown",
   "metadata": {},
   "source": [
    "## Lists\n",
    "\n",
    "A list in Python is ... a list! It was not included in our first meeting on data types, since a list can *contain variables of the basic data types*. Before we go any further, let's see some examples of lists."
   ]
  },
  {
   "cell_type": "code",
   "execution_count": null,
   "metadata": {},
   "outputs": [],
   "source": [
    "list1 = []\n",
    "list2 = [1,2,3,4,5]\n",
    "list3 = ['Could ','you ','repeat ','the ','question','?']\n",
    "\n",
    "print(list1)\n",
    "print(list2)\n",
    "print(list3)"
   ]
  },
  {
   "cell_type": "markdown",
   "metadata": {},
   "source": [
    "In the previous example, `list` was an empty list. These are sometimes useful when you're not sure what you should put in a list at the outset. We'll have an example of this situation shortly. \n",
    "\n",
    "`list2` was a list of integers, and `list3` was a list of strings. However, we need not only focus our attention on Python lists of one data type. Unlike in C++, where a custom `struct` must be created to create a list of mixed data types, we can trivially initialize Python lists with multiple data types. Here is an example."
   ]
  },
  {
   "cell_type": "code",
   "execution_count": null,
   "metadata": {},
   "outputs": [],
   "source": [
    "list4 = [4, 'number', 56, 'string', '43.9877']\n",
    "\n",
    "print(list4)"
   ]
  },
  {
   "cell_type": "markdown",
   "metadata": {},
   "source": [
    "### List Indexing and Slicing\n",
    "\n",
    "Python lists are indexed starting from 0. The first element that we put in a list is given the index 0, so it really should be thought of as the 'zero-th' element.\n",
    "\n",
    "We can access the zero-th element of a list using the `[]` brackets."
   ]
  },
  {
   "cell_type": "code",
   "execution_count": null,
   "metadata": {},
   "outputs": [],
   "source": [
    "list5 = [5, 6, 7, 8, 12, 34]\n",
    "\n",
    "print(list5[0])"
   ]
  },
  {
   "cell_type": "markdown",
   "metadata": {},
   "source": [
    "In this manner, we can access the $j$th element of a list by using the syntax `list[<j>]`."
   ]
  },
  {
   "cell_type": "code",
   "execution_count": null,
   "metadata": {},
   "outputs": [],
   "source": [
    "print(list5[3])\n",
    "print(list5[4])\n",
    "print(list5[1])\n",
    "print(list5[6])"
   ]
  },
  {
   "cell_type": "markdown",
   "metadata": {},
   "source": [
    "Notice that error that we got when we tried the print the 6th element of `list5`. We know that there are 6 elements in the list, so why did we get an error? Zero-indexing! Sure, there are 6 elements in the list, but Python regards the last element as the 5th element."
   ]
  },
  {
   "cell_type": "markdown",
   "metadata": {},
   "source": [
    "We can get a range of list elements by **slicing**. This involves specifying a starting and ending index for the 'slice'. Let's make a simple list of 20 numbers. We'll use the built-in function `list()` to convert `range()` to a list (more on this next week)."
   ]
  },
  {
   "cell_type": "code",
   "execution_count": null,
   "metadata": {},
   "outputs": [],
   "source": [
    "num20 = list(range(20))\n",
    "print(num20)"
   ]
  },
  {
   "cell_type": "markdown",
   "metadata": {},
   "source": [
    "Now we'll slice just the list elements from the 5th to the 15th index, and print out what we get."
   ]
  },
  {
   "cell_type": "code",
   "execution_count": null,
   "metadata": {},
   "outputs": [],
   "source": [
    "print(num20[5:15])"
   ]
  },
  {
   "cell_type": "markdown",
   "metadata": {},
   "source": [
    "You can also select all list elements above or below a given index. For example, we can select all elements above the 5th index by slicing `num20[5:]`. Similarly, everything below the 15th index can be sliced with `num20[:15]`.\n",
    "\n",
    "Try these out to make sure they work!"
   ]
  },
  {
   "cell_type": "code",
   "execution_count": null,
   "metadata": {},
   "outputs": [],
   "source": [
    "# Your code here.\n"
   ]
  },
  {
   "cell_type": "markdown",
   "metadata": {},
   "source": [
    "### Lists as Mutable Variables\n",
    "\n",
    "Python lists are **mutable**, meaning the values of the elements of a list can be changed. In the list `num20`, we can change the jth index by a simple assignment statement."
   ]
  },
  {
   "cell_type": "code",
   "execution_count": null,
   "metadata": {},
   "outputs": [],
   "source": [
    "num20[4] = 6\n",
    "print(num20)"
   ]
  },
  {
   "cell_type": "markdown",
   "metadata": {},
   "source": [
    "Notice how the 4th element used to be `4`, but is now `6`. We can also reassign values of a list using slicing."
   ]
  },
  {
   "cell_type": "code",
   "execution_count": null,
   "metadata": {},
   "outputs": [],
   "source": [
    "num20 = list(range(20))\n",
    "\n",
    "num20[5:15] = list(range(10))\n",
    "print(num20)"
   ]
  },
  {
   "cell_type": "markdown",
   "metadata": {},
   "source": [
    "If you want to access the final element in a list, you don't need to specify the index. You can access it by using the `-1` index."
   ]
  },
  {
   "cell_type": "code",
   "execution_count": null,
   "metadata": {},
   "outputs": [],
   "source": [
    "colours = ['green', 'blue', 'yellow', 'red', 'orange']\n",
    "\n",
    "print(colours[-1])"
   ]
  },
  {
   "cell_type": "markdown",
   "metadata": {},
   "source": [
    "### Creating String Variables from a List of Strings\n",
    "\n",
    "Another use of lists is using string methods to put a list of strings into a single string. Here is an example. In this example, we use `join` to combine the list of strings into an empty string."
   ]
  },
  {
   "cell_type": "code",
   "execution_count": null,
   "metadata": {},
   "outputs": [],
   "source": [
    "string_list = ['User ', 'name ', 'Duke ','Nukem ', 'already ', 'exists.']\n",
    "string_combined = ''.join(string_list)\n",
    "\n",
    "print(string_combined)"
   ]
  },
  {
   "cell_type": "markdown",
   "metadata": {},
   "source": [
    "### Lists of Lists\n",
    "\n",
    "In later situations, it may be convenient to have a list with lists as elements. In this case, the indexing works in the same way, but with a second index to specify the index of the internal list. Here's an example."
   ]
  },
  {
   "cell_type": "code",
   "execution_count": null,
   "metadata": {},
   "outputs": [],
   "source": [
    "party_plan = [['Darlene','Arlene','Marlene'],['Harry','Mary','Barry']]\n",
    "\n",
    "# Print the zeroth list in our list.\n",
    "print(party_plan[0])\n",
    "\n",
    "# Print the zeroth element of the zeroth list in our list.\n",
    "print(party_plan[0][0])\n",
    "\n",
    "print(party_plan[1])\n",
    "print(party_plan[1][2])"
   ]
  },
  {
   "cell_type": "markdown",
   "metadata": {},
   "source": [
    "You can have many lists inside of lists, though we'll talk about better ways to store data in the coming weeks. If you do want to store data with nested lists, the indexing works by the same pattern as the above."
   ]
  },
  {
   "cell_type": "code",
   "execution_count": null,
   "metadata": {},
   "outputs": [],
   "source": [
    "aliases = [[['El Diablo','Pirate','Scarface'],['Miller','Notorious','Bigfoot']],[['Harvey','Irene','Katrina'],['Lock','Stock','Bock']]]\n",
    "\n",
    "print(aliases[0][1][1])"
   ]
  },
  {
   "cell_type": "markdown",
   "metadata": {},
   "source": [
    "### Lists and Iteration\n",
    "\n",
    "We can iterate through lists using the index as the iteration variable and the `len()` method of the list variable as the upper range limit. Here is a simple `for` loop that iterates through and prints every element of a list."
   ]
  },
  {
   "cell_type": "code",
   "execution_count": null,
   "metadata": {
    "scrolled": true
   },
   "outputs": [],
   "source": [
    "hats = ['fedora','trilby','stetson','bowler','cap','beanie']\n",
    "\n",
    "for i in range(len(hats)):\n",
    "    print(hats[i])"
   ]
  },
  {
   "cell_type": "markdown",
   "metadata": {},
   "source": [
    "This method works well, but it doesn't utilize the full power of Python. In Python, a list is referred to as an **iterable**, roughly meaning its elements can be used as iteration indices in loops. In other words, rather than iterating over an integer index `i`, we can just iterate over the elements themselves."
   ]
  },
  {
   "cell_type": "code",
   "execution_count": null,
   "metadata": {
    "scrolled": true
   },
   "outputs": [],
   "source": [
    "for hat in hats:\n",
    "    print(hat)"
   ]
  },
  {
   "cell_type": "markdown",
   "metadata": {},
   "source": [
    "### List Methods\n",
    "\n",
    "Yes, lists are objects too. There are a few list methods that you should know. Rather than list them here, let's explore them through examples."
   ]
  },
  {
   "cell_type": "code",
   "execution_count": null,
   "metadata": {
    "scrolled": true
   },
   "outputs": [],
   "source": [
    "g = ['5','6']\n",
    "print(g)\n",
    "\n",
    "# Add an element to the end of the list.\n",
    "g.append('7')\n",
    "print(g)\n",
    "\n",
    "# Remove an element by name.\n",
    "g.remove('5')\n",
    "print(g)\n",
    "\n",
    "# Remove an element by index.\n",
    "g.pop(0)\n",
    "print(g)\n",
    "\n",
    "# Add several elements to the end of the list.\n",
    "g += ['4','5','3','1']\n",
    "print(g)\n",
    "\n",
    "# Check the length of the list.\n",
    "print(len(g))\n",
    "\n",
    "# Sort the list. This isn't a list method, but it's very useful!\n",
    "print(sorted(g))"
   ]
  },
  {
   "cell_type": "markdown",
   "metadata": {},
   "source": [
    "### Strings as Lists\n",
    "\n",
    "Before we move on, we'll quickly mention that strings are considered lists of characters, and can be sliced and indexed just as a list can."
   ]
  },
  {
   "cell_type": "code",
   "execution_count": null,
   "metadata": {},
   "outputs": [],
   "source": [
    "the_word = 'bird'\n",
    "\n",
    "print(the_word[1])\n",
    "print(the_word[1:3])"
   ]
  },
  {
   "cell_type": "markdown",
   "metadata": {},
   "source": [
    "## Tuples\n",
    "\n",
    "In Python, a **tuple** is a comma-separated list that is **immutable**. This means that elements of a tuple cannot be reassigned. We also don't use the `[]` brackets when we assign values to a tuple variable. Here is an example."
   ]
  },
  {
   "cell_type": "code",
   "execution_count": null,
   "metadata": {},
   "outputs": [],
   "source": [
    "gpa_list = 4.0, 3.2, 2.9, 3.6, 1.8, 3.2, 3.7, 2.5, 2.7\n",
    "print(gpa_list)\n",
    "\n",
    "gpa_list[4] = 4.0"
   ]
  },
  {
   "cell_type": "markdown",
   "metadata": {},
   "source": [
    "If we want to change a value of a tuple, we can access it by its index and create a new variable. We use the `+` operator to join the tuples together."
   ]
  },
  {
   "cell_type": "code",
   "execution_count": null,
   "metadata": {},
   "outputs": [],
   "source": [
    "gpa_list = 4.0, 3.2, 2.9, 3.6, 1.8, 3.2, 3.7, 2.5, 2.7\n",
    "gpa_list1 = gpa_list[0:3] + (4.0,) + gpa_list[5:]\n",
    "\n",
    "print(gpa_list1)"
   ]
  },
  {
   "cell_type": "markdown",
   "metadata": {},
   "source": [
    "We can assign variables in tuples as well."
   ]
  },
  {
   "cell_type": "code",
   "execution_count": null,
   "metadata": {},
   "outputs": [],
   "source": [
    "a, b, c = 4, 5, 6\n",
    "\n",
    "print(a)\n",
    "print(a, b, c)"
   ]
  },
  {
   "cell_type": "markdown",
   "metadata": {},
   "source": [
    "Tuples are also used to swap values without using temporary variables. A tuple makes the intention behind swapping the variables clear."
   ]
  },
  {
   "cell_type": "code",
   "execution_count": null,
   "metadata": {},
   "outputs": [],
   "source": [
    "x, y = 24.3, 54\n",
    "print(x,y)\n",
    "\n",
    "# Swapping with a temporary variable creates an unnecessary variable.\n",
    "temp = x\n",
    "x = y \n",
    "y = temp\n",
    "print(x,y)\n",
    "\n",
    "print('\\nNow the Pythonic way:')\n",
    "\n",
    "x, y = 24.3, 54\n",
    "print(x,y)\n",
    "\n",
    "x, y = y, x\n",
    "print(x,y)"
   ]
  },
  {
   "cell_type": "markdown",
   "metadata": {},
   "source": [
    "## Dictionaries\n",
    "\n",
    "This data structure can be confusing at first, but a dictionary in Python works exactly like a dictionary in an English class. A Python dictionary contains **keys** and **values**, is mutable and iterable, and is unordered. Therefore, it doesn't matter what order you enter key and value pairs into your dictionary.\n",
    "\n",
    "Dictionaries are declared using the `{}` brackets. Key and value pairs are separated by the `:` symbol.\n",
    "\n",
    "Let's make a dictionary for translating some English words into French."
   ]
  },
  {
   "cell_type": "code",
   "execution_count": null,
   "metadata": {},
   "outputs": [],
   "source": [
    "english_to_french = {'red': 'rouge',\n",
    "                     'yellow': 'jaune',\n",
    "                     'green': 'vert',\n",
    "                     'blue': 'bleu',\n",
    "                     'pink': 'rose',\n",
    "                     'white': 'blanc'}\n",
    "\n",
    "print(english_to_french)"
   ]
  },
  {
   "cell_type": "markdown",
   "metadata": {},
   "source": [
    "Dictionaries are mutable, so we can change the value for a given key. If we want to change a key, however, it would be best to simply create a new key and value pair and delete the old key.\n",
    "\n",
    "Dictionary values are accessed through their keys. So, if you want to access a value, you use the key for that value exactly as you would the index for a list element with the `[]` brackets.\n",
    "\n",
    "Without trying to destory the French language, let's manipulate our English-French dictionary a bit."
   ]
  },
  {
   "cell_type": "code",
   "execution_count": null,
   "metadata": {},
   "outputs": [],
   "source": [
    "print(english_to_french['red'])\n",
    "\n",
    "english_to_french['red'] = 'rojo'\n",
    "print(english_to_french)\n",
    "\n",
    "# Oops! We just changed languages! Let's change it back. Also, let's include purple in our dictionary.\n",
    "english_to_french['red'] = 'rouge'\n",
    "english_to_french['purple'] = 'violet'\n",
    "\n",
    "print(english_to_french)"
   ]
  },
  {
   "cell_type": "markdown",
   "metadata": {},
   "source": [
    "Notice how adding a key/value pair to the dictionary was done. All we had to do was declare a new key and set its value. This is different than the syntax to declare a dictionary in the beginning, so make sure the distinction is clear.\n",
    "\n",
    "If we want to remove an unwanted key/value pair, we can use the `del` command. **Use the `del` command responsibly!** You must always use caution when deleting things in Python, since certain modules and packages allow access to the operating system!"
   ]
  },
  {
   "cell_type": "code",
   "execution_count": null,
   "metadata": {},
   "outputs": [],
   "source": [
    "english_to_french['garbanzo'] = 'chick peas'\n",
    "print(english_to_french)\n",
    "\n",
    "# We don't want foods in our dictionary, only colours, so we'll remove the garbanzo for now.\n",
    "del english_to_french['garbanzo']\n",
    "print(english_to_french)"
   ]
  },
  {
   "cell_type": "markdown",
   "metadata": {},
   "source": [
    "### Dictionary Methods\n",
    "\n",
    "Yes, I'll repeat it again: everything in Python is an object. This means that dictionaries have methods just as strings and lists. Here's a list of some commonly used dictionary methods.\n",
    "\n",
    "|Method|Use|\n",
    "|---|---|\n",
    "|`keys()`|Access all keys in the dictionary|\n",
    "|`values()`|Access all values in the dictionary|\n",
    "|`items()`|Access all key/value pairs in the dictionary as a list of tuples|\n",
    "|`get(<key>)`|Access the value of the key in the argument|"
   ]
  },
  {
   "cell_type": "code",
   "execution_count": null,
   "metadata": {},
   "outputs": [],
   "source": [
    "print(english_to_french.keys())\n",
    "print(english_to_french.values())\n",
    "print(english_to_french.items())\n",
    "print(english_to_french.get('white'))"
   ]
  },
  {
   "cell_type": "markdown",
   "metadata": {},
   "source": [
    "## List Comprehensions\n"
   ]
  },
  {
   "cell_type": "markdown",
   "metadata": {},
   "source": [
    "There are some situations in which iterating through list elements in a `for` or a `while` loop is unavoidable. However, there are also times where it is unnecessary in Python. In these situations, we use **list comprehensions**. Perhaps you've heard of these or seen them used in coding forums online. Their purpose is to utilize the power of iterables in Python.\n",
    "\n",
    "To see what a list comprehension is, let's first create a list with a `for` loop. We'll make a list of the first 10 integers squared."
   ]
  },
  {
   "cell_type": "code",
   "execution_count": null,
   "metadata": {},
   "outputs": [],
   "source": [
    "squares = []\n",
    "\n",
    "for i in range(1,11):\n",
    "    squares.append(i*i)\n",
    "    \n",
    "print(squares)"
   ]
  },
  {
   "cell_type": "markdown",
   "metadata": {},
   "source": [
    "That was relatively painless, but it can be done even more simply with a list comprehension."
   ]
  },
  {
   "cell_type": "code",
   "execution_count": null,
   "metadata": {},
   "outputs": [],
   "source": [
    "squares = [i*i for i in range(1,11)]\n",
    "print(squares)"
   ]
  },
  {
   "cell_type": "markdown",
   "metadata": {},
   "source": [
    "The general syntax for a list comprehension is `var = [<condition> for index in iterable]`. Let's see a few more to get more used to this idea."
   ]
  },
  {
   "cell_type": "code",
   "execution_count": null,
   "metadata": {},
   "outputs": [],
   "source": [
    "# Make a list of the square roots of the first 10 integers.\n",
    "roots = [i**0.5 for i in range(1,11)]\n",
    "print(roots)"
   ]
  },
  {
   "cell_type": "code",
   "execution_count": null,
   "metadata": {},
   "outputs": [],
   "source": [
    "# Change a list of strings to upper case.\n",
    "names = ['gilbert','sullivan','puccini','verdi','peri','gershwin','berlin']\n",
    "\n",
    "caps_on = [name.upper() for name in names]\n",
    "print(caps_on)"
   ]
  },
  {
   "cell_type": "code",
   "execution_count": null,
   "metadata": {},
   "outputs": [],
   "source": [
    "# Create a list of booleans depending on whether a number is positive or negative. True ~ positive and False ~ negative.\n",
    "nums = [(-1)**n*n for n in range(30)]\n",
    "print(nums)\n",
    "\n",
    "bools = [x >= 0 for x in nums]\n",
    "print(bools)"
   ]
  },
  {
   "cell_type": "markdown",
   "metadata": {},
   "source": [
    "## Dictionary Comprehensions\n",
    "\n",
    "Dictionary comprehensions are very similar to list comprehensions. One difference is that the keys should be taken from a list. Also, instead of using a condition as in the list comprehension, you use `key: value`. Therefore, the syntax becomes `dct = {key: value for key in list}`.\n",
    "\n",
    "Let's see an example using the `names` list we created above."
   ]
  },
  {
   "cell_type": "code",
   "execution_count": null,
   "metadata": {},
   "outputs": [],
   "source": [
    "dct_names = {name: name for name in names}\n",
    "print(dct_names)"
   ]
  },
  {
   "cell_type": "markdown",
   "metadata": {},
   "source": [
    "You might feel disappointed in that last example. We don't need to set key:value pairs to be identical. The way to get around that is with a built-in Python function: the `zip()` function.\n",
    "\n",
    "### The `zip()` Function\n",
    "\n",
    "The `zip()` function takes in two lists of equal length and returns an iterable of tuples. The elements of the tuples are elements from the two argument lists, but they have the same indices. To make this more concrete, let's see an example."
   ]
  },
  {
   "cell_type": "code",
   "execution_count": null,
   "metadata": {},
   "outputs": [],
   "source": [
    "pseudonyms = ['Carroll','Orwell','Seuss','Eliot']\n",
    "real_names = ['Dodgson','Blair','Geisel','Evans']\n",
    "\n",
    "print(list(zip(pseudonyms, real_names)))"
   ]
  },
  {
   "cell_type": "markdown",
   "metadata": {},
   "source": [
    "To see the actual iterable that `zip()` created, we needed to first put the output of the `zip()` function into a list. Now let's use a dictionary comprehension to make a dictionary of these famous authors and their real last names."
   ]
  },
  {
   "cell_type": "code",
   "execution_count": null,
   "metadata": {},
   "outputs": [],
   "source": [
    "authors = {real: pen for real, pen in zip(real_names, pseudonyms)}\n",
    "print(authors)"
   ]
  },
  {
   "cell_type": "markdown",
   "metadata": {},
   "source": [
    "# *Exercises*\n",
    "\n",
    "<ol>\n",
    "    <li> For the list in the code below, use list slicing to access the numbers between 34 and 75 inclusive. Save the result into a new list. </li>\n",
    "</ol>"
   ]
  },
  {
   "cell_type": "code",
   "execution_count": null,
   "metadata": {},
   "outputs": [],
   "source": [
    "numbers = list(range(3,98))\n",
    "# Your code here.\n"
   ]
  },
  {
   "cell_type": "markdown",
   "metadata": {},
   "source": [
    "<ol start='2'>\n",
    "    <li> Use a custom `range()` to make a list of negative integers. Count by threes (start at 0, then 3, then 6, etc). </li>\n",
    "</ol>"
   ]
  },
  {
   "cell_type": "code",
   "execution_count": null,
   "metadata": {},
   "outputs": [],
   "source": [
    "# Your code here.\n"
   ]
  },
  {
   "cell_type": "markdown",
   "metadata": {},
   "source": [
    "<ol start='3'>\n",
    "    <li> In the code cell below, a grocery store's inventory is declared as a dictionary. Write a program to count up all of the items in the inventory. </li>\n",
    "</ol>"
   ]
  },
  {
   "cell_type": "code",
   "execution_count": null,
   "metadata": {},
   "outputs": [],
   "source": [
    "inventory = {'bananas': 34, 'apples': 142, 'oranges': 57, 'watermelons': 12, 'avocados': 32, 'yams': 22, 'turkeys': 1}\n",
    "# Your code here.\n"
   ]
  },
  {
   "cell_type": "markdown",
   "metadata": {},
   "source": [
    "<ol start='4'>\n",
    "    <li> Add the following items to the store inventory: 45 loaves of bread, 61 cakes, 98 bottles of milk, and 120 boxes of cereal. </li>\n",
    "</ol>"
   ]
  },
  {
   "cell_type": "code",
   "execution_count": null,
   "metadata": {},
   "outputs": [],
   "source": [
    "# Your code here.\n"
   ]
  },
  {
   "cell_type": "markdown",
   "metadata": {},
   "source": [
    "<ol start ='5'>\n",
    "    <li> Using what we've covered so far, write a program to allow the user to enter new items into the store inventory. </li>\n",
    "    <li> As an extension, allow the user to also remove quantities of items from the inventory. Make sure that the inventory is never negative! </li>\n",
    "</ol>"
   ]
  },
  {
   "cell_type": "code",
   "execution_count": null,
   "metadata": {},
   "outputs": [],
   "source": [
    "# Your code here.\n"
   ]
  }
 ],
 "metadata": {
  "kernelspec": {
   "display_name": "Python 3",
   "language": "python",
   "name": "python3"
  },
  "language_info": {
   "codemirror_mode": {
    "name": "ipython",
    "version": 3
   },
   "file_extension": ".py",
   "mimetype": "text/x-python",
   "name": "python",
   "nbconvert_exporter": "python",
   "pygments_lexer": "ipython3",
   "version": "3.6.5"
  }
 },
 "nbformat": 4,
 "nbformat_minor": 2
}
