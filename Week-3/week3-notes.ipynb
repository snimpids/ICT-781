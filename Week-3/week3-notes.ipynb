{
 "cells": [
  {
   "cell_type": "markdown",
   "metadata": {},
   "source": [
    "# ICT 781 - Week 3\n",
    "\n",
    "# Lists, Tuples, and Dictionaries\n",
    "\n",
    "When we last met, we discussed control statements in Python. One of the most important concepts from this discussion was the `for` loop. In particular, we looped using the `range()` function, which created an index variable for us. This index variable is intrinsic to three more of Python's most useful variable types: lists, tuples, and dictionaries. "
   ]
  },
  {
   "cell_type": "code",
   "execution_count": 1,
   "metadata": {},
   "outputs": [],
   "source": [
    "for i in range(5):\n",
    "    # do some task here\n",
    "    pass"
   ]
  },
  {
   "cell_type": "markdown",
   "metadata": {},
   "source": [
    "## Lists\n",
    "\n",
    "A list in Python is ... a list! It was not included in our first meeting on data types, since a list can *contain variables of the basic data types*. Before we go any further, let's see some examples of lists."
   ]
  },
  {
   "cell_type": "code",
   "execution_count": 2,
   "metadata": {},
   "outputs": [
    {
     "name": "stdout",
     "output_type": "stream",
     "text": [
      "[]\n",
      "[1, 2, 3, 4, 5]\n",
      "['Could ', 'you ', 'repeat ', 'the ', 'question', '?']\n"
     ]
    }
   ],
   "source": [
    "list1 = []\n",
    "list2 = [1,2,3,4,5]\n",
    "list3 = ['Could ','you ','repeat ','the ','question','?']\n",
    "\n",
    "print(list1)\n",
    "print(list2)\n",
    "print(list3)"
   ]
  },
  {
   "cell_type": "markdown",
   "metadata": {},
   "source": [
    "In the previous example, `list` was an empty list. These are sometimes useful when you're not sure what you should put in a list at the outset. We'll have an example of this situation shortly. \n",
    "\n",
    "`list2` was a list of integers, and `list3` was a list of strings. However, we need not only focus our attention on Python lists of one data type. Unlike in C++, where a custom `struct` must be created to create a list of mixed data types, we can trivially initialize Python lists with multiple data types. Here is an example."
   ]
  },
  {
   "cell_type": "code",
   "execution_count": 4,
   "metadata": {},
   "outputs": [
    {
     "name": "stdout",
     "output_type": "stream",
     "text": [
      "[4, 'number', 56, 'string', '43.9877', 56.100009, True, False]\n"
     ]
    }
   ],
   "source": [
    "list4 = [4, 'number', 56, 'string', '43.9877', 56.100009, True, False]\n",
    "\n",
    "print(list4)"
   ]
  },
  {
   "cell_type": "markdown",
   "metadata": {},
   "source": [
    "### List Indexing and Slicing\n",
    "\n",
    "Python lists are indexed starting from 0. The first element that we put in a list is given the index 0, so it really should be thought of as the 'zero-th' element.\n",
    "\n",
    "We can access the zero-th element of a list using the `[]` brackets."
   ]
  },
  {
   "cell_type": "code",
   "execution_count": 6,
   "metadata": {},
   "outputs": [
    {
     "name": "stdout",
     "output_type": "stream",
     "text": [
      "0\n",
      "1\n",
      "2\n",
      "3\n",
      "4\n"
     ]
    }
   ],
   "source": [
    "for i in range(5):\n",
    "    print(i)"
   ]
  },
  {
   "cell_type": "code",
   "execution_count": 8,
   "metadata": {},
   "outputs": [
    {
     "name": "stdout",
     "output_type": "stream",
     "text": [
      "8\n"
     ]
    }
   ],
   "source": [
    "list5 = [5, 6, 7, 8, 12, 34]\n",
    "\n",
    "print(list5[3])"
   ]
  },
  {
   "cell_type": "markdown",
   "metadata": {},
   "source": [
    "In this manner, we can access the $j$th element of a list by using the syntax `list[<j>]`."
   ]
  },
  {
   "cell_type": "code",
   "execution_count": 9,
   "metadata": {},
   "outputs": [
    {
     "name": "stdout",
     "output_type": "stream",
     "text": [
      "8\n",
      "12\n",
      "6\n"
     ]
    },
    {
     "ename": "IndexError",
     "evalue": "list index out of range",
     "output_type": "error",
     "traceback": [
      "\u001b[0;31m---------------------------------------------------------------------------\u001b[0m",
      "\u001b[0;31mIndexError\u001b[0m                                Traceback (most recent call last)",
      "\u001b[0;32m<ipython-input-9-4eaeaaa5693b>\u001b[0m in \u001b[0;36m<module>\u001b[0;34m()\u001b[0m\n\u001b[1;32m      2\u001b[0m \u001b[0mprint\u001b[0m\u001b[0;34m(\u001b[0m\u001b[0mlist5\u001b[0m\u001b[0;34m[\u001b[0m\u001b[0;36m4\u001b[0m\u001b[0;34m]\u001b[0m\u001b[0;34m)\u001b[0m\u001b[0;34m\u001b[0m\u001b[0m\n\u001b[1;32m      3\u001b[0m \u001b[0mprint\u001b[0m\u001b[0;34m(\u001b[0m\u001b[0mlist5\u001b[0m\u001b[0;34m[\u001b[0m\u001b[0;36m1\u001b[0m\u001b[0;34m]\u001b[0m\u001b[0;34m)\u001b[0m\u001b[0;34m\u001b[0m\u001b[0m\n\u001b[0;32m----> 4\u001b[0;31m \u001b[0mprint\u001b[0m\u001b[0;34m(\u001b[0m\u001b[0mlist5\u001b[0m\u001b[0;34m[\u001b[0m\u001b[0;36m6\u001b[0m\u001b[0;34m]\u001b[0m\u001b[0;34m)\u001b[0m\u001b[0;34m\u001b[0m\u001b[0m\n\u001b[0m",
      "\u001b[0;31mIndexError\u001b[0m: list index out of range"
     ]
    }
   ],
   "source": [
    "print(list5[3])\n",
    "print(list5[4])\n",
    "print(list5[1])\n",
    "print(list5[6])"
   ]
  },
  {
   "cell_type": "markdown",
   "metadata": {},
   "source": [
    "Notice that error that we got when we tried the print the 6th element of `list5`. We know that there are 6 elements in the list, so why did we get an error? Zero-indexing! Sure, there are 6 elements in the list, but Python regards the last element as the 5th element."
   ]
  },
  {
   "cell_type": "markdown",
   "metadata": {},
   "source": [
    "We can get a range of list elements by **slicing**. This involves specifying a starting and ending index for the 'slice'. Let's make a simple list of 20 numbers. We'll use the built-in function `list()` to convert `range()` to a list (more on this next week)."
   ]
  },
  {
   "cell_type": "code",
   "execution_count": 15,
   "metadata": {},
   "outputs": [
    {
     "name": "stdout",
     "output_type": "stream",
     "text": [
      "[0, 1, 2, 3, 4, 5, 6, 7, 8, 9, 10, 11, 12, 13, 14, 15, 16, 17, 18, 19]\n"
     ]
    }
   ],
   "source": [
    "num20 = list(range(20))\n",
    "print(num20)"
   ]
  },
  {
   "cell_type": "markdown",
   "metadata": {},
   "source": [
    "Now we'll slice just the list elements from the 5th to the 15th index, and print out what we get."
   ]
  },
  {
   "cell_type": "code",
   "execution_count": 17,
   "metadata": {},
   "outputs": [
    {
     "name": "stdout",
     "output_type": "stream",
     "text": [
      "[5, 6, 7, 8, 9, 10, 11, 12, 13, 14]\n"
     ]
    }
   ],
   "source": [
    "print(num20[5:15])"
   ]
  },
  {
   "cell_type": "code",
   "execution_count": 18,
   "metadata": {},
   "outputs": [
    {
     "name": "stdout",
     "output_type": "stream",
     "text": [
      "[6, 7, 8, 9, 10, 11, 12, 13, 14, 15]\n"
     ]
    }
   ],
   "source": [
    "# This can be confusing, especially if our list doesn't start at 0.\n",
    "num21 = list(range(1,21))\n",
    "print(num21[5:15])"
   ]
  },
  {
   "cell_type": "markdown",
   "metadata": {},
   "source": [
    "You can also select all list elements above or below a given index. For example, we can select all elements above the 5th index by slicing `num20[5:]`. Similarly, everything below the 15th index can be sliced with `num20[:15]`.\n",
    "\n",
    "Try these out to make sure they work!"
   ]
  },
  {
   "cell_type": "code",
   "execution_count": 19,
   "metadata": {},
   "outputs": [
    {
     "name": "stdout",
     "output_type": "stream",
     "text": [
      "[5, 6, 7, 8, 9, 10, 11, 12, 13, 14, 15, 16, 17, 18, 19]\n",
      "[0, 1, 2, 3, 4, 5, 6, 7, 8, 9, 10, 11, 12, 13, 14]\n"
     ]
    }
   ],
   "source": [
    "# Your code here.\n",
    "print(num20[5:])\n",
    "print(num20[:15])"
   ]
  },
  {
   "cell_type": "markdown",
   "metadata": {},
   "source": [
    "### Lists as Mutable Variables\n",
    "\n",
    "Python lists are **mutable**, meaning the values of the elements of a list can be changed. In the list `num20`, we can change the jth index by a simple assignment statement."
   ]
  },
  {
   "cell_type": "code",
   "execution_count": 20,
   "metadata": {},
   "outputs": [
    {
     "name": "stdout",
     "output_type": "stream",
     "text": [
      "[0, 1, 2, 3, 6, 5, 6, 7, 8, 9, 10, 11, 12, 13, 14, 15, 16, 17, 18, 19]\n"
     ]
    }
   ],
   "source": [
    "num20[4] = 6\n",
    "print(num20)"
   ]
  },
  {
   "cell_type": "markdown",
   "metadata": {},
   "source": [
    "Notice how the 4th element used to be `4`, but is now `6`. We can also reassign values of a list using slicing."
   ]
  },
  {
   "cell_type": "code",
   "execution_count": 21,
   "metadata": {},
   "outputs": [
    {
     "name": "stdout",
     "output_type": "stream",
     "text": [
      "[0, 1, 2, 3, 4, 0, 1, 2, 3, 4, 5, 6, 7, 8, 9, 15, 16, 17, 18, 19]\n"
     ]
    }
   ],
   "source": [
    "num20 = list(range(20))\n",
    "\n",
    "num20[5:15] = list(range(10))\n",
    "print(num20)"
   ]
  },
  {
   "cell_type": "markdown",
   "metadata": {},
   "source": [
    "If you want to access the final element in a list, you don't need to specify the index. You can access it by using the `-1` index."
   ]
  },
  {
   "cell_type": "code",
   "execution_count": 28,
   "metadata": {},
   "outputs": [
    {
     "name": "stdout",
     "output_type": "stream",
     "text": [
      "orange\n"
     ]
    }
   ],
   "source": [
    "colours = ['green', 'blue', 'yellow', 'red', 'orange']\n",
    "\n",
    "print(colours[-1])"
   ]
  },
  {
   "cell_type": "markdown",
   "metadata": {},
   "source": [
    "### Creating String Variables from a List of Strings\n",
    "\n",
    "Another use of lists is using string methods to put a list of strings into a single string. Here is an example. In this example, we use `join` to combine the list of strings into an empty string."
   ]
  },
  {
   "cell_type": "code",
   "execution_count": 31,
   "metadata": {},
   "outputs": [
    {
     "name": "stdout",
     "output_type": "stream",
     "text": [
      "User name Duke Nukem already exists.\n"
     ]
    }
   ],
   "source": [
    "string_list = ['User ', 'name ', 'Duke ','Nukem ', 'already ', 'exists.']\n",
    "\n",
    "empty_string = ''\n",
    "string_combined = empty_string.join(string_list)\n",
    "\n",
    "print(string_combined)"
   ]
  },
  {
   "cell_type": "code",
   "execution_count": 36,
   "metadata": {},
   "outputs": [
    {
     "name": "stdout",
     "output_type": "stream",
     "text": [
      "19\n"
     ]
    }
   ],
   "source": [
    "# Question about backing up or skipping forward in a for loop.\n",
    "\n",
    "for i in range(0,20,3):\n",
    "    \"\"\" Increment by 3 on every iteration. \"\"\"\n",
    "    print(i)\n",
    "\n",
    "for i in range(20,0,-1):\n",
    "    \"\"\" Increment backwards by 1 on every iteration. \"\"\"\n",
    "    print(i)\n",
    "    \n",
    "for i in range(20):\n",
    "    \"\"\" Don't print any index less than or equal to 18. \"\"\"\n",
    "    if i <= 18:\n",
    "        continue\n",
    "    print(i)"
   ]
  },
  {
   "cell_type": "markdown",
   "metadata": {},
   "source": [
    "**Note:** In Jupyter, to toggle multi-line comments, i.e. to comment many lines at once, highlight the code you want to comment and press `Ctrl + /`."
   ]
  },
  {
   "cell_type": "markdown",
   "metadata": {},
   "source": [
    "### Lists of Lists\n",
    "\n",
    "In later situations, it may be convenient to have a list with lists as elements. In this case, the indexing works in the same way, but with a second index to specify the index of the internal list. Here's an example."
   ]
  },
  {
   "cell_type": "code",
   "execution_count": 40,
   "metadata": {},
   "outputs": [
    {
     "name": "stdout",
     "output_type": "stream",
     "text": [
      "['Darlene', 'Arlene', 'Marlene']\n",
      "Darlene\n",
      "['Harry', 'Mary', 'Barry']\n",
      "Barry\n"
     ]
    }
   ],
   "source": [
    "party_plan = [['Darlene','Arlene','Marlene'],['Harry','Mary','Barry']]\n",
    "\n",
    "# Print the zeroth list in our list.\n",
    "print(party_plan[0])\n",
    "\n",
    "# Print the zeroth element of the zeroth list in our list.\n",
    "print(party_plan[0][0])\n",
    "\n",
    "print(party_plan[1])\n",
    "print(party_plan[1][2])"
   ]
  },
  {
   "cell_type": "markdown",
   "metadata": {},
   "source": [
    "You can have many lists inside of lists, though we'll talk about better ways to store data in the coming weeks. If you do want to store data with nested lists, the indexing works by the same pattern as the above."
   ]
  },
  {
   "cell_type": "code",
   "execution_count": 42,
   "metadata": {},
   "outputs": [
    {
     "name": "stdout",
     "output_type": "stream",
     "text": [
      "Notorious\n"
     ]
    }
   ],
   "source": [
    "aliases = [[['El Diablo','Pirate','Scarface'],['Miller','Notorious','Bigfoot']],[['Harvey','Irene','Katrina'],['Lock','Stock','Bock']]]\n",
    "\n",
    "print(aliases[0][1][1])"
   ]
  },
  {
   "cell_type": "markdown",
   "metadata": {},
   "source": [
    "### Lists and Iteration\n",
    "\n",
    "We can iterate through lists using the index as the iteration variable and the `len()` method of the list variable as the upper range limit. Here is a simple `for` loop that iterates through and prints every element of a list."
   ]
  },
  {
   "cell_type": "code",
   "execution_count": 43,
   "metadata": {
    "scrolled": true
   },
   "outputs": [
    {
     "name": "stdout",
     "output_type": "stream",
     "text": [
      "fedora\n",
      "trilby\n",
      "stetson\n",
      "bowler\n",
      "cap\n",
      "beanie\n"
     ]
    }
   ],
   "source": [
    "hats = ['fedora','trilby','stetson','bowler','cap','beanie']\n",
    "\n",
    "for i in range(len(hats)):\n",
    "    print(hats[i])"
   ]
  },
  {
   "cell_type": "markdown",
   "metadata": {},
   "source": [
    "This method works well, but it doesn't utilize the full power of Python. In Python, a list is referred to as an **iterable**, roughly meaning its elements can be used as iteration indices in loops. In other words, rather than iterating over an integer index `i`, we can just iterate over the elements themselves."
   ]
  },
  {
   "cell_type": "code",
   "execution_count": 48,
   "metadata": {
    "scrolled": true
   },
   "outputs": [
    {
     "name": "stdout",
     "output_type": "stream",
     "text": [
      "fedora\n",
      "trilby\n",
      "stetson\n",
      "bowler\n",
      "cap\n",
      "beanie\n"
     ]
    }
   ],
   "source": [
    "# Best practice in Python.\n",
    "for i in hats:\n",
    "    print(i)"
   ]
  },
  {
   "cell_type": "markdown",
   "metadata": {},
   "source": [
    "### List Methods\n",
    "\n",
    "Yes, lists are objects too. There are a few list methods that you should know. Rather than list them here, let's explore them through examples."
   ]
  },
  {
   "cell_type": "code",
   "execution_count": 68,
   "metadata": {
    "scrolled": true
   },
   "outputs": [
    {
     "name": "stdout",
     "output_type": "stream",
     "text": [
      "['5', '6']\n",
      "['5', '6', '7']\n",
      "['6', '7']\n",
      "['7']\n",
      "['7', '4', '5', '3', '1']\n",
      "5\n",
      "['1', '3', '4', '5', '7']\n",
      "59\n",
      "1071.9001\n",
      "46\n",
      "46\n"
     ]
    }
   ],
   "source": [
    "g = ['5','6']\n",
    "print(g)\n",
    "\n",
    "# Add an element to the end of the list.\n",
    "g.append('7')\n",
    "print(g)\n",
    "\n",
    "# Remove an element by name.\n",
    "g.remove('5')\n",
    "print(g)\n",
    "\n",
    "# Remove an element by index.\n",
    "g.pop(0)\n",
    "print(g)\n",
    "\n",
    "# Add several elements to the end of the list.\n",
    "g += ['4','5','3','1']\n",
    "# or\n",
    "# g = g + ['4','5','3','1']\n",
    "print(g)\n",
    "\n",
    "# Check the length of the list.\n",
    "print(len(g))\n",
    "\n",
    "# Sort the list. This isn't a list method, but it's very useful!\n",
    "print(sorted(g))\n",
    "\n",
    "# If you have a list of integers or floats, you can use the sum() function.\n",
    "G = [1,3,5,7,43]\n",
    "G_float = [1.2, 65.7, 1000.0001, 5]\n",
    "\n",
    "print(sum(G))\n",
    "print(sum(G_float))\n",
    "print(sum( [ G[1],G[4] ] ) )\n",
    "print(G[1] + G[4])"
   ]
  },
  {
   "cell_type": "markdown",
   "metadata": {},
   "source": [
    "### Strings as Lists\n",
    "\n",
    "Before we move on, we'll quickly mention that strings are considered lists of characters, and can be sliced and indexed just as a list can."
   ]
  },
  {
   "cell_type": "code",
   "execution_count": 57,
   "metadata": {
    "scrolled": true
   },
   "outputs": [
    {
     "name": "stdout",
     "output_type": "stream",
     "text": [
      "i\n",
      "ir\n"
     ]
    }
   ],
   "source": [
    "the_word = 'bird'\n",
    "\n",
    "print(the_word[1])\n",
    "print(the_word[1:3])"
   ]
  },
  {
   "cell_type": "code",
   "execution_count": 52,
   "metadata": {},
   "outputs": [
    {
     "ename": "TypeError",
     "evalue": "'str' object does not support item assignment",
     "output_type": "error",
     "traceback": [
      "\u001b[0;31m---------------------------------------------------------------------------\u001b[0m",
      "\u001b[0;31mTypeError\u001b[0m                                 Traceback (most recent call last)",
      "\u001b[0;32m<ipython-input-52-bc931caed174>\u001b[0m in \u001b[0;36m<module>\u001b[0;34m()\u001b[0m\n\u001b[1;32m      1\u001b[0m \u001b[0;31m# Strings are immutable.\u001b[0m\u001b[0;34m\u001b[0m\u001b[0;34m\u001b[0m\u001b[0m\n\u001b[0;32m----> 2\u001b[0;31m \u001b[0mthe_word\u001b[0m\u001b[0;34m[\u001b[0m\u001b[0;36m1\u001b[0m\u001b[0;34m]\u001b[0m \u001b[0;34m=\u001b[0m \u001b[0;34m'a'\u001b[0m\u001b[0;34m\u001b[0m\u001b[0m\n\u001b[0m",
      "\u001b[0;31mTypeError\u001b[0m: 'str' object does not support item assignment"
     ]
    }
   ],
   "source": [
    "# Strings are immutable.\n",
    "the_word[1] = 'a'"
   ]
  },
  {
   "cell_type": "markdown",
   "metadata": {},
   "source": [
    "## Tuples\n",
    "\n",
    "In Python, a **tuple** is a comma-separated list that is **immutable**. This means that elements of a tuple cannot be reassigned. We also don't use the `[]` brackets when we assign values to a tuple variable. Here is an example."
   ]
  },
  {
   "cell_type": "code",
   "execution_count": 61,
   "metadata": {},
   "outputs": [
    {
     "name": "stdout",
     "output_type": "stream",
     "text": [
      "(4.0, 3.2, 2.9, 3.6, 1.8, 3.2, 3.7, 2.5, 2.7)\n"
     ]
    },
    {
     "ename": "TypeError",
     "evalue": "'tuple' object does not support item assignment",
     "output_type": "error",
     "traceback": [
      "\u001b[0;31m---------------------------------------------------------------------------\u001b[0m",
      "\u001b[0;31mTypeError\u001b[0m                                 Traceback (most recent call last)",
      "\u001b[0;32m<ipython-input-61-8b90f9a0f9fa>\u001b[0m in \u001b[0;36m<module>\u001b[0;34m()\u001b[0m\n\u001b[1;32m      2\u001b[0m \u001b[0mprint\u001b[0m\u001b[0;34m(\u001b[0m\u001b[0mgpa_list\u001b[0m\u001b[0;34m)\u001b[0m\u001b[0;34m\u001b[0m\u001b[0m\n\u001b[1;32m      3\u001b[0m \u001b[0;34m\u001b[0m\u001b[0m\n\u001b[0;32m----> 4\u001b[0;31m \u001b[0mgpa_list\u001b[0m\u001b[0;34m[\u001b[0m\u001b[0;36m4\u001b[0m\u001b[0;34m]\u001b[0m \u001b[0;34m=\u001b[0m \u001b[0;36m4.0\u001b[0m\u001b[0;34m\u001b[0m\u001b[0m\n\u001b[0m",
      "\u001b[0;31mTypeError\u001b[0m: 'tuple' object does not support item assignment"
     ]
    }
   ],
   "source": [
    "gpa_list = 4.0, 3.2, 2.9, 3.6, 1.8, 3.2, 3.7, 2.5, 2.7\n",
    "print(gpa_list)\n",
    "\n",
    "gpa_list[4] = 4.0"
   ]
  },
  {
   "cell_type": "markdown",
   "metadata": {},
   "source": [
    "If we want to change a value of a tuple, we can access it by its index and create a new variable. We use the `+` operator to join the tuples together."
   ]
  },
  {
   "cell_type": "code",
   "execution_count": 63,
   "metadata": {},
   "outputs": [
    {
     "name": "stdout",
     "output_type": "stream",
     "text": [
      "(4.0, 3.2, 2.9, 3.6, 4.0, 3.2, 3.7, 2.5, 2.7)\n"
     ]
    }
   ],
   "source": [
    "gpa_list = 4.0, 3.2, 2.9, 3.6, 1.8, 3.2, 3.7, 2.5, 2.7\n",
    "gpa_list1 = gpa_list[0:4] + (4.0,) + gpa_list[5:]\n",
    "\n",
    "print(gpa_list1)"
   ]
  },
  {
   "cell_type": "markdown",
   "metadata": {},
   "source": [
    "We can assign variables in tuples as well."
   ]
  },
  {
   "cell_type": "code",
   "execution_count": 64,
   "metadata": {},
   "outputs": [
    {
     "name": "stdout",
     "output_type": "stream",
     "text": [
      "4\n",
      "5\n",
      "4 5 6\n"
     ]
    }
   ],
   "source": [
    "a, b, c = 4, 5, 6\n",
    "\n",
    "print(a)\n",
    "print(b)\n",
    "print(a, b, c)"
   ]
  },
  {
   "cell_type": "markdown",
   "metadata": {},
   "source": [
    "Tuples are also used to swap values without using temporary variables. A tuple makes the intention behind swapping the variables clear."
   ]
  },
  {
   "cell_type": "code",
   "execution_count": 65,
   "metadata": {
    "scrolled": true
   },
   "outputs": [
    {
     "name": "stdout",
     "output_type": "stream",
     "text": [
      "24.3 54\n",
      "54 24.3\n",
      "\n",
      "Now the Pythonic way:\n",
      "24.3 54\n",
      "54 24.3\n"
     ]
    }
   ],
   "source": [
    "x, y = 24.3, 54\n",
    "print(x,y)\n",
    "\n",
    "# Swapping with a temporary variable creates an unnecessary variable.\n",
    "temp = x\n",
    "x = y \n",
    "y = temp\n",
    "print(x,y)\n",
    "\n",
    "print('\\nNow the Pythonic way:')\n",
    "\n",
    "x, y = 24.3, 54\n",
    "print(x,y)\n",
    "\n",
    "x, y = y, x\n",
    "print(x,y)"
   ]
  },
  {
   "cell_type": "markdown",
   "metadata": {},
   "source": [
    "**Note:** `/n` in a Python string within a print statement results in printing a new line."
   ]
  },
  {
   "cell_type": "markdown",
   "metadata": {},
   "source": [
    "## Dictionaries\n",
    "\n",
    "This data structure can be confusing at first, but a dictionary in Python works exactly like a dictionary in an English class. A Python dictionary contains **keys** and **values**, is mutable and iterable, and is unordered. Therefore, it doesn't matter what order you enter key and value pairs into your dictionary.\n",
    "\n",
    "Dictionaries are declared using the `{}` brackets. Key and value pairs are separated by the `:` symbol.\n",
    "\n",
    "Let's make a dictionary for translating some English words into French."
   ]
  },
  {
   "cell_type": "code",
   "execution_count": 69,
   "metadata": {},
   "outputs": [
    {
     "name": "stdout",
     "output_type": "stream",
     "text": [
      "{'red': 'rouge', 'yellow': 'jaune', 'green': 'vert', 'blue': 'bleu', 'pink': 'rose', 'white': 'blanc'}\n"
     ]
    }
   ],
   "source": [
    "english_to_french = {'red': 'rouge',\n",
    "                     'yellow': 'jaune',\n",
    "                     'green': 'vert',\n",
    "                     'blue': 'bleu',\n",
    "                     'pink': 'rose',\n",
    "                     'white': 'blanc'}\n",
    "\n",
    "print(english_to_french)"
   ]
  },
  {
   "cell_type": "markdown",
   "metadata": {},
   "source": [
    "Dictionaries are mutable, so we can change the value for a given key. If we want to change a key, however, it would be best to simply create a new key and value pair and delete the old key.\n",
    "\n",
    "Dictionary values are accessed through their keys. So, if you want to access a value, you use the key for that value exactly as you would the index for a list element with the `[]` brackets.\n",
    "\n",
    "Without trying to destroy the French language, let's manipulate our English-French dictionary a bit."
   ]
  },
  {
   "cell_type": "code",
   "execution_count": 72,
   "metadata": {},
   "outputs": [
    {
     "name": "stdout",
     "output_type": "stream",
     "text": [
      "rojo\n",
      "{'red': 'rojo', 'yellow': 'jaune', 'green': 'vert', 'blue': 'bleu', 'pink': 'rose', 'white': 'blanc'}\n",
      "{'red': 'rouge', 'yellow': 'jaune', 'green': 'vert', 'blue': 'bleu', 'pink': 'rose', 'white': 'blanc', 'purple': 'violet'}\n"
     ]
    }
   ],
   "source": [
    "print(english_to_french['red'])\n",
    "\n",
    "english_to_french['red'] = 'rojo'\n",
    "print(english_to_french)\n",
    "\n",
    "# Oops! We just changed languages! Let's change it back. Also, let's include purple in our dictionary.\n",
    "english_to_french['red'] = 'rouge'\n",
    "english_to_french['purple'] = 'violet'\n",
    "\n",
    "print(english_to_french)"
   ]
  },
  {
   "cell_type": "markdown",
   "metadata": {},
   "source": [
    "Notice how adding a key/value pair to the dictionary was done. All we had to do was declare a new key and set its value. This is different than the syntax to declare a dictionary in the beginning, so make sure the distinction is clear.\n",
    "\n",
    "If we want to remove an unwanted key/value pair, we can use the `del` command. **Use the `del` command responsibly!** You must always use caution when deleting things in Python, since certain modules and packages allow access to the operating system!"
   ]
  },
  {
   "cell_type": "code",
   "execution_count": 73,
   "metadata": {
    "scrolled": true
   },
   "outputs": [
    {
     "name": "stdout",
     "output_type": "stream",
     "text": [
      "{'red': 'rouge', 'yellow': 'jaune', 'green': 'vert', 'blue': 'bleu', 'pink': 'rose', 'white': 'blanc', 'purple': 'violet', 'garbanzo': 'chick peas'}\n",
      "{'red': 'rouge', 'yellow': 'jaune', 'green': 'vert', 'blue': 'bleu', 'pink': 'rose', 'white': 'blanc', 'purple': 'violet'}\n"
     ]
    }
   ],
   "source": [
    "english_to_french['garbanzo'] = 'chick peas'\n",
    "print(english_to_french)\n",
    "\n",
    "# We don't want foods in our dictionary, only colours, so we'll remove the garbanzo for now.\n",
    "del english_to_french['garbanzo']\n",
    "print(english_to_french)"
   ]
  },
  {
   "cell_type": "markdown",
   "metadata": {},
   "source": [
    "**Note:** Using the `del` command to delete a key automatically deletes the value associated with the key. *You can't have a value without a key, but you can have a key without a value.*"
   ]
  },
  {
   "cell_type": "code",
   "execution_count": 74,
   "metadata": {},
   "outputs": [
    {
     "name": "stdout",
     "output_type": "stream",
     "text": [
      "{'red': 'rouge', 'yellow': 'jaune', 'green': 'vert', 'blue': 'bleu', 'pink': 'rose', 'white': 'blanc', 'purple': 'violet', 'rien': None}\n"
     ]
    }
   ],
   "source": [
    "# Example of a key with no value.\n",
    "english_to_french['rien'] = None\n",
    "print(english_to_french)"
   ]
  },
  {
   "cell_type": "markdown",
   "metadata": {},
   "source": [
    "### Dictionary Methods\n",
    "\n",
    "Yes, I'll repeat it again: everything in Python is an object. This means that dictionaries have methods just as strings and lists. Here's a list of some commonly used dictionary methods.\n",
    "\n",
    "|Method|Use|\n",
    "|---|---|\n",
    "|`keys()`|Access all keys in the dictionary|\n",
    "|`values()`|Access all values in the dictionary|\n",
    "|`items()`|Access all key/value pairs in the dictionary as a list of tuples|\n",
    "|`get(<key>)`|Access the value of the key in the argument|"
   ]
  },
  {
   "cell_type": "code",
   "execution_count": 77,
   "metadata": {},
   "outputs": [
    {
     "name": "stdout",
     "output_type": "stream",
     "text": [
      "dict_keys(['red', 'yellow', 'green', 'blue', 'pink', 'white', 'purple', 'rien'])\n",
      "dict_values(['rouge', 'jaune', 'vert', 'bleu', 'rose', 'blanc', 'violet', None])\n",
      "dict_items([('red', 'rouge'), ('yellow', 'jaune'), ('green', 'vert'), ('blue', 'bleu'), ('pink', 'rose'), ('white', 'blanc'), ('purple', 'violet'), ('rien', None)])\n",
      "blanc\n"
     ]
    }
   ],
   "source": [
    "print(english_to_french.keys())\n",
    "print(english_to_french.values())\n",
    "print(english_to_french.items())\n",
    "print(english_to_french.get('white'))"
   ]
  },
  {
   "cell_type": "markdown",
   "metadata": {},
   "source": [
    "## List Comprehensions\n"
   ]
  },
  {
   "cell_type": "markdown",
   "metadata": {},
   "source": [
    "**Iterable:** Any variable that can be used as an index for a loop."
   ]
  },
  {
   "cell_type": "code",
   "execution_count": 81,
   "metadata": {},
   "outputs": [
    {
     "name": "stdout",
     "output_type": "stream",
     "text": [
      "1\n",
      "4\n",
      "7\n",
      "0\n",
      "2\n",
      "1\n",
      "2\n",
      "3\n",
      "s\n",
      "t\n",
      "r\n",
      "i\n",
      "n\n",
      "g\n"
     ]
    }
   ],
   "source": [
    "i_list = [1,4,7,0,2]\n",
    "\n",
    "# Lists are iterables.\n",
    "for i in i_list:\n",
    "    print(i)\n",
    "    \n",
    "i_dict = {'1': 'police', '2': 'fire', '3': 'ambulance'}\n",
    "\n",
    "# Dictionaries are iterables.\n",
    "for i in i_dict:\n",
    "    print(i)\n",
    "    \n",
    "# Strings are iterables.\n",
    "for i in 'string':\n",
    "    print(i)"
   ]
  },
  {
   "cell_type": "markdown",
   "metadata": {},
   "source": [
    "There are some situations in which iterating through list elements in a `for` or a `while` loop is unavoidable. However, there are also times where it is unnecessary in Python. In these situations, we use **list comprehensions**. Perhaps you've heard of these or seen them used in coding forums online. Their purpose is to utilize the power of iterables in Python.\n",
    "\n",
    "To see what a list comprehension is, let's first create a list with a `for` loop. We'll make a list of the first 10 integers squared."
   ]
  },
  {
   "cell_type": "code",
   "execution_count": 82,
   "metadata": {},
   "outputs": [
    {
     "name": "stdout",
     "output_type": "stream",
     "text": [
      "[1, 4, 9, 16, 25, 36, 49, 64, 81, 100]\n"
     ]
    }
   ],
   "source": [
    "squares = []\n",
    "\n",
    "for i in range(1,11):\n",
    "    squares.append(i*i)\n",
    "    \n",
    "print(squares)"
   ]
  },
  {
   "cell_type": "markdown",
   "metadata": {},
   "source": [
    "That was relatively painless, but it can be done even more simply with a list comprehension."
   ]
  },
  {
   "cell_type": "code",
   "execution_count": 83,
   "metadata": {},
   "outputs": [
    {
     "name": "stdout",
     "output_type": "stream",
     "text": [
      "[1, 4, 9, 16, 25, 36, 49, 64, 81, 100]\n"
     ]
    }
   ],
   "source": [
    "squares = [i*i for i in range(1,11)]\n",
    "print(squares)"
   ]
  },
  {
   "cell_type": "markdown",
   "metadata": {},
   "source": [
    "The general syntax for a list comprehension is `var = [<condition> for index in iterable]`. Let's see a few more to get more used to this idea."
   ]
  },
  {
   "cell_type": "code",
   "execution_count": 84,
   "metadata": {},
   "outputs": [
    {
     "name": "stdout",
     "output_type": "stream",
     "text": [
      "[1.0, 1.4142135623730951, 1.7320508075688772, 2.0, 2.23606797749979, 2.449489742783178, 2.6457513110645907, 2.8284271247461903, 3.0, 3.1622776601683795]\n"
     ]
    }
   ],
   "source": [
    "# Make a list of the square roots of the first 10 integers.\n",
    "roots = [i**0.5 for i in range(1,11)]\n",
    "print(roots)"
   ]
  },
  {
   "cell_type": "code",
   "execution_count": 85,
   "metadata": {},
   "outputs": [
    {
     "name": "stdout",
     "output_type": "stream",
     "text": [
      "['GILBERT', 'SULLIVAN', 'PUCCINI', 'VERDI', 'PERI', 'GERSHWIN', 'BERLIN']\n"
     ]
    }
   ],
   "source": [
    "# Change a list of strings to upper case.\n",
    "names = ['gilbert','sullivan','puccini','verdi','peri','gershwin','berlin']\n",
    "\n",
    "caps_on = [i.upper() for i in names]\n",
    "print(caps_on)"
   ]
  },
  {
   "cell_type": "code",
   "execution_count": 86,
   "metadata": {},
   "outputs": [
    {
     "name": "stdout",
     "output_type": "stream",
     "text": [
      "[0, -1, 2, -3, 4, -5, 6, -7, 8, -9, 10, -11, 12, -13, 14, -15, 16, -17, 18, -19, 20, -21, 22, -23, 24, -25, 26, -27, 28, -29]\n",
      "[True, False, True, False, True, False, True, False, True, False, True, False, True, False, True, False, True, False, True, False, True, False, True, False, True, False, True, False, True, False]\n"
     ]
    }
   ],
   "source": [
    "# Create a list of booleans depending on whether a number is positive or negative. True ~ positive and False ~ negative.\n",
    "nums = [(-1)**n*n for n in range(30)]\n",
    "print(nums)\n",
    "\n",
    "bools = [x >= 0 for x in nums]\n",
    "print(bools)"
   ]
  },
  {
   "cell_type": "markdown",
   "metadata": {},
   "source": [
    "## Dictionary Comprehensions\n",
    "\n",
    "Dictionary comprehensions are very similar to list comprehensions. One difference is that the keys should be taken from a list. Also, instead of using a condition as in the list comprehension, you use `key: value`. Therefore, the syntax becomes `dct = {key: value for key in list}`.\n",
    "\n",
    "Let's see an example using the `names` list we created above."
   ]
  },
  {
   "cell_type": "code",
   "execution_count": 87,
   "metadata": {},
   "outputs": [
    {
     "name": "stdout",
     "output_type": "stream",
     "text": [
      "{'gilbert': 'gilbert', 'sullivan': 'sullivan', 'puccini': 'puccini', 'verdi': 'verdi', 'peri': 'peri', 'gershwin': 'gershwin', 'berlin': 'berlin'}\n"
     ]
    }
   ],
   "source": [
    "dct_names = {name: name for name in names}\n",
    "print(dct_names)"
   ]
  },
  {
   "cell_type": "markdown",
   "metadata": {},
   "source": [
    "You might feel disappointed in that last example. We don't need to set key:value pairs to be identical. The way to get around that is with a built-in Python function: the `zip()` function.\n",
    "\n",
    "### The `zip()` Function\n",
    "\n",
    "The `zip()` function takes in two lists of equal length and returns an iterable of tuples. The elements of the tuples are elements from the two argument lists, but they have the same indices. To make this more concrete, let's see an example."
   ]
  },
  {
   "cell_type": "code",
   "execution_count": 88,
   "metadata": {},
   "outputs": [
    {
     "name": "stdout",
     "output_type": "stream",
     "text": [
      "[('Carroll', 'Dodgson'), ('Orwell', 'Blair'), ('Seuss', 'Geisel'), ('Eliot', 'Evans')]\n"
     ]
    }
   ],
   "source": [
    "pseudonyms = ['Carroll','Orwell','Seuss','Eliot']\n",
    "real_names = ['Dodgson','Blair','Geisel','Evans']\n",
    "\n",
    "print(list(zip(pseudonyms, real_names)))"
   ]
  },
  {
   "cell_type": "markdown",
   "metadata": {},
   "source": [
    "To see the actual iterable that `zip()` created, we needed to first put the output of the `zip()` function into a list. Now let's use a dictionary comprehension to make a dictionary of these famous authors and their real last names."
   ]
  },
  {
   "cell_type": "code",
   "execution_count": 89,
   "metadata": {},
   "outputs": [
    {
     "name": "stdout",
     "output_type": "stream",
     "text": [
      "{'Dodgson': 'Carroll', 'Blair': 'Orwell', 'Geisel': 'Seuss', 'Evans': 'Eliot'}\n"
     ]
    }
   ],
   "source": [
    "authors = {real: pen for (real, pen) in zip(real_names, pseudonyms)}\n",
    "print(authors)"
   ]
  },
  {
   "cell_type": "markdown",
   "metadata": {},
   "source": [
    "# *Exercises*\n",
    "\n",
    "<ol>\n",
    "    <li> For the list in the code below, use list slicing to access the numbers between 34 and 75 inclusive. Save the result into a new list. </li>\n",
    "</ol>"
   ]
  },
  {
   "cell_type": "code",
   "execution_count": 91,
   "metadata": {},
   "outputs": [
    {
     "name": "stdout",
     "output_type": "stream",
     "text": [
      "[34, 35, 36, 37, 38, 39, 40, 41, 42, 43, 44, 45, 46, 47, 48, 49, 50, 51, 52, 53, 54, 55, 56, 57, 58, 59, 60, 61, 62, 63, 64, 65, 66, 67, 68, 69, 70, 71, 72, 73, 74, 75]\n"
     ]
    }
   ],
   "source": [
    "numbers = list(range(3,98))\n",
    "# Your code here.\n",
    "print(numbers[31:73])\n"
   ]
  },
  {
   "cell_type": "markdown",
   "metadata": {},
   "source": [
    "<ol start='2'>\n",
    "    <li> Use a custom `range()` to make a list of negative integers up to and including -50 (if possible). Count by threes (start at 0, then 3, then 6, etc). </li>\n",
    "</ol>"
   ]
  },
  {
   "cell_type": "code",
   "execution_count": 92,
   "metadata": {},
   "outputs": [
    {
     "name": "stdout",
     "output_type": "stream",
     "text": [
      "[0, -3, -6, -9, -12, -15, -18, -21, -24, -27, -30, -33, -36, -39, -42, -45, -48]\n"
     ]
    }
   ],
   "source": [
    "# Your code here.\n",
    "# First, making a list of positive integers up to 50 and multiplying them by -1.\n",
    "negatives = [-1*i for i in range(0,50,3)]\n",
    "print(negatives)"
   ]
  },
  {
   "cell_type": "code",
   "execution_count": 95,
   "metadata": {},
   "outputs": [
    {
     "name": "stdout",
     "output_type": "stream",
     "text": [
      "[-48, -45, -42, -39, -36, -33, -30, -27, -24, -21, -18, -15, -12, -9, -6, -3, 0]\n",
      "10\n"
     ]
    }
   ],
   "source": [
    "# Flip the elements so the most negative element is on the left.\n",
    "flipped_negatives = [negatives[-(i+1)] for i in range(len(negatives))]\n",
    "\n",
    "print(flipped_negatives)"
   ]
  },
  {
   "cell_type": "code",
   "execution_count": 98,
   "metadata": {},
   "outputs": [
    {
     "name": "stdout",
     "output_type": "stream",
     "text": [
      "[-48, -45, -42, -39, -36, -33, -30, -27, -24, -21, -18, -15, -12, -9, -6, -3, 0]\n"
     ]
    }
   ],
   "source": [
    "# Here's a more efficient way to do this.\n",
    "negative_integers = [i for i in range(-48,1,3)]\n",
    "\n",
    "print(negative_integers)"
   ]
  },
  {
   "cell_type": "code",
   "execution_count": 99,
   "metadata": {},
   "outputs": [
    {
     "name": "stdout",
     "output_type": "stream",
     "text": [
      "[-48, -45, -42, -39, -36, -33, -30, -27, -24, -21, -18, -15, -12, -9, -6, -3, 0]\n"
     ]
    }
   ],
   "source": [
    "# Another way to do it.\n",
    "another_negatives = sorted([-1*i for i in range(0,50,3)])\n",
    "\n",
    "print(another_negatives)"
   ]
  },
  {
   "cell_type": "markdown",
   "metadata": {},
   "source": [
    "<ol start='3'>\n",
    "    <li> In the code cell below, a grocery store's inventory is declared as a dictionary. Write a program to count up all of the items in the inventory. </li>\n",
    "</ol>"
   ]
  },
  {
   "cell_type": "code",
   "execution_count": 3,
   "metadata": {},
   "outputs": [
    {
     "name": "stdout",
     "output_type": "stream",
     "text": [
      "300\n"
     ]
    }
   ],
   "source": [
    "inventory = {'bananas': 34, 'apples': 142, 'oranges': 57, 'watermelons': 12, 'avocados': 32, 'yams': 22, 'turkeys': 1}\n",
    "# Your code here.\n",
    "\n",
    "print(sum(inventory.values()))"
   ]
  },
  {
   "cell_type": "markdown",
   "metadata": {},
   "source": [
    "<ol start='4'>\n",
    "    <li> Add the following items to the store inventory: 45 loaves of bread, 61 cakes, 98 bottles of milk, and 120 boxes of cereal. </li>\n",
    "</ol>"
   ]
  },
  {
   "cell_type": "code",
   "execution_count": 4,
   "metadata": {},
   "outputs": [
    {
     "name": "stdout",
     "output_type": "stream",
     "text": [
      "{'bananas': 34, 'apples': 142, 'oranges': 57, 'watermelons': 12, 'avocados': 32, 'yams': 22, 'turkeys': 1, 'bread': 45, 'cakes': 61, 'milk': 98, 'cereal': 120}\n"
     ]
    }
   ],
   "source": [
    "# Your code here.\n",
    "inventory['bread'] = 45\n",
    "inventory['cakes'] = 61\n",
    "inventory['milk'] = 98\n",
    "inventory['cereal'] = 120\n",
    "\n",
    "print(inventory)"
   ]
  },
  {
   "cell_type": "code",
   "execution_count": 5,
   "metadata": {},
   "outputs": [
    {
     "name": "stdout",
     "output_type": "stream",
     "text": [
      "{'bananas': 34, 'apples': 142, 'oranges': 57, 'watermelons': 12, 'avocados': 32, 'yams': 22, 'turkeys': 1, 'bread': 45, 'cakes': 61, 'milk': 98, 'cereal': 120, 'beans': 45, 'hot dogs': 60, 'hot dog buns': 20, 'potatoes': 300}\n"
     ]
    }
   ],
   "source": [
    "# The 'one-liner'.\n",
    "new_items = [('beans',45),('hot dogs',60),('hot dog buns',20),('potatoes',300)]\n",
    "\n",
    "new_inv = {key: value for (key,value) in new_items}\n",
    "\n",
    "inventory = {**inventory, **new_inv}\n",
    "\n",
    "print(inventory)"
   ]
  },
  {
   "cell_type": "markdown",
   "metadata": {},
   "source": [
    "<ol start ='5'>\n",
    "    <li> Using what we've covered so far, write a program to allow the user to enter new items into the store inventory. </li>\n",
    "    <li> As an extension, allow the user to also remove quantities of items from the inventory. Make sure that the inventory is never negative! </li>\n",
    "</ol>"
   ]
  },
  {
   "cell_type": "code",
   "execution_count": 6,
   "metadata": {},
   "outputs": [
    {
     "name": "stdout",
     "output_type": "stream",
     "text": [
      "Current inventory is: {'bananas': 34, 'apples': 142, 'oranges': 57, 'watermelons': 12, 'avocados': 32, 'yams': 22, 'turkeys': 1, 'bread': 45, 'cakes': 61, 'milk': 98, 'cereal': 120, 'beans': 45, 'hot dogs': 60, 'hot dog buns': 20, 'potatoes': 300}\n",
      "What would you like to add to the inventory? carrots\n",
      "How many would you like to add? 400\n",
      "{'bananas': 34, 'apples': 142, 'oranges': 57, 'watermelons': 12, 'avocados': 32, 'yams': 22, 'turkeys': 1, 'bread': 45, 'cakes': 61, 'milk': 98, 'cereal': 120, 'beans': 45, 'hot dogs': 60, 'hot dog buns': 20, 'potatoes': 300, 'carrots': 400}\n"
     ]
    }
   ],
   "source": [
    "# Your code here.\n",
    "\"\"\" Program to add item to inventory. \"\"\"\n",
    "print('Current inventory is: {}'.format(inventory))\n",
    "\n",
    "add_key = str(input('What would you like to add to the inventory? '))\n",
    "add_value = -1\n",
    "\n",
    "# I'm only allowing quantities up to 1000.\n",
    "while add_value < 0 or add_value > 1000:\n",
    "    add_value = int(input('How many would you like to add? '))\n",
    "    \n",
    "    if add_value > 1000:\n",
    "        print('Too many! Try again.\\n')\n",
    "        \n",
    "inventory[add_key] = add_value\n",
    "print(inventory)"
   ]
  },
  {
   "cell_type": "code",
   "execution_count": 10,
   "metadata": {},
   "outputs": [
    {
     "name": "stdout",
     "output_type": "stream",
     "text": [
      "Current inventory is: {'bananas': 34, 'apples': 142, 'oranges': 57, 'watermelons': 12, 'avocados': 32, 'yams': 22, 'turkeys': 1, 'bread': 45, 'cakes': 61, 'cereal': 120, 'beans': 45, 'hot dogs': 60, 'hot dog buns': 20, 'potatoes': 300, 'carrots': 400}\n",
      "What would you like to remove from the inventory? cakes\n",
      "How many would you like to remove? \n",
      "50\n",
      "{'bananas': 34, 'apples': 142, 'oranges': 57, 'watermelons': 12, 'avocados': 32, 'yams': 22, 'turkeys': 1, 'bread': 45, 'cakes': 11, 'cereal': 120, 'beans': 45, 'hot dogs': 60, 'hot dog buns': 20, 'potatoes': 300, 'carrots': 400}\n"
     ]
    }
   ],
   "source": [
    "\"\"\" Program to remove item from inventory. \"\"\"\n",
    "\n",
    "print('Current inventory is: {}'.format(inventory))\n",
    "\n",
    "rm_key = str(input('What would you like to remove from the inventory? '))\n",
    "rm_value = int(input('How many would you like to remove? \\n'))\n",
    "\n",
    "if rm_key in inventory.keys():\n",
    "    while rm_value > inventory[rm_key]:\n",
    "        rm_value = int(input('Too many! How many would you like to remove? '))\n",
    "    \n",
    "    # Delete the item if it's all gone, otherwise subtract the amount to remove.\n",
    "    if rm_value == inventory[rm_key]:\n",
    "        del inventory[rm_key]\n",
    "    else:\n",
    "        inventory[rm_key] -= rm_value\n",
    "        \n",
    "print(inventory)"
   ]
  },
  {
   "cell_type": "code",
   "execution_count": null,
   "metadata": {},
   "outputs": [],
   "source": []
  }
 ],
 "metadata": {
  "kernelspec": {
   "display_name": "Python 3",
   "language": "python",
   "name": "python3"
  },
  "language_info": {
   "codemirror_mode": {
    "name": "ipython",
    "version": 3
   },
   "file_extension": ".py",
   "mimetype": "text/x-python",
   "name": "python",
   "nbconvert_exporter": "python",
   "pygments_lexer": "ipython3",
   "version": "3.6.5"
  }
 },
 "nbformat": 4,
 "nbformat_minor": 2
}
