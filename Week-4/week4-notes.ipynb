{
 "cells": [
  {
   "cell_type": "markdown",
   "metadata": {},
   "source": [
    "# ICT 781 - Week 4\n",
    "\n",
    "# Functions\n",
    "\n",
    "Programming is inherently repetitive. One of the main goals of writing software is to get the computer to do tasks, often over and over again. A convenient way to complete these repetitive tasks is through defining functions. Through the use of functions, your Python programs will be composed of modules that you can use when needed. \n",
    "\n",
    "Here's a few examples of functions."
   ]
  },
  {
   "cell_type": "code",
   "execution_count": 139,
   "metadata": {},
   "outputs": [
    {
     "name": "stdout",
     "output_type": "stream",
     "text": [
      "Hello world\n"
     ]
    }
   ],
   "source": [
    "def hello():\n",
    "    \"\"\" The 'Hello world' function. \"\"\"\n",
    "    c = 4\n",
    "    print('Hello world')\n",
    "    \n",
    "hello()"
   ]
  },
  {
   "cell_type": "code",
   "execution_count": 140,
   "metadata": {},
   "outputs": [
    {
     "name": "stdout",
     "output_type": "stream",
     "text": [
      "This past week was crazy!\n"
     ]
    }
   ],
   "source": [
    "def makeEnthusiastic(word):\n",
    "    \"\"\" Take in a string and add an exclamation point. \"\"\"\n",
    "    \n",
    "    print(word + '!')\n",
    "    \n",
    "makeEnthusiastic('This past week was crazy')"
   ]
  },
  {
   "cell_type": "markdown",
   "metadata": {},
   "source": [
    "## Returning Values with Functions\n",
    "\n",
    "Of course, we can do more than just manipulate strings with functions. We usually want our functions to actually have some output.\n",
    "\n",
    "Let's start by defining a mathematical function that gives many people problems. The absolute value function $f(x) = |x|$ takes in a number $x$. If that number is positive, $f(x)$ gives you the number back. If the input $x$ is negative, then $f(x)$ makes it positive in its output. In mathematical terms,\n",
    "$$\n",
    "    f(x) = |x| = \\begin{cases}\n",
    "        x, \\text{ if } x \\geq 0,\\\\\n",
    "        -x, \\text{ if } x < 0.\n",
    "    \\end{cases}\n",
    "$$\n",
    "We can code this function in Python."
   ]
  },
  {
   "cell_type": "code",
   "execution_count": 148,
   "metadata": {},
   "outputs": [],
   "source": [
    "def absoluteValue(x):\n",
    "    \"\"\" Absolute value function. \"\"\"\n",
    "    \n",
    "    if x >= 0:\n",
    "        return x\n",
    "    elif x < 0:\n",
    "        return -x"
   ]
  },
  {
   "cell_type": "markdown",
   "metadata": {},
   "source": [
    "Functions in Python are defined with the `def` command. The function's name `absoluteValue` is highlighted in blue, and the argument we will pass the function is `x`. Function declarations end with the `:` symbol.\n",
    "\n",
    "Within the function, we have the conditions of the absolute value function. We use the `return` command to produce the function's output.\n",
    "\n",
    "Let's test this function. We know that $|5| = 5$ and that $|-11| = 11$, so let's see if our function gets it right."
   ]
  },
  {
   "cell_type": "code",
   "execution_count": 147,
   "metadata": {},
   "outputs": [
    {
     "name": "stdout",
     "output_type": "stream",
     "text": [
      "The absolute value of 5 is 5.\n",
      "The absolute value of -11 is 11.\n",
      "The absolute value of 5 is 5.\n"
     ]
    }
   ],
   "source": [
    "for i in [5, -11]:\n",
    "    print('The absolute value of {} is {}.'.format(i, absoluteValue(i)))\n",
    "    \n",
    "print('The absolute value of {} is {}.'.format(5, absoluteValue(5)))"
   ]
  },
  {
   "cell_type": "markdown",
   "metadata": {},
   "source": [
    "In the above code, we called the function `absoluteValue` by typing the function name with an argument, for example `absoluteValue(5)`.\n",
    "\n",
    "We can also call functions and declare variables based on the function output."
   ]
  },
  {
   "cell_type": "code",
   "execution_count": 145,
   "metadata": {},
   "outputs": [
    {
     "name": "stdout",
     "output_type": "stream",
     "text": [
      "5\n"
     ]
    }
   ],
   "source": [
    "abs5 = absoluteValue(5)\n",
    "print(abs5)"
   ]
  },
  {
   "cell_type": "markdown",
   "metadata": {},
   "source": [
    "The `return` statement is very much like a `break` statement. It immediately exits the function and returns to the main body of the program, giving the `return` value as the function output. \n",
    "\n",
    "We can return more than just integers. Here's another example of a function that changes keywords in a sentence."
   ]
  },
  {
   "cell_type": "code",
   "execution_count": 155,
   "metadata": {},
   "outputs": [
    {
     "name": "stdout",
     "output_type": "stream",
     "text": [
      "Will Scooby not take Scooby with Scooby Mr. Darcy?\n"
     ]
    }
   ],
   "source": [
    "def scoobify(sentence, keywords = ('me','you','you,')):\n",
    "    \"\"\" Replace the words 'me' and 'you' with 'Scooby' in a sentence. \"\"\"\n",
    "    \n",
    "    scooby = 'Scooby'\n",
    "    \n",
    "    words = sentence.split(' ')\n",
    "    \n",
    "    # Split string will look like this: ['Will','you','not','take','me','with','you,','Mr.','Darcy?']\n",
    "    \n",
    "    changed_words = []\n",
    "    \n",
    "#     for w in words:\n",
    "#         if w in keywords:\n",
    "#             changed_words.append(scooby)\n",
    "#         else:\n",
    "#             changed_words.append(w)\n",
    "    \n",
    "    changed_words = [scooby if w in keywords else w for w in words]\n",
    "    scoobed = ' '.join(changed_words)\n",
    "    \n",
    "    return scoobed\n",
    "\n",
    "sentence = 'Will you not take me with you, Mr. Darcy?'\n",
    "scoobed = scoobify(sentence)\n",
    "print(scoobed)"
   ]
  },
  {
   "cell_type": "markdown",
   "metadata": {},
   "source": [
    "This function, while quite silly, introduces a few new concepts. First, the function takes in more than one argument. User-defined functions can take in as many arguments as you like. It should be obvious that you only want to pass in arguments that you actually want to use in your functions. \n",
    "\n",
    "Another new concept is the default argument for `keywords` given in the function declaration. You can specify an *immutable* as a default argument for your function. This helps in the event that no second argument is passed in to the function. You can see in the code above that I didn't specify a second argument in the function call in line 13, but the function did what it was supposed to do.\n",
    "\n",
    "There are some cases where you will be working on a function and you want to call the function without returning a value. For this, you can use the `pass` keyword. This makes the function do everything it would do normally, but then exit with no output."
   ]
  },
  {
   "cell_type": "code",
   "execution_count": 160,
   "metadata": {},
   "outputs": [
    {
     "name": "stdout",
     "output_type": "stream",
     "text": [
      "This function is not done.\n"
     ]
    }
   ],
   "source": [
    "def workInProgress(x):\n",
    "    \"\"\" Example of using pass instead of return. \"\"\"\n",
    "    \n",
    "    fact = [x*(x-1) for x in range(0,-x,1)]\n",
    "    total = sum(fact)\n",
    "    \n",
    "    print('This function is not done.')\n",
    "    \n",
    "    pass\n",
    "\n",
    "workInProgress(60)"
   ]
  },
  {
   "cell_type": "markdown",
   "metadata": {},
   "source": [
    "## `main()` Functions\n",
    "\n",
    "When you are building Python software, you will most likely be declaring multiple functions and controlling them with some code. Usually you'll want to place all of your code, functions included, inside a `main()` function. Here's an example of a few functions that calculate a customer's food bill at a restaurant."
   ]
  },
  {
   "cell_type": "code",
   "execution_count": 161,
   "metadata": {},
   "outputs": [],
   "source": [
    "def GST(amount, rate = 0.05):\n",
    "    \"\"\" Calculate GST to add to bill. \"\"\"\n",
    "    if amount < 0:\n",
    "        raise ValueError('{} should be non-negative.'.format(amount))\n",
    "        \n",
    "    return amount*(1 + rate)\n",
    "\n",
    "def tip(amount, tip_percent = 0.15):\n",
    "    \"\"\" Calculate the amount with a tip added. \"\"\"\n",
    "    \n",
    "    if amount < 0:\n",
    "        raise ValueError('{} should be non-negative.'.format(amount))\n",
    "        \n",
    "    return amount*(1 + tip_percent)\n",
    "\n",
    "# Should these really be one function?"
   ]
  },
  {
   "cell_type": "markdown",
   "metadata": {},
   "source": [
    "We'll put these functions inside a `main()` function and calculate the total bill for a restaurant purchase."
   ]
  },
  {
   "cell_type": "code",
   "execution_count": 168,
   "metadata": {},
   "outputs": [],
   "source": [
    "def main():\n",
    "    \"\"\" Restaurant Bill Calculator. \"\"\"\n",
    "    \n",
    "    print('Thank you for eating at the Python Cafe.\\n')\n",
    "    \n",
    "    # Get the before-tax bill.\n",
    "    bill = float(input('Please input amount: '))\n",
    "    \n",
    "    tip_rate = -1\n",
    "    \n",
    "    while tip_rate < 0:\n",
    "        tip_rate = float(input('Please input tip %: '))\n",
    "    \n",
    "    # Adjust if the customer puts in decimal or integer tip percentage.\n",
    "    if tip_rate % 100 >= 1:\n",
    "        tip_rate /= 100\n",
    "    \n",
    "    total = GST(bill)\n",
    "    total = tip(total, tip_rate)\n",
    "    \n",
    "    print('Your total today is ${:.2f}.'.format(total))"
   ]
  },
  {
   "cell_type": "markdown",
   "metadata": {},
   "source": [
    "The best way to call the `main()` function is within an `if` statement. This is a techinicality. The Python interpreter has an internal `__name__` parameter. This controls what the main module is inside the interpreter. If the current script is set as the `__name__` parameter, then any code inside the script will be run when main is called. \n",
    "\n",
    "If someone imports your code and doesn't want to run the `main()` function, putting your functions and `main()` function together means that they can call the functions separately from the `main()` function."
   ]
  },
  {
   "cell_type": "code",
   "execution_count": 169,
   "metadata": {
    "scrolled": true
   },
   "outputs": [
    {
     "name": "stdout",
     "output_type": "stream",
     "text": [
      "Thank you for eating at the Python Cafe.\n",
      "\n",
      "Please input amount: 45\n",
      "Please input tip %: 1\n",
      "Your total today is $47.72.\n"
     ]
    }
   ],
   "source": [
    "if __name__ == '__main__':\n",
    "    main()"
   ]
  },
  {
   "cell_type": "markdown",
   "metadata": {},
   "source": [
    "## Catching Exceptions\n",
    "\n",
    "You probably noticed that the last example used some new Python syntax: `raise`. This are used to check inputs, and will be covered in more detail when we talk about testing. However, since it is so useful, let's talk about it now.\n",
    "\n",
    "Suppose that you have a function that works really well *as long as the user puts in the right arguments*. This last part is key. Users will throw all kinds of invalid arguments into your functions and 'break' your code. While we would like to blame the user for improper use of the code or not reading the documentation, part of the responsibility lies with the programmer. \n",
    "\n",
    "You can use exceptions to mitigate some of the code breakage that happens in regular use. Here is an example of using an exception to ensure that only integers are accepted as inputs.\n",
    "\n",
    "The factorial function is defined as $n! = n(n-1)(n-2)\\cdots 2\\cdot 1$."
   ]
  },
  {
   "cell_type": "code",
   "execution_count": 177,
   "metadata": {},
   "outputs": [
    {
     "name": "stdout",
     "output_type": "stream",
     "text": [
      "3628800\n"
     ]
    }
   ],
   "source": [
    "def factorial(n):\n",
    "    \"\"\" The factorial function. \"\"\"\n",
    "    \n",
    "    # Convert to integer if the input is a float.\n",
    "    if type(n) is type(0.5):\n",
    "        n = int(n)\n",
    "    \n",
    "    # Only accept positive integers.\n",
    "    if type(n) is not type(1) or n <= 0:\n",
    "        raise ValueError('Only positive integer inputs are accepted.')\n",
    "    \n",
    "    total = 1\n",
    "    for i in range(1,n+1):\n",
    "        total *= i\n",
    "        \n",
    "    return total\n",
    "    \n",
    "print(factorial(10.0))"
   ]
  },
  {
   "cell_type": "markdown",
   "metadata": {},
   "source": [
    "## Lambda Functions (Anonymous Functions)\n",
    "\n",
    "Sometimes you just want to calculate something one time on the fly, and you don't want to dedicate a new function declaration to the task. For this, you can use a **Lambda function**. These functions are known as *anonymous*, meaning they aren't given a particular name. They can return values, and can be assigned to any variable.\n",
    "\n",
    "Here is an example of a Lambda function."
   ]
  },
  {
   "cell_type": "code",
   "execution_count": 178,
   "metadata": {},
   "outputs": [
    {
     "name": "stdout",
     "output_type": "stream",
     "text": [
      "144\n"
     ]
    }
   ],
   "source": [
    "# I want to make a quick function that squares an integer, but I don't want to declare a new function.\n",
    "\n",
    "y = -12\n",
    "f = lambda x : x**2\n",
    "\n",
    "print(f(y))"
   ]
  },
  {
   "cell_type": "markdown",
   "metadata": {},
   "source": [
    "The syntax for a `lambda` function is `lambda <argument> : <desired output>`.\n",
    "\n",
    "We'll cover a more technical use of lambda functions next week. For now, we'll leave it at this: lambda functions are used when a simple function is needed temporarily."
   ]
  },
  {
   "cell_type": "markdown",
   "metadata": {},
   "source": [
    "## Documenting Functions\n",
    "\n",
    "When we talked about comments, we mentioned **docstrings**. These are the comments that appear immediately after the function declaration statement."
   ]
  },
  {
   "cell_type": "code",
   "execution_count": null,
   "metadata": {},
   "outputs": [],
   "source": [
    "def myFunction():\n",
    "    \"\"\" These are the docstrings. \"\"\"\n",
    "    pass"
   ]
  },
  {
   "cell_type": "markdown",
   "metadata": {},
   "source": [
    "Within the docstrings, you let the programmer know what your function is called, what its arguments are, and what the function does. "
   ]
  },
  {
   "cell_type": "code",
   "execution_count": 189,
   "metadata": {
    "scrolled": true
   },
   "outputs": [
    {
     "name": "stdout",
     "output_type": "stream",
     "text": [
      "The value of a $10000 investment compounded quarterly\n",
      "at 2.5% for 12 years is $13485.99.\n"
     ]
    }
   ],
   "source": [
    "def investmentValue(initial, rate, freq, time):\n",
    "    \"\"\" Future Investment Value Function. \n",
    "        \n",
    "        The user inputs the current value of an\n",
    "        investment, the interest rate, and compounding\n",
    "        frequency. The future value of the investment\n",
    "        is returned.\n",
    "        \n",
    "        Input:\n",
    "        ------\n",
    "        initial := initial value of the investment\n",
    "        rate    := interest rate\n",
    "        freq    := compounding frequency; eg) if compounded quarterly, use n = 4\n",
    "        time    := total time of the investment (in years)\n",
    "        \n",
    "        Output:\n",
    "        -------\n",
    "        future_value := future value of the investment\n",
    "    \"\"\"\n",
    "    \n",
    "    future_value = initial*(1 + rate/freq)**(freq*time)\n",
    "    return future_value\n",
    "\n",
    "print('The value of a $10000 investment compounded quarterly\\nat 2.5% for 12 years is ${:.2f}.'.format(investmentValue(10000, 0.025, 4, 12)))"
   ]
  },
  {
   "cell_type": "markdown",
   "metadata": {},
   "source": [
    "The above function doesn't do much, but it is properly documented. The docstrings let the programmer know what's going on, and can be accessed *without seeing the function code* by calling `help(<function name>)`."
   ]
  },
  {
   "cell_type": "code",
   "execution_count": 192,
   "metadata": {},
   "outputs": [
    {
     "name": "stdout",
     "output_type": "stream",
     "text": [
      "Help on function investmentValue in module __main__:\n",
      "\n",
      "investmentValue(initial, rate, freq, time)\n",
      "    Future Investment Value Function. \n",
      "    \n",
      "    The user inputs the current value of an\n",
      "    investment, the interest rate, and compounding\n",
      "    frequency. The future value of the investment\n",
      "    is returned.\n",
      "    \n",
      "    Input:\n",
      "    ------\n",
      "    initial := initial value of the investment\n",
      "    rate    := interest rate\n",
      "    freq    := compounding frequency; eg) if compounded quarterly, use n = 4\n",
      "    time    := total time of the investment (in years)\n",
      "    \n",
      "    Output:\n",
      "    -------\n",
      "    future_value := future value of the investment\n",
      "\n"
     ]
    }
   ],
   "source": [
    "help(investmentValue)"
   ]
  },
  {
   "cell_type": "markdown",
   "metadata": {},
   "source": [
    "## Some Extremely Useful External Packages/Modules\n",
    "\n",
    "We've seen glimpses of external packages and modules in this course. We briefly used the `math` module to calculate `sin` and `cos`. We used `random` to get a random number in Assignment 1. There are thousands of programmer-defined packages available to Python users. Let's discuss some of the most commonly used.\n",
    "\n",
    "### NumPy\n",
    "\n",
    "The name stands for Numerical Python, and NumPy is the defacto Python standard for numerical calculations in many STEM fields. This package is built around some very fast numerical linear algebra solvers that were first developed in the 1970s in Fortran and C. NumPy can handle matrix algebra, trigonometry and logarithms, complex numbers, basic statistics, and special functions such as the gamma function.\n",
    "\n",
    "You can import the package with a single command."
   ]
  },
  {
   "cell_type": "code",
   "execution_count": 2,
   "metadata": {},
   "outputs": [
    {
     "name": "stdout",
     "output_type": "stream",
     "text": [
      "['__name__', '__doc__', '__package__', '__loader__', '__spec__', '__path__', '__file__', '__cached__', '__builtins__', 'division', 'absolute_import', 'print_function', 'sys', 'warnings', '_globals', 'ModuleDeprecationWarning', 'VisibleDeprecationWarning', '_NoValue', '__NUMPY_SETUP__', '__config__', 'show_config', 'version', '__git_revision__', '__version__', '_import_tools', 'PackageLoader', 'pkgload', 'compat', 'testing', 'core', 'matrixlib', 'linalg', 'lib', 'add_newdocs', '__all__', 'Tester', 'test', 'bench', '_distributor_init', 'char', 'rec', 'memmap', 'newaxis', 'ndarray', 'flatiter', 'nditer', 'nested_iters', 'ufunc', 'arange', 'array', 'zeros', 'count_nonzero', 'empty', 'broadcast', 'dtype', 'fromstring', 'fromfile', 'frombuffer', 'int_asbuffer', 'where', 'argwhere', 'copyto', 'concatenate', 'fastCopyAndTranspose', 'lexsort', 'set_numeric_ops', 'can_cast', 'promote_types', 'min_scalar_type', 'result_type', 'asarray', 'asanyarray', 'ascontiguousarray', 'asfortranarray', 'isfortran', 'empty_like', 'zeros_like', 'ones_like', 'correlate', 'convolve', 'inner', 'dot', 'outer', 'vdot', 'alterdot', 'restoredot', 'roll', 'rollaxis', 'moveaxis', 'cross', 'tensordot', 'array2string', 'get_printoptions', 'set_printoptions', 'array_repr', 'array_str', 'set_string_function', 'little_endian', 'require', 'fromiter', 'array_equal', 'array_equiv', 'indices', 'fromfunction', 'isclose', 'load', 'loads', 'isscalar', 'binary_repr', 'base_repr', 'ones', 'identity', 'allclose', 'compare_chararrays', 'putmask', 'seterr', 'geterr', 'setbufsize', 'getbufsize', 'seterrcall', 'geterrcall', 'errstate', 'flatnonzero', 'Inf', 'inf', 'infty', 'Infinity', 'nan', 'NaN', 'False_', 'True_', 'bitwise_not', 'CLIP', 'RAISE', 'WRAP', 'MAXDIMS', 'BUFSIZE', 'ALLOW_THREADS', 'ComplexWarning', 'full', 'full_like', 'matmul', 'shares_memory', 'may_share_memory', 'MAY_SHARE_BOUNDS', 'MAY_SHARE_EXACT', 'TooHardError', 'alen', 'all', 'alltrue', 'amax', 'amin', 'any', 'argmax', 'argmin', 'argpartition', 'argsort', 'around', 'choose', 'clip', 'compress', 'cumprod', 'cumproduct', 'cumsum', 'diagonal', 'mean', 'ndim', 'nonzero', 'partition', 'prod', 'product', 'ptp', 'put', 'rank', 'ravel', 'repeat', 'reshape', 'resize', 'round_', 'searchsorted', 'shape', 'size', 'sometrue', 'sort', 'squeeze', 'std', 'sum', 'swapaxes', 'take', 'trace', 'transpose', 'var', 'frompyfunc', 'seterrobj', 'geterrobj', 'absolute', 'add', 'arccos', 'arccosh', 'arcsin', 'arcsinh', 'arctan', 'arctan2', 'arctanh', 'bitwise_and', 'bitwise_or', 'bitwise_xor', 'cbrt', 'ceil', 'conjugate', 'copysign', 'cos', 'cosh', 'deg2rad', 'degrees', 'equal', 'exp', 'exp2', 'expm1', 'fabs', 'float_power', 'floor', 'floor_divide', 'fmax', 'fmin', 'fmod', 'frexp', 'greater', 'greater_equal', 'hypot', 'invert', 'isfinite', 'isinf', 'isnan', 'ldexp', 'left_shift', 'less', 'less_equal', 'log', 'log10', 'log1p', 'log2', 'logaddexp', 'logaddexp2', 'logical_and', 'logical_not', 'logical_or', 'logical_xor', 'maximum', 'minimum', 'modf', 'multiply', 'negative', 'nextafter', 'not_equal', 'power', 'rad2deg', 'radians', 'reciprocal', 'remainder', 'right_shift', 'rint', 'sign', 'signbit', 'sin', 'sinh', 'spacing', 'sqrt', 'square', 'subtract', 'tan', 'tanh', 'true_divide', 'trunc', 'pi', 'e', 'euler_gamma', 'ERR_IGNORE', 'ERR_WARN', 'ERR_CALL', 'ERR_RAISE', 'ERR_PRINT', 'ERR_LOG', 'ERR_DEFAULT', 'SHIFT_DIVIDEBYZERO', 'SHIFT_OVERFLOW', 'SHIFT_UNDERFLOW', 'SHIFT_INVALID', 'FPE_DIVIDEBYZERO', 'FPE_OVERFLOW', 'FPE_UNDERFLOW', 'FPE_INVALID', 'FLOATING_POINT_SUPPORT', 'UFUNC_PYVALS_NAME', 'UFUNC_BUFSIZE_DEFAULT', 'PINF', 'NINF', 'PZERO', 'NZERO', 'NAN', 'divide', 'conj', 'mod', 'sctypeDict', 'sctypeNA', 'typeDict', 'typeNA', 'sctypes', 'ScalarType', 'obj2sctype', 'cast', 'nbytes', 'sctype2char', 'maximum_sctype', 'issctype', 'typecodes', 'find_common_type', 'issubdtype', 'datetime_data', 'datetime_as_string', 'busday_offset', 'busday_count', 'is_busday', 'busdaycalendar', 'byte', 'ubyte', 'short', 'ushort', 'uint', 'intp', 'uintp', 'long', 'longlong', 'ulonglong', 'half', 'double', 'longdouble', 'cfloat', 'cdouble', 'clongdouble', 'unicode', 'void', 'generic', 'number', 'integer', 'inexact', 'signedinteger', 'unsignedinteger', 'floating', 'complexfloating', 'flexible', 'character', 'bool8', 'float16', 'float32', 'float64', 'float128', 'complex64', 'complex128', 'complex256', 'object0', 'bytes0', 'str0', 'void0', 'datetime64', 'timedelta64', 'int64', 'uint64', 'int32', 'uint32', 'int16', 'uint16', 'int8', 'uint8', 'complex_', 'int0', 'uint0', 'single', 'csingle', 'singlecomplex', 'float_', 'intc', 'uintc', 'int_', 'longfloat', 'clongfloat', 'longcomplex', 'bool_', 'unicode_', 'object_', 'bytes_', 'str_', 'string_', 'record', 'recarray', 'format_parser', 'chararray', 'logspace', 'linspace', 'geomspace', 'MachAr', 'finfo', 'iinfo', 'atleast_1d', 'atleast_2d', 'atleast_3d', 'vstack', 'hstack', 'stack', 'einsum', 'einsum_path', 'emath', 'math', 'iscomplexobj', 'isrealobj', 'imag', 'iscomplex', 'isreal', 'nan_to_num', 'real', 'real_if_close', 'typename', 'asfarray', 'mintypecode', 'asscalar', 'common_type', 'ravel_multi_index', 'unravel_index', 'mgrid', 'ogrid', 'r_', 'c_', 's_', 'index_exp', 'ix_', 'ndenumerate', 'ndindex', 'fill_diagonal', 'diag_indices', 'diag_indices_from', 'select', 'piecewise', 'trim_zeros', 'copy', 'iterable', 'percentile', 'diff', 'gradient', 'angle', 'unwrap', 'sort_complex', 'disp', 'flip', 'rot90', 'extract', 'place', 'vectorize', 'asarray_chkfinite', 'average', 'histogram', 'histogramdd', 'bincount', 'digitize', 'cov', 'corrcoef', 'msort', 'median', 'sinc', 'hamming', 'hanning', 'bartlett', 'blackman', 'kaiser', 'trapz', 'i0', 'add_newdoc', 'add_docstring', 'meshgrid', 'delete', 'insert', 'append', 'interp', 'add_newdoc_ufunc', 'column_stack', 'row_stack', 'dstack', 'array_split', 'split', 'hsplit', 'vsplit', 'dsplit', 'apply_over_axes', 'expand_dims', 'apply_along_axis', 'kron', 'tile', 'get_array_wrap', 'broadcast_to', 'broadcast_arrays', 'diag', 'diagflat', 'eye', 'fliplr', 'flipud', 'tri', 'triu', 'tril', 'vander', 'histogram2d', 'mask_indices', 'tril_indices', 'tril_indices_from', 'triu_indices', 'triu_indices_from', 'fix', 'isneginf', 'isposinf', 'pad', 'poly', 'roots', 'polyint', 'polyder', 'polyadd', 'polysub', 'polymul', 'polydiv', 'polyval', 'poly1d', 'polyfit', 'RankWarning', 'issubclass_', 'issubsctype', 'deprecate', 'deprecate_with_doc', 'get_include', 'info', 'source', 'who', 'lookfor', 'byte_bounds', 'safe_eval', 'ediff1d', 'intersect1d', 'setxor1d', 'union1d', 'setdiff1d', 'unique', 'in1d', 'savetxt', 'loadtxt', 'genfromtxt', 'ndfromtxt', 'mafromtxt', 'recfromtxt', 'recfromcsv', 'save', 'savez', 'savez_compressed', 'packbits', 'unpackbits', 'fromregex', 'DataSource', 'fv', 'pmt', 'nper', 'ipmt', 'ppmt', 'pv', 'rate', 'irr', 'npv', 'mirr', 'nansum', 'nanmax', 'nanmin', 'nanargmax', 'nanargmin', 'nanmean', 'nanmedian', 'nanpercentile', 'nanvar', 'nanstd', 'nanprod', 'nancumsum', 'nancumprod', 'fft', 'polynomial', 'random', 'ctypeslib', 'ma', '_mat', 'matrix', 'bmat', 'mat', 'asmatrix', 'bool', 'int', 'float', 'complex', 'object', 'str', 'round', 'abs', 'max', 'min', 'oldnumeric', 'numarray']\n"
     ]
    }
   ],
   "source": [
    "import numpy as np\n",
    "\n",
    "print(np.__dir__())"
   ]
  },
  {
   "cell_type": "markdown",
   "metadata": {},
   "source": [
    "### MatPlotLib.pyplot\n",
    "\n",
    "This is a mathematical plotting library. I realize that not everybody is interested in plotting mathematical functions, but you may be surprised at how useful this package is for many other tasks.\n",
    "\n",
    "In addition, MatPlotLib works beautifully with NumPy. Here's an example of plotting some simple functions."
   ]
  },
  {
   "cell_type": "code",
   "execution_count": 3,
   "metadata": {},
   "outputs": [
    {
     "data": {
      "image/png": "[encoded data removed]",
      "text/plain": [
       "<matplotlib.figure.Figure at 0x7fdb27b87c18>"
      ]
     },
     "metadata": {},
     "output_type": "display_data"
    }
   ],
   "source": [
    "%matplotlib inline\n",
    "# The previous command is just so the plots display in this Jupyter notebook.\n",
    "\n",
    "import matplotlib.pyplot as plt\n",
    "\n",
    "# Create 301 evenly spaced points between 0 and 2pi.\n",
    "x = np.linspace(0, 2*np.pi, 301)\n",
    "\n",
    "# Functions to plot.\n",
    "f1 = np.sin(x)\n",
    "f2 = np.cos(x)\n",
    "f3 = np.cos(2*x)\n",
    "\n",
    "# Plot all functions on the same axes.\n",
    "# Set axis limits [x_min, x_max, y_min, y_max]\n",
    "plt.xlim(0,2*np.pi)\n",
    "plt.ylim(-1,1)\n",
    "\n",
    "# Plot the functions in different colors. 'r' = red, 'b' = blue, 'k' = black.\n",
    "plt.plot(x, f1, 'r', x, f2, 'b', x, f3, 'k');"
   ]
  },
  {
   "cell_type": "code",
   "execution_count": 198,
   "metadata": {
    "scrolled": false
   },
   "outputs": [
    {
     "data": {
      "image/png": "[encoded data removed]",
      "text/plain": [
       "<matplotlib.figure.Figure at 0x7fba151b4400>"
      ]
     },
     "metadata": {},
     "output_type": "display_data"
    }
   ],
   "source": [
    "# Set plot options.\n",
    "fig = plt.figure(figsize=(10,10))\n",
    "fig.subplots_adjust(hspace=1, wspace=1)\n",
    "\n",
    "\"\"\" Create 3 subplots. \n",
    "    First argument := number of rows in grid\n",
    "    Second argument := number of columns in grid\n",
    "    Third argument := position of current subplot (positions are labelled left to right, top to bottom)\n",
    "    \n",
    "\"\"\"\n",
    "\n",
    "plt.subplot(3,1,1)\n",
    "plt.title('Sine Function')\n",
    "plt.plot(x,f1);\n",
    "\n",
    "plt.subplot(3,1,2)\n",
    "plt.title('Cosine Function')\n",
    "plt.plot(x,f2);\n",
    "\n",
    "plt.subplot(3,1,3)\n",
    "plt.title('Cos(2x) Function')\n",
    "plt.plot(x,f3);"
   ]
  },
  {
   "cell_type": "markdown",
   "metadata": {},
   "source": [
    "You can also make histograms with MatPlotLib and NumPy."
   ]
  },
  {
   "cell_type": "code",
   "execution_count": 199,
   "metadata": {
    "scrolled": true
   },
   "outputs": [
    {
     "data": {
      "image/png": "[encoded data removed]",
      "text/plain": [
       "<matplotlib.figure.Figure at 0x7fba14a64b70>"
      ]
     },
     "metadata": {},
     "output_type": "display_data"
    }
   ],
   "source": [
    "import numpy as np\n",
    "import matplotlib.pyplot as plt\n",
    "\n",
    "# Fixing random state for reproducibility\n",
    "np.random.seed(19680801)\n",
    "\n",
    "mu, sigma = 100, 15\n",
    "X = mu + sigma * np.random.randn(10000)\n",
    "\n",
    "# the histogram of the data\n",
    "n, bins, patches = plt.hist(X, 50, normed=1, facecolor='g', alpha=0.75)\n",
    "\n",
    "plt.xlabel('Smarts')\n",
    "plt.ylabel('Probability')\n",
    "plt.title('Histogram of IQ')\n",
    "plt.text(60, .025, r'$\\mu=100,\\ \\sigma=15$')\n",
    "plt.axis([40, 160, 0, 0.03])\n",
    "plt.grid(True)\n",
    "plt.show();"
   ]
  },
  {
   "cell_type": "markdown",
   "metadata": {},
   "source": [
    "## Installing Packages and the Python Packaging Index (PyPI)\n",
    "\n",
    "As mentioned above, there are thousands of available packages for all kinds of applications. You can find some of the best packages at the [Python Packaging Index](https://pypi.org). These packages can usually be installed from the terminal using the command `pip install <package-name> --user`. The `--user` option is used where you don't have administrative priviledges to install things, such as the Syzygy server.\n",
    "\n",
    "Here is an example of the output when we try to install NumPy."
   ]
  },
  {
   "cell_type": "code",
   "execution_count": 200,
   "metadata": {},
   "outputs": [
    {
     "name": "stdout",
     "output_type": "stream",
     "text": [
      "Requirement already satisfied: numpy in /opt/conda/lib/python3.6/site-packages (1.12.1)\r\n"
     ]
    }
   ],
   "source": [
    "!pip install numpy --user"
   ]
  },
  {
   "cell_type": "markdown",
   "metadata": {},
   "source": [
    "We already knew that we had NumPy installed. Let's try another package."
   ]
  },
  {
   "cell_type": "code",
   "execution_count": 201,
   "metadata": {
    "scrolled": true
   },
   "outputs": [
    {
     "name": "stdout",
     "output_type": "stream",
     "text": [
      "Collecting TheanoLM\n",
      "Requirement already satisfied: h5py in /opt/conda/lib/python3.6/site-packages (from TheanoLM) (2.6.0)\n",
      "Requirement already satisfied: Theano in /opt/conda/lib/python3.6/site-packages (from TheanoLM) (1.0.2)\n",
      "Requirement already satisfied: numpy in /opt/conda/lib/python3.6/site-packages (from TheanoLM) (1.12.1)\n",
      "Requirement already satisfied: six in /opt/conda/lib/python3.6/site-packages (from h5py->TheanoLM) (1.11.0)\n",
      "Requirement already satisfied: scipy>=0.14 in /opt/conda/lib/python3.6/site-packages (from Theano->TheanoLM) (0.19.1)\n",
      "Installing collected packages: TheanoLM\n",
      "Successfully installed TheanoLM-1.3.0\n"
     ]
    }
   ],
   "source": [
    "!pip install TheanoLM --user"
   ]
  },
  {
   "cell_type": "markdown",
   "metadata": {},
   "source": [
    "## *Exercises*\n",
    "\n",
    "<ol>\n",
    "    <li> Write a function that takes in two arguments, a list and a value. Your function should return `True` if the value is in the list and `False` if not. Such functions are often called 'characteristic' or 'indicator' functions. </li>\n",
    "</ol>"
   ]
  },
  {
   "cell_type": "code",
   "execution_count": 221,
   "metadata": {},
   "outputs": [
    {
     "name": "stdout",
     "output_type": "stream",
     "text": [
      "False\n"
     ]
    }
   ],
   "source": [
    "def charFunction(elements, node):\n",
    "    \"\"\" Return True if 'node' is in 'elements', False otherwise. \"\"\"\n",
    "    \n",
    "    # Convert everything to strings to avoid type problems.\n",
    "    str_elements = [str(value) for value in elements]\n",
    "    str_node = str(node)\n",
    "    \n",
    "    if str_node in str_elements:\n",
    "        return True\n",
    "    else:\n",
    "        return False\n",
    "    \n",
    "test_list = ['Jewel','Seal','Monica','Brandy','Madonna','Bono','Everlast']\n",
    "test_list1 = [True, False, True, True, False]\n",
    "\n",
    "print(charFunction(test_list1, 'Lions'))"
   ]
  },
  {
   "cell_type": "markdown",
   "metadata": {},
   "source": [
    "<ol start='2'>\n",
    "    <li> The Christmas Gift Exchange. Write a function or sequence of nested functions that takes in a list of names and randomly assigns Christmas gift giving/receiving pairs. Your function(s) should make sure nobody gets a gift for themselves. </li>\n",
    "</ol>"
   ]
  },
  {
   "cell_type": "code",
   "execution_count": 249,
   "metadata": {},
   "outputs": [
    {
     "name": "stdout",
     "output_type": "stream",
     "text": [
      "[('George', 'Pearl'), ('William', 'Beatrice'), ('Mary', 'William'), ('Beatrice', 'Commodore'), ('Percival', 'Mary'), ('Commodore', 'George'), ('Pearl', 'Percival')]\n"
     ]
    }
   ],
   "source": [
    "# Your code here.\n",
    "import random\n",
    "\n",
    "names = ['George','William','Mary','Beatrice','Percival','Commodore','Pearl']\n",
    "\n",
    "def randomJumble(names):\n",
    "    \"\"\" Randomly mix up the list of names. \"\"\"\n",
    "    \n",
    "    random_names = random.sample(names, len(names))\n",
    "    \n",
    "    # Check if any names are repeated and jumble the list again if there are.\n",
    "    for (p1,p2) in zip(names, random_names):\n",
    "        if p1 is p2:\n",
    "            random_names = random.sample(names, len(names))\n",
    "    \n",
    "    \n",
    "    gifts = [(person1, person2) for (person1, person2) in zip(names, random_names)]\n",
    "    print(gifts)\n",
    "    \n",
    "    pass\n",
    "\n",
    "randomJumble(names)"
   ]
  },
  {
   "cell_type": "markdown",
   "metadata": {},
   "source": [
    "<ol start='3'>\n",
    "    <li> Modify the 'Restaurant Bill Calculator' code above to allow the customer to specify if they want to apply the tip before or after the GST. You can also add an option for the customer to specify the tip as a percentage or as an amount. </li>\n",
    "</ol>"
   ]
  },
  {
   "cell_type": "code",
   "execution_count": 251,
   "metadata": {},
   "outputs": [
    {
     "name": "stdout",
     "output_type": "stream",
     "text": [
      "Thank you for eating at the Python Cafe.\n",
      "\n",
      "Please input amount: 261.76\n",
      "Calculate tip after tax? y\n",
      "Please input tip %: 16\n",
      "\n",
      "\n",
      "Your GST is $13.09\n",
      "Your total today is $318.82.\n"
     ]
    }
   ],
   "source": [
    "def main():\n",
    "    \"\"\" Restaurant Bill Calculator. \"\"\"\n",
    "    \n",
    "    print('Thank you for eating at the Python Cafe.\\n')\n",
    "    \n",
    "    # Get the before-tax bill.\n",
    "    bill = float(input('Please input amount: '))\n",
    "    \n",
    "    when_to_calc_tip = 'e'\n",
    "    \n",
    "    while when_to_calc_tip not in ['y','n']:\n",
    "        when_to_calc_tip = input('Calculate tip after tax? ')\n",
    "    \n",
    "    if when_to_calc_tip is 'y':\n",
    "        tip_rate = -1\n",
    "\n",
    "        while tip_rate < 0:\n",
    "            tip_rate = float(input('Please input tip %: '))\n",
    "\n",
    "        if tip_rate % 100 is not 0:\n",
    "            tip_rate /= 100\n",
    "\n",
    "        total_tax = GST(bill)\n",
    "        total = tip(total_tax, tip_rate)\n",
    "\n",
    "        print('\\n\\nYour GST is ${:.2f}'.format(total_tax - bill))    \n",
    "        print('Your total today is ${:.2f}.'.format(total))\n",
    "    else:\n",
    "        tip_rate = -1\n",
    "\n",
    "        while tip_rate < 0:\n",
    "            tip_rate = float(input('Please input tip %: '))\n",
    "\n",
    "        if tip_rate % 100 is not 0:\n",
    "            tip_rate /= 100\n",
    "\n",
    "        tip_amount = tip(bill, tip_rate) - bill\n",
    "        total_tax = GST(bill)\n",
    "        \n",
    "        total = tip_amount + total_tax\n",
    "\n",
    "        print('\\n\\nYour GST is ${:.2f}'.format(total_tax))    \n",
    "        print('Your total today is ${:.2f}.'.format(total))\n",
    "    \n",
    "if __name__ == '__main__':\n",
    "    main()"
   ]
  },
  {
   "cell_type": "markdown",
   "metadata": {},
   "source": [
    "<ol start = '4'>\n",
    "    <li> Write a program to convert between Fahrenheit and Celsius temperatures. The formula for converting &deg;C to &deg;F is $T_F = T_C\\cdot \\frac{9}{5} + 32$. The formula to convert &deg;F to &deg;C is $T_F = (T_F - 32)\\cdot\\frac{5}{9}$. </li>\n",
    "</ol>"
   ]
  },
  {
   "cell_type": "code",
   "execution_count": 253,
   "metadata": {},
   "outputs": [
    {
     "name": "stdout",
     "output_type": "stream",
     "text": [
      "32 degrees F is 0.0 degrees C.\n",
      "32 degrees C is 89.6 degrees F.\n"
     ]
    }
   ],
   "source": [
    "# Your code here.\n",
    "def convertToCelsius(degreesFahr):\n",
    "    \"\"\" Convert degrees Fahrenheit to Celsius. \"\"\"\n",
    "    \n",
    "    return (degreesFahr - 32)*5/9\n",
    "\n",
    "def convertToFahrenheit(degreesCel):\n",
    "    \"\"\" Convert degrees Celsius to Fahrenheit. \"\"\"\n",
    "    \n",
    "    return degreesCel*9/5 + 32\n",
    "\n",
    "# Testing.\n",
    "print('{} degrees F is {} degrees C.'.format(32,convertToCelsius(32)))\n",
    "print('{} degrees C is {} degrees F.'.format(32,convertToFahrenheit(32)))"
   ]
  },
  {
   "cell_type": "markdown",
   "metadata": {},
   "source": [
    "<ol start='5'>\n",
    "    <li> The 'Scoobify' function doesn't replace commas in a string with commas after replacing `keywords` with 'Scooby'. Define a new function (or functions) that correctly preserve commas in the scoobified sentence. </li>\n",
    "</ol>"
   ]
  },
  {
   "cell_type": "code",
   "execution_count": null,
   "metadata": {},
   "outputs": [],
   "source": [
    "# Your code here."
   ]
  },
  {
   "cell_type": "markdown",
   "metadata": {},
   "source": [
    "### `try` and `except`\n",
    "\n",
    "You can also use `try` and `except` to throw exceptions."
   ]
  },
  {
   "cell_type": "code",
   "execution_count": 222,
   "metadata": {},
   "outputs": [
    {
     "name": "stdout",
     "output_type": "stream",
     "text": [
      "You need to read the documentation!\n"
     ]
    }
   ],
   "source": [
    "try:\n",
    "    # Write the code you want to try.\n",
    "    import TheanoLM\n",
    "except:\n",
    "    # Write what happens if an exception is raised.\n",
    "    print('You need to read the documentation!')"
   ]
  },
  {
   "cell_type": "code",
   "execution_count": 232,
   "metadata": {},
   "outputs": [
    {
     "ename": "ValueError",
     "evalue": "It did not work.",
     "output_type": "error",
     "traceback": [
      "\u001b[0;31m---------------------------------------------------------------------------\u001b[0m",
      "\u001b[0;31mValueError\u001b[0m                                Traceback (most recent call last)",
      "\u001b[0;32m<ipython-input-232-48bb89ce3cb7>\u001b[0m in \u001b[0;36m<module>\u001b[0;34m()\u001b[0m\n\u001b[1;32m     10\u001b[0m         \u001b[0;32mreturn\u001b[0m \u001b[0;34m-\u001b[0m\u001b[0mx\u001b[0m\u001b[0;34m\u001b[0m\u001b[0m\n\u001b[1;32m     11\u001b[0m \u001b[0;34m\u001b[0m\u001b[0m\n\u001b[0;32m---> 12\u001b[0;31m \u001b[0mprint\u001b[0m\u001b[0;34m(\u001b[0m\u001b[0mabsoluteValue\u001b[0m\u001b[0;34m(\u001b[0m\u001b[0;34m'word'\u001b[0m\u001b[0;34m)\u001b[0m\u001b[0;34m)\u001b[0m\u001b[0;34m\u001b[0m\u001b[0m\n\u001b[0m",
      "\u001b[0;32m<ipython-input-232-48bb89ce3cb7>\u001b[0m in \u001b[0;36mabsoluteValue\u001b[0;34m(x)\u001b[0m\n\u001b[1;32m      3\u001b[0m \u001b[0;34m\u001b[0m\u001b[0m\n\u001b[1;32m      4\u001b[0m     \u001b[0;32mif\u001b[0m \u001b[0mtype\u001b[0m\u001b[0;34m(\u001b[0m\u001b[0mx\u001b[0m\u001b[0;34m)\u001b[0m \u001b[0;32mis\u001b[0m \u001b[0mtype\u001b[0m\u001b[0;34m(\u001b[0m\u001b[0;34m'h'\u001b[0m\u001b[0;34m)\u001b[0m\u001b[0;34m:\u001b[0m\u001b[0;34m\u001b[0m\u001b[0m\n\u001b[0;32m----> 5\u001b[0;31m         \u001b[0;32mraise\u001b[0m \u001b[0mValueError\u001b[0m\u001b[0;34m(\u001b[0m\u001b[0;34m'It did not work.'\u001b[0m\u001b[0;34m)\u001b[0m\u001b[0;34m\u001b[0m\u001b[0m\n\u001b[0m\u001b[1;32m      6\u001b[0m \u001b[0;34m\u001b[0m\u001b[0m\n\u001b[1;32m      7\u001b[0m     \u001b[0;32mif\u001b[0m \u001b[0mx\u001b[0m \u001b[0;34m>=\u001b[0m \u001b[0;36m0\u001b[0m\u001b[0;34m:\u001b[0m\u001b[0;34m\u001b[0m\u001b[0m\n",
      "\u001b[0;31mValueError\u001b[0m: It did not work."
     ]
    }
   ],
   "source": [
    "def absoluteValue(x):\n",
    "    \"\"\" The absolute value function. \"\"\"\n",
    "    \n",
    "    if type(x) is type('h'):\n",
    "        raise ValueError('It did not work.')\n",
    "    \n",
    "    if x >= 0:\n",
    "        return x\n",
    "    elif x < 0:\n",
    "        return -x\n",
    "    \n",
    "print(absoluteValue('word'))"
   ]
  },
  {
   "cell_type": "code",
   "execution_count": 239,
   "metadata": {},
   "outputs": [
    {
     "name": "stdout",
     "output_type": "stream",
     "text": [
      "4,5,6,7\n",
      "1,2,3,4\n"
     ]
    }
   ],
   "source": [
    "try:\n",
    "    file = open('data.csv')\n",
    "    F = file.read()\n",
    "except:\n",
    "    print('The file does not exist.')\n",
    "\n",
    "print(F)"
   ]
  },
  {
   "cell_type": "code",
   "execution_count": null,
   "metadata": {},
   "outputs": [],
   "source": []
  }
 ],
 "metadata": {
  "kernelspec": {
   "display_name": "Python 3",
   "language": "python",
   "name": "python3"
  },
  "language_info": {
   "codemirror_mode": {
    "name": "ipython",
    "version": 3
   },
   "file_extension": ".py",
   "mimetype": "text/x-python",
   "name": "python",
   "nbconvert_exporter": "python",
   "pygments_lexer": "ipython3",
   "version": "3.6.5"
  }
 },
 "nbformat": 4,
 "nbformat_minor": 2
}
