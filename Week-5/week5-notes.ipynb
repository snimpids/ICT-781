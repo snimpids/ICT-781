{
 "cells": [
  {
   "cell_type": "markdown",
   "metadata": {},
   "source": [
    "# ICT 781 - Week 5\n",
    "\n",
    "# More Functions!\n",
    "\n",
    "Last week we introduced functions and used them to make our code more modular. Today we'll take a second look at functions and how they expand on the power of Python.\n",
    "\n",
    "### *Example 1: Dictionary Comprehensions as Return Values*\n",
    "\n",
    "First, let's take a step back and recall list and dictionary comprehensions. Suppose we wanted to keep track of some favourite classic video games. We could do this with a dictionary comprehension."
   ]
  },
  {
   "cell_type": "code",
   "execution_count": 6,
   "metadata": {},
   "outputs": [
    {
     "name": "stdout",
     "output_type": "stream",
     "text": [
      "{'Hostages': ('Hostages', '1988', ['Infogrames', 'Superior Software'], 'Strategy'), 'Final Fantasy': ('Final Fantasy', '1987', ['Square', 'Nintendo'], ['Role Playing', 'Adventure']), 'Little Nemo - The Dream Master': ('Little Nemo - The Dream Master', '1990', 'Capcom', 'Platformer'), 'DuckTales': ('DuckTales', '1989', 'Capcom', 'Platformer')}\n"
     ]
    }
   ],
   "source": [
    "# Dictionary of favourite classic video games.\n",
    "titles = ['Hostages','Final Fantasy','Little Nemo - The Dream Master','DuckTales']\n",
    "years = ['1988','1987','1990','1989']\n",
    "publishers = [['Infogrames','Superior Software'],['Square','Nintendo'],'Capcom','Capcom']\n",
    "genres = ['Strategy',['Role Playing','Adventure'],'Platformer','Platformer']\n",
    "\n",
    "# Dictionary of games.\n",
    "games = {title: info for title, info in zip(titles,zip(titles, years, publishers, genres))}\n",
    "print(games)"
   ]
  },
  {
   "cell_type": "markdown",
   "metadata": {},
   "source": [
    "The code above creates a dictionary that should look like this:\n",
    "\n",
    "title: (title, year, publisher)"
   ]
  },
  {
   "cell_type": "code",
   "execution_count": 4,
   "metadata": {},
   "outputs": [
    {
     "name": "stdout",
     "output_type": "stream",
     "text": [
      "[('Hostages', '1988', ['Infogrames', 'Superior Software'], 'Strategy'), ('Final Fantasy', '1987', ['Square', 'Nintendo'], ['Role Playing', 'Adventure']), ('Little Nemo - The Dream Master', '1990', 'Capcom', 'Platformer'), ('DuckTales', '1989', 'Capcom', 'Platformer')]\n"
     ]
    }
   ],
   "source": [
    "# Starting from the innermost zip command\n",
    "print(list(zip(titles, years, publishers, genres)))"
   ]
  },
  {
   "cell_type": "code",
   "execution_count": 5,
   "metadata": {
    "scrolled": true
   },
   "outputs": [
    {
     "name": "stdout",
     "output_type": "stream",
     "text": [
      "[('Hostages', ('Hostages', '1988', ['Infogrames', 'Superior Software'], 'Strategy')), ('Final Fantasy', ('Final Fantasy', '1987', ['Square', 'Nintendo'], ['Role Playing', 'Adventure'])), ('Little Nemo - The Dream Master', ('Little Nemo - The Dream Master', '1990', 'Capcom', 'Platformer')), ('DuckTales', ('DuckTales', '1989', 'Capcom', 'Platformer'))]\n"
     ]
    }
   ],
   "source": [
    "# Now the next zip command.\n",
    "print(list(zip(titles,zip(titles, years, publishers, genres))))"
   ]
  },
  {
   "cell_type": "code",
   "execution_count": 9,
   "metadata": {},
   "outputs": [
    {
     "name": "stdout",
     "output_type": "stream",
     "text": [
      "Hostages ('Hostages', '1988', ['Infogrames', 'Superior Software'], 'Strategy')\n",
      "Final Fantasy ('Final Fantasy', '1987', ['Square', 'Nintendo'], ['Role Playing', 'Adventure'])\n",
      "Little Nemo - The Dream Master ('Little Nemo - The Dream Master', '1990', 'Capcom', 'Platformer')\n",
      "DuckTales ('DuckTales', '1989', 'Capcom', 'Platformer')\n",
      "\n",
      "1988\n"
     ]
    }
   ],
   "source": [
    "# Writing the dictionary comprehension as a for loop.\n",
    "\n",
    "for title, info in zip(titles,zip(titles, years, publishers, genres)):\n",
    "    print(title, info)\n",
    "\n",
    "print()\n",
    "# Print just the year of the game 'Hostages'.\n",
    "print(games['Hostages'][1])"
   ]
  },
  {
   "cell_type": "markdown",
   "metadata": {},
   "source": [
    "The above code is only one of the ways to accomplish this task. There are several other possibilities. Now, let's put all of this into a function."
   ]
  },
  {
   "cell_type": "code",
   "execution_count": 16,
   "metadata": {},
   "outputs": [
    {
     "name": "stdout",
     "output_type": "stream",
     "text": [
      "{'Hostages': ('Hostages', '1988', ['Infogrames', 'Superior Software'], 'a'), 'Final Fantasy': ('Final Fantasy', '1987', ['Square', 'Nintendo'], 'b'), 'Little Nemo - The Dream Master': ('Little Nemo - The Dream Master', '1990', 'Capcom', 'c')}\n"
     ]
    }
   ],
   "source": [
    "def gamesDict(titles, years, publishers, genres):\n",
    "    \"\"\" Makes a dictionary of games based on  \n",
    "        user-supplied titles, years, and publishers.\n",
    "    \"\"\" \n",
    "    \n",
    "    # Check lengths of inputs.\n",
    "    if len(titles) != len(years) != len(publishers) != len(genres):\n",
    "        M = max([len(titles),len(years),len(publishers),len(genres)])\n",
    "        \n",
    "        # If the inputs have different lengths, fill out the shorter input lists with None.\n",
    "        for i in [titles,years,publishers,genres]:\n",
    "            for j in range(len(i),M):\n",
    "                i.append(None)\n",
    "                \n",
    "    return {title: info for title, info in zip(titles,zip(titles,years,publishers,genres))}   \n",
    "\n",
    "genres = ['a','b','c']\n",
    "print(gamesDict(titles, years, publishers, genres))"
   ]
  },
  {
   "cell_type": "markdown",
   "metadata": {},
   "source": [
    "Notice that we didn't raise an error if the user input lists of different lengths. This is a style of programming referred to as ['It's Easier to Ask Forgiveness than Permission'](https://en.wikiquote.org/wiki/Grace_Hopper) (EAFP). Instead of breaking the function with inputs of unequal lengths, we decided to deal with the problem ourselves. This isn't always a good idea, but can be considerably less frustrating for others trying to use your code.\n",
    "\n",
    "Our function took in three lists and returned a dictionary. This example shows that a function can handle any reasonable input and give an output of a completely independent type.\n",
    "\n",
    "### *Example 2: List Comprehensions*\n",
    "\n",
    "Let's do another example of 2 functions with list comprehensions. In the first function, we'll take in a string and perform various transformations on it with list comprehensions. \n",
    "\n",
    "The second function will take in an upper and lower bound and add up all of the multiples of 3 and 5 between the bounds."
   ]
  },
  {
   "cell_type": "code",
   "execution_count": 24,
   "metadata": {
    "scrolled": true
   },
   "outputs": [
    {
     "name": "stdout",
     "output_type": "stream",
     "text": [
      "['Hillo is whAt I would hAvi sAid to him', 'Hello is what I would have said to Scooby']\n",
      "1350\n"
     ]
    }
   ],
   "source": [
    "def changeString(string):\n",
    "    \"\"\" Performs various transformations on input string. \n",
    "        The output is a list of different versions of the\n",
    "        string.\n",
    "    \"\"\"\n",
    "    \n",
    "    # Change all 'e' letters to 'i', then capitalize all 'a' letters.\n",
    "    stringe = string.replace('e','i')\n",
    "    stringe = [letter.upper() if letter == 'a' else letter for letter in stringe]\n",
    "    stringe = ''.join(stringe)\n",
    "    \n",
    "    # Change all instances of 'you','me','him','her' to 'Scooby'.\n",
    "    stringL = string.split()\n",
    "    to_scoobify = ['you','me','him','her']\n",
    "    string_scooby = ['Scooby' if word in to_scoobify else word for word in stringL]\n",
    "    string_scooby = ' '.join(string_scooby)\n",
    "    \n",
    "    return [stringe,string_scooby]\n",
    "\n",
    "def multiplesThreeFive(lower_bound, upper_bound):\n",
    "    \"\"\" Function to add up multiples of 3 and 5 between the supplied bounds. \"\"\"\n",
    "    \n",
    "    # If the lower bound is bigger than the upper bound, switch them.\n",
    "    if lower_bound > upper_bound:\n",
    "        lower_bound, upper_bound = upper_bound, lower_bound\n",
    "        \n",
    "    # There's nothing to calculate if the bounds are equal.\n",
    "    if int(lower_bound) is int(upper_bound):\n",
    "        raise ValueError('There are no integers between {0} and {1}.'.format(lower_bound,upper_bound))\n",
    "        \n",
    "    # Convert bounds to integers.\n",
    "    lower_bound, upper_bound = int(lower_bound), int(upper_bound)\n",
    "    \n",
    "    multiples_of_3_or_5 = [i for i in range(lower_bound,upper_bound+1) if i % 3 == 0 or i % 5 == 0]\n",
    "    return sum(multiples_of_3_or_5)\n",
    "\n",
    "print(changeString('Hello is what I would have said to him'))\n",
    "print(multiplesThreeFive(-45,89))"
   ]
  },
  {
   "cell_type": "code",
   "execution_count": 37,
   "metadata": {},
   "outputs": [
    {
     "name": "stdout",
     "output_type": "stream",
     "text": [
      "Hillo is whAt I would hAvi sAid to him\n"
     ]
    }
   ],
   "source": [
    "# Rewriting the list comprehension [letter.upper() if letter == 'a' else letter for letter in stringe]\n",
    "# as a for loop.\n",
    "\n",
    "string = 'Hello is what I would have said to him'\n",
    "stringe = string.replace('e','i')\n",
    "# This works better than a for loop anyways, so let's just do this! Thanks to Rob for the solution!\n",
    "stringe = stringe.replace('a','A')\n",
    "\n",
    "print(stringe)"
   ]
  },
  {
   "cell_type": "markdown",
   "metadata": {},
   "source": [
    "## Notes\n",
    "\n",
    "To comment out multiple lines, highlight the lines and press `Ctrl + /`.\n",
    "\n",
    "To make a new cell, the current cell must be highlighted in blue (navigation mode) on the left (press `Esc` to exit edit mode, `Enter` to enter edit mode). Press `b` to add a cell below, `a` to add a cell above. Press `dd` (in navigation mode) to delete a cell.\n",
    "\n",
    "To show line numbers, press `L` while in navigation mode.\n",
    "\n",
    "In navigation mode, to change a cell to Markdown, press `m`. To change to code, press `y`."
   ]
  },
  {
   "cell_type": "markdown",
   "metadata": {},
   "source": [
    "One thing I'd like to point out here is the use of `{0}` and `{1}` in line 29. When using `<string>.format()`, you can specify which argument of the `.format()` method goes in which curly braces. "
   ]
  },
  {
   "cell_type": "markdown",
   "metadata": {},
   "source": [
    "## Recursive Functions\n",
    "\n",
    "Last week, one of the exercises was to write code that assigns pairs in a Christmas gift exchange. The main difficulty of the code was making sure that no person was paired with themselves, meaning they would get a gift for themselves. This is easier accomplished with a recursive function.\n",
    "\n",
    "A recursive function is one that calls itself until some condition is met. This can be a hard concept to grasp, so let's first look at a simpler example.\n",
    "\n",
    "### *Example 3: The Factorial Function*\n",
    "\n",
    "The factorial function is found throughout math and statistics. It is defined as\n",
    "$$\n",
    "    n! = n\\cdot(n-1)\\cdot(n-2)\\cdots2\\cdot1, \\text{ for } n \\text{ a natural number.}\n",
    "$$\n",
    "\n",
    "We previously defined this with a for loop. Here's the code from last week, with the input checking part removed."
   ]
  },
  {
   "cell_type": "code",
   "execution_count": 38,
   "metadata": {},
   "outputs": [
    {
     "name": "stdout",
     "output_type": "stream",
     "text": [
      "720\n"
     ]
    }
   ],
   "source": [
    "def factorial(n):\n",
    "    \"\"\" The factorial function. \"\"\"\n",
    "        \n",
    "    total = 1\n",
    "    for i in range(1,n+1):\n",
    "        total *= i\n",
    "        \n",
    "    return total\n",
    "    \n",
    "print(factorial(6))"
   ]
  },
  {
   "cell_type": "markdown",
   "metadata": {},
   "source": [
    "We can also implement this as a recursive function."
   ]
  },
  {
   "cell_type": "code",
   "execution_count": 39,
   "metadata": {},
   "outputs": [
    {
     "name": "stdout",
     "output_type": "stream",
     "text": [
      "720\n"
     ]
    }
   ],
   "source": [
    "def factorialRecursive(n):\n",
    "    \"\"\" The recursive factorial function. \"\"\"\n",
    "    total = n\n",
    "    \n",
    "    if n > 1:\n",
    "        total *= factorialRecursive(n-1)\n",
    "    \n",
    "    return total   \n",
    "\n",
    "print(factorialRecursive(6))"
   ]
  },
  {
   "cell_type": "markdown",
   "metadata": {},
   "source": [
    "We see that the recursive function does exactly what the `for` loop version does. So what is the difference? For this function, it is difficult to see. Let's time each function with a larger input, and see which one takes more computing time."
   ]
  },
  {
   "cell_type": "code",
   "execution_count": 53,
   "metadata": {
    "scrolled": true
   },
   "outputs": [
    {
     "name": "stdout",
     "output_type": "stream",
     "text": [
      "The total time for factorial was 0.0006215149999988512s.\n",
      "The total time for factorialRecursive was 0.0010381559999999013s.\n"
     ]
    }
   ],
   "source": [
    "# Get the elapsed time for each function.\n",
    "import time\n",
    "\n",
    "t_forloop = time.process_time()\n",
    "factorial(1000)\n",
    "elapsed_time_forloop = time.process_time() - t_forloop\n",
    "\n",
    "t_recursive = time.process_time()\n",
    "factorialRecursive(1000)\n",
    "elapsed_time_recursive = time.process_time() - t_recursive\n",
    "\n",
    "msg = 'The total time for {} was {}s.'\n",
    "\n",
    "print(msg.format(factorial.__name__, elapsed_time_forloop))\n",
    "print(msg.format(factorialRecursive.__name__, elapsed_time_recursive))"
   ]
  },
  {
   "cell_type": "markdown",
   "metadata": {},
   "source": [
    "We see a huge time loss in the recursive version of the function, about one order of magnitude (depending on the size of the argument). It is extremely important to note that **not all recursive versions of functions result in time savings**. Case in point: I once implemented code to generate a fractal in Matlab. The `for` loop version worked well, but the recursive version used up enough RAM to crash the computer.\n",
    "\n",
    "By the way, if you've never crashed a computer by using all the RAM, I highly recommend doing it at least once. Just make sure you save everything before you attempt it. Please enjoy responsibly.\n",
    "\n",
    "### *Example 4: Christmas Exchange attempted with Recursion*\n",
    "\n",
    "Last week we looked at the Christmas exchange program. The main problem was that it was possible for a gift giver to have to get themself a gift. This recursive version of the program avoids this problem."
   ]
  },
  {
   "cell_type": "code",
   "execution_count": 54,
   "metadata": {},
   "outputs": [
    {
     "name": "stdout",
     "output_type": "stream",
     "text": [
      "('George', 'William')\n",
      "('William', 'Pearl')\n",
      "('Mary', 'George')\n",
      "('Beatrice', 'Commodore')\n",
      "('Percival', 'Mary')\n",
      "('Commodore', 'Percival')\n",
      "('Pearl', 'Beatrice')\n"
     ]
    }
   ],
   "source": [
    "import random as rd\n",
    "\n",
    "names = ['George','William','Mary','Beatrice','Percival','Commodore','Pearl']\n",
    "\n",
    "def selectNames(names):\n",
    "    \"\"\" Function to randomly select names from the list of names. \"\"\"\n",
    "    giftees = rd.sample(names, len(names))\n",
    "    result = list(zip(names, giftees))\n",
    "    \n",
    "    return result\n",
    "\n",
    "def checkNames(result):\n",
    "    \"\"\" Check if any names are duplicated. \"\"\"\n",
    "    if any(result[i][0] is result[i][1] for i in range(len(result))):\n",
    "        return True\n",
    "    else:\n",
    "        return False\n",
    "\n",
    "def nameDraw(names):\n",
    "    \"\"\" Performs the random name draw. \"\"\"\n",
    "    result = selectNames(names)\n",
    "    \n",
    "    # Make sure there's nobody buying for themselves.\n",
    "    while checkNames(result):\n",
    "        result = selectNames(names)\n",
    "    \n",
    "    return result\n",
    "\n",
    "result = nameDraw(names)\n",
    "for i in result:\n",
    "    print(i)"
   ]
  },
  {
   "cell_type": "markdown",
   "metadata": {},
   "source": [
    "## Function Decorators\n",
    "\n",
    "This is a brief introduction to Python function decorators. Since this is an intro course, we will only focus on simple examples, but decorators can be utilized for much more powerful tasks.\n",
    "\n",
    "Let's make a function that takes in some text and then prints it out."
   ]
  },
  {
   "cell_type": "code",
   "execution_count": 57,
   "metadata": {},
   "outputs": [
    {
     "data": {
      "text/plain": [
       "\"This function doesn't do much.\""
      ]
     },
     "execution_count": 57,
     "metadata": {},
     "output_type": "execute_result"
    }
   ],
   "source": [
    "def printFunc(text):\n",
    "    \"\"\" Prints out string argument. \"\"\"\n",
    "    \n",
    "    return text\n",
    "\n",
    "printFunc(\"This function doesn't do much.\")"
   ]
  },
  {
   "cell_type": "markdown",
   "metadata": {},
   "source": [
    "### *Example 5: Function Decorator*\n",
    "\n",
    "Now suppose that we want to place the string argument of `printFunc` inside an HTML paragraph. We *could* alter the code, but maybe we don't want to touch it because it's working fine. Also, maybe we want a general way to put the output of *any* function inside an HTML paragraph. This is easy with **function decorators**.\n",
    "\n",
    "A **function decorator** is a Python function that literally *decorates* the output of another function. We'll define a decorator called `paragraphDecorator` that takes in a function as an argument and outputs that function's output as text wrapped in HTML paragraph tags."
   ]
  },
  {
   "cell_type": "code",
   "execution_count": 58,
   "metadata": {
    "scrolled": true
   },
   "outputs": [
    {
     "data": {
      "text/plain": [
       "'<p> User input the following: This is inside a paragraph tag. </p>'"
      ]
     },
     "execution_count": 58,
     "metadata": {},
     "output_type": "execute_result"
    }
   ],
   "source": [
    "def paragraphDecorator(func):\n",
    "    \"\"\" Place output of func inside an HTML paragraph. \"\"\"\n",
    "    \n",
    "    def wrapper(text):\n",
    "        return '<p> {} </p>'.format(func(text))\n",
    "    \n",
    "    return wrapper\n",
    "\n",
    "def printFunc(text):\n",
    "    \"\"\" Prints out string argument. \"\"\"\n",
    "    \n",
    "    return 'User input the following: {}'.format(text)\n",
    "\n",
    "printFunc = paragraphDecorator(printFunc)\n",
    "\n",
    "printFunc('This is inside a paragraph tag.')"
   ]
  },
  {
   "cell_type": "markdown",
   "metadata": {},
   "source": [
    "Python provides a very quick way to apply a function decorator to another function with something referred to as *syntactic sugar*. We will use this syntax to replace the line `printFunc = paragraphDecorator(printFunc)` in the previous code."
   ]
  },
  {
   "cell_type": "code",
   "execution_count": 59,
   "metadata": {},
   "outputs": [
    {
     "data": {
      "text/plain": [
       "'<p> User input the following: This is inside a paragraph tag. </p>'"
      ]
     },
     "execution_count": 59,
     "metadata": {},
     "output_type": "execute_result"
    }
   ],
   "source": [
    "def paragraphDecorator(func):\n",
    "    \"\"\" Place output inside an HTML paragraph. \"\"\"\n",
    "    \n",
    "    def wrapper(text):\n",
    "        return '<p> {} </p>'.format(func(text))\n",
    "    \n",
    "    return wrapper\n",
    "\n",
    "@paragraphDecorator\n",
    "def printFunc(text):\n",
    "    \"\"\" Prints out string argument. \"\"\"\n",
    "    \n",
    "    return 'User input the following: {}'.format(text)\n",
    "\n",
    "printFunc('This is inside a paragraph tag.')"
   ]
  },
  {
   "cell_type": "markdown",
   "metadata": {},
   "source": [
    "The command `@<decorator>` allows the function immediately following the command to be wrapped in the specified decorator. You can use decorators for tasks well beyond the simple example here, such as input checking, code to HTML conversion, or documentation generation."
   ]
  },
  {
   "cell_type": "markdown",
   "metadata": {},
   "source": [
    "## Arbitrary Inputs\n",
    "\n",
    "There are cases where you will want to define a function and allow the user to input arbitrary arguments. The way this is handled in Python is through `*args` and `**kwargs`. The variable `*args` is a list of arguments, and `**kwargs` can be either a single variable or a dictionary of variables. These can be tricky to understand, so let's see an example.\n",
    "\n",
    "Recall that we can declare default arguments for a function, as in the following simple function that prints out the candidates for an election."
   ]
  },
  {
   "cell_type": "code",
   "execution_count": 60,
   "metadata": {},
   "outputs": [
    {
     "name": "stdout",
     "output_type": "stream",
     "text": [
      "Bob Dole\n",
      "George W. Bush\n",
      "Ross Perot\n"
     ]
    }
   ],
   "source": [
    "def printCandidates(candidates, total_votes = 5000):\n",
    "    \"\"\" Print out election candidates. \"\"\"\n",
    "    \n",
    "    for candidate in candidates:\n",
    "        print(candidate)\n",
    "    \n",
    "printCandidates(['Bob Dole','George W. Bush','Ross Perot'])"
   ]
  },
  {
   "cell_type": "markdown",
   "metadata": {},
   "source": [
    "The function `printCandidates` has two arguments: `candidates` and `total_votes`, which has a default value of 5000.\n",
    "\n",
    "We can pass in a list of arguments as `*args`. Let's see this with a modified function definition."
   ]
  },
  {
   "cell_type": "code",
   "execution_count": 63,
   "metadata": {},
   "outputs": [
    {
     "name": "stdout",
     "output_type": "stream",
     "text": [
      "Bob Dole\n",
      "George W. Bush\n",
      "Ross Perot\n",
      "California\n",
      "Rhode Island\n",
      "Connecticut\n",
      "Texas\n",
      "5000\n"
     ]
    }
   ],
   "source": [
    "def printCandidates(candidates, *args, total_votes = 5000):\n",
    "    \"\"\" Print out election candidates. \"\"\"\n",
    "    \n",
    "    for candidate in candidates:\n",
    "        print(candidate)\n",
    "        \n",
    "    for arg in args:\n",
    "        print(arg)\n",
    "        \n",
    "    print(total_votes)\n",
    "    \n",
    "printCandidates(['Bob Dole','George W. Bush','Ross Perot'],'California','Rhode Island','Connecticut','Texas')"
   ]
  },
  {
   "cell_type": "markdown",
   "metadata": {},
   "source": [
    "So everything after the first argument was considered an additional `*args` argument. You can include code in your function to deal with specific values of `*args`.\n",
    "\n",
    "The Python interpreter considers any argument without a default value as a **positional argument**. If a function argument has a default value, it is considered a **keyworded argument**. The argument `*args` is a tuple of positional arguments. Python requires that positional arguments are followed by keyworded arguments in function declarations, **and keyworded arguments cannot be declared before positional arguments**.\n",
    "\n",
    "We can also specify `**kwargs`, which allows us to pass in keyworded arguments. For example, we can pass in `total_value = 70` as a keyworded argument, or create new keyworded arguments.\n",
    "\n",
    "Let's see this in action."
   ]
  },
  {
   "cell_type": "code",
   "execution_count": 69,
   "metadata": {
    "scrolled": true
   },
   "outputs": [
    {
     "name": "stdout",
     "output_type": "stream",
     "text": [
      "Ted\n",
      "burgundy\n",
      "mauve\n",
      "violet\n",
      "purple\n",
      "magenta\n",
      "total_votes : 50\n",
      "total_states : 50\n",
      "4000\n"
     ]
    }
   ],
   "source": [
    "def printCandidates(candidates, *args, **kwargs):\n",
    "    \"\"\" Print out election candidates. \"\"\"\n",
    "    \n",
    "    # Ensure candidates argument is a list.\n",
    "    if type(candidates) is not type([]):\n",
    "        candidates = [candidates]\n",
    "    \n",
    "    for candidate in candidates:\n",
    "        print(candidate)\n",
    "        \n",
    "    for arg in args:\n",
    "        print(arg)\n",
    "        \n",
    "    for key in kwargs:\n",
    "        print(key,':',kwargs[key])\n",
    "        \n",
    "    if 'total_votes' in kwargs:\n",
    "        # Do the task required by the program.\n",
    "        print(kwargs['total_votes']*80)\n",
    "        \n",
    "# Function call.\n",
    "printCandidates(['Ted'],'burgundy','mauve','violet','purple','magenta',total_votes = 50,total_states = 50)"
   ]
  },
  {
   "cell_type": "markdown",
   "metadata": {},
   "source": [
    "## Modules\n",
    "\n",
    "We'll cover this section relatively quickly, and we'll return to it often in subsequent weeks. A **module** is a collection of Python code that can be imported into a Python program. The whole purpose of modules is to make code more *modular*, meaning composed on individual blocks of code. Modules usually consist of variables, functions, and objects. For now, we'll make a module from some simple functions. Our module will simply collect all of the functions defined in these notes."
   ]
  },
  {
   "cell_type": "code",
   "execution_count": null,
   "metadata": {},
   "outputs": [],
   "source": [
    "\"\"\" Introductory Python Module \"\"\"\n",
    "\n",
    "import random as rd\n",
    "\n",
    "def gamesDict(titles, years, publishers):\n",
    "    \"\"\" Makes a dictionary of games based on  \n",
    "        user-supplied titles, years, and publishers.\n",
    "    \"\"\" \n",
    "    \n",
    "    # Check lengths of inputs.\n",
    "    if len(titles) != len(years) != len(publishers):\n",
    "        M = max([len(titles),len(years),len(publishers)])\n",
    "        \n",
    "        # If the inputs have different lengths, fill out the shorter input lists with None.\n",
    "        for i in [titles,years,publishers]:\n",
    "            for j in range(len(i),M):\n",
    "                i.append(None)\n",
    "                \n",
    "    return {title: info for title, info in zip(titles,zip(titles,years,publishers))} \n",
    "\n",
    "def changeString(string):\n",
    "    \"\"\" Performs various transformations on input string. \n",
    "        The output is a list of different versions of the\n",
    "        string.\n",
    "    \"\"\"\n",
    "    \n",
    "    # Change all 'e' letters to 'i', then capitalize all 'a' letters.\n",
    "    stringe = string.replace('e','i')\n",
    "    stringe = [letter.upper() if letter == 'a' else letter for letter in stringe]\n",
    "    stringe = ''.join(stringe)\n",
    "    \n",
    "    # Change all instances of 'you','me','him','her' to 'Scooby'.\n",
    "    stringL = string.split()\n",
    "    to_scoobify = ['you','me','him','her']\n",
    "    string_scooby = ['Scooby' if word in to_scoobify else word for word in stringL]\n",
    "    string_scooby = ' '.join(string_scooby)\n",
    "    \n",
    "    return [stringe,string_scooby]\n",
    "\n",
    "def multiplesThreeFive(lower_bound, upper_bound):\n",
    "    \"\"\" Function to add up multiples of 3 and 5 between the supplied bounds. \"\"\"\n",
    "    \n",
    "    # If the lower bound is bigger than the upper bound, switch them.\n",
    "    if lower_bound > upper_bound:\n",
    "        lower_bound, upper_bound = upper_bound, lower_bound\n",
    "        \n",
    "    # There's nothing to calculate if the bounds are equal.\n",
    "    if int(lower_bound) is int(upper_bound):\n",
    "        raise ValueError('There is no interval between {0} and {1}.'.format(lower_bound,upper_bound))\n",
    "        \n",
    "    # Convert bounds to integers.\n",
    "    lower_bound, upper_bound = int(lower_bound), int(upper_bound)\n",
    "    \n",
    "    multiples_of_3_or_5 = [i for i in range(lower_bound,upper_bound+1) if i % 3 == 0 or i % 5 == 0]\n",
    "    return sum(multiples_of_3_or_5)\n",
    "\n",
    "def factorial(n):\n",
    "    \"\"\" The factorial function. \"\"\"\n",
    "        \n",
    "    total = 1\n",
    "    for i in range(1,n+1):\n",
    "        total *= i\n",
    "        \n",
    "    return total\n",
    "\n",
    "def factorialRecursive(n):\n",
    "    \"\"\" The recursive factorial function. \"\"\"\n",
    "    total = n\n",
    "    \n",
    "    if n > 1:\n",
    "        total *= factorialRecursive(n-1)\n",
    "    \n",
    "    return total \n",
    "\n",
    "def selectNames(names):\n",
    "    \"\"\" Function to randomly select names from the list of names. \"\"\"\n",
    "    giftees = rd.sample(names, len(names))\n",
    "    result = list(zip(names, giftees))\n",
    "    \n",
    "    return result\n",
    "\n",
    "def checkNames(result):\n",
    "    \"\"\" Check if any names are duplicated. \"\"\"\n",
    "    if any(result[i][0] is result[i][1] for i in range(len(result))):\n",
    "        return True\n",
    "    else:\n",
    "        return False\n",
    "\n",
    "def nameDraw(names):\n",
    "    \"\"\" Performs the random name draw. \"\"\"\n",
    "    result = selectNames(names)\n",
    "    \n",
    "    # Make sure there's nobody buying for themselves.\n",
    "    while checkNames(result):\n",
    "        result = selectNames(names)\n",
    "    \n",
    "    return result\n",
    "\n",
    "def paragraphDecorator(func):\n",
    "    \"\"\" Place output inside an HTML paragraph. \"\"\"\n",
    "    \n",
    "    def wrapper(text):\n",
    "        return '<p> {} </p>'.format(func(text))\n",
    "    \n",
    "    return wrapper\n",
    "\n",
    "@paragraphDecorator\n",
    "def printFunc(text):\n",
    "    \"\"\" Prints out string argument. \"\"\"\n",
    "    \n",
    "    return 'User input the following: {}'.format(text)\n",
    "\n",
    "def printCandidates(candidates, *args, **kwargs):\n",
    "    \"\"\" Print out election candidates. \"\"\"\n",
    "    \n",
    "    # Ensure candidates argument is a list.\n",
    "    if type(candidates) is not type([]):\n",
    "        candidates = [candidates]\n",
    "    \n",
    "    for candidate in candidates:\n",
    "        print(candidate)\n",
    "        \n",
    "    for arg in args:\n",
    "        print(arg)\n",
    "        \n",
    "    for key in kwargs:\n",
    "        print(key,':',kwargs[key])\n",
    "        \n",
    "    if 'total_votes' in kwargs:\n",
    "        print(kwargs['total_votes']*80)"
   ]
  },
  {
   "cell_type": "markdown",
   "metadata": {},
   "source": [
    "Hopefully this module makes it clear why you would have docstrings for each of your functions! This module is only 130 lines and 11 functions, but there are modules much larger than this. Defining this module in a Jupyter notebook isn't very helpful, so I've saved it as `module1.py`.\n",
    "\n",
    "Now that we have `module1.py` defined as an external module, we can import the module and use the individual functions."
   ]
  },
  {
   "cell_type": "code",
   "execution_count": 73,
   "metadata": {},
   "outputs": [
    {
     "name": "stdout",
     "output_type": "stream",
     "text": [
      "120 \n",
      "\n",
      "['It is A truth, univirsAlly Acknowlidgid, thAt A singli mAn in possission of A good fortuni, must bi in wAnt of A wifi.', 'It is a truth, universally acknowledged, that a single man in possession of a good fortune, must be in want of a wife.']\n",
      "\n",
      "McCain\n",
      "Obama\n",
      "Nader\n",
      "Baldwin\n",
      "McKinney\n",
      "\n"
     ]
    },
    {
     "data": {
      "text/plain": [
       "'<p> User input the following: I want an HTML paragraph. </p>'"
      ]
     },
     "execution_count": 73,
     "metadata": {},
     "output_type": "execute_result"
    }
   ],
   "source": [
    "import module1 as md\n",
    "\n",
    "print(md.factorial(5),'\\n')\n",
    "print(md.changeString('It is a truth, universally acknowledged, that a single man in possession of a good fortune, must be in want of a wife.'))\n",
    "print()\n",
    "md.printCandidates(['McCain','Obama','Nader','Baldwin','McKinney'])\n",
    "print()\n",
    "md.printFunc('I want an HTML paragraph.')"
   ]
  },
  {
   "cell_type": "markdown",
   "metadata": {},
   "source": [
    "## *Exercises*\n",
    "\n",
    "<ol>\n",
    "    <li> Write a function that takes in an arbitrary number of positional arguments and puts them into a list. Have your function return the list. </li>\n",
    "</ol>"
   ]
  },
  {
   "cell_type": "code",
   "execution_count": 75,
   "metadata": {},
   "outputs": [
    {
     "name": "stdout",
     "output_type": "stream",
     "text": [
      "[1, 'Fried eggs', 45, 8.1, ['just', 'like', 'this']]\n"
     ]
    }
   ],
   "source": [
    "# Your code here.\n",
    "def putIntoList(*args):\n",
    "    \"\"\" This function takes in an arbitrary number of\n",
    "        positional arguments and puts them in a list.\n",
    "    \"\"\"\n",
    "    \n",
    "    return [item for item in args]\n",
    "\n",
    "print(putIntoList(1,'Fried eggs',45,8.1,['just','like','this']))"
   ]
  },
  {
   "cell_type": "code",
   "execution_count": 84,
   "metadata": {},
   "outputs": [
    {
     "name": "stdout",
     "output_type": "stream",
     "text": [
      "([1, 'Fried eggs', 54, 8.1], [1, 2, 3])\n"
     ]
    }
   ],
   "source": [
    "# If I wanted to specify **kwargs, I could do the following.\n",
    "def putIntoList(*args, **kwargs):\n",
    "    \"\"\" This function takes in an arbitrary number of\n",
    "        positional arguments and puts them in a list,\n",
    "        along with keyworded arguments.\n",
    "    \"\"\"\n",
    "    \n",
    "    result = [item for item in args]\n",
    "    resultkwargs = {}\n",
    "    \n",
    "    for key in kwargs:\n",
    "        resultkwargs[key] = kwargs[key]\n",
    "    \n",
    "    return result, list(resultkwargs.values())\n",
    "\n",
    "print(putIntoList(1, 'Fried eggs', 54, 8.1, when = 1, what = 2, why = 3))"
   ]
  },
  {
   "cell_type": "markdown",
   "metadata": {},
   "source": [
    "<ol start='2'>\n",
    "    <li> Define a function decorator that takes in a url string and a website name and wraps them in an HTML hyperlink tag. The decorator output should look like the printed output in the following cell. Test your decorator with the `printFunc` function. </li>\n",
    "</ol>"
   ]
  },
  {
   "cell_type": "code",
   "execution_count": 74,
   "metadata": {},
   "outputs": [
    {
     "name": "stdout",
     "output_type": "stream",
     "text": [
      "<a href=[input_url]> [website_name] </a>\n"
     ]
    }
   ],
   "source": [
    "print('<a href=[input_url]> [website_name] </a>')"
   ]
  },
  {
   "cell_type": "code",
   "execution_count": 90,
   "metadata": {},
   "outputs": [
    {
     "data": {
      "text/plain": [
       "('https://www.amazon.ca', 'Amazon')"
      ]
     },
     "execution_count": 90,
     "metadata": {},
     "output_type": "execute_result"
    }
   ],
   "source": [
    "def hyperlinkDecorator(func):\n",
    "    # Your code here.\n",
    "    \n",
    "    def wrapper(url, title):\n",
    "        return '<a href={}> {} </a>'.format( func(url,title)[0], func(url,title)[1] )\n",
    "    \n",
    "    return wrapper\n",
    "\n",
    "@hyperlinkDecorator\n",
    "def printFunc(url, title):\n",
    "    \"\"\" Prints out string argument. \"\"\"\n",
    "    \n",
    "    return url,title\n",
    "\n",
    "printFunc('https://www.amazon.ca','Amazon')"
   ]
  },
  {
   "cell_type": "markdown",
   "metadata": {},
   "source": [
    "<ol start='3'>\n",
    "    <li> Define a module composed of the tip calculating functions from last week's notes, including the `main()` function. Save the module in a text file as `tip.py`, and import the module to test that it works. </li>\n",
    "</ol>"
   ]
  },
  {
   "cell_type": "code",
   "execution_count": 99,
   "metadata": {},
   "outputs": [],
   "source": [
    "# Your code here.\n",
    "import tip"
   ]
  },
  {
   "cell_type": "code",
   "execution_count": 100,
   "metadata": {},
   "outputs": [
    {
     "name": "stdout",
     "output_type": "stream",
     "text": [
      "Thank you for eating at the Python Cafe.\n",
      "\n",
      "Please input amount: 61.32\n",
      "Please input tip %: 15\n",
      "Your total today is $74.04.\n"
     ]
    }
   ],
   "source": [
    "tip.tip(78,0.1)\n",
    "tip.GST(261.76)\n",
    "tip.main()"
   ]
  },
  {
   "cell_type": "markdown",
   "metadata": {},
   "source": [
    "<ol start='4'>\n",
    "    <li> A sequence is defined as follows: 1, 2, 5, 10, 17, 26, 37, ??, $\\ldots$. Figure out the next term in the sequence, find the pattern for the sequence, and then write a function that prints out the sequence up to the $n^{\\text{th}}$ term. </li>\n",
    "</ol>"
   ]
  },
  {
   "cell_type": "code",
   "execution_count": 4,
   "metadata": {},
   "outputs": [
    {
     "name": "stdout",
     "output_type": "stream",
     "text": [
      "1\n",
      "[1, 2, 5, 10, 17, 26, 37, 50, 65, 82]\n"
     ]
    }
   ],
   "source": [
    "# Your code here.\n",
    "def oddSequence(n):\n",
    "    \"\"\" Print out the sequence defined above. \"\"\"\n",
    "    \n",
    "    odds = list(range(1,2*n+1,2))\n",
    "    sequence = [1]\n",
    "    print(len(sequence))\n",
    "    \n",
    "    for i in range(len(odds)-1):\n",
    "        sequence.append(sequence[i] + odds[i])\n",
    "    \n",
    "    print(sequence)\n",
    "    \n",
    "oddSequence(10)"
   ]
  }
 ],
 "metadata": {
  "kernelspec": {
   "display_name": "Python 3",
   "language": "python",
   "name": "python3"
  },
  "language_info": {
   "codemirror_mode": {
    "name": "ipython",
    "version": 3
   },
   "file_extension": ".py",
   "mimetype": "text/x-python",
   "name": "python",
   "nbconvert_exporter": "python",
   "pygments_lexer": "ipython3",
   "version": "3.6.5"
  }
 },
 "nbformat": 4,
 "nbformat_minor": 2
}
