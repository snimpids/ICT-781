{
 "cells": [
  {
   "cell_type": "markdown",
   "metadata": {},
   "source": [
    "# ICT 781 - Week 6\n",
    "\n",
    "# Review\n",
    "\n",
    "We have covered many different topics relating to Python programming. Let's recap them here.\n",
    "\n",
    "<ul>\n",
    "    <li> Python programming interfaces </li>\n",
    "    <li> Syntax, runtime, and semantic errors </li>\n",
    "    <li> Arithmetic operators </li>\n",
    "    <li> Primary data types (int, string, float, and boolean) </li>\n",
    "    <li> Variables, statements, and expressions </li>\n",
    "    <li> Python's built-in functions </li>\n",
    "    <li> Boolean statements and logical operators </li>\n",
    "    <li> String comparison </li>\n",
    "    <li> `if`, `elif`, and `else` statements, i.e. conditional control </li>\n",
    "    <li> `while` and `for` loops, i.e. iteration </li>\n",
    "    <li> Lists, list indexing, and slicing </li>\n",
    "    <li> Tuples </li>\n",
    "    <li> Dictionaries </li>\n",
    "    <li> List comprehensions </li>\n",
    "    <li> Dictionary comprehensions </li>\n",
    "    <li> Writing functions in Python </li>\n",
    "    <li> Catching exceptions </li>\n",
    "    <li> Comments and documentation </li>\n",
    "    <li> Installing and using external packages </li>\n",
    "    <li> Recursive functions </li>\n",
    "    <li> Function decorators </li>\n",
    "    <li> Allowing arbitrary length function inputs </li>\n",
    "    <li> Creating and using modules </li>\n",
    "</ul>\n",
    "\n",
    "If this seems overwhelming, you are not alone! We have covered a lot of ground in the last five weeks. Today's purpose will be to further flesh out some of these topics and to highlight important traps to avoid."
   ]
  },
  {
   "cell_type": "markdown",
   "metadata": {},
   "source": [
    "## Core Python Concepts\n",
    "\n",
    "These skills can be considered the 'glue' that holds Python programs together. Mastering these skills won't necessarily come quickly, but will enable you to create extremely useful and powerful Python programs. These skills (subject to my opinion) are listed as follows:\n",
    "\n",
    "<ul>\n",
    "    <li> Catching syntax, runtime, and semantic errors </li>\n",
    "    <li> Conditional control </li>\n",
    "    <li> Iteration through `for` loops and list comprehensions </li>\n",
    "    <li> Using dictionaries </li>\n",
    "    <li> Writing functions in Python </li>\n",
    "    <li> Proper commenting and documentation </li>\n",
    "</ul>\n",
    "\n",
    "Today we'll explore these through a series of exercises.\n",
    "\n",
    "## *Exercise 1*\n",
    "\n",
    "Look at the block of code in the next cell. Add appropriate comments to make the code more understandable for future users."
   ]
  },
  {
   "cell_type": "code",
   "execution_count": 72,
   "metadata": {},
   "outputs": [
    {
     "name": "stdout",
     "output_type": "stream",
     "text": [
      "Help on function stringSeparator in module __main__:\n",
      "\n",
      "stringSeparator(text)\n",
      "    Function to separate an input string into individual words,\n",
      "    without commas.\n",
      "    \n",
      "    Input:\n",
      "    ------\n",
      "    text := string to be separated\n",
      "    \n",
      "    Output:\n",
      "    -------\n",
      "    separated text without commas\n",
      "    \n",
      "    Example:\n",
      "    --------\n",
      "    >>> stringSeparator('This is how, you can see, that it works,')\n",
      "\n"
     ]
    }
   ],
   "source": [
    "def stringSeparator(text):\n",
    "    \"\"\" Function to separate an input string into individual words,\n",
    "        without commas.\n",
    "        \n",
    "        Input:\n",
    "        ------\n",
    "        text := string to be separated\n",
    "        \n",
    "        Output:\n",
    "        -------\n",
    "        separated text without commas\n",
    "        \n",
    "        Example:\n",
    "        --------\n",
    "        >>> stringSeparator('This is how, you can see, that it works,')\n",
    "    \"\"\"\n",
    "    \n",
    "    # Break up the string into individual words.\n",
    "    text = text.split()\n",
    "    \n",
    "    # Remove commas.\n",
    "    text = [i.strip(',') for i in text]\n",
    "    \n",
    "    return text\n",
    "\n",
    "T = 'since a is uniformly, continuous on a,b, there exists ,delta greater than zero, with the following property'\n",
    "t = stringSeparator(T)\n",
    "help(stringSeparator)"
   ]
  },
  {
   "cell_type": "markdown",
   "metadata": {},
   "source": [
    "## *Exercise 2*\n",
    "\n",
    "The code below contains exactly one example of all three types of error: syntax, runtime, and semantic. We'll look at how to correct each error. The problem is taken from [Project Euler, problem 6](https://projecteuler.net/problem=6), which compares the sum of the squares of the first $n$ natural numbers\n",
    "$$\n",
    "    1^2 + 2^2 + 3^2 + \\cdots + n^2 = S\n",
    "$$\n",
    "with the square of the sum of the same numbers\n",
    "$$\n",
    "    (1 + 2 + 3 + \\cdots + n)^2 = T.\n",
    "$$\n",
    "The difference between the sum of the squares and the square of the sum is then $T-S$."
   ]
  },
  {
   "cell_type": "code",
   "execution_count": 88,
   "metadata": {},
   "outputs": [
    {
     "data": {
      "text/plain": [
       "70"
      ]
     },
     "execution_count": 88,
     "metadata": {},
     "output_type": "execute_result"
    }
   ],
   "source": [
    "def sumSquareDifference(n):\n",
    "    \"\"\" Calculate the difference between the sum of the squares and the square\n",
    "        of the sum for the natural numbers up to and including n.\n",
    "    \"\"\"\n",
    "    S = sum([i**2 for i in range(n+1)]) # Semantic error -> setting range(n) instead of range(n+1)\n",
    "    T = (sum(range(n+1)))**2 # Syntax error -> can't square a range\n",
    "    \n",
    "    return T - S # Runtime error -> Nothing wrong with syntax T-s, but s didn't exist.\n",
    "\n",
    "sumSquareDifference(4)"
   ]
  },
  {
   "cell_type": "markdown",
   "metadata": {},
   "source": [
    "## *Exercise 3*\n",
    "\n",
    "Rewrite the following `for` loops as list comprehensions. **Hint:** You might need two list comprehensions for the last loop."
   ]
  },
  {
   "cell_type": "code",
   "execution_count": 109,
   "metadata": {},
   "outputs": [
    {
     "name": "stdout",
     "output_type": "stream",
     "text": [
      "396 57\n",
      "396 57\n"
     ]
    }
   ],
   "source": [
    "# Loop 1\n",
    "trees = ['elm','oak','cedar','pine','spruce','butternut','ash','aspen']\n",
    "caps_trees = []\n",
    "\n",
    "for tree in trees:\n",
    "    caps_trees.append(tree.upper())\n",
    "\n",
    "print(caps_trees)\n",
    "\n",
    "CAPS_trees = [element.upper() for element in trees]\n",
    "print(CAPS_trees)\n",
    "\n",
    "# Loop 2\n",
    "fraction_squares = []\n",
    "N = 30\n",
    "\n",
    "for i in range(1,N):\n",
    "    fraction_squares.insert(i,1/i**2)\n",
    "    # or\n",
    "    # fraction_squares.append(1/i**2)\n",
    "    \n",
    "print(fraction_squares)\n",
    "\n",
    "FRACTION_squares = [1/i**2 for i in range(1,N)]\n",
    "print(FRACTION_squares)\n",
    "\n",
    "# Loop 3\n",
    "hours = [45, 40, 42, 41, 37, 39, 40, 43, 46, 80]\n",
    "regular = 0\n",
    "overtime = 0\n",
    "\n",
    "for element in hours:\n",
    "    if element <= 40:\n",
    "        regular += element\n",
    "    else:\n",
    "        overtime += element - 40\n",
    "        regular += 40\n",
    "\n",
    "print(regular, overtime)\n",
    "\n",
    "reg = sum([element if element <= 40 else 40 for element in hours])\n",
    "ovt = sum([element-40 for element in hours if element > 40])\n",
    "print(reg, ovt)"
   ]
  },
  {
   "cell_type": "code",
   "execution_count": 141,
   "metadata": {},
   "outputs": [
    {
     "name": "stdout",
     "output_type": "stream",
     "text": [
      "0.12191343307495117 0.03101348876953125\n"
     ]
    }
   ],
   "source": [
    "# Testing speed of list comprehension vs for loop.\n",
    "import numpy as np\n",
    "import time\n",
    "\n",
    "N = 100000\n",
    "\n",
    "x = np.random.rand(N)\n",
    "\n",
    "loop_time_start = time.time()\n",
    "for i in range(N):\n",
    "    x[i]**0.5\n",
    "elapsed_loop_time = time.time() - loop_time_start\n",
    "\n",
    "comp_time_start = time.time()\n",
    "X = [i**0.5 for i in x]\n",
    "elapsed_comp_time = time.time() - comp_time_start\n",
    "\n",
    "print(elapsed_loop_time, elapsed_comp_time)"
   ]
  },
  {
   "cell_type": "markdown",
   "metadata": {},
   "source": [
    "## *Exercise 4*\n",
    "\n",
    "Last week, I wrote the following function."
   ]
  },
  {
   "cell_type": "code",
   "execution_count": 144,
   "metadata": {},
   "outputs": [
    {
     "name": "stdout",
     "output_type": "stream",
     "text": [
      "{'Hostages': ('1988', 'Infogrames', 'Strategy'), 'Final Fantasy': ('1987', 'Square', 'Adventure'), 'Little Nemo - The Dream Master': ('1990', 'Capcom', 'Platformer')}\n"
     ]
    }
   ],
   "source": [
    "# Dictionary of favourite classic video games.\n",
    "titles = ['Hostages','Final Fantasy','Little Nemo - The Dream Master','DuckTales']\n",
    "years = ['1988','1987','1990','1989']\n",
    "publishers = ['Infogrames','Square','Capcom','Capcom']\n",
    "genres = ['Strategy','Adventure','Platformer']\n",
    "\n",
    "def gamesDict(titles, years, publishers, genres):\n",
    "    \"\"\" Makes a dictionary of games based on  \n",
    "        user-supplied titles, years, and publishers.\n",
    "    \"\"\" \n",
    "    \n",
    "    # Check lengths of inputs.\n",
    "    if len(titles) != len(years) != len(publishers) != len(genres):\n",
    "        M = max([len(titles),len(years),len(publishers),len(genres)])\n",
    "        \n",
    "        # If the inputs have different lengths, fill out the shorter input lists with None.\n",
    "        for List in [titles,years,publishers,genres]:\n",
    "            for j in range(len(List),M+1):\n",
    "                List.append(None)\n",
    "                \n",
    "    return {title: info for title, info in zip(titles,zip(years,publishers,genres))}   \n",
    "\n",
    "print(gamesDict(titles, years, publishers, genres))"
   ]
  },
  {
   "cell_type": "code",
   "execution_count": 148,
   "metadata": {},
   "outputs": [
    {
     "name": "stdout",
     "output_type": "stream",
     "text": [
      "<__main__.Game object at 0x7f0aee3ef9e8>\n",
      "Hostages\n",
      "1988\n",
      "Infogrames\n",
      "Strategy\n"
     ]
    }
   ],
   "source": [
    "# What if we re-think the method of storing this data.\n",
    "# Let's make a general class for a video game.\n",
    "\n",
    "class Game:\n",
    "    \"\"\" General class to handle a single video game. \"\"\"\n",
    "    def __init__(self, title, year, publisher, genre):\n",
    "        \"\"\" Initialize the class attributes. Each attribute <self.attribute>\n",
    "            is declared by a user-specified variable.            \n",
    "        \"\"\"\n",
    "        self.title = title\n",
    "        self.year = year\n",
    "        self.publisher = publisher\n",
    "        self.genre = genre\n",
    "        \n",
    "# Let's create an instance of the Game class.\n",
    "hostages = Game('Hostages','1988','Infogrames','Strategy')\n",
    "\n",
    "print(hostages)\n",
    "print(hostages.title)\n",
    "print(hostages.year)\n",
    "print(hostages.publisher)\n",
    "print(hostages.genre)"
   ]
  },
  {
   "cell_type": "code",
   "execution_count": 151,
   "metadata": {},
   "outputs": [
    {
     "name": "stdout",
     "output_type": "stream",
     "text": [
      "Hostages\n",
      "1988\n",
      "Infogrames\n",
      "Strategy\n"
     ]
    }
   ],
   "source": [
    "# It doesn't matter the order we put in the arguments, as long as we label them.\n",
    "\n",
    "hostages1 = Game(publisher = 'Infogrames', title = 'Hostages', genre = 'Strategy', year = '1988')\n",
    "print(hostages1.title)\n",
    "print(hostages1.year)\n",
    "print(hostages1.publisher)\n",
    "print(hostages1.genre)"
   ]
  },
  {
   "cell_type": "code",
   "execution_count": 173,
   "metadata": {},
   "outputs": [
    {
     "name": "stdout",
     "output_type": "stream",
     "text": [
      "[]\n",
      "Please input the game title: \n",
      "Please input the game release year: 1987\n",
      "Please input the game publisher: Nintendo\n",
      "Please input the game genre: \n",
      "[<__main__.Game object at 0x7f0b1c430a90>]\n",
      "\n",
      "1987\n"
     ]
    }
   ],
   "source": [
    "# Create a collection of Game instances.\n",
    "\n",
    "games = []\n",
    "\n",
    "def addGames():\n",
    "    \"\"\" Function to store a collection of game objects. \"\"\"\n",
    "    \n",
    "    title = input('Please input the game title: ')\n",
    "    year = input('Please input the game release year: ')\n",
    "    publisher = input('Please input the game publisher: ')\n",
    "    genre = input('Please input the game genre: ')\n",
    "    \n",
    "    games.append(Game(title = None, year = year, publisher = publisher, genre = genre))\n",
    "        \n",
    "    print(games)\n",
    "    for game in games:\n",
    "        print(game.title)\n",
    "        print(game.year)\n",
    "\n",
    "print(games)\n",
    "addGames()         "
   ]
  },
  {
   "cell_type": "code",
   "execution_count": 170,
   "metadata": {},
   "outputs": [
    {
     "name": "stdout",
     "output_type": "stream",
     "text": [
      "(10,)\n",
      "float64\n"
     ]
    }
   ],
   "source": [
    "# Just for comparison, let's create an instance of the NumPy linspace class.\n",
    "import numpy as np\n",
    "\n",
    "# Creates 10 evenly spaced points between 0 and 1.\n",
    "green = np.linspace(0,1,10)\n",
    "\n",
    "print(green.shape)\n",
    "print(green.dtype)"
   ]
  },
  {
   "cell_type": "markdown",
   "metadata": {},
   "source": [
    "I wanted it to handle inputs with different lengths, but it wasn't working properly. Write a new function that takes in $N$ lists and compares their lengths. Call the length of the longest list `M`. For the other lists whose lengths are less than `M`, append `None` until they have length `M`."
   ]
  },
  {
   "cell_type": "code",
   "execution_count": null,
   "metadata": {},
   "outputs": [],
   "source": []
  },
  {
   "cell_type": "markdown",
   "metadata": {},
   "source": [
    "## *Exercise 5*\n",
    "\n",
    "Using either `for` loops or dictionary comprehensions, create a dictionary of 10 airports. Each dictionary key should be the three-letter international airport code ('YYC' for Calgary, for example), and the dictionary values should be the airport's elevation, country, latitude, and longitude."
   ]
  },
  {
   "cell_type": "code",
   "execution_count": null,
   "metadata": {},
   "outputs": [],
   "source": []
  },
  {
   "cell_type": "markdown",
   "metadata": {},
   "source": [
    "## *Example 6*\n",
    "\n"
   ]
  },
  {
   "cell_type": "markdown",
   "metadata": {},
   "source": [
    "In week 4, we discussed a function that calculated the future value of an investment. We will enhance this function to validate inputs, throw exceptions where appropriate, and allow for regular deposits to be made."
   ]
  },
  {
   "cell_type": "code",
   "execution_count": 37,
   "metadata": {},
   "outputs": [
    {
     "name": "stdout",
     "output_type": "stream",
     "text": [
      "The value of a $10000 investment compounded quarterly\n",
      "at 2.5% for 12 years is $13485.99.\n"
     ]
    }
   ],
   "source": [
    "def investmentValue(initial, rate, freq, time):\n",
    "    \"\"\" Future Investment Value Function. \n",
    "        \n",
    "        The user inputs the current value of an\n",
    "        investment, the interest rate, and compounding\n",
    "        frequency. The future value of the investment\n",
    "        is returned.\n",
    "        \n",
    "        Input:\n",
    "        ------\n",
    "        initial := initial value of the investment\n",
    "        rate    := interest rate\n",
    "        freq    := compounding frequency; eg) if compounded quarterly, use n = 4\n",
    "        time    := total time of the investment (in years)\n",
    "        \n",
    "        Output:\n",
    "        -------\n",
    "        future_value := future value of the investment\n",
    "    \"\"\"\n",
    "    \n",
    "    future_value = initial*(1 + rate/freq)**(freq*time)\n",
    "    return future_value\n",
    "\n",
    "print('The value of a $10000 investment compounded quarterly\\nat 2.5% for 12 years is ${:.2f}.'.format(investmentValue(10000, 0.025, 4, 12)))"
   ]
  },
  {
   "cell_type": "markdown",
   "metadata": {},
   "source": [
    "## *Exercise 7*\n",
    "\n",
    "Without using built-in functions, write a function that finds the minimum and maximum of a given list of numbers."
   ]
  },
  {
   "cell_type": "code",
   "execution_count": 38,
   "metadata": {},
   "outputs": [],
   "source": [
    "def minmax(L):\n",
    "    \"\"\" Manual minimum/maximum function. \"\"\"\n",
    "    \n",
    "    pass"
   ]
  },
  {
   "cell_type": "markdown",
   "metadata": {},
   "source": [
    "## *Exercise 8*\n",
    "\n",
    "Suppose that you love building with blocks, but you only like laying out your buildings with square bases. Rectangles just don't cut it. Write a function that takes in a positive integer and checks if it is a square. For example, 5 is not a square, but 9 is."
   ]
  },
  {
   "cell_type": "code",
   "execution_count": null,
   "metadata": {},
   "outputs": [],
   "source": []
  },
  {
   "cell_type": "markdown",
   "metadata": {},
   "source": [
    "## *Exercise 9*\n",
    "\n",
    "A polygon is a 2-dimensional geometric shape formed by connecting vertices (points) with edges. Polygons can be represented by their vertices. For example, the square with area of 1 unit can be represented by the set of vertices $\\{(0,0), (0,1), (1,0), (1,1) \\}$. The distance between any two vertices $v_1 = (x_1, y_1)$ and $v_2 = (x_2, y_2)$ is given by\n",
    "$$\n",
    "    d(v_1, v_2) = \\sqrt{(x_1-x_2)^2 + (y_1-y_2)^2}.\n",
    "$$\n",
    "\n",
    "Write a program that takes in a list of tuples of vertices and returns the largest and the smallest distance between any two points. \n",
    "\n",
    "**Optional:** Plot the polygon."
   ]
  },
  {
   "cell_type": "code",
   "execution_count": null,
   "metadata": {},
   "outputs": [],
   "source": [
    "def distance(vertices):\n",
    "    \"\"\" Function to find the minimum and maximum distance in a list of vertices. \"\"\"\n",
    "    \n",
    "    pass"
   ]
  },
  {
   "cell_type": "markdown",
   "metadata": {},
   "source": [
    "## *Exercise 10*\n",
    "\n",
    "Create general input checking functions for the following tasks:\n",
    "<ul>\n",
    "    <li> Check that the input is a positive integer. </li>\n",
    "    <li> Check that the input is a list. </li>\n",
    "    <li> Check that the input is between some specified bounds (the bounds should also be inputs to the checking function). </li>\n",
    "    <li> Check that the input is a string. </li>\n",
    "</ul>\n",
    "\n",
    "You can choose to allow user input to the checking functions, or you can create the checking functions as if they will be used inside other functions.\n",
    "\n",
    "Put all of the checking functions into a module called `checking.py`."
   ]
  },
  {
   "cell_type": "code",
   "execution_count": 51,
   "metadata": {},
   "outputs": [
    {
     "name": "stdout",
     "output_type": "stream",
     "text": [
      "[12, 14, 16, 12, 6]\n"
     ]
    }
   ],
   "source": [
    "x = []\n",
    "y = [6,7,8,6,3]\n",
    "\n",
    "for i in range(len(y)):\n",
    "    x.append(2*y[i])\n",
    "    \n",
    "print(x)"
   ]
  },
  {
   "cell_type": "code",
   "execution_count": null,
   "metadata": {},
   "outputs": [],
   "source": []
  }
 ],
 "metadata": {
  "kernelspec": {
   "display_name": "Python 3",
   "language": "python",
   "name": "python3"
  },
  "language_info": {
   "codemirror_mode": {
    "name": "ipython",
    "version": 3
   },
   "file_extension": ".py",
   "mimetype": "text/x-python",
   "name": "python",
   "nbconvert_exporter": "python",
   "pygments_lexer": "ipython3",
   "version": "3.6.5"
  }
 },
 "nbformat": 4,
 "nbformat_minor": 2
}
