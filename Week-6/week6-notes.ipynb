{
 "cells": [
  {
   "cell_type": "markdown",
   "metadata": {},
   "source": [
    "# ICT 781 - Week 6\n",
    "\n",
    "# Review\n",
    "\n",
    "We have covered many different topics relating to Python programming. Let's recap them here.\n",
    "\n",
    "<ul>\n",
    "    <li> Python programming interfaces </li>\n",
    "    <li> Syntax, runtime, and semantic errors </li>\n",
    "    <li> Arithmetic operators </li>\n",
    "    <li> Primary data types (int, string, float, and boolean) </li>\n",
    "    <li> Variables, statements, and expressions </li>\n",
    "    <li> Python's built-in functions </li>\n",
    "    <li> Boolean statements and logical operators </li>\n",
    "    <li> String comparison </li>\n",
    "    <li> `if`, `elif`, and `else` statements, i.e. conditional control </li>\n",
    "    <li> `while` and `for` loops, i.e. iteration </li>\n",
    "    <li> Lists, list indexing, and slicing </li>\n",
    "    <li> Tuples </li>\n",
    "    <li> Dictionaries </li>\n",
    "    <li> List comprehensions </li>\n",
    "    <li> Dictionary comprehensions </li>\n",
    "    <li> Writing functions in Python </li>\n",
    "    <li> Catching exceptions </li>\n",
    "    <li> Comments and documentation </li>\n",
    "    <li> Installing and using external packages </li>\n",
    "    <li> Recursive functions </li>\n",
    "    <li> Function decorators </li>\n",
    "    <li> Allowing arbitrary length function inputs </li>\n",
    "    <li> Creating and using modules </li>\n",
    "</ul>\n",
    "\n",
    "If this seems overwhelming, you are not alone! We have covered a lot of ground in the last five weeks. Today's purpose will be to further flesh out some of these topics and to highlight important traps to avoid."
   ]
  },
  {
   "cell_type": "markdown",
   "metadata": {},
   "source": [
    "## Core Python Concepts\n",
    "\n",
    "These skills can be considered the 'glue' that holds Python programs together. Mastering these skills won't necessarily come quickly, but will enable you to create extremely useful and powerful Python programs. These skills (subject to my opinion) are listed as follows:\n",
    "\n",
    "<ul>\n",
    "    <li> Catching syntax, runtime, and semantic errors </li>\n",
    "    <li> Conditional control </li>\n",
    "    <li> Iteration through `for` loops and list comprehensions </li>\n",
    "    <li> Using dictionaries </li>\n",
    "    <li> Writing functions in Python </li>\n",
    "    <li> Proper commenting and documentation </li>\n",
    "</ul>\n",
    "\n",
    "Today we'll explore these through a series of exercises.\n",
    "\n",
    "## *Exercise 1*\n",
    "\n",
    "Look at the block of code in the next cell. Add appropriate comments to make the code more understandable for future users."
   ]
  },
  {
   "cell_type": "code",
   "execution_count": 16,
   "metadata": {},
   "outputs": [],
   "source": [
    "def stringSeparator(text):\n",
    "    text = text.split()\n",
    "    text = [i.strip(',') for i in text]\n",
    "    \n",
    "    return text"
   ]
  },
  {
   "cell_type": "markdown",
   "metadata": {},
   "source": [
    "## *Exercise 2*\n",
    "\n",
    "The code below contains exactly one example of all three types of error: syntax, runtime, and semantic. We'll look at how to correct each error. The problem is taken from [Project Euler, problem 6](https://projecteuler.net/problem=6), which compares the sum of the squares of the first $n$ natural numbers\n",
    "$$\n",
    "    1^2 + 2^2 + 3^2 + \\cdots + n^2 = S\n",
    "$$\n",
    "with the square of the sum of the same numbers\n",
    "$$\n",
    "    (1 + 2 + 3 + \\cdots + n)^2 = T.\n",
    "$$\n",
    "The difference between the sum of the squares and the square of the sum is then $T-S$."
   ]
  },
  {
   "cell_type": "code",
   "execution_count": 27,
   "metadata": {},
   "outputs": [],
   "source": [
    "def sumSquareDifference(n):\n",
    "    \"\"\" Calculate the difference between the sum of the squares and the square\n",
    "        of the sum for the natural numbers up to and including n.\n",
    "    \"\"\"\n",
    "    S = sum([i**2 for i in range(n)])\n",
    "    T = ((range(1,n+1)))**2\n",
    "    \n",
    "    return T - S\n",
    "\n"
   ]
  },
  {
   "cell_type": "markdown",
   "metadata": {},
   "source": [
    "## *Exercise 3*\n",
    "\n",
    "Rewrite the following `for` loops as list comprehensions. **Hint:** You might need two list comprehensions for the last loop."
   ]
  },
  {
   "cell_type": "code",
   "execution_count": 36,
   "metadata": {},
   "outputs": [
    {
     "name": "stdout",
     "output_type": "stream",
     "text": [
      "['ELM', 'OAK', 'CEDAR', 'PINE', 'SPRUCE', 'BUTTERNUT', 'ASH', 'ASPEN']\n",
      "[1.0, 0.25, 0.1111111111111111, 0.0625, 0.04, 0.027777777777777776, 0.02040816326530612, 0.015625, 0.012345679012345678, 0.01, 0.008264462809917356, 0.006944444444444444, 0.005917159763313609, 0.00510204081632653, 0.0044444444444444444, 0.00390625, 0.0034602076124567475, 0.0030864197530864196, 0.002770083102493075, 0.0025, 0.0022675736961451248, 0.002066115702479339, 0.001890359168241966, 0.001736111111111111, 0.0016, 0.0014792899408284023, 0.0013717421124828531, 0.0012755102040816326, 0.0011890606420927466]\n",
      "316 11\n"
     ]
    }
   ],
   "source": [
    "# Loop 1\n",
    "trees = ['elm','oak','cedar','pine','spruce','butternut','ash','aspen']\n",
    "caps_trees = []\n",
    "\n",
    "for tree in trees:\n",
    "    caps_trees.append(tree.upper())\n",
    "\n",
    "print(caps_trees)\n",
    "\n",
    "# Loop 2\n",
    "fraction_squares = []\n",
    "N = 30\n",
    "\n",
    "for i in range(1,N):\n",
    "    fraction_squares.append(1/i**2)\n",
    "    \n",
    "print(fraction_squares)\n",
    "\n",
    "# Loop 3\n",
    "hours = [45, 40, 42, 41, 37, 39, 40, 43]\n",
    "regular = 0\n",
    "overtime = 0\n",
    "\n",
    "for h in hours:\n",
    "    if h <= 40:\n",
    "        regular += h\n",
    "    elif h % 40 > 0:\n",
    "        overtime += h % 40\n",
    "        regular += 40\n",
    "\n",
    "print(regular, overtime)"
   ]
  },
  {
   "cell_type": "markdown",
   "metadata": {},
   "source": [
    "## *Exercise 4*\n",
    "\n",
    "Last week, I wrote the following function."
   ]
  },
  {
   "cell_type": "code",
   "execution_count": null,
   "metadata": {},
   "outputs": [],
   "source": [
    "# Dictionary of favourite classic video games.\n",
    "titles = ['Hostages','Final Fantasy','Little Nemo - The Dream Master','DuckTales']\n",
    "years = ['1988','1987','1990','1989']\n",
    "publishers = [['Infogrames','Superior Software'],['Square','Nintendo'],'Capcom','Capcom']\n",
    "genres = ['Strategy',['Role Playing','Adventure'],'Platformer','Platformer']\n",
    "\n",
    "def gamesDict(titles, years, publishers, genres):\n",
    "    \"\"\" Makes a dictionary of games based on  \n",
    "        user-supplied titles, years, and publishers.\n",
    "    \"\"\" \n",
    "    \n",
    "    # Check lengths of inputs.\n",
    "    if len(titles) != len(years) != len(publishers) != len(genres):\n",
    "        M = max([len(titles),len(years),len(publishers),len(genres)])\n",
    "        \n",
    "        # If the inputs have different lengths, fill out the shorter input lists with None.\n",
    "        for i in [titles,years,publishers,genres]:\n",
    "            for j in range(len(i),M):\n",
    "                i.append(None)\n",
    "                \n",
    "    return {title: info for title, info in zip(titles,zip(titles,years,publishers,genres))}   \n",
    "\n",
    "print(gamesDict(titles, years, publishers, genres))"
   ]
  },
  {
   "cell_type": "markdown",
   "metadata": {},
   "source": [
    "I wanted it to handle inputs with different lengths, but it wasn't working properly. Write a new function that takes in $N$ lists and compares their lengths. Call the length of the longest list `M`. For the other lists whose lengths are less than `M`, append `None` until they have length `M`."
   ]
  },
  {
   "cell_type": "code",
   "execution_count": null,
   "metadata": {},
   "outputs": [],
   "source": []
  },
  {
   "cell_type": "markdown",
   "metadata": {},
   "source": [
    "## *Exercise 5*\n",
    "\n",
    "Using either `for` loops or dictionary comprehensions, create a dictionary of 10 airports. Each dictionary key should be the three-letter international airport code ('YYC' for Calgary, for example), and the dictionary values should be the airport's elevation, country, latitude, and longitude."
   ]
  },
  {
   "cell_type": "code",
   "execution_count": null,
   "metadata": {},
   "outputs": [],
   "source": []
  },
  {
   "cell_type": "markdown",
   "metadata": {},
   "source": [
    "## *Example 6*\n",
    "\n"
   ]
  },
  {
   "cell_type": "markdown",
   "metadata": {},
   "source": [
    "In week 4, we discussed a function that calculated the future value of an investment. We will enhance this function to validate inputs, throw exceptions where appropriate, and allow for regular deposits to be made."
   ]
  },
  {
   "cell_type": "code",
   "execution_count": 37,
   "metadata": {},
   "outputs": [
    {
     "name": "stdout",
     "output_type": "stream",
     "text": [
      "The value of a $10000 investment compounded quarterly\n",
      "at 2.5% for 12 years is $13485.99.\n"
     ]
    }
   ],
   "source": [
    "def investmentValue(initial, rate, freq, time):\n",
    "    \"\"\" Future Investment Value Function. \n",
    "        \n",
    "        The user inputs the current value of an\n",
    "        investment, the interest rate, and compounding\n",
    "        frequency. The future value of the investment\n",
    "        is returned.\n",
    "        \n",
    "        Input:\n",
    "        ------\n",
    "        initial := initial value of the investment\n",
    "        rate    := interest rate\n",
    "        freq    := compounding frequency; eg) if compounded quarterly, use n = 4\n",
    "        time    := total time of the investment (in years)\n",
    "        \n",
    "        Output:\n",
    "        -------\n",
    "        future_value := future value of the investment\n",
    "    \"\"\"\n",
    "    \n",
    "    future_value = initial*(1 + rate/freq)**(freq*time)\n",
    "    return future_value\n",
    "\n",
    "print('The value of a $10000 investment compounded quarterly\\nat 2.5% for 12 years is ${:.2f}.'.format(investmentValue(10000, 0.025, 4, 12)))"
   ]
  },
  {
   "cell_type": "markdown",
   "metadata": {},
   "source": [
    "## *Exercise 7*\n",
    "\n",
    "Without using built-in functions, write a function that finds the minimum and maximum of a given list."
   ]
  },
  {
   "cell_type": "code",
   "execution_count": 38,
   "metadata": {},
   "outputs": [],
   "source": [
    "def minmax(L):\n",
    "    \"\"\" Manual minimum/maximum function. \"\"\"\n",
    "    \n",
    "    pass"
   ]
  },
  {
   "cell_type": "markdown",
   "metadata": {},
   "source": [
    "## *Exercise 8*\n",
    "\n",
    "Suppose that you love building with blocks, but you only like laying out your buildings with square bases. Rectangles just don't cut it. Write a function that takes in a positive integer and checks if it is a square. For example, 5 is not a square, but 9 is."
   ]
  },
  {
   "cell_type": "code",
   "execution_count": null,
   "metadata": {},
   "outputs": [],
   "source": []
  },
  {
   "cell_type": "markdown",
   "metadata": {},
   "source": [
    "## *Exercise 9*\n",
    "\n",
    "A polygon is a 2-dimensional geometric shape formed by connecting vertices (points) with edges. Polygons can be represented by their vertices. For example, the square with area of 1 unit can be represented by the set of vertices $\\{(0,0), (0,1), (1,0), (1,1) \\}$. The distance between any two vertices $v_1 = (x_1, y_1)$ and $v_2 = (x_2, y_2)$ is given by\n",
    "$$\n",
    "    d(v_1, v_2) = \\sqrt{(x_1-x_2)^2 + (y_1-y_2)^2}.\n",
    "$$\n",
    "\n",
    "Write a program that takes in a list of tuples of vertices and returns the largest and the smallest distance between any two points. \n",
    "\n",
    "**Optional:** Plot the polygon."
   ]
  },
  {
   "cell_type": "code",
   "execution_count": null,
   "metadata": {},
   "outputs": [],
   "source": [
    "def distance(vertices):\n",
    "    \"\"\" Function to find the minimum and maximum distance in a list of vertices. \"\"\"\n",
    "    \n",
    "    pass"
   ]
  },
  {
   "cell_type": "markdown",
   "metadata": {},
   "source": [
    "## *Exercise 10*\n",
    "\n",
    "Create general input checking functions for the following tasks:\n",
    "<ul>\n",
    "    <li> Check that the input is a positive integer. </li>\n",
    "    <li> Check that the input is a list. </li>\n",
    "    <li> Check that the input is between some specified bounds (the bounds should also be inputs to the checking function). </li>\n",
    "    <li> Check that the input is a string. </li>\n",
    "</ul>\n",
    "\n",
    "You can choose to allow user input to the checking functions, or you can create the checking functions as if they will be used inside other functions.\n",
    "\n",
    "Put all of the checking functions into a module called `checking.py`."
   ]
  },
  {
   "cell_type": "code",
   "execution_count": null,
   "metadata": {},
   "outputs": [],
   "source": []
  }
 ],
 "metadata": {
  "kernelspec": {
   "display_name": "Python 3",
   "language": "python",
   "name": "python3"
  },
  "language_info": {
   "codemirror_mode": {
    "name": "ipython",
    "version": 3
   },
   "file_extension": ".py",
   "mimetype": "text/x-python",
   "name": "python",
   "nbconvert_exporter": "python",
   "pygments_lexer": "ipython3",
   "version": "3.6.5"
  }
 },
 "nbformat": 4,
 "nbformat_minor": 2
}
