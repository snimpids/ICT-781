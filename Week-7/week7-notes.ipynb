{
 "cells": [
  {
   "cell_type": "markdown",
   "metadata": {},
   "source": [
    "# ICT 781 - Week 7\n",
    "\n",
    "# Debugging and Testing\n",
    "\n",
    "<a title=\"By Bernard DUPONT from FRANCE (Red Bugs (Pyrrhocoridae) nymphs) [CC BY-SA 2.0 \n",
    " (https://creativecommons.org/licenses/by-sa/2.0\n",
    ")], via Wikimedia Commons\" href=\"https://commons.wikimedia.org/wiki/File:Red_Bugs_(Pyrrhocoridae)_nymphs_(17965743402).jpg\"><img width=\"512\" alt=\"Red Bugs (Pyrrhocoridae) nymphs (17965743402)\" src=\"https://upload.wikimedia.org/wikipedia/commons/thumb/2/28/Red_Bugs_%28Pyrrhocoridae%29_nymphs_%2817965743402%29.jpg/512px-Red_Bugs_%28Pyrrhocoridae%29_nymphs_%2817965743402%29.jpg\"></a>"
   ]
  },
  {
   "cell_type": "markdown",
   "metadata": {},
   "source": [
    "## Creating Bugs\n",
    "\n",
    "The unfortunate truth about programming is that we just don't write perfect code. Most (if not all) programming projects undergo several revisions before they are ready for production and release. Even on a smaller scale, code meant to be shared with only a few programmers needs to be tested and as bug-free as possible before it can be reliably used by the whole group of programmers. \n",
    "\n",
    "A **bug** is a non-specific term that refers to any single syntax, runtime, or semantic error (or a combination of these errors) that causes a program to behave improperly. Let's refresh what each of these errors mean and see examples of each.\n",
    "\n",
    "## Syntax Errors\n",
    "\n",
    "These are errors in the way the code is written. Most often syntax errors arise from missing end parentheses, using undefined variables, misspelling Python keywords, improper indenting, or using syntax from the wrong programming language. There are many other ways of making syntax errors. Thankfully, the Python interpreter will throw exceptions when syntax errors are encountered. Here are some examples."
   ]
  },
  {
   "cell_type": "code",
   "execution_count": 1,
   "metadata": {},
   "outputs": [
    {
     "ename": "SyntaxError",
     "evalue": "invalid syntax (<ipython-input-1-620edcdd68f8>, line 3)",
     "output_type": "error",
     "traceback": [
      "\u001b[0;36m  File \u001b[0;32m\"<ipython-input-1-620edcdd68f8>\"\u001b[0;36m, line \u001b[0;32m3\u001b[0m\n\u001b[0;31m    print(g)\u001b[0m\n\u001b[0m        ^\u001b[0m\n\u001b[0;31mSyntaxError\u001b[0m\u001b[0;31m:\u001b[0m invalid syntax\n"
     ]
    }
   ],
   "source": [
    "g = [i**2 for i in range(10)\n",
    "     \n",
    "print(g)"
   ]
  },
  {
   "cell_type": "code",
   "execution_count": 2,
   "metadata": {},
   "outputs": [
    {
     "ename": "SyntaxError",
     "evalue": "invalid syntax (<ipython-input-2-5f991b84ce14>, line 1)",
     "output_type": "error",
     "traceback": [
      "\u001b[0;36m  File \u001b[0;32m\"<ipython-input-2-5f991b84ce14>\"\u001b[0;36m, line \u001b[0;32m1\u001b[0m\n\u001b[0;31m    print([i for i range(15)])\u001b[0m\n\u001b[0m                       ^\u001b[0m\n\u001b[0;31mSyntaxError\u001b[0m\u001b[0;31m:\u001b[0m invalid syntax\n"
     ]
    }
   ],
   "source": [
    "print([i for i range(15)])"
   ]
  },
  {
   "cell_type": "code",
   "execution_count": 3,
   "metadata": {},
   "outputs": [
    {
     "ename": "SyntaxError",
     "evalue": "invalid syntax (<ipython-input-3-a7fea550ecc8>, line 8)",
     "output_type": "error",
     "traceback": [
      "\u001b[0;36m  File \u001b[0;32m\"<ipython-input-3-a7fea550ecc8>\"\u001b[0;36m, line \u001b[0;32m8\u001b[0m\n\u001b[0;31m    total += (-1)**i*x**(2*i+1)/math.factorial(2*n+1) = total\u001b[0m\n\u001b[0m                                                      ^\u001b[0m\n\u001b[0;31mSyntaxError\u001b[0m\u001b[0;31m:\u001b[0m invalid syntax\n"
     ]
    }
   ],
   "source": [
    "def sinTrunc(x,n):\n",
    "    \"\"\" Function for the power series of the sine function up to the nth term, evaluated at x. \"\"\"\n",
    "    \n",
    "    import math\n",
    "    \n",
    "    total = 0\n",
    "    for i in range(1,n):\n",
    "        total += (-1)**i*x**(2*i+1)/math.factorial(2*n+1) = total\n",
    "        \n",
    "    return total\n",
    "\n",
    "sinTrunc(1,10)"
   ]
  },
  {
   "cell_type": "code",
   "execution_count": 7,
   "metadata": {},
   "outputs": [
    {
     "ename": "IndentationError",
     "evalue": "expected an indented block (<ipython-input-7-e6207ea5b237>, line 2)",
     "output_type": "error",
     "traceback": [
      "\u001b[0;36m  File \u001b[0;32m\"<ipython-input-7-e6207ea5b237>\"\u001b[0;36m, line \u001b[0;32m2\u001b[0m\n\u001b[0;31m    print('hello')\u001b[0m\n\u001b[0m        ^\u001b[0m\n\u001b[0;31mIndentationError\u001b[0m\u001b[0;31m:\u001b[0m expected an indented block\n"
     ]
    }
   ],
   "source": [
    "for i in range(10):\n",
    "print('hello')"
   ]
  },
  {
   "cell_type": "code",
   "execution_count": 8,
   "metadata": {},
   "outputs": [
    {
     "ename": "SyntaxError",
     "evalue": "invalid syntax (<ipython-input-8-b1b29372999e>, line 1)",
     "output_type": "error",
     "traceback": [
      "\u001b[0;36m  File \u001b[0;32m\"<ipython-input-8-b1b29372999e>\"\u001b[0;36m, line \u001b[0;32m1\u001b[0m\n\u001b[0;31m    for (int i = 0; i < 10; i ++){\u001b[0m\n\u001b[0m             ^\u001b[0m\n\u001b[0;31mSyntaxError\u001b[0m\u001b[0;31m:\u001b[0m invalid syntax\n"
     ]
    }
   ],
   "source": [
    "for (int i = 0; i < 10; i ++){\n",
    "    print('This is C++ syntax.')\n",
    "}"
   ]
  },
  {
   "cell_type": "code",
   "execution_count": 9,
   "metadata": {},
   "outputs": [
    {
     "ename": "SyntaxError",
     "evalue": "invalid syntax (<ipython-input-9-ddafedc0347c>, line 1)",
     "output_type": "error",
     "traceback": [
      "\u001b[0;36m  File \u001b[0;32m\"<ipython-input-9-ddafedc0347c>\"\u001b[0;36m, line \u001b[0;32m1\u001b[0m\n\u001b[0;31m    for i = 1:10\u001b[0m\n\u001b[0m          ^\u001b[0m\n\u001b[0;31mSyntaxError\u001b[0m\u001b[0;31m:\u001b[0m invalid syntax\n"
     ]
    }
   ],
   "source": [
    "for i = 1:10\n",
    "    total = total + 1\n",
    "end;"
   ]
  },
  {
   "cell_type": "markdown",
   "metadata": {},
   "source": [
    "## Runtime Errors\n",
    "\n",
    "A runtime error occurs when the code is written with proper syntax, but the program cannot perform the task due to logical mistakes. Runtime errors can happen when a `for` loop tries to access a list index that doesn't exist, the program tries to use a module which has not been imported, or when division by zero occurs, among many other situations."
   ]
  },
  {
   "cell_type": "code",
   "execution_count": 10,
   "metadata": {},
   "outputs": [
    {
     "name": "stdout",
     "output_type": "stream",
     "text": [
      "1998\n",
      "2004\n",
      "2007\n",
      "2010\n",
      "2015\n"
     ]
    },
    {
     "ename": "IndexError",
     "evalue": "list index out of range",
     "output_type": "error",
     "traceback": [
      "\u001b[0;31m---------------------------------------------------------------------------\u001b[0m",
      "\u001b[0;31mIndexError\u001b[0m                                Traceback (most recent call last)",
      "\u001b[0;32m<ipython-input-10-85eb1c8b2d6d>\u001b[0m in \u001b[0;36m<module>\u001b[0;34m()\u001b[0m\n\u001b[1;32m      3\u001b[0m \u001b[0mN\u001b[0m \u001b[0;34m=\u001b[0m \u001b[0mlen\u001b[0m\u001b[0;34m(\u001b[0m\u001b[0myears\u001b[0m\u001b[0;34m)\u001b[0m\u001b[0;34m\u001b[0m\u001b[0m\n\u001b[1;32m      4\u001b[0m \u001b[0;32mfor\u001b[0m \u001b[0mi\u001b[0m \u001b[0;32min\u001b[0m \u001b[0mrange\u001b[0m\u001b[0;34m(\u001b[0m\u001b[0mN\u001b[0m\u001b[0;34m)\u001b[0m\u001b[0;34m:\u001b[0m\u001b[0;34m\u001b[0m\u001b[0m\n\u001b[0;32m----> 5\u001b[0;31m     \u001b[0mprint\u001b[0m\u001b[0;34m(\u001b[0m\u001b[0myears\u001b[0m\u001b[0;34m[\u001b[0m\u001b[0mi\u001b[0m\u001b[0;34m+\u001b[0m\u001b[0;36m1\u001b[0m\u001b[0;34m]\u001b[0m\u001b[0;34m)\u001b[0m\u001b[0;34m\u001b[0m\u001b[0m\n\u001b[0m",
      "\u001b[0;31mIndexError\u001b[0m: list index out of range"
     ]
    }
   ],
   "source": [
    "years = ['1991','1998','2004','2007','2010','2015']\n",
    "\n",
    "N = len(years)\n",
    "for i in range(N):\n",
    "    print(years[i+1])"
   ]
  },
  {
   "cell_type": "code",
   "execution_count": 11,
   "metadata": {},
   "outputs": [
    {
     "ename": "NameError",
     "evalue": "name 'numpy' is not defined",
     "output_type": "error",
     "traceback": [
      "\u001b[0;31m---------------------------------------------------------------------------\u001b[0m",
      "\u001b[0;31mNameError\u001b[0m                                 Traceback (most recent call last)",
      "\u001b[0;32m<ipython-input-11-de3113e3128d>\u001b[0m in \u001b[0;36m<module>\u001b[0;34m()\u001b[0m\n\u001b[1;32m      1\u001b[0m \u001b[0;31m# Create 220 evenly spaced points from 0 to 1.\u001b[0m\u001b[0;34m\u001b[0m\u001b[0;34m\u001b[0m\u001b[0m\n\u001b[0;32m----> 2\u001b[0;31m \u001b[0mx\u001b[0m \u001b[0;34m=\u001b[0m \u001b[0mnumpy\u001b[0m\u001b[0;34m.\u001b[0m\u001b[0mlinspace\u001b[0m\u001b[0;34m(\u001b[0m\u001b[0;36m0\u001b[0m\u001b[0;34m,\u001b[0m\u001b[0;36m1\u001b[0m\u001b[0;34m,\u001b[0m\u001b[0;36m220\u001b[0m\u001b[0;34m)\u001b[0m\u001b[0;34m\u001b[0m\u001b[0m\n\u001b[0m",
      "\u001b[0;31mNameError\u001b[0m: name 'numpy' is not defined"
     ]
    }
   ],
   "source": [
    "# Create 220 evenly spaced points from 0 to 1.\n",
    "x = numpy.linspace(0,1,220)"
   ]
  },
  {
   "cell_type": "code",
   "execution_count": 12,
   "metadata": {},
   "outputs": [
    {
     "name": "stdout",
     "output_type": "stream",
     "text": [
      "-0.5\n",
      "-0.5555555555555556\n",
      "-0.625\n",
      "-0.7142857142857143\n",
      "-0.8333333333333334\n",
      "-1.0\n",
      "-1.25\n",
      "-1.6666666666666667\n",
      "-2.5\n",
      "-5.0\n"
     ]
    },
    {
     "ename": "ZeroDivisionError",
     "evalue": "division by zero",
     "output_type": "error",
     "traceback": [
      "\u001b[0;31m---------------------------------------------------------------------------\u001b[0m",
      "\u001b[0;31mZeroDivisionError\u001b[0m                         Traceback (most recent call last)",
      "\u001b[0;32m<ipython-input-12-0fae1c24469f>\u001b[0m in \u001b[0;36m<module>\u001b[0;34m()\u001b[0m\n\u001b[1;32m      1\u001b[0m \u001b[0;32mfor\u001b[0m \u001b[0mi\u001b[0m \u001b[0;32min\u001b[0m \u001b[0mrange\u001b[0m\u001b[0;34m(\u001b[0m\u001b[0;34m-\u001b[0m\u001b[0;36m10\u001b[0m\u001b[0;34m,\u001b[0m\u001b[0;36m10\u001b[0m\u001b[0;34m)\u001b[0m\u001b[0;34m:\u001b[0m\u001b[0;34m\u001b[0m\u001b[0m\n\u001b[0;32m----> 2\u001b[0;31m     \u001b[0mprint\u001b[0m\u001b[0;34m(\u001b[0m\u001b[0;36m5\u001b[0m\u001b[0;34m/\u001b[0m\u001b[0mi\u001b[0m\u001b[0;34m)\u001b[0m\u001b[0;34m\u001b[0m\u001b[0m\n\u001b[0m",
      "\u001b[0;31mZeroDivisionError\u001b[0m: division by zero"
     ]
    }
   ],
   "source": [
    "for i in range(-10,10):\n",
    "    print(5/i)"
   ]
  },
  {
   "cell_type": "code",
   "execution_count": 13,
   "metadata": {},
   "outputs": [
    {
     "name": "stdout",
     "output_type": "stream",
     "text": [
      "(4.898587196589413e-16+8j)\n"
     ]
    }
   ],
   "source": [
    "# Python can take the square root of a negative number and return a complex number. sqrt(-1) = j (in Python), \n",
    "# so sqrt(-64) = 8j (in Python language).\n",
    "print((-64)**(0.5))"
   ]
  },
  {
   "cell_type": "markdown",
   "metadata": {},
   "source": [
    "## Semantic Errors\n",
    "\n",
    "These are the hardest errors to detect, because Python won't throw exceptions when they occur. Semantic errors happen when the programmer has written code with no syntax or runtime errors, but the code still doesn't do what the programmer expects. They are caused by numerous oversights or inattention to small details, and are often only detected when the program is being tested. Here are some examples."
   ]
  },
  {
   "cell_type": "code",
   "execution_count": 14,
   "metadata": {},
   "outputs": [
    {
     "name": "stdout",
     "output_type": "stream",
     "text": [
      "So, I wanted to go with him, but he didn't like them.\n"
     ]
    }
   ],
   "source": [
    "def scoobify(text):\n",
    "    \"\"\" Replace all instances of words in SCOOBIFY by 'Scooby'. \"\"\"\n",
    "    \n",
    "    SCOOBIFY = ['I','me','you','he','him','she','her','they','them','we','us']\n",
    "    \n",
    "    for word in text:\n",
    "        if word in SCOOBIFY:\n",
    "            text.replace(word,'Scooby')\n",
    "            \n",
    "    return text\n",
    "\n",
    "print(scoobify(\"So, I wanted to go with him, but he didn't like them.\"))"
   ]
  },
  {
   "cell_type": "markdown",
   "metadata": {},
   "source": [
    "This program doesn't accomplish the task prescribed. All of words that were supposed to be replaced by 'Scooby' were completely left alone."
   ]
  },
  {
   "cell_type": "code",
   "execution_count": 15,
   "metadata": {},
   "outputs": [
    {
     "name": "stdout",
     "output_type": "stream",
     "text": [
      "0\n"
     ]
    }
   ],
   "source": [
    "def factorial(n):\n",
    "    \"\"\" Compute the factorial function of the number n. \"\"\"\n",
    "    \n",
    "    total = 0\n",
    "    \n",
    "    for i in range(n):\n",
    "        total *= i\n",
    "        \n",
    "    return total\n",
    "\n",
    "print(factorial(5))"
   ]
  },
  {
   "cell_type": "markdown",
   "metadata": {},
   "source": [
    "We know that $5! = 5\\cdot4\\cdot3\\cdot2\\cdot1 = 120$, but the program returns `0`."
   ]
  },
  {
   "cell_type": "markdown",
   "metadata": {},
   "source": [
    "## Test-Driven Programming\n",
    "\n",
    "Possibly the best method to avoid creating runtime and semantic errors is to begin with the end in mind. By thinking ahead about potential problems that your program may encounter, you can save valuable time later when getting your program ready for a release.\n",
    "\n",
    "Some questions to ask yourself about your program include:\n",
    "<ul>\n",
    "    <li> What should this program do? </li>\n",
    "    <li> How will the user interact with the program? </li>\n",
    "    <li> How can the user break the program? Specifically, what function inputs will cause trouble? </li>\n",
    "    <li> What inputs can I give to functions in my program that will test if the functions give the correct output? </li>\n",
    "</ul>\n",
    "\n",
    "After considering these questions, you can carefully plan your program, writing test cases at each step."
   ]
  },
  {
   "cell_type": "markdown",
   "metadata": {},
   "source": [
    "## *Example:* Debugging in Action\n",
    "\n",
    "For the rest of this lesson, we'll consider a simple function that checks if a number is prime or not. Recall that a *prime number* is a number that is only divisible by 1 and itself. Some examples of primes are 2, 3, 5, and 17. Some examples of numbers that are not prime are -1, 0, 1, 4, and 21. Here is the working function."
   ]
  },
  {
   "cell_type": "code",
   "execution_count": 16,
   "metadata": {},
   "outputs": [],
   "source": [
    "def isPrime(n):\n",
    "    for element in range(2,n):\n",
    "        if n % element == 0:\n",
    "            return False\n",
    "    return True"
   ]
  },
  {
   "cell_type": "markdown",
   "metadata": {},
   "source": [
    "## Debugging with `print()` Statements\n",
    "\n",
    "A `print` statement is an effective way to make sure things run smoothly within a block of code. We've been using these somewhat frequently up to this point, so we'll only briefly formalize them here.\n",
    "\n",
    "Suppose that we want to check the output for the `isPrime` function. We could either print out the result of the function call, or we could write `print` statements inside the function itself."
   ]
  },
  {
   "cell_type": "code",
   "execution_count": 17,
   "metadata": {},
   "outputs": [
    {
     "name": "stdout",
     "output_type": "stream",
     "text": [
      "False\n",
      "False\n"
     ]
    }
   ],
   "source": [
    "# Printing the output\n",
    "print(isPrime(14))\n",
    "\n",
    "# Adding print statements to the function.\n",
    "def isPrime(n):\n",
    "    for element in range(2,n):\n",
    "        if n % element == 0:\n",
    "            print(False)\n",
    "            return False\n",
    "    print(True)\n",
    "    return True\n",
    "\n",
    "isPrime(14);"
   ]
  },
  {
   "cell_type": "markdown",
   "metadata": {},
   "source": [
    "You can place `print` statements strategically through the body of a function to tell you what's going on. Some common places for these `print` statements are:\n",
    "<ul>\n",
    "    <li> within `if/else` conditional statements, to ensure that conditions are being met, </li>\n",
    "    <li> when transforming a variable through a mathematical formula or list comprehensions, and </li>\n",
    "    <li> before returning the function output(s). </li>\n",
    "</ul>"
   ]
  },
  {
   "cell_type": "markdown",
   "metadata": {},
   "source": [
    "## Exception Handling to Reduce Runtime Errors\n",
    "\n",
    "Runtime errors happen for a number of reasons. The code may be improperly written, copy/pasted wrong, or unreasonable expectations may be made of the input variables. A common example is an unintentional division by zero.\n",
    "\n",
    "You can raise exceptions to help avoid this kind of error. It extends the size of your functions, but it avoids many problems once the user gets hold of the program.\n",
    "\n",
    "For the `isPrime` function, we don't have a way of dealing with anything other than integers. The Python interpreter will throw an error if a string is input."
   ]
  },
  {
   "cell_type": "code",
   "execution_count": 18,
   "metadata": {},
   "outputs": [
    {
     "ename": "TypeError",
     "evalue": "'str' object cannot be interpreted as an integer",
     "output_type": "error",
     "traceback": [
      "\u001b[0;31m---------------------------------------------------------------------------\u001b[0m",
      "\u001b[0;31mTypeError\u001b[0m                                 Traceback (most recent call last)",
      "\u001b[0;32m<ipython-input-18-ffef45904c4b>\u001b[0m in \u001b[0;36m<module>\u001b[0;34m()\u001b[0m\n\u001b[0;32m----> 1\u001b[0;31m \u001b[0misPrime\u001b[0m\u001b[0;34m(\u001b[0m\u001b[0;34m't'\u001b[0m\u001b[0;34m)\u001b[0m\u001b[0;34m\u001b[0m\u001b[0m\n\u001b[0m",
      "\u001b[0;32m<ipython-input-17-551f8ac4fb70>\u001b[0m in \u001b[0;36misPrime\u001b[0;34m(n)\u001b[0m\n\u001b[1;32m      4\u001b[0m \u001b[0;31m# Adding print statements to the function.\u001b[0m\u001b[0;34m\u001b[0m\u001b[0;34m\u001b[0m\u001b[0m\n\u001b[1;32m      5\u001b[0m \u001b[0;32mdef\u001b[0m \u001b[0misPrime\u001b[0m\u001b[0;34m(\u001b[0m\u001b[0mn\u001b[0m\u001b[0;34m)\u001b[0m\u001b[0;34m:\u001b[0m\u001b[0;34m\u001b[0m\u001b[0m\n\u001b[0;32m----> 6\u001b[0;31m     \u001b[0;32mfor\u001b[0m \u001b[0melement\u001b[0m \u001b[0;32min\u001b[0m \u001b[0mrange\u001b[0m\u001b[0;34m(\u001b[0m\u001b[0;36m2\u001b[0m\u001b[0;34m,\u001b[0m\u001b[0mn\u001b[0m\u001b[0;34m)\u001b[0m\u001b[0;34m:\u001b[0m\u001b[0;34m\u001b[0m\u001b[0m\n\u001b[0m\u001b[1;32m      7\u001b[0m         \u001b[0;32mif\u001b[0m \u001b[0mn\u001b[0m \u001b[0;34m%\u001b[0m \u001b[0melement\u001b[0m \u001b[0;34m==\u001b[0m \u001b[0;36m0\u001b[0m\u001b[0;34m:\u001b[0m\u001b[0;34m\u001b[0m\u001b[0m\n\u001b[1;32m      8\u001b[0m             \u001b[0mprint\u001b[0m\u001b[0;34m(\u001b[0m\u001b[0;32mFalse\u001b[0m\u001b[0;34m)\u001b[0m\u001b[0;34m\u001b[0m\u001b[0m\n",
      "\u001b[0;31mTypeError\u001b[0m: 'str' object cannot be interpreted as an integer"
     ]
    }
   ],
   "source": [
    "isPrime('t')"
   ]
  },
  {
   "cell_type": "markdown",
   "metadata": {},
   "source": [
    "We can accept this error and assume that the user will realize their error, or we can add a more helpful tip when the exception is raised."
   ]
  },
  {
   "cell_type": "code",
   "execution_count": 34,
   "metadata": {},
   "outputs": [
    {
     "ename": "TypeError",
     "evalue": "This function only allows integer inputs.",
     "output_type": "error",
     "traceback": [
      "\u001b[0;31m---------------------------------------------------------------------------\u001b[0m",
      "\u001b[0;31mTypeError\u001b[0m                                 Traceback (most recent call last)",
      "\u001b[0;32m<ipython-input-34-061b69b0f5bd>\u001b[0m in \u001b[0;36misPrime\u001b[0;34m(n)\u001b[0m\n\u001b[1;32m      2\u001b[0m     \u001b[0;32mtry\u001b[0m\u001b[0;34m:\u001b[0m\u001b[0;34m\u001b[0m\u001b[0m\n\u001b[0;32m----> 3\u001b[0;31m         \u001b[0;32mfor\u001b[0m \u001b[0melement\u001b[0m \u001b[0;32min\u001b[0m \u001b[0mrange\u001b[0m\u001b[0;34m(\u001b[0m\u001b[0;36m2\u001b[0m\u001b[0;34m,\u001b[0m\u001b[0mn\u001b[0m\u001b[0;34m)\u001b[0m\u001b[0;34m:\u001b[0m\u001b[0;34m\u001b[0m\u001b[0m\n\u001b[0m\u001b[1;32m      4\u001b[0m             \u001b[0;32mif\u001b[0m \u001b[0mn\u001b[0m \u001b[0;34m%\u001b[0m \u001b[0melement\u001b[0m \u001b[0;34m==\u001b[0m \u001b[0;36m0\u001b[0m\u001b[0;34m:\u001b[0m\u001b[0;34m\u001b[0m\u001b[0m\n",
      "\u001b[0;31mTypeError\u001b[0m: 'str' object cannot be interpreted as an integer",
      "\nThe above exception was the direct cause of the following exception:\n",
      "\u001b[0;31mTypeError\u001b[0m                                 Traceback (most recent call last)",
      "\u001b[0;32m<ipython-input-34-061b69b0f5bd>\u001b[0m in \u001b[0;36m<module>\u001b[0;34m()\u001b[0m\n\u001b[1;32m      8\u001b[0m     \u001b[0;32mreturn\u001b[0m \u001b[0;32mTrue\u001b[0m\u001b[0;34m\u001b[0m\u001b[0m\n\u001b[1;32m      9\u001b[0m \u001b[0;34m\u001b[0m\u001b[0m\n\u001b[0;32m---> 10\u001b[0;31m \u001b[0misPrime\u001b[0m\u001b[0;34m(\u001b[0m\u001b[0;34m't'\u001b[0m\u001b[0;34m)\u001b[0m\u001b[0;34m\u001b[0m\u001b[0m\n\u001b[0m",
      "\u001b[0;32m<ipython-input-34-061b69b0f5bd>\u001b[0m in \u001b[0;36misPrime\u001b[0;34m(n)\u001b[0m\n\u001b[1;32m      5\u001b[0m                 \u001b[0;32mreturn\u001b[0m \u001b[0;32mFalse\u001b[0m\u001b[0;34m\u001b[0m\u001b[0m\n\u001b[1;32m      6\u001b[0m     \u001b[0;32mexcept\u001b[0m \u001b[0mTypeError\u001b[0m \u001b[0;32mas\u001b[0m \u001b[0mexception\u001b[0m\u001b[0;34m:\u001b[0m\u001b[0;34m\u001b[0m\u001b[0m\n\u001b[0;32m----> 7\u001b[0;31m         \u001b[0;32mraise\u001b[0m \u001b[0mTypeError\u001b[0m\u001b[0;34m(\u001b[0m\u001b[0;34m\"This function only allows integer inputs.\"\u001b[0m\u001b[0;34m)\u001b[0m \u001b[0;32mfrom\u001b[0m \u001b[0mexception\u001b[0m\u001b[0;34m\u001b[0m\u001b[0m\n\u001b[0m\u001b[1;32m      8\u001b[0m     \u001b[0;32mreturn\u001b[0m \u001b[0;32mTrue\u001b[0m\u001b[0;34m\u001b[0m\u001b[0m\n\u001b[1;32m      9\u001b[0m \u001b[0;34m\u001b[0m\u001b[0m\n",
      "\u001b[0;31mTypeError\u001b[0m: This function only allows integer inputs."
     ]
    }
   ],
   "source": [
    "def isPrime(n):\n",
    "    try:\n",
    "        for element in range(2,n):\n",
    "            if n % element == 0:\n",
    "                return False\n",
    "    except TypeError as exception:\n",
    "        raise TypeError(\"This function only allows integer inputs.\") from exception \n",
    "    return True\n",
    "\n",
    "isPrime('t')"
   ]
  },
  {
   "cell_type": "code",
   "execution_count": 29,
   "metadata": {
    "scrolled": true
   },
   "outputs": [
    {
     "ename": "ValueError",
     "evalue": "Strings cannot be converted to integers.",
     "output_type": "error",
     "traceback": [
      "\u001b[0;31m---------------------------------------------------------------------------\u001b[0m",
      "\u001b[0;31mValueError\u001b[0m                                Traceback (most recent call last)",
      "\u001b[0;32m<ipython-input-29-c4fbeb025622>\u001b[0m in \u001b[0;36m<module>\u001b[0;34m()\u001b[0m\n\u001b[1;32m      1\u001b[0m \u001b[0;32mtry\u001b[0m\u001b[0;34m:\u001b[0m\u001b[0;34m\u001b[0m\u001b[0m\n\u001b[0;32m----> 2\u001b[0;31m     \u001b[0mint\u001b[0m\u001b[0;34m(\u001b[0m\u001b[0;34m's'\u001b[0m\u001b[0;34m)\u001b[0m\u001b[0;34m\u001b[0m\u001b[0m\n\u001b[0m\u001b[1;32m      3\u001b[0m \u001b[0;32mexcept\u001b[0m\u001b[0;34m:\u001b[0m\u001b[0;34m\u001b[0m\u001b[0m\n",
      "\u001b[0;31mValueError\u001b[0m: invalid literal for int() with base 10: 's'",
      "\nDuring handling of the above exception, another exception occurred:\n",
      "\u001b[0;31mValueError\u001b[0m                                Traceback (most recent call last)",
      "\u001b[0;32m<ipython-input-29-c4fbeb025622>\u001b[0m in \u001b[0;36m<module>\u001b[0;34m()\u001b[0m\n\u001b[1;32m      2\u001b[0m     \u001b[0mint\u001b[0m\u001b[0;34m(\u001b[0m\u001b[0;34m's'\u001b[0m\u001b[0;34m)\u001b[0m\u001b[0;34m\u001b[0m\u001b[0m\n\u001b[1;32m      3\u001b[0m \u001b[0;32mexcept\u001b[0m\u001b[0;34m:\u001b[0m\u001b[0;34m\u001b[0m\u001b[0m\n\u001b[0;32m----> 4\u001b[0;31m     \u001b[0;32mraise\u001b[0m \u001b[0mValueError\u001b[0m\u001b[0;34m(\u001b[0m\u001b[0;34m'Strings cannot be converted to integers.'\u001b[0m\u001b[0;34m)\u001b[0m\u001b[0;34m\u001b[0m\u001b[0m\n\u001b[0m",
      "\u001b[0;31mValueError\u001b[0m: Strings cannot be converted to integers."
     ]
    }
   ],
   "source": [
    "try:\n",
    "    int('s')\n",
    "except:\n",
    "    raise ValueError('Strings cannot be converted to integers.')"
   ]
  },
  {
   "cell_type": "markdown",
   "metadata": {},
   "source": [
    "The syntax of a `try/except` statement is as follows.\n",
    "```\n",
    "try:\n",
    "    <the code you want to be executed>\n",
    "except <type of exception>:\n",
    "    <code you want to execute if the type of exception specified is encountered>\n",
    "```\n",
    "\n",
    "Using exceptions in this way allows the user to see the original exception Traceback, but adds a custom message so they know, in plain language, what caused the problem."
   ]
  },
  {
   "cell_type": "markdown",
   "metadata": {},
   "source": [
    "We can also deal with the exception above in the following less efficient way."
   ]
  },
  {
   "cell_type": "code",
   "execution_count": 31,
   "metadata": {},
   "outputs": [
    {
     "ename": "TypeError",
     "evalue": "This function only allows integer inputs.",
     "output_type": "error",
     "traceback": [
      "\u001b[0;31m---------------------------------------------------------------------------\u001b[0m",
      "\u001b[0;31mTypeError\u001b[0m                                 Traceback (most recent call last)",
      "\u001b[0;32m<ipython-input-31-a1b972804967>\u001b[0m in \u001b[0;36m<module>\u001b[0;34m()\u001b[0m\n\u001b[1;32m      8\u001b[0m     \u001b[0;32mreturn\u001b[0m \u001b[0;32mTrue\u001b[0m\u001b[0;34m\u001b[0m\u001b[0m\n\u001b[1;32m      9\u001b[0m \u001b[0;34m\u001b[0m\u001b[0m\n\u001b[0;32m---> 10\u001b[0;31m \u001b[0misPrime\u001b[0m\u001b[0;34m(\u001b[0m\u001b[0;34m's'\u001b[0m\u001b[0;34m)\u001b[0m\u001b[0;34m\u001b[0m\u001b[0m\n\u001b[0m",
      "\u001b[0;32m<ipython-input-31-a1b972804967>\u001b[0m in \u001b[0;36misPrime\u001b[0;34m(n)\u001b[0m\n\u001b[1;32m      1\u001b[0m \u001b[0;32mdef\u001b[0m \u001b[0misPrime\u001b[0m\u001b[0;34m(\u001b[0m\u001b[0mn\u001b[0m\u001b[0;34m)\u001b[0m\u001b[0;34m:\u001b[0m\u001b[0;34m\u001b[0m\u001b[0m\n\u001b[1;32m      2\u001b[0m     \u001b[0;32mif\u001b[0m \u001b[0mtype\u001b[0m\u001b[0;34m(\u001b[0m\u001b[0mn\u001b[0m\u001b[0;34m)\u001b[0m \u001b[0;32min\u001b[0m \u001b[0;34m[\u001b[0m\u001b[0mtype\u001b[0m\u001b[0;34m(\u001b[0m\u001b[0;34m's'\u001b[0m\u001b[0;34m)\u001b[0m\u001b[0;34m,\u001b[0m\u001b[0mtype\u001b[0m\u001b[0;34m(\u001b[0m\u001b[0;34m[\u001b[0m\u001b[0;34m]\u001b[0m\u001b[0;34m)\u001b[0m\u001b[0;34m,\u001b[0m\u001b[0mtype\u001b[0m\u001b[0;34m(\u001b[0m\u001b[0;36m0.1\u001b[0m\u001b[0;34m)\u001b[0m\u001b[0;34m,\u001b[0m\u001b[0mtype\u001b[0m\u001b[0;34m(\u001b[0m\u001b[0;34m{\u001b[0m\u001b[0;34m}\u001b[0m\u001b[0;34m)\u001b[0m\u001b[0;34m]\u001b[0m\u001b[0;34m:\u001b[0m\u001b[0;34m\u001b[0m\u001b[0m\n\u001b[0;32m----> 3\u001b[0;31m         \u001b[0;32mraise\u001b[0m \u001b[0mTypeError\u001b[0m\u001b[0;34m(\u001b[0m\u001b[0;34m'This function only allows integer inputs.'\u001b[0m\u001b[0;34m)\u001b[0m\u001b[0;34m\u001b[0m\u001b[0m\n\u001b[0m\u001b[1;32m      4\u001b[0m \u001b[0;34m\u001b[0m\u001b[0m\n\u001b[1;32m      5\u001b[0m     \u001b[0;32mfor\u001b[0m \u001b[0melement\u001b[0m \u001b[0;32min\u001b[0m \u001b[0mrange\u001b[0m\u001b[0;34m(\u001b[0m\u001b[0;36m2\u001b[0m\u001b[0;34m,\u001b[0m\u001b[0mn\u001b[0m\u001b[0;34m)\u001b[0m\u001b[0;34m:\u001b[0m\u001b[0;34m\u001b[0m\u001b[0m\n",
      "\u001b[0;31mTypeError\u001b[0m: This function only allows integer inputs."
     ]
    }
   ],
   "source": [
    "def isPrime(n):\n",
    "    if type(n) in [type('s'),type([]),type(0.1),type({}),type(True)]:\n",
    "        raise TypeError('This function only allows integer inputs.')\n",
    "        \n",
    "    for element in range(2,n):\n",
    "        if n % element == 0:\n",
    "            return False\n",
    "    return True\n",
    "\n",
    "isPrime('s')"
   ]
  },
  {
   "cell_type": "code",
   "execution_count": 33,
   "metadata": {},
   "outputs": [
    {
     "name": "stdout",
     "output_type": "stream",
     "text": [
      "Wrong type.\n"
     ]
    }
   ],
   "source": [
    "if type('s') is not type(1) or type('s') is not type(1.1):\n",
    "    print('Wrong type.')"
   ]
  },
  {
   "cell_type": "markdown",
   "metadata": {},
   "source": [
    "This method requires us to specify every data type that could result in a `TypeError`. This may be suitable for some purposes, but the `try/except` method is the preferred method."
   ]
  },
  {
   "cell_type": "markdown",
   "metadata": {},
   "source": [
    "## Unit Testing\n",
    "\n",
    "This process is ignored by many Python programmers, but is hugely beneficial to writing clear, accurate, and bug-free code. It can help with the **refactoring** process, wherein you revisit code to improve its readability and remove redundancies without changing the code's functionality. \n",
    "\n",
    "Python comes with the standard `unittest` library. We will only explore one of its many features: the `TestCase` class. This class enables us to put together a collection of test cases to run on a given function. We can test that the function returns the correct output for many different inputs and that it handles exceptions correctly."
   ]
  },
  {
   "cell_type": "code",
   "execution_count": 35,
   "metadata": {
    "scrolled": false
   },
   "outputs": [
    {
     "name": "stderr",
     "output_type": "stream",
     "text": [
      "..FF.F\n",
      "======================================================================\n",
      "FAIL: testNegativePrime (__main__.Testing_isPrime)\n",
      "Negatives should not be prime.\n",
      "----------------------------------------------------------------------\n",
      "Traceback (most recent call last):\n",
      "  File \"<ipython-input-35-8cf894ea47fe>\", line 21, in testNegativePrime\n",
      "    self.assertFalse(isPrime(-1))\n",
      "AssertionError: True is not false\n",
      "\n",
      "======================================================================\n",
      "FAIL: testOnePrime (__main__.Testing_isPrime)\n",
      "Does isPrime state that 1 is not prime?\n",
      "----------------------------------------------------------------------\n",
      "Traceback (most recent call last):\n",
      "  File \"<ipython-input-35-8cf894ea47fe>\", line 13, in testOnePrime\n",
      "    self.assertFalse(isPrime(1))\n",
      "AssertionError: True is not false\n",
      "\n",
      "======================================================================\n",
      "FAIL: testZeroPrime (__main__.Testing_isPrime)\n",
      "Is zero prime?\n",
      "----------------------------------------------------------------------\n",
      "Traceback (most recent call last):\n",
      "  File \"<ipython-input-35-8cf894ea47fe>\", line 17, in testZeroPrime\n",
      "    self.assertFalse(isPrime(0))\n",
      "AssertionError: True is not false\n",
      "\n",
      "----------------------------------------------------------------------\n",
      "Ran 6 tests in 0.011s\n",
      "\n",
      "FAILED (failures=3)\n"
     ]
    }
   ],
   "source": [
    "import unittest\n",
    "\n",
    "class Testing_isPrime(unittest.TestCase):\n",
    "    \"\"\" Functions to test the isPrime function. \"\"\"\n",
    "    \n",
    "    # These are the test cases.\n",
    "    def testFivePrime(self):\n",
    "        \"\"\" Does isPrime state that 5 is prime? \"\"\"\n",
    "        self.assertTrue(isPrime(5))\n",
    "        \n",
    "    def testOnePrime(self):\n",
    "        \"\"\" Does isPrime state that 1 is not prime? \"\"\"\n",
    "        self.assertFalse(isPrime(1))\n",
    "        \n",
    "    def testZeroPrime(self):\n",
    "        \"\"\" Is zero prime? \"\"\"\n",
    "        self.assertFalse(isPrime(0))\n",
    "        \n",
    "    def testNegativePrime(self):\n",
    "        \"\"\" Negatives should not be prime. \"\"\"\n",
    "        self.assertFalse(isPrime(-1))\n",
    "        \n",
    "    def testFourPrime(self):\n",
    "        \"\"\" Is four prime? \"\"\"\n",
    "        self.assertFalse(isPrime(4))\n",
    "        \n",
    "    def testStringsBad(self):\n",
    "        \"\"\" Strings shouldn't work. \"\"\"\n",
    "        with self.assertRaises(TypeError):\n",
    "            isPrime('s')\n",
    "            \n",
    "    # The assertTrue, assertFalse, assertEqual, assertGreaterThan, assertLessThan, and assertRaises\n",
    "    # functions are built-in to the unittest.TestCase class.\n",
    "\n",
    "# This code runs all of the tests in the TestingisPrime object.\n",
    "if __name__ == '__main__':\n",
    "    unittest.main(argv=['first-arg-is-ignored'], exit=False)"
   ]
  },
  {
   "cell_type": "markdown",
   "metadata": {},
   "source": [
    "The output from running the tests starts with `..FF.F`. The symbol `.` indicates that the test was completed successfully, while the `F` means that the test was failed. The symbol `E` did not appear here, but it means that there is an error in the testing code. The rest of the output indicates which of the tests failed and why.\n",
    "\n",
    "The output reports that `isPrime` considers 0, 1, and negatives as prime numbers. We can now make changes to the `isPrime` function to deal with these problems."
   ]
  },
  {
   "cell_type": "code",
   "execution_count": 53,
   "metadata": {},
   "outputs": [
    {
     "name": "stderr",
     "output_type": "stream",
     "text": [
      "......\n",
      "----------------------------------------------------------------------\n",
      "Ran 6 tests in 0.010s\n",
      "\n",
      "OK\n"
     ]
    }
   ],
   "source": [
    "def isPrime(n):\n",
    "    # 0 and 1 are both not prime.\n",
    "    if n in [0,1]:\n",
    "        return False\n",
    "    \n",
    "    # Negatives are not prime.\n",
    "    elif n < 0:\n",
    "        return False\n",
    "    \n",
    "    # Using try/except to catch incorrect type inputs.\n",
    "    try:\n",
    "        for element in range(2,n):\n",
    "            if n % element == 0:\n",
    "                return False\n",
    "    except TypeError as exception:\n",
    "        raise TypeError(\"This function only allows integer inputs. \") from exception \n",
    "    return True\n",
    "\n",
    "# Run the test cases again.\n",
    "if __name__ == '__main__':\n",
    "    unittest.main(argv=['first-arg-is-ignored'], exit=False)"
   ]
  },
  {
   "cell_type": "markdown",
   "metadata": {},
   "source": [
    "The changes corrected the problems, and all of the tests ran successfully."
   ]
  },
  {
   "cell_type": "markdown",
   "metadata": {},
   "source": [
    "## Docstrings Revisited\n",
    "\n",
    "The output above should further highlight why docstrings are essential to writing good code. Including docstrings in your test functions enables you to quickly see which test functions failed and why. Then you can update the code you are testing as necessary. \n",
    "\n",
    "There is a further benefit to adding dosctrings. Inside the docstrings, you can include examples of how the code can be run from Python IDLE. These code examples can all be run using the `doctest` module, which comes as a standard Python library.\n",
    "\n",
    "We will change the `isPrime` function to include docstrings. We will also write examples into the docstrings of the proper use of `isPrime`."
   ]
  },
  {
   "cell_type": "code",
   "execution_count": 48,
   "metadata": {},
   "outputs": [
    {
     "data": {
      "text/plain": [
       "TestResults(failed=0, attempted=3)"
      ]
     },
     "execution_count": 48,
     "metadata": {},
     "output_type": "execute_result"
    }
   ],
   "source": [
    "def isPrime(n):\n",
    "    \"\"\" Function to determine if a number is prime. \n",
    "        \n",
    "        Input:\n",
    "        ------\n",
    "        n := integer to check for primality\n",
    "        \n",
    "        Output:\n",
    "        -------\n",
    "        True if n is prime, False otherwise\n",
    "        \n",
    "        Examples:\n",
    "        ---------\n",
    "        >>> isPrime(5)\n",
    "        True\n",
    "        >>> isPrime(10)\n",
    "        False\n",
    "        >>> isPrime(167)\n",
    "        True\n",
    "    \n",
    "    \"\"\"\n",
    "    \n",
    "    # 0 and 1 are both not prime.\n",
    "    if n in [0,1]:\n",
    "        return False\n",
    "    \n",
    "    # Negatives are not prime.\n",
    "    elif n < 0:\n",
    "        return False\n",
    "    \n",
    "    # Using try/except to catch incorrect type inputs.\n",
    "    try:\n",
    "        for element in range(2,n):\n",
    "            if n % element == 0:\n",
    "                return False\n",
    "    except TypeError as exception:\n",
    "        raise TypeError(\"This function only allows integer inputs. \") from exception \n",
    "    return True\n",
    "\n",
    "import doctest\n",
    "\n",
    "# Code to test the docstrings.\n",
    "doctest.testmod()"
   ]
  },
  {
   "cell_type": "markdown",
   "metadata": {},
   "source": [
    "The syntax for docstring tests is as follows.\n",
    "```\n",
    ">>> <example of function call>\n",
    "<expected output>\n",
    "```\n",
    "\n",
    "Note that the `>>>` command is considered a Python keyword, but *only* if the dosctrings are being tested with the `doctest` module. If the docstrings will not be tested, then you may technically use `>>>` anywhere in the docstrings (but it is **not** recommended)."
   ]
  },
  {
   "cell_type": "markdown",
   "metadata": {},
   "source": [
    "## *Exercises*\n",
    "\n",
    "<ol>\n",
    "    <li> In the following code, locate 2 syntax errors, 2 runtime errors, and 1 semantic error. </li>\n",
    "</ol>"
   ]
  },
  {
   "cell_type": "code",
   "execution_count": 63,
   "metadata": {},
   "outputs": [
    {
     "ename": "SyntaxError",
     "evalue": "invalid syntax (<ipython-input-63-ff3840461dd0>, line 7)",
     "output_type": "error",
     "traceback": [
      "\u001b[0;36m  File \u001b[0;32m\"<ipython-input-63-ff3840461dd0>\"\u001b[0;36m, line \u001b[0;32m7\u001b[0m\n\u001b[0;31m    found = code.find(strt)\u001b[0m\n\u001b[0m        ^\u001b[0m\n\u001b[0;31mSyntaxError\u001b[0m\u001b[0;31m:\u001b[0m invalid syntax\n"
     ]
    }
   ],
   "source": [
    "def startCodon(code):\n",
    "    \"\"\" Determines if the sequence 'AUG' is present in the code. \"\"\"\n",
    "    \n",
    "    start == 'AUG'\n",
    "    \n",
    "    code = str(code\n",
    "    found = code.find(strt)\n",
    "    \n",
    "    retun False\n",
    "\n",
    "startCodon('GUATUTAUAGUATUAGAUAGAUGAUTAUGAUGAUCAUCAUCAUTUGAUCUAGAUT')"
   ]
  },
  {
   "cell_type": "markdown",
   "metadata": {},
   "source": [
    "Syntax error 1: missing parenthesis in line 6\n",
    "\n",
    "Syntax error 2: `retun` should be `return`\n",
    "\n",
    "Runtime error 1: `==` is being used to test a variable that doesn't exist; it should be `=` instead\n",
    "\n",
    "Runtime error 2: `strt` should be `start`\n",
    "\n",
    "Semantic error: the function should return `True` instead of `False`"
   ]
  },
  {
   "cell_type": "code",
   "execution_count": 62,
   "metadata": {
    "scrolled": true
   },
   "outputs": [
    {
     "ename": "NameError",
     "evalue": "name 'start1' is not defined",
     "output_type": "error",
     "traceback": [
      "\u001b[0;31m---------------------------------------------------------------------------\u001b[0m",
      "\u001b[0;31mNameError\u001b[0m                                 Traceback (most recent call last)",
      "\u001b[0;32m<ipython-input-62-166a79c7227f>\u001b[0m in \u001b[0;36m<module>\u001b[0;34m()\u001b[0m\n\u001b[1;32m      5\u001b[0m \u001b[0mstart\u001b[0m \u001b[0;34m==\u001b[0m \u001b[0;34m'AUG'\u001b[0m\u001b[0;34m\u001b[0m\u001b[0m\n\u001b[1;32m      6\u001b[0m \u001b[0;34m\u001b[0m\u001b[0m\n\u001b[0;32m----> 7\u001b[0;31m \u001b[0mstart1\u001b[0m \u001b[0;34m==\u001b[0m \u001b[0;34m'AUG'\u001b[0m\u001b[0;34m\u001b[0m\u001b[0m\n\u001b[0m",
      "\u001b[0;31mNameError\u001b[0m: name 'start1' is not defined"
     ]
    }
   ],
   "source": [
    "# Note that the statement start == 'AUG' is syntactically correct, but not in this context,\n",
    "# since 'start' wasn't defined yet. Here is an example.\n",
    "\n",
    "start = 'TUA'\n",
    "start == 'AUG'\n",
    "\n",
    "start1 == 'AUG'"
   ]
  },
  {
   "cell_type": "markdown",
   "metadata": {},
   "source": [
    "<ol start='2'>\n",
    "    <li> Debug the `factorial` function to give correct output. Also, create a `TestCase` class and test functions to test for: correct outputs for inputs of 0, 2, 4, and 5 and correctly raising exceptions for incorrect input. **Hint:** 0! = 1. </li>\n",
    "</ol>"
   ]
  },
  {
   "cell_type": "code",
   "execution_count": 34,
   "metadata": {},
   "outputs": [],
   "source": [
    "def factorial(n):\n",
    "    \"\"\" Compute the factorial function of the number n. \"\"\"\n",
    "    \n",
    "    if n < 0:\n",
    "        raise ValueError('Inputs must be non-negative integers.')\n",
    "    \n",
    "    total = 1\n",
    "    \n",
    "    for i in range(1,n+1):\n",
    "        total *= i\n",
    "        \n",
    "    return total"
   ]
  },
  {
   "cell_type": "code",
   "execution_count": 35,
   "metadata": {},
   "outputs": [
    {
     "name": "stderr",
     "output_type": "stream",
     "text": [
      "......\n",
      "----------------------------------------------------------------------\n",
      "Ran 6 tests in 0.012s\n",
      "\n",
      "OK\n"
     ]
    }
   ],
   "source": [
    "import unittest\n",
    "\n",
    "class TestFactorial(unittest.TestCase):\n",
    "    \"\"\" Test cases for the factorial function. \"\"\"\n",
    "    \n",
    "    def testZero(self):\n",
    "        \"\"\" factorial(0) should be 1. \"\"\"\n",
    "        self.assertEqual(factorial(0),1)\n",
    "        \n",
    "    def testTwo(self):\n",
    "        \"\"\" factorial(2) should be 2. \"\"\"\n",
    "        self.assertEqual(factorial(2),2)\n",
    "        \n",
    "    def testFour(self):\n",
    "        \"\"\" factorial(4) should be 24. \"\"\"\n",
    "        self.assertEqual(factorial(4),24)\n",
    "        \n",
    "    def testFive(self):\n",
    "        \"\"\" factorial(5) should be 120. \"\"\"\n",
    "        self.assertEqual(factorial(5),120)\n",
    "        \n",
    "    def testInput(self):\n",
    "        \"\"\" The input should be integers greater than or equal to 0. \"\"\"\n",
    "        with self.assertRaises(TypeError):\n",
    "            factorial(1.1)\n",
    "            \n",
    "    def testNegatives(self):\n",
    "        \"\"\" The input should not be negative. \"\"\"\n",
    "        with self.assertRaises(ValueError):\n",
    "            factorial(-1)\n",
    "        \n",
    "# Run the test cases.\n",
    "if __name__ == '__main__':\n",
    "    unittest.main(argv=['first-arg-is-ignored'], exit=False)"
   ]
  },
  {
   "cell_type": "markdown",
   "metadata": {},
   "source": [
    "<ol start='3'>\n",
    "    <li> Try this exercise *without* writing the function to be tested. Create a `TestCase` class and test functions to test a function called `powerDigitSum'. The intention of the `powerDigitSum` function is to sum up the digits of a power of two. For example, $2^{11} = 2048$, and $2 + 0 + 4 + 8 = 14$. The function should only work for non-negative powers of two up to and including $2^{64}$. </li>\n",
    "</ol>"
   ]
  },
  {
   "cell_type": "code",
   "execution_count": 6,
   "metadata": {},
   "outputs": [],
   "source": [
    "import unittest\n",
    "\n",
    "class TestpowerDigitSum(unittest.TestCase):\n",
    "    \"\"\" Test cases for the powerDigitSum function. \"\"\"\n",
    "    \n",
    "    def testOutput(self):\n",
    "        \"\"\" powerDigitSum(11) should be 14 \"\"\"\n",
    "        self.assertEqual(powerDigitSum(11), 14)\n",
    "        \n",
    "    def testZero(self):\n",
    "        \"\"\" powerDigitSum(0) should be 1 \"\"\"\n",
    "        self.assertEqual(powerDigitSum(0), 1)\n",
    "        \n",
    "    def testNegatives(self):\n",
    "        \"\"\" Negative values not allowed. \"\"\"\n",
    "        with self.assertRaises(ValueError):\n",
    "            powerDigitSum(-1)\n",
    "    \n",
    "    def testPowerTooHigh(self):\n",
    "        \"\"\" Powers above 64 not allowed. \"\"\"\n",
    "        with self.assertRaises(ValueError):\n",
    "            powerDigitSum(65)\n",
    "            \n",
    "    def testInputs(self):\n",
    "        \"\"\" Strings not allowed. \"\"\"\n",
    "        with self.assertRaises(TypeError):\n",
    "            powerDigitSum('1')"
   ]
  },
  {
   "cell_type": "markdown",
   "metadata": {},
   "source": [
    "<ol start='4'>\n",
    "    <li> Write the `powerDigitSum` function, and run the tests to debug the program. </li>\n",
    "</ol>"
   ]
  },
  {
   "cell_type": "code",
   "execution_count": 9,
   "metadata": {},
   "outputs": [
    {
     "name": "stderr",
     "output_type": "stream",
     "text": [
      ".....\n",
      "----------------------------------------------------------------------\n",
      "Ran 5 tests in 0.006s\n",
      "\n",
      "OK\n"
     ]
    }
   ],
   "source": [
    "def powerDigitSum(n):\n",
    "    \"\"\" Sums up the digits of 2^n. \"\"\"\n",
    "    \n",
    "    # Check input.\n",
    "    if n < 0 or n % 1 is not 0 or n > 64:\n",
    "        raise ValueError('Only integer inputs between 0 and 64 are allowed.')\n",
    "        \n",
    "    # All other illegal inputs are handled in this block.\n",
    "    try:\n",
    "        number = 2**n\n",
    "        \n",
    "        # Get the list of digits and convert them to integers.\n",
    "        digits = [int(digit) for digit in str(number)]\n",
    "        return sum(digits)\n",
    "    except TypeError as exception:\n",
    "        raise TypeError('This function only allows integer inputs between 0 and 64.') from exception\n",
    "        \n",
    "# Run the test cases.\n",
    "if __name__ == '__main__':\n",
    "    unittest.main(argv=['first-arg-is-ignored'], exit=False)"
   ]
  },
  {
   "cell_type": "markdown",
   "metadata": {},
   "source": [
    "<ol start='5'>\n",
    "    <li> Write appropriate docstrings for the `powerDigitSum` function, and test them. </li>\n",
    "</ol>"
   ]
  },
  {
   "cell_type": "code",
   "execution_count": 13,
   "metadata": {},
   "outputs": [
    {
     "data": {
      "text/plain": [
       "TestResults(failed=0, attempted=3)"
      ]
     },
     "execution_count": 13,
     "metadata": {},
     "output_type": "execute_result"
    }
   ],
   "source": [
    "def powerDigitSum(n):\n",
    "    \"\"\" Sums up the digits of 2^n. \n",
    "        \n",
    "        Input:\n",
    "        ------\n",
    "        n := integer between 0 and 64\n",
    "        \n",
    "        Output:\n",
    "        -------\n",
    "        sum of the digits of 2^n\n",
    "        \n",
    "        Examples:\n",
    "        ---------\n",
    "        >>> powerDigitSum(11)\n",
    "        14\n",
    "        >>> powerDigitSum(0)\n",
    "        1\n",
    "        >>> powerDigitSum(64)\n",
    "        88\n",
    "    \n",
    "    \"\"\"\n",
    "    \n",
    "    # Check input.\n",
    "    if n < 0 or n % 1 is not 0 or n > 64:\n",
    "        raise ValueError('Only integer inputs between 0 and 64 are allowed.')\n",
    "        \n",
    "    # All other illegal inputs are handled in this block.\n",
    "    try:\n",
    "        number = 2**n\n",
    "        \n",
    "        # Get the list of digits and convert them to integers.\n",
    "        digits = [int(digit) for digit in str(number)]\n",
    "        return sum(digits)\n",
    "    except TypeError as exception:\n",
    "        raise TypeError('This function only allows integer inputs between 0 and 64.') from exception\n",
    "        \n",
    "import doctest\n",
    "doctest.testmod()"
   ]
  },
  {
   "cell_type": "code",
   "execution_count": null,
   "metadata": {},
   "outputs": [],
   "source": [
    "class TestScooby(unittest.TestCase):\n",
    "    \"\"\" Testing the scoobify function. \"\"\"\n",
    "    \n",
    "    def testOutput(self):\n",
    "        \"\"\" Test the result. \"\"\"\n",
    "        self.assertEqual(<function call with a particular string as an argument>, <the expected output>)"
   ]
  }
 ],
 "metadata": {
  "kernelspec": {
   "display_name": "Python 3",
   "language": "python",
   "name": "python3"
  },
  "language_info": {
   "codemirror_mode": {
    "name": "ipython",
    "version": 3
   },
   "file_extension": ".py",
   "mimetype": "text/x-python",
   "name": "python",
   "nbconvert_exporter": "python",
   "pygments_lexer": "ipython3",
   "version": "3.6.5"
  }
 },
 "nbformat": 4,
 "nbformat_minor": 2
}
