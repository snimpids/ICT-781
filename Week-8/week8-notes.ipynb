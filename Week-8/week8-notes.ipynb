{
 "cells": [
  {
   "cell_type": "markdown",
   "metadata": {},
   "source": [
    "# ICT 781 - Week 8\n",
    "\n",
    "# Object-Oriented Programming\n",
    "\n",
    "<a title=\"Dmitry Fomin [CC0], from Wikimedia Commons\" href=\"https://commons.wikimedia.org/wiki/File:English_pattern_playing_cards_deck.svg\"><img width=\"1024\" alt=\"English pattern playing cards deck\" src=\"https://upload.wikimedia.org/wikipedia/commons/thumb/8/81/English_pattern_playing_cards_deck.svg/1024px-English_pattern_playing_cards_deck.svg.png\"></a>"
   ]
  },
  {
   "cell_type": "markdown",
   "metadata": {},
   "source": [
    "## Introduction\n",
    "\n",
    "We've made reference several times to the fact that, in Python, *everything is an object*. Today we'll more fully explore what it means for something to be 'an object'. We saw one example of an object in week 7 when we created an instance of the `unittest.TestCase` class."
   ]
  },
  {
   "cell_type": "markdown",
   "metadata": {},
   "source": [
    "## Objects\n",
    "\n",
    "It is important to keep in mind that an **object** is an abstract concept. Therefore, you won't often see things called 'objects' within Python. However, you will see **classes**, data types such as float, integer, and string, and data containers such as lists and dictionaries. Functions are also objects. An **object** is any entity in the Python language with two key features: **attributes** and **methods**. For now, we'll focus on attributes."
   ]
  },
  {
   "cell_type": "markdown",
   "metadata": {},
   "source": [
    "## Object Attributes\n",
    "\n",
    "An object's **attributes** can be thought of as its traits or characteristics. For example, when we create an integer variable, we assign it a value. This value is one of the variable's attributes."
   ]
  },
  {
   "cell_type": "code",
   "execution_count": 1,
   "metadata": {},
   "outputs": [
    {
     "name": "stdout",
     "output_type": "stream",
     "text": [
      "1\n"
     ]
    }
   ],
   "source": [
    "number = 1\n",
    "print(number)"
   ]
  },
  {
   "cell_type": "markdown",
   "metadata": {},
   "source": [
    "This example is not very interesting, because the integer object hardly has any attributes other than its value! Let's create a more interesting object: the **Card** class."
   ]
  },
  {
   "cell_type": "markdown",
   "metadata": {},
   "source": [
    "## Creating Custom Objects: Classes and Attributes\n",
    "\n",
    "First, we'll write the code for our **Card** class, then we'll examine it closely."
   ]
  },
  {
   "cell_type": "code",
   "execution_count": 2,
   "metadata": {},
   "outputs": [],
   "source": [
    "class Card:\n",
    "    pass"
   ]
  },
  {
   "cell_type": "markdown",
   "metadata": {},
   "source": [
    "This is all it takes to create a class. You write the Python keyword `class` to indicate that you are creating a class, and then you name the class. I've included the `pass` statement, but now we'll replace that with some attributes."
   ]
  },
  {
   "cell_type": "code",
   "execution_count": 3,
   "metadata": {},
   "outputs": [],
   "source": [
    "class Card:\n",
    "    \"\"\" The playing card class. \"\"\"\n",
    "    \n",
    "    def __init__(self):\n",
    "        pass"
   ]
  },
  {
   "cell_type": "markdown",
   "metadata": {},
   "source": [
    "Without adding too much code, we've started the process of assigning **attributes** to our class. This is done in the `__init__`(initialize) function. The `__init__` function is required for any user-defined object, and it always has the argument `self`.\n",
    "\n",
    "By passing `self` to the `__init__` function, we are telling the function that it is *self-referential*, meaning the function will be manipulating the class itself. You can think of this as passing the class to the function. The two underscores in `__init__` indicate that this is a private function.\n",
    "\n",
    "If we only pass in `self` to the `__init__` function, we can assign values to attributes by hard-coding them.\n",
    "\n",
    "A playing card generally has a suit (which comes with a colour), and a value (either numeric or 'Ace', 'Jack', 'Queen', or 'King'). For now, let's consider an Ace as the '1' card. Let's assign the suit and value as attributes."
   ]
  },
  {
   "cell_type": "code",
   "execution_count": 4,
   "metadata": {},
   "outputs": [],
   "source": [
    "class Card:\n",
    "    \"\"\" The playing card class. \"\"\"\n",
    "    \n",
    "    def __init__(self):\n",
    "        self.suit = 'clubs'\n",
    "        self.value = 'Q'"
   ]
  },
  {
   "cell_type": "markdown",
   "metadata": {},
   "source": [
    "By referring to the `self`, or the class as an argument of the `__init__` function, we have set the attributes `suit` and `value`.\n",
    "\n",
    "Now we'll create an **instance** of the `Card` class. An **instance** of a class is a user-defined variable. Note that we include the empty parentheses in `Card()`."
   ]
  },
  {
   "cell_type": "code",
   "execution_count": 5,
   "metadata": {},
   "outputs": [],
   "source": [
    "queen_of_clubs = Card()"
   ]
  },
  {
   "cell_type": "markdown",
   "metadata": {},
   "source": [
    "We can access the attributes of our class instance with the `.` syntax."
   ]
  },
  {
   "cell_type": "code",
   "execution_count": 6,
   "metadata": {},
   "outputs": [
    {
     "name": "stdout",
     "output_type": "stream",
     "text": [
      "clubs\n",
      "Q\n"
     ]
    }
   ],
   "source": [
    "print(queen_of_clubs.suit)\n",
    "print(queen_of_clubs.value)"
   ]
  },
  {
   "cell_type": "markdown",
   "metadata": {},
   "source": [
    "This is great for an example, but not very useful for creating a general card. Since we hard-coded the `Card` attributes, any instance of the `Card` class will have the same attributes. We can correct this by allowing specified arguments to the `__init__` function."
   ]
  },
  {
   "cell_type": "code",
   "execution_count": 7,
   "metadata": {},
   "outputs": [
    {
     "name": "stdout",
     "output_type": "stream",
     "text": [
      "clubs\n",
      "Q\n"
     ]
    }
   ],
   "source": [
    "class Card:\n",
    "    \"\"\" The playing card class. \"\"\"\n",
    "    \n",
    "    def __init__(self, suit, value):\n",
    "        self.suit = suit\n",
    "        self.value = value\n",
    "        \n",
    "queen_of_clubs = Card('clubs','Q')\n",
    "\n",
    "print(queen_of_clubs.suit)\n",
    "print(queen_of_clubs.value)"
   ]
  },
  {
   "cell_type": "markdown",
   "metadata": {},
   "source": [
    "This time when we created an instance of the `Card` class, we passed in two arguments: suit and value. These automatically get sent to the `__init__` function to be assigned to the attributes.\n",
    "\n",
    "**Note:** the order of arguments matters in a class instance."
   ]
  },
  {
   "cell_type": "code",
   "execution_count": 8,
   "metadata": {},
   "outputs": [
    {
     "name": "stdout",
     "output_type": "stream",
     "text": [
      "clubs\n",
      "Q\n",
      "Q\n",
      "clubs\n"
     ]
    }
   ],
   "source": [
    "queen_of_clubs = Card('clubs','Q')\n",
    "\n",
    "print(queen_of_clubs.suit)\n",
    "print(queen_of_clubs.value)\n",
    "\n",
    "queen_of_clubs = Card('Q','clubs')\n",
    "\n",
    "print(queen_of_clubs.suit)\n",
    "print(queen_of_clubs.value)"
   ]
  },
  {
   "cell_type": "markdown",
   "metadata": {},
   "source": [
    "We can get around the problem of argument order by specifying our arguments by keyword."
   ]
  },
  {
   "cell_type": "code",
   "execution_count": 9,
   "metadata": {},
   "outputs": [
    {
     "name": "stdout",
     "output_type": "stream",
     "text": [
      "clubs\n",
      "Q\n",
      "clubs\n",
      "Q\n"
     ]
    }
   ],
   "source": [
    "queen_of_clubs = Card('clubs','Q')\n",
    "\n",
    "print(queen_of_clubs.suit)\n",
    "print(queen_of_clubs.value)\n",
    "\n",
    "queen_of_clubs = Card(value='Q',suit='clubs')\n",
    "\n",
    "print(queen_of_clubs.suit)\n",
    "print(queen_of_clubs.value)"
   ]
  },
  {
   "cell_type": "markdown",
   "metadata": {},
   "source": [
    "We can also write conditional statements within the `__init__` function to set the value of `colour`, since the colour of a playing card is dictated by its suit. We'll change the class to reflect this."
   ]
  },
  {
   "cell_type": "code",
   "execution_count": 10,
   "metadata": {},
   "outputs": [
    {
     "name": "stdout",
     "output_type": "stream",
     "text": [
      "hearts\n",
      "red\n",
      "J\n"
     ]
    }
   ],
   "source": [
    "class Card:\n",
    "    \"\"\" The playing card class. \"\"\"\n",
    "    \n",
    "    def __init__(self, suit, value):\n",
    "        self.suit = suit\n",
    "        self.value = value\n",
    "        \n",
    "        # Assign card colour based on suit.\n",
    "        if suit in ['clubs','spades']:\n",
    "            self.colour = 'black'\n",
    "        else:\n",
    "            self.colour = 'red'\n",
    "            \n",
    "jack_of_hearts = Card(suit = 'hearts',value = 'J')\n",
    "\n",
    "print(jack_of_hearts.suit)\n",
    "print(jack_of_hearts.colour)\n",
    "print(jack_of_hearts.value)"
   ]
  },
  {
   "cell_type": "markdown",
   "metadata": {},
   "source": [
    "Also, some card games, like Cribbage, consider the 'royal' cards (the Jacks, Queens, and Kings) to have specific numerical values. In Cribbage, all 'royal' cards have a numerical value of 10.\n",
    "\n",
    "Supposing that our `Card` class will be used in a Cribbage game, we can change the class definition to reflect this."
   ]
  },
  {
   "cell_type": "code",
   "execution_count": 11,
   "metadata": {},
   "outputs": [
    {
     "name": "stdout",
     "output_type": "stream",
     "text": [
      "hearts\n",
      "red\n",
      "J\n",
      "10\n"
     ]
    }
   ],
   "source": [
    "class Card:\n",
    "    \"\"\" The playing card class for Cribbage. \"\"\"\n",
    "    \n",
    "    def __init__(self, suit, value):\n",
    "        self.suit = suit\n",
    "        self.value = value\n",
    "        \n",
    "        # Assign card colour based on suit.\n",
    "        if suit in ['clubs','spades']:\n",
    "            self.colour = 'black'\n",
    "        else:\n",
    "            self.colour = 'red'\n",
    "            \n",
    "        # Assign numerical value based on face value.\n",
    "        if value in ['K','Q','J']:\n",
    "            self.numvalue = 10\n",
    "        else:\n",
    "            self.numvalue = value\n",
    "            \n",
    "jack_of_hearts = Card(suit = 'hearts',value = 'J')\n",
    "\n",
    "print(jack_of_hearts.suit)\n",
    "print(jack_of_hearts.colour)\n",
    "print(jack_of_hearts.value)\n",
    "print(jack_of_hearts.numvalue)"
   ]
  },
  {
   "cell_type": "markdown",
   "metadata": {},
   "source": [
    "## Class Attributes are Mutable\n",
    "\n",
    "We may arbitrarily change a class instance's attributes. This simply changes the attribute, **it doesn't re-run the `__init__` function**. Therefore, you need to be careful when using classes in your programs. Limiting the user's access to classes can reduce the number of errors in the code."
   ]
  },
  {
   "cell_type": "code",
   "execution_count": 12,
   "metadata": {},
   "outputs": [
    {
     "name": "stdout",
     "output_type": "stream",
     "text": [
      "hearts\n",
      "red\n",
      "J\n",
      "10\n",
      "\n",
      "spades\n",
      "red\n",
      "J\n",
      "33\n"
     ]
    }
   ],
   "source": [
    "jack_of_hearts = Card(suit = 'hearts',value = 'J')\n",
    "\n",
    "print(jack_of_hearts.suit)\n",
    "print(jack_of_hearts.colour)\n",
    "print(jack_of_hearts.value)\n",
    "print(jack_of_hearts.numvalue)\n",
    "\n",
    "print()\n",
    "jack_of_hearts.suit = 'spades'\n",
    "jack_of_hearts.numvalue += 23\n",
    "\n",
    "print(jack_of_hearts.suit)\n",
    "print(jack_of_hearts.colour)\n",
    "print(jack_of_hearts.value)\n",
    "print(jack_of_hearts.numvalue)"
   ]
  },
  {
   "cell_type": "markdown",
   "metadata": {},
   "source": [
    "## Creating Custom Objects: Classes and Methods\n",
    "\n",
    "In several of the above examples, I printed out all of the attributes of the `Card` class instances. There is a more convenient way to print out this information.\n",
    "\n",
    "To accomplish this task, we'll define a new function inside the `Card` class."
   ]
  },
  {
   "cell_type": "code",
   "execution_count": 13,
   "metadata": {},
   "outputs": [
    {
     "name": "stdout",
     "output_type": "stream",
     "text": [
      "Card attributes:\n",
      "J of clubs.\n",
      "Numeric value is 10.\n",
      "\n"
     ]
    }
   ],
   "source": [
    "class Card:\n",
    "    \"\"\" The playing card class for Cribbage. \"\"\"\n",
    "    \n",
    "    def __init__(self, suit, value):\n",
    "        self.suit = suit\n",
    "        self.value = value\n",
    "        \n",
    "        # Assign card colour based on suit.\n",
    "        if suit in ['clubs','spades']:\n",
    "            self.colour = 'black'\n",
    "        else:\n",
    "            self.colour = 'red'\n",
    "            \n",
    "        # Assign numerical value based on face value.\n",
    "        if value in ['K','Q','J']:\n",
    "            self.numvalue = 10\n",
    "        else:\n",
    "            self.numvalue = value\n",
    "            \n",
    "    def display(self):\n",
    "        \"\"\" Print out all class attributes. \"\"\"\n",
    "        \n",
    "        print('Card attributes:')\n",
    "        print('{} of {}.'.format(self.value, self.suit))\n",
    "        print('Numeric value is {}.'.format(self.numvalue))\n",
    "        print()\n",
    "       \n",
    "jack_of_clubs = Card(suit = 'clubs', value = 'J')\n",
    "jack_of_clubs.display()"
   ]
  },
  {
   "cell_type": "markdown",
   "metadata": {},
   "source": [
    "A function defined inside of a class is called a **method**. So far, our `Card` class has two **methods**: `__init__` and `display`.\n",
    "\n",
    "Let's create a collection of 52 cards and call it a deck. We'll place the deck into a list using a list comprehension."
   ]
  },
  {
   "cell_type": "code",
   "execution_count": 15,
   "metadata": {
    "scrolled": false
   },
   "outputs": [
    {
     "name": "stdout",
     "output_type": "stream",
     "text": [
      "['clubs', 'spades', 'hearts', 'diamonds']\n",
      "[1, 2, 3, 4, 5, 6, 7, 8, 9, 10, 'J', 'Q', 'K']\n",
      "Card attributes:\n",
      "1 of clubs.\n",
      "Numeric value is 1.\n",
      "\n",
      "Card attributes:\n",
      "2 of clubs.\n",
      "Numeric value is 2.\n",
      "\n",
      "Card attributes:\n",
      "3 of clubs.\n",
      "Numeric value is 3.\n",
      "\n",
      "Card attributes:\n",
      "4 of clubs.\n",
      "Numeric value is 4.\n",
      "\n",
      "Card attributes:\n",
      "5 of clubs.\n",
      "Numeric value is 5.\n",
      "\n",
      "Card attributes:\n",
      "6 of clubs.\n",
      "Numeric value is 6.\n",
      "\n",
      "Card attributes:\n",
      "7 of clubs.\n",
      "Numeric value is 7.\n",
      "\n",
      "Card attributes:\n",
      "8 of clubs.\n",
      "Numeric value is 8.\n",
      "\n",
      "Card attributes:\n",
      "9 of clubs.\n",
      "Numeric value is 9.\n",
      "\n",
      "Card attributes:\n",
      "10 of clubs.\n",
      "Numeric value is 10.\n",
      "\n",
      "Card attributes:\n",
      "J of clubs.\n",
      "Numeric value is 10.\n",
      "\n",
      "Card attributes:\n",
      "Q of clubs.\n",
      "Numeric value is 10.\n",
      "\n",
      "Card attributes:\n",
      "K of clubs.\n",
      "Numeric value is 10.\n",
      "\n",
      "Card attributes:\n",
      "1 of spades.\n",
      "Numeric value is 1.\n",
      "\n",
      "Card attributes:\n",
      "2 of spades.\n",
      "Numeric value is 2.\n",
      "\n",
      "Card attributes:\n",
      "3 of spades.\n",
      "Numeric value is 3.\n",
      "\n",
      "Card attributes:\n",
      "4 of spades.\n",
      "Numeric value is 4.\n",
      "\n",
      "Card attributes:\n",
      "5 of spades.\n",
      "Numeric value is 5.\n",
      "\n",
      "Card attributes:\n",
      "6 of spades.\n",
      "Numeric value is 6.\n",
      "\n",
      "Card attributes:\n",
      "7 of spades.\n",
      "Numeric value is 7.\n",
      "\n",
      "Card attributes:\n",
      "8 of spades.\n",
      "Numeric value is 8.\n",
      "\n",
      "Card attributes:\n",
      "9 of spades.\n",
      "Numeric value is 9.\n",
      "\n",
      "Card attributes:\n",
      "10 of spades.\n",
      "Numeric value is 10.\n",
      "\n",
      "Card attributes:\n",
      "J of spades.\n",
      "Numeric value is 10.\n",
      "\n",
      "Card attributes:\n",
      "Q of spades.\n",
      "Numeric value is 10.\n",
      "\n",
      "Card attributes:\n",
      "K of spades.\n",
      "Numeric value is 10.\n",
      "\n",
      "Card attributes:\n",
      "1 of hearts.\n",
      "Numeric value is 1.\n",
      "\n",
      "Card attributes:\n",
      "2 of hearts.\n",
      "Numeric value is 2.\n",
      "\n",
      "Card attributes:\n",
      "3 of hearts.\n",
      "Numeric value is 3.\n",
      "\n",
      "Card attributes:\n",
      "4 of hearts.\n",
      "Numeric value is 4.\n",
      "\n",
      "Card attributes:\n",
      "5 of hearts.\n",
      "Numeric value is 5.\n",
      "\n",
      "Card attributes:\n",
      "6 of hearts.\n",
      "Numeric value is 6.\n",
      "\n",
      "Card attributes:\n",
      "7 of hearts.\n",
      "Numeric value is 7.\n",
      "\n",
      "Card attributes:\n",
      "8 of hearts.\n",
      "Numeric value is 8.\n",
      "\n",
      "Card attributes:\n",
      "9 of hearts.\n",
      "Numeric value is 9.\n",
      "\n",
      "Card attributes:\n",
      "10 of hearts.\n",
      "Numeric value is 10.\n",
      "\n",
      "Card attributes:\n",
      "J of hearts.\n",
      "Numeric value is 10.\n",
      "\n",
      "Card attributes:\n",
      "Q of hearts.\n",
      "Numeric value is 10.\n",
      "\n",
      "Card attributes:\n",
      "K of hearts.\n",
      "Numeric value is 10.\n",
      "\n",
      "Card attributes:\n",
      "1 of diamonds.\n",
      "Numeric value is 1.\n",
      "\n",
      "Card attributes:\n",
      "2 of diamonds.\n",
      "Numeric value is 2.\n",
      "\n",
      "Card attributes:\n",
      "3 of diamonds.\n",
      "Numeric value is 3.\n",
      "\n",
      "Card attributes:\n",
      "4 of diamonds.\n",
      "Numeric value is 4.\n",
      "\n",
      "Card attributes:\n",
      "5 of diamonds.\n",
      "Numeric value is 5.\n",
      "\n",
      "Card attributes:\n",
      "6 of diamonds.\n",
      "Numeric value is 6.\n",
      "\n",
      "Card attributes:\n",
      "7 of diamonds.\n",
      "Numeric value is 7.\n",
      "\n",
      "Card attributes:\n",
      "8 of diamonds.\n",
      "Numeric value is 8.\n",
      "\n",
      "Card attributes:\n",
      "9 of diamonds.\n",
      "Numeric value is 9.\n",
      "\n",
      "Card attributes:\n",
      "10 of diamonds.\n",
      "Numeric value is 10.\n",
      "\n",
      "Card attributes:\n",
      "J of diamonds.\n",
      "Numeric value is 10.\n",
      "\n",
      "Card attributes:\n",
      "Q of diamonds.\n",
      "Numeric value is 10.\n",
      "\n",
      "Card attributes:\n",
      "K of diamonds.\n",
      "Numeric value is 10.\n",
      "\n",
      "There are 52 cards in the deck.\n"
     ]
    }
   ],
   "source": [
    "suits = ['clubs','spades','hearts','diamonds']\n",
    "values = list(range(1,11))\n",
    "letters = ['J','Q','K']\n",
    "\n",
    "for letter in letters:\n",
    "    values.append(letter)\n",
    "    \n",
    "print(suits)\n",
    "print(values)\n",
    "\n",
    "deck = [Card(suit = suit, value = value) for suit in suits for value in values]\n",
    "for card in deck:\n",
    "    card.display()\n",
    "    \n",
    "print('There are {} cards in the deck.'.format(len(deck)))"
   ]
  },
  {
   "cell_type": "markdown",
   "metadata": {},
   "source": [
    "From the output, we can see that the deck creation was successful. Next week we'll look at different ways of creating a deck and dealing cards from the deck."
   ]
  },
  {
   "cell_type": "markdown",
   "metadata": {},
   "source": [
    "<a title=\"Jahobr [CC0], from Wikimedia Commons\" href=\"https://commons.wikimedia.org/wiki/File:AnalogClockAnimation1_2hands_1h_in_6sec.gif\"><img width=\"512\" alt=\"AnalogClockAnimation1 2hands 1h in 6sec\" src=\"https://upload.wikimedia.org/wikipedia/commons/thumb/8/8a/AnalogClockAnimation1_2hands_1h_in_6sec.gif/512px-AnalogClockAnimation1_2hands_1h_in_6sec.gif\"></a>"
   ]
  },
  {
   "cell_type": "markdown",
   "metadata": {},
   "source": [
    "## The Time Class\n",
    "\n",
    "We'll create a new class called `Time` which will have three attributes: hours, minutes, and seconds."
   ]
  },
  {
   "cell_type": "code",
   "execution_count": 16,
   "metadata": {},
   "outputs": [],
   "source": [
    "class Time:\n",
    "    \"\"\" The time class. \"\"\"\n",
    "    \n",
    "    def __init__(self, hours, minutes, seconds):\n",
    "        self.hours = hours\n",
    "        self.minutes = minutes\n",
    "        self.seconds = seconds\n",
    "        \n",
    "T = Time(hours = 1, minutes = 54, seconds = 35)"
   ]
  },
  {
   "cell_type": "markdown",
   "metadata": {},
   "source": [
    "The `Time` instance created above represents the clock time 1:54:35. We haven't specified whether the time is 'AM' or 'PM', but we can change the class definition to allow for this. \n",
    "\n",
    "We'll use a boolean for AM/PM. The intention is to avoid too many string inputs so we don't have to worry about changing from uppercase to lowercase, or vice-versa. If `am` is `True`, we'll set the `am` attribute to `AM`, otherwise it will be `PM`."
   ]
  },
  {
   "cell_type": "code",
   "execution_count": 29,
   "metadata": {},
   "outputs": [
    {
     "name": "stdout",
     "output_type": "stream",
     "text": [
      "AM\n"
     ]
    }
   ],
   "source": [
    "class Time:\n",
    "    \"\"\" The time class. \"\"\"\n",
    "    \n",
    "    def __init__(self, hours, minutes, seconds, am):\n",
    "        self.hours = hours\n",
    "        self.minutes = minutes\n",
    "        self.seconds = seconds\n",
    "        \n",
    "        # Determine AM or PM.\n",
    "        if type(am) is not type(True):\n",
    "            raise TypeError('Only boolean inputs allowed for am argument.')\n",
    "        \n",
    "        if am:\n",
    "            self.am = 'AM'\n",
    "        else:\n",
    "            self.am = 'PM'\n",
    "        \n",
    "T = Time(hours = 1, minutes = 54, seconds = 35, am = True)\n",
    "print(T.am)"
   ]
  },
  {
   "cell_type": "markdown",
   "metadata": {},
   "source": [
    "Let's create a method to add time to a `Time` class instance. We should add hours to hours, minutes to minutes, and seconds to seconds."
   ]
  },
  {
   "cell_type": "code",
   "execution_count": 30,
   "metadata": {},
   "outputs": [
    {
     "name": "stdout",
     "output_type": "stream",
     "text": [
      "4 59 50 PM\n"
     ]
    }
   ],
   "source": [
    "class Time:\n",
    "    \"\"\" The time class. \"\"\"\n",
    "    \n",
    "    def __init__(self, hours, minutes, seconds, am):\n",
    "        self.hours = hours\n",
    "        self.minutes = minutes\n",
    "        self.seconds = seconds\n",
    "        \n",
    "        # Determine AM or PM.\n",
    "        if type(am) is not type(True):\n",
    "            raise TypeError('Only boolean inputs allowed for am argument.')\n",
    "        \n",
    "        if am:\n",
    "            self.am = 'AM'\n",
    "        else:\n",
    "            self.am = 'PM'\n",
    "            \n",
    "    def add(self, hours, minutes, seconds):\n",
    "        self.hours += hours\n",
    "        self.minutes += minutes\n",
    "        self.seconds += seconds\n",
    "        \n",
    "T = Time(hours = 1, minutes = 54, seconds = 35, am = False)\n",
    "\n",
    "T.add(3,5,15)\n",
    "print(T.hours,T.minutes,T.seconds,T.am)"
   ]
  },
  {
   "cell_type": "markdown",
   "metadata": {},
   "source": [
    "Notice that our `add` method leads to a semantic error if we pass in arguments that result in hours, minutes, or seconds exceeding 60. Here's an example."
   ]
  },
  {
   "cell_type": "code",
   "execution_count": 31,
   "metadata": {},
   "outputs": [
    {
     "name": "stdout",
     "output_type": "stream",
     "text": [
      "4 59 50 PM\n",
      "11 60 61 PM\n"
     ]
    }
   ],
   "source": [
    "print(T.hours,T.minutes,T.seconds,T.am)\n",
    "\n",
    "T.add(7,1,11)\n",
    "print(T.hours,T.minutes,T.seconds,T.am)"
   ]
  },
  {
   "cell_type": "markdown",
   "metadata": {},
   "source": [
    "There really shouldn't be minutes or seconds over 60, so we need to change the `add` method. It didn't happen here, but hours should never exceed 12 (unless we're using the 24-hour clock).\n",
    "\n",
    "We'll demonstrate that the changes to the `add` method work by starting with the time 1:54:35 PM. We'll add 13 hours, 10 minutes, and 45 seconds, and check that the resulting time is 3:05:20 AM."
   ]
  },
  {
   "cell_type": "code",
   "execution_count": 32,
   "metadata": {},
   "outputs": [
    {
     "name": "stdout",
     "output_type": "stream",
     "text": [
      "3 5 20 AM\n"
     ]
    }
   ],
   "source": [
    "class Time:\n",
    "    \"\"\" The time class. \"\"\"\n",
    "    \n",
    "    def __init__(self, hours, minutes, seconds, am):\n",
    "        self.hours = hours\n",
    "        self.minutes = minutes\n",
    "        self.seconds = seconds\n",
    "        \n",
    "        # Determine AM or PM.\n",
    "        if type(am) is not type(True):\n",
    "            raise TypeError('Only boolean inputs allowed for am argument.')\n",
    "            \n",
    "        if am:\n",
    "            self.am = 'AM'\n",
    "        else:\n",
    "            self.am = 'PM'\n",
    "            \n",
    "    def add(self, hours, minutes, seconds):\n",
    "        self.hours += hours\n",
    "        self.minutes += minutes\n",
    "        self.seconds += seconds\n",
    "        \n",
    "        # Adjust for correct clock time.\n",
    "        if self.seconds >= 60:\n",
    "            self.seconds -= 60\n",
    "            self.minutes += 1\n",
    "            \n",
    "        if self.minutes >= 60:\n",
    "            self.minutes -= 60\n",
    "            self.hours += 1\n",
    "        \n",
    "        # Change am to pm when needed.\n",
    "        if self.hours > 12:\n",
    "            self.hours -= 12\n",
    "            \n",
    "            if self.am == 'AM':\n",
    "                self.am = 'PM'\n",
    "            else:\n",
    "                self.am = 'AM'\n",
    "                \n",
    "T = Time(hours = 1, minutes = 54, seconds = 35, am = False)\n",
    "\n",
    "T.add(13,10,45)\n",
    "print(T.hours,T.minutes,T.seconds,T.am)"
   ]
  },
  {
   "cell_type": "markdown",
   "metadata": {},
   "source": [
    "The new `add` method works!\n",
    "\n",
    "We need to make an important consideration here. Suppose we were baking a cake that needed to be in the oven for 1 hour and 15 minutes. If we know the current time, we can add 1 hour and 15 minutes to the current time and find out when we need to take the cake out. However, if we used the `add` method to do this, we would be **changing the current time**. For this reason, it may be beneficial to have a second method to display hypothetical future times. Using a method to do this requires importing the `copy` module, which is part of the standard Python library.\n",
    "\n",
    "Alternatively, we could define a function outside of the `Time` class to show the resulting time from adding 1 hour and 15 minutes to the current time. This can be done by creating two `Time` instances and adding them together.\n",
    "\n",
    "The code below explores both of these options."
   ]
  },
  {
   "cell_type": "code",
   "execution_count": 36,
   "metadata": {},
   "outputs": [
    {
     "name": "stdout",
     "output_type": "stream",
     "text": [
      "1 54 35\n",
      "3 9 35\n"
     ]
    }
   ],
   "source": [
    "# First way of displaying future time: using methods.\n",
    "import copy\n",
    "\n",
    "class Time:\n",
    "    \"\"\" The time class. \"\"\"\n",
    "    \n",
    "    def __init__(self, hours, minutes, seconds, am = None):\n",
    "        self.hours = hours\n",
    "        self.minutes = minutes\n",
    "        self.seconds = seconds\n",
    "        \n",
    "        # Determine AM or PM.\n",
    "        if type(am) is not type(True):\n",
    "            raise TypeError('Only boolean inputs allowed for am argument.')\n",
    "        if am:\n",
    "            self.am = 'AM'\n",
    "        else:\n",
    "            self.am = 'PM'\n",
    "            \n",
    "    def add(self, hours, minutes, seconds):\n",
    "        self.hours += hours\n",
    "        self.minutes += minutes\n",
    "        self.seconds += seconds\n",
    "        \n",
    "        # Adjust for correct clock time.\n",
    "        if self.seconds > 60:\n",
    "            self.seconds -= 60\n",
    "            self.minutes += 1\n",
    "            \n",
    "        if self.minutes > 60:\n",
    "            self.minutes -= 60\n",
    "            self.hours += 1\n",
    "        \n",
    "        # Change am to pm when needed.\n",
    "        if self.hours > 12:\n",
    "            self.hours -= 12\n",
    "            \n",
    "            if self.am == 'AM':\n",
    "                self.am = 'PM'\n",
    "            else:\n",
    "                self.am = 'AM'\n",
    "                \n",
    "    def futureTime(self, hours, minutes, seconds):\n",
    "        \"\"\" Create a copy of self and add time to it. \"\"\"\n",
    "        future_time = copy.copy(self)\n",
    "        future_time.add(hours,minutes,seconds)\n",
    "        print(future_time.hours, future_time.minutes, future_time.seconds)\n",
    "\n",
    "current_time = Time(hours = 1, minutes = 54, seconds = 35, am = False)\n",
    "print(current_time.hours, current_time.minutes, current_time.seconds)\n",
    "current_time.futureTime(1,15,0)"
   ]
  },
  {
   "cell_type": "code",
   "execution_count": 39,
   "metadata": {},
   "outputs": [
    {
     "name": "stdout",
     "output_type": "stream",
     "text": [
      "1 54 35\n",
      "3 9 35\n"
     ]
    }
   ],
   "source": [
    "# Second way of displaying future time: using an external function.\n",
    "class Time:\n",
    "    \"\"\" The time class. \"\"\"\n",
    "    \n",
    "    def __init__(self, hours = 0, minutes = 0, seconds = 0, am = None):\n",
    "        \"\"\" All arguments are optional to allow for empty instances. \"\"\"\n",
    "        self.hours = hours\n",
    "        self.minutes = minutes\n",
    "        self.seconds = seconds\n",
    "        \n",
    "        # Determine AM or PM.\n",
    "        if type(am) is not type(True):\n",
    "            raise TypeError('Only boolean inputs allowed for am argument.')\n",
    "        if am:\n",
    "            self.am = 'AM'\n",
    "        else:\n",
    "            self.am = 'PM'\n",
    "            \n",
    "    def add(self, hours, minutes, seconds):\n",
    "        self.hours += hours\n",
    "        self.minutes += minutes\n",
    "        self.seconds += seconds\n",
    "        \n",
    "        # Adjust for correct clock time.\n",
    "        if self.seconds >= 60:\n",
    "            self.seconds -= 60\n",
    "            self.minutes += 1\n",
    "            \n",
    "        if self.minutes >= 60:\n",
    "            self.minutes -= 60\n",
    "            self.hours += 1\n",
    "        \n",
    "        # Change am to pm when needed.\n",
    "        if self.hours > 12:\n",
    "            self.hours -= 12\n",
    "            \n",
    "            if self.am == 'AM':\n",
    "                self.am = 'PM'\n",
    "            else:\n",
    "                self.am = 'AM'\n",
    "                \n",
    "def addTime(t1, t2):\n",
    "    S = Time()\n",
    "    \n",
    "    S.hours = t1.hours + t2.hours\n",
    "    S.minutes = t1.minutes + t2.minutes\n",
    "    S.seconds = t1.seconds + t2.seconds\n",
    "    \n",
    "    if S.seconds >= 60:\n",
    "        S.seconds -= 60\n",
    "        S.minutes += 1\n",
    "    \n",
    "    if S.minutes >= 60:\n",
    "        S.minutes -= 60\n",
    "        S.hours += 1\n",
    "        \n",
    "    if S.hours > 12:\n",
    "        S.hours -= 12\n",
    "    \n",
    "    return S\n",
    "    \n",
    "                \n",
    "current_time = Time(hours = 1, minutes = 54, seconds = 35, am = False) \n",
    "add_time = Time(hours = 1, minutes = 15)\n",
    "\n",
    "future_time = addTime(current_time, add_time)\n",
    "print(current_time.hours, current_time.minutes, current_time.seconds)\n",
    "print(future_time.hours, future_time.minutes, future_time.seconds)"
   ]
  },
  {
   "cell_type": "markdown",
   "metadata": {},
   "source": [
    "These two approaches are equivalent, but the second approach is cleaner. If we don't need to create a class method to do a task, then we shouldn't. There is still an easier way to add two times together than the `addTime` function. We'll explore this in the exercises."
   ]
  },
  {
   "cell_type": "markdown",
   "metadata": {},
   "source": [
    "## Another example: The User Class\n",
    "\n",
    "Let's see another example of a custom class. We'll define a `User` class, with username and password as attributes, for a hypothetical log-in system."
   ]
  },
  {
   "cell_type": "code",
   "execution_count": 40,
   "metadata": {},
   "outputs": [],
   "source": [
    "class User:\n",
    "    \"\"\" User class for log-in system. \"\"\"\n",
    "        \n",
    "    def __init__(self, username, password):\n",
    "        self.username = username\n",
    "        self.password = password "
   ]
  },
  {
   "cell_type": "markdown",
   "metadata": {},
   "source": [
    "Now let's add a feature. If no username or password is specified, we'll create a randomized one."
   ]
  },
  {
   "cell_type": "code",
   "execution_count": 41,
   "metadata": {},
   "outputs": [],
   "source": [
    "class User:\n",
    "    \"\"\" User class for log-in system. \"\"\"\n",
    "    \n",
    "    def makeRandom():\n",
    "        \"\"\" Create a 9-character random username or password. \"\"\"\n",
    "        import random\n",
    "        import string\n",
    "        \n",
    "        chars = string.ascii_uppercase + string.ascii_lowercase + string.digits\n",
    "        return ''.join(random.choice(chars) for _ in range(9))\n",
    "    \n",
    "    def __init__(self, username = makeRandom(), password = makeRandom()):\n",
    "        \"\"\" The default username/password is randomly generated. \"\"\"\n",
    "        \n",
    "        self.username = username\n",
    "        self.password = password    "
   ]
  },
  {
   "cell_type": "markdown",
   "metadata": {},
   "source": [
    "Note that the function `makeRandom()` isn't really a **method**. This function generates random usernames and passwords composed of upper/lowercase letters and the digits 0-9.\n",
    "\n",
    "Let's add a `display()` method to show the newly created User their username and password."
   ]
  },
  {
   "cell_type": "code",
   "execution_count": 43,
   "metadata": {},
   "outputs": [
    {
     "name": "stdout",
     "output_type": "stream",
     "text": [
      "Username: Matt\n",
      "Password: wRHKNX6MW\n"
     ]
    }
   ],
   "source": [
    "class User:\n",
    "    \"\"\" User class for log-in system. \"\"\"\n",
    "    \n",
    "    def makeRandom():\n",
    "        \"\"\" Create a 9-character random username or password. \"\"\"\n",
    "        import random\n",
    "        import string\n",
    "        \n",
    "        chars = string.ascii_uppercase + string.ascii_lowercase + string.digits\n",
    "        return ''.join(random.choice(chars) for _ in range(9))\n",
    "    \n",
    "    def __init__(self, username = makeRandom(), password = makeRandom()):\n",
    "        \"\"\" The default username/password is randomly generated. \"\"\"\n",
    "        \n",
    "        self.username = username\n",
    "        self.password = password  \n",
    "        \n",
    "    def display(self):\n",
    "        \"\"\" Display the username/password pair. \"\"\"\n",
    "        \n",
    "        print('Username: {}'.format(self.username))\n",
    "        print('Password: {}'.format(self.password))\n",
    "        \n",
    "person = User('Matt')\n",
    "person.display()"
   ]
  },
  {
   "cell_type": "markdown",
   "metadata": {},
   "source": [
    "We can add more features to this class, such as allowing user input to define their own username and password. We'll also make sure that the password is at least 7 characters. This requires changing the `__init__` method. We need to place the `makeRandom()` function inside the `__init__` method, and we'll make the default username and password the empty string."
   ]
  },
  {
   "cell_type": "code",
   "execution_count": 44,
   "metadata": {},
   "outputs": [
    {
     "name": "stdout",
     "output_type": "stream",
     "text": [
      "Please enter a username (press Enter to select a random username): malfoy1997\n",
      "Please enter a password (press Enter to select a random password): \n",
      "Username: malfoy1997\n",
      "Password: ensJ6kiO3\n"
     ]
    }
   ],
   "source": [
    "class User:\n",
    "    \"\"\" User class for log-in system. \"\"\"\n",
    "        \n",
    "    def __init__(self, username = '', password = ''):\n",
    "        \"\"\" The default username/password is randomly generated. \"\"\"\n",
    "                \n",
    "        def makeRandom():\n",
    "            \"\"\" Create a 9-character random username or password. \"\"\"  \n",
    "            import random\n",
    "            import string\n",
    "\n",
    "            chars = string.ascii_uppercase + string.ascii_lowercase + string.digits\n",
    "            return ''.join(random.choice(chars) for _ in range(9))\n",
    "        \n",
    "        self.username = input('Please enter a username (press Enter to select a random username): ')\n",
    "        if self.username is '':\n",
    "            self.username = makeRandom()\n",
    "        \n",
    "        self.password = ''\n",
    "        while len(self.password) < 7:\n",
    "            self.password = input('Please enter a password (press Enter to select a random password): ')\n",
    "            if self.password is '':\n",
    "                self.password = makeRandom()\n",
    "        \n",
    "    def display(self):\n",
    "        \"\"\" Display the username/password pair. \"\"\"\n",
    "        \n",
    "        print('Username: {}'.format(self.username))\n",
    "        print('Password: {}'.format(self.password))\n",
    "        \n",
    "person = User()\n",
    "person.display()"
   ]
  },
  {
   "cell_type": "markdown",
   "metadata": {},
   "source": [
    "Hopefully you can see the many options for creating the `User` class. There are countless options for defining your own classes and customizing their functionality through internal functions and methods."
   ]
  },
  {
   "cell_type": "markdown",
   "metadata": {},
   "source": [
    "## If everything is an object in Python, why don't we use classes more often?\n",
    "\n",
    "The answer to this can be unfortunately phrased as a question: why would we? There are many situations in which classes will improve the functionality of your program and provide convenient solutions to problems. However, there are also situations in which using objects will only unnecessarily complicate things. \n",
    "\n",
    "At the outset of writing any code to accomplish a task, and as you write the code, it is helpful to ask yourself the following questions:\n",
    "<ul>\n",
    "    <li> How can I store data and variables in my program? Do lists and dictionaries give me the flexibility that I need? </li>\n",
    "    <li> Is there another existing object that I can use, rather than 'reinventing the wheel'? </li>\n",
    "    <li> Is there something in the Python standard library or a well-documented external package that does the same thing that I am trying to do? </li>\n",
    "</ul>"
   ]
  },
  {
   "cell_type": "markdown",
   "metadata": {},
   "source": [
    "## *Exercises*"
   ]
  },
  {
   "cell_type": "markdown",
   "metadata": {},
   "source": [
    "<ul>\n",
    "    <li> Create a new <code>Book</code> class to represent a book. Your class should have the attributes title, author, pages, year, and publisher. Write a method that displays all of the attributes of the <code>Book</code> class in a readable format. </li>\n",
    "</ul>"
   ]
  },
  {
   "cell_type": "code",
   "execution_count": 58,
   "metadata": {},
   "outputs": [
    {
     "name": "stdout",
     "output_type": "stream",
     "text": [
      "Catch-22 by Joseph Heller; published by Simon & Schuster in 1961; 453 pages.\n"
     ]
    }
   ],
   "source": [
    "class Book:\n",
    "    def __init__(self, title, author, pages, year, publisher):\n",
    "        self.title = title\n",
    "        self.author = author\n",
    "        self.pages = pages\n",
    "        self.year = year\n",
    "        self.publisher = publisher\n",
    "        \n",
    "    def display(self):\n",
    "        \"\"\" Display all attributes. \"\"\"\n",
    "        \n",
    "        print('{} by {}; published by {} in {}; {} pages.'.format(self.title, self.author, self.publisher, self.year, self.pages))\n",
    "        \n",
    "catch22 = Book('Catch-22','Joseph Heller','453','1961','Simon & Schuster')\n",
    "catch22.display()"
   ]
  },
  {
   "cell_type": "markdown",
   "metadata": {},
   "source": [
    "<ul>\n",
    "    <li> Write a <code>display</code> method for the <code>Time</code> class. Your method should display the time in the format hours:minutes:seconds, am/pm. </li>\n",
    "</ul>"
   ]
  },
  {
   "cell_type": "code",
   "execution_count": 1,
   "metadata": {},
   "outputs": [
    {
     "name": "stdout",
     "output_type": "stream",
     "text": [
      "8:20:09, PM\n"
     ]
    }
   ],
   "source": [
    "class Time:\n",
    "    \"\"\" The time class. \"\"\"\n",
    "    \n",
    "    def __init__(self, hours = 0, minutes = 0, seconds = 0, am = None):\n",
    "        \"\"\" All arguments are optional to allow for empty instances. \"\"\"\n",
    "        self.hours = hours\n",
    "        self.minutes = minutes\n",
    "        self.seconds = seconds\n",
    "        \n",
    "        # Determine AM or PM.\n",
    "        if type(am) is not type(True):\n",
    "            raise TypeError('Only boolean inputs allowed for am argument.')\n",
    "        if am:\n",
    "            self.am = 'AM'\n",
    "        else:\n",
    "            self.am = 'PM'\n",
    "            \n",
    "    def display(self):\n",
    "        \"\"\" Display the time. \"\"\"\n",
    "        \n",
    "        # Display format hours:minutes:seconds, am/pm, with leading zeros \n",
    "        # for single-digit minutes and/or seconds.\n",
    "        if self.minutes - 10 < 0:\n",
    "            self.strminutes = '0' + str(self.minutes)\n",
    "        else:\n",
    "            self.strminutes = str(self.minutes)\n",
    "            \n",
    "        if self.seconds - 10 < 0:\n",
    "            self.strseconds = '0' + str(self.seconds)\n",
    "        else:\n",
    "            self.strseconds = str(self.seconds)\n",
    "        \n",
    "        \n",
    "        print('{}:{}:{}, {}'.format(self.hours, self.strminutes, self.strseconds, self.am))\n",
    "        \n",
    "current_time = Time(hours = 8, minutes = 20, seconds = 9, am = False)\n",
    "current_time.display()"
   ]
  },
  {
   "cell_type": "markdown",
   "metadata": {},
   "source": [
    "<ul>\n",
    "    <li> Write a function (not a method) called <code>convertToSeconds</code> that converts a <code>Time</code> class instance to seconds. </li>\n",
    "</ul>"
   ]
  },
  {
   "cell_type": "code",
   "execution_count": 2,
   "metadata": {},
   "outputs": [
    {
     "name": "stdout",
     "output_type": "stream",
     "text": [
      "72000\n"
     ]
    }
   ],
   "source": [
    "def convertToSeconds(time):\n",
    "    \"\"\" Function to convert a Time class instance to seconds. \"\"\"\n",
    "    sec = time.seconds\n",
    "    sec += time.minutes*60\n",
    "    sec += time.hours*3600\n",
    "    \n",
    "    if time.am is 'PM':\n",
    "        sec += 3600*12\n",
    "        \n",
    "    return sec\n",
    "    \n",
    "t = Time(hours = 8, minutes = 0, seconds = 0, am = False)\n",
    "print(convertToSeconds(t))"
   ]
  },
  {
   "cell_type": "markdown",
   "metadata": {},
   "source": [
    "<ul>\n",
    "    <li> The following function <code>makeTime</code> converts a time, represented in seconds only, into a <code>Time</code> class instance. Define a function called <code>addTime</code> that adds two times represented in seconds together and then uses the <code>makeTime</code> function to convert the result into a <code>Time</code> class instance. </li>\n",
    "</ul>"
   ]
  },
  {
   "cell_type": "code",
   "execution_count": 3,
   "metadata": {},
   "outputs": [
    {
     "data": {
      "text/plain": [
       "43200"
      ]
     },
     "execution_count": 3,
     "metadata": {},
     "output_type": "execute_result"
    }
   ],
   "source": [
    "12*3600"
   ]
  },
  {
   "cell_type": "code",
   "execution_count": 33,
   "metadata": {},
   "outputs": [
    {
     "name": "stdout",
     "output_type": "stream",
     "text": [
      "2:00:00, PM\n"
     ]
    }
   ],
   "source": [
    "import math\n",
    "\n",
    "def makeTime(seconds):\n",
    "    \"\"\" Function to convert seconds to a clock time. \n",
    "        12:00:00 midnight is considered '0'.\n",
    "    \"\"\"\n",
    "    \n",
    "    # Only allow integer input.\n",
    "    if type(seconds) is not type(2):\n",
    "        raise TypeError('Only integer inputs allowed.')\n",
    "        \n",
    "    # Math for converting to time.\n",
    "    hr = math.floor(seconds/3600)\n",
    "    mins = math.floor((seconds % 3600)/60)\n",
    "    sec = seconds % 60\n",
    "    \n",
    "    # Set am to True if before noon.\n",
    "    if seconds < 43200:\n",
    "        am = True\n",
    "    # Set am to False if past noon.\n",
    "    elif seconds >= 43200:\n",
    "        am = False\n",
    "    \n",
    "    # Subtract 12 from hours if past 1 pm (13 pm).\n",
    "    if seconds >= 46800:\n",
    "        hr -= 12\n",
    "    \n",
    "    T = Time(hr,mins,sec,am)\n",
    "    \n",
    "    return T\n",
    "\n",
    "def addTime(t1, t2):\n",
    "    \"\"\" Function to add seconds together and convert them to a clock time. \"\"\"\n",
    "    t = t1 + t2\n",
    "    \n",
    "    return makeTime(t)\n",
    "\n",
    "G = addTime(43200,7200)\n",
    "G.display()"
   ]
  },
  {
   "cell_type": "markdown",
   "metadata": {},
   "source": [
    "### Example class for the *Hangman* game\n",
    "\n",
    "Here's an example of using a custom class to represent the 'man' in the *Hangman* game."
   ]
  },
  {
   "cell_type": "code",
   "execution_count": 53,
   "metadata": {},
   "outputs": [],
   "source": [
    "class Man:\n",
    "    def __init__(self):\n",
    "        self.head = False\n",
    "        self.body = False\n",
    "        self.armR = False\n",
    "        self.armL = False\n",
    "        self.legR = False\n",
    "        self.legL = False\n",
    "        self.eyes = False\n",
    "        self.nose = False\n",
    "        self.mouth = False\n",
    "        \n",
    "        self.hanged = False\n",
    "        \n",
    "        self.limbs = [self.head,self.body,self.armR,self.armL,self.legR,self.legL,self.eyes,self.nose,self.mouth]\n",
    "        self.names = ['head','body','right arm','left arm','right leg','left leg','eyes','nose','mouth']\n",
    "        \n",
    "        self.index = 0\n",
    "        \n",
    "    def update(self,guess):\n",
    "        \"\"\" Method to change attributes to True if the guess is wrong. \"\"\"\n",
    "        \n",
    "        # If the guess is false, add another limb.\n",
    "        if not guess: \n",
    "            self.limbs[self.index] = True\n",
    "            print('The man now has a {}.'.format(self.names[self.index]))\n",
    "            \n",
    "            self.index += 1\n",
    "        else:\n",
    "            # If they guess correctly, do something else (?).\n",
    "            print('Great guess!')\n",
    "        \n",
    "        if self.index == len(self.limbs):\n",
    "            \"\"\" If we are out of limbs, the game is lost. \"\"\"\n",
    "            \n",
    "            self.hanged = True\n",
    "            print('You ran out of guesses! Game over.')"
   ]
  },
  {
   "cell_type": "code",
   "execution_count": 56,
   "metadata": {},
   "outputs": [
    {
     "name": "stdout",
     "output_type": "stream",
     "text": [
      "The man now has a head.\n",
      "The man now has a body.\n",
      "The man now has a right arm.\n",
      "The man now has a left arm.\n",
      "The man now has a right leg.\n",
      "The man now has a left leg.\n",
      "The man now has a eyes.\n",
      "The man now has a nose.\n",
      "The man now has a mouth.\n",
      "You ran out of guesses! Game over.\n"
     ]
    }
   ],
   "source": [
    "# Testing the Man class.\n",
    "man = Man()\n",
    "\n",
    "for _ in range(9):\n",
    "    man.update(False)"
   ]
  },
  {
   "cell_type": "code",
   "execution_count": null,
   "metadata": {},
   "outputs": [],
   "source": []
  }
 ],
 "metadata": {
  "kernelspec": {
   "display_name": "Python 3",
   "language": "python",
   "name": "python3"
  },
  "language_info": {
   "codemirror_mode": {
    "name": "ipython",
    "version": 3
   },
   "file_extension": ".py",
   "mimetype": "text/x-python",
   "name": "python",
   "nbconvert_exporter": "python",
   "pygments_lexer": "ipython3",
   "version": "3.6.5"
  }
 },
 "nbformat": 4,
 "nbformat_minor": 2
}
