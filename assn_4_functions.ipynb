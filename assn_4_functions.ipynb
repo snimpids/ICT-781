{
 "cells": [
  {
   "cell_type": "markdown",
   "metadata": {},
   "source": [
    "# Functions to Debug\n",
    "\n",
    "Look through these function for syntax, runtime, and semantic errors. You may add or remove code where required. To focus your efforts, there is a semantic error in the first function, and one function contains no errors."
   ]
  },
  {
   "cell_type": "code",
   "execution_count": 1,
   "metadata": {},
   "outputs": [],
   "source": [
    "import numpy as np\n",
    "from matplotlib import pyplot as plt\n",
    "\n",
    "def inputChecker(*args):\n",
    "    \"\"\" Function to check if input is a number. \n",
    "        \n",
    "        Input:\n",
    "        ------\n",
    "        args := list or tuple of arbitrary Python data types\n",
    "        \n",
    "        Output:\n",
    "        -------\n",
    "        True if args only contains numbers (floats or integers)\n",
    "        False otherwise\n",
    "    \"\"\"\n",
    "    \n",
    "    numbers = [type(item) in [type(1.0),type(1)] for item in args]\n",
    "    \n",
    "    if all(numbers):\n",
    "        return True\n",
    "    else:\n",
    "        return False\n",
    "    \n",
    "def evalPolynomial(a,b,c,x):\n",
    "    \"\"\" Evaluate the quadratic polynomial of the\n",
    "        form ax**2 + bx + c at the point x.\n",
    "        \n",
    "        Input:\n",
    "        ------\n",
    "        a := coefficient for x**2 term\n",
    "        b := coefficient for x term\n",
    "        c := constant term\n",
    "        x := evaluate polynomial at this point\n",
    "        \n",
    "        Output:\n",
    "        -------\n",
    "        y := polynomial evaluated at x\n",
    "    \"\"\"\n",
    "    \n",
    "    # Make sure we only have numbers as inputs\n",
    "    if not inputChecker(a,b,c,x):\n",
    "        raise ValueError('Only numeric inputs are allowed.')\n",
    "    \n",
    "    plotQuadratic(a,b,c)\n",
    "    \n",
    "    y = a*x**2 + b*x + c\n",
    "    \n",
    "    return y\n",
    "\n",
    "def roots(a,b,c):\n",
    "    \"\"\" Find the roots of a quadratic polynomial. \n",
    "    \n",
    "        Input:\n",
    "        ------\n",
    "        a := coefficient for x**2 term\n",
    "        b := coefficient for x term\n",
    "        c := constant term\n",
    "        \n",
    "        Output:\n",
    "        -------\n",
    "        r1, r2 := roots of the polynomial\n",
    "    \n",
    "    \"\"\"\n",
    "    \n",
    "    # Make sure we only have numbers as inputs\n",
    "    if not inputChecker(a,b,c):\n",
    "        raise ValueError('Only numeric inputs are allowed.')\n",
    "        \n",
    "    plotQuadratic(a,b,c)\n",
    "    \n",
    "    discriminant = b**2 - 4*a*c\n",
    "    \n",
    "    if discriminant < 0:\n",
    "        print('Two complex roots')\n",
    "        discriminant = -discriminant\n",
    "        r1 = [-b/(2*a), np.sqrt(discriminant)/(2*a)]\n",
    "        r2 = [-b/(2*a), -np.sqrt(discriminant)/(2*a)]\n",
    "        print(r1,r2)\n",
    "        \n",
    "        return r1, r2\n",
    "    \n",
    "    elif discriminant > 0:\n",
    "        print('Two real roots')\n",
    "        r1 = (-b + np.sqrt(discriminant))/(2*a)\n",
    "        r2 = (-b - np.sqrt(discriminant))/(2*a)\n",
    "        print(r1,r2)\n",
    "        \n",
    "        return r1, r2\n",
    "              \n",
    "    else:\n",
    "        print('One repeated real root')\n",
    "        r1 = -b/(2*a)\n",
    "        print(r1,r1)\n",
    "              \n",
    "        return r1, r1\n",
    "       \n",
    "def plotQuadratic(a,b,c):\n",
    "    \"\"\" Function to plot the quadratic polynomial. \"\"\"\n",
    "    \n",
    "    x = np.linspace(-10,10,500)\n",
    "    f = a*x**2 + b*x + c\n",
    "    \n",
    "    plt.plot(x,f)"
   ]
  },
  {
   "cell_type": "code",
   "execution_count": 2,
   "metadata": {},
   "outputs": [],
   "source": [
    "import unittest\n",
    "\n",
    "class Testing(unittest.TestCase):\n",
    "    def test_inputs(self):\n",
    "        self.assertFalse(inputChecker('s'))\n",
    "    \n",
    "    def test_eval(self):\n",
    "        with self.assertRaises(ValueError):\n",
    "            evalPolynomial('a','b','c','x')\n",
    "            \n",
    "        with self.assertRaises(TypeError):\n",
    "            evalPolynomial('s')\n",
    "\n",
    "# Function to run the tests.\n",
    "def run():\n",
    "    if __name__ == '__main__':\n",
    "        unittest.main(argv=['first-arg-is-ignored'], exit=False)"
   ]
  },
  {
   "cell_type": "code",
   "execution_count": 3,
   "metadata": {},
   "outputs": [
    {
     "name": "stderr",
     "output_type": "stream",
     "text": [
      "..\n",
      "----------------------------------------------------------------------\n",
      "Ran 2 tests in 0.005s\n",
      "\n",
      "OK\n"
     ]
    }
   ],
   "source": [
    "run()"
   ]
  },
  {
   "cell_type": "code",
   "execution_count": 4,
   "metadata": {},
   "outputs": [
    {
     "data": {
      "text/plain": [
       "0"
      ]
     },
     "execution_count": 4,
     "metadata": {},
     "output_type": "execute_result"
    },
    {
     "data": {
      "image/png": "[encoded data removed]",
      "text/plain": [
       "<matplotlib.figure.Figure at 0x7f0899057ac8>"
      ]
     },
     "metadata": {},
     "output_type": "display_data"
    }
   ],
   "source": [
    "evalPolynomial(1,2,1,-1)"
   ]
  },
  {
   "cell_type": "code",
   "execution_count": 5,
   "metadata": {},
   "outputs": [
    {
     "name": "stdout",
     "output_type": "stream",
     "text": [
      "One repeated real root\n",
      "-1.0 -1.0\n"
     ]
    },
    {
     "data": {
      "text/plain": [
       "(-1.0, -1.0)"
      ]
     },
     "execution_count": 5,
     "metadata": {},
     "output_type": "execute_result"
    },
    {
     "data": {
      "image/png": "[encoded data removed]",
      "text/plain": [
       "<matplotlib.figure.Figure at 0x7f08688569b0>"
      ]
     },
     "metadata": {},
     "output_type": "display_data"
    }
   ],
   "source": [
    "roots(1,2,1)"
   ]
  },
  {
   "cell_type": "code",
   "execution_count": null,
   "metadata": {},
   "outputs": [],
   "source": []
  }
 ],
 "metadata": {
  "kernelspec": {
   "display_name": "Python 3",
   "language": "python",
   "name": "python3"
  },
  "language_info": {
   "codemirror_mode": {
    "name": "ipython",
    "version": 3
   },
   "file_extension": ".py",
   "mimetype": "text/x-python",
   "name": "python",
   "nbconvert_exporter": "python",
   "pygments_lexer": "ipython3",
   "version": "3.6.5"
  }
 },
 "nbformat": 4,
 "nbformat_minor": 2
}
