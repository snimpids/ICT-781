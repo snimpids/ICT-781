{
 "cells": [
  {
   "cell_type": "markdown",
   "metadata": {},
   "source": [
    "# ICT 781 - Day 10\n",
    "\n",
    "# Overview\n",
    "\n",
    "We have arrived at the end of our material for this course. Over the last few weeks, we have covered a huge amount of material on Python's syntax and functionality. Today we'll take a step back and examine some overall considerations when writing programs in Python.\n",
    "\n",
    "Our overview today will include all of the material we've covered through an example task. This task will be accomplished in 3 different programming paradigms: structural, procedural/functional<sup>1</sup>, and object-oriented. We will see the difference in focus of each of these paradigms and examine how each can be used to solve the same problem.\n",
    "\n",
    "[1] We won't get into how this isn't true 'functional' programming. For more information, check out [functional programming](https://en.wikipedia.org/wiki/Functional_programming).\n",
    "\n",
    "# *Example: mafk*"
   ]
  },
  {
   "cell_type": "code",
   "execution_count": null,
   "metadata": {},
   "outputs": [],
   "source": []
  }
 ],
 "metadata": {
  "kernelspec": {
   "display_name": "Python 3",
   "language": "python",
   "name": "python3"
  },
  "language_info": {
   "codemirror_mode": {
    "name": "ipython",
    "version": 3
   },
   "file_extension": ".py",
   "mimetype": "text/x-python",
   "name": "python",
   "nbconvert_exporter": "python",
   "pygments_lexer": "ipython3",
   "version": "3.7.4"
  }
 },
 "nbformat": 4,
 "nbformat_minor": 2
}
