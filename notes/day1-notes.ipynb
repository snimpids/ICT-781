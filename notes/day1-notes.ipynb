{
 "cells": [
  {
   "cell_type": "markdown",
   "metadata": {},
   "source": [
    "# ICT 781-006 - Python Level 1 - Day 1 Notes\n",
    "\n",
    "![](images/python-logo-master-v3-TM.png)\n",
    "*Python logo from [Python Foundation](https://www.python.org)*"
   ]
  },
  {
   "cell_type": "markdown",
   "metadata": {},
   "source": [
    "# Welcome to Python!\n",
    "\n",
    "Python is an increasingly popular general purpose and cross-platform programming language which is widely used in many development areas. It features a less demanding syntax to make rapid development easier for the programmer. As a result, it has been adopted as the language of choice for many projects in data analysis, mobile development, and academia.\n",
    "\n",
    "Have a look at this plot produced by RedMonk. It ranks programming languages by the number of tags on Stack Overflow and the number of projects on GitHub. You can see Python way up in the top right."
   ]
  },
  {
   "cell_type": "markdown",
   "metadata": {},
   "source": [
    "![](https://redmonk.com/sogrady/files/2019/07/lang.rank_.619-1024x708.png)"
   ]
  },
  {
   "cell_type": "markdown",
   "metadata": {},
   "source": [
    "For this course, we'll be using Python 3+ exclusively. Ideally this means Python 3.8. So, if you've had any experience with Python 2.7, expect to see some differences in syntax and in programming style."
   ]
  },
  {
   "cell_type": "markdown",
   "metadata": {},
   "source": [
    "## Python as a Programming Language\n",
    "\n",
    "In this section, we'll briefly discuss how Python differs from other languages. This section is mainly to satisfy some technical curiosity you might have about the comparison between Python and C++ or other languages. \n",
    "\n",
    "Python is an **interpreted** programming language. In a **compiled** programming language such as C++ or Java, source code is written and then sent to a compiler. The compiler translates the source code into machine code, which gives instructions to the computer hardware. The entire translation process is completed *before* the program is run. An executable (often a `.exe` file) is created, which can be run many times without re-translating the source code.\n",
    "\n",
    "In an **interpreted** language, the source code is instead sent to the interpreter, which reads a few lines of source code and then executes them. This process continues, with the interpreter alternating between reading and executing code until the source code ends."
   ]
  },
  {
   "cell_type": "markdown",
   "metadata": {},
   "source": [
    "## Python Programming Environments\n",
    "\n",
    "There are many different programming environments in which to develop Python code. In all truth, any basic text editor can be used to write Python code. However, a dedicated Python programming environment greatly reduces the barrier to developing and maintaining good Python code. Each environment or program has its own strengths and weaknesses (subject to the opinion of this author). In this section, we'll explore some of the most popular options for Python programming. These are divided into three headings: IDLE, third-party integrated environments (those not developed by or affiliated with the Python Foundation), and Jupyter notebooks.\n",
    "\n",
    "### IDLE\n",
    "The simplest environment for Python programming is the Integrated DeveLopment Environment (IDLE). This environment comes with any distribution of Python, which can be downloaded for free from [Python.org](https://www.python.org/). It is accessed from the command line in Linux/Unix, or from the command prompt in Windows.\n",
    "\n",
    "For example, after downloading and installing Python on a Windows computer, you can enter the Python IDLE as seen in the next screenshot.\n",
    "\n",
    "![](images/pythonIDLE.png)\n",
    "\n",
    "The first yellow arrow is pointing to the command used to enter IDLE. In either the Linux terminal or Windows command prompt, simply type `python`. This enters the Python IDLE. The second yellow arrow indicates the version of Python that you are using. In this case, the version is Python 3.6. You can always tell if you are in the Python IDLE by either the three brackets `>>>` indicating the beginning a line of Python code, or by scrolling to the top of the screen and searching for the version of Python. You can exit IDLE by typing `exit()`.\n",
    "\n",
    "#### Benefits of IDLE\n",
    "<ul>\n",
    "    <li> Free to use and comes with Python distribution </li>\n",
    "    <li> Keeps a running list of all previously entered commands, which you can access by pressing the `up` key on your keyboard </li>\n",
    "    <li> Great for short, simple projects or small calculations </li>\n",
    "    <li> Comes with a simple editor for writing Python scripts </li>\n",
    "</ul>\n",
    "\n",
    "#### Shortcomings of IDLE\n",
    "<ul>\n",
    "    <li> Requires local installation of Python </li>\n",
    "    <li> Very bare-bones code editor </li>\n",
    "    <li> Writing and execution of Python code is kept separate, slowing down the development process </li>\n",
    "</ul>\n",
    "\n",
    "### Third-Party Integrated Environments (PyCharm, Eclipse, etc)\n",
    "These are powerful development environments for writing Python **scripts**. A **script** is a collection of Python code that accomplishes some user-specified task. These programming environments are desktop applications that the user downloads and installs locally on their computer. They are typically very feature-rich, with support for multiple programming languages.\n",
    "\n",
    "#### Benefits of Third-Party Environments\n",
    "<ul>\n",
    "    <li> Tons of features for writing and debugging code in many languages </li>\n",
    "    <li> All-in-one code writing and execution </li>\n",
    "    <li> Often free to download, sometimes open source </li>\n",
    "    <li> Code correction features reduce syntax errors (which we'll discuss later) </li>\n",
    "</ul>\n",
    "\n",
    "#### Shortcomings of Third-Party Environments\n",
    "<ul>\n",
    "    <li> The many features can be overwhelming and carry a steeper learning curve </li>\n",
    "    <li> Many features will never be used, meaning there is computer memory being taken up by unused programs </li>\n",
    "    <li> Often they are free, but sometimes they require the purchase of a license to use the full version </li>\n",
    "</ul>\n",
    "\n",
    "Some third-party development environments to consider are [PyCharm](https://www.jetbrains.com/pycharm/), [Eclipse](https://www.eclipse.org/downloads/), or the stellar [Anaconda](https://www.anaconda.com/download/). Anaconda facilitates code development, external package management (which we'll discuss later), and access to the next option for Python development, the Jupyter notebook.\n",
    "\n",
    "### Jupyter Notebooks\n",
    "These notes are written in a Jupyter notebook. Within the Jupyter notebook format, the user can combine HTML, Markdown (text), Python code, and many other technologies and languages. Within the same document, Python code, formatted text, Javascript, the R statistical language, Ruby code, GitHub terminal commands, and many other technologies exist in separate cells, and can communicate with each other. At the University of Calgary, all students have access to the [Syzygy server](https://ucalgary.syzygy.ca), which means that nothing needs to be downloaded locally. All code is written, saved, and run on the remote server.\n",
    "\n",
    "Alternatively, you can create and run Jupyter notebooks in some IDEs, such as PyCharm (professional).\n",
    "\n",
    "#### Benefits of Jupyter Notebooks\n",
    "<ul>\n",
    "    <li> Multiple technologies combined into one format </li>\n",
    "    <li> No local installation needed (unless you use Anaconda) </li>\n",
    "    <li> Easy to share code with others </li>\n",
    "    <li> Used by more and more projects and companies each month </li>\n",
    "    <li> Convenient format for exploring and sharing ideas </li>\n",
    "    <li> Relatively easy to create interactive visuals </li>\n",
    "</ul>\n",
    "\n",
    "#### Shortcomings of Jupyter Notebooks\n",
    "<ul>\n",
    "    <li> Hard to develop large projects with multiple users contributing </li>\n",
    "    <li> No code correction feature </li>\n",
    "    <li> Hard to test code </li>\n",
    "    <li> The Syzygy server automatically signs you out every 30 minutes! (this doesn't happen if you install Anaconda) Arggggh! </li>\n",
    "</ul>\n",
    "\n",
    "In this course, I'll mainly use Jupyter notebooks as a teaching tool. In my own research and development work, I've used Jupyter to try out ideas, to create interactive educational tools, and to communicate ideas to other researchers. \n",
    "\n",
    "If you want to use another method of Python development, that is completely fine with me. It generally best practice to have at least tried all three types of Python development listed above. Once you find one that you are comfortable with, you can use that as your main development tool and then use the others as necessary.\n",
    "\n",
    "### Using IDLE Within a Jupyter Notebook\n",
    "For fast testing of code, you can use IDLE within a Jupyter notebook in two ways. First, you can enter the code in a single code cell and run it by pressing `Shift` + `Enter`. Second, you can run IDLE from the main window in Syzygy. To do this, go to the Syzygy tab in your browser (it should be labeled 'Home'). Go to the far right of the screen and click the 'New' dropdown menu. Then click the 'Terminal' option. This opens a Linux terminal. The screenshot below shows how this is done.\n",
    "\n",
    "![](images/jupyter_terminal.png)\n",
    "\n",
    "From here, simply type `python`, and you're in IDLE!"
   ]
  },
  {
   "cell_type": "markdown",
   "metadata": {},
   "source": [
    "## Types of Errors in Programming\n",
    "\n",
    "### Syntax Errors\n",
    "Because Python is a programming language, developers must be careful to follow the rules of the language. A syntax error is when the rules of the language are broken. For example, suppose I wrote the English sentence: \"do you have any mustard\". I have clearly broken two rules of the English language. First, I didn't start the sentence with a capital letter. Second, I didn't end the sentence, which takes the form of a question, with a question mark.\n",
    "\n",
    "Python has similar rules relating to its structure. Unlike English, Python's rules are absolutely strict and must be followed to produce meaningful output. We can read a poorly written English sentence and still understand its meaning. The Python interpreter can't read or parse a poorly written statement in Python and still 'get the gist' of what you were trying to do. If you make a syntax error in Python, the interpreter will complain by spitting out an error message. In Python, you must follow the rules.\n",
    "\n",
    "### Runtime Errors\n",
    "These subtle errors only appear once the program is run, hence their name. In Python, we also call these **exceptions**. They usually mean that the interpreter has taken exception with something you tried to do. \n",
    "\n",
    "An example of a runtime error would be something like `'hello' > 1`. We'll talk more about data types later, but the problem with this statement is that we are trying to compare a word to an integer. There is no way to compare these two data types, since a word has no numerical value. \n",
    "\n",
    "However, there's no problem with the *syntax* of the statement `'hello' > 1`. Python doesn't see anything wrong with what you *wrote*, but it takes exception with what you are trying to *do*.\n",
    "\n",
    "### Semantic Errors\n",
    "These are the hardest errors to find. A semantic error is when the program runs without any problems, but it doesn't do what you expect it to do. Instead, it will do exactly what you *told* it to do. To correct these errors, you often have to trace the problem backwards from the program output to the source of the error.\n",
    "\n",
    "All three types of error are located and corrected (hopefully) in the process known as **debugging**."
   ]
  },
  {
   "cell_type": "markdown",
   "metadata": {},
   "source": [
    "## Debugging\n",
    "\n",
    "![](images/bug.jpg)\n",
    "*Photo credit by Rushenb - Own work, CC BY-SA 3.0, https://commons.wikimedia.org/w/index.php?curid=32780699*\n",
    "\n",
    "**Bugs** are problems in your code. These lead to syntax, runtime, and semantic errors. Debugging is the process of seeking out the sources of the errors and fixing them. In a way, debugging is detective work. \n",
    "\n",
    "Debugging is often seen as tedious, embarrassing, frustrating, hard, soul-crushing, motivation-killing, dull, infuriating, or vexatious. Here is the cure to ease the debugging process: write perfect code that always works.\n",
    "\n",
    "All joking aside, you simply can't always write code that works. I can't do it, professional developers can't do it, and you shouldn't expect yourself to do it either. Instead, approach writing code with the knowledge that things will go wrong. Debugging then becomes a path of mastery as you dig deeper into your problematic code, checking your assumptions and testing your knowledge. If you get stuck, be patient."
   ]
  },
  {
   "cell_type": "markdown",
   "metadata": {},
   "source": [
    "## Arithmetic Operators in Python\n",
    "\n",
    "You can use the Python programming language as a simple calculator. For example, we can perform the multiplication $5\\times7$ as follows."
   ]
  },
  {
   "cell_type": "code",
   "execution_count": 1,
   "metadata": {},
   "outputs": [
    {
     "data": {
      "text/plain": [
       "35"
      ]
     },
     "execution_count": 1,
     "metadata": {},
     "output_type": "execute_result"
    }
   ],
   "source": [
    "5*7"
   ]
  },
  {
   "cell_type": "markdown",
   "metadata": {},
   "source": [
    "In Python, the `*` symbol is used for multiplication. The other mathematical symbols are found in the following list.\n",
    "\n",
    "|Key|Mathematical Operation in Python|\n",
    "|---|:--|\n",
    "|`*`|Multiplication|\n",
    "|`/`|Division|\n",
    "|`+`|Addition|\n",
    "|`-`|Subtraction|\n",
    "\n",
    "Let's do some quick math to see how these look."
   ]
  },
  {
   "cell_type": "code",
   "execution_count": 2,
   "metadata": {},
   "outputs": [
    {
     "data": {
      "text/plain": [
       "0.7142857142857143"
      ]
     },
     "execution_count": 2,
     "metadata": {},
     "output_type": "execute_result"
    }
   ],
   "source": [
    "5/7"
   ]
  },
  {
   "cell_type": "code",
   "execution_count": 3,
   "metadata": {},
   "outputs": [
    {
     "data": {
      "text/plain": [
       "12"
      ]
     },
     "execution_count": 3,
     "metadata": {},
     "output_type": "execute_result"
    }
   ],
   "source": [
    "5+7"
   ]
  },
  {
   "cell_type": "code",
   "execution_count": 4,
   "metadata": {},
   "outputs": [
    {
     "data": {
      "text/plain": [
       "-2"
      ]
     },
     "execution_count": 4,
     "metadata": {},
     "output_type": "execute_result"
    }
   ],
   "source": [
    "5-7"
   ]
  },
  {
   "cell_type": "markdown",
   "metadata": {},
   "source": [
    "A few other useful keys are:\n",
    "\n",
    "|Key|Mathematical Operation in Python|\n",
    "|---|---|\n",
    "|`**`|Exponent|\n",
    "|`%`|Modulo|\n",
    "\n",
    "Since the modulo operator may be less familiar, let's spend a few minutes getting used to it. If we take the number 5 and divide it by another number less than or equal to 5, we either get a remainder of 0 or a non-zero remainder. For example, suppose we divide 5 by 4. Well, $\\frac{5}{4}$ would have a remainder of 1, since 4 goes into 5 once and then leaves a remainder of a single unit. Thus, 5 modulo 4 is 1. In our notation, 5 % 4 = 1.\n",
    "\n",
    "Let's see a few examples of the exponent and modulo operators."
   ]
  },
  {
   "cell_type": "code",
   "execution_count": 5,
   "metadata": {},
   "outputs": [
    {
     "data": {
      "text/plain": [
       "625"
      ]
     },
     "execution_count": 5,
     "metadata": {},
     "output_type": "execute_result"
    }
   ],
   "source": [
    "5**4"
   ]
  },
  {
   "cell_type": "code",
   "execution_count": 6,
   "metadata": {},
   "outputs": [
    {
     "data": {
      "text/plain": [
       "1"
      ]
     },
     "execution_count": 6,
     "metadata": {},
     "output_type": "execute_result"
    }
   ],
   "source": [
    "5%4"
   ]
  },
  {
   "cell_type": "code",
   "execution_count": 7,
   "metadata": {},
   "outputs": [
    {
     "data": {
      "text/plain": [
       "64"
      ]
     },
     "execution_count": 7,
     "metadata": {},
     "output_type": "execute_result"
    }
   ],
   "source": [
    "2**6"
   ]
  },
  {
   "cell_type": "code",
   "execution_count": 8,
   "metadata": {},
   "outputs": [
    {
     "data": {
      "text/plain": [
       "0"
      ]
     },
     "execution_count": 8,
     "metadata": {},
     "output_type": "execute_result"
    }
   ],
   "source": [
    "6%2"
   ]
  },
  {
   "cell_type": "markdown",
   "metadata": {},
   "source": [
    "Notice that 6 modulo 2 returns a remainder of 0, since 6/2 = 3, and there is no remainder.\n",
    "\n",
    "### Order of Mathematical Operations\n",
    "\n",
    "Somewhere back in the hazy past, you learned about a rule called BEDMAS or PEDMAS. This acronym stood for the order in which mathematical operations should be completed: Brackets (or Parentheses), Exponents, Division, Multiplication, Addition, and Subtraction. Python does these operations in exactly the same order.\n",
    "\n",
    "Here is an example of how order of operations matters. In the example, I want to calculate $5\\times(5-1)\\times(5-2)\\times(5-3)\\times(5-4)$. This may seem like a silly way to write $5\\times4\\times3\\times2\\times1$, but it is a really useful function called the factorial function. On with the example!"
   ]
  },
  {
   "cell_type": "markdown",
   "metadata": {},
   "source": [
    "First, I'll 'forget' to write the parentheses. The result should be 120."
   ]
  },
  {
   "cell_type": "code",
   "execution_count": 9,
   "metadata": {},
   "outputs": [
    {
     "data": {
      "text/plain": [
       "-9"
      ]
     },
     "execution_count": 9,
     "metadata": {},
     "output_type": "execute_result"
    }
   ],
   "source": [
    "5*5-1*5-2*5-3*5-4"
   ]
  },
  {
   "cell_type": "markdown",
   "metadata": {},
   "source": [
    "Hmm, not 120. Now I'll include the parentheses."
   ]
  },
  {
   "cell_type": "code",
   "execution_count": 10,
   "metadata": {},
   "outputs": [
    {
     "data": {
      "text/plain": [
       "120"
      ]
     },
     "execution_count": 10,
     "metadata": {},
     "output_type": "execute_result"
    }
   ],
   "source": [
    "5*(5-1)*(5-2)*(5-3)*(5-4)"
   ]
  },
  {
   "cell_type": "markdown",
   "metadata": {},
   "source": [
    "Great, it worked! \n",
    "\n",
    "Note that only the round parentheses `()` are used in the order of operations. The other types of parentheses/brackets `[]` and `{}` are reserved in Python and will be discussed later.\n",
    "\n",
    "What if we want to do some more complicated math? Let's see if we can use the sine function from trigonometry."
   ]
  },
  {
   "cell_type": "code",
   "execution_count": 11,
   "metadata": {},
   "outputs": [
    {
     "ename": "NameError",
     "evalue": "name 'sin' is not defined",
     "output_type": "error",
     "traceback": [
      "\u001b[1;31m---------------------------------------------------------------------------\u001b[0m",
      "\u001b[1;31mNameError\u001b[0m                                 Traceback (most recent call last)",
      "\u001b[1;32m<ipython-input-11-242eb9389477>\u001b[0m in \u001b[0;36m<module>\u001b[1;34m\u001b[0m\n\u001b[1;32m----> 1\u001b[1;33m \u001b[0msin\u001b[0m\u001b[1;33m(\u001b[0m\u001b[1;36m0.5\u001b[0m\u001b[1;33m)\u001b[0m\u001b[1;33m\u001b[0m\u001b[1;33m\u001b[0m\u001b[0m\n\u001b[0m",
      "\u001b[1;31mNameError\u001b[0m: name 'sin' is not defined"
     ]
    }
   ],
   "source": [
    "sin(0.5)"
   ]
  },
  {
   "cell_type": "markdown",
   "metadata": {},
   "source": [
    "It appears that Python doesn't have a built-in sine function. However, we can import the sine function (and many other mathematical functions) from the `math` package. Importing packages in Python is done in a single line of code."
   ]
  },
  {
   "cell_type": "code",
   "execution_count": 12,
   "metadata": {},
   "outputs": [],
   "source": [
    "from math import sin"
   ]
  },
  {
   "cell_type": "markdown",
   "metadata": {},
   "source": [
    "Now let's take the sine of 0.5."
   ]
  },
  {
   "cell_type": "code",
   "execution_count": 13,
   "metadata": {},
   "outputs": [
    {
     "data": {
      "text/plain": [
       "0.479425538604203"
      ]
     },
     "execution_count": 13,
     "metadata": {},
     "output_type": "execute_result"
    }
   ],
   "source": [
    "sin(0.5)"
   ]
  },
  {
   "cell_type": "markdown",
   "metadata": {},
   "source": [
    "Ok, now let's find the cosine of 0.5."
   ]
  },
  {
   "cell_type": "code",
   "execution_count": 14,
   "metadata": {},
   "outputs": [
    {
     "ename": "NameError",
     "evalue": "name 'cos' is not defined",
     "output_type": "error",
     "traceback": [
      "\u001b[1;31m---------------------------------------------------------------------------\u001b[0m",
      "\u001b[1;31mNameError\u001b[0m                                 Traceback (most recent call last)",
      "\u001b[1;32m<ipython-input-14-781895f472eb>\u001b[0m in \u001b[0;36m<module>\u001b[1;34m\u001b[0m\n\u001b[1;32m----> 1\u001b[1;33m \u001b[0mcos\u001b[0m\u001b[1;33m(\u001b[0m\u001b[1;36m0.5\u001b[0m\u001b[1;33m)\u001b[0m\u001b[1;33m\u001b[0m\u001b[1;33m\u001b[0m\u001b[0m\n\u001b[0m",
      "\u001b[1;31mNameError\u001b[0m: name 'cos' is not defined"
     ]
    }
   ],
   "source": [
    "cos(0.5)"
   ]
  },
  {
   "cell_type": "markdown",
   "metadata": {},
   "source": [
    "We shouldn't be surprised that we got an error here, since we only imported the sine function from the `math` package. To import the entire package, we have three options. One of them is potentially dangerous."
   ]
  },
  {
   "cell_type": "code",
   "execution_count": 15,
   "metadata": {},
   "outputs": [
    {
     "name": "stdout",
     "output_type": "stream",
     "text": [
      "0.8775825618903728\n",
      "0.8775825618903728\n",
      "0.8775825618903728\n"
     ]
    }
   ],
   "source": [
    "# Option 1\n",
    "import math\n",
    "print(math.cos(0.5))\n",
    "\n",
    "# Option 2 - importing under an alias\n",
    "import math as mh\n",
    "print(mh.cos(0.5))\n",
    "\n",
    "# Option 3 (Here be dragons!)\n",
    "from math import *\n",
    "print(cos(0.5))"
   ]
  },
  {
   "cell_type": "markdown",
   "metadata": {},
   "source": [
    "So, each import statement results in the same output. \n",
    "\n",
    "Why, then, is the third import statement so dangerous? When you are working on developing your own Python projects, it may be necessary to import multiple packages from many different sources. It is completely possible that two packages may use the same naming conventions for two completely different functions. Therefore, you may think you are calling the function from one package, when you are in reality calling the function with the same name from a different package.\n",
    "\n",
    "To avoid these errors, it is best to either import the package as in Option 1 or Option 2."
   ]
  },
  {
   "cell_type": "markdown",
   "metadata": {},
   "source": [
    "## Python Data Types\n",
    "\n",
    "As with any programming language, the variables that are manipulated through arithmetic calculations have two key attributes: **values** and **types**. An example of a **value** is given in the Python code below."
   ]
  },
  {
   "cell_type": "code",
   "execution_count": 16,
   "metadata": {},
   "outputs": [
    {
     "data": {
      "text/plain": [
       "2"
      ]
     },
     "execution_count": 16,
     "metadata": {},
     "output_type": "execute_result"
    }
   ],
   "source": [
    "2"
   ]
  },
  {
   "cell_type": "markdown",
   "metadata": {},
   "source": [
    "The value of `2` is 2, which is not surprising. Let's find the **type** of `2` by calling Python's built-in `type()` function."
   ]
  },
  {
   "cell_type": "code",
   "execution_count": 17,
   "metadata": {},
   "outputs": [
    {
     "data": {
      "text/plain": [
       "int"
      ]
     },
     "execution_count": 17,
     "metadata": {},
     "output_type": "execute_result"
    }
   ],
   "source": [
    "type(2)"
   ]
  },
  {
   "cell_type": "markdown",
   "metadata": {},
   "source": [
    "The **type** of `2` is `int`, which stands for 'integer'. The other main data types in Python are **floats**, which are floating-point or decimal numbers, **strings**, which are literally 'strings' of letters or characters, and **booleans**, which have the value of either `True` or `False`.\n",
    "\n",
    "Strings are written in Python by enclosing letters or characters inside the quotation marks `''` or `\"\"`."
   ]
  },
  {
   "cell_type": "code",
   "execution_count": 18,
   "metadata": {},
   "outputs": [
    {
     "data": {
      "text/plain": [
       "'I am a string'"
      ]
     },
     "execution_count": 18,
     "metadata": {},
     "output_type": "execute_result"
    }
   ],
   "source": [
    "'I am a string'"
   ]
  },
  {
   "cell_type": "code",
   "execution_count": 19,
   "metadata": {},
   "outputs": [
    {
     "data": {
      "text/plain": [
       "'I'"
      ]
     },
     "execution_count": 19,
     "metadata": {},
     "output_type": "execute_result"
    }
   ],
   "source": [
    "\"I\""
   ]
  },
  {
   "cell_type": "code",
   "execution_count": 20,
   "metadata": {},
   "outputs": [
    {
     "data": {
      "text/plain": [
       "str"
      ]
     },
     "execution_count": 20,
     "metadata": {},
     "output_type": "execute_result"
    }
   ],
   "source": [
    "type('I am a string')"
   ]
  },
  {
   "cell_type": "code",
   "execution_count": 21,
   "metadata": {},
   "outputs": [
    {
     "data": {
      "text/plain": [
       "str"
      ]
     },
     "execution_count": 21,
     "metadata": {},
     "output_type": "execute_result"
    }
   ],
   "source": [
    "type(\"I\")"
   ]
  },
  {
   "cell_type": "markdown",
   "metadata": {},
   "source": [
    "Notice that the value of a string is unaffected by using either `''` or `\"\"`. Also note that a space within a string is considered a character, and that single characters are considered strings in Python.\n",
    "\n",
    "We've already seen an example of the integer data type above.\n",
    "\n",
    "An example of the float data type was also subtly given above. I'll repeat it here."
   ]
  },
  {
   "cell_type": "code",
   "execution_count": 22,
   "metadata": {},
   "outputs": [
    {
     "data": {
      "text/plain": [
       "0.8775825618903728"
      ]
     },
     "execution_count": 22,
     "metadata": {},
     "output_type": "execute_result"
    }
   ],
   "source": [
    "cos(0.5)"
   ]
  },
  {
   "cell_type": "code",
   "execution_count": 23,
   "metadata": {},
   "outputs": [
    {
     "data": {
      "text/plain": [
       "float"
      ]
     },
     "execution_count": 23,
     "metadata": {},
     "output_type": "execute_result"
    }
   ],
   "source": [
    "type(cos(0.5))"
   ]
  },
  {
   "cell_type": "code",
   "execution_count": 24,
   "metadata": {},
   "outputs": [
    {
     "data": {
      "text/plain": [
       "2.0"
      ]
     },
     "execution_count": 24,
     "metadata": {},
     "output_type": "execute_result"
    }
   ],
   "source": [
    "2."
   ]
  },
  {
   "cell_type": "code",
   "execution_count": 25,
   "metadata": {},
   "outputs": [
    {
     "data": {
      "text/plain": [
       "float"
      ]
     },
     "execution_count": 25,
     "metadata": {},
     "output_type": "execute_result"
    }
   ],
   "source": [
    "type(2.)"
   ]
  },
  {
   "cell_type": "markdown",
   "metadata": {},
   "source": [
    "Notice that putting the decimal `.` after an integer makes that number a float.\n",
    "\n",
    "Finally, here are examples of booleans. The value of a boolean always has a capitalized first letter."
   ]
  },
  {
   "cell_type": "code",
   "execution_count": 26,
   "metadata": {},
   "outputs": [
    {
     "data": {
      "text/plain": [
       "True"
      ]
     },
     "execution_count": 26,
     "metadata": {},
     "output_type": "execute_result"
    }
   ],
   "source": [
    "True"
   ]
  },
  {
   "cell_type": "code",
   "execution_count": 27,
   "metadata": {},
   "outputs": [
    {
     "data": {
      "text/plain": [
       "bool"
      ]
     },
     "execution_count": 27,
     "metadata": {},
     "output_type": "execute_result"
    }
   ],
   "source": [
    "type(True)"
   ]
  },
  {
   "cell_type": "code",
   "execution_count": 28,
   "metadata": {},
   "outputs": [
    {
     "data": {
      "text/plain": [
       "False"
      ]
     },
     "execution_count": 28,
     "metadata": {},
     "output_type": "execute_result"
    }
   ],
   "source": [
    "False"
   ]
  },
  {
   "cell_type": "code",
   "execution_count": 29,
   "metadata": {},
   "outputs": [
    {
     "data": {
      "text/plain": [
       "bool"
      ]
     },
     "execution_count": 29,
     "metadata": {},
     "output_type": "execute_result"
    }
   ],
   "source": [
    "type(False)"
   ]
  },
  {
   "cell_type": "markdown",
   "metadata": {},
   "source": [
    "Other data types we'll encounter in this course are **lists**, **dictionaries**, **functions**, and **classes**. We'll get to these in the coming weeks.\n",
    "\n",
    "A convenient thing you can do with strings is called **concatenation**. This means stitching two strings together. To make things slightly confusing, the `+` operator is used for string concatenation."
   ]
  },
  {
   "cell_type": "code",
   "execution_count": 30,
   "metadata": {},
   "outputs": [
    {
     "data": {
      "text/plain": [
       "'Ricotta cheese is very creamy.'"
      ]
     },
     "execution_count": 30,
     "metadata": {},
     "output_type": "execute_result"
    }
   ],
   "source": [
    "'Ricotta cheese ' + 'is' + ' very creamy.'"
   ]
  },
  {
   "cell_type": "markdown",
   "metadata": {},
   "source": [
    "## Variables, Statements, and Expressions\n",
    "\n",
    "Programming would be very nearly impossible if we relied solely on single-line code for every task. Therefore, we can define our own **variables**. In Python, we give our variables a name and a value in the same line. This also implicitly determines the variable's type.\n",
    "\n",
    "Here are some examples of defining variables."
   ]
  },
  {
   "cell_type": "code",
   "execution_count": 31,
   "metadata": {},
   "outputs": [
    {
     "name": "stdout",
     "output_type": "stream",
     "text": [
      "Hello world!\n",
      "1\n",
      "3.141592653589793\n",
      "True\n"
     ]
    }
   ],
   "source": [
    "hello = 'Hello world!';\n",
    "number1 = 1\n",
    "PI = math.pi;\n",
    "python_is_great = True\n",
    "\n",
    "print(hello)\n",
    "print(number1)\n",
    "print(PI)\n",
    "print(python_is_great)"
   ]
  },
  {
   "cell_type": "markdown",
   "metadata": {},
   "source": [
    "Note that it makes no difference if a line of code in Python ends with a semi-colon `;` or not.\n",
    "\n",
    "It is also important to know that Python is a **dynamically typed** language. This means that you can arbitrarily re-assign a value of a different type to a declared variable. Let's see this in action."
   ]
  },
  {
   "cell_type": "code",
   "execution_count": 32,
   "metadata": {},
   "outputs": [
    {
     "name": "stdout",
     "output_type": "stream",
     "text": [
      "5\n",
      "happy\n"
     ]
    }
   ],
   "source": [
    "happy = 5\n",
    "print(happy)\n",
    "\n",
    "happy = 'happy'\n",
    "print(happy)"
   ]
  },
  {
   "cell_type": "markdown",
   "metadata": {},
   "source": [
    "This can be both a blessing and a curse. It avoids some of the drudgery of declaring types with variables as in languages such as C++ or Java, but also can lead to semantic errors. Be careful!"
   ]
  },
  {
   "cell_type": "markdown",
   "metadata": {},
   "source": [
    "### Variable Naming Conventions\n",
    "\n",
    "There are a few conventions to follow when naming variables. First, the variable name may not begin with a number. Also, it is extremely bad practice to name a variable using a reserved keyword. These keywords are, specifically, the names of either built-in or external functions. \n",
    "\n",
    "According to the [Python Style Guide (PEP8)](https://www.python.org/dev/peps/pep-0008/), variable names that begin with an underscore `_` are used to signal to other programmers that the variable is for internal use (known as 'private' data in other languages). \n",
    "\n",
    "In general, avoid using the lower-case `l`, lower- or upper-case `o`, or upper-case `I` to name variables. It is confusing and cruel.\n",
    "\n",
    "Best practices for naming variables are outlined in PEP8 and in Jeff Knupp's book *Writing Idiomatic Python*. They are listed as follows.\n",
    "\n",
    "\n",
    "* Use all capital letters to declare a constant variable. \n",
    "Example: `TWO_PI = 2*math.pi`\n",
    "* Join lower-case words with underscores to declare variables. \n",
    "Example: `number_of_times_python_has_saved_my_life = 0`\n",
    "\n",
    "You should also note that Python is case-sensitive. This means that `b` and `B` are two different (and extremely vague) variable names.\n",
    "\n",
    "More conventions will follow as we learn more about functions and classes in the upcoming weeks."
   ]
  },
  {
   "cell_type": "markdown",
   "metadata": {},
   "source": [
    "### Statements vs Expressions\n",
    "\n",
    "This section is adapted from the book *How to Think Like a Computer Scientist: Learning Python* by Allen Downey, Jeffrey Elkner, and Chris Meyers.\n",
    "\n",
    "A Python **statement** is a line of code that can be read by the interpreter. A variable declaration/assignment is a type of Python statement. Another type of Python statement is asking the interpreter to print something to the console by calling the `print()` function. Here are some examples of statements.\n",
    "<br>`cheese = 'very tasty'`\n",
    "<br>`GRAV_CONSTANT = 6.67408e-11`\n",
    "<br>`print(GRAV_CONSTANT)`\n",
    "\n",
    "Note that `6.67408e-11` is the Python version of $6.67408\\times10^{-11}$. I'm leaving out the units because I'm a cheeky mathematician. If you're a physicist or astronomer, I'm very sorry.\n",
    "\n",
    "An **expression** is a line of code that combines variable values and Python operations (such as arithmetic operations). Here are some examples of expressions.\n",
    "<br>`5*8`\n",
    "<br>`'Hare-brained schemes' + ' have ' + 'neither hare ' + 'nor brains.'`\n",
    "<br>`17`\n",
    "\n",
    "Look at the difference between evaluating an expression and printing a value."
   ]
  },
  {
   "cell_type": "code",
   "execution_count": 40,
   "metadata": {},
   "outputs": [
    {
     "data": {
      "text/plain": [
       "'The true North strong and free.'"
      ]
     },
     "execution_count": 40,
     "metadata": {},
     "output_type": "execute_result"
    }
   ],
   "source": [
    "'The true North ' + 'strong and free.'"
   ]
  },
  {
   "cell_type": "code",
   "execution_count": 41,
   "metadata": {},
   "outputs": [
    {
     "name": "stdout",
     "output_type": "stream",
     "text": [
      "The true North strong and free.\n"
     ]
    }
   ],
   "source": [
    "print('The true North ' + 'strong and free.')"
   ]
  },
  {
   "cell_type": "markdown",
   "metadata": {},
   "source": [
    "The distinction between these two outputs is that, in the first case, the interpreter has displayed the output in the same format as the inputs. In the second case, only the value of the expression within the `print()` function is displayed."
   ]
  },
  {
   "cell_type": "markdown",
   "metadata": {},
   "source": [
    "## Python's Built-in Functions\n",
    "\n",
    "This relates to the code above where we called the built-in Python functions `type()` and `print()`.\n",
    "\n",
    "Python comes with some built-in functions in what is usually referred to as the *standard library*. These functions can be used without importing any external packages, something we discussed above. Each of these functions takes an input, which we will refer to as an **argument**, and returns an output. The main built-in functions we will use in this course are:\n",
    "\n",
    "|Python Function|Purpose|\n",
    "|---|---|\n",
    "|print()|Print out the argument|\n",
    "|input()|Query the user for input in the console and <br>either print it or assign it to a string variable|\n",
    "|int()|Convert the argument to integer|\n",
    "|float()|Convert the argument to float|\n",
    "|str()|Convert the argument to string|\n",
    "|round()|Round the argument to the nearest integer|\n",
    "\n",
    "Here are some examples of these functions in action."
   ]
  },
  {
   "cell_type": "code",
   "execution_count": 42,
   "metadata": {},
   "outputs": [
    {
     "name": "stdout",
     "output_type": "stream",
     "text": [
      "Hello world!\n"
     ]
    }
   ],
   "source": [
    "print('Hello world!')"
   ]
  },
  {
   "cell_type": "code",
   "execution_count": 43,
   "metadata": {},
   "outputs": [
    {
     "name": "stdout",
     "output_type": "stream",
     "text": [
      "Please input here: Ok I will\n"
     ]
    },
    {
     "data": {
      "text/plain": [
       "'Ok I will'"
      ]
     },
     "execution_count": 43,
     "metadata": {},
     "output_type": "execute_result"
    }
   ],
   "source": [
    "input('Please input here: ')"
   ]
  },
  {
   "cell_type": "code",
   "execution_count": 44,
   "metadata": {},
   "outputs": [
    {
     "data": {
      "text/plain": [
       "5"
      ]
     },
     "execution_count": 44,
     "metadata": {},
     "output_type": "execute_result"
    }
   ],
   "source": [
    "int(5.0) # Convert 5.0 to an integer"
   ]
  },
  {
   "cell_type": "code",
   "execution_count": 45,
   "metadata": {},
   "outputs": [
    {
     "data": {
      "text/plain": [
       "5.0"
      ]
     },
     "execution_count": 45,
     "metadata": {},
     "output_type": "execute_result"
    }
   ],
   "source": [
    "float(5) # Convert 5 to a float"
   ]
  },
  {
   "cell_type": "code",
   "execution_count": 46,
   "metadata": {},
   "outputs": [
    {
     "data": {
      "text/plain": [
       "'5'"
      ]
     },
     "execution_count": 46,
     "metadata": {},
     "output_type": "execute_result"
    }
   ],
   "source": [
    "str(5) # Convert the integer 5 to a string"
   ]
  },
  {
   "cell_type": "code",
   "execution_count": 47,
   "metadata": {},
   "outputs": [
    {
     "data": {
      "text/plain": [
       "5"
      ]
     },
     "execution_count": 47,
     "metadata": {},
     "output_type": "execute_result"
    }
   ],
   "source": [
    "round(5.4) # Round 5.4 to the nearest integer"
   ]
  },
  {
   "cell_type": "code",
   "execution_count": 48,
   "metadata": {},
   "outputs": [
    {
     "data": {
      "text/plain": [
       "6"
      ]
     },
     "execution_count": 48,
     "metadata": {},
     "output_type": "execute_result"
    }
   ],
   "source": [
    "round(5.5) # Round 5.5 to the nearest integer"
   ]
  },
  {
   "cell_type": "markdown",
   "metadata": {},
   "source": [
    "Python functions can be chained together by calling functions inside of functions. When performing a chain of Python functions, the innermost function is called first, then the next innermost, and so on."
   ]
  },
  {
   "cell_type": "code",
   "execution_count": 49,
   "metadata": {},
   "outputs": [
    {
     "name": "stdout",
     "output_type": "stream",
     "text": [
      "2\n"
     ]
    }
   ],
   "source": [
    "print(round(int(float(str(5.5)))/2))"
   ]
  },
  {
   "cell_type": "markdown",
   "metadata": {},
   "source": [
    "There is a convenient way to print out a custom string together with numerical variables. This is also hinting at something we'll cover later in this course: that everything in Python is an object!\n",
    "\n",
    "Since that last sentence may or may not make sense for everyone, let's just see how to print out strings and integers together. I'll define a string variable called `message` and an integer variable called `times_button_pressed`."
   ]
  },
  {
   "cell_type": "code",
   "execution_count": 58,
   "metadata": {},
   "outputs": [],
   "source": [
    "message = 'You pressed the button this many times: {}'\n",
    "times_button_pressed = 104"
   ]
  },
  {
   "cell_type": "markdown",
   "metadata": {},
   "source": [
    "When I execute this code cell, nothing is printed to the console. Now I'll print both variables together."
   ]
  },
  {
   "cell_type": "code",
   "execution_count": 59,
   "metadata": {},
   "outputs": [
    {
     "name": "stdout",
     "output_type": "stream",
     "text": [
      "You pressed the button this many times: 104\n"
     ]
    }
   ],
   "source": [
    "print(message.format(times_button_pressed))"
   ]
  },
  {
   "cell_type": "markdown",
   "metadata": {},
   "source": [
    "When I declared the `message` variable, I made sure to end the string with curly braces `{}`. When I ask the console to print `message.format(times_button_pressed)`, the value for `times_button_pressed` is inserted in place of the curly braces.\n",
    "\n",
    "There are more fancy ways to format numerical output. We'll leave it as it is for now. Note that I could have left out declaring the variable `message` and just printed the value of `times_button_pressed` as follows."
   ]
  },
  {
   "cell_type": "code",
   "execution_count": 60,
   "metadata": {},
   "outputs": [
    {
     "name": "stdout",
     "output_type": "stream",
     "text": [
      "You pressed the button this many times: 104\n"
     ]
    }
   ],
   "source": [
    "# Alternative way to use the .format method.\n",
    "print('You pressed the button this many times: {}'.format(times_button_pressed))"
   ]
  },
  {
   "cell_type": "markdown",
   "metadata": {},
   "source": [
    "## Comments\n",
    "\n",
    "You'll notice that in the above Python code, I've got an incomplete sentence starting with the `#` symbol in each code cell. This is how inline comments are written in the Python language. Comments are for the reader of the code, and do not typically result in any code output (more about that when we talk about testing code).\n",
    "\n",
    "Comments are used for two main reasons: readability and maintainability. Including well-written, concise comments in your code gives anyone who reads your code the opportunity to see what the code is supposed to do. You can use comments to explain a particularly complicated section of code, to remind the reader of the flow of your program, or to justify certain choices you made when writing the code.\n",
    "\n",
    "Equally important is writing comments directed at yourself, the author or developer of the code. Very frequently, we'll write some code to do a particular task. Once that task is complete, we may not look at the code again for several weeks, months, or even years. To avoid having to re-learn how everything was done, line by line, you can leave yourself helpful comments that describe your reasoning and the intended function of your code. You will thank your past self for being such a considerate and responsible developer.\n",
    "\n",
    "As mentioned before, you write inline comments (a comment on a single line) and comment blocks by using the `#` symbol. You can write multi-line comments by enclosing your comment between the triple quotation marks `''' '''` or `\"\"\" \"\"\"`."
   ]
  },
  {
   "cell_type": "code",
   "execution_count": 61,
   "metadata": {},
   "outputs": [
    {
     "name": "stdout",
     "output_type": "stream",
     "text": [
      "None of the above comments were printed to the console.\n"
     ]
    }
   ],
   "source": [
    "# This is an inline comment.\n",
    "\n",
    "# This \n",
    "# is\n",
    "# a\n",
    "# comment\n",
    "# block.\n",
    "#\n",
    "# Paragraphs are separated by a single `#`.\n",
    "\n",
    "#=~=~=~=~=~=~=~=~=~=~=~=~=~=~=~=~=~=~=~=\n",
    "#= This is an unnecessarily decorative =\n",
    "#= comment block (but it sure looks    =\n",
    "#= cool).                              =\n",
    "#=~=~=~=~=~=~=~=~=~=~=~=~=~=~=~=~=~=~=~=\n",
    "\n",
    "''' This\n",
    "    is\n",
    "    a\n",
    "    multi-line\n",
    "    comment.\n",
    "'''\n",
    "\n",
    "\"\"\" This\n",
    "    is\n",
    "    also\n",
    "    a\n",
    "    multi-line\n",
    "    comment.\n",
    "\"\"\"\n",
    "print('None of the above comments were printed to the console.')"
   ]
  },
  {
   "cell_type": "markdown",
   "metadata": {},
   "source": [
    "### Non-negotiable Comments: Docstrings\n",
    "\n",
    "This will come up in a few weeks when we talk about writing custom functions in Python. For now, it suffices to say that docstrings are absolutely necessary in any code that you write. A docstring is a multi-line comment that outlines the intended use of a custom function, a description of the function's inputs and outputs, and examples of the function in use."
   ]
  },
  {
   "cell_type": "markdown",
   "metadata": {},
   "source": [
    "### *Exercises*\n",
    "\n",
    "These are either taken or adapted from exercises in Urban and Murach's book, *Murach's Python Programming*.\n",
    "\n",
    "1. Open IDLE and type in the following statements: \n",
    "    * `print()`\n",
    "    *`30 + 12`\n",
    "    * `30-12`\n",
    "    * `3 * 4`\n",
    "    * `12/4` \n",
    "    * `1/3` \n",
    "    * `4 * 4 + 20`\n",
    "    * `4 * (4 + 20)`\n",
    "\n",
    "    Do the spaces matter between numbers and the arithmetic operators? Which do you prefer: spaces or no spaces?\n",
    "    \n",
    "2. In IDLE, enter the following statements to see how they work. \n",
    "    * `var1 = 10`\n",
    "    * `var2 = 20`\n",
    "    * `var1 + 10`\n",
    "    * `var1`\n",
    "    * `var1 + var2`\n",
    "    * `var_2`\n",
    "\n",
    "3. \n",
    "    * In the Order of Mathematical Operations Section, I 'forgot' to include the parentheses and wrote `5*5-1*5-2*5-3*5-4`. What kind of error did I experience: syntax, runtime, or semantic?\n",
    "    * When I tried to compute `cos(0.5)` before importing the `math` package, what kind of error did I experience: syntax, runtime, or semantic?\n",
    "    * It is best practice to use the import command `import math` or `import math as mh` instead of `from math import *` when importing the math package. What kind of error do we avoid when we use this import practice: syntax, runtime, or semantic?\n",
    "\n",
    "<!--     <ol>\n",
    "        <li> Semantic error - the operation works but returns an unexpected value. </li>\n",
    "        <li> Runtime error - there is nothing inherently wrong with writing `cos(0.5)`, but the `math` library was not imported. </li>\n",
    "        <li> Semantic error (possibly runtime as well) - we avoid importing two functions with different names. </li>\n",
    "    </ol> -->\n"
   ]
  },
  {
   "cell_type": "markdown",
   "metadata": {},
   "source": [
    "4. Debug the Python code snippet below. The intention of the code is to convert miles into kilometres. Also change the variable names and add comments to better adhere to best practices."
   ]
  },
  {
   "cell_type": "code",
   "execution_count": 62,
   "metadata": {},
   "outputs": [
    {
     "ename": "SyntaxError",
     "evalue": "invalid syntax (<ipython-input-62-e2a879be3ce6>, line 7)",
     "output_type": "error",
     "traceback": [
      "\u001b[1;36m  File \u001b[1;32m\"<ipython-input-62-e2a879be3ce6>\"\u001b[1;36m, line \u001b[1;32m7\u001b[0m\n\u001b[1;33m    kilometres = miles/MILES_TO_KM\u001b[0m\n\u001b[1;37m             ^\u001b[0m\n\u001b[1;31mSyntaxError\u001b[0m\u001b[1;31m:\u001b[0m invalid syntax\n"
     ]
    }
   ],
   "source": [
    "# Exercise 4 code snippet.\n",
    "\n",
    "\"\"\" Converting miles to kilometers. \"\"\"\n",
    "\n",
    "MILES_TO_KM = int(1.60934)\n",
    "miles = float(input('Please enter a distance in miles to be converted to kilometres: ')\n",
    "kilometres = miles/MILES_TO_KM\n",
    "print(kilometres, 'miles is approximately equal to', miles, '{'.format('kilometres.'))"
   ]
  },
  {
   "cell_type": "code",
   "execution_count": 67,
   "metadata": {},
   "outputs": [
    {
     "name": "stdout",
     "output_type": "stream",
     "text": [
      "Please enter a distance in miles to be converted to kilometres: 10\n",
      "10.0 miles is approximately equal to 16.0934 kilometres\n"
     ]
    }
   ],
   "source": [
    "MILES_TO_KM = 1.60934\n",
    "miles = float(input('Please enter a distance in miles to be converted to kilometres: '))\n",
    "kilometres = miles*MILES_TO_KM\n",
    "print(miles, 'miles is approximately equal to {} kilometres'.format(kilometres))"
   ]
  },
  {
   "cell_type": "markdown",
   "metadata": {},
   "source": [
    "5. Write a simple program to take in two numbers, `length` and `width`, and print out the perimeter and area of a rectangle with `length` and `width` as sides. Make sure to use the `.format()` method as outlined above."
   ]
  },
  {
   "cell_type": "code",
   "execution_count": 69,
   "metadata": {},
   "outputs": [
    {
     "name": "stdout",
     "output_type": "stream",
     "text": [
      "Please enter the length of the rectangle: 20\n",
      "Please enter the width of the rectangle: 10\n",
      "The perimeter of the rectangle is 60.0.\n",
      "The area of the rectangle is 200.0.\n"
     ]
    }
   ],
   "source": [
    "# Exercise 5 program.\n",
    "\n",
    "length = float(input('Please enter the length of the rectangle: '))\n",
    "width = float(input('Please enter the width of the rectangle: '))\n",
    "\n",
    "perimeter = 2*length + 2*width\n",
    "area = length*width\n",
    "\n",
    "print('The perimeter of the rectangle is {}.'.format(perimeter))\n",
    "print('The area of the rectangle is {}.'.format(area))"
   ]
  },
  {
   "cell_type": "markdown",
   "metadata": {},
   "source": [
    "6. Write a simple program that takes in 3 strings and outputs the strings with the word 'SO' inserted between them."
   ]
  },
  {
   "cell_type": "code",
   "execution_count": 76,
   "metadata": {},
   "outputs": [
    {
     "name": "stdout",
     "output_type": "stream",
     "text": [
      "Please input the first word: bird1\n",
      "Please input the second word:bird2\n",
      "Please input the third word: bird3\n",
      "bird1SObird2SObird3\n"
     ]
    }
   ],
   "source": [
    "# Exercise 6 program.\n",
    "\n",
    "text1 = input('Please input the first word: ')\n",
    "text2 = input('Please input the second word:')\n",
    "text3 = input('Please input the third word: ')\n",
    "\n",
    "print(text1 + 'SO' + text2 + 'SO' + text3)"
   ]
  },
  {
   "cell_type": "code",
   "execution_count": 82,
   "metadata": {},
   "outputs": [
    {
     "name": "stdout",
     "output_type": "stream",
     "text": [
      "bird1SObird2SObird3\n"
     ]
    }
   ],
   "source": [
    "print('{}SO{}SO{}'.format(text1, text2, text3))"
   ]
  },
  {
   "cell_type": "code",
   "execution_count": 81,
   "metadata": {},
   "outputs": [
    {
     "name": "stdout",
     "output_type": "stream",
     "text": [
      "bird1SObird2SObird3\n"
     ]
    }
   ],
   "source": [
    "print('{0}SO{1}SO{2}'.format(text1, text2, text3))"
   ]
  },
  {
   "cell_type": "markdown",
   "metadata": {},
   "source": [
    "7. Write a program that takes in 2 side lengths of a right triangle (a right triangle is one that has a $90^\\circ$ angle in it). Assuming that the two given sides of the triangle are the horizontal and the vertical sides, have your program calculate the hypotenuse length and the values of the 3 trigonometric ratios: sine, cosine, and tangent. <b>Hint:</b> For two triangle side lengths $a$ and $b$, the third side length $c$ (the hypotenuse) is calculated by $c = \\sqrt{a^2 + b^2}$."
   ]
  },
  {
   "cell_type": "code",
   "execution_count": 85,
   "metadata": {},
   "outputs": [
    {
     "name": "stdout",
     "output_type": "stream",
     "text": [
      "Please input the horizontal side length: 12\n",
      "Please input the vertical side length: 13\n",
      "The length of the hypotenuse is 17.69180601295413\n",
      "sine = 0.7348034446274879\n",
      "cosine = 0.6782801027330658\n",
      "tangent = 1.0833333333333333\n"
     ]
    }
   ],
   "source": [
    "# Exercise 7 program.\n",
    "\n",
    "horiz = float(input('Please input the horizontal side length: '))\n",
    "vert = float(input('Please input the vertical side length: '))\n",
    "\n",
    "hypot = math.sqrt(horiz**2 + vert**2)\n",
    "\n",
    "# Calculate the trig ratios using the SOH/CAH/TOA rule\n",
    "sine = vert/hypot\n",
    "cosine = horiz/hypot\n",
    "tangent = vert/horiz\n",
    "\n",
    "print('The length of the hypotenuse is {}'.format(hypot))\n",
    "print('sine = {}'.format(sine))\n",
    "print('cosine = {}'.format(cosine))\n",
    "print('tangent = {}'.format(tangent))"
   ]
  },
  {
   "cell_type": "markdown",
   "metadata": {},
   "source": [
    "If you want to see the contents of a library/package, you can call `print(<package>.__dir__())`. Note that there are **two** underscores in the command."
   ]
  },
  {
   "cell_type": "code",
   "execution_count": 33,
   "metadata": {},
   "outputs": [
    {
     "name": "stdout",
     "output_type": "stream",
     "text": [
      "['__name__', '__doc__', '__package__', '__loader__', '__spec__', 'acos', 'acosh', 'asin', 'asinh', 'atan', 'atan2', 'atanh', 'ceil', 'copysign', 'cos', 'cosh', 'degrees', 'erf', 'erfc', 'exp', 'expm1', 'fabs', 'factorial', 'floor', 'fmod', 'frexp', 'fsum', 'gamma', 'gcd', 'hypot', 'isclose', 'isfinite', 'isinf', 'isnan', 'ldexp', 'lgamma', 'log', 'log1p', 'log10', 'log2', 'modf', 'pow', 'radians', 'remainder', 'sin', 'sinh', 'sqrt', 'tan', 'tanh', 'trunc', 'pi', 'e', 'tau', 'inf', 'nan']\n"
     ]
    }
   ],
   "source": [
    "import math\n",
    "\n",
    "print(math.__dir__())"
   ]
  },
  {
   "cell_type": "code",
   "execution_count": 36,
   "metadata": {},
   "outputs": [
    {
     "name": "stdout",
     "output_type": "stream",
     "text": [
      "Help on built-in function erf in module math:\n",
      "\n",
      "erf(x, /)\n",
      "    Error function at x.\n",
      "\n"
     ]
    }
   ],
   "source": [
    "# We can also see how to use a function.\n",
    "\n",
    "help(math.erf)"
   ]
  },
  {
   "cell_type": "code",
   "execution_count": 37,
   "metadata": {},
   "outputs": [
    {
     "name": "stdout",
     "output_type": "stream",
     "text": [
      "['__name__', '__doc__', '__package__', '__loader__', '__spec__', '__path__', '__file__', '__cached__', '__builtins__', 'division', 'absolute_import', 'print_function', 'sys', 'warnings', '_globals', 'ModuleDeprecationWarning', 'VisibleDeprecationWarning', '_NoValue', '__NUMPY_SETUP__', '__config__', 'show_config', 'version', '__git_revision__', '__version__', '__all__', '_distributor_init', 'compat', '_pytesttester', 'core', 'char', 'rec', 'memmap', 'newaxis', 'ndarray', 'flatiter', 'nditer', 'nested_iters', 'ufunc', 'arange', 'array', 'zeros', 'count_nonzero', 'empty', 'broadcast', 'dtype', 'fromstring', 'fromfile', 'frombuffer', 'int_asbuffer', 'where', 'argwhere', 'copyto', 'concatenate', 'fastCopyAndTranspose', 'lexsort', 'set_numeric_ops', 'can_cast', 'promote_types', 'min_scalar_type', 'result_type', 'isfortran', 'empty_like', 'zeros_like', 'ones_like', 'correlate', 'convolve', 'inner', 'dot', 'outer', 'vdot', 'roll', 'rollaxis', 'moveaxis', 'cross', 'tensordot', 'little_endian', 'fromiter', 'array_equal', 'array_equiv', 'indices', 'fromfunction', 'isclose', 'isscalar', 'binary_repr', 'base_repr', 'ones', 'identity', 'allclose', 'compare_chararrays', 'putmask', 'flatnonzero', 'Inf', 'inf', 'infty', 'Infinity', 'nan', 'NaN', 'False_', 'True_', 'bitwise_not', 'CLIP', 'RAISE', 'WRAP', 'MAXDIMS', 'BUFSIZE', 'ALLOW_THREADS', 'ComplexWarning', 'full', 'full_like', 'matmul', 'shares_memory', 'may_share_memory', 'MAY_SHARE_BOUNDS', 'MAY_SHARE_EXACT', 'TooHardError', 'AxisError', 'alen', 'all', 'alltrue', 'amax', 'amin', 'any', 'argmax', 'argmin', 'argpartition', 'argsort', 'around', 'choose', 'clip', 'compress', 'cumprod', 'cumproduct', 'cumsum', 'diagonal', 'mean', 'ndim', 'nonzero', 'partition', 'prod', 'product', 'ptp', 'put', 'ravel', 'repeat', 'reshape', 'resize', 'round_', 'searchsorted', 'shape', 'size', 'sometrue', 'sort', 'squeeze', 'std', 'sum', 'swapaxes', 'take', 'trace', 'transpose', 'var', '_UFUNC_API', 'ERR_CALL', 'ERR_DEFAULT', 'ERR_IGNORE', 'ERR_LOG', 'ERR_PRINT', 'ERR_RAISE', 'ERR_WARN', 'FLOATING_POINT_SUPPORT', 'FPE_DIVIDEBYZERO', 'FPE_INVALID', 'FPE_OVERFLOW', 'FPE_UNDERFLOW', 'NAN', 'NINF', 'NZERO', 'PINF', 'PZERO', 'SHIFT_DIVIDEBYZERO', 'SHIFT_INVALID', 'SHIFT_OVERFLOW', 'SHIFT_UNDERFLOW', 'UFUNC_BUFSIZE_DEFAULT', 'UFUNC_PYVALS_NAME', '_add_newdoc_ufunc', 'absolute', 'add', 'arccos', 'arccosh', 'arcsin', 'arcsinh', 'arctan', 'arctan2', 'arctanh', 'bitwise_and', 'bitwise_or', 'bitwise_xor', 'cbrt', 'ceil', 'conj', 'conjugate', 'copysign', 'cos', 'cosh', 'deg2rad', 'degrees', 'divide', 'divmod', 'e', 'equal', 'euler_gamma', 'exp', 'exp2', 'expm1', 'fabs', 'floor', 'floor_divide', 'float_power', 'fmax', 'fmin', 'fmod', 'frexp', 'frompyfunc', 'gcd', 'geterrobj', 'greater', 'greater_equal', 'heaviside', 'hypot', 'invert', 'isfinite', 'isinf', 'isnan', 'isnat', 'lcm', 'ldexp', 'left_shift', 'less', 'less_equal', 'log', 'log10', 'log1p', 'log2', 'logaddexp', 'logaddexp2', 'logical_and', 'logical_not', 'logical_or', 'logical_xor', 'maximum', 'minimum', 'mod', 'modf', 'multiply', 'negative', 'nextafter', 'not_equal', 'pi', 'positive', 'power', 'rad2deg', 'radians', 'reciprocal', 'remainder', 'right_shift', 'rint', 'seterrobj', 'sign', 'signbit', 'sin', 'sinh', 'spacing', 'sqrt', 'square', 'subtract', 'tan', 'tanh', 'true_divide', 'trunc', 'sctypeDict', 'sctypeNA', 'typeDict', 'typeNA', 'sctypes', 'ScalarType', 'obj2sctype', 'cast', 'nbytes', 'sctype2char', 'maximum_sctype', 'issctype', 'typecodes', 'find_common_type', 'issubdtype', 'datetime_data', 'datetime_as_string', 'busday_offset', 'busday_count', 'is_busday', 'busdaycalendar', 'byte', 'ubyte', 'short', 'ushort', 'uint', 'intp', 'uintp', 'long', 'longlong', 'ulonglong', 'half', 'double', 'longdouble', 'cfloat', 'cdouble', 'clongdouble', 'unicode', 'void', 'generic', 'number', 'integer', 'inexact', 'signedinteger', 'unsignedinteger', 'floating', 'complexfloating', 'flexible', 'character', 'bool8', 'int64', 'uint64', 'float16', 'float32', 'float64', 'complex64', 'complex128', 'object0', 'bytes0', 'str0', 'void0', 'datetime64', 'timedelta64', 'int32', 'uint32', 'int16', 'uint16', 'int8', 'uint8', 'complex_', 'int0', 'uint0', 'single', 'csingle', 'singlecomplex', 'float_', 'intc', 'uintc', 'int_', 'longfloat', 'clongfloat', 'longcomplex', 'bool_', 'bytes_', 'string_', 'unicode_', 'object_', 'str_', 'array2string', 'array_str', 'array_repr', 'set_string_function', 'set_printoptions', 'get_printoptions', 'printoptions', 'format_float_positional', 'format_float_scientific', 'asarray', 'asanyarray', 'ascontiguousarray', 'asfortranarray', 'require', 'seterr', 'geterr', 'setbufsize', 'getbufsize', 'seterrcall', 'geterrcall', 'errstate', 'record', 'recarray', 'format_parser', 'chararray', 'logspace', 'linspace', 'geomspace', 'MachAr', 'finfo', 'iinfo', 'atleast_1d', 'atleast_2d', 'atleast_3d', 'block', 'hstack', 'stack', 'vstack', 'einsum', 'einsum_path', 'linalg', 'matrixlib', 'lib', 'emath', 'math', 'tracemalloc_domain', 'iscomplexobj', 'isrealobj', 'imag', 'iscomplex', 'isreal', 'nan_to_num', 'real', 'real_if_close', 'typename', 'asfarray', 'mintypecode', 'asscalar', 'common_type', 'ravel_multi_index', 'unravel_index', 'mgrid', 'ogrid', 'r_', 'c_', 's_', 'index_exp', 'ix_', 'ndenumerate', 'ndindex', 'fill_diagonal', 'diag_indices', 'diag_indices_from', 'select', 'piecewise', 'trim_zeros', 'copy', 'iterable', 'percentile', 'diff', 'gradient', 'angle', 'unwrap', 'sort_complex', 'disp', 'flip', 'rot90', 'extract', 'place', 'vectorize', 'asarray_chkfinite', 'average', 'bincount', 'digitize', 'cov', 'corrcoef', 'msort', 'median', 'sinc', 'hamming', 'hanning', 'bartlett', 'blackman', 'kaiser', 'trapz', 'i0', 'add_newdoc', 'add_docstring', 'meshgrid', 'delete', 'insert', 'append', 'interp', 'add_newdoc_ufunc', 'quantile', 'column_stack', 'row_stack', 'dstack', 'array_split', 'split', 'hsplit', 'vsplit', 'dsplit', 'apply_over_axes', 'expand_dims', 'apply_along_axis', 'kron', 'tile', 'get_array_wrap', 'take_along_axis', 'put_along_axis', 'broadcast_to', 'broadcast_arrays', 'diag', 'diagflat', 'eye', 'fliplr', 'flipud', 'tri', 'triu', 'tril', 'vander', 'histogram2d', 'mask_indices', 'tril_indices', 'tril_indices_from', 'triu_indices', 'triu_indices_from', 'fix', 'isneginf', 'isposinf', 'pad', 'poly', 'roots', 'polyint', 'polyder', 'polyadd', 'polysub', 'polymul', 'polydiv', 'polyval', 'poly1d', 'polyfit', 'RankWarning', 'issubclass_', 'issubsctype', 'deprecate', 'deprecate_with_doc', 'get_include', 'info', 'source', 'who', 'lookfor', 'byte_bounds', 'safe_eval', 'ediff1d', 'intersect1d', 'setxor1d', 'union1d', 'setdiff1d', 'unique', 'in1d', 'isin', 'savetxt', 'loadtxt', 'genfromtxt', 'ndfromtxt', 'mafromtxt', 'recfromtxt', 'recfromcsv', 'load', 'loads', 'save', 'savez', 'savez_compressed', 'packbits', 'unpackbits', 'fromregex', 'DataSource', 'fv', 'pmt', 'nper', 'ipmt', 'ppmt', 'pv', 'rate', 'irr', 'npv', 'mirr', 'nansum', 'nanmax', 'nanmin', 'nanargmax', 'nanargmin', 'nanmean', 'nanmedian', 'nanpercentile', 'nanvar', 'nanstd', 'nanprod', 'nancumsum', 'nancumprod', 'nanquantile', 'histogram', 'histogramdd', 'histogram_bin_edges', 'fft', 'polynomial', 'random', 'ctypeslib', 'ma', '_mat', 'matrix', 'bmat', 'mat', 'asmatrix', 'bool', 'int', 'float', 'complex', 'object', 'str', 'round', 'abs', 'max', 'min', 'oldnumeric', 'numarray', '__getattr__', '__dir__', 'test', 'mkl', '__mkl_version__', 'Tester', 'testing']\n"
     ]
    }
   ],
   "source": [
    "import numpy as np\n",
    "\n",
    "print(np.__dir__())"
   ]
  },
  {
   "cell_type": "code",
   "execution_count": 39,
   "metadata": {
    "scrolled": false
   },
   "outputs": [
    {
     "name": "stdout",
     "output_type": "stream",
     "text": [
      "Help on ufunc object:\n",
      "\n",
      "cosh = class ufunc(builtins.object)\n",
      " |  Functions that operate element by element on whole arrays.\n",
      " |  \n",
      " |  To see the documentation for a specific ufunc, use `info`.  For\n",
      " |  example, ``np.info(np.sin)``.  Because ufuncs are written in C\n",
      " |  (for speed) and linked into Python with NumPy's ufunc facility,\n",
      " |  Python's help() function finds this page whenever help() is called\n",
      " |  on a ufunc.\n",
      " |  \n",
      " |  A detailed explanation of ufuncs can be found in the docs for :ref:`ufuncs`.\n",
      " |  \n",
      " |  Calling ufuncs:\n",
      " |  ===============\n",
      " |  \n",
      " |  op(*x[, out], where=True, **kwargs)\n",
      " |  Apply `op` to the arguments `*x` elementwise, broadcasting the arguments.\n",
      " |  \n",
      " |  The broadcasting rules are:\n",
      " |  \n",
      " |  * Dimensions of length 1 may be prepended to either array.\n",
      " |  * Arrays may be repeated along dimensions of length 1.\n",
      " |  \n",
      " |  Parameters\n",
      " |  ----------\n",
      " |  *x : array_like\n",
      " |      Input arrays.\n",
      " |  out : ndarray, None, or tuple of ndarray and None, optional\n",
      " |      Alternate array object(s) in which to put the result; if provided, it\n",
      " |      must have a shape that the inputs broadcast to. A tuple of arrays\n",
      " |      (possible only as a keyword argument) must have length equal to the\n",
      " |      number of outputs; use None for uninitialized outputs to be\n",
      " |      allocated by the ufunc.\n",
      " |  where : array_like, optional\n",
      " |      This condition is broadcast over the input. At locations where the\n",
      " |      condition is True, the `out` array will be set to the ufunc result.\n",
      " |      Elsewhere, the `out` array will retain its original value.\n",
      " |      Note that if an uninitialized `out` array is created via the default\n",
      " |      ``out=None``, locations within it where the condition is False will\n",
      " |      remain uninitialized.\n",
      " |  **kwargs\n",
      " |      For other keyword-only arguments, see the :ref:`ufunc docs <ufuncs.kwargs>`.\n",
      " |  \n",
      " |  Returns\n",
      " |  -------\n",
      " |  r : ndarray or tuple of ndarray\n",
      " |      `r` will have the shape that the arrays in `x` broadcast to; if `out` is\n",
      " |      provided, it will be returned. If not, `r` will be allocated and\n",
      " |      may contain uninitialized values. If the function has more than one\n",
      " |      output, then the result will be a tuple of arrays.\n",
      " |  \n",
      " |  Methods defined here:\n",
      " |  \n",
      " |  __call__(self, /, *args, **kwargs)\n",
      " |      Call self as a function.\n",
      " |  \n",
      " |  __repr__(self, /)\n",
      " |      Return repr(self).\n",
      " |  \n",
      " |  __str__(self, /)\n",
      " |      Return str(self).\n",
      " |  \n",
      " |  accumulate(...)\n",
      " |      accumulate(array, axis=0, dtype=None, out=None)\n",
      " |      \n",
      " |      Accumulate the result of applying the operator to all elements.\n",
      " |      \n",
      " |      For a one-dimensional array, accumulate produces results equivalent to::\n",
      " |      \n",
      " |        r = np.empty(len(A))\n",
      " |        t = op.identity        # op = the ufunc being applied to A's  elements\n",
      " |        for i in range(len(A)):\n",
      " |            t = op(t, A[i])\n",
      " |            r[i] = t\n",
      " |        return r\n",
      " |      \n",
      " |      For example, add.accumulate() is equivalent to np.cumsum().\n",
      " |      \n",
      " |      For a multi-dimensional array, accumulate is applied along only one\n",
      " |      axis (axis zero by default; see Examples below) so repeated use is\n",
      " |      necessary if one wants to accumulate over multiple axes.\n",
      " |      \n",
      " |      Parameters\n",
      " |      ----------\n",
      " |      array : array_like\n",
      " |          The array to act on.\n",
      " |      axis : int, optional\n",
      " |          The axis along which to apply the accumulation; default is zero.\n",
      " |      dtype : data-type code, optional\n",
      " |          The data-type used to represent the intermediate results. Defaults\n",
      " |          to the data-type of the output array if such is provided, or the\n",
      " |          the data-type of the input array if no output array is provided.\n",
      " |      out : ndarray, None, or tuple of ndarray and None, optional\n",
      " |          A location into which the result is stored. If not provided or None,\n",
      " |          a freshly-allocated array is returned. For consistency with\n",
      " |          ``ufunc.__call__``, if given as a keyword, this may be wrapped in a\n",
      " |          1-element tuple.\n",
      " |      \n",
      " |          .. versionchanged:: 1.13.0\n",
      " |             Tuples are allowed for keyword argument.\n",
      " |      \n",
      " |      Returns\n",
      " |      -------\n",
      " |      r : ndarray\n",
      " |          The accumulated values. If `out` was supplied, `r` is a reference to\n",
      " |          `out`.\n",
      " |      \n",
      " |      Examples\n",
      " |      --------\n",
      " |      1-D array examples:\n",
      " |      \n",
      " |      >>> np.add.accumulate([2, 3, 5])\n",
      " |      array([ 2,  5, 10])\n",
      " |      >>> np.multiply.accumulate([2, 3, 5])\n",
      " |      array([ 2,  6, 30])\n",
      " |      \n",
      " |      2-D array examples:\n",
      " |      \n",
      " |      >>> I = np.eye(2)\n",
      " |      >>> I\n",
      " |      array([[1.,  0.],\n",
      " |             [0.,  1.]])\n",
      " |      \n",
      " |      Accumulate along axis 0 (rows), down columns:\n",
      " |      \n",
      " |      >>> np.add.accumulate(I, 0)\n",
      " |      array([[1.,  0.],\n",
      " |             [1.,  1.]])\n",
      " |      >>> np.add.accumulate(I) # no axis specified = axis zero\n",
      " |      array([[1.,  0.],\n",
      " |             [1.,  1.]])\n",
      " |      \n",
      " |      Accumulate along axis 1 (columns), through rows:\n",
      " |      \n",
      " |      >>> np.add.accumulate(I, 1)\n",
      " |      array([[1.,  1.],\n",
      " |             [0.,  1.]])\n",
      " |  \n",
      " |  at(...)\n",
      " |      at(a, indices, b=None)\n",
      " |      \n",
      " |      Performs unbuffered in place operation on operand 'a' for elements\n",
      " |      specified by 'indices'. For addition ufunc, this method is equivalent to\n",
      " |      ``a[indices] += b``, except that results are accumulated for elements that\n",
      " |      are indexed more than once. For example, ``a[[0,0]] += 1`` will only\n",
      " |      increment the first element once because of buffering, whereas\n",
      " |      ``add.at(a, [0,0], 1)`` will increment the first element twice.\n",
      " |      \n",
      " |      .. versionadded:: 1.8.0\n",
      " |      \n",
      " |      Parameters\n",
      " |      ----------\n",
      " |      a : array_like\n",
      " |          The array to perform in place operation on.\n",
      " |      indices : array_like or tuple\n",
      " |          Array like index object or slice object for indexing into first\n",
      " |          operand. If first operand has multiple dimensions, indices can be a\n",
      " |          tuple of array like index objects or slice objects.\n",
      " |      b : array_like\n",
      " |          Second operand for ufuncs requiring two operands. Operand must be\n",
      " |          broadcastable over first operand after indexing or slicing.\n",
      " |      \n",
      " |      Examples\n",
      " |      --------\n",
      " |      Set items 0 and 1 to their negative values:\n",
      " |      \n",
      " |      >>> a = np.array([1, 2, 3, 4])\n",
      " |      >>> np.negative.at(a, [0, 1])\n",
      " |      >>> a\n",
      " |      array([-1, -2,  3,  4])\n",
      " |      \n",
      " |      Increment items 0 and 1, and increment item 2 twice:\n",
      " |      \n",
      " |      >>> a = np.array([1, 2, 3, 4])\n",
      " |      >>> np.add.at(a, [0, 1, 2, 2], 1)\n",
      " |      >>> a\n",
      " |      array([2, 3, 5, 4])\n",
      " |      \n",
      " |      Add items 0 and 1 in first array to second array,\n",
      " |      and store results in first array:\n",
      " |      \n",
      " |      >>> a = np.array([1, 2, 3, 4])\n",
      " |      >>> b = np.array([1, 2])\n",
      " |      >>> np.add.at(a, [0, 1], b)\n",
      " |      >>> a\n",
      " |      array([2, 4, 3, 4])\n",
      " |  \n",
      " |  outer(...)\n",
      " |      outer(A, B, **kwargs)\n",
      " |      \n",
      " |      Apply the ufunc `op` to all pairs (a, b) with a in `A` and b in `B`.\n",
      " |      \n",
      " |      Let ``M = A.ndim``, ``N = B.ndim``. Then the result, `C`, of\n",
      " |      ``op.outer(A, B)`` is an array of dimension M + N such that:\n",
      " |      \n",
      " |      .. math:: C[i_0, ..., i_{M-1}, j_0, ..., j_{N-1}] =\n",
      " |         op(A[i_0, ..., i_{M-1}], B[j_0, ..., j_{N-1}])\n",
      " |      \n",
      " |      For `A` and `B` one-dimensional, this is equivalent to::\n",
      " |      \n",
      " |        r = empty(len(A),len(B))\n",
      " |        for i in range(len(A)):\n",
      " |            for j in range(len(B)):\n",
      " |                r[i,j] = op(A[i], B[j]) # op = ufunc in question\n",
      " |      \n",
      " |      Parameters\n",
      " |      ----------\n",
      " |      A : array_like\n",
      " |          First array\n",
      " |      B : array_like\n",
      " |          Second array\n",
      " |      kwargs : any\n",
      " |          Arguments to pass on to the ufunc. Typically `dtype` or `out`.\n",
      " |      \n",
      " |      Returns\n",
      " |      -------\n",
      " |      r : ndarray\n",
      " |          Output array\n",
      " |      \n",
      " |      See Also\n",
      " |      --------\n",
      " |      numpy.outer\n",
      " |      \n",
      " |      Examples\n",
      " |      --------\n",
      " |      >>> np.multiply.outer([1, 2, 3], [4, 5, 6])\n",
      " |      array([[ 4,  5,  6],\n",
      " |             [ 8, 10, 12],\n",
      " |             [12, 15, 18]])\n",
      " |      \n",
      " |      A multi-dimensional example:\n",
      " |      \n",
      " |      >>> A = np.array([[1, 2, 3], [4, 5, 6]])\n",
      " |      >>> A.shape\n",
      " |      (2, 3)\n",
      " |      >>> B = np.array([[1, 2, 3, 4]])\n",
      " |      >>> B.shape\n",
      " |      (1, 4)\n",
      " |      >>> C = np.multiply.outer(A, B)\n",
      " |      >>> C.shape; C\n",
      " |      (2, 3, 1, 4)\n",
      " |      array([[[[ 1,  2,  3,  4]],\n",
      " |              [[ 2,  4,  6,  8]],\n",
      " |              [[ 3,  6,  9, 12]]],\n",
      " |             [[[ 4,  8, 12, 16]],\n",
      " |              [[ 5, 10, 15, 20]],\n",
      " |              [[ 6, 12, 18, 24]]]])\n",
      " |  \n",
      " |  reduce(...)\n",
      " |      reduce(a, axis=0, dtype=None, out=None, keepdims=False, initial=<no value>, where=True)\n",
      " |      \n",
      " |      Reduces `a`'s dimension by one, by applying ufunc along one axis.\n",
      " |      \n",
      " |      Let :math:`a.shape = (N_0, ..., N_i, ..., N_{M-1})`.  Then\n",
      " |      :math:`ufunc.reduce(a, axis=i)[k_0, ..,k_{i-1}, k_{i+1}, .., k_{M-1}]` =\n",
      " |      the result of iterating `j` over :math:`range(N_i)`, cumulatively applying\n",
      " |      ufunc to each :math:`a[k_0, ..,k_{i-1}, j, k_{i+1}, .., k_{M-1}]`.\n",
      " |      For a one-dimensional array, reduce produces results equivalent to:\n",
      " |      ::\n",
      " |      \n",
      " |       r = op.identity # op = ufunc\n",
      " |       for i in range(len(A)):\n",
      " |         r = op(r, A[i])\n",
      " |       return r\n",
      " |      \n",
      " |      For example, add.reduce() is equivalent to sum().\n",
      " |      \n",
      " |      Parameters\n",
      " |      ----------\n",
      " |      a : array_like\n",
      " |          The array to act on.\n",
      " |      axis : None or int or tuple of ints, optional\n",
      " |          Axis or axes along which a reduction is performed.\n",
      " |          The default (`axis` = 0) is perform a reduction over the first\n",
      " |          dimension of the input array. `axis` may be negative, in\n",
      " |          which case it counts from the last to the first axis.\n",
      " |      \n",
      " |          .. versionadded:: 1.7.0\n",
      " |      \n",
      " |          If this is None, a reduction is performed over all the axes.\n",
      " |          If this is a tuple of ints, a reduction is performed on multiple\n",
      " |          axes, instead of a single axis or all the axes as before.\n",
      " |      \n",
      " |          For operations which are either not commutative or not associative,\n",
      " |          doing a reduction over multiple axes is not well-defined. The\n",
      " |          ufuncs do not currently raise an exception in this case, but will\n",
      " |          likely do so in the future.\n",
      " |      dtype : data-type code, optional\n",
      " |          The type used to represent the intermediate results. Defaults\n",
      " |          to the data-type of the output array if this is provided, or\n",
      " |          the data-type of the input array if no output array is provided.\n",
      " |      out : ndarray, None, or tuple of ndarray and None, optional\n",
      " |          A location into which the result is stored. If not provided or None,\n",
      " |          a freshly-allocated array is returned. For consistency with\n",
      " |          ``ufunc.__call__``, if given as a keyword, this may be wrapped in a\n",
      " |          1-element tuple.\n",
      " |      \n",
      " |          .. versionchanged:: 1.13.0\n",
      " |             Tuples are allowed for keyword argument.\n",
      " |      keepdims : bool, optional\n",
      " |          If this is set to True, the axes which are reduced are left\n",
      " |          in the result as dimensions with size one. With this option,\n",
      " |          the result will broadcast correctly against the original `arr`.\n",
      " |      \n",
      " |          .. versionadded:: 1.7.0\n",
      " |      initial : scalar, optional\n",
      " |          The value with which to start the reduction.\n",
      " |          If the ufunc has no identity or the dtype is object, this defaults\n",
      " |          to None - otherwise it defaults to ufunc.identity.\n",
      " |          If ``None`` is given, the first element of the reduction is used,\n",
      " |          and an error is thrown if the reduction is empty.\n",
      " |      \n",
      " |          .. versionadded:: 1.15.0\n",
      " |      \n",
      " |      where : array_like of bool, optional\n",
      " |          A boolean array which is broadcasted to match the dimensions\n",
      " |          of `a`, and selects elements to include in the reduction. Note\n",
      " |          that for ufuncs like ``minimum`` that do not have an identity\n",
      " |          defined, one has to pass in also ``initial``.\n",
      " |      \n",
      " |          .. versionadded:: 1.17.0\n",
      " |      \n",
      " |      Returns\n",
      " |      -------\n",
      " |      r : ndarray\n",
      " |          The reduced array. If `out` was supplied, `r` is a reference to it.\n",
      " |      \n",
      " |      Examples\n",
      " |      --------\n",
      " |      >>> np.multiply.reduce([2,3,5])\n",
      " |      30\n",
      " |      \n",
      " |      A multi-dimensional array example:\n",
      " |      \n",
      " |      >>> X = np.arange(8).reshape((2,2,2))\n",
      " |      >>> X\n",
      " |      array([[[0, 1],\n",
      " |              [2, 3]],\n",
      " |             [[4, 5],\n",
      " |              [6, 7]]])\n",
      " |      >>> np.add.reduce(X, 0)\n",
      " |      array([[ 4,  6],\n",
      " |             [ 8, 10]])\n",
      " |      >>> np.add.reduce(X) # confirm: default axis value is 0\n",
      " |      array([[ 4,  6],\n",
      " |             [ 8, 10]])\n",
      " |      >>> np.add.reduce(X, 1)\n",
      " |      array([[ 2,  4],\n",
      " |             [10, 12]])\n",
      " |      >>> np.add.reduce(X, 2)\n",
      " |      array([[ 1,  5],\n",
      " |             [ 9, 13]])\n",
      " |      \n",
      " |      You can use the ``initial`` keyword argument to initialize the reduction\n",
      " |      with a different value, and ``where`` to select specific elements to include:\n",
      " |      \n",
      " |      >>> np.add.reduce([10], initial=5)\n",
      " |      15\n",
      " |      >>> np.add.reduce(np.ones((2, 2, 2)), axis=(0, 2), initial=10)\n",
      " |      array([14., 14.])\n",
      " |      >>> a = np.array([10., np.nan, 10])\n",
      " |      >>> np.add.reduce(a, where=~np.isnan(a))\n",
      " |      20.0\n",
      " |      \n",
      " |      Allows reductions of empty arrays where they would normally fail, i.e.\n",
      " |      for ufuncs without an identity.\n",
      " |      \n",
      " |      >>> np.minimum.reduce([], initial=np.inf)\n",
      " |      inf\n",
      " |      >>> np.minimum.reduce([[1., 2.], [3., 4.]], initial=10., where=[True, False])\n",
      " |      array([ 1., 10.])\n",
      " |      >>> np.minimum.reduce([])\n",
      " |      Traceback (most recent call last):\n",
      " |          ...\n",
      " |      ValueError: zero-size array to reduction operation minimum which has no identity\n",
      " |  \n",
      " |  reduceat(...)\n",
      " |      reduceat(a, indices, axis=0, dtype=None, out=None)\n",
      " |      \n",
      " |      Performs a (local) reduce with specified slices over a single axis.\n",
      " |      \n",
      " |      For i in ``range(len(indices))``, `reduceat` computes\n",
      " |      ``ufunc.reduce(a[indices[i]:indices[i+1]])``, which becomes the i-th\n",
      " |      generalized \"row\" parallel to `axis` in the final result (i.e., in a\n",
      " |      2-D array, for example, if `axis = 0`, it becomes the i-th row, but if\n",
      " |      `axis = 1`, it becomes the i-th column).  There are three exceptions to this:\n",
      " |      \n",
      " |      * when ``i = len(indices) - 1`` (so for the last index),\n",
      " |        ``indices[i+1] = a.shape[axis]``.\n",
      " |      * if ``indices[i] >= indices[i + 1]``, the i-th generalized \"row\" is\n",
      " |        simply ``a[indices[i]]``.\n",
      " |      * if ``indices[i] >= len(a)`` or ``indices[i] < 0``, an error is raised.\n",
      " |      \n",
      " |      The shape of the output depends on the size of `indices`, and may be\n",
      " |      larger than `a` (this happens if ``len(indices) > a.shape[axis]``).\n",
      " |      \n",
      " |      Parameters\n",
      " |      ----------\n",
      " |      a : array_like\n",
      " |          The array to act on.\n",
      " |      indices : array_like\n",
      " |          Paired indices, comma separated (not colon), specifying slices to\n",
      " |          reduce.\n",
      " |      axis : int, optional\n",
      " |          The axis along which to apply the reduceat.\n",
      " |      dtype : data-type code, optional\n",
      " |          The type used to represent the intermediate results. Defaults\n",
      " |          to the data type of the output array if this is provided, or\n",
      " |          the data type of the input array if no output array is provided.\n",
      " |      out : ndarray, None, or tuple of ndarray and None, optional\n",
      " |          A location into which the result is stored. If not provided or None,\n",
      " |          a freshly-allocated array is returned. For consistency with\n",
      " |          ``ufunc.__call__``, if given as a keyword, this may be wrapped in a\n",
      " |          1-element tuple.\n",
      " |      \n",
      " |          .. versionchanged:: 1.13.0\n",
      " |             Tuples are allowed for keyword argument.\n",
      " |      \n",
      " |      Returns\n",
      " |      -------\n",
      " |      r : ndarray\n",
      " |          The reduced values. If `out` was supplied, `r` is a reference to\n",
      " |          `out`.\n",
      " |      \n",
      " |      Notes\n",
      " |      -----\n",
      " |      A descriptive example:\n",
      " |      \n",
      " |      If `a` is 1-D, the function `ufunc.accumulate(a)` is the same as\n",
      " |      ``ufunc.reduceat(a, indices)[::2]`` where `indices` is\n",
      " |      ``range(len(array) - 1)`` with a zero placed\n",
      " |      in every other element:\n",
      " |      ``indices = zeros(2 * len(a) - 1)``, ``indices[1::2] = range(1, len(a))``.\n",
      " |      \n",
      " |      Don't be fooled by this attribute's name: `reduceat(a)` is not\n",
      " |      necessarily smaller than `a`.\n",
      " |      \n",
      " |      Examples\n",
      " |      --------\n",
      " |      To take the running sum of four successive values:\n",
      " |      \n",
      " |      >>> np.add.reduceat(np.arange(8),[0,4, 1,5, 2,6, 3,7])[::2]\n",
      " |      array([ 6, 10, 14, 18])\n",
      " |      \n",
      " |      A 2-D example:\n",
      " |      \n",
      " |      >>> x = np.linspace(0, 15, 16).reshape(4,4)\n",
      " |      >>> x\n",
      " |      array([[ 0.,   1.,   2.,   3.],\n",
      " |             [ 4.,   5.,   6.,   7.],\n",
      " |             [ 8.,   9.,  10.,  11.],\n",
      " |             [12.,  13.,  14.,  15.]])\n",
      " |      \n",
      " |      ::\n",
      " |      \n",
      " |       # reduce such that the result has the following five rows:\n",
      " |       # [row1 + row2 + row3]\n",
      " |       # [row4]\n",
      " |       # [row2]\n",
      " |       # [row3]\n",
      " |       # [row1 + row2 + row3 + row4]\n",
      " |      \n",
      " |      >>> np.add.reduceat(x, [0, 3, 1, 2, 0])\n",
      " |      array([[12.,  15.,  18.,  21.],\n",
      " |             [12.,  13.,  14.,  15.],\n",
      " |             [ 4.,   5.,   6.,   7.],\n",
      " |             [ 8.,   9.,  10.,  11.],\n",
      " |             [24.,  28.,  32.,  36.]])\n",
      " |      \n",
      " |      ::\n",
      " |      \n",
      " |       # reduce such that result has the following two columns:\n",
      " |       # [col1 * col2 * col3, col4]\n",
      " |      \n",
      " |      >>> np.multiply.reduceat(x, [0, 3], 1)\n",
      " |      array([[   0.,     3.],\n",
      " |             [ 120.,     7.],\n",
      " |             [ 720.,    11.],\n",
      " |             [2184.,    15.]])\n",
      " |  \n",
      " |  ----------------------------------------------------------------------\n",
      " |  Data descriptors defined here:\n",
      " |  \n",
      " |  identity\n",
      " |      The identity value.\n",
      " |      \n",
      " |      Data attribute containing the identity element for the ufunc, if it has one.\n",
      " |      If it does not, the attribute value is None.\n",
      " |      \n",
      " |      Examples\n",
      " |      --------\n",
      " |      >>> np.add.identity\n",
      " |      0\n",
      " |      >>> np.multiply.identity\n",
      " |      1\n",
      " |      >>> np.power.identity\n",
      " |      1\n",
      " |      >>> print(np.exp.identity)\n",
      " |      None\n",
      " |  \n",
      " |  nargs\n",
      " |      The number of arguments.\n",
      " |      \n",
      " |      Data attribute containing the number of arguments the ufunc takes, including\n",
      " |      optional ones.\n",
      " |      \n",
      " |      Notes\n",
      " |      -----\n",
      " |      Typically this value will be one more than what you might expect because all\n",
      " |      ufuncs take  the optional \"out\" argument.\n",
      " |      \n",
      " |      Examples\n",
      " |      --------\n",
      " |      >>> np.add.nargs\n",
      " |      3\n",
      " |      >>> np.multiply.nargs\n",
      " |      3\n",
      " |      >>> np.power.nargs\n",
      " |      3\n",
      " |      >>> np.exp.nargs\n",
      " |      2\n",
      " |  \n",
      " |  nin\n",
      " |      The number of inputs.\n",
      " |      \n",
      " |      Data attribute containing the number of arguments the ufunc treats as input.\n",
      " |      \n",
      " |      Examples\n",
      " |      --------\n",
      " |      >>> np.add.nin\n",
      " |      2\n",
      " |      >>> np.multiply.nin\n",
      " |      2\n",
      " |      >>> np.power.nin\n",
      " |      2\n",
      " |      >>> np.exp.nin\n",
      " |      1\n",
      " |  \n",
      " |  nout\n",
      " |      The number of outputs.\n",
      " |      \n",
      " |      Data attribute containing the number of arguments the ufunc treats as output.\n",
      " |      \n",
      " |      Notes\n",
      " |      -----\n",
      " |      Since all ufuncs can take output arguments, this will always be (at least) 1.\n",
      " |      \n",
      " |      Examples\n",
      " |      --------\n",
      " |      >>> np.add.nout\n",
      " |      1\n",
      " |      >>> np.multiply.nout\n",
      " |      1\n",
      " |      >>> np.power.nout\n",
      " |      1\n",
      " |      >>> np.exp.nout\n",
      " |      1\n",
      " |  \n",
      " |  ntypes\n",
      " |      The number of types.\n",
      " |      \n",
      " |      The number of numerical NumPy types - of which there are 18 total - on which\n",
      " |      the ufunc can operate.\n",
      " |      \n",
      " |      See Also\n",
      " |      --------\n",
      " |      numpy.ufunc.types\n",
      " |      \n",
      " |      Examples\n",
      " |      --------\n",
      " |      >>> np.add.ntypes\n",
      " |      18\n",
      " |      >>> np.multiply.ntypes\n",
      " |      18\n",
      " |      >>> np.power.ntypes\n",
      " |      17\n",
      " |      >>> np.exp.ntypes\n",
      " |      7\n",
      " |      >>> np.remainder.ntypes\n",
      " |      14\n",
      " |  \n",
      " |  signature\n",
      " |      Definition of the core elements a generalized ufunc operates on.\n",
      " |      \n",
      " |      The signature determines how the dimensions of each input/output array\n",
      " |      are split into core and loop dimensions:\n",
      " |      \n",
      " |      1. Each dimension in the signature is matched to a dimension of the\n",
      " |         corresponding passed-in array, starting from the end of the shape tuple.\n",
      " |      2. Core dimensions assigned to the same label in the signature must have\n",
      " |         exactly matching sizes, no broadcasting is performed.\n",
      " |      3. The core dimensions are removed from all inputs and the remaining\n",
      " |         dimensions are broadcast together, defining the loop dimensions.\n",
      " |      \n",
      " |      Notes\n",
      " |      -----\n",
      " |      Generalized ufuncs are used internally in many linalg functions, and in\n",
      " |      the testing suite; the examples below are taken from these.\n",
      " |      For ufuncs that operate on scalars, the signature is None, which is\n",
      " |      equivalent to '()' for every argument.\n",
      " |      \n",
      " |      Examples\n",
      " |      --------\n",
      " |      >>> np.core.umath_tests.matrix_multiply.signature\n",
      " |      '(m,n),(n,p)->(m,p)'\n",
      " |      >>> np.linalg._umath_linalg.det.signature\n",
      " |      '(m,m)->()'\n",
      " |      >>> np.add.signature is None\n",
      " |      True  # equivalent to '(),()->()'\n",
      " |  \n",
      " |  types\n",
      " |      Returns a list with types grouped input->output.\n",
      " |      \n",
      " |      Data attribute listing the data-type \"Domain-Range\" groupings the ufunc can\n",
      " |      deliver. The data-types are given using the character codes.\n",
      " |      \n",
      " |      See Also\n",
      " |      --------\n",
      " |      numpy.ufunc.ntypes\n",
      " |      \n",
      " |      Examples\n",
      " |      --------\n",
      " |      >>> np.add.types\n",
      " |      ['??->?', 'bb->b', 'BB->B', 'hh->h', 'HH->H', 'ii->i', 'II->I', 'll->l',\n",
      " |      'LL->L', 'qq->q', 'QQ->Q', 'ff->f', 'dd->d', 'gg->g', 'FF->F', 'DD->D',\n",
      " |      'GG->G', 'OO->O']\n",
      " |      \n",
      " |      >>> np.multiply.types\n",
      " |      ['??->?', 'bb->b', 'BB->B', 'hh->h', 'HH->H', 'ii->i', 'II->I', 'll->l',\n",
      " |      'LL->L', 'qq->q', 'QQ->Q', 'ff->f', 'dd->d', 'gg->g', 'FF->F', 'DD->D',\n",
      " |      'GG->G', 'OO->O']\n",
      " |      \n",
      " |      >>> np.power.types\n",
      " |      ['bb->b', 'BB->B', 'hh->h', 'HH->H', 'ii->i', 'II->I', 'll->l', 'LL->L',\n",
      " |      'qq->q', 'QQ->Q', 'ff->f', 'dd->d', 'gg->g', 'FF->F', 'DD->D', 'GG->G',\n",
      " |      'OO->O']\n",
      " |      \n",
      " |      >>> np.exp.types\n",
      " |      ['f->f', 'd->d', 'g->g', 'F->F', 'D->D', 'G->G', 'O->O']\n",
      " |      \n",
      " |      >>> np.remainder.types\n",
      " |      ['bb->b', 'BB->B', 'hh->h', 'HH->H', 'ii->i', 'II->I', 'll->l', 'LL->L',\n",
      " |      'qq->q', 'QQ->Q', 'ff->f', 'dd->d', 'gg->g', 'OO->O']\n",
      "\n"
     ]
    }
   ],
   "source": [
    "help(np.cosh)"
   ]
  },
  {
   "cell_type": "code",
   "execution_count": null,
   "metadata": {},
   "outputs": [],
   "source": []
  }
 ],
 "metadata": {
  "kernelspec": {
   "display_name": "Python 3",
   "language": "python",
   "name": "python3"
  },
  "language_info": {
   "codemirror_mode": {
    "name": "ipython",
    "version": 3
   },
   "file_extension": ".py",
   "mimetype": "text/x-python",
   "name": "python",
   "nbconvert_exporter": "python",
   "pygments_lexer": "ipython3",
   "version": "3.7.1"
  }
 },
 "nbformat": 4,
 "nbformat_minor": 2
}
