{
 "cells": [
  {
   "cell_type": "markdown",
   "metadata": {},
   "source": [
    "# ICT 781 - Week 4\n",
    "\n",
    "# Functions\n",
    "\n",
    "Programming is inherently repetitive. One of the main goals of writing software is to get the computer to do tasks, often over and over again. A convenient way to complete these repetitive tasks is through defining **functions**. A function has inputs and usually results in an output, or `return` value. A **module** is a collection of functions and variables stored in a script. We've seen modules in the past few lessons, for example, when we use `import math` we are importing the `math` module.\n",
    "\n",
    "Through the use of functions and modules, your Python programs will often be composed of a few Python scripts interacting with each other.\n",
    "\n",
    "Here's a few examples of functions."
   ]
  },
  {
   "cell_type": "code",
   "execution_count": 34,
   "metadata": {},
   "outputs": [
    {
     "name": "stdout",
     "output_type": "stream",
     "text": [
      "Hello world :)\n"
     ]
    }
   ],
   "source": [
    "def hello():\n",
    "    \"\"\" The 'Hello world' function. \"\"\"\n",
    "    print('Hello world :)')\n",
    "    \n",
    "hello()"
   ]
  },
  {
   "cell_type": "code",
   "execution_count": 35,
   "metadata": {},
   "outputs": [
    {
     "name": "stdout",
     "output_type": "stream",
     "text": [
      "This past week was crazy!\n"
     ]
    }
   ],
   "source": [
    "def makeEnthusiastic(word):\n",
    "    \"\"\" Take in a string and add an exclamation point. \"\"\"\n",
    "    \n",
    "    print(word + '!')\n",
    "    \n",
    "makeEnthusiastic('This past week was crazy')"
   ]
  },
  {
   "cell_type": "markdown",
   "metadata": {},
   "source": [
    "In these examples, the function is defined using the `def <function name>` syntax. The parentheses indicate where the function's **arguments** will be passed in. The arguments are the function's inputs. Finally, the function declaration ends with a `:`. After the line declaring the function, we have an indented code block doing some task. In our above examples, the task was printing a string, but functions can do any other tasks.\n",
    "\n",
    "With this in mind, the general syntax for declaring a function is:\n",
    "\n",
    "```\n",
    "    def <function name>(<arguments>):\n",
    "        <do some task here>\n",
    "```"
   ]
  },
  {
   "cell_type": "markdown",
   "metadata": {},
   "source": [
    "# Returning Values with Functions\n",
    "\n",
    "Of course, we can do more than just print strings with functions. We usually want our functions to actually have some output, or to `return` some value."
   ]
  },
  {
   "cell_type": "markdown",
   "metadata": {},
   "source": [
    "## *Example:* The `absolute_value` function\n",
    "\n",
    "Let's start by defining a mathematical function that gives many people problems. The absolute value function $f(x) = |x|$ takes in a number $x$. If that number is positive, $f(x)$ gives you the number back. If the input $x$ is negative, then $f(x)$ makes it positive in its output. In mathematical terms,\n",
    "$$\n",
    "    f(x) = |x| = \\begin{cases}\n",
    "        x, \\text{ if } x \\geq 0,\\\\\n",
    "        -x, \\text{ if } x < 0.\n",
    "    \\end{cases}\n",
    "$$\n",
    "We can code this function in Python."
   ]
  },
  {
   "cell_type": "code",
   "execution_count": 36,
   "metadata": {},
   "outputs": [],
   "source": [
    "def absolute_value(x):\n",
    "    \"\"\" Absolute value function. \"\"\"\n",
    "    \n",
    "    if x >= 0:\n",
    "        return x\n",
    "    elif x < 0:\n",
    "        return -x"
   ]
  },
  {
   "cell_type": "markdown",
   "metadata": {},
   "source": [
    "Here, our function's name, `absolute_value`, is highlighted in blue, and the argument we will pass the function is `x`. Function declarations end with the `:` symbol.\n",
    "\n",
    "Within the function, we have the conditions of the absolute value function. We use the `return` command to produce the function's output.\n",
    "\n",
    "Let's test this function. We know that $|5| = 5$ and that $|-11| = 11$, so let's see if our function gets it right."
   ]
  },
  {
   "cell_type": "code",
   "execution_count": 37,
   "metadata": {},
   "outputs": [
    {
     "data": {
      "text/plain": [
       "5"
      ]
     },
     "execution_count": 37,
     "metadata": {},
     "output_type": "execute_result"
    }
   ],
   "source": [
    "absolute_value(5)"
   ]
  },
  {
   "cell_type": "code",
   "execution_count": 38,
   "metadata": {},
   "outputs": [
    {
     "data": {
      "text/plain": [
       "11"
      ]
     },
     "execution_count": 38,
     "metadata": {},
     "output_type": "execute_result"
    }
   ],
   "source": [
    "absolute_value(-11)"
   ]
  },
  {
   "cell_type": "markdown",
   "metadata": {},
   "source": [
    "In the above code, we called the function `absolute_value` by typing the function name with an argument, for example `absolute_value(5)`.\n",
    "\n",
    "We can also call functions and declare variables based on the function output."
   ]
  },
  {
   "cell_type": "code",
   "execution_count": 39,
   "metadata": {},
   "outputs": [
    {
     "data": {
      "text/plain": [
       "5"
      ]
     },
     "execution_count": 39,
     "metadata": {},
     "output_type": "execute_result"
    }
   ],
   "source": [
    "abs5 = absolute_value(5)\n",
    "abs5"
   ]
  },
  {
   "cell_type": "markdown",
   "metadata": {},
   "source": [
    "# The `return` Command\n",
    "\n",
    "The `return` command is very much like the `break` command. It immediately exits the function and returns to the main body of the program, giving the `return` value as the function output. \n",
    "\n",
    "**Note:** There are conflicting opinions on the use of capital letters in declaring function names. Some programmers prefer to use underscores to separate individual words as I have above (i.e. `absolute_value`). Other programmers like using 'camel-case', which would make our function name `absoluteValue`. Either convention is acceptable, and the style will usually depend on the chosen style of a given programming team."
   ]
  },
  {
   "cell_type": "markdown",
   "metadata": {},
   "source": [
    "## *Example* - Returning other values\n",
    "We can return more than just integers. Here's another example of a function that calculates some key statistics for a dataset and returns several values."
   ]
  },
  {
   "cell_type": "code",
   "execution_count": 40,
   "metadata": {},
   "outputs": [
    {
     "name": "stdout",
     "output_type": "stream",
     "text": [
      "Sample stats calculated for LWRATIO dataset.\n",
      "Mean: 9.2576, Variance: 1.4486\n"
     ]
    }
   ],
   "source": [
    "# This dataset, LWRATIO, is a collection of measurements of length-to-width ratios \n",
    "# of fossilized humerus bones found in East Africa. The dataset is found in \n",
    "# Mendenhall and Sincich (2012), A Second Course in Statistics: Regression Analysis.\n",
    "\n",
    "data = [10.73,8.48,8.52,8.91,8.93,9.38,8.89,8.71,8.87,11.77,8.80,9.07,9.57,6.23,10.48,10.02,9.20,\n",
    "        9.29,9.41,10.39,8.38,10.33,9.94,6.66,9.39,11.67,9.98,8.07,9.35,9.17,8.30,9.84,8.37,8.86,\n",
    "        9.89,9.17,9.59,6.85,9.93,8.17,12.00]\n",
    "\n",
    "def stats(X, biased = True, msg = ''):\n",
    "    \"\"\" Take in data X and return the mean and variance. \"\"\"\n",
    "    \n",
    "    N = len(X)\n",
    "    \n",
    "    # Calculate the mean, we'll call it 'average' to avoid using 'mean'.\n",
    "    average = sum(X)/N\n",
    "    \n",
    "    # Calculate the variance.\n",
    "    sum_squares = sum([(xi - average)**2 for xi in X])\n",
    "    \n",
    "    if biased:\n",
    "        variance = sum_squares/N\n",
    "    elif not biased:\n",
    "        variance = sum_squares/(N-1)\n",
    "        \n",
    "    print(msg)\n",
    "    print('Mean: {:.4f}, Variance: {:.4f}'.format(average, variance))\n",
    "    return average, variance\n",
    "\n",
    "avg, var = stats(data, biased = False, msg = 'Sample stats calculated for LWRATIO dataset.')"
   ]
  },
  {
   "cell_type": "code",
   "execution_count": 41,
   "metadata": {},
   "outputs": [
    {
     "data": {
      "text/plain": [
       "9.257560975609756"
      ]
     },
     "execution_count": 41,
     "metadata": {},
     "output_type": "execute_result"
    }
   ],
   "source": [
    "avg"
   ]
  },
  {
   "cell_type": "code",
   "execution_count": 42,
   "metadata": {},
   "outputs": [
    {
     "data": {
      "text/plain": [
       "1.448568902439024"
      ]
     },
     "execution_count": 42,
     "metadata": {},
     "output_type": "execute_result"
    }
   ],
   "source": [
    "var"
   ]
  },
  {
   "cell_type": "markdown",
   "metadata": {},
   "source": [
    "This function introduces a few new concepts. First, the function takes in more than one argument. User-defined functions can take in as many arguments as you like. It should be obvious that you only want to pass in arguments that you actually want to use in your functions. \n",
    "\n",
    "Another new concept is the default argument for `keywords` given in the function declaration. You can specify an *immutable* as a default argument for your function. This helps in the event that no second argument is passed in to the function. \n",
    "\n",
    "Here's an example of calling a function but leaving out the keyworded arguments."
   ]
  },
  {
   "cell_type": "code",
   "execution_count": 43,
   "metadata": {},
   "outputs": [
    {
     "name": "stdout",
     "output_type": "stream",
     "text": [
      "\n",
      "Mean: 9.2576, Variance: 1.4132\n"
     ]
    },
    {
     "data": {
      "text/plain": [
       "(9.257560975609756, 1.4132379535990478)"
      ]
     },
     "execution_count": 43,
     "metadata": {},
     "output_type": "execute_result"
    }
   ],
   "source": [
    "stats(data)"
   ]
  },
  {
   "cell_type": "markdown",
   "metadata": {},
   "source": [
    "There are some cases where you will be working on a function and you want to call the function without returning a value. For this, you can use the `pass` keyword. This makes the function do everything it would do normally, but then exit with no output."
   ]
  },
  {
   "cell_type": "code",
   "execution_count": 44,
   "metadata": {},
   "outputs": [
    {
     "name": "stdout",
     "output_type": "stream",
     "text": [
      "This function is not done.\n",
      "None\n"
     ]
    }
   ],
   "source": [
    "def workInProgress(x):\n",
    "    \"\"\" Example of using pass instead of return. \"\"\"\n",
    "    \n",
    "    fact = [x*(x-1) for x in range(0,-x,1)]\n",
    "    total = sum(fact)\n",
    "    \n",
    "    print('This function is not done.')\n",
    "    \n",
    "    pass\n",
    "\n",
    "zero = workInProgress(60)\n",
    "print(zero)"
   ]
  },
  {
   "cell_type": "markdown",
   "metadata": {},
   "source": [
    "# Controlling functions with other functions\n",
    "\n",
    "When you are building Python software, you will most likely be declaring multiple functions and controlling them with some code. A good practice is to break up your code into a collection of functions, with each function accomplishing one specific task. When all of your tasks have corresponding functions, you can write a single function that calls the simple functions in a predetermined order.\n",
    "\n",
    "Let's see an example of this in practice.\n",
    "\n",
    "## *Example*: Calculating a restaurant bill\n",
    "Let's see a collection of functions that work together to calculate a customer's food bill at a restaurant. The customer is presented the bill and then must decide on a tip percentage or amount. The GST is calculated, and then both the GST and the tip are added to the original bill amount."
   ]
  },
  {
   "cell_type": "code",
   "execution_count": 45,
   "metadata": {},
   "outputs": [],
   "source": [
    "def add_rate(amount, rate):\n",
    "    \"\"\" Helper function that returns amount*(1 + rate) \"\"\"\n",
    "    \n",
    "    return amount*(1 + rate)\n",
    "\n",
    "def GST(amount, rate = 0.05):\n",
    "    \"\"\" Calculate GST to add to bill. \"\"\"\n",
    "    if amount < 0:\n",
    "        raise ValueError('{} should be non-negative.'.format(amount))\n",
    "        \n",
    "    return add_rate(amount, rate)\n",
    "\n",
    "def tip(amount, tip_percent = 0.15):\n",
    "    \"\"\" Calculate the amount with a tip added. \"\"\"\n",
    "    \n",
    "    if amount < 0:\n",
    "        raise ValueError('{} should be non-negative.'.format(amount))\n",
    "        \n",
    "    return add_rate(amount, tip_percent)"
   ]
  },
  {
   "cell_type": "markdown",
   "metadata": {},
   "source": [
    "We'll call these functions inside a `bill()` function and calculate the total bill for a restaurant purchase."
   ]
  },
  {
   "cell_type": "code",
   "execution_count": 46,
   "metadata": {},
   "outputs": [],
   "source": [
    "def bill():\n",
    "    \"\"\" Restaurant Bill Calculator. \"\"\"\n",
    "    \n",
    "    print('Thank you for eating at the Python Cafe.\\n')\n",
    "    \n",
    "    # Get the before-tax bill.\n",
    "    bill = float(input('Please input bill amount: '))\n",
    "    \n",
    "    tip_rate = -1\n",
    "    \n",
    "    while tip_rate < 0:\n",
    "        tip_rate = float(input('Please input tip %: '))\n",
    "    \n",
    "    # Adjust if the customer puts in decimal or integer tip percentage.\n",
    "    if tip_rate % 100 >= 1:\n",
    "        tip_rate /= 100\n",
    "    \n",
    "    total = GST(bill)\n",
    "    total = tip(total, tip_rate)\n",
    "    \n",
    "    print('Your total today is ${:.2f}.'.format(total))\n",
    "    return total"
   ]
  },
  {
   "cell_type": "code",
   "execution_count": 47,
   "metadata": {
    "scrolled": true
   },
   "outputs": [
    {
     "name": "stdout",
     "output_type": "stream",
     "text": [
      "Thank you for eating at the Python Cafe.\n",
      "\n",
      "Please input bill amount: 12\n",
      "Please input tip %: 42\n",
      "Your total today is $17.89.\n"
     ]
    },
    {
     "data": {
      "text/plain": [
       "17.892"
      ]
     },
     "execution_count": 47,
     "metadata": {},
     "output_type": "execute_result"
    }
   ],
   "source": [
    "bill()"
   ]
  },
  {
   "cell_type": "code",
   "execution_count": 48,
   "metadata": {},
   "outputs": [],
   "source": [
    "import module1"
   ]
  },
  {
   "cell_type": "code",
   "execution_count": 49,
   "metadata": {},
   "outputs": [
    {
     "data": {
      "text/plain": [
       "['__name__',\n",
       " '__doc__',\n",
       " '__package__',\n",
       " '__loader__',\n",
       " '__spec__',\n",
       " '__file__',\n",
       " '__cached__',\n",
       " '__builtins__',\n",
       " 'add_rate1',\n",
       " 'GST1',\n",
       " 'tip1',\n",
       " 'bill1']"
      ]
     },
     "execution_count": 49,
     "metadata": {},
     "output_type": "execute_result"
    }
   ],
   "source": [
    "module1.__dir__()"
   ]
  },
  {
   "cell_type": "code",
   "execution_count": 50,
   "metadata": {},
   "outputs": [
    {
     "name": "stdout",
     "output_type": "stream",
     "text": [
      "Thank you for eating at the Python Cafe.\n",
      "\n",
      "Please input bill amount: 72\n",
      "Please input tip %: 101\n"
     ]
    },
    {
     "ename": "NameError",
     "evalue": "name 'GST' is not defined",
     "output_type": "error",
     "traceback": [
      "\u001b[1;31m---------------------------------------------------------------------------\u001b[0m",
      "\u001b[1;31mNameError\u001b[0m                                 Traceback (most recent call last)",
      "\u001b[1;32m<ipython-input-50-5b32557ef05b>\u001b[0m in \u001b[0;36m<module>\u001b[1;34m\u001b[0m\n\u001b[1;32m----> 1\u001b[1;33m \u001b[0mmodule1\u001b[0m\u001b[1;33m.\u001b[0m\u001b[0mbill1\u001b[0m\u001b[1;33m(\u001b[0m\u001b[1;33m)\u001b[0m\u001b[1;33m\u001b[0m\u001b[1;33m\u001b[0m\u001b[0m\n\u001b[0m",
      "\u001b[1;32m~\\OneDrive - University of Calgary\\ICT 781\\Spring 2020 - 006\\notes\\module1.py\u001b[0m in \u001b[0;36mbill1\u001b[1;34m()\u001b[0m\n\u001b[0;32m     36\u001b[0m         \u001b[0mtip_rate\u001b[0m \u001b[1;33m/=\u001b[0m \u001b[1;36m100\u001b[0m\u001b[1;33m\u001b[0m\u001b[1;33m\u001b[0m\u001b[0m\n\u001b[0;32m     37\u001b[0m \u001b[1;33m\u001b[0m\u001b[0m\n\u001b[1;32m---> 38\u001b[1;33m     \u001b[0mtotal\u001b[0m \u001b[1;33m=\u001b[0m \u001b[0mGST\u001b[0m\u001b[1;33m(\u001b[0m\u001b[0mbill\u001b[0m\u001b[1;33m)\u001b[0m\u001b[1;33m\u001b[0m\u001b[1;33m\u001b[0m\u001b[0m\n\u001b[0m\u001b[0;32m     39\u001b[0m     \u001b[0mtotal\u001b[0m \u001b[1;33m=\u001b[0m \u001b[0mtip\u001b[0m\u001b[1;33m(\u001b[0m\u001b[0mtotal\u001b[0m\u001b[1;33m,\u001b[0m \u001b[0mtip_rate\u001b[0m\u001b[1;33m)\u001b[0m\u001b[1;33m\u001b[0m\u001b[1;33m\u001b[0m\u001b[0m\n\u001b[0;32m     40\u001b[0m \u001b[1;33m\u001b[0m\u001b[0m\n",
      "\u001b[1;31mNameError\u001b[0m: name 'GST' is not defined"
     ]
    }
   ],
   "source": [
    "module1.bill1()"
   ]
  },
  {
   "cell_type": "markdown",
   "metadata": {},
   "source": [
    "# Catching Exceptions\n",
    "\n",
    "You probably noticed that the last example used some new Python syntax: `raise`. This are used to check inputs, and will be covered in more detail when we talk about testing. However, since it is so useful, let's talk about it now.\n",
    "\n",
    "Suppose that you have a function that works really well *as long as the user puts in the right arguments*. This last part is key. Users will throw all kinds of invalid arguments into your functions and 'break' your code. While we would like to blame the user for improper use of the code or not reading the documentation, part of the responsibility lies with the programmer. \n",
    "\n",
    "You can use exceptions to mitigate some of the code breakage that happens in regular use. Here is an example of using an exception to ensure that only integers are accepted as inputs."
   ]
  },
  {
   "cell_type": "code",
   "execution_count": null,
   "metadata": {},
   "outputs": [],
   "source": [
    "absolute_value('False')"
   ]
  },
  {
   "cell_type": "markdown",
   "metadata": {},
   "source": [
    "## *Example:* The factorial function\n",
    "The factorial function is defined as $n! = n(n-1)(n-2)\\cdots 2\\cdot 1$. **Note:** $0! = 1$."
   ]
  },
  {
   "cell_type": "code",
   "execution_count": null,
   "metadata": {},
   "outputs": [],
   "source": [
    "def factorial(n):\n",
    "    \"\"\" The factorial function. \"\"\"\n",
    "    \n",
    "    # Convert to integer if the input is a float.\n",
    "    if type(n) is type(0.5):\n",
    "        n = int(n)\n",
    "    \n",
    "    # Only accept positive integers.\n",
    "    if type(n) is not type(1) or n <= 0:\n",
    "        raise ValueError('Only positive integer inputs are accepted.')\n",
    "    \n",
    "    total = 1\n",
    "    for i in range(1,n+1):\n",
    "        total *= i\n",
    "        \n",
    "    return total\n",
    "    \n",
    "print(factorial(6))\n",
    "print(factorial(-1))"
   ]
  },
  {
   "cell_type": "code",
   "execution_count": null,
   "metadata": {},
   "outputs": [],
   "source": [
    "# The 'raise' command is required to raise a ValueError.\n",
    "\n",
    "if True:\n",
    "    ValueError('Can you')"
   ]
  },
  {
   "cell_type": "markdown",
   "metadata": {},
   "source": [
    "## `try` and `except`\n",
    "\n",
    "You can also use `try` and `except` to throw exceptions."
   ]
  },
  {
   "cell_type": "code",
   "execution_count": null,
   "metadata": {},
   "outputs": [],
   "source": [
    "try:\n",
    "    # Write the code you want to try.\n",
    "    import TheanoLM\n",
    "except:\n",
    "    # Write what happens if an exception is raised.\n",
    "    print('You need to read the documentation!')\n",
    "    raise    # raise *any* exceptions that occurred."
   ]
  },
  {
   "cell_type": "code",
   "execution_count": null,
   "metadata": {},
   "outputs": [],
   "source": [
    "def factorial(n):\n",
    "    \"\"\" The factorial function. \"\"\"\n",
    "    try:\n",
    "        # Only accept positive integers.\n",
    "        if n <= 0:\n",
    "            raise ValueError('Only positive integer inputs are accepted.')\n",
    "\n",
    "        total = 1\n",
    "        for i in range(1,n+1):    # An exception will be raised if n is a float!\n",
    "            total *= i\n",
    "\n",
    "        return total\n",
    "    except:\n",
    "        # What to do if *any* exceptions occur.\n",
    "        raise    # raise the exception (we don't have to specify our own, but we can if we want).\n",
    "    \n",
    "print(factorial(5.0))"
   ]
  },
  {
   "cell_type": "code",
   "execution_count": null,
   "metadata": {},
   "outputs": [],
   "source": [
    "while True:\n",
    "    try:\n",
    "        amount = input('Please give me input: ')\n",
    "        \n",
    "        for i in range(amount):\n",
    "            print('Hi')\n",
    "            \n",
    "        break\n",
    "    except:\n",
    "        continue"
   ]
  },
  {
   "cell_type": "markdown",
   "metadata": {},
   "source": [
    "# Lambda Functions (Anonymous Functions)\n",
    "\n",
    "Sometimes you just want to calculate something one time on the fly, and you don't want to dedicate a new function declaration to the task. For this, you can use a **Lambda function**. These functions are known as *anonymous*, meaning they aren't given a particular name. They can return values, and can be assigned to any variable.\n",
    "\n",
    "Here is an example of a Lambda function."
   ]
  },
  {
   "cell_type": "code",
   "execution_count": null,
   "metadata": {},
   "outputs": [],
   "source": [
    "# I want to make a quick function that squares an integer, but I don't want to declare a new function.\n",
    "\n",
    "y = -12\n",
    "f = lambda x : x**2\n",
    "\n",
    "print(f(y))"
   ]
  },
  {
   "cell_type": "markdown",
   "metadata": {},
   "source": [
    "The syntax for a `lambda` function is \n",
    "```\n",
    "lambda <argument> : <desired output>\n",
    "``` \n",
    "\n",
    "These functions are often used as arguments for other functions, for example when you don't want to write a function to accomplish some simple task.\n",
    "\n",
    "We will try to use `lambda` functions to accomplish simple tasks, such as plotting a function in the `Matplotlib` example below."
   ]
  },
  {
   "cell_type": "markdown",
   "metadata": {},
   "source": [
    "# Documenting Functions\n",
    "\n",
    "When we talked about comments, we mentioned **docstrings**. These are the comments that appear immediately after the function declaration statement."
   ]
  },
  {
   "cell_type": "code",
   "execution_count": null,
   "metadata": {},
   "outputs": [],
   "source": [
    "def myFunction():\n",
    "    \"\"\" These are the docstrings. \"\"\"\n",
    "    pass"
   ]
  },
  {
   "cell_type": "markdown",
   "metadata": {},
   "source": [
    "Within the docstrings, you let the programmer know what your function is called, what its arguments are, and what the function does. "
   ]
  },
  {
   "cell_type": "code",
   "execution_count": null,
   "metadata": {
    "scrolled": true
   },
   "outputs": [],
   "source": [
    "def investmentValue(initial, rate, freq, time):\n",
    "    \"\"\" Future Investment Value Function. \n",
    "        \n",
    "        The user inputs the initial value of an\n",
    "        investment, the interest rate, compounding\n",
    "        frequency, and the total investment time. \n",
    "        The future value of the investment\n",
    "        is returned.\n",
    "        \n",
    "        Input:\n",
    "        ------\n",
    "        initial := initial value of the investment\n",
    "        rate    := interest rate\n",
    "        freq    := compounding frequency; eg) if compounded quarterly, use n = 4\n",
    "        time    := total time of the investment (in years)\n",
    "        \n",
    "        Output:\n",
    "        -------\n",
    "        future_value := future value of the investment\n",
    "    \"\"\"\n",
    "    \n",
    "    future_value = initial*(1 + rate/freq)**(freq*time)\n",
    "    return future_value\n",
    "\n",
    "print('The value of a $10000 investment compounded quarterly\\nat 2.5% for 12 years is ${:.2f}.'.format(investmentValue(10000, 0.025, 4, 12)))"
   ]
  },
  {
   "cell_type": "markdown",
   "metadata": {},
   "source": [
    "The above function doesn't do much, but it is properly documented. The docstrings let the programmer know what's going on, and can be accessed *without seeing the function code* by calling `help(<function name>)`."
   ]
  },
  {
   "cell_type": "code",
   "execution_count": null,
   "metadata": {},
   "outputs": [],
   "source": [
    "help(investmentValue)"
   ]
  },
  {
   "cell_type": "markdown",
   "metadata": {},
   "source": [
    "# Some Extremely Useful External Packages/Modules\n",
    "\n",
    "We've seen glimpses of external packages and modules in this course. We briefly used the `math` module to calculate `sin` and `cos`. We used `random` to get a random number in Assignment 1. There are thousands of programmer-defined packages available to Python users. Let's discuss some of the most commonly used.\n",
    "\n",
    "## NumPy\n",
    "\n",
    "The name stands for Numerical Python, and NumPy is the defacto Python standard for numerical calculations in many STEM fields. This package is built around some very fast numerical linear algebra solvers that were first developed in the 1970s in Fortran and C. NumPy can handle matrix algebra, trigonometry and logarithms, complex numbers, basic statistics, and special functions such as the gamma function.\n",
    "\n",
    "You can import the package with a single command."
   ]
  },
  {
   "cell_type": "code",
   "execution_count": null,
   "metadata": {
    "scrolled": false
   },
   "outputs": [],
   "source": [
    "import numpy as np\n",
    "\n",
    "# Let's see what is contained in NumPy.\n",
    "print(np.__dir__())"
   ]
  },
  {
   "cell_type": "code",
   "execution_count": null,
   "metadata": {},
   "outputs": [],
   "source": [
    "help(np.hanning)"
   ]
  },
  {
   "cell_type": "markdown",
   "metadata": {},
   "source": [
    "## MatPlotlib.pyplot\n",
    "\n",
    "This is the fundamental plotting library for Python. In the next example, we'll plot some mathematical functions. I realize that not everybody is interested in plotting mathematical functions, but you may be surprised at how useful this package is for many other tasks.\n",
    "\n",
    "In addition, MatPlotlib works beautifully with NumPy. Here's an example of plotting some simple functions."
   ]
  },
  {
   "cell_type": "code",
   "execution_count": null,
   "metadata": {},
   "outputs": [],
   "source": [
    "%matplotlib inline\n",
    "# The previous command is just so the plots display in this Jupyter notebook.\n",
    "\n",
    "import matplotlib.pyplot as plt\n",
    "\n",
    "# Create 301 evenly spaced points between 0 and 2pi.\n",
    "x = np.linspace(0, 2*np.pi, 301)\n",
    "\n",
    "# Functions to plot.\n",
    "f1 = np.sin(x)\n",
    "f2 = np.cos(x)\n",
    "f3 = np.cos(2*x)\n",
    "\n",
    "# Plot all functions on the same axes.\n",
    "# Set axis limits [x_min, x_max, y_min, y_max]\n",
    "plt.xlim(0,2*np.pi)\n",
    "plt.ylim(-1,1)\n",
    "\n",
    "# Plot the functions in different colors. 'r' = red, 'b' = blue, 'k' = black.\n",
    "plt.plot(x, f1, 'r', x, f2, 'b', x, f3, 'k');"
   ]
  },
  {
   "cell_type": "code",
   "execution_count": null,
   "metadata": {
    "scrolled": false
   },
   "outputs": [],
   "source": [
    "# Set plot options.\n",
    "fig = plt.figure(figsize=(10,10))\n",
    "fig.subplots_adjust(hspace=1, wspace=1)\n",
    "\n",
    "\"\"\" Create 3 subplots. \n",
    "    First argument := number of rows in grid\n",
    "    Second argument := number of columns in grid\n",
    "    Third argument := position of current subplot (positions are labelled left to right, top to bottom)\n",
    "    \n",
    "\"\"\"\n",
    "\n",
    "plt.subplot(3,1,1)\n",
    "plt.title('Sine Function')\n",
    "plt.plot(x,f1);\n",
    "\n",
    "plt.subplot(3,1,2)\n",
    "plt.title('Cosine Function')\n",
    "plt.plot(x,f2);\n",
    "\n",
    "plt.subplot(3,1,3)\n",
    "plt.title('Cos(2x) Function')\n",
    "plt.plot(x,f3);"
   ]
  },
  {
   "cell_type": "code",
   "execution_count": null,
   "metadata": {},
   "outputs": [],
   "source": [
    "x = np.linspace(0, 5, 500)\n",
    "\n",
    "f = lambda x: (x-3)**3\n",
    "\n",
    "plt.plot(x, f(x));"
   ]
  },
  {
   "cell_type": "markdown",
   "metadata": {},
   "source": [
    "You can also make histograms with MatPlotlib and NumPy."
   ]
  },
  {
   "cell_type": "code",
   "execution_count": null,
   "metadata": {
    "scrolled": true
   },
   "outputs": [],
   "source": [
    "import numpy as np\n",
    "import matplotlib.pyplot as plt\n",
    "\n",
    "# Fixing random state for reproducibility\n",
    "np.random.seed(19680801)\n",
    "\n",
    "mu, sigma = 100, 15\n",
    "X = mu + sigma * np.random.randn(10000)\n",
    "\n",
    "# the histogram of the data\n",
    "n, bins, patches = plt.hist(X, 50, density=1, facecolor='g', alpha=0.75)\n",
    "\n",
    "plt.xlabel('Smarts')\n",
    "plt.ylabel('Probability')\n",
    "plt.title('Histogram of IQ')\n",
    "plt.text(60, .025, r'$\\mu=100,\\ \\sigma=15$')\n",
    "plt.axis([40, 160, 0, 0.03])\n",
    "plt.grid(True);"
   ]
  },
  {
   "cell_type": "markdown",
   "metadata": {},
   "source": [
    "## *Example 4*: Random walk\n",
    "\n",
    "In this example, we'll calculate and plot a random walk in 2 dimensions. We'll store our data in a NumPy `array`, which is roughly equivalent to a `list` containing only one data type.\n",
    "\n",
    "In our random walk, we'll start a 'particle' at the point $t = 0, y = 0$, where $t$ will be eventually be plotted on the horizontal axis and $y$ will be plotted on the vertical axis. Each time we increase $t$, we will either move our particle up or down one unit with equal probability. After 500 steps, we'll plot the result."
   ]
  },
  {
   "cell_type": "code",
   "execution_count": null,
   "metadata": {},
   "outputs": [],
   "source": [
    "import random\n",
    "\n",
    "def move():\n",
    "    \"\"\" Return either +1 or -1 with equal probability. \"\"\"\n",
    "    \n",
    "    space = [1,-1]\n",
    "    \n",
    "    return random.choice(space)\n",
    "\n",
    "def plot_walk(walk):\n",
    "    \"\"\" Plots the path taken by a particle on a random walk. \"\"\"\n",
    "    \n",
    "    plt.plot(walk);\n",
    "    plt.xlabel('t')\n",
    "    plt.ylabel('y')\n",
    "    plt.title('Random walk of particle with $t$ = {}'.format(len(walk)))\n",
    "    plt.grid(True);\n",
    "    \n",
    "def random_walk(steps = 500):\n",
    "    \"\"\" Send a particle on a random walk with a total of 'steps' iterations. \"\"\"\n",
    "    \n",
    "    walk = np.zeros(steps)\n",
    "    \n",
    "    # Take the walk!\n",
    "    for t in range(1, steps):\n",
    "        walk[t] = walk[t-1] + move()\n",
    "    \n",
    "    plot_walk(walk)\n",
    "    \n",
    "    return None\n",
    "\n",
    "random_walk()"
   ]
  },
  {
   "cell_type": "markdown",
   "metadata": {},
   "source": [
    "## Installing Packages and the Python Packaging Index (PyPI)\n",
    "\n",
    "As mentioned above, there are thousands of available packages for all kinds of applications. You can find some of the best packages at the [Python Packaging Index](https://pypi.org). These packages can usually be installed from the terminal using the command `pip install <package-name> --user`. The `--user` option is used where you don't have administrative priviledges to install things.\n",
    "\n",
    "Here is an example of the output when we try to install NumPy."
   ]
  },
  {
   "cell_type": "code",
   "execution_count": null,
   "metadata": {},
   "outputs": [],
   "source": [
    "!pip install numpy --user"
   ]
  },
  {
   "cell_type": "markdown",
   "metadata": {},
   "source": [
    "We already knew that we had NumPy installed. Let's try another package."
   ]
  },
  {
   "cell_type": "code",
   "execution_count": null,
   "metadata": {
    "scrolled": false
   },
   "outputs": [],
   "source": [
    "!pip install TheanoLM --user"
   ]
  },
  {
   "cell_type": "markdown",
   "metadata": {},
   "source": [
    "## Installing Packages in Anaconda\n",
    "\n",
    "Using Anaconda makes this process even easier. Simply open the Anaconda Navigator and click on 'Environments'. This gives a list of installed packages, update-able packages, and packages not installed. If you want to install a package, you select it from the list of packages not installed and click 'Apply'."
   ]
  },
  {
   "cell_type": "markdown",
   "metadata": {},
   "source": [
    "## *Exercises*\n",
    "\n",
    "1. Write a function that takes in two arguments, a list and a value. Your function should return `True` if the value is in the list and `False` if not. Such functions are often called 'characteristic' or 'indicator' functions."
   ]
  },
  {
   "cell_type": "code",
   "execution_count": null,
   "metadata": {},
   "outputs": [],
   "source": [
    "# Your code here.\n",
    "def checkList(value_list, value):\n",
    "    return(value in value_list)"
   ]
  },
  {
   "cell_type": "code",
   "execution_count": null,
   "metadata": {},
   "outputs": [],
   "source": [
    "value_list = [1, 3, 6, 8, 4]\n",
    "print(checkList(value_list, 31))"
   ]
  },
  {
   "cell_type": "markdown",
   "metadata": {},
   "source": [
    "2. Write a function called `standardize` that takes in a dataset (as a list) and applies the standardization:\n",
    "\n",
    "$$\n",
    "    z_i = \\frac{(x_i - \\bar{x})}{\\sqrt{\\sigma}},\n",
    "$$\n",
    "where $x_i$ is an element of the dataset, $\\bar{x}$ is the mean of the dataset, and $\\sigma$ is the variance of the dataset. Return the $z_i$ values in a list. You can use the LWRATIO data from above."
   ]
  },
  {
   "cell_type": "code",
   "execution_count": null,
   "metadata": {},
   "outputs": [],
   "source": [
    "def standardize(value):\n",
    "    \n",
    "    xbar, variance = stats(value)\n",
    "    \n",
    "    z = [(xi-xbar)/variance**0.5 for xi in value]\n",
    "    \n",
    "    return z\n",
    "\n",
    "value = [2,3,4]\n",
    "print(standardize(value))"
   ]
  },
  {
   "cell_type": "markdown",
   "metadata": {},
   "source": [
    "3. Modify the 'Restaurant Bill Calculator' code above to allow the customer to specify if they want to apply the tip before or after the GST. You can also add an option for the customer to specify the tip as a percentage or as an amount."
   ]
  },
  {
   "cell_type": "code",
   "execution_count": null,
   "metadata": {},
   "outputs": [],
   "source": [
    "# Your code here\n"
   ]
  },
  {
   "cell_type": "markdown",
   "metadata": {},
   "source": [
    "4. Write a function to convert between Fahrenheit and Celsius temperatures. The formula for converting &deg;C to &deg;F is $T_F = T_C\\cdot \\frac{9}{5} + 32$. The formula to convert &deg;F to &deg;C is $T_C = (T_F - 32)\\cdot\\frac{5}{9}$."
   ]
  },
  {
   "cell_type": "code",
   "execution_count": null,
   "metadata": {},
   "outputs": [],
   "source": [
    "# Your code here.\n",
    "def temp_conv(temp,scale):\n",
    "    c2f = lambda t: t*9/5+32\n",
    "    f2c = lambda t: (t-32)*5/9\n",
    "    \n",
    "    if scale.upper() == 'F':\n",
    "        return f2c(temp)\n",
    "    else:\n",
    "        return c2f(temp)\n",
    "    \n",
    "print(temp_conv(212,'F'))\n",
    "print(temp_conv(0,'c'))"
   ]
  },
  {
   "cell_type": "markdown",
   "metadata": {},
   "source": [
    "5. Modify the *Random walk* example so that the particle moves up twice as often as it moves down."
   ]
  },
  {
   "cell_type": "code",
   "execution_count": 70,
   "metadata": {},
   "outputs": [
    {
     "data": {
      "image/png": "[encoded data removed]",
      "text/plain": [
       "<Figure size 432x288 with 1 Axes>"
      ]
     },
     "metadata": {
      "needs_background": "light"
     },
     "output_type": "display_data"
    }
   ],
   "source": [
    "import random\n",
    "\n",
    "random.seed(10)\n",
    "\n",
    "def move():\n",
    "    \"\"\" Return either +1 or -1 with equal probability. \"\"\"\n",
    "    \n",
    "    return 1 if random.random() < 0.5 else -1\n",
    "\n",
    "def plot_walk(x_walk, y_walk):\n",
    "    \"\"\" Plots the path taken by a particle on a random walk. \"\"\"\n",
    "    \n",
    "    plt.plot(x_walk, y_walk);\n",
    "    plt.xlabel('t')\n",
    "    plt.ylabel('y')\n",
    "    plt.title('Random walk of particle with $t$ = {}'.format(len(x_walk)))\n",
    "    plt.grid(True);\n",
    "    \n",
    "def random_walk(steps = 500):\n",
    "    \"\"\" Send a particle on a random walk with a total of 'steps' iterations. \"\"\"\n",
    "    \n",
    "    x_walk = np.zeros(steps)\n",
    "    y_walk = np.zeros(steps)\n",
    "    \n",
    "    # Take the walk!\n",
    "    for t in range(1, steps):\n",
    "        x_walk[t] = x_walk[t-1] + move()\n",
    "        y_walk[t] = y_walk[t-1] + move()\n",
    "        \n",
    "    \n",
    "    plot_walk(x_walk, y_walk)\n",
    "    \n",
    "    return None\n",
    "\n",
    "random_walk(5000)"
   ]
  },
  {
   "cell_type": "markdown",
   "metadata": {},
   "source": [
    "6. Collect all of the functions we've defined so far into a single `.py` document. Call the document `day4functions.py`. Save the file to the same folder as this notebook and import the module using the syntax `import day4functions`. Run all of the functions in the module."
   ]
  },
  {
   "cell_type": "code",
   "execution_count": null,
   "metadata": {},
   "outputs": [],
   "source": [
    "# Your code here.\n"
   ]
  }
 ],
 "metadata": {
  "kernelspec": {
   "display_name": "Python 3",
   "language": "python",
   "name": "python3"
  },
  "language_info": {
   "codemirror_mode": {
    "name": "ipython",
    "version": 3
   },
   "file_extension": ".py",
   "mimetype": "text/x-python",
   "name": "python",
   "nbconvert_exporter": "python",
   "pygments_lexer": "ipython3",
   "version": "3.7.1"
  }
 },
 "nbformat": 4,
 "nbformat_minor": 2
}
