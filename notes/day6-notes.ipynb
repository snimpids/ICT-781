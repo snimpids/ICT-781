{
 "cells": [
  {
   "cell_type": "markdown",
   "metadata": {},
   "source": [
    "# ICT 781 - Day 6: Review and File Input/Output\n",
    "\n",
    "This set of notes only introduces one new concept: file input and output. This also marks roughly the halfway point of the course. Therefore, we'll review some concepts before we move on with the new material."
   ]
  },
  {
   "cell_type": "markdown",
   "metadata": {},
   "source": [
    "# Core Python Concepts\n",
    "\n",
    "These skills can be considered the 'glue' that holds Python programs together. Mastering these skills doesn't come quickly, but will enable you to create extremely useful and powerful Python programs. These skills can be summarized as follows:\n",
    "\n",
    "* Understanding basic Python data types and arithmetic.\n",
    "* Conditional control.\n",
    "* Iteration through `for` loops and list comprehensions.\n",
    "* Using dictionaries to store data.\n",
    "* Writing functions in Python.\n",
    "* Proper commenting and documentation."
   ]
  },
  {
   "cell_type": "markdown",
   "metadata": {},
   "source": [
    "# Summary: Python Types and Control Statements \n",
    "\n",
    "* Arithmetic operators in Python are shown in the table below:\n",
    "\n",
    "|Key|Mathematical Operation in Python|\n",
    "|---|:--|\n",
    "|`*`|Multiplication|\n",
    "|`/`|Division|\n",
    "|`+`|Addition|\n",
    "|`-`|Subtraction|\n",
    "|`**`|Exponent|\n",
    "|`%`|Modulo|\n",
    "|`//`|Integer division (ignore the decimals)|\n",
    "\n",
    "* The `math` module may be imported for more complicated mathematical functions such as trigonometry.\n",
    "* Basic data types in Python are integers, strings, floats, and booleans.\n",
    "* A **statement** is any line of code that can be read by the interpreter.\n",
    "* An **expression** is a line of code that results in a value.\n",
    "* Some of Python's built-in functions are:\n",
    "\n",
    "|Python Function|Purpose|\n",
    "|---|---|\n",
    "|`print()`|Print out the argument|\n",
    "|`input()`|Query the user for input in the console and <br>either print it or assign it to a variable|\n",
    "|`int()`|Convert the argument to integer|\n",
    "|`float()`|Convert the argument to float|\n",
    "|`str()`|Convert the argument to string|\n",
    "|`round()`|Round the argument to the nearest integer|\n",
    "\n",
    "* Comments may be written in Python using the `#` symbol. Multi-line comments are written with either `\"\"\" \"\"\"` or `''' '''`.\n",
    "* The relational operators in Python are:\n",
    "\n",
    "|Operator|Name|Way it works|\n",
    "|---|---|---|\n",
    "|`>`|Greater than|Returns `True` if first operand is greater than the second operand|\n",
    "|`<`|Less than|Returns `True` if first operand is less than the second operand|\n",
    "|`>=`|Greater than or equal to|Returns `True` if first operand is greater than or equal to the second operand|\n",
    "|`<=`|Less than or equal to|Returns `True` if first operand is less than or equal to the second operand|\n",
    "|`==`|Equals|Returns `True` if both operands are equal|\n",
    "|`!=`|Not equal|Returns `True` if operands are not equal|\n",
    "\n",
    "* The logical operators in Python are `and`, `or`, `is`, and `is not`.\n",
    "* We control the flow of our programs with `if`, `elif` and `else`.\n",
    "\n",
    "### Exercise 1\n",
    "\n",
    "For this exercise, we will be coding the creation of the [Collatz sequence](https://en.wikipedia.org/wiki/Collatz_conjecture). To create the sequence, we begin with a positive integer. Subsequent terms in the Collatz sequence are defined by\n",
    "$$\n",
    "    a_n := \\begin{cases} \\frac{n}{2}, & \\text{ if } n \\% 2 \\equiv 0 \\\\ 3n+1, &\\text{ if } n \\% 2 \\equiv 1 \\end{cases}\n",
    "$$\n",
    "\n",
    "The sequence ends when it reaches 1. Write code in Python to find the Collatz sequence for an input integer. Make sure that the input integer is positive (and greater than 1)."
   ]
  },
  {
   "cell_type": "code",
   "execution_count": 19,
   "metadata": {},
   "outputs": [],
   "source": [
    "# Your Collatz sequence code here.\n",
    "\n",
    "def collatz(n):\n",
    "    \"\"\"Prints the Collatz sequence for a positive integer n.\n",
    "    \n",
    "    Examples:\n",
    "    >>> collatz(5)\n",
    "    5\n",
    "    16\n",
    "    8\n",
    "    4\n",
    "    2\n",
    "    1\n",
    "    \n",
    "    >>> collatz(9)\n",
    "    9\n",
    "    28\n",
    "    14\n",
    "    7\n",
    "    22\n",
    "    11\n",
    "    34\n",
    "    17\n",
    "    52\n",
    "    26\n",
    "    13\n",
    "    40\n",
    "    20\n",
    "    10\n",
    "    5\n",
    "    16\n",
    "    8\n",
    "    4\n",
    "    2\n",
    "    1\n",
    "    \"\"\"\n",
    "    \n",
    "    if type(n) is not type(1):\n",
    "        raise TypeError('Problem in chair, not in computer')\n",
    "    \n",
    "    current = n\n",
    "    \n",
    "    print(current)\n",
    "    \n",
    "    while current > 1:\n",
    "        if current % 2 == 0:\n",
    "            current //= 2\n",
    "        elif current % 2 == 1:\n",
    "            current = 3*current + 1\n",
    "        print(current)"
   ]
  },
  {
   "cell_type": "markdown",
   "metadata": {},
   "source": [
    "### Exercise 2\n",
    "\n",
    "Without using built-in functions, write a function that finds the minimum and maximum of a given list of numbers."
   ]
  },
  {
   "cell_type": "code",
   "execution_count": 31,
   "metadata": {},
   "outputs": [
    {
     "data": {
      "text/plain": [
       "('hello', 'yo')"
      ]
     },
     "execution_count": 31,
     "metadata": {},
     "output_type": "execute_result"
    }
   ],
   "source": [
    "def find_extremes(num_list):\n",
    "    \"\"\" Return the min and max of the passed list\n",
    "        \n",
    "    Examples:\n",
    "    >>> find_extremes([3,0,10,5,6,2])\n",
    "    (0, 10)\n",
    "    \"\"\"\n",
    "    for x in range(len(num_list)-1):\n",
    "        for y in range(x + 1, len(num_list)):\n",
    "            if num_list[x] > num_list[y]:\n",
    "                num_list[x], num_list[y] = num_list[y], num_list[x]\n",
    "    return num_list[0], num_list[len(num_list)-1]\n",
    "\n",
    "find_extremes(['hi','hello','whats up','wut up','hey','saladations','yo'])"
   ]
  },
  {
   "cell_type": "code",
   "execution_count": 28,
   "metadata": {},
   "outputs": [
    {
     "name": "stdout",
     "output_type": "stream",
     "text": [
      "Trying:\n",
      "    collatz(5)\n",
      "Expecting:\n",
      "    5\n",
      "    16\n",
      "    8\n",
      "    4\n",
      "    2\n",
      "    1\n",
      "ok\n",
      "Trying:\n",
      "    collatz(9)\n",
      "Expecting:\n",
      "    9\n",
      "    28\n",
      "    14\n",
      "    7\n",
      "    22\n",
      "    11\n",
      "    34\n",
      "    17\n",
      "    52\n",
      "    26\n",
      "    13\n",
      "    40\n",
      "    20\n",
      "    10\n",
      "    5\n",
      "    16\n",
      "    8\n",
      "    4\n",
      "    2\n",
      "    1\n",
      "ok\n",
      "Trying:\n",
      "    find_extremes([3,0,10,5,6,2])\n",
      "Expecting:\n",
      "    (0, 10)\n",
      "ok\n",
      "1 items had no tests:\n",
      "    __main__\n",
      "2 items passed all tests:\n",
      "   2 tests in __main__.collatz\n",
      "   1 tests in __main__.find_extremes\n",
      "3 tests in 3 items.\n",
      "3 passed and 0 failed.\n",
      "Test passed.\n"
     ]
    },
    {
     "data": {
      "text/plain": [
       "TestResults(failed=0, attempted=3)"
      ]
     },
     "execution_count": 28,
     "metadata": {},
     "output_type": "execute_result"
    }
   ],
   "source": [
    "doctest.testmod(verbose = True)"
   ]
  },
  {
   "cell_type": "markdown",
   "metadata": {},
   "source": [
    "### Exercise 3\n",
    "\n",
    "Suppose that you love building with blocks, but you only like laying out your buildings with square bases. Rectangles just don't cut it. Write a function that takes in a positive integer and checks if it is a square. For example, 5 is not a square, but 9 is."
   ]
  },
  {
   "cell_type": "code",
   "execution_count": 41,
   "metadata": {},
   "outputs": [],
   "source": [
    "def check_square(n):\n",
    "    \"\"\" Take in a positive integer and check if it is square. \n",
    "    \n",
    "        Examples:\n",
    "        >>> check_square(21)\n",
    "        False\n",
    "        \n",
    "        >>> check_square(25)\n",
    "        True\n",
    "    \"\"\"\n",
    "    \n",
    "    return not n**0.5 % 1"
   ]
  },
  {
   "cell_type": "code",
   "execution_count": 47,
   "metadata": {},
   "outputs": [],
   "source": [
    "def check_square1(n):\n",
    "    \"\"\" Take in a positive integer and check if it is square. \n",
    "    \n",
    "        (Doing this more explicitly than above)\n",
    "    \n",
    "        Examples:\n",
    "        >>> check_square1(21)\n",
    "        False\n",
    "        \n",
    "        >>> check_square1(25)\n",
    "        True\n",
    "    \"\"\"\n",
    "    \n",
    "    if n**0.5 % 1 != 0:\n",
    "        return False\n",
    "    elif n**0.5 % 1 == 0:\n",
    "        return True"
   ]
  },
  {
   "cell_type": "markdown",
   "metadata": {},
   "source": [
    "**Note:** The square root of a number $\\sqrt{n}$ can also be written as $n^{0.5}$."
   ]
  },
  {
   "cell_type": "code",
   "execution_count": 48,
   "metadata": {},
   "outputs": [
    {
     "name": "stdout",
     "output_type": "stream",
     "text": [
      "Trying:\n",
      "    check_square(21)\n",
      "Expecting:\n",
      "    False\n",
      "ok\n",
      "Trying:\n",
      "    check_square(25)\n",
      "Expecting:\n",
      "    True\n",
      "ok\n",
      "Trying:\n",
      "    check_square1(21)\n",
      "Expecting:\n",
      "    False\n",
      "ok\n",
      "Trying:\n",
      "    check_square1(25)\n",
      "Expecting:\n",
      "    True\n",
      "ok\n",
      "Trying:\n",
      "    collatz(5)\n",
      "Expecting:\n",
      "    5\n",
      "    16\n",
      "    8\n",
      "    4\n",
      "    2\n",
      "    1\n",
      "ok\n",
      "Trying:\n",
      "    collatz(9)\n",
      "Expecting:\n",
      "    9\n",
      "    28\n",
      "    14\n",
      "    7\n",
      "    22\n",
      "    11\n",
      "    34\n",
      "    17\n",
      "    52\n",
      "    26\n",
      "    13\n",
      "    40\n",
      "    20\n",
      "    10\n",
      "    5\n",
      "    16\n",
      "    8\n",
      "    4\n",
      "    2\n",
      "    1\n",
      "ok\n",
      "Trying:\n",
      "    find_extremes([3,0,10,5,6,2])\n",
      "Expecting:\n",
      "    (0, 10)\n",
      "ok\n",
      "1 items had no tests:\n",
      "    __main__\n",
      "4 items passed all tests:\n",
      "   2 tests in __main__.check_square\n",
      "   2 tests in __main__.check_square1\n",
      "   2 tests in __main__.collatz\n",
      "   1 tests in __main__.find_extremes\n",
      "7 tests in 5 items.\n",
      "7 passed and 0 failed.\n",
      "Test passed.\n"
     ]
    },
    {
     "data": {
      "text/plain": [
       "TestResults(failed=0, attempted=7)"
      ]
     },
     "execution_count": 48,
     "metadata": {},
     "output_type": "execute_result"
    }
   ],
   "source": [
    "doctest.testmod(verbose = True)"
   ]
  },
  {
   "cell_type": "code",
   "execution_count": 35,
   "metadata": {},
   "outputs": [
    {
     "data": {
      "text/plain": [
       "0.0"
      ]
     },
     "execution_count": 35,
     "metadata": {},
     "output_type": "execute_result"
    }
   ],
   "source": [
    "25**0.5 % 1"
   ]
  },
  {
   "cell_type": "code",
   "execution_count": 36,
   "metadata": {},
   "outputs": [
    {
     "data": {
      "text/plain": [
       "0.0"
      ]
     },
     "execution_count": 36,
     "metadata": {},
     "output_type": "execute_result"
    }
   ],
   "source": [
    "9**0.5 % 1 "
   ]
  },
  {
   "cell_type": "code",
   "execution_count": 40,
   "metadata": {},
   "outputs": [
    {
     "data": {
      "text/plain": [
       "0.6457513110645907"
      ]
     },
     "execution_count": 40,
     "metadata": {},
     "output_type": "execute_result"
    }
   ],
   "source": [
    "7**0.5 % 1"
   ]
  },
  {
   "cell_type": "code",
   "execution_count": 32,
   "metadata": {},
   "outputs": [
    {
     "data": {
      "text/plain": [
       "3.0"
      ]
     },
     "execution_count": 32,
     "metadata": {},
     "output_type": "execute_result"
    }
   ],
   "source": [
    "9**0.5"
   ]
  },
  {
   "cell_type": "markdown",
   "metadata": {},
   "source": [
    "# Summary: Iterating and Functions in Python \n",
    "\n",
    "* `while` loops are used when we need to iterate an unknown number of times.\n",
    "* `for` loops are used when we need to iterate a known number of times.\n",
    "* Lists, tuples, and dictionaries are containers for any Python data types.\n",
    "* Lists and dictionaries are **mutable**; tuples are **immutable**.\n",
    "* Some list methods are:\n",
    "\n",
    "|Method|Description|\n",
    "|------|-----------|\n",
    "|`.append(<item>)`|Appends the item to the end of the list|\n",
    "|`.remove(<item name>)`|Removes a list element by name|\n",
    "|`.pop(<index>)`|Removes a list element by index|\n",
    "\n",
    "* Some useful built-in functions for lists are:\n",
    "\n",
    "|Function|Description|\n",
    "|--------|-----------|\n",
    "|`len(<list>)`|Gives the length (number of elements) of a list|\n",
    "|`sorted(<list>)`|Sorts the list elements in descending order; use the `reverse = True` argument for ascending order|\n",
    "|`sum(<list>)`|Adds up all list elements|\n",
    "\n",
    "* Some useful dictionary methods are:\n",
    "\n",
    "|Method|Use|\n",
    "|---|---|\n",
    "|`.keys()`|Access all keys in the dictionary|\n",
    "|`.values()`|Access all values in the dictionary|\n",
    "|`.items()`|Access all key/value pairs in the dictionary as a list of tuples|\n",
    "|`.get(<key>)`|Access the value of the key in the argument|\n",
    "\n",
    "* List comprehensions are used to perform calculations on an entire list, or to create new lists.\n",
    "* Dictionary comprehensions are used to create new dictionaries.\n",
    "* The `zip()` function creates a list of tuples from two or more lists.\n",
    "* The `enumerate()` function creates a numbered list of tuples from a list.\n",
    "* Functions are declared in Python using the `def <func_name>(<arguments>):` syntax.\n",
    "* Functions can return any Python data type.\n",
    "* Use functions for computing repetitive tasks.\n",
    "* `docstrings` are indispensable for describing functions, providing examples, and offering help to the developer/user.\n",
    "* Avoid re-inventing the wheel by using Python's built-in functions or packages listed on PyPI.\n",
    "* Catch exceptions (errors) by using `try`/`except` blocks.\n",
    "* Recursive functions are functions that call themselves.\n",
    "* Define arbitrary inputs for functions using `*args` and `**kwargs`.\n",
    "* A **module** is a collection of Python variables and functions. Module scripts are called from other Python scripts."
   ]
  },
  {
   "cell_type": "markdown",
   "metadata": {},
   "source": [
    "### Exercise 4\n",
    "\n",
    "A polygon is a 2-dimensional geometric shape formed by connecting vertices (points) with edges. Polygons can be represented by their vertices. For example, the square with area of 1 unit can be represented by the set of vertices $\\{(0,0), (0,1), (1,0), (1,1) \\}$. The distance between any two vertices $v_1 = (x_1, y_1)$ and $v_2 = (x_2, y_2)$ is given by\n",
    "$$\n",
    "    d(v_1, v_2) = \\sqrt{(x_1-x_2)^2 + (y_1-y_2)^2}.\n",
    "$$\n",
    "\n",
    "Write a program that takes in a list of tuples of vertices and returns the largest and the smallest distance between any two points. \n",
    "\n",
    "**Optional:** Plot the polygon."
   ]
  },
  {
   "cell_type": "code",
   "execution_count": 124,
   "metadata": {},
   "outputs": [],
   "source": [
    "import numpy as np\n",
    "\n",
    "def minmax_distance(vertices):\n",
    "    \"\"\" Take in a list of vertices (list of tuples) \n",
    "        and return the largest and smallest pairwise\n",
    "        distances.\n",
    "        \n",
    "        Examples:\n",
    "        >>> minmax_distance([(0, 1), (0, 0), (0, 0)])\n",
    "        (1, 0)\n",
    "    \n",
    "    \"\"\"\n",
    "    \n",
    "    def distance(point1, point2):\n",
    "        \"\"\" Find the distance between 2 points,\n",
    "            each point is given by a tuple.\n",
    "\n",
    "            Examples:\n",
    "            >>> distance((1, 1), (1, 2))\n",
    "            1.0\n",
    "\n",
    "        \"\"\"\n",
    "\n",
    "        return ((point1[0] - point2[0])**2 + (point1[1] - point2[1])**2)**0.5\n",
    "    \n",
    "    import itertools\n",
    "    \n",
    "    indices = list(itertools.product( list(range(len(vertices))), list(range(len(vertices))) ))\n",
    "    \n",
    "    distances = [distance(vertices[i], vertices[j]) for (i, j) in indices if i < j]\n",
    "    \n",
    "    return np.max(distances), np.min(distances)\n",
    "            \n",
    "    \n",
    "    # How to store the distances? \n",
    "    # Like this? [d(0,0), d(0,1), d(0,2),...,d(0,n),d(1,0),d(1,1),d(1,2),...,d(1,n),...,d(n,0),d(n,1),...,d(n,n)]"
   ]
  },
  {
   "cell_type": "markdown",
   "metadata": {},
   "source": [
    "### Exercise 5\n",
    "\n",
    "Create general input checking functions for the following tasks:\n",
    "<ul>\n",
    "    <li> Check that the input is a positive integer. </li>\n",
    "    <li> Check that the input is a list. </li>\n",
    "    <li> Check that the input is between some specified bounds (the bounds should also be inputs to the checking function). </li>\n",
    "    <li> Check that the input is a string. </li>\n",
    "</ul>\n",
    "\n",
    "You can choose to allow user input to the checking functions, or you can create the checking functions as if they will be used inside other functions.\n",
    "\n",
    "Put all of the checking functions into a module called `checking.py`."
   ]
  },
  {
   "cell_type": "code",
   "execution_count": null,
   "metadata": {},
   "outputs": [],
   "source": []
  },
  {
   "cell_type": "markdown",
   "metadata": {},
   "source": [
    "### Exercise 6\n",
    "\n",
    "This problem is taken from [Project Euler, problem 6](https://projecteuler.net/problem=6), which compares the sum of the squares of the first $n$ natural numbers\n",
    "$$\n",
    "    1^2 + 2^2 + 3^2 + \\cdots + n^2 = S\n",
    "$$\n",
    "with the square of the sum of the same numbers\n",
    "$$\n",
    "    (1 + 2 + 3 + \\cdots + n)^2 = T.\n",
    "$$\n",
    "The difference between the sum of the squares and the square of the sum is then $T-S$.\n",
    "\n",
    "Write a function to compute the above difference."
   ]
  },
  {
   "cell_type": "code",
   "execution_count": null,
   "metadata": {},
   "outputs": [],
   "source": []
  },
  {
   "cell_type": "markdown",
   "metadata": {},
   "source": [
    "### Exercise 7\n",
    "\n",
    "Rewrite the following `for` loops as list comprehensions. **Hint:** You might need three list comprehensions for the last loop."
   ]
  },
  {
   "cell_type": "code",
   "execution_count": 49,
   "metadata": {},
   "outputs": [
    {
     "name": "stdout",
     "output_type": "stream",
     "text": [
      "['ELM', 'OAK', 'CEDAR', 'PINE', 'SPRUCE', 'BUTTERNUT', 'ASH', 'ASPEN', 'BASSWOOD']\n",
      "['ELM', 'OAK', 'CEDAR', 'PINE', 'SPRUCE', 'BUTTERNUT', 'ASH', 'ASPEN', 'BASSWOOD']\n"
     ]
    }
   ],
   "source": [
    "# Loop 1\n",
    "trees = ['elm','oak','cedar','pine','spruce','butternut','ash','aspen','basswood']\n",
    "caps_trees = []\n",
    "\n",
    "for tree in trees:\n",
    "    caps_trees.append(tree.upper())\n",
    "    \n",
    "caps_trees1 = [tree.upper() for tree in trees]\n",
    "\n",
    "print(caps_trees)\n",
    "print(caps_trees1)"
   ]
  },
  {
   "cell_type": "code",
   "execution_count": 50,
   "metadata": {},
   "outputs": [
    {
     "name": "stdout",
     "output_type": "stream",
     "text": [
      "[1.0, 0.25, 0.1111111111111111, 0.0625, 0.04, 0.027777777777777776, 0.02040816326530612, 0.015625, 0.012345679012345678, 0.01, 0.008264462809917356, 0.006944444444444444, 0.005917159763313609, 0.00510204081632653, 0.0044444444444444444, 0.00390625, 0.0034602076124567475, 0.0030864197530864196, 0.002770083102493075, 0.0025, 0.0022675736961451248, 0.002066115702479339, 0.001890359168241966, 0.001736111111111111, 0.0016, 0.0014792899408284023, 0.0013717421124828531, 0.0012755102040816326, 0.0011890606420927466]\n",
      "[1.0, 0.25, 0.1111111111111111, 0.0625, 0.04, 0.027777777777777776, 0.02040816326530612, 0.015625, 0.012345679012345678, 0.01, 0.008264462809917356, 0.006944444444444444, 0.005917159763313609, 0.00510204081632653, 0.0044444444444444444, 0.00390625, 0.0034602076124567475, 0.0030864197530864196, 0.002770083102493075, 0.0025, 0.0022675736961451248, 0.002066115702479339, 0.001890359168241966, 0.001736111111111111, 0.0016, 0.0014792899408284023, 0.0013717421124828531, 0.0012755102040816326, 0.0011890606420927466]\n"
     ]
    }
   ],
   "source": [
    "# Loop 2\n",
    "fraction_squares = []\n",
    "N = 30\n",
    "\n",
    "for i in range(1, N):\n",
    "    fraction_squares.insert(i, 1/i**2)\n",
    "    # or\n",
    "    # fraction_squares.append(1/i**2)\n",
    "    \n",
    "fraction_squares1 = [1/i**2 for i in range(1,N)]\n",
    "\n",
    "print(fraction_squares)\n",
    "print(fraction_squares1)"
   ]
  },
  {
   "cell_type": "code",
   "execution_count": 72,
   "metadata": {
    "scrolled": true
   },
   "outputs": [
    {
     "name": "stdout",
     "output_type": "stream",
     "text": [
      "40 5 0\n",
      "80 5 0\n",
      "120 7 0\n",
      "160 8 0\n",
      "197 8 0\n",
      "236 8 0\n",
      "276 8 0\n",
      "316 11 0\n",
      "356 17 0\n",
      "396 57 0\n",
      "436 97 20\n",
      "476 137 61\n",
      "516 177 72\n",
      "556 217 73\n",
      "[40, 40, 40, 40, 37, 39, 40, 40, 40, 40, 40, 40, 40, 40]\n",
      "[5, 2, 1, 3, 6, 40]\n",
      "[5, 0, 2, 1, 0, 0, 0, 3, 6, 40, 40, 40, 40, 40]\n"
     ]
    }
   ],
   "source": [
    "# Loop 3\n",
    "hours = [45, 40, 42, 41, 37, 39, 40, 43, 46, 80, 100, 121, 91, 81]\n",
    "regular = 0           # Between 0 - 40 hours\n",
    "overtime = 0          # Between 40 - 80 hours\n",
    "double_overtime = 0   # Over 80 hours\n",
    "\n",
    "for time in hours:\n",
    "    if time <= 40:\n",
    "        regular += time\n",
    "    elif 40 < time <= 80:\n",
    "        overtime += time - 40\n",
    "        regular += 40\n",
    "    else:\n",
    "        double_overtime += time - 80\n",
    "        overtime += 40\n",
    "        regular += 40\n",
    "\n",
    "    print(regular, overtime, double_overtime)\n",
    "    \n",
    "regular1 = [time if time <= 40 else 40 for time in hours ]\n",
    "overtime1 = [time - 40 for time in hours if 40 < time <= 80]\n",
    "\n",
    "overtime2 =  [ 0 if time <= 40 else time - 40 if time <= 80 else 40 for time in hours ] \n",
    "\n",
    "print(regular1)\n",
    "print(overtime1)\n",
    "print(overtime2)"
   ]
  },
  {
   "cell_type": "markdown",
   "metadata": {},
   "source": [
    "# File Input/Output (I/O)\n",
    "\n",
    "Python has the capacity to read/write data from/to external files. For the `.txt` and `.csv` file extensions, Python handles file I/O natively with built-in functions. For other data types, such as `.xls` or `.xlsx`, we most often use `pandas`.\n",
    "\n",
    "## Reading and Writing `.txt` Files\n",
    "\n",
    "### *Example 1: Reading a `.txt` file line by line*\n",
    "\n",
    "This example introduces the `with` command and the `open()` function. The `open()` function has a descriptive name: it opens a file in the Python interpreter for reading/writing. While the exact use of the `with` command is technical, we can understand it as creating a temporary variable. In context of file I/O, creating a temporary variable using the `with` command and the `open()` function ensures that the file is both open and closed inside of the `with` code block."
   ]
  },
  {
   "cell_type": "code",
   "execution_count": 127,
   "metadata": {
    "scrolled": false
   },
   "outputs": [
    {
     "name": "stdout",
     "output_type": "stream",
     "text": [
      "['Title\\tAuthor\\tGenre\\tPages\\tPublisher\\n', 'Fundamentals of Wavelets\\t\"Goswami, Jaideva\"\\tsignal_processing\\t228\\tWiley\\n', 'Data Smart\\t\"Foreman, John\"\\tdata_science\\t235\\tWiley\\n', 'God Created the Integers\\t\"Hawking, Stephen\"\\tmathematics\\t197\\tPenguin\\n', 'Superfreakonomics\\t\"Dubner, Stephen\"\\teconomics\\t179\\tHarperCollins\\n', 'Orientalism\\t\"Said, Edward\"\\thistory\\t197\\tPenguin\\n', '\"Nature of Statistical Learning Theory, The\"\\t\"Vapnik, Vladimir\"\\tdata_science\\t230\\tSpringer\\n', 'Integration of the Indian States\\t\"Menon, V P\"\\thistory\\t217\\tOrient Blackswan\\n', '\"Drunkard\\'s Walk, The\"\\t\"Mlodinow, Leonard\"\\tscience\\t197\\tPenguin\\n', 'Image Processing & Mathematical Morphology\\t\"Shih, Frank\"\\tsignal_processing\\t241\\tCRC\\n', 'How to Think Like Sherlock Holmes\\t\"Konnikova, Maria\"\\tpsychology\\t240\\tPenguin\\n', 'Data Scientists at Work\\tSebastian Gutierrez\\tdata_science\\t230\\tApress\\n', 'Slaughterhouse Five\\t\"Vonnegut, Kurt\"\\tfiction\\t198\\tRandom House\\n', 'Birth of a Theorem\\t\"Villani, Cedric\"\\tmathematics\\t234\\tBodley Head\\n', 'Structure & Interpretation of Computer Programs\\t\"Sussman, Gerald\"\\tcomputer_science\\t240\\tMIT Press\\n', '\"Age of Wrath, The\"\\t\"Eraly, Abraham\"\\thistory\\t238\\tPenguin\\n', '\"Trial, The\"\\t\"Kafka, Frank\"\\tfiction\\t198\\tRandom House\\n', 'Statistical Decision Theory\\'\\t\"Pratt, John\"\\tdata_science\\t236\\tMIT Press\\n', 'Data Mining Handbook\\t\"Nisbet, Robert\"\\tdata_science\\t242\\tApress\\n', '\"New Machiavelli, The\"\\t\"Wells, H. G.\"\\tfiction\\t180\\tPenguin\\n', 'Physics & Philosophy\\t\"Heisenberg, Werner\"\\tscience\\t197\\tPenguin\\n', 'Making Software\\t\"Oram, Andy\"\\tcomputer_science\\t232\\tO\\'Reilly\\n', '\"Analysis, Vol I\"\\t\"Tao, Terence\"\\tmathematics\\t248\\tHBA\\n', 'Machine Learning for Hackers\\t\"Conway, Drew\"\\tdata_science\\t233\\tO\\'Reilly\\n', '\"Signal and the Noise, The\"\\t\"Silver, Nate\"\\tdata_science\\t233\\tPenguin\\n', 'Python for Data Analysis\\t\"McKinney, Wes\"\\tdata_science\\t233\\tO\\'Reilly\\n', 'Introduction to Algorithms\\t\"Cormen, Thomas\"\\tcomputer_science\\t234\\tMIT Press\\n', '\"Beautiful and the Damned, The\"\\t\"Deb, Siddhartha\"\\tnonfiction\\t198\\tPenguin\\n', '\"Outsider, The\"\\t\"Camus, Albert\"\\tfiction\\t198\\tPenguin\\n', '\"Complete Sherlock Holmes, The - Vol I\"\\t\"Doyle, Arthur Conan\"\\tfiction\\t176\\tRandom House\\n', '\"Complete Sherlock Holmes, The - Vol II\"\\t\"Doyle, Arthur Conan\"\\tfiction\\t176\\tRandom House\\n', '\"Wealth of Nations, The\"\\t\"Smith, Adam\"\\teconomics\\t175\\tRandom House\\n', '\"Pillars of the Earth, The\"\\t\"Follett, Ken\"\\tfiction\\t176\\tRandom House\\n', 'Mein Kampf\\t\"Hitler, Adolf\"\\tnonfiction\\t212\\tRupa\\n', '\"Tao of Physics, The\"\\t\"Capra, Fritjof\"\\tscience\\t179\\tPenguin\\n', 'Surely You\\'re Joking Mr Feynman\\t\"Feynman, Richard\"\\tscience\\t198\\tRandom House\\n', '\"Farewell to Arms, A\"\\t\"Hemingway, Ernest\"\\tfiction\\t179\\tRupa\\n', '\"Veteran, The\"\\t\"Forsyth, Frederick\"\\tfiction\\t177\\tTransworld\\n', 'False Impressions\\t\"Archer, Jeffery\"\\tfiction\\t177\\tPan\\n', '\"Last Lecture, The\"\\t\"Pausch, Randy\"\\tnonfiction\\t197\\tHyperion\\n', 'Return of the Primitive\\t\"Rand, Ayn\"\\tphilosophy\\t202\\tPenguin\\n', 'Jurassic Park\\t\"Crichton, Michael\"\\tfiction\\t174\\tRandom House\\n', '\"Russian Journal, A\"\\t\"Steinbeck, John\"\\tnonfiction\\t196\\tPenguin\\n', 'Tales of Mystery and Imagination\\t\"Poe, Edgar Allen\"\\tfiction\\t172\\tHarperCollins\\n', 'Freakonomics\\t\"Dubner, Stephen\"\\teconomics\\t197\\tPenguin\\n', '\"Hidden Connections, The\"\\t\"Capra, Fritjof\"\\tscience\\t197\\tHarperCollins\\n', '\"Story of Philosophy, The\"\\t\"Durant, Will\"\\tphilosophy\\t170\\tPocket\\n', 'Asami Asami\\t\"Deshpande, P L\"\\tfiction\\t205\\tMauj\\n', 'Journal of a Novel\\t\"Steinbeck, John\"\\tfiction\\t196\\tPenguin\\n', 'Once There Was a War\\t\"Steinbeck, John\"\\tnonfiction\\t196\\tPenguin\\n', '\"Moon is Down, The\"\\t\"Steinbeck, John\"\\tfiction\\t196\\tPenguin\\n', '\"Brethren, The\"\\t\"Grisham, John\"\\tfiction\\t174\\tRandom House\\n', 'In a Free State\\t\"Naipaul, V. S.\"\\tfiction\\t196\\tRupa\\n', 'Catch 22\\t\"Heller, Joseph\"\\tfiction\\t178\\tRandom House\\n', '\"Complete Mastermind, The\"\\tBBC\\tnonfiction\\t178\\tBBC\\n', 'Dylan on Dylan\\t\"Dylan, Bob\"\\tnonfiction\\t197\\tRandom House\\n', 'Soft Computing & Intelligent Systems\\t\"Gupta, Madan\"\\tdata_science\\t242\\tElsevier\\n', 'Textbook of Economic Theory\\t\"Stonier, Alfred\"\\teconomics\\t242\\tPearson\\n', 'Econometric Analysis\\t\"Greene, W. H.\"\\teconomics\\t242\\tPearson\\n', 'Learning OpenCV\\t\"Bradsky, Gary\"\\tdata_science\\t232\\tO\\'Reilly\\n', 'Data Structures Using C & C++\\t\"Tanenbaum, Andrew\"\\tcomputer_science\\t235\\tPrentice Hall\\n', '\"Computer Vision, A Modern Approach\"\\t\"Forsyth, David\"\\tdata_science\\t255\\tPearson\\n', 'Principles of Communication Systems\\t\"Taub, Schilling\"\\tcomputer_science\\t240\\tTMH\\n', 'Let Us C\\t\"Kanetkar, Yashwant\"\\tcomputer_science\\t213\\tPrentice Hall\\n', '\"Amulet of Samarkand, The\"\\t\"Stroud, Jonathan\"\\tfiction\\t179\\tRandom House\\n', 'Crime and Punishment\\t\"Dostoevsky, Fyodor\"\\tfiction\\t180\\tPenguin\\n', 'Angels & Demons\\t\"Brown, Dan\"\\tfiction\\t178\\tRandom House\\n', '\"Argumentative Indian, The\"\\t\"Sen, Amartya\"\\tnonfiction\\t209\\tPicador\\n', 'Sea of Poppies\\t\"Ghosh, Amitav\"\\tfiction\\t197\\tPenguin\\n', '\"Idea of Justice, The\"\\t\"Sen, Amartya\"\\tnonfiction\\t212\\tPenguin\\n', '\"Raisin in the Sun, A\"\\t\"Hansberry, Lorraine\"\\tfiction\\t175\\tPenguin\\n', 'All the President\\'s Men\\t\"Woodward, Bob\"\\thistory\\t177\\tRandom House\\n', '\"Prisoner of Birth, A\"\\t\"Archer, Jeffery\"\\tfiction\\t176\\tPan\\n', 'Scoop!\\t\"Nayar, Kuldip\"\\thistory\\t216\\tHarperCollins\\n', 'Ahe Manohar Tari\\t\"Deshpande, Sunita\"\\tnonfiction\\t213\\tMauj\\n', '\"Last Mughal, The\"\\t\"Dalrymple, William\"\\thistory\\t199\\tPenguin\\n', '\"Social Choice & Welfare, Vol 39 No. 1\"\\tVarious\\teconomics\\t235\\tSpringer\\n', 'Radiowaril Bhashane & Shrutika\\t\"Deshpande, P L\"\\tnonfiction\\t213\\tMauj\\n', 'Gun Gayin Awadi\\t\"Deshpande, P L\"\\tnonfiction\\t212\\tMauj\\n', 'Aghal Paghal\\t\"Deshpande, P L\"\\tnonfiction\\t212\\tMauj\\n', 'Maqta-e-Ghalib\\t\"Garg, Sanjay\"\\tfiction\\t221\\tMauj\\n', 'Beyond Degrees\\t\\tnonfiction\\t222\\tHarperCollins\\n', 'Manasa\\t\"Kale, V P\"\\tnonfiction\\t213\\tMauj\\n', 'India from Midnight to Milennium\\t\"Tharoor, Shashi\"\\thistory\\t198\\tPenguin\\n', '\"World\\'s Greatest Trials, The\"\\t\\thistory\\t210\\t\\n', '\"Great Indian Novel, The\"\\t\"Tharoor, Shashi\"\\tfiction\\t198\\tPenguin\\n', 'O Jerusalem!\\t\"Lapierre, Dominique\"\\thistory\\t217\\tvikas\\n', '\"City of Joy, The\"\\t\"Lapierre, Dominique\"\\tfiction\\t177\\tvikas\\n', 'Freedom at Midnight\\t\"Lapierre, Dominique\"\\thistory\\t167\\tvikas\\n', '\"Winter of Our Discontent, The\"\\t\"Steinbeck, John\"\\tfiction\\t196\\tPenguin\\n', 'On Education\\t\"Russell, Bertrand\"\\tphilosophy\\t203\\tRoutledge\\n', 'Free Will\\t\"Harris, Sam\"\\tphilosophy\\t203\\tFreePress\\n', 'Bookless in Baghdad\\t\"Tharoor, Shashi\"\\tnonfiction\\t206\\tPenguin\\n', '\"Case of the Lame Canary, The\"\\t\"Gardner, Earle Stanley\"\\tfiction\\t179\\t\\n', '\"Theory of Everything, The\"\\t\"Hawking, Stephen\"\\tscience\\t217\\tJaico\\n', 'New Markets & Other Essays\\t\"Drucker, Peter\"\\teconomics\\t176\\tPenguin\\n', 'Electric Universe\\t\"Bodanis, David\"\\tscience\\t201\\tPenguin\\n', '\"Hunchback of Notre Dame, The\"\\t\"Hugo, Victor\"\\tfiction\\t175\\tRandom House\\n', 'Burning Bright\\t\"Steinbeck, John\"\\tfiction\\t175\\tPenguin\\n', '\"Age of Discontuinity, The\"\\t\"Drucker, Peter\"\\teconomics\\t178\\tRandom House\\n', 'Doctor in the Nude\\t\"Gordon, Richard\"\\tfiction\\t179\\tPenguin\\n', 'Down and Out in Paris & London\\t\"Orwell, George\"\\tnonfiction\\t179\\tPenguin\\n', 'Identity & Violence\\t\"Sen, Amartya\"\\tphilosophy\\t219\\tPenguin\\n', 'Beyond the Three Seas\\t\"Dalrymple, William\"\\thistory\\t197\\tRandom House\\n', '\"World\\'s Greatest Short Stories, The\"\\t\\tfiction\\t217\\tJaico\\n', 'Talking Straight\\t\"Iacoca, Lee\"\\tnonfiction\\t175\\t\\n', '\"Maugham\\'s Collected Short Stories, Vol 3\"\\t\"Maugham, William S\"\\tfiction\\t171\\tVintage\\n', '\"Phantom of Manhattan, The\"\\t\"Forsyth, Frederick\"\\tfiction\\t180\\t\\n', 'Ashenden of The British Agent\\t\"Maugham, William S\"\\tfiction\\t160\\tVintage\\n', 'Zen & The Art of Motorcycle Maintenance\\t\"Pirsig, Robert\"\\tphilosophy\\t172\\tVintage\\n', '\"Great War for Civilization, The\"\\t\"Fisk, Robert\"\\thistory\\t197\\tHarperCollins\\n', 'We the Living\\t\"Rand, Ayn\"\\tfiction\\t178\\tPenguin\\n', '\"Artist and the Mathematician, The\"\\t\"Aczel, Amir\"\\tscience\\t186\\tHighStakes\\n', 'History of Western Philosophy\\t\"Russell, Bertrand\"\\tphilosophy\\t213\\tRoutledge\\n', 'Selected Short Stories\\t\\tfiction\\t215\\tJaico\\n', 'Rationality & Freedom\\t\"Sen, Amartya\"\\teconomics\\t213\\tSpringer\\n', 'Clash of Civilizations and Remaking of the World Order\\t\"Huntington, Samuel\"\\thistory\\t228\\tSimon&Schuster\\n', 'Uncommon Wisdom\\t\"Capra, Fritjof\"\\tnonfiction\\t197\\tFontana\\n', 'One\\t\"Bach, Richard\"\\tnonfiction\\t172\\tDell\\n', 'Karl Marx Biography\\t\\tnonfiction\\t162\\t\\n', 'To Sir With Love\\tBraithwaite\\tfiction\\t197\\tPenguin\\n', 'Half A Life\\t\"Naipaul, V S\"\\tfiction\\t196\\t\\n', '\"Discovery of India, The\"\\t\"Nehru, Jawaharlal\"\\thistory\\t230\\t\\n', 'Apulki\\t\"Deshpande, P L\"\\tnonfiction\\t211\\t\\n', 'Unpopular Essays\\t\"Russell, Bertrand\"\\tphilosophy\\t198\\t\\n', '\"Deceiver, The\"\\t\"Forsyth, Frederick\"\\tfiction\\t178\\t\\n', 'Veil: Secret Wars of the CIA\\t\"Woodward, Bob\"\\thistory\\t171\\t\\n', 'Char Shabda\\t\"Deshpande, P L\"\\tnonfiction\\t214\\t\\n', 'Rosy is My Relative\\t\"Durrell, Gerald\"\\tfiction\\t176\\t\\n', '\"Moon and Sixpence, The\"\\t\"Maugham, William S\"\\tfiction\\t180\\t\\n', 'Political Philosophers\\t\\tphilosophy\\t162\\t\\n', '\"Short History of the World, A\"\\t\"Wells, H G\"\\thistory\\t197\\t\\n', '\"Trembling of a Leaf, The\"\\t\"Maugham, William S\"\\tfiction\\t205\\t\\n', 'Doctor on the Brain\\t\"Gordon, Richard\"\\tfiction\\t204\\t\\n', 'Simpsons & Their Mathematical Secrets\\t\"Singh, Simon\"\\tscience\\t233\\t\\n', 'Pattern Classification\\t\"Duda, Hart\"\\tdata_science\\t241\\t\\n', 'From Beirut to Jerusalem\\t\"Friedman, Thomas\"\\thistory\\t202\\t\\n', '\"Code Book, The\"\\t\"Singh, Simon\"\\tscience\\t197\\t\\n', '\"Age of the Warrior, The\"\\t\"Fisk, Robert\"\\thistory\\t197\\t\\n', 'Final Crisis\\t\\tcomic\\t257\\t\\n', '\"Killing Joke, The\"\\t\\tcomic\\t283\\t\\n', 'Flashpoint\\t\\tcomic\\t265\\t\\n', 'Batman Earth One\\t\\tcomic\\t265\\t\\n', 'Crisis on Infinite Earths\\t\\tcomic\\t258\\t\\n', '\"Numbers Behind Numb3rs, The\"\\t\"Devlin, Keith\"\\tscience\\t202\\t\\n', 'Superman Earth One - 1\\t\\tcomic\\t259\\t\\n', 'Superman Earth One - 2\\t\\tcomic\\t258\\t\\n', 'Justice League: Throne of Atlantis\\t\\tcomic\\t258\\t\\n', \"Justice League: The Villain's Journey\\t\\tcomic\\t258\\t\\n\", '\"Death of Superman, The\"\\t\\tcomic\\t258\\t\\n', 'History of the DC Universe\\t\\tcomic\\t258\\t\\n', 'Batman: The Long Halloween\\t\\tcomic\\t258\\t\\n', '\"Life in Letters, A\"\\t\"Steinbeck, John\"\\tnonfiction\\t196\\t\\n', '\"Information, The\"\\t\"Gleick, James\"\\tscience\\t233\\t\\n', '\"Journal of Economics, vol 106 No 3\"\\t\\teconomics\\t235\\t\\n', 'Elements of Information Theory\\t\"Thomas, Joy\"\\tdata_science\\t229\\t\\n', 'Power Electronics - Rashid\\t\"Rashid, Muhammad\"\\tcomputer_science\\t235\\t\\n', 'Power Electronics - Mohan\\t\"Mohan, Ned\"\\tcomputer_science\\t237\\t\\n', 'Neural Networks\\t\"Haykin, Simon\"\\tdata_science\\t240\\t\\n', '\"Grapes of Wrath, The\"\\t\"Steinbeck, John\"\\tfiction\\t196\\t\\n', 'Vyakti ani Valli\\t\"Deshpande, P L\"\\tnonfiction\\t211\\t\\n', 'Statistical Learning Theory\\t\"Vapnik, Vladimir\"\\tdata_science\\t228\\t\\n', 'Empire of the Mughal - The Tainted Throne\\t\"Rutherford, Alex\"\\thistory\\t180\\t\\n', 'Empire of the Mughal - Brothers at War\\t\"Rutherford, Alex\"\\thistory\\t180\\t\\n', 'Empire of the Mughal - Ruler of the World\\t\"Rutherford, Alex\"\\thistory\\t180\\t\\n', 'Empire of the Mughal - The Serpent\\'s Tooth\\t\"Rutherford, Alex\"\\thistory\\t180\\t\\n', 'Empire of the Mughal - Raiders from the North\\t\"Rutherford, Alex\"\\thistory\\t180\\t\\n', 'Mossad\\t\"Baz-Zohar, Michael\"\\thistory\\t236\\t\\n', 'Jim Corbett Omnibus\\t\"Corbett, Jim\"\\tnonfiction\\t223\\t\\n', '20000 Leagues Under the Sea\\t\"Verne, Jules\"\\tfiction\\t190\\t\\n', 'Batatyachi Chal\\tDeshpande P L\\tfiction\\t200\\t\\n', 'Hafasavnuk\\tDeshpande P L\\tfiction\\t211\\t\\n', 'Urlasurla\\tDeshpande P L\\tfiction\\t211\\t\\n', 'Pointers in C\\t\"Kanetkar, Yashwant\"\\tcomputer_science\\t213\\t\\n', '\"Cathedral and the Bazaar, The\"\\t\"Raymond, Eric\"\\tcomputer_science\\t217\\t\\n', 'Design with OpAmps\\t\"Franco, Sergio\"\\tcomputer_science\\t240\\t\\n', 'Think Complexity\\t\"Downey, Allen\"\\tdata_science\\t230\\t\\n', '\"Devil\\'s Advocate, The\"\\t\"West, Morris\"\\tfiction\\t178\\t\\n', 'Ayn Rand Answers\\t\"Rand, Ayn\"\\tphilosophy\\t203\\t\\n', 'Philosophy: Who Needs It\\t\"Rand, Ayn\"\\tphilosophy\\t171\\t\\n', '\"World\\'s Great Thinkers, The\"\\t\\tphilosophy\\t189\\t\\n', 'Data Analysis with Open Source Tools\\t\"Janert, Phillip\"\\tdata_science\\t230\\t\\n', 'Broca\\'s Brain\\t\"Sagan, Carl\"\\tscience\\t174\\t\\n', 'Men of Mathematics\\t\"Bell, E T\"\\tmathematics\\t217\\t\\n', 'Oxford book of Modern Science Writing\\t\"Dawkins, Richard\"\\tscience\\t240\\t\\n', '\"Justice, Judiciary and Democracy\"\\t\"Ranjan, Sudhanshu\"\\tphilosophy\\t224\\t\\n', '\"Arthashastra, The\"\\tKautiyla\\tphilosophy\\t214\\t\\n', 'We the People\\tPalkhivala\\tphilosophy\\t216\\t\\n', 'We the Nation\\tPalkhivala\\tphilosophy\\t216\\t\\n', '\"Courtroom Genius, The\"\\tSorabjee\\tnonfiction\\t217\\t\\n', 'Dongri to Dubai\\t\"Zaidi, Hussain\"\\tnonfiction\\t216\\t\\n', '\"History of England, Foundation\"\\t\"Ackroyd, Peter\"\\thistory\\t197\\t\\n', 'City of Djinns\\t\"Dalrymple, William\"\\thistory\\t198\\t\\n', \"India's Legal System\\tNariman\\tnonfiction\\t177\\t\\n\", 'More Tears to Cry\\t\"Sassoon, Jean\"\\tfiction\\t235\\t\\n', '\"Ropemaker, The\"\\t\"Dickinson, Peter\"\\tfiction\\t196\\t\\n', 'Angels & Demons\\t\"Brown, Dan\"\\tfiction\\t170\\t\\n', '\"Judge, The\"\\t\\tfiction\\t170\\t\\n', '\"Attorney, The\"\\t\\tfiction\\t170\\t\\n', '\"Prince, The\"\\tMachiavelli\\tphilosophy\\t173\\t\\n', 'Eyeless in Gaza\\t\"Huxley, Aldous\"\\tfiction\\t180\\t\\n', 'Tales of Beedle the Bard\\t\"Rowling, J K\"\\tfiction\\t184\\t\\n', 'Girl with the Dragon Tattoo\\t\"Larsson, Steig\"\\tfiction\\t179\\t\\n', 'Girl who kicked the Hornet\\'s Nest\\t\"Larsson, Steig\"\\tfiction\\t179\\t\\n', 'Girl who played with Fire\\t\"Larsson, Steig\"\\tfiction\\t179\\t\\n', 'Batman Handbook\\t\\tcomic\\t270\\t\\n', \"Murphy's Law\\t\\tnonfiction\\t178\\t\\n\", 'Structure and Randomness\\t\"Tao, Terence\"\\tmathematics\\t252\\t\\n', 'Image Processing with MATLAB\\t\"Eddins, Steve\"\\tsignal_processing\\t241\\t\\n', 'Animal Farm\\t\"Orwell, George\"\\tfiction\\t180\\t\\n', '\"Idiot, The\"\\t\"Dostoevsky, Fyodor\"\\tfiction\\t197\\t\\n', '\"Christmas Carol, A\"\\t\"Dickens, Charles\"\\tfiction\\t196\\t\\n']\n"
     ]
    }
   ],
   "source": [
    "# Open the file.\n",
    "with open('books.txt', 'r') as file:     # The 'r' option means 'read-only'.\n",
    "    data1 = list(file)                   # Read in the file and store as list.\n",
    "\n",
    "print(data1)"
   ]
  },
  {
   "cell_type": "code",
   "execution_count": 128,
   "metadata": {
    "scrolled": false
   },
   "outputs": [
    {
     "name": "stdout",
     "output_type": "stream",
     "text": [
      "[['Title', 'Author', 'Genre', 'Pages', 'Publisher\\n'], ['Fundamentals of Wavelets', '\"Goswami, Jaideva\"', 'signal_processing', '228', 'Wiley\\n'], ['Data Smart', '\"Foreman, John\"', 'data_science', '235', 'Wiley\\n'], ['God Created the Integers', '\"Hawking, Stephen\"', 'mathematics', '197', 'Penguin\\n'], ['Superfreakonomics', '\"Dubner, Stephen\"', 'economics', '179', 'HarperCollins\\n'], ['Orientalism', '\"Said, Edward\"', 'history', '197', 'Penguin\\n'], ['\"Nature of Statistical Learning Theory, The\"', '\"Vapnik, Vladimir\"', 'data_science', '230', 'Springer\\n'], ['Integration of the Indian States', '\"Menon, V P\"', 'history', '217', 'Orient Blackswan\\n'], ['\"Drunkard\\'s Walk, The\"', '\"Mlodinow, Leonard\"', 'science', '197', 'Penguin\\n'], ['Image Processing & Mathematical Morphology', '\"Shih, Frank\"', 'signal_processing', '241', 'CRC\\n'], ['How to Think Like Sherlock Holmes', '\"Konnikova, Maria\"', 'psychology', '240', 'Penguin\\n'], ['Data Scientists at Work', 'Sebastian Gutierrez', 'data_science', '230', 'Apress\\n'], ['Slaughterhouse Five', '\"Vonnegut, Kurt\"', 'fiction', '198', 'Random House\\n'], ['Birth of a Theorem', '\"Villani, Cedric\"', 'mathematics', '234', 'Bodley Head\\n'], ['Structure & Interpretation of Computer Programs', '\"Sussman, Gerald\"', 'computer_science', '240', 'MIT Press\\n'], ['\"Age of Wrath, The\"', '\"Eraly, Abraham\"', 'history', '238', 'Penguin\\n'], ['\"Trial, The\"', '\"Kafka, Frank\"', 'fiction', '198', 'Random House\\n'], [\"Statistical Decision Theory'\", '\"Pratt, John\"', 'data_science', '236', 'MIT Press\\n'], ['Data Mining Handbook', '\"Nisbet, Robert\"', 'data_science', '242', 'Apress\\n'], ['\"New Machiavelli, The\"', '\"Wells, H. G.\"', 'fiction', '180', 'Penguin\\n'], ['Physics & Philosophy', '\"Heisenberg, Werner\"', 'science', '197', 'Penguin\\n'], ['Making Software', '\"Oram, Andy\"', 'computer_science', '232', \"O'Reilly\\n\"], ['\"Analysis, Vol I\"', '\"Tao, Terence\"', 'mathematics', '248', 'HBA\\n'], ['Machine Learning for Hackers', '\"Conway, Drew\"', 'data_science', '233', \"O'Reilly\\n\"], ['\"Signal and the Noise, The\"', '\"Silver, Nate\"', 'data_science', '233', 'Penguin\\n'], ['Python for Data Analysis', '\"McKinney, Wes\"', 'data_science', '233', \"O'Reilly\\n\"], ['Introduction to Algorithms', '\"Cormen, Thomas\"', 'computer_science', '234', 'MIT Press\\n'], ['\"Beautiful and the Damned, The\"', '\"Deb, Siddhartha\"', 'nonfiction', '198', 'Penguin\\n'], ['\"Outsider, The\"', '\"Camus, Albert\"', 'fiction', '198', 'Penguin\\n'], ['\"Complete Sherlock Holmes, The - Vol I\"', '\"Doyle, Arthur Conan\"', 'fiction', '176', 'Random House\\n'], ['\"Complete Sherlock Holmes, The - Vol II\"', '\"Doyle, Arthur Conan\"', 'fiction', '176', 'Random House\\n'], ['\"Wealth of Nations, The\"', '\"Smith, Adam\"', 'economics', '175', 'Random House\\n'], ['\"Pillars of the Earth, The\"', '\"Follett, Ken\"', 'fiction', '176', 'Random House\\n'], ['Mein Kampf', '\"Hitler, Adolf\"', 'nonfiction', '212', 'Rupa\\n'], ['\"Tao of Physics, The\"', '\"Capra, Fritjof\"', 'science', '179', 'Penguin\\n'], [\"Surely You're Joking Mr Feynman\", '\"Feynman, Richard\"', 'science', '198', 'Random House\\n'], ['\"Farewell to Arms, A\"', '\"Hemingway, Ernest\"', 'fiction', '179', 'Rupa\\n'], ['\"Veteran, The\"', '\"Forsyth, Frederick\"', 'fiction', '177', 'Transworld\\n'], ['False Impressions', '\"Archer, Jeffery\"', 'fiction', '177', 'Pan\\n'], ['\"Last Lecture, The\"', '\"Pausch, Randy\"', 'nonfiction', '197', 'Hyperion\\n'], ['Return of the Primitive', '\"Rand, Ayn\"', 'philosophy', '202', 'Penguin\\n'], ['Jurassic Park', '\"Crichton, Michael\"', 'fiction', '174', 'Random House\\n'], ['\"Russian Journal, A\"', '\"Steinbeck, John\"', 'nonfiction', '196', 'Penguin\\n'], ['Tales of Mystery and Imagination', '\"Poe, Edgar Allen\"', 'fiction', '172', 'HarperCollins\\n'], ['Freakonomics', '\"Dubner, Stephen\"', 'economics', '197', 'Penguin\\n'], ['\"Hidden Connections, The\"', '\"Capra, Fritjof\"', 'science', '197', 'HarperCollins\\n'], ['\"Story of Philosophy, The\"', '\"Durant, Will\"', 'philosophy', '170', 'Pocket\\n'], ['Asami Asami', '\"Deshpande, P L\"', 'fiction', '205', 'Mauj\\n'], ['Journal of a Novel', '\"Steinbeck, John\"', 'fiction', '196', 'Penguin\\n'], ['Once There Was a War', '\"Steinbeck, John\"', 'nonfiction', '196', 'Penguin\\n'], ['\"Moon is Down, The\"', '\"Steinbeck, John\"', 'fiction', '196', 'Penguin\\n'], ['\"Brethren, The\"', '\"Grisham, John\"', 'fiction', '174', 'Random House\\n'], ['In a Free State', '\"Naipaul, V. S.\"', 'fiction', '196', 'Rupa\\n'], ['Catch 22', '\"Heller, Joseph\"', 'fiction', '178', 'Random House\\n'], ['\"Complete Mastermind, The\"', 'BBC', 'nonfiction', '178', 'BBC\\n'], ['Dylan on Dylan', '\"Dylan, Bob\"', 'nonfiction', '197', 'Random House\\n'], ['Soft Computing & Intelligent Systems', '\"Gupta, Madan\"', 'data_science', '242', 'Elsevier\\n'], ['Textbook of Economic Theory', '\"Stonier, Alfred\"', 'economics', '242', 'Pearson\\n'], ['Econometric Analysis', '\"Greene, W. H.\"', 'economics', '242', 'Pearson\\n'], ['Learning OpenCV', '\"Bradsky, Gary\"', 'data_science', '232', \"O'Reilly\\n\"], ['Data Structures Using C & C++', '\"Tanenbaum, Andrew\"', 'computer_science', '235', 'Prentice Hall\\n'], ['\"Computer Vision, A Modern Approach\"', '\"Forsyth, David\"', 'data_science', '255', 'Pearson\\n'], ['Principles of Communication Systems', '\"Taub, Schilling\"', 'computer_science', '240', 'TMH\\n'], ['Let Us C', '\"Kanetkar, Yashwant\"', 'computer_science', '213', 'Prentice Hall\\n'], ['\"Amulet of Samarkand, The\"', '\"Stroud, Jonathan\"', 'fiction', '179', 'Random House\\n'], ['Crime and Punishment', '\"Dostoevsky, Fyodor\"', 'fiction', '180', 'Penguin\\n'], ['Angels & Demons', '\"Brown, Dan\"', 'fiction', '178', 'Random House\\n'], ['\"Argumentative Indian, The\"', '\"Sen, Amartya\"', 'nonfiction', '209', 'Picador\\n'], ['Sea of Poppies', '\"Ghosh, Amitav\"', 'fiction', '197', 'Penguin\\n'], ['\"Idea of Justice, The\"', '\"Sen, Amartya\"', 'nonfiction', '212', 'Penguin\\n'], ['\"Raisin in the Sun, A\"', '\"Hansberry, Lorraine\"', 'fiction', '175', 'Penguin\\n'], [\"All the President's Men\", '\"Woodward, Bob\"', 'history', '177', 'Random House\\n'], ['\"Prisoner of Birth, A\"', '\"Archer, Jeffery\"', 'fiction', '176', 'Pan\\n'], ['Scoop!', '\"Nayar, Kuldip\"', 'history', '216', 'HarperCollins\\n'], ['Ahe Manohar Tari', '\"Deshpande, Sunita\"', 'nonfiction', '213', 'Mauj\\n'], ['\"Last Mughal, The\"', '\"Dalrymple, William\"', 'history', '199', 'Penguin\\n'], ['\"Social Choice & Welfare, Vol 39 No. 1\"', 'Various', 'economics', '235', 'Springer\\n'], ['Radiowaril Bhashane & Shrutika', '\"Deshpande, P L\"', 'nonfiction', '213', 'Mauj\\n'], ['Gun Gayin Awadi', '\"Deshpande, P L\"', 'nonfiction', '212', 'Mauj\\n'], ['Aghal Paghal', '\"Deshpande, P L\"', 'nonfiction', '212', 'Mauj\\n'], ['Maqta-e-Ghalib', '\"Garg, Sanjay\"', 'fiction', '221', 'Mauj\\n'], ['Beyond Degrees', '', 'nonfiction', '222', 'HarperCollins\\n'], ['Manasa', '\"Kale, V P\"', 'nonfiction', '213', 'Mauj\\n'], ['India from Midnight to Milennium', '\"Tharoor, Shashi\"', 'history', '198', 'Penguin\\n'], ['\"World\\'s Greatest Trials, The\"', '', 'history', '210', '\\n'], ['\"Great Indian Novel, The\"', '\"Tharoor, Shashi\"', 'fiction', '198', 'Penguin\\n'], ['O Jerusalem!', '\"Lapierre, Dominique\"', 'history', '217', 'vikas\\n'], ['\"City of Joy, The\"', '\"Lapierre, Dominique\"', 'fiction', '177', 'vikas\\n'], ['Freedom at Midnight', '\"Lapierre, Dominique\"', 'history', '167', 'vikas\\n'], ['\"Winter of Our Discontent, The\"', '\"Steinbeck, John\"', 'fiction', '196', 'Penguin\\n'], ['On Education', '\"Russell, Bertrand\"', 'philosophy', '203', 'Routledge\\n'], ['Free Will', '\"Harris, Sam\"', 'philosophy', '203', 'FreePress\\n'], ['Bookless in Baghdad', '\"Tharoor, Shashi\"', 'nonfiction', '206', 'Penguin\\n'], ['\"Case of the Lame Canary, The\"', '\"Gardner, Earle Stanley\"', 'fiction', '179', '\\n'], ['\"Theory of Everything, The\"', '\"Hawking, Stephen\"', 'science', '217', 'Jaico\\n'], ['New Markets & Other Essays', '\"Drucker, Peter\"', 'economics', '176', 'Penguin\\n'], ['Electric Universe', '\"Bodanis, David\"', 'science', '201', 'Penguin\\n'], ['\"Hunchback of Notre Dame, The\"', '\"Hugo, Victor\"', 'fiction', '175', 'Random House\\n'], ['Burning Bright', '\"Steinbeck, John\"', 'fiction', '175', 'Penguin\\n'], ['\"Age of Discontuinity, The\"', '\"Drucker, Peter\"', 'economics', '178', 'Random House\\n'], ['Doctor in the Nude', '\"Gordon, Richard\"', 'fiction', '179', 'Penguin\\n'], ['Down and Out in Paris & London', '\"Orwell, George\"', 'nonfiction', '179', 'Penguin\\n'], ['Identity & Violence', '\"Sen, Amartya\"', 'philosophy', '219', 'Penguin\\n'], ['Beyond the Three Seas', '\"Dalrymple, William\"', 'history', '197', 'Random House\\n'], ['\"World\\'s Greatest Short Stories, The\"', '', 'fiction', '217', 'Jaico\\n'], ['Talking Straight', '\"Iacoca, Lee\"', 'nonfiction', '175', '\\n'], ['\"Maugham\\'s Collected Short Stories, Vol 3\"', '\"Maugham, William S\"', 'fiction', '171', 'Vintage\\n'], ['\"Phantom of Manhattan, The\"', '\"Forsyth, Frederick\"', 'fiction', '180', '\\n'], ['Ashenden of The British Agent', '\"Maugham, William S\"', 'fiction', '160', 'Vintage\\n'], ['Zen & The Art of Motorcycle Maintenance', '\"Pirsig, Robert\"', 'philosophy', '172', 'Vintage\\n'], ['\"Great War for Civilization, The\"', '\"Fisk, Robert\"', 'history', '197', 'HarperCollins\\n'], ['We the Living', '\"Rand, Ayn\"', 'fiction', '178', 'Penguin\\n'], ['\"Artist and the Mathematician, The\"', '\"Aczel, Amir\"', 'science', '186', 'HighStakes\\n'], ['History of Western Philosophy', '\"Russell, Bertrand\"', 'philosophy', '213', 'Routledge\\n'], ['Selected Short Stories', '', 'fiction', '215', 'Jaico\\n'], ['Rationality & Freedom', '\"Sen, Amartya\"', 'economics', '213', 'Springer\\n'], ['Clash of Civilizations and Remaking of the World Order', '\"Huntington, Samuel\"', 'history', '228', 'Simon&Schuster\\n'], ['Uncommon Wisdom', '\"Capra, Fritjof\"', 'nonfiction', '197', 'Fontana\\n'], ['One', '\"Bach, Richard\"', 'nonfiction', '172', 'Dell\\n'], ['Karl Marx Biography', '', 'nonfiction', '162', '\\n'], ['To Sir With Love', 'Braithwaite', 'fiction', '197', 'Penguin\\n'], ['Half A Life', '\"Naipaul, V S\"', 'fiction', '196', '\\n'], ['\"Discovery of India, The\"', '\"Nehru, Jawaharlal\"', 'history', '230', '\\n'], ['Apulki', '\"Deshpande, P L\"', 'nonfiction', '211', '\\n'], ['Unpopular Essays', '\"Russell, Bertrand\"', 'philosophy', '198', '\\n'], ['\"Deceiver, The\"', '\"Forsyth, Frederick\"', 'fiction', '178', '\\n'], ['Veil: Secret Wars of the CIA', '\"Woodward, Bob\"', 'history', '171', '\\n'], ['Char Shabda', '\"Deshpande, P L\"', 'nonfiction', '214', '\\n'], ['Rosy is My Relative', '\"Durrell, Gerald\"', 'fiction', '176', '\\n'], ['\"Moon and Sixpence, The\"', '\"Maugham, William S\"', 'fiction', '180', '\\n'], ['Political Philosophers', '', 'philosophy', '162', '\\n'], ['\"Short History of the World, A\"', '\"Wells, H G\"', 'history', '197', '\\n'], ['\"Trembling of a Leaf, The\"', '\"Maugham, William S\"', 'fiction', '205', '\\n'], ['Doctor on the Brain', '\"Gordon, Richard\"', 'fiction', '204', '\\n'], ['Simpsons & Their Mathematical Secrets', '\"Singh, Simon\"', 'science', '233', '\\n'], ['Pattern Classification', '\"Duda, Hart\"', 'data_science', '241', '\\n'], ['From Beirut to Jerusalem', '\"Friedman, Thomas\"', 'history', '202', '\\n'], ['\"Code Book, The\"', '\"Singh, Simon\"', 'science', '197', '\\n'], ['\"Age of the Warrior, The\"', '\"Fisk, Robert\"', 'history', '197', '\\n'], ['Final Crisis', '', 'comic', '257', '\\n'], ['\"Killing Joke, The\"', '', 'comic', '283', '\\n'], ['Flashpoint', '', 'comic', '265', '\\n'], ['Batman Earth One', '', 'comic', '265', '\\n'], ['Crisis on Infinite Earths', '', 'comic', '258', '\\n'], ['\"Numbers Behind Numb3rs, The\"', '\"Devlin, Keith\"', 'science', '202', '\\n'], ['Superman Earth One - 1', '', 'comic', '259', '\\n'], ['Superman Earth One - 2', '', 'comic', '258', '\\n'], ['Justice League: Throne of Atlantis', '', 'comic', '258', '\\n'], [\"Justice League: The Villain's Journey\", '', 'comic', '258', '\\n'], ['\"Death of Superman, The\"', '', 'comic', '258', '\\n'], ['History of the DC Universe', '', 'comic', '258', '\\n'], ['Batman: The Long Halloween', '', 'comic', '258', '\\n'], ['\"Life in Letters, A\"', '\"Steinbeck, John\"', 'nonfiction', '196', '\\n'], ['\"Information, The\"', '\"Gleick, James\"', 'science', '233', '\\n'], ['\"Journal of Economics, vol 106 No 3\"', '', 'economics', '235', '\\n'], ['Elements of Information Theory', '\"Thomas, Joy\"', 'data_science', '229', '\\n'], ['Power Electronics - Rashid', '\"Rashid, Muhammad\"', 'computer_science', '235', '\\n'], ['Power Electronics - Mohan', '\"Mohan, Ned\"', 'computer_science', '237', '\\n'], ['Neural Networks', '\"Haykin, Simon\"', 'data_science', '240', '\\n'], ['\"Grapes of Wrath, The\"', '\"Steinbeck, John\"', 'fiction', '196', '\\n'], ['Vyakti ani Valli', '\"Deshpande, P L\"', 'nonfiction', '211', '\\n'], ['Statistical Learning Theory', '\"Vapnik, Vladimir\"', 'data_science', '228', '\\n'], ['Empire of the Mughal - The Tainted Throne', '\"Rutherford, Alex\"', 'history', '180', '\\n'], ['Empire of the Mughal - Brothers at War', '\"Rutherford, Alex\"', 'history', '180', '\\n'], ['Empire of the Mughal - Ruler of the World', '\"Rutherford, Alex\"', 'history', '180', '\\n'], [\"Empire of the Mughal - The Serpent's Tooth\", '\"Rutherford, Alex\"', 'history', '180', '\\n'], ['Empire of the Mughal - Raiders from the North', '\"Rutherford, Alex\"', 'history', '180', '\\n'], ['Mossad', '\"Baz-Zohar, Michael\"', 'history', '236', '\\n'], ['Jim Corbett Omnibus', '\"Corbett, Jim\"', 'nonfiction', '223', '\\n'], ['20000 Leagues Under the Sea', '\"Verne, Jules\"', 'fiction', '190', '\\n'], ['Batatyachi Chal', 'Deshpande P L', 'fiction', '200', '\\n'], ['Hafasavnuk', 'Deshpande P L', 'fiction', '211', '\\n'], ['Urlasurla', 'Deshpande P L', 'fiction', '211', '\\n'], ['Pointers in C', '\"Kanetkar, Yashwant\"', 'computer_science', '213', '\\n'], ['\"Cathedral and the Bazaar, The\"', '\"Raymond, Eric\"', 'computer_science', '217', '\\n'], ['Design with OpAmps', '\"Franco, Sergio\"', 'computer_science', '240', '\\n'], ['Think Complexity', '\"Downey, Allen\"', 'data_science', '230', '\\n'], ['\"Devil\\'s Advocate, The\"', '\"West, Morris\"', 'fiction', '178', '\\n'], ['Ayn Rand Answers', '\"Rand, Ayn\"', 'philosophy', '203', '\\n'], ['Philosophy: Who Needs It', '\"Rand, Ayn\"', 'philosophy', '171', '\\n'], ['\"World\\'s Great Thinkers, The\"', '', 'philosophy', '189', '\\n'], ['Data Analysis with Open Source Tools', '\"Janert, Phillip\"', 'data_science', '230', '\\n'], [\"Broca's Brain\", '\"Sagan, Carl\"', 'science', '174', '\\n'], ['Men of Mathematics', '\"Bell, E T\"', 'mathematics', '217', '\\n'], ['Oxford book of Modern Science Writing', '\"Dawkins, Richard\"', 'science', '240', '\\n'], ['\"Justice, Judiciary and Democracy\"', '\"Ranjan, Sudhanshu\"', 'philosophy', '224', '\\n'], ['\"Arthashastra, The\"', 'Kautiyla', 'philosophy', '214', '\\n'], ['We the People', 'Palkhivala', 'philosophy', '216', '\\n'], ['We the Nation', 'Palkhivala', 'philosophy', '216', '\\n'], ['\"Courtroom Genius, The\"', 'Sorabjee', 'nonfiction', '217', '\\n'], ['Dongri to Dubai', '\"Zaidi, Hussain\"', 'nonfiction', '216', '\\n'], ['\"History of England, Foundation\"', '\"Ackroyd, Peter\"', 'history', '197', '\\n'], ['City of Djinns', '\"Dalrymple, William\"', 'history', '198', '\\n'], [\"India's Legal System\", 'Nariman', 'nonfiction', '177', '\\n'], ['More Tears to Cry', '\"Sassoon, Jean\"', 'fiction', '235', '\\n'], ['\"Ropemaker, The\"', '\"Dickinson, Peter\"', 'fiction', '196', '\\n'], ['Angels & Demons', '\"Brown, Dan\"', 'fiction', '170', '\\n'], ['\"Judge, The\"', '', 'fiction', '170', '\\n'], ['\"Attorney, The\"', '', 'fiction', '170', '\\n'], ['\"Prince, The\"', 'Machiavelli', 'philosophy', '173', '\\n'], ['Eyeless in Gaza', '\"Huxley, Aldous\"', 'fiction', '180', '\\n'], ['Tales of Beedle the Bard', '\"Rowling, J K\"', 'fiction', '184', '\\n'], ['Girl with the Dragon Tattoo', '\"Larsson, Steig\"', 'fiction', '179', '\\n'], [\"Girl who kicked the Hornet's Nest\", '\"Larsson, Steig\"', 'fiction', '179', '\\n'], ['Girl who played with Fire', '\"Larsson, Steig\"', 'fiction', '179', '\\n'], ['Batman Handbook', '', 'comic', '270', '\\n'], [\"Murphy's Law\", '', 'nonfiction', '178', '\\n'], ['Structure and Randomness', '\"Tao, Terence\"', 'mathematics', '252', '\\n'], ['Image Processing with MATLAB', '\"Eddins, Steve\"', 'signal_processing', '241', '\\n'], ['Animal Farm', '\"Orwell, George\"', 'fiction', '180', '\\n'], ['\"Idiot, The\"', '\"Dostoevsky, Fyodor\"', 'fiction', '197', '\\n'], ['\"Christmas Carol, A\"', '\"Dickens, Charles\"', 'fiction', '196', '\\n']]\n"
     ]
    }
   ],
   "source": [
    "\"\"\" The original file had lots of '\\t' characters in it to specify\n",
    "    tab-delimited data. We'll split the list based on these characters,\n",
    "    since we don't need them anymore.\n",
    "\"\"\"\n",
    "\n",
    "data1 = [row.split('\\t') for row in data1]\n",
    "print(data1)"
   ]
  },
  {
   "cell_type": "markdown",
   "metadata": {},
   "source": [
    "Note that, for now, I left the `\\n` commands alone. In the event that I want to write this data to a new file, I won't need to specify line breaks."
   ]
  },
  {
   "cell_type": "markdown",
   "metadata": {},
   "source": [
    "There are three ways of reading in data from `.txt` files in Python, besides the method of simply assigning the contents of the data file to a list. This list is adapted from *Murach's Python Programming*.\n",
    "\n",
    "1. `read()` - Read the entire file and save it as one long string.\n",
    "2. `readlines()` - Read the file line-by-line and save each line as a string in a list.\n",
    "3. `readline()` - Read one line of a file, saving it as a string.\n",
    "\n",
    "The next table shows the optional positional arguments for the `open()` function.\n",
    "\n",
    "|Option|Description|\n",
    "|---|---|\n",
    "|`r`|Open the file in read-only mode|\n",
    "|`w`|Open the file in write-enabled mode|\n",
    "|`a`|Append data to an already created file (create the file if it doesn't exist)|\n",
    "\n",
    "### *Example 2: Reading in a file as a complete string, reading line-by-line, and reading a single line*"
   ]
  },
  {
   "cell_type": "code",
   "execution_count": 129,
   "metadata": {},
   "outputs": [
    {
     "name": "stdout",
     "output_type": "stream",
     "text": [
      "Title\tAuthor\tGenre\tPages\tPublisher\n",
      "Fundamentals of\n",
      "\n",
      "['Title\\tAuthor\\tGenre\\tPages\\tPublisher\\n', 'Fundamentals of Wavelets\\t\"Goswami, Jaideva\"\\tsignal_processing\\t228\\tWiley\\n', 'Data Smart\\t\"Foreman, John\"\\tdata_science\\t235\\tWiley\\n', 'God Created the Integers\\t\"Hawking, Stephen\"\\tmathematics\\t197\\tPenguin\\n', 'Superfreakonomics\\t\"Dubner, Stephen\"\\teconomics\\t179\\tHarperCollins\\n', 'Orientalism\\t\"Said, Edward\"\\thistory\\t197\\tPenguin\\n', '\"Nature of Statistical Learning Theory, The\"\\t\"Vapnik, Vladimir\"\\tdata_science\\t230\\tSpringer\\n', 'Integration of the Indian States\\t\"Menon, V P\"\\thistory\\t217\\tOrient Blackswan\\n', '\"Drunkard\\'s Walk, The\"\\t\"Mlodinow, Leonard\"\\tscience\\t197\\tPenguin\\n', 'Image Processing & Mathematical Morphology\\t\"Shih, Frank\"\\tsignal_processing\\t241\\tCRC\\n']\n",
      "\n",
      "Title\tAuthor\tGenre\tPages\tPublisher\n",
      "\n"
     ]
    }
   ],
   "source": [
    "# Read a .txt file as a string.\n",
    "with open('books.txt', 'r') as file:\n",
    "    data_string = file.read()\n",
    "\n",
    "# Print the first 50 characters of the string contained in data_string.\n",
    "print(data_string[:50] + '\\n')\n",
    "\n",
    "# Read each line of a .txt file into a list.\n",
    "with open('books.txt', 'r') as file:\n",
    "    data_lines = list(file.readlines())\n",
    "    \n",
    "print(data_lines[:10])\n",
    "print()\n",
    "\n",
    "# Read a single line of a .txt file.\n",
    "with open('books.txt', 'r') as file:\n",
    "    data_line = file.readline()\n",
    "    \n",
    "print(data_line)"
   ]
  },
  {
   "cell_type": "markdown",
   "metadata": {},
   "source": [
    "**Note:** Reading in a tab-delimited text file has resulted in a somewhat nasty looking list. We can get around this by importing a tab-delimited text file as a `.csv` file."
   ]
  },
  {
   "cell_type": "markdown",
   "metadata": {},
   "source": [
    "### *Example 3: Writing data to a new file*\n",
    "\n",
    "In this example, we'll put the first 5 rows of `data1` into a new text file."
   ]
  },
  {
   "cell_type": "code",
   "execution_count": 130,
   "metadata": {},
   "outputs": [],
   "source": [
    "with open('books2.txt', 'w') as file:     # The 'w' option means 'overwrite-enabled'.\n",
    "    for i in range(5):\n",
    "        file.write('\\t'.join(data1[i]))"
   ]
  },
  {
   "cell_type": "markdown",
   "metadata": {},
   "source": [
    "### *Example 4: Writing a dictionary to a new file*\n",
    "\n",
    "In this example, we'll see that dictionaries can be written to `.txt` files."
   ]
  },
  {
   "cell_type": "code",
   "execution_count": 131,
   "metadata": {},
   "outputs": [],
   "source": [
    "fish = {'pike': 'ES1',\n",
    "        'perch': 'ES2',\n",
    "        'rainbow trout': 'ES1'}\n",
    "\n",
    "with open('fish.txt','w') as file:\n",
    "    file.write(str(fish))     # Convert the dictionary to a string to be written to text.\n",
    "    \n",
    "\n",
    "burbot = {'burbot': 'ES4'}\n",
    "\n",
    "# Append a new line to the open file.\n",
    "with open('fish.txt','a') as file:     # The 'a' option means 'append'.\n",
    "    file.write('\\n' + str(burbot))"
   ]
  },
  {
   "cell_type": "markdown",
   "metadata": {},
   "source": [
    "## Reading and Writing `.csv` Files\n",
    "\n",
    "The acronym 'CSV' stands for Comma Separated values. The `.csv` file format is used for files containing data of the form:\n",
    "```\n",
    "heading1,heading2,heading3,...\n",
    "col11,col21,col31,...\n",
    "col12,col22,col32,...\n",
    "```\n",
    "\n",
    "These files can be read as spreadsheets, for example, in Excel. Python reads and writes these files in a very similar way to `.txt` files, but using the `csv` module."
   ]
  },
  {
   "cell_type": "code",
   "execution_count": 132,
   "metadata": {},
   "outputs": [
    {
     "data": {
      "text/plain": [
       "'1.0'"
      ]
     },
     "execution_count": 132,
     "metadata": {},
     "output_type": "execute_result"
    }
   ],
   "source": [
    "import csv\n",
    "\n",
    "csv.__version__"
   ]
  },
  {
   "cell_type": "markdown",
   "metadata": {},
   "source": [
    "There are many features in the `csv` module. For now, we'll focus on the `reader` and `writer` objects.\n",
    "\n",
    "A `reader` object reads in a `.csv` file. Each line of the read file can be printed or assigned to a new Python data type.\n",
    "\n",
    "### *Example 5: Reading a `.csv` file*\n",
    "\n",
    "In this example, we read in the `books.csv` file and save it as a `list`. The `newline = ''` option indicates that no special character was used in the original `.csv` file to indicate a new line."
   ]
  },
  {
   "cell_type": "code",
   "execution_count": 133,
   "metadata": {
    "scrolled": false
   },
   "outputs": [
    {
     "name": "stdout",
     "output_type": "stream",
     "text": [
      "['Title', 'Author', 'Genre', 'Pages', 'Publisher']\n",
      "['Fundamentals of Wavelets', 'Goswami, Jaideva', 'signal_processing', '228', 'Wiley']\n",
      "['Data Smart', 'Foreman, John', 'data_science', '235', 'Wiley']\n",
      "['God Created the Integers', 'Hawking, Stephen', 'mathematics', '197', 'Penguin']\n",
      "['Superfreakonomics', 'Dubner, Stephen', 'economics', '179', 'HarperCollins']\n"
     ]
    }
   ],
   "source": [
    "with open('books.csv', newline = '') as csvfile:\n",
    "    bookreader = csv.reader(csvfile)     # Create the 'reader' object.\n",
    "    \n",
    "    # Save each row in the 'reader' object as a list within our list of books.\n",
    "    books = [row for row in bookreader]\n",
    "    \n",
    "# Print the first 5 rows of our new data list.\n",
    "for i in range(5):\n",
    "    print(books[i])"
   ]
  },
  {
   "cell_type": "code",
   "execution_count": 134,
   "metadata": {
    "scrolled": false
   },
   "outputs": [
    {
     "name": "stdout",
     "output_type": "stream",
     "text": [
      "Help on built-in function open in module io:\n",
      "\n",
      "open(file, mode='r', buffering=-1, encoding=None, errors=None, newline=None, closefd=True, opener=None)\n",
      "    Open file and return a stream.  Raise OSError upon failure.\n",
      "    \n",
      "    file is either a text or byte string giving the name (and the path\n",
      "    if the file isn't in the current working directory) of the file to\n",
      "    be opened or an integer file descriptor of the file to be\n",
      "    wrapped. (If a file descriptor is given, it is closed when the\n",
      "    returned I/O object is closed, unless closefd is set to False.)\n",
      "    \n",
      "    mode is an optional string that specifies the mode in which the file\n",
      "    is opened. It defaults to 'r' which means open for reading in text\n",
      "    mode.  Other common values are 'w' for writing (truncating the file if\n",
      "    it already exists), 'x' for creating and writing to a new file, and\n",
      "    'a' for appending (which on some Unix systems, means that all writes\n",
      "    append to the end of the file regardless of the current seek position).\n",
      "    In text mode, if encoding is not specified the encoding used is platform\n",
      "    dependent: locale.getpreferredencoding(False) is called to get the\n",
      "    current locale encoding. (For reading and writing raw bytes use binary\n",
      "    mode and leave encoding unspecified.) The available modes are:\n",
      "    \n",
      "    ========= ===============================================================\n",
      "    Character Meaning\n",
      "    --------- ---------------------------------------------------------------\n",
      "    'r'       open for reading (default)\n",
      "    'w'       open for writing, truncating the file first\n",
      "    'x'       create a new file and open it for writing\n",
      "    'a'       open for writing, appending to the end of the file if it exists\n",
      "    'b'       binary mode\n",
      "    't'       text mode (default)\n",
      "    '+'       open a disk file for updating (reading and writing)\n",
      "    'U'       universal newline mode (deprecated)\n",
      "    ========= ===============================================================\n",
      "    \n",
      "    The default mode is 'rt' (open for reading text). For binary random\n",
      "    access, the mode 'w+b' opens and truncates the file to 0 bytes, while\n",
      "    'r+b' opens the file without truncation. The 'x' mode implies 'w' and\n",
      "    raises an `FileExistsError` if the file already exists.\n",
      "    \n",
      "    Python distinguishes between files opened in binary and text modes,\n",
      "    even when the underlying operating system doesn't. Files opened in\n",
      "    binary mode (appending 'b' to the mode argument) return contents as\n",
      "    bytes objects without any decoding. In text mode (the default, or when\n",
      "    't' is appended to the mode argument), the contents of the file are\n",
      "    returned as strings, the bytes having been first decoded using a\n",
      "    platform-dependent encoding or using the specified encoding if given.\n",
      "    \n",
      "    'U' mode is deprecated and will raise an exception in future versions\n",
      "    of Python.  It has no effect in Python 3.  Use newline to control\n",
      "    universal newlines mode.\n",
      "    \n",
      "    buffering is an optional integer used to set the buffering policy.\n",
      "    Pass 0 to switch buffering off (only allowed in binary mode), 1 to select\n",
      "    line buffering (only usable in text mode), and an integer > 1 to indicate\n",
      "    the size of a fixed-size chunk buffer.  When no buffering argument is\n",
      "    given, the default buffering policy works as follows:\n",
      "    \n",
      "    * Binary files are buffered in fixed-size chunks; the size of the buffer\n",
      "      is chosen using a heuristic trying to determine the underlying device's\n",
      "      \"block size\" and falling back on `io.DEFAULT_BUFFER_SIZE`.\n",
      "      On many systems, the buffer will typically be 4096 or 8192 bytes long.\n",
      "    \n",
      "    * \"Interactive\" text files (files for which isatty() returns True)\n",
      "      use line buffering.  Other text files use the policy described above\n",
      "      for binary files.\n",
      "    \n",
      "    encoding is the name of the encoding used to decode or encode the\n",
      "    file. This should only be used in text mode. The default encoding is\n",
      "    platform dependent, but any encoding supported by Python can be\n",
      "    passed.  See the codecs module for the list of supported encodings.\n",
      "    \n",
      "    errors is an optional string that specifies how encoding errors are to\n",
      "    be handled---this argument should not be used in binary mode. Pass\n",
      "    'strict' to raise a ValueError exception if there is an encoding error\n",
      "    (the default of None has the same effect), or pass 'ignore' to ignore\n",
      "    errors. (Note that ignoring encoding errors can lead to data loss.)\n",
      "    See the documentation for codecs.register or run 'help(codecs.Codec)'\n",
      "    for a list of the permitted encoding error strings.\n",
      "    \n",
      "    newline controls how universal newlines works (it only applies to text\n",
      "    mode). It can be None, '', '\\n', '\\r', and '\\r\\n'.  It works as\n",
      "    follows:\n",
      "    \n",
      "    * On input, if newline is None, universal newlines mode is\n",
      "      enabled. Lines in the input can end in '\\n', '\\r', or '\\r\\n', and\n",
      "      these are translated into '\\n' before being returned to the\n",
      "      caller. If it is '', universal newline mode is enabled, but line\n",
      "      endings are returned to the caller untranslated. If it has any of\n",
      "      the other legal values, input lines are only terminated by the given\n",
      "      string, and the line ending is returned to the caller untranslated.\n",
      "    \n",
      "    * On output, if newline is None, any '\\n' characters written are\n",
      "      translated to the system default line separator, os.linesep. If\n",
      "      newline is '' or '\\n', no translation takes place. If newline is any\n",
      "      of the other legal values, any '\\n' characters written are translated\n",
      "      to the given string.\n",
      "    \n",
      "    If closefd is False, the underlying file descriptor will be kept open\n",
      "    when the file is closed. This does not work when a file name is given\n",
      "    and must be True in that case.\n",
      "    \n",
      "    A custom opener can be used by passing a callable as *opener*. The\n",
      "    underlying file descriptor for the file object is then obtained by\n",
      "    calling *opener* with (*file*, *flags*). *opener* must return an open\n",
      "    file descriptor (passing os.open as *opener* results in functionality\n",
      "    similar to passing None).\n",
      "    \n",
      "    open() returns a file object whose type depends on the mode, and\n",
      "    through which the standard file operations such as reading and writing\n",
      "    are performed. When open() is used to open a file in a text mode ('w',\n",
      "    'r', 'wt', 'rt', etc.), it returns a TextIOWrapper. When used to open\n",
      "    a file in a binary mode, the returned class varies: in read binary\n",
      "    mode, it returns a BufferedReader; in write binary and append binary\n",
      "    modes, it returns a BufferedWriter, and in read/write mode, it returns\n",
      "    a BufferedRandom.\n",
      "    \n",
      "    It is also possible to use a string or bytearray as a file for both\n",
      "    reading and writing. For strings StringIO can be used like a file\n",
      "    opened in a text mode, and for bytes a BytesIO can be used like a file\n",
      "    opened in a binary mode.\n",
      "\n"
     ]
    }
   ],
   "source": [
    "help(open)"
   ]
  },
  {
   "cell_type": "markdown",
   "metadata": {},
   "source": [
    "### *Example 6: Writing a `.csv` file*\n",
    "\n",
    "In this example, we'll create a new `.csv` file from a list of lists. Our data consists of simulated pH measurements of reservoir water. Each row represents hourly measurements, and there are 18 rows representing 18 days."
   ]
  },
  {
   "cell_type": "code",
   "execution_count": 135,
   "metadata": {},
   "outputs": [],
   "source": [
    "import random\n",
    "\n",
    "# Scaling the output of random.random() to be between 5 and 8.\n",
    "rainwater_ph = [[5 + random.random()*(8 - 5) for _ in range(24)] for _ in range(18)]\n",
    "\n",
    "with open('ph.csv', 'w', newline = '') as writefile:\n",
    "    writer = csv.writer(writefile)     # Create the 'writer' object.\n",
    "    \n",
    "    # Write all data in 'rainwater_ph' to the csv file.\n",
    "    writer.writerows(rainwater_ph)"
   ]
  },
  {
   "cell_type": "markdown",
   "metadata": {},
   "source": [
    "### *Example 7: Writing a dictionary to a `.csv` file*\n",
    "\n",
    "For this last example, we'll create a new `.csv` file from a Python dictionary. This uses a special `writer` object: the `DictWriter` object. We will use the dictionary keys as the column headings by specifying the `fieldnames` keyworded argument when we create the `DictWriter` object.\n",
    "\n",
    "The data for this example is 100 simulated patients with high blood pressure. The dictionary consists of patient identifier numbers, then systolic and diastolic measurements."
   ]
  },
  {
   "cell_type": "code",
   "execution_count": null,
   "metadata": {},
   "outputs": [],
   "source": [
    "import random\n",
    "\n",
    "N = 100\n",
    "\n",
    "header = ['patient_id','systolic','diastolic']\n",
    "\n",
    "# Create the simulated data.\n",
    "patient_id = ['0011' + str(i) for i in range(N)]\n",
    "systolic = [random.randint(140,160) for _ in range(N)]\n",
    "diastolic = [random.randint(90,110) for _ in range(N)]\n",
    "\n",
    "patients = list(zip(patient_id, systolic, diastolic))\n",
    "\n",
    "with open('blood_pressure.csv', 'w', newline = '') as writefile:\n",
    "    writer = csv.DictWriter(writefile, fieldnames = header)  # fieldnames are the column names in the csv file\n",
    "    \n",
    "    # Create the header.\n",
    "    writer.writeheader()\n",
    "    \n",
    "    # Fill in the rows by header value.\n",
    "    for row in patients:\n",
    "        writer.writerow({key: value for key,value in zip(header, row)})"
   ]
  },
  {
   "cell_type": "markdown",
   "metadata": {},
   "source": [
    "The basic objects for reading `.csv` files in Python are the `csv.reader()` and `csv.DictReader()` objects. The basic objects for writing to `.csv` in Python are the `csv.writer()` and `csv.DictWriter()` objects. The methods for these objects are outlined as follows:\n",
    "\n",
    "|Object|Method|Description|\n",
    "|---|---|---|\n",
    "|`csv.reader()`|`reader.__next__()`|Returns the next row in the file as a list|\n",
    "|&nbsp;|`reader.line_num`|Returns the total number of lines read from the file|\n",
    "|`csv.DictReader()`|`dictreader.__next__()`|Returns the next row in the file as a list|\n",
    "|&nbsp;|`dictreader.fieldnames`|Returns the column headings in the original file|\n",
    "|`csv.writer()`|`writer.writerow(<row>)`|Writes `<row>` to the file|\n",
    "|&nbsp;|`writer.writerows(<iterable>)`|Writes the elements of an `<iterable>` (i.e. a list, tuple, or dictionary) to the file|\n",
    "|`csv.DictWriter()`|`dictwriter.writeheader()`|If the `fieldnames` keyworded argument is specified, this creates the column headings in the file|"
   ]
  },
  {
   "cell_type": "markdown",
   "metadata": {},
   "source": [
    "# Summary: File I/O\n",
    "\n",
    "* Python can read and write data to `.txt` and `.csv` files with no external packages.\n",
    "* The `with` command automatically closes a file for reading or writing at the end of the `with` block.\n",
    "* The `open()` function opens a file for reading or writing.\n",
    "* Files are read into Python from `.txt` files as strings.\n",
    "* The basic objects for reading `.csv` files are `csv.reader()` and `csv.DictReader()`.\n",
    "* The basic objects for writing to `.csv` files are `csv.writer()` and `csv.DictWriter()`."
   ]
  },
  {
   "cell_type": "markdown",
   "metadata": {},
   "source": [
    "### Exercise 8\n",
    "\n",
    "Go to [Project Gutenberg](https://www.gutenberg.org/) and download a public domain book in the `.txt` format. Read your book into Python and save it as a list of individual strings. "
   ]
  },
  {
   "cell_type": "code",
   "execution_count": null,
   "metadata": {},
   "outputs": [],
   "source": []
  },
  {
   "cell_type": "markdown",
   "metadata": {},
   "source": [
    "### Exercise 9\n",
    "\n",
    "For this exercise, write a program that creates username/password combinations for 20 users. The passwords should be randomized strings made from upper/lower case characters and numbers with at least 8 characters in them. Write your username/password combinations to a `.csv` file.\n",
    "\n",
    "Once the `.csv` file is created, read in the username/password data as a dictionary."
   ]
  },
  {
   "cell_type": "code",
   "execution_count": null,
   "metadata": {},
   "outputs": [],
   "source": [
    "import string\n",
    "import random\n",
    "import csv\n",
    "\n",
    "N = 20\n",
    "\n",
    "letters = string.ascii_letters\n",
    "numbers = string.digits\n",
    "\n",
    "characters = letters + numbers\n",
    "\n"
   ]
  },
  {
   "cell_type": "markdown",
   "metadata": {},
   "source": [
    "### Exercise 10\n",
    "\n",
    "Write a program that creates simulated data for a hypothetical study. The study is to be on correlations between income and house price for 300 home owners. Your data headings will be home owner identifier numbers, income (random integers between \\\\$30,000 and \\\\$150,000 incrementing by 1000), and house price (random integers between \\\\$200,000 and \\\\$1,000,000). Save your data as a dictionary and then write it to a `.csv` file called `house_prices.csv`."
   ]
  },
  {
   "cell_type": "code",
   "execution_count": null,
   "metadata": {},
   "outputs": [],
   "source": []
  },
  {
   "cell_type": "code",
   "execution_count": null,
   "metadata": {},
   "outputs": [],
   "source": []
  }
 ],
 "metadata": {
  "kernelspec": {
   "display_name": "Python 3",
   "language": "python",
   "name": "python3"
  },
  "language_info": {
   "codemirror_mode": {
    "name": "ipython",
    "version": 3
   },
   "file_extension": ".py",
   "mimetype": "text/x-python",
   "name": "python",
   "nbconvert_exporter": "python",
   "pygments_lexer": "ipython3",
   "version": "3.7.1"
  }
 },
 "nbformat": 4,
 "nbformat_minor": 2
}
