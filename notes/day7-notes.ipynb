{
 "cells": [
  {
   "cell_type": "markdown",
   "metadata": {},
   "source": [
    "# ICT 781 - Day 7\n",
    "\n",
    "# Debugging and Testing\n",
    "\n",
    "<a title=\"By Bernard DUPONT from FRANCE (Red Bugs (Pyrrhocoridae) nymphs) [CC BY-SA 2.0 \n",
    " (https://creativecommons.org/licenses/by-sa/2.0\n",
    ")], via Wikimedia Commons\" href=\"https://commons.wikimedia.org/wiki/File:Red_Bugs_(Pyrrhocoridae)_nymphs_(17965743402).jpg\"><img width=\"512\" alt=\"Red Bugs (Pyrrhocoridae) nymphs (17965743402)\" src=\"https://upload.wikimedia.org/wikipedia/commons/thumb/2/28/Red_Bugs_%28Pyrrhocoridae%29_nymphs_%2817965743402%29.jpg/512px-Red_Bugs_%28Pyrrhocoridae%29_nymphs_%2817965743402%29.jpg\"></a>"
   ]
  },
  {
   "cell_type": "markdown",
   "metadata": {},
   "source": [
    "# Creating Bugs\n",
    "\n",
    "The unfortunate truth about programming is that we just don't write perfect code. Most (if not all) programming projects undergo several revisions before they are ready for production and release. Even on a smaller scale, code meant to be shared with only a few programmers needs to be tested and as bug-free as possible before it can be reliably used by the whole group of programmers. \n",
    "\n",
    "Debugging is done as much as possible **before** the code is sent out to be shared with others.\n",
    "\n",
    "A **bug** is a non-specific term that refers to any single syntax, runtime, or semantic error (or a combination of these errors) that causes a program to behave improperly. Let's refresh what each of these errors mean and see examples of each.\n",
    "\n",
    "## Syntax Errors\n",
    "\n",
    "These are errors in the way the code is written. Most often syntax errors arise from missing end parentheses, using undefined variables, misspelling Python keywords, improper indenting, or using syntax from the wrong programming language. There are many other ways of making syntax errors. Thankfully, the Python interpreter will throw exceptions when syntax errors are encountered. Here are some examples.\n",
    "\n",
    "### *Example 1: Some syntax errors*"
   ]
  },
  {
   "cell_type": "code",
   "execution_count": 1,
   "metadata": {},
   "outputs": [
    {
     "ename": "SyntaxError",
     "evalue": "invalid syntax (<ipython-input-1-620edcdd68f8>, line 3)",
     "output_type": "error",
     "traceback": [
      "\u001b[1;36m  File \u001b[1;32m\"<ipython-input-1-620edcdd68f8>\"\u001b[1;36m, line \u001b[1;32m3\u001b[0m\n\u001b[1;33m    print(g)\u001b[0m\n\u001b[1;37m        ^\u001b[0m\n\u001b[1;31mSyntaxError\u001b[0m\u001b[1;31m:\u001b[0m invalid syntax\n"
     ]
    }
   ],
   "source": [
    "g = [i**2 for i in range(10)\n",
    "     \n",
    "print(g)"
   ]
  },
  {
   "cell_type": "code",
   "execution_count": 2,
   "metadata": {},
   "outputs": [
    {
     "ename": "SyntaxError",
     "evalue": "invalid syntax (<ipython-input-2-5f991b84ce14>, line 1)",
     "output_type": "error",
     "traceback": [
      "\u001b[1;36m  File \u001b[1;32m\"<ipython-input-2-5f991b84ce14>\"\u001b[1;36m, line \u001b[1;32m1\u001b[0m\n\u001b[1;33m    print([i for i range(15)])\u001b[0m\n\u001b[1;37m                       ^\u001b[0m\n\u001b[1;31mSyntaxError\u001b[0m\u001b[1;31m:\u001b[0m invalid syntax\n"
     ]
    }
   ],
   "source": [
    "print([i for i range(15)])"
   ]
  },
  {
   "cell_type": "code",
   "execution_count": 3,
   "metadata": {},
   "outputs": [
    {
     "ename": "SyntaxError",
     "evalue": "invalid syntax (<ipython-input-3-6333158ff246>, line 8)",
     "output_type": "error",
     "traceback": [
      "\u001b[1;36m  File \u001b[1;32m\"<ipython-input-3-6333158ff246>\"\u001b[1;36m, line \u001b[1;32m8\u001b[0m\n\u001b[1;33m    total += (-1)**i*x**(2*i+1)/math.factorial(2*n+1) = total\u001b[0m\n\u001b[1;37m                                                      ^\u001b[0m\n\u001b[1;31mSyntaxError\u001b[0m\u001b[1;31m:\u001b[0m invalid syntax\n"
     ]
    }
   ],
   "source": [
    "def sin_trunc(x,n):\n",
    "    \"\"\" Function for the power series of the sine function up to the nth term, evaluated at x. \"\"\"\n",
    "    \n",
    "    import math\n",
    "    \n",
    "    total = 0\n",
    "    for i in range(1,n):\n",
    "        total += (-1)**i*x**(2*i+1)/math.factorial(2*n+1) = total\n",
    "        \n",
    "    return total\n",
    "\n",
    "sinTrunc(1,10)"
   ]
  },
  {
   "cell_type": "code",
   "execution_count": 4,
   "metadata": {},
   "outputs": [
    {
     "ename": "IndentationError",
     "evalue": "expected an indented block (<ipython-input-4-e6207ea5b237>, line 2)",
     "output_type": "error",
     "traceback": [
      "\u001b[1;36m  File \u001b[1;32m\"<ipython-input-4-e6207ea5b237>\"\u001b[1;36m, line \u001b[1;32m2\u001b[0m\n\u001b[1;33m    print('hello')\u001b[0m\n\u001b[1;37m        ^\u001b[0m\n\u001b[1;31mIndentationError\u001b[0m\u001b[1;31m:\u001b[0m expected an indented block\n"
     ]
    }
   ],
   "source": [
    "for i in range(10):\n",
    "print('hello')"
   ]
  },
  {
   "cell_type": "code",
   "execution_count": 5,
   "metadata": {},
   "outputs": [
    {
     "ename": "SyntaxError",
     "evalue": "invalid syntax (<ipython-input-5-b1b29372999e>, line 1)",
     "output_type": "error",
     "traceback": [
      "\u001b[1;36m  File \u001b[1;32m\"<ipython-input-5-b1b29372999e>\"\u001b[1;36m, line \u001b[1;32m1\u001b[0m\n\u001b[1;33m    for (int i = 0; i < 10; i ++){\u001b[0m\n\u001b[1;37m             ^\u001b[0m\n\u001b[1;31mSyntaxError\u001b[0m\u001b[1;31m:\u001b[0m invalid syntax\n"
     ]
    }
   ],
   "source": [
    "for (int i = 0; i < 10; i ++){\n",
    "    print('This is C++ syntax.')\n",
    "}"
   ]
  },
  {
   "cell_type": "code",
   "execution_count": 6,
   "metadata": {},
   "outputs": [
    {
     "ename": "SyntaxError",
     "evalue": "invalid syntax (<ipython-input-6-ddafedc0347c>, line 1)",
     "output_type": "error",
     "traceback": [
      "\u001b[1;36m  File \u001b[1;32m\"<ipython-input-6-ddafedc0347c>\"\u001b[1;36m, line \u001b[1;32m1\u001b[0m\n\u001b[1;33m    for i = 1:10\u001b[0m\n\u001b[1;37m          ^\u001b[0m\n\u001b[1;31mSyntaxError\u001b[0m\u001b[1;31m:\u001b[0m invalid syntax\n"
     ]
    }
   ],
   "source": [
    "for i = 1:10\n",
    "    total = total + 1\n",
    "end;"
   ]
  },
  {
   "cell_type": "markdown",
   "metadata": {},
   "source": [
    "## Runtime Errors\n",
    "\n",
    "A runtime error occurs when the code is written with proper syntax, but the program cannot perform the task due to logical mistakes. Runtime errors can happen when a `for` loop tries to access a list index that doesn't exist, the program tries to use a module which has not been imported, or when division by zero occurs, among many other situations.\n",
    "\n",
    "### *Example 2: Some runtime errors*"
   ]
  },
  {
   "cell_type": "code",
   "execution_count": 7,
   "metadata": {},
   "outputs": [
    {
     "name": "stdout",
     "output_type": "stream",
     "text": [
      "1998\n",
      "2004\n",
      "2007\n",
      "2010\n",
      "2015\n"
     ]
    },
    {
     "ename": "IndexError",
     "evalue": "list index out of range",
     "output_type": "error",
     "traceback": [
      "\u001b[1;31m---------------------------------------------------------------------------\u001b[0m",
      "\u001b[1;31mIndexError\u001b[0m                                Traceback (most recent call last)",
      "\u001b[1;32m<ipython-input-7-85eb1c8b2d6d>\u001b[0m in \u001b[0;36m<module>\u001b[1;34m\u001b[0m\n\u001b[0;32m      3\u001b[0m \u001b[0mN\u001b[0m \u001b[1;33m=\u001b[0m \u001b[0mlen\u001b[0m\u001b[1;33m(\u001b[0m\u001b[0myears\u001b[0m\u001b[1;33m)\u001b[0m\u001b[1;33m\u001b[0m\u001b[1;33m\u001b[0m\u001b[0m\n\u001b[0;32m      4\u001b[0m \u001b[1;32mfor\u001b[0m \u001b[0mi\u001b[0m \u001b[1;32min\u001b[0m \u001b[0mrange\u001b[0m\u001b[1;33m(\u001b[0m\u001b[0mN\u001b[0m\u001b[1;33m)\u001b[0m\u001b[1;33m:\u001b[0m\u001b[1;33m\u001b[0m\u001b[1;33m\u001b[0m\u001b[0m\n\u001b[1;32m----> 5\u001b[1;33m     \u001b[0mprint\u001b[0m\u001b[1;33m(\u001b[0m\u001b[0myears\u001b[0m\u001b[1;33m[\u001b[0m\u001b[0mi\u001b[0m\u001b[1;33m+\u001b[0m\u001b[1;36m1\u001b[0m\u001b[1;33m]\u001b[0m\u001b[1;33m)\u001b[0m\u001b[1;33m\u001b[0m\u001b[1;33m\u001b[0m\u001b[0m\n\u001b[0m",
      "\u001b[1;31mIndexError\u001b[0m: list index out of range"
     ]
    }
   ],
   "source": [
    "years = ['1991','1998','2004','2007','2010','2015']\n",
    "\n",
    "N = len(years)\n",
    "for i in range(N):\n",
    "    print(years[i+1])"
   ]
  },
  {
   "cell_type": "code",
   "execution_count": 8,
   "metadata": {},
   "outputs": [
    {
     "ename": "NameError",
     "evalue": "name 'numpy' is not defined",
     "output_type": "error",
     "traceback": [
      "\u001b[1;31m---------------------------------------------------------------------------\u001b[0m",
      "\u001b[1;31mNameError\u001b[0m                                 Traceback (most recent call last)",
      "\u001b[1;32m<ipython-input-8-de3113e3128d>\u001b[0m in \u001b[0;36m<module>\u001b[1;34m\u001b[0m\n\u001b[0;32m      1\u001b[0m \u001b[1;31m# Create 220 evenly spaced points from 0 to 1.\u001b[0m\u001b[1;33m\u001b[0m\u001b[1;33m\u001b[0m\u001b[1;33m\u001b[0m\u001b[0m\n\u001b[1;32m----> 2\u001b[1;33m \u001b[0mx\u001b[0m \u001b[1;33m=\u001b[0m \u001b[0mnumpy\u001b[0m\u001b[1;33m.\u001b[0m\u001b[0mlinspace\u001b[0m\u001b[1;33m(\u001b[0m\u001b[1;36m0\u001b[0m\u001b[1;33m,\u001b[0m\u001b[1;36m1\u001b[0m\u001b[1;33m,\u001b[0m\u001b[1;36m220\u001b[0m\u001b[1;33m)\u001b[0m\u001b[1;33m\u001b[0m\u001b[1;33m\u001b[0m\u001b[0m\n\u001b[0m",
      "\u001b[1;31mNameError\u001b[0m: name 'numpy' is not defined"
     ]
    }
   ],
   "source": [
    "# Create 220 evenly spaced points from 0 to 1.\n",
    "x = numpy.linspace(0,1,220)"
   ]
  },
  {
   "cell_type": "code",
   "execution_count": 9,
   "metadata": {},
   "outputs": [
    {
     "name": "stdout",
     "output_type": "stream",
     "text": [
      "-0.5\n",
      "-0.5555555555555556\n",
      "-0.625\n",
      "-0.7142857142857143\n",
      "-0.8333333333333334\n",
      "-1.0\n",
      "-1.25\n",
      "-1.6666666666666667\n",
      "-2.5\n",
      "-5.0\n"
     ]
    },
    {
     "ename": "ZeroDivisionError",
     "evalue": "division by zero",
     "output_type": "error",
     "traceback": [
      "\u001b[1;31m---------------------------------------------------------------------------\u001b[0m",
      "\u001b[1;31mZeroDivisionError\u001b[0m                         Traceback (most recent call last)",
      "\u001b[1;32m<ipython-input-9-0fae1c24469f>\u001b[0m in \u001b[0;36m<module>\u001b[1;34m\u001b[0m\n\u001b[0;32m      1\u001b[0m \u001b[1;32mfor\u001b[0m \u001b[0mi\u001b[0m \u001b[1;32min\u001b[0m \u001b[0mrange\u001b[0m\u001b[1;33m(\u001b[0m\u001b[1;33m-\u001b[0m\u001b[1;36m10\u001b[0m\u001b[1;33m,\u001b[0m\u001b[1;36m10\u001b[0m\u001b[1;33m)\u001b[0m\u001b[1;33m:\u001b[0m\u001b[1;33m\u001b[0m\u001b[1;33m\u001b[0m\u001b[0m\n\u001b[1;32m----> 2\u001b[1;33m     \u001b[0mprint\u001b[0m\u001b[1;33m(\u001b[0m\u001b[1;36m5\u001b[0m\u001b[1;33m/\u001b[0m\u001b[0mi\u001b[0m\u001b[1;33m)\u001b[0m\u001b[1;33m\u001b[0m\u001b[1;33m\u001b[0m\u001b[0m\n\u001b[0m",
      "\u001b[1;31mZeroDivisionError\u001b[0m: division by zero"
     ]
    }
   ],
   "source": [
    "for i in range(-10,10):\n",
    "    print(5/i)"
   ]
  },
  {
   "cell_type": "markdown",
   "metadata": {},
   "source": [
    "## Semantic Errors\n",
    "\n",
    "These are the hardest errors to detect, because Python won't throw exceptions when they occur. Semantic errors happen when the programmer has written code with no syntax or runtime errors, but the code still doesn't do what the programmer expects. They are caused by numerous oversights or inattention to small details, and are often only detected when the program is being tested.\n",
    "\n",
    "### *Example 3: A semantic error*"
   ]
  },
  {
   "cell_type": "code",
   "execution_count": 13,
   "metadata": {},
   "outputs": [
    {
     "name": "stdout",
     "output_type": "stream",
     "text": [
      "0\n"
     ]
    }
   ],
   "source": [
    "def factorial(n):\n",
    "    \"\"\" Compute the factorial function of the number n. \"\"\"\n",
    "    \n",
    "    total = 0\n",
    "    \n",
    "    for i in range(n):\n",
    "        total *= i\n",
    "        \n",
    "    return total\n",
    "\n",
    "print(factorial(5))"
   ]
  },
  {
   "cell_type": "markdown",
   "metadata": {},
   "source": [
    "We know that $5! = 5\\cdot4\\cdot3\\cdot2\\cdot1 = 120$, but the program returns `0`."
   ]
  },
  {
   "cell_type": "markdown",
   "metadata": {},
   "source": [
    "# Debugging with `print()` Statements\n",
    "\n",
    "In other words, *debugging-lite*. \n",
    "\n",
    "A `print` statement is a simple way to make sure things run smoothly within a block of code. We've used these somewhat frequently up to this point, so we'll only cover them briefly here.\n",
    "\n",
    "Suppose that we want to check the output for the `is_prime` function. We could either print out the result of the function call, or we could write `print` statements inside the function itself.\n",
    "\n",
    "### *Example 4: Debugging using `print()`*"
   ]
  },
  {
   "cell_type": "code",
   "execution_count": 14,
   "metadata": {},
   "outputs": [
    {
     "name": "stdout",
     "output_type": "stream",
     "text": [
      "False\n",
      "False\n"
     ]
    }
   ],
   "source": [
    "# Printing the output\n",
    "def is_prime(n):\n",
    "    for element in range(2,n):\n",
    "        if n % element == 0:\n",
    "            return False\n",
    "    return True\n",
    "\n",
    "print(is_prime(14))\n",
    "\n",
    "# Adding print statements to the function.\n",
    "def is_prime(n):\n",
    "    for element in range(2,n):\n",
    "        if n % element == 0:\n",
    "            print(False)\n",
    "            return False\n",
    "    print(True)\n",
    "    return True\n",
    "\n",
    "is_prime(14);"
   ]
  },
  {
   "cell_type": "markdown",
   "metadata": {},
   "source": [
    "You can place `print` statements strategically through the body of a function to tell you what's going on. Some common places for these `print` statements are:\n",
    "* Within `if/else` conditional statements, to ensure that conditions are being met,\n",
    "* when transforming a variable through a mathematical formula or list comprehensions, and \n",
    "* before returning the function output(s).\n",
    "\n",
    "### ֍֍֍ Caution ֎֎֎\n",
    "\n",
    "There are two very clear problems with this method of debugging: it is time-consuming and it requires near-clairvoyance to put the `print()` statements in the **exact** places where errors will be created.\n",
    "\n",
    "Therefore, for any serious debugging, we'll need a more systematic approach."
   ]
  },
  {
   "cell_type": "markdown",
   "metadata": {},
   "source": [
    "# Using the Interactive Debugger\n",
    "\n",
    "Since the responsibility of removing bugs lies with the developer, we need tools to make the process of locating and fixing bugs easier. Luckily, Python comes with a built-in interactive debugger: `pdb`. The full features of any debugger can be overwhelming, so let's focus on the basic structure and commands of `pdb`. Here is an overview of how a developer can use the debugger.\n",
    "\n",
    "* In debugging mode, step through the code line by line. \n",
    "* As you view each line of code, you can list the source code, print the value of a variable, or find out where a problematic function is being called.\n",
    "* Once you locate the sources of the errors in your code, you can fix them!\n",
    "\n",
    "### Preparing to Debug\n",
    "\n",
    "**The default way to run a Jupyter cell in debugging mode is to add the 'cell magic' `%debug` to the cell you want to debug.** Since we are using a Jupyter notebook, we need to add a `breakpoint()` to our code. This signals to the debugger that there is something to be debugged. In the Spyder IDE, this step is not necessary to run debug mode. In Spyder, you can run the debugger as shown in the following image.\n",
    "![Debug-mode-Spyder](https://i.imgur.com/IasKlXZ.png)\n",
    "\n",
    "Alternatively, to run the debugger from any script, including those called from the command line, include the code\n",
    "```\n",
    "import pdb\n",
    "```\n",
    "at the beginning of your code, and place `pdb.set_trace()` at the breakpoints within the body of your code.\n",
    "\n",
    "In the next example, we'll define a simple function and then see what happens when we run the function in debugging mode.\n",
    "\n",
    "### *Example 5: Debugging a single function*\n",
    "\n",
    "We'll 'step' through each line of code in debug mode by entering the `n` (next) command. We can print out the value of a variable with the command `p <variable name>`. When we're finished debugging, we'll quit debug mode with the `q` command."
   ]
  },
  {
   "cell_type": "code",
   "execution_count": 16,
   "metadata": {
    "scrolled": false
   },
   "outputs": [
    {
     "name": "stdout",
     "output_type": "stream",
     "text": [
      "> \u001b[1;32mc:\\users\\matt\\anaconda3\\lib\\bdb.py\u001b[0m(113)\u001b[0;36mdispatch_line\u001b[1;34m()\u001b[0m\n",
      "\u001b[1;32m    111 \u001b[1;33m        \u001b[1;32mif\u001b[0m \u001b[0mself\u001b[0m\u001b[1;33m.\u001b[0m\u001b[0mstop_here\u001b[0m\u001b[1;33m(\u001b[0m\u001b[0mframe\u001b[0m\u001b[1;33m)\u001b[0m \u001b[1;32mor\u001b[0m \u001b[0mself\u001b[0m\u001b[1;33m.\u001b[0m\u001b[0mbreak_here\u001b[0m\u001b[1;33m(\u001b[0m\u001b[0mframe\u001b[0m\u001b[1;33m)\u001b[0m\u001b[1;33m:\u001b[0m\u001b[1;33m\u001b[0m\u001b[1;33m\u001b[0m\u001b[0m\n",
      "\u001b[0m\u001b[1;32m    112 \u001b[1;33m            \u001b[0mself\u001b[0m\u001b[1;33m.\u001b[0m\u001b[0muser_line\u001b[0m\u001b[1;33m(\u001b[0m\u001b[0mframe\u001b[0m\u001b[1;33m)\u001b[0m\u001b[1;33m\u001b[0m\u001b[1;33m\u001b[0m\u001b[0m\n",
      "\u001b[0m\u001b[1;32m--> 113 \u001b[1;33m            \u001b[1;32mif\u001b[0m \u001b[0mself\u001b[0m\u001b[1;33m.\u001b[0m\u001b[0mquitting\u001b[0m\u001b[1;33m:\u001b[0m \u001b[1;32mraise\u001b[0m \u001b[0mBdbQuit\u001b[0m\u001b[1;33m\u001b[0m\u001b[1;33m\u001b[0m\u001b[0m\n",
      "\u001b[0m\u001b[1;32m    114 \u001b[1;33m        \u001b[1;32mreturn\u001b[0m \u001b[0mself\u001b[0m\u001b[1;33m.\u001b[0m\u001b[0mtrace_dispatch\u001b[0m\u001b[1;33m\u001b[0m\u001b[1;33m\u001b[0m\u001b[0m\n",
      "\u001b[0m\u001b[1;32m    115 \u001b[1;33m\u001b[1;33m\u001b[0m\u001b[0m\n",
      "\u001b[0m\n",
      "ipdb> covid\n",
      "*** NameError: name 'covid' is not defined\n",
      "ipdb> n\n",
      "> <ipython-input-16-26dbdbce60b8>(32)calculate_statistics()\n",
      "-> N = len(data)\n",
      "(Pdb) n\n",
      "> <ipython-input-16-26dbdbce60b8>(35)calculate_statistics()\n",
      "-> average = sum(data)/N\n",
      "(Pdb) n\n",
      "> <ipython-input-16-26dbdbce60b8>(37)calculate_statistics()\n",
      "-> sum_squared_deviations = 0\n",
      "(Pdb) n\n",
      "> <ipython-input-16-26dbdbce60b8>(40)calculate_statistics()\n",
      "-> for x in data:\n",
      "(Pdb) n\n",
      "> <ipython-input-16-26dbdbce60b8>(41)calculate_statistics()\n",
      "-> sum_squared_deviations += (x - average)**2\n",
      "(Pdb) n\n",
      "> <ipython-input-16-26dbdbce60b8>(40)calculate_statistics()\n",
      "-> for x in data:\n",
      "(Pdb) n\n",
      "> <ipython-input-16-26dbdbce60b8>(41)calculate_statistics()\n",
      "-> sum_squared_deviations += (x - average)**2\n",
      "(Pdb) n\n",
      "> <ipython-input-16-26dbdbce60b8>(40)calculate_statistics()\n",
      "-> for x in data:\n",
      "(Pdb) n\n",
      "> <ipython-input-16-26dbdbce60b8>(41)calculate_statistics()\n",
      "-> sum_squared_deviations += (x - average)**2\n",
      "(Pdb) p x\n",
      "2\n",
      "(Pdb) n\n",
      "> <ipython-input-16-26dbdbce60b8>(40)calculate_statistics()\n",
      "-> for x in data:\n",
      "(Pdb) n\n",
      "> <ipython-input-16-26dbdbce60b8>(41)calculate_statistics()\n",
      "-> sum_squared_deviations += (x - average)**2\n",
      "(Pdb) n\n",
      "> <ipython-input-16-26dbdbce60b8>(40)calculate_statistics()\n",
      "-> for x in data:\n",
      "(Pdb) n\n",
      "> <ipython-input-16-26dbdbce60b8>(41)calculate_statistics()\n",
      "-> sum_squared_deviations += (x - average)**2\n",
      "(Pdb) n\n",
      "> <ipython-input-16-26dbdbce60b8>(40)calculate_statistics()\n",
      "-> for x in data:\n",
      "(Pdb) n\n",
      "> <ipython-input-16-26dbdbce60b8>(44)calculate_statistics()\n",
      "-> stdev = sum_squared_deviations/N\n",
      "(Pdb) n\n",
      "> <ipython-input-16-26dbdbce60b8>(46)calculate_statistics()\n",
      "-> average = round(average, 4)\n",
      "(Pdb) p stdev\n",
      "2.0\n",
      "(Pdb) n\n",
      "> <ipython-input-16-26dbdbce60b8>(47)calculate_statistics()\n",
      "-> stdev = round(stdev, 4)\n",
      "(Pdb) q\n"
     ]
    },
    {
     "ename": "BdbQuit",
     "evalue": "",
     "output_type": "error",
     "traceback": [
      "\u001b[1;31m---------------------------------------------------------------------------\u001b[0m",
      "\u001b[1;31mBdbQuit\u001b[0m                                   Traceback (most recent call last)",
      "\u001b[1;32m<ipython-input-16-26dbdbce60b8>\u001b[0m in \u001b[0;36m<module>\u001b[1;34m\u001b[0m\n\u001b[0;32m     49\u001b[0m     \u001b[1;32mreturn\u001b[0m \u001b[0maverage\u001b[0m\u001b[1;33m,\u001b[0m \u001b[0mstdev\u001b[0m\u001b[1;33m\u001b[0m\u001b[1;33m\u001b[0m\u001b[0m\n\u001b[0;32m     50\u001b[0m \u001b[1;33m\u001b[0m\u001b[0m\n\u001b[1;32m---> 51\u001b[1;33m \u001b[0mcalculate_statistics\u001b[0m\u001b[1;33m(\u001b[0m\u001b[0mlist\u001b[0m\u001b[1;33m(\u001b[0m\u001b[0mrange\u001b[0m\u001b[1;33m(\u001b[0m\u001b[1;36m5\u001b[0m\u001b[1;33m)\u001b[0m\u001b[1;33m)\u001b[0m\u001b[1;33m)\u001b[0m\u001b[1;33m\u001b[0m\u001b[1;33m\u001b[0m\u001b[0m\n\u001b[0m",
      "\u001b[1;32m<ipython-input-16-26dbdbce60b8>\u001b[0m in \u001b[0;36mcalculate_statistics\u001b[1;34m(data)\u001b[0m\n\u001b[0;32m     45\u001b[0m \u001b[1;33m\u001b[0m\u001b[0m\n\u001b[0;32m     46\u001b[0m     \u001b[0maverage\u001b[0m \u001b[1;33m=\u001b[0m \u001b[0mround\u001b[0m\u001b[1;33m(\u001b[0m\u001b[0maverage\u001b[0m\u001b[1;33m,\u001b[0m \u001b[1;36m4\u001b[0m\u001b[1;33m)\u001b[0m\u001b[1;33m\u001b[0m\u001b[1;33m\u001b[0m\u001b[0m\n\u001b[1;32m---> 47\u001b[1;33m     \u001b[0mstdev\u001b[0m \u001b[1;33m=\u001b[0m \u001b[0mround\u001b[0m\u001b[1;33m(\u001b[0m\u001b[0mstdev\u001b[0m\u001b[1;33m,\u001b[0m \u001b[1;36m4\u001b[0m\u001b[1;33m)\u001b[0m\u001b[1;33m\u001b[0m\u001b[1;33m\u001b[0m\u001b[0m\n\u001b[0m\u001b[0;32m     48\u001b[0m \u001b[1;33m\u001b[0m\u001b[0m\n\u001b[0;32m     49\u001b[0m     \u001b[1;32mreturn\u001b[0m \u001b[0maverage\u001b[0m\u001b[1;33m,\u001b[0m \u001b[0mstdev\u001b[0m\u001b[1;33m\u001b[0m\u001b[1;33m\u001b[0m\u001b[0m\n",
      "\u001b[1;32m<ipython-input-16-26dbdbce60b8>\u001b[0m in \u001b[0;36mcalculate_statistics\u001b[1;34m(data)\u001b[0m\n\u001b[0;32m     45\u001b[0m \u001b[1;33m\u001b[0m\u001b[0m\n\u001b[0;32m     46\u001b[0m     \u001b[0maverage\u001b[0m \u001b[1;33m=\u001b[0m \u001b[0mround\u001b[0m\u001b[1;33m(\u001b[0m\u001b[0maverage\u001b[0m\u001b[1;33m,\u001b[0m \u001b[1;36m4\u001b[0m\u001b[1;33m)\u001b[0m\u001b[1;33m\u001b[0m\u001b[1;33m\u001b[0m\u001b[0m\n\u001b[1;32m---> 47\u001b[1;33m     \u001b[0mstdev\u001b[0m \u001b[1;33m=\u001b[0m \u001b[0mround\u001b[0m\u001b[1;33m(\u001b[0m\u001b[0mstdev\u001b[0m\u001b[1;33m,\u001b[0m \u001b[1;36m4\u001b[0m\u001b[1;33m)\u001b[0m\u001b[1;33m\u001b[0m\u001b[1;33m\u001b[0m\u001b[0m\n\u001b[0m\u001b[0;32m     48\u001b[0m \u001b[1;33m\u001b[0m\u001b[0m\n\u001b[0;32m     49\u001b[0m     \u001b[1;32mreturn\u001b[0m \u001b[0maverage\u001b[0m\u001b[1;33m,\u001b[0m \u001b[0mstdev\u001b[0m\u001b[1;33m\u001b[0m\u001b[1;33m\u001b[0m\u001b[0m\n",
      "\u001b[1;32m~\\anaconda3\\lib\\bdb.py\u001b[0m in \u001b[0;36mtrace_dispatch\u001b[1;34m(self, frame, event, arg)\u001b[0m\n\u001b[0;32m     86\u001b[0m             \u001b[1;32mreturn\u001b[0m \u001b[1;31m# None\u001b[0m\u001b[1;33m\u001b[0m\u001b[1;33m\u001b[0m\u001b[0m\n\u001b[0;32m     87\u001b[0m         \u001b[1;32mif\u001b[0m \u001b[0mevent\u001b[0m \u001b[1;33m==\u001b[0m \u001b[1;34m'line'\u001b[0m\u001b[1;33m:\u001b[0m\u001b[1;33m\u001b[0m\u001b[1;33m\u001b[0m\u001b[0m\n\u001b[1;32m---> 88\u001b[1;33m             \u001b[1;32mreturn\u001b[0m \u001b[0mself\u001b[0m\u001b[1;33m.\u001b[0m\u001b[0mdispatch_line\u001b[0m\u001b[1;33m(\u001b[0m\u001b[0mframe\u001b[0m\u001b[1;33m)\u001b[0m\u001b[1;33m\u001b[0m\u001b[1;33m\u001b[0m\u001b[0m\n\u001b[0m\u001b[0;32m     89\u001b[0m         \u001b[1;32mif\u001b[0m \u001b[0mevent\u001b[0m \u001b[1;33m==\u001b[0m \u001b[1;34m'call'\u001b[0m\u001b[1;33m:\u001b[0m\u001b[1;33m\u001b[0m\u001b[1;33m\u001b[0m\u001b[0m\n\u001b[0;32m     90\u001b[0m             \u001b[1;32mreturn\u001b[0m \u001b[0mself\u001b[0m\u001b[1;33m.\u001b[0m\u001b[0mdispatch_call\u001b[0m\u001b[1;33m(\u001b[0m\u001b[0mframe\u001b[0m\u001b[1;33m,\u001b[0m \u001b[0marg\u001b[0m\u001b[1;33m)\u001b[0m\u001b[1;33m\u001b[0m\u001b[1;33m\u001b[0m\u001b[0m\n",
      "\u001b[1;32m~\\anaconda3\\lib\\bdb.py\u001b[0m in \u001b[0;36mdispatch_line\u001b[1;34m(self, frame)\u001b[0m\n\u001b[0;32m    111\u001b[0m         \u001b[1;32mif\u001b[0m \u001b[0mself\u001b[0m\u001b[1;33m.\u001b[0m\u001b[0mstop_here\u001b[0m\u001b[1;33m(\u001b[0m\u001b[0mframe\u001b[0m\u001b[1;33m)\u001b[0m \u001b[1;32mor\u001b[0m \u001b[0mself\u001b[0m\u001b[1;33m.\u001b[0m\u001b[0mbreak_here\u001b[0m\u001b[1;33m(\u001b[0m\u001b[0mframe\u001b[0m\u001b[1;33m)\u001b[0m\u001b[1;33m:\u001b[0m\u001b[1;33m\u001b[0m\u001b[1;33m\u001b[0m\u001b[0m\n\u001b[0;32m    112\u001b[0m             \u001b[0mself\u001b[0m\u001b[1;33m.\u001b[0m\u001b[0muser_line\u001b[0m\u001b[1;33m(\u001b[0m\u001b[0mframe\u001b[0m\u001b[1;33m)\u001b[0m\u001b[1;33m\u001b[0m\u001b[1;33m\u001b[0m\u001b[0m\n\u001b[1;32m--> 113\u001b[1;33m             \u001b[1;32mif\u001b[0m \u001b[0mself\u001b[0m\u001b[1;33m.\u001b[0m\u001b[0mquitting\u001b[0m\u001b[1;33m:\u001b[0m \u001b[1;32mraise\u001b[0m \u001b[0mBdbQuit\u001b[0m\u001b[1;33m\u001b[0m\u001b[1;33m\u001b[0m\u001b[0m\n\u001b[0m\u001b[0;32m    114\u001b[0m         \u001b[1;32mreturn\u001b[0m \u001b[0mself\u001b[0m\u001b[1;33m.\u001b[0m\u001b[0mtrace_dispatch\u001b[0m\u001b[1;33m\u001b[0m\u001b[1;33m\u001b[0m\u001b[0m\n\u001b[0;32m    115\u001b[0m \u001b[1;33m\u001b[0m\u001b[0m\n",
      "\u001b[1;31mBdbQuit\u001b[0m: "
     ]
    }
   ],
   "source": [
    "%debug\n",
    "\n",
    "def calculate_statistics(data):\n",
    "    \"\"\" Calculate the average and standard deviation. \n",
    "    \n",
    "        The average is calculated as the sum of the data points divided by the number of points.\n",
    "        The standard deviation is defined as the average of the squared differences between\n",
    "        each data point and the average of the data.\n",
    "        \n",
    "        In this function, we round the average and standard deviation to 4 decimal places.\n",
    "        \n",
    "        Input:\n",
    "        ------\n",
    "        data := Python list\n",
    "        \n",
    "        Output:\n",
    "        -------\n",
    "        tuple consisting of average and standard deviation of the data\n",
    "        \n",
    "        Example usage:\n",
    "        --------------\n",
    "        >>> calculate_statistics([1,1,1])\n",
    "        (1.0, 0.0)\n",
    "        >>> calculate_statistics(list(range(21)))\n",
    "        (10.0, 36.6667)\n",
    "    \"\"\"\n",
    "    \n",
    "    # Signal to the interpreter that we will debug. This is needed if running the\n",
    "    # script outside of a Jupyter notebook in Python 3.7+.\n",
    "    breakpoint()\n",
    "    \n",
    "    N = len(data)\n",
    "    \n",
    "    # Calculate the average.\n",
    "    average = sum(data)/N\n",
    "    \n",
    "    sum_squared_deviations = 0\n",
    "    \n",
    "    # Sum the squared deviations.\n",
    "    for x in data:\n",
    "        sum_squared_deviations += (x - average)**2\n",
    "        \n",
    "    # Divide the squared deviations by the number of data points.\n",
    "    stdev = sum_squared_deviations/N\n",
    "    \n",
    "    average = round(average, 4)\n",
    "    stdev = round(stdev, 4)\n",
    "    \n",
    "    return average, stdev\n",
    "\n",
    "calculate_statistics(list(range(5)))"
   ]
  },
  {
   "cell_type": "markdown",
   "metadata": {},
   "source": [
    "In the above example, the first line of output from the debugger looked something like this:\n",
    "\n",
    "```\n",
    "> <ipython-input-7-60e47ac32560>(29)calculate_statistics()\n",
    "```\n",
    "\n",
    "This is interpreted as `<currently running notebook/script address>(line number)module/function name`. In this output, we are looking at the notebook `ipython-input-7-60e47ac32560`, line `29`, and the current function is `calculate_statistics()`."
   ]
  },
  {
   "cell_type": "markdown",
   "metadata": {},
   "source": [
    "## Common Commands for the Interactive Debugger\n",
    "\n",
    "| Command | Use                          |\n",
    "|--------|------------------------------|\n",
    "|`h`|Help! Print the list of available commands|\n",
    "|`n`|Continue executing code until the next line |\n",
    "|`s`|Execute the current line of code and stop either at the next function or next line of the current function|\n",
    "|`u <levels>`|Move `<levels>` number of levels up (exit the current function or loop); default value is 1|\n",
    "|`d <levels>`|Move `<levels>` number of levels down; default value is 1|\n",
    "|`c`|Continue execution until next break point|\n",
    "|`p <var>`| Print the value of `<var>`    |\n",
    "|`pp <var>`| Print the value of `<var>` 'prettily'|\n",
    "|`w` | Show where we are in the code|\n",
    "|`l` | Display the current line of code|\n",
    "|`ll`|Display all source code for the current script/function|\n",
    "\n",
    "Much more functionality of the `pdb` module can be found in the [official documentation](https://docs.python.org/3.7/library/pdb.html).\n",
    "\n",
    "### *Example 6: Interactively debugging a function*\n",
    "\n",
    "In this example, we'll debug a relatively simple function. Our function is meant to add together two numbers and take their remainder when divided by 5."
   ]
  },
  {
   "cell_type": "code",
   "execution_count": 19,
   "metadata": {
    "scrolled": false
   },
   "outputs": [
    {
     "name": "stdout",
     "output_type": "stream",
     "text": [
      "> \u001b[1;32mc:\\users\\matt\\anaconda3\\lib\\bdb.py\u001b[0m(113)\u001b[0;36mdispatch_line\u001b[1;34m()\u001b[0m\n",
      "\u001b[1;32m    111 \u001b[1;33m        \u001b[1;32mif\u001b[0m \u001b[0mself\u001b[0m\u001b[1;33m.\u001b[0m\u001b[0mstop_here\u001b[0m\u001b[1;33m(\u001b[0m\u001b[0mframe\u001b[0m\u001b[1;33m)\u001b[0m \u001b[1;32mor\u001b[0m \u001b[0mself\u001b[0m\u001b[1;33m.\u001b[0m\u001b[0mbreak_here\u001b[0m\u001b[1;33m(\u001b[0m\u001b[0mframe\u001b[0m\u001b[1;33m)\u001b[0m\u001b[1;33m:\u001b[0m\u001b[1;33m\u001b[0m\u001b[1;33m\u001b[0m\u001b[0m\n",
      "\u001b[0m\u001b[1;32m    112 \u001b[1;33m            \u001b[0mself\u001b[0m\u001b[1;33m.\u001b[0m\u001b[0muser_line\u001b[0m\u001b[1;33m(\u001b[0m\u001b[0mframe\u001b[0m\u001b[1;33m)\u001b[0m\u001b[1;33m\u001b[0m\u001b[1;33m\u001b[0m\u001b[0m\n",
      "\u001b[0m\u001b[1;32m--> 113 \u001b[1;33m            \u001b[1;32mif\u001b[0m \u001b[0mself\u001b[0m\u001b[1;33m.\u001b[0m\u001b[0mquitting\u001b[0m\u001b[1;33m:\u001b[0m \u001b[1;32mraise\u001b[0m \u001b[0mBdbQuit\u001b[0m\u001b[1;33m\u001b[0m\u001b[1;33m\u001b[0m\u001b[0m\n",
      "\u001b[0m\u001b[1;32m    114 \u001b[1;33m        \u001b[1;32mreturn\u001b[0m \u001b[0mself\u001b[0m\u001b[1;33m.\u001b[0m\u001b[0mtrace_dispatch\u001b[0m\u001b[1;33m\u001b[0m\u001b[1;33m\u001b[0m\u001b[0m\n",
      "\u001b[0m\u001b[1;32m    115 \u001b[1;33m\u001b[1;33m\u001b[0m\u001b[0m\n",
      "\u001b[0m\n",
      "ipdb> n\n",
      "> <ipython-input-19-f0100089e546>(7)modulo_sum()\n",
      "-> try:\n",
      "(Pdb) n\n",
      "> <ipython-input-19-f0100089e546>(8)modulo_sum()\n",
      "-> range(a+b)\n",
      "(Pdb) pp range(a+b)\n",
      "range(0, 11)\n",
      "(Pdb) pp list(range(a+b))\n",
      "[0, 1, 2, 3, 4, 5, 6, 7, 8, 9, 10]\n",
      "(Pdb) pp 'This hopefully will look much better'\n",
      "'This hopefully will look much better'\n",
      "(Pdb) p 'This hopefully will look much better'\n",
      "'This hopefully will look much better'\n",
      "(Pdb) q\n"
     ]
    },
    {
     "ename": "BdbQuit",
     "evalue": "",
     "output_type": "error",
     "traceback": [
      "\u001b[1;31m---------------------------------------------------------------------------\u001b[0m",
      "\u001b[1;31mBdbQuit\u001b[0m                                   Traceback (most recent call last)",
      "\u001b[1;32m<ipython-input-19-f0100089e546>\u001b[0m in \u001b[0;36m<module>\u001b[1;34m\u001b[0m\n\u001b[0;32m     13\u001b[0m         \u001b[1;32mraise\u001b[0m\u001b[1;33m\u001b[0m\u001b[1;33m\u001b[0m\u001b[0m\n\u001b[0;32m     14\u001b[0m \u001b[1;33m\u001b[0m\u001b[0m\n\u001b[1;32m---> 15\u001b[1;33m \u001b[0mmodulo_sum\u001b[0m\u001b[1;33m(\u001b[0m\u001b[1;36m5\u001b[0m\u001b[1;33m,\u001b[0m \u001b[1;36m6\u001b[0m\u001b[1;33m)\u001b[0m\u001b[1;33m\u001b[0m\u001b[1;33m\u001b[0m\u001b[0m\n\u001b[0m",
      "\u001b[1;32m<ipython-input-19-f0100089e546>\u001b[0m in \u001b[0;36mmodulo_sum\u001b[1;34m(a, b)\u001b[0m\n\u001b[0;32m      6\u001b[0m \u001b[1;33m\u001b[0m\u001b[0m\n\u001b[0;32m      7\u001b[0m     \u001b[1;32mtry\u001b[0m\u001b[1;33m:\u001b[0m\u001b[1;33m\u001b[0m\u001b[1;33m\u001b[0m\u001b[0m\n\u001b[1;32m----> 8\u001b[1;33m         \u001b[0mrange\u001b[0m\u001b[1;33m(\u001b[0m\u001b[0ma\u001b[0m\u001b[1;33m+\u001b[0m\u001b[0mb\u001b[0m\u001b[1;33m)\u001b[0m\u001b[1;33m\u001b[0m\u001b[1;33m\u001b[0m\u001b[0m\n\u001b[0m\u001b[0;32m      9\u001b[0m         \u001b[0mtotal\u001b[0m \u001b[1;33m=\u001b[0m \u001b[0ma\u001b[0m \u001b[1;33m+\u001b[0m \u001b[0mb\u001b[0m\u001b[1;33m\u001b[0m\u001b[1;33m\u001b[0m\u001b[0m\n\u001b[0;32m     10\u001b[0m \u001b[1;33m\u001b[0m\u001b[0m\n",
      "\u001b[1;32m<ipython-input-19-f0100089e546>\u001b[0m in \u001b[0;36mmodulo_sum\u001b[1;34m(a, b)\u001b[0m\n\u001b[0;32m      6\u001b[0m \u001b[1;33m\u001b[0m\u001b[0m\n\u001b[0;32m      7\u001b[0m     \u001b[1;32mtry\u001b[0m\u001b[1;33m:\u001b[0m\u001b[1;33m\u001b[0m\u001b[1;33m\u001b[0m\u001b[0m\n\u001b[1;32m----> 8\u001b[1;33m         \u001b[0mrange\u001b[0m\u001b[1;33m(\u001b[0m\u001b[0ma\u001b[0m\u001b[1;33m+\u001b[0m\u001b[0mb\u001b[0m\u001b[1;33m)\u001b[0m\u001b[1;33m\u001b[0m\u001b[1;33m\u001b[0m\u001b[0m\n\u001b[0m\u001b[0;32m      9\u001b[0m         \u001b[0mtotal\u001b[0m \u001b[1;33m=\u001b[0m \u001b[0ma\u001b[0m \u001b[1;33m+\u001b[0m \u001b[0mb\u001b[0m\u001b[1;33m\u001b[0m\u001b[1;33m\u001b[0m\u001b[0m\n\u001b[0;32m     10\u001b[0m \u001b[1;33m\u001b[0m\u001b[0m\n",
      "\u001b[1;32m~\\anaconda3\\lib\\bdb.py\u001b[0m in \u001b[0;36mtrace_dispatch\u001b[1;34m(self, frame, event, arg)\u001b[0m\n\u001b[0;32m     86\u001b[0m             \u001b[1;32mreturn\u001b[0m \u001b[1;31m# None\u001b[0m\u001b[1;33m\u001b[0m\u001b[1;33m\u001b[0m\u001b[0m\n\u001b[0;32m     87\u001b[0m         \u001b[1;32mif\u001b[0m \u001b[0mevent\u001b[0m \u001b[1;33m==\u001b[0m \u001b[1;34m'line'\u001b[0m\u001b[1;33m:\u001b[0m\u001b[1;33m\u001b[0m\u001b[1;33m\u001b[0m\u001b[0m\n\u001b[1;32m---> 88\u001b[1;33m             \u001b[1;32mreturn\u001b[0m \u001b[0mself\u001b[0m\u001b[1;33m.\u001b[0m\u001b[0mdispatch_line\u001b[0m\u001b[1;33m(\u001b[0m\u001b[0mframe\u001b[0m\u001b[1;33m)\u001b[0m\u001b[1;33m\u001b[0m\u001b[1;33m\u001b[0m\u001b[0m\n\u001b[0m\u001b[0;32m     89\u001b[0m         \u001b[1;32mif\u001b[0m \u001b[0mevent\u001b[0m \u001b[1;33m==\u001b[0m \u001b[1;34m'call'\u001b[0m\u001b[1;33m:\u001b[0m\u001b[1;33m\u001b[0m\u001b[1;33m\u001b[0m\u001b[0m\n\u001b[0;32m     90\u001b[0m             \u001b[1;32mreturn\u001b[0m \u001b[0mself\u001b[0m\u001b[1;33m.\u001b[0m\u001b[0mdispatch_call\u001b[0m\u001b[1;33m(\u001b[0m\u001b[0mframe\u001b[0m\u001b[1;33m,\u001b[0m \u001b[0marg\u001b[0m\u001b[1;33m)\u001b[0m\u001b[1;33m\u001b[0m\u001b[1;33m\u001b[0m\u001b[0m\n",
      "\u001b[1;32m~\\anaconda3\\lib\\bdb.py\u001b[0m in \u001b[0;36mdispatch_line\u001b[1;34m(self, frame)\u001b[0m\n\u001b[0;32m    111\u001b[0m         \u001b[1;32mif\u001b[0m \u001b[0mself\u001b[0m\u001b[1;33m.\u001b[0m\u001b[0mstop_here\u001b[0m\u001b[1;33m(\u001b[0m\u001b[0mframe\u001b[0m\u001b[1;33m)\u001b[0m \u001b[1;32mor\u001b[0m \u001b[0mself\u001b[0m\u001b[1;33m.\u001b[0m\u001b[0mbreak_here\u001b[0m\u001b[1;33m(\u001b[0m\u001b[0mframe\u001b[0m\u001b[1;33m)\u001b[0m\u001b[1;33m:\u001b[0m\u001b[1;33m\u001b[0m\u001b[1;33m\u001b[0m\u001b[0m\n\u001b[0;32m    112\u001b[0m             \u001b[0mself\u001b[0m\u001b[1;33m.\u001b[0m\u001b[0muser_line\u001b[0m\u001b[1;33m(\u001b[0m\u001b[0mframe\u001b[0m\u001b[1;33m)\u001b[0m\u001b[1;33m\u001b[0m\u001b[1;33m\u001b[0m\u001b[0m\n\u001b[1;32m--> 113\u001b[1;33m             \u001b[1;32mif\u001b[0m \u001b[0mself\u001b[0m\u001b[1;33m.\u001b[0m\u001b[0mquitting\u001b[0m\u001b[1;33m:\u001b[0m \u001b[1;32mraise\u001b[0m \u001b[0mBdbQuit\u001b[0m\u001b[1;33m\u001b[0m\u001b[1;33m\u001b[0m\u001b[0m\n\u001b[0m\u001b[0;32m    114\u001b[0m         \u001b[1;32mreturn\u001b[0m \u001b[0mself\u001b[0m\u001b[1;33m.\u001b[0m\u001b[0mtrace_dispatch\u001b[0m\u001b[1;33m\u001b[0m\u001b[1;33m\u001b[0m\u001b[0m\n\u001b[0;32m    115\u001b[0m \u001b[1;33m\u001b[0m\u001b[0m\n",
      "\u001b[1;31mBdbQuit\u001b[0m: "
     ]
    }
   ],
   "source": [
    "%debug\n",
    "\n",
    "def modulo_sum(a, b):\n",
    "    \"\"\" Function to find remainder mod 5 of a + b. \"\"\"\n",
    "    breakpoint()\n",
    "    \n",
    "    try:\n",
    "        range(a+b)\n",
    "        total = a + b\n",
    "\n",
    "        return total % 5\n",
    "    except:\n",
    "        raise\n",
    "\n",
    "modulo_sum(5, 6)"
   ]
  },
  {
   "cell_type": "code",
   "execution_count": 18,
   "metadata": {},
   "outputs": [
    {
     "name": "stdout",
     "output_type": "stream",
     "text": [
      "> \u001b[1;32mc:\\users\\matt\\anaconda3\\lib\\bdb.py\u001b[0m(113)\u001b[0;36mdispatch_line\u001b[1;34m()\u001b[0m\n",
      "\u001b[1;32m    111 \u001b[1;33m        \u001b[1;32mif\u001b[0m \u001b[0mself\u001b[0m\u001b[1;33m.\u001b[0m\u001b[0mstop_here\u001b[0m\u001b[1;33m(\u001b[0m\u001b[0mframe\u001b[0m\u001b[1;33m)\u001b[0m \u001b[1;32mor\u001b[0m \u001b[0mself\u001b[0m\u001b[1;33m.\u001b[0m\u001b[0mbreak_here\u001b[0m\u001b[1;33m(\u001b[0m\u001b[0mframe\u001b[0m\u001b[1;33m)\u001b[0m\u001b[1;33m:\u001b[0m\u001b[1;33m\u001b[0m\u001b[1;33m\u001b[0m\u001b[0m\n",
      "\u001b[0m\u001b[1;32m    112 \u001b[1;33m            \u001b[0mself\u001b[0m\u001b[1;33m.\u001b[0m\u001b[0muser_line\u001b[0m\u001b[1;33m(\u001b[0m\u001b[0mframe\u001b[0m\u001b[1;33m)\u001b[0m\u001b[1;33m\u001b[0m\u001b[1;33m\u001b[0m\u001b[0m\n",
      "\u001b[0m\u001b[1;32m--> 113 \u001b[1;33m            \u001b[1;32mif\u001b[0m \u001b[0mself\u001b[0m\u001b[1;33m.\u001b[0m\u001b[0mquitting\u001b[0m\u001b[1;33m:\u001b[0m \u001b[1;32mraise\u001b[0m \u001b[0mBdbQuit\u001b[0m\u001b[1;33m\u001b[0m\u001b[1;33m\u001b[0m\u001b[0m\n",
      "\u001b[0m\u001b[1;32m    114 \u001b[1;33m        \u001b[1;32mreturn\u001b[0m \u001b[0mself\u001b[0m\u001b[1;33m.\u001b[0m\u001b[0mtrace_dispatch\u001b[0m\u001b[1;33m\u001b[0m\u001b[1;33m\u001b[0m\u001b[0m\n",
      "\u001b[0m\u001b[1;32m    115 \u001b[1;33m\u001b[1;33m\u001b[0m\u001b[0m\n",
      "\u001b[0m\n",
      "ipdb> n\n",
      "> <ipython-input-18-0f02b5eee8ad>(6)longer_words()\n",
      "-> try:\n",
      "(Pdb) n\n",
      "> <ipython-input-18-0f02b5eee8ad>(7)longer_words()\n",
      "-> result = [word + str(1) for word in text.split()]\n",
      "(Pdb) n\n",
      "> <ipython-input-18-0f02b5eee8ad>(8)longer_words()\n",
      "-> return result\n",
      "(Pdb) p result\n",
      "['This1', 'should1', 'make1', 'longer1', 'words1', 'out1', 'of1', 'this1', 'sentence1']\n",
      "(Pdb) pp result\n",
      "['This1',\n",
      " 'should1',\n",
      " 'make1',\n",
      " 'longer1',\n",
      " 'words1',\n",
      " 'out1',\n",
      " 'of1',\n",
      " 'this1',\n",
      " 'sentence1']\n",
      "(Pdb) c\n"
     ]
    },
    {
     "data": {
      "text/plain": [
       "['This1',\n",
       " 'should1',\n",
       " 'make1',\n",
       " 'longer1',\n",
       " 'words1',\n",
       " 'out1',\n",
       " 'of1',\n",
       " 'this1',\n",
       " 'sentence1']"
      ]
     },
     "execution_count": 18,
     "metadata": {},
     "output_type": "execute_result"
    }
   ],
   "source": [
    "%debug\n",
    "\n",
    "def longer_words(text):\n",
    "    \"\"\" Add integer strings to the end of 'text', put it in a list. \"\"\"\n",
    "    breakpoint()\n",
    "    try:\n",
    "        result = [word + str(1) for word in text.split()]\n",
    "        return result\n",
    "    \n",
    "    except:\n",
    "        raise\n",
    "        \n",
    "longer_words('This should make longer words out of this sentence')\n",
    "    "
   ]
  },
  {
   "cell_type": "markdown",
   "metadata": {},
   "source": [
    "# Exception Handling to Reduce Runtime Errors\n",
    "\n",
    "Runtime errors happen for a number of reasons. The code may be improperly written, copy/pasted wrong, or unreasonable expectations may be made of the input variables. A common example is an unintentional division by zero.\n",
    "\n",
    "You can raise exceptions to help avoid this kind of error. It extends the size of your functions, but it avoids many problems once the user gets hold of the program.\n",
    "\n",
    "### *Example 7: Handling type exceptions*\n",
    "\n",
    "For the `is_prime` function, we don't have a way of dealing with anything other than integers. The Python interpreter will throw an error if a string is input."
   ]
  },
  {
   "cell_type": "code",
   "execution_count": 20,
   "metadata": {},
   "outputs": [],
   "source": [
    "def is_prime(n):\n",
    "    for element in range(2, n):\n",
    "        if n % element == 0:\n",
    "            return False\n",
    "    return True"
   ]
  },
  {
   "cell_type": "code",
   "execution_count": 22,
   "metadata": {
    "scrolled": false
   },
   "outputs": [
    {
     "ename": "TypeError",
     "evalue": "'str' object cannot be interpreted as an integer",
     "output_type": "error",
     "traceback": [
      "\u001b[1;31m---------------------------------------------------------------------------\u001b[0m",
      "\u001b[1;31mTypeError\u001b[0m                                 Traceback (most recent call last)",
      "\u001b[1;32m<ipython-input-22-0e94cd687948>\u001b[0m in \u001b[0;36m<module>\u001b[1;34m\u001b[0m\n\u001b[1;32m----> 1\u001b[1;33m \u001b[0mis_prime\u001b[0m\u001b[1;33m(\u001b[0m\u001b[1;34m'Optimus'\u001b[0m\u001b[1;33m)\u001b[0m\u001b[1;33m\u001b[0m\u001b[1;33m\u001b[0m\u001b[0m\n\u001b[0m",
      "\u001b[1;32m<ipython-input-20-21de33cef655>\u001b[0m in \u001b[0;36mis_prime\u001b[1;34m(n)\u001b[0m\n\u001b[0;32m      1\u001b[0m \u001b[1;32mdef\u001b[0m \u001b[0mis_prime\u001b[0m\u001b[1;33m(\u001b[0m\u001b[0mn\u001b[0m\u001b[1;33m)\u001b[0m\u001b[1;33m:\u001b[0m\u001b[1;33m\u001b[0m\u001b[1;33m\u001b[0m\u001b[0m\n\u001b[1;32m----> 2\u001b[1;33m     \u001b[1;32mfor\u001b[0m \u001b[0melement\u001b[0m \u001b[1;32min\u001b[0m \u001b[0mrange\u001b[0m\u001b[1;33m(\u001b[0m\u001b[1;36m2\u001b[0m\u001b[1;33m,\u001b[0m \u001b[0mn\u001b[0m\u001b[1;33m)\u001b[0m\u001b[1;33m:\u001b[0m\u001b[1;33m\u001b[0m\u001b[1;33m\u001b[0m\u001b[0m\n\u001b[0m\u001b[0;32m      3\u001b[0m         \u001b[1;32mif\u001b[0m \u001b[0mn\u001b[0m \u001b[1;33m%\u001b[0m \u001b[0melement\u001b[0m \u001b[1;33m==\u001b[0m \u001b[1;36m0\u001b[0m\u001b[1;33m:\u001b[0m\u001b[1;33m\u001b[0m\u001b[1;33m\u001b[0m\u001b[0m\n\u001b[0;32m      4\u001b[0m             \u001b[1;32mreturn\u001b[0m \u001b[1;32mFalse\u001b[0m\u001b[1;33m\u001b[0m\u001b[1;33m\u001b[0m\u001b[0m\n\u001b[0;32m      5\u001b[0m     \u001b[1;32mreturn\u001b[0m \u001b[1;32mTrue\u001b[0m\u001b[1;33m\u001b[0m\u001b[1;33m\u001b[0m\u001b[0m\n",
      "\u001b[1;31mTypeError\u001b[0m: 'str' object cannot be interpreted as an integer"
     ]
    }
   ],
   "source": [
    "is_prime('Optimus')"
   ]
  },
  {
   "cell_type": "markdown",
   "metadata": {},
   "source": [
    "We can accept this error and assume that the user will realize their incorrect input, or we can add a more helpful tip when the exception is raised. Since this input results in a `TypeError`, we'll use the `try`/`except` block to deal with any `TypeError` exceptions."
   ]
  },
  {
   "cell_type": "code",
   "execution_count": 30,
   "metadata": {},
   "outputs": [
    {
     "name": "stdout",
     "output_type": "stream",
     "text": [
      "No such number, no such zone\n"
     ]
    },
    {
     "data": {
      "text/plain": [
       "True"
      ]
     },
     "execution_count": 30,
     "metadata": {},
     "output_type": "execute_result"
    }
   ],
   "source": [
    "def is_prime(n):    \n",
    "    try:\n",
    "        if n <= 0:\n",
    "            raise ValueError()\n",
    "            \n",
    "        for element in range(2,n):\n",
    "            if n % element == 0:\n",
    "                return False\n",
    "    except TypeError:\n",
    "        raise TypeError(\"This function only allows integer inputs, and {} is not an integer.\".format(n))\n",
    "    except ValueError:\n",
    "        print('No such number, no such zone')\n",
    "    return True\n",
    "\n",
    "is_prime(-5)"
   ]
  },
  {
   "cell_type": "markdown",
   "metadata": {},
   "source": [
    "The syntax of a `try`/`except` block is as follows.\n",
    "```\n",
    "try:\n",
    "    <the code you want to be executed>\n",
    "except <type of exception (optional)>:\n",
    "    <code you want to execute if the type of exception specified is encountered>\n",
    "```\n",
    "\n",
    "Using exceptions in this way allows the user to see the original exception Traceback, but adds a custom message so they know, in plain language, what caused the problem.\n",
    "\n",
    "We can also deal with the exception above in the following (far less efficient) way."
   ]
  },
  {
   "cell_type": "code",
   "execution_count": 24,
   "metadata": {},
   "outputs": [
    {
     "ename": "TypeError",
     "evalue": "This function only allows integer inputs.",
     "output_type": "error",
     "traceback": [
      "\u001b[1;31m---------------------------------------------------------------------------\u001b[0m",
      "\u001b[1;31mTypeError\u001b[0m                                 Traceback (most recent call last)",
      "\u001b[1;32m<ipython-input-24-c0261103510d>\u001b[0m in \u001b[0;36m<module>\u001b[1;34m\u001b[0m\n\u001b[0;32m      8\u001b[0m     \u001b[1;32mreturn\u001b[0m \u001b[1;32mTrue\u001b[0m\u001b[1;33m\u001b[0m\u001b[1;33m\u001b[0m\u001b[0m\n\u001b[0;32m      9\u001b[0m \u001b[1;33m\u001b[0m\u001b[0m\n\u001b[1;32m---> 10\u001b[1;33m \u001b[0mis_prime\u001b[0m\u001b[1;33m(\u001b[0m\u001b[1;34m's'\u001b[0m\u001b[1;33m)\u001b[0m\u001b[1;33m\u001b[0m\u001b[1;33m\u001b[0m\u001b[0m\n\u001b[0m",
      "\u001b[1;32m<ipython-input-24-c0261103510d>\u001b[0m in \u001b[0;36mis_prime\u001b[1;34m(n)\u001b[0m\n\u001b[0;32m      1\u001b[0m \u001b[1;32mdef\u001b[0m \u001b[0mis_prime\u001b[0m\u001b[1;33m(\u001b[0m\u001b[0mn\u001b[0m\u001b[1;33m)\u001b[0m\u001b[1;33m:\u001b[0m\u001b[1;33m\u001b[0m\u001b[1;33m\u001b[0m\u001b[0m\n\u001b[0;32m      2\u001b[0m     \u001b[1;32mif\u001b[0m \u001b[0mtype\u001b[0m\u001b[1;33m(\u001b[0m\u001b[0mn\u001b[0m\u001b[1;33m)\u001b[0m \u001b[1;32min\u001b[0m \u001b[1;33m[\u001b[0m\u001b[0mtype\u001b[0m\u001b[1;33m(\u001b[0m\u001b[1;34m's'\u001b[0m\u001b[1;33m)\u001b[0m\u001b[1;33m,\u001b[0m\u001b[0mtype\u001b[0m\u001b[1;33m(\u001b[0m\u001b[1;33m[\u001b[0m\u001b[1;33m]\u001b[0m\u001b[1;33m)\u001b[0m\u001b[1;33m,\u001b[0m\u001b[0mtype\u001b[0m\u001b[1;33m(\u001b[0m\u001b[1;36m0.1\u001b[0m\u001b[1;33m)\u001b[0m\u001b[1;33m,\u001b[0m\u001b[0mtype\u001b[0m\u001b[1;33m(\u001b[0m\u001b[1;33m{\u001b[0m\u001b[1;33m}\u001b[0m\u001b[1;33m)\u001b[0m\u001b[1;33m,\u001b[0m\u001b[0mtype\u001b[0m\u001b[1;33m(\u001b[0m\u001b[1;32mTrue\u001b[0m\u001b[1;33m)\u001b[0m\u001b[1;33m]\u001b[0m\u001b[1;33m:\u001b[0m\u001b[1;33m\u001b[0m\u001b[1;33m\u001b[0m\u001b[0m\n\u001b[1;32m----> 3\u001b[1;33m         \u001b[1;32mraise\u001b[0m \u001b[0mTypeError\u001b[0m\u001b[1;33m(\u001b[0m\u001b[1;34m'This function only allows integer inputs.'\u001b[0m\u001b[1;33m)\u001b[0m\u001b[1;33m\u001b[0m\u001b[1;33m\u001b[0m\u001b[0m\n\u001b[0m\u001b[0;32m      4\u001b[0m \u001b[1;33m\u001b[0m\u001b[0m\n\u001b[0;32m      5\u001b[0m     \u001b[1;32mfor\u001b[0m \u001b[0melement\u001b[0m \u001b[1;32min\u001b[0m \u001b[0mrange\u001b[0m\u001b[1;33m(\u001b[0m\u001b[1;36m2\u001b[0m\u001b[1;33m,\u001b[0m\u001b[0mn\u001b[0m\u001b[1;33m)\u001b[0m\u001b[1;33m:\u001b[0m\u001b[1;33m\u001b[0m\u001b[1;33m\u001b[0m\u001b[0m\n",
      "\u001b[1;31mTypeError\u001b[0m: This function only allows integer inputs."
     ]
    }
   ],
   "source": [
    "def is_prime(n):\n",
    "    if type(n) in [type('s'),type([]),type(0.1),type({}),type(True)]:\n",
    "        raise TypeError('This function only allows integer inputs.')\n",
    "        \n",
    "    for element in range(2,n):\n",
    "        if n % element == 0:\n",
    "            return False\n",
    "    return True\n",
    "\n",
    "is_prime('s')"
   ]
  },
  {
   "cell_type": "code",
   "execution_count": 31,
   "metadata": {},
   "outputs": [
    {
     "ename": "TypeError",
     "evalue": "'str' object cannot be interpreted as an integer",
     "output_type": "error",
     "traceback": [
      "\u001b[1;31m---------------------------------------------------------------------------\u001b[0m",
      "\u001b[1;31mTypeError\u001b[0m                                 Traceback (most recent call last)",
      "\u001b[1;32m<ipython-input-31-bf163e1b20a4>\u001b[0m in \u001b[0;36m<module>\u001b[1;34m\u001b[0m\n\u001b[0;32m     10\u001b[0m     \u001b[1;32mreturn\u001b[0m \u001b[1;32mTrue\u001b[0m\u001b[1;33m\u001b[0m\u001b[1;33m\u001b[0m\u001b[0m\n\u001b[0;32m     11\u001b[0m \u001b[1;33m\u001b[0m\u001b[0m\n\u001b[1;32m---> 12\u001b[1;33m \u001b[0mis_prime\u001b[0m\u001b[1;33m(\u001b[0m\u001b[1;34m's'\u001b[0m\u001b[1;33m)\u001b[0m\u001b[1;33m\u001b[0m\u001b[1;33m\u001b[0m\u001b[0m\n\u001b[0m",
      "\u001b[1;32m<ipython-input-31-bf163e1b20a4>\u001b[0m in \u001b[0;36mis_prime\u001b[1;34m(n)\u001b[0m\n\u001b[0;32m      5\u001b[0m         \u001b[1;32mraise\u001b[0m \u001b[0mTypeError\u001b[0m\u001b[1;33m(\u001b[0m\u001b[1;34m'This function only allows integer inputs.'\u001b[0m\u001b[1;33m)\u001b[0m\u001b[1;33m\u001b[0m\u001b[1;33m\u001b[0m\u001b[0m\n\u001b[0;32m      6\u001b[0m \u001b[1;33m\u001b[0m\u001b[0m\n\u001b[1;32m----> 7\u001b[1;33m     \u001b[1;32mfor\u001b[0m \u001b[0melement\u001b[0m \u001b[1;32min\u001b[0m \u001b[0mrange\u001b[0m\u001b[1;33m(\u001b[0m\u001b[1;36m2\u001b[0m\u001b[1;33m,\u001b[0m\u001b[0mn\u001b[0m\u001b[1;33m)\u001b[0m\u001b[1;33m:\u001b[0m\u001b[1;33m\u001b[0m\u001b[1;33m\u001b[0m\u001b[0m\n\u001b[0m\u001b[0;32m      8\u001b[0m         \u001b[1;32mif\u001b[0m \u001b[0mn\u001b[0m \u001b[1;33m%\u001b[0m \u001b[0melement\u001b[0m \u001b[1;33m==\u001b[0m \u001b[1;36m0\u001b[0m\u001b[1;33m:\u001b[0m\u001b[1;33m\u001b[0m\u001b[1;33m\u001b[0m\u001b[0m\n\u001b[0;32m      9\u001b[0m             \u001b[1;32mreturn\u001b[0m \u001b[1;32mFalse\u001b[0m\u001b[1;33m\u001b[0m\u001b[1;33m\u001b[0m\u001b[0m\n",
      "\u001b[1;31mTypeError\u001b[0m: 'str' object cannot be interpreted as an integer"
     ]
    }
   ],
   "source": [
    "# One more method.\n",
    "\n",
    "def is_prime(n):\n",
    "    if not isinstance(n, str):\n",
    "        raise TypeError('This function only allows integer inputs.')\n",
    "        \n",
    "    for element in range(2,n):\n",
    "        if n % element == 0:\n",
    "            return False\n",
    "    return True\n",
    "\n",
    "is_prime('s')"
   ]
  },
  {
   "cell_type": "markdown",
   "metadata": {},
   "source": [
    "This method requires us to specify every data type that could result in a `TypeError`. This may be suitable for some purposes, but the `try`/`except` method is the preferred method.\n",
    "\n",
    "Some of the exceptions relevant to this course that can be raised in Python are:\n",
    "\n",
    "* `ImportError`: used when an import statement fails.\n",
    "* `ModuleNotFoundError`: used when a module can't be located.\n",
    "* `IndexError`: used in iterations when a particular index doesn't exist.\n",
    "* `RuntimeError`: a catch-all for *anything* that went wrong in code execution; a string is *always* specified as the argument.\n",
    "* `TypeError`: used when the wrong type is used in a calculation or passed to a function.\n",
    "* `ValueError`: used in the case where a variable is the correct type but has an invalid value.\n",
    "\n",
    "While this list is enough for this course, the full list of exceptions can be found in the [official documentation](https://docs.python.org/3/library/exceptions.html).\n",
    "\n",
    "### *Example 8: Handling any exceptions with a general `try`/`except` block*\n",
    "\n",
    "In the last example, we gave the exact exception that we expected: the `TypeError`. However, incorrect input into the `is_prime()` function could result in one of many of the above exceptions. Therefore, we'll use the `try`/`except` block to catch *any* exception raised by the function."
   ]
  },
  {
   "cell_type": "code",
   "execution_count": 32,
   "metadata": {},
   "outputs": [
    {
     "ename": "TypeError",
     "evalue": "'str' object cannot be interpreted as an integer",
     "output_type": "error",
     "traceback": [
      "\u001b[1;31m---------------------------------------------------------------------------\u001b[0m",
      "\u001b[1;31mTypeError\u001b[0m                                 Traceback (most recent call last)",
      "\u001b[1;32m<ipython-input-32-3e55749663b3>\u001b[0m in \u001b[0;36m<module>\u001b[1;34m\u001b[0m\n\u001b[0;32m      8\u001b[0m     \u001b[1;32mreturn\u001b[0m \u001b[1;32mTrue\u001b[0m\u001b[1;33m\u001b[0m\u001b[1;33m\u001b[0m\u001b[0m\n\u001b[0;32m      9\u001b[0m \u001b[1;33m\u001b[0m\u001b[0m\n\u001b[1;32m---> 10\u001b[1;33m \u001b[0mis_prime\u001b[0m\u001b[1;33m(\u001b[0m\u001b[1;34m't'\u001b[0m\u001b[1;33m)\u001b[0m\u001b[1;33m\u001b[0m\u001b[1;33m\u001b[0m\u001b[0m\n\u001b[0m",
      "\u001b[1;32m<ipython-input-32-3e55749663b3>\u001b[0m in \u001b[0;36mis_prime\u001b[1;34m(n)\u001b[0m\n\u001b[0;32m      1\u001b[0m \u001b[1;32mdef\u001b[0m \u001b[0mis_prime\u001b[0m\u001b[1;33m(\u001b[0m\u001b[0mn\u001b[0m\u001b[1;33m)\u001b[0m\u001b[1;33m:\u001b[0m\u001b[1;33m\u001b[0m\u001b[1;33m\u001b[0m\u001b[0m\n\u001b[0;32m      2\u001b[0m     \u001b[1;32mtry\u001b[0m\u001b[1;33m:\u001b[0m\u001b[1;33m\u001b[0m\u001b[1;33m\u001b[0m\u001b[0m\n\u001b[1;32m----> 3\u001b[1;33m         \u001b[1;32mfor\u001b[0m \u001b[0melement\u001b[0m \u001b[1;32min\u001b[0m \u001b[0mrange\u001b[0m\u001b[1;33m(\u001b[0m\u001b[1;36m2\u001b[0m\u001b[1;33m,\u001b[0m\u001b[0mn\u001b[0m\u001b[1;33m)\u001b[0m\u001b[1;33m:\u001b[0m\u001b[1;33m\u001b[0m\u001b[1;33m\u001b[0m\u001b[0m\n\u001b[0m\u001b[0;32m      4\u001b[0m             \u001b[1;32mif\u001b[0m \u001b[0mn\u001b[0m \u001b[1;33m%\u001b[0m \u001b[0melement\u001b[0m \u001b[1;33m==\u001b[0m \u001b[1;36m0\u001b[0m\u001b[1;33m:\u001b[0m\u001b[1;33m\u001b[0m\u001b[1;33m\u001b[0m\u001b[0m\n\u001b[0;32m      5\u001b[0m                 \u001b[1;32mreturn\u001b[0m \u001b[1;32mFalse\u001b[0m\u001b[1;33m\u001b[0m\u001b[1;33m\u001b[0m\u001b[0m\n",
      "\u001b[1;31mTypeError\u001b[0m: 'str' object cannot be interpreted as an integer"
     ]
    }
   ],
   "source": [
    "def is_prime(n):    \n",
    "    try:        \n",
    "        for element in range(2,n):\n",
    "            if n % element == 0:\n",
    "                return False\n",
    "    except:    # This tells the program what to do if there is *any* exception.\n",
    "        raise  # This tells the program to go ahead with raising whichever exceptions came up.\n",
    "    return True\n",
    "\n",
    "is_prime('t')"
   ]
  },
  {
   "cell_type": "markdown",
   "metadata": {},
   "source": [
    "# Unit Testing\n",
    "\n",
    "This process is ignored by many new Python developers, but is hugely beneficial to writing clear, accurate, and bug-free code. It can help with the **refactoring** process, wherein you revisit code to improve its readability and remove redundancies without changing the code's functionality. \n",
    "\n",
    "Python comes with the standard `unittest` library. We will only explore one of its many features: the `TestCase` class. While we haven't covered **classes** in Python yet, the `TestCase` class is a relatively simple first example. This class enables us to put together a collection of test cases to run on a given function. We can test that the function returns the correct output for many different inputs and that it handles exceptions correctly.\n",
    "\n",
    "### *Example 9: The `TestCase` class*\n",
    "\n",
    "This example introduces a new data structure in Python: the **class**. If you haven't seen object-oriented programming before, you can think of a class as a sort of generalized data type. Like a list or a dictionary, the class can contain many other data types. However, the unique aspect of the class type is that you are free to define your own functions within the class. These functions are called **methods**. When you declare a class variable, the variable is called an **instance** of the class.\n",
    "\n",
    "Let's declare an instance of the `TestCase` class from the `unittest` module. Our `TestCase` object will be used to test the `is_prime()` function."
   ]
  },
  {
   "cell_type": "code",
   "execution_count": 33,
   "metadata": {
    "scrolled": false
   },
   "outputs": [],
   "source": [
    "import unittest\n",
    "\n",
    "class Testing_is_prime(unittest.TestCase):\n",
    "    \"\"\" Tests for the is_prime function. \"\"\"\n",
    "    \n",
    "    pass"
   ]
  },
  {
   "cell_type": "markdown",
   "metadata": {},
   "source": [
    "The above code snippet can be broken down as follows:\n",
    "* line 1 - imports the `unittest` module; this module is part of the standard Python library.\n",
    "* line 3 - declares that `Testing_is_prime` is an instance of the `unittest.TestCase` class.\n",
    "* line 4 - docstrings for the class instance.\n",
    "\n",
    "Now we'll add some methods to our class instance. In particular, we will test whether `is_prime()` gives the correct result for the inputs 5, 1, 0, -1, 4, `'s'`, and 0.1. For this function, the output should be\n",
    "* `is_prime(5)` -> `True`\n",
    "* `is_prime(1)` -> `False`\n",
    "* `is_prime(0)` -> `False`\n",
    "* `is_prime(-1)` -> `False`\n",
    "* `is_prime(4)` -> `False`\n",
    "* `is_prime('s')` -> `TypeError`\n",
    "* `is_prime(0.1)` -> `False`"
   ]
  },
  {
   "cell_type": "code",
   "execution_count": 34,
   "metadata": {},
   "outputs": [
    {
     "data": {
      "text/plain": [
       "['__name__',\n",
       " '__doc__',\n",
       " '__package__',\n",
       " '__loader__',\n",
       " '__spec__',\n",
       " '__path__',\n",
       " '__file__',\n",
       " '__cached__',\n",
       " '__builtins__',\n",
       " '__all__',\n",
       " '__unittest',\n",
       " 'util',\n",
       " 'result',\n",
       " 'TestResult',\n",
       " 'case',\n",
       " 'TestCase',\n",
       " 'FunctionTestCase',\n",
       " 'SkipTest',\n",
       " 'skip',\n",
       " 'skipIf',\n",
       " 'skipUnless',\n",
       " 'expectedFailure',\n",
       " 'suite',\n",
       " 'BaseTestSuite',\n",
       " 'TestSuite',\n",
       " 'loader',\n",
       " 'TestLoader',\n",
       " 'defaultTestLoader',\n",
       " 'makeSuite',\n",
       " 'getTestCaseNames',\n",
       " 'findTestCases',\n",
       " 'signals',\n",
       " 'runner',\n",
       " 'main',\n",
       " 'TestProgram',\n",
       " 'TextTestRunner',\n",
       " 'TextTestResult',\n",
       " 'installHandler',\n",
       " 'registerResult',\n",
       " 'removeResult',\n",
       " 'removeHandler',\n",
       " '_TextTestResult',\n",
       " 'load_tests']"
      ]
     },
     "execution_count": 34,
     "metadata": {},
     "output_type": "execute_result"
    }
   ],
   "source": [
    "import unittest\n",
    "\n",
    "unittest.__dir__()"
   ]
  },
  {
   "cell_type": "code",
   "execution_count": 35,
   "metadata": {
    "scrolled": false
   },
   "outputs": [
    {
     "name": "stdout",
     "output_type": "stream",
     "text": [
      "Help on class TestCase in module unittest.case:\n",
      "\n",
      "class TestCase(builtins.object)\n",
      " |  TestCase(methodName='runTest')\n",
      " |  \n",
      " |  A class whose instances are single test cases.\n",
      " |  \n",
      " |  By default, the test code itself should be placed in a method named\n",
      " |  'runTest'.\n",
      " |  \n",
      " |  If the fixture may be used for many test cases, create as\n",
      " |  many test methods as are needed. When instantiating such a TestCase\n",
      " |  subclass, specify in the constructor arguments the name of the test method\n",
      " |  that the instance is to execute.\n",
      " |  \n",
      " |  Test authors should subclass TestCase for their own tests. Construction\n",
      " |  and deconstruction of the test's environment ('fixture') can be\n",
      " |  implemented by overriding the 'setUp' and 'tearDown' methods respectively.\n",
      " |  \n",
      " |  If it is necessary to override the __init__ method, the base class\n",
      " |  __init__ method must always be called. It is important that subclasses\n",
      " |  should not change the signature of their __init__ method, since instances\n",
      " |  of the classes are instantiated automatically by parts of the framework\n",
      " |  in order to be run.\n",
      " |  \n",
      " |  When subclassing TestCase, you can set these attributes:\n",
      " |  * failureException: determines which exception will be raised when\n",
      " |      the instance's assertion methods fail; test methods raising this\n",
      " |      exception will be deemed to have 'failed' rather than 'errored'.\n",
      " |  * longMessage: determines whether long messages (including repr of\n",
      " |      objects used in assert methods) will be printed on failure in *addition*\n",
      " |      to any explicit message passed.\n",
      " |  * maxDiff: sets the maximum length of a diff in failure messages\n",
      " |      by assert methods using difflib. It is looked up as an instance\n",
      " |      attribute so can be configured by individual tests if required.\n",
      " |  \n",
      " |  Methods defined here:\n",
      " |  \n",
      " |  __call__(self, *args, **kwds)\n",
      " |      Call self as a function.\n",
      " |  \n",
      " |  __eq__(self, other)\n",
      " |      Return self==value.\n",
      " |  \n",
      " |  __hash__(self)\n",
      " |      Return hash(self).\n",
      " |  \n",
      " |  __init__(self, methodName='runTest')\n",
      " |      Create an instance of the class that will use the named test\n",
      " |      method when executed. Raises a ValueError if the instance does\n",
      " |      not have a method with the specified name.\n",
      " |  \n",
      " |  __repr__(self)\n",
      " |      Return repr(self).\n",
      " |  \n",
      " |  __str__(self)\n",
      " |      Return str(self).\n",
      " |  \n",
      " |  addCleanup(self, function, *args, **kwargs)\n",
      " |      Add a function, with arguments, to be called when the test is\n",
      " |      completed. Functions added are called on a LIFO basis and are\n",
      " |      called after tearDown on test failure or success.\n",
      " |      \n",
      " |      Cleanup items are called even if setUp fails (unlike tearDown).\n",
      " |  \n",
      " |  addTypeEqualityFunc(self, typeobj, function)\n",
      " |      Add a type specific assertEqual style function to compare a type.\n",
      " |      \n",
      " |      This method is for use by TestCase subclasses that need to register\n",
      " |      their own type equality functions to provide nicer error messages.\n",
      " |      \n",
      " |      Args:\n",
      " |          typeobj: The data type to call this function on when both values\n",
      " |                  are of the same type in assertEqual().\n",
      " |          function: The callable taking two arguments and an optional\n",
      " |                  msg= argument that raises self.failureException with a\n",
      " |                  useful error message when the two arguments are not equal.\n",
      " |  \n",
      " |  assertAlmostEqual(self, first, second, places=None, msg=None, delta=None)\n",
      " |      Fail if the two objects are unequal as determined by their\n",
      " |      difference rounded to the given number of decimal places\n",
      " |      (default 7) and comparing to zero, or by comparing that the\n",
      " |      difference between the two objects is more than the given\n",
      " |      delta.\n",
      " |      \n",
      " |      Note that decimal places (from zero) are usually not the same\n",
      " |      as significant digits (measured from the most significant digit).\n",
      " |      \n",
      " |      If the two objects compare equal then they will automatically\n",
      " |      compare almost equal.\n",
      " |  \n",
      " |  assertAlmostEquals = deprecated_func(*args, **kwargs)\n",
      " |  \n",
      " |  assertCountEqual(self, first, second, msg=None)\n",
      " |      An unordered sequence comparison asserting that the same elements,\n",
      " |      regardless of order.  If the same element occurs more than once,\n",
      " |      it verifies that the elements occur the same number of times.\n",
      " |      \n",
      " |          self.assertEqual(Counter(list(first)),\n",
      " |                           Counter(list(second)))\n",
      " |      \n",
      " |       Example:\n",
      " |          - [0, 1, 1] and [1, 0, 1] compare equal.\n",
      " |          - [0, 0, 1] and [0, 1] compare unequal.\n",
      " |  \n",
      " |  assertDictContainsSubset(self, subset, dictionary, msg=None)\n",
      " |      Checks whether dictionary is a superset of subset.\n",
      " |  \n",
      " |  assertDictEqual(self, d1, d2, msg=None)\n",
      " |  \n",
      " |  assertEqual(self, first, second, msg=None)\n",
      " |      Fail if the two objects are unequal as determined by the '=='\n",
      " |      operator.\n",
      " |  \n",
      " |  assertEquals = deprecated_func(*args, **kwargs)\n",
      " |  \n",
      " |  assertFalse(self, expr, msg=None)\n",
      " |      Check that the expression is false.\n",
      " |  \n",
      " |  assertGreater(self, a, b, msg=None)\n",
      " |      Just like self.assertTrue(a > b), but with a nicer default message.\n",
      " |  \n",
      " |  assertGreaterEqual(self, a, b, msg=None)\n",
      " |      Just like self.assertTrue(a >= b), but with a nicer default message.\n",
      " |  \n",
      " |  assertIn(self, member, container, msg=None)\n",
      " |      Just like self.assertTrue(a in b), but with a nicer default message.\n",
      " |  \n",
      " |  assertIs(self, expr1, expr2, msg=None)\n",
      " |      Just like self.assertTrue(a is b), but with a nicer default message.\n",
      " |  \n",
      " |  assertIsInstance(self, obj, cls, msg=None)\n",
      " |      Same as self.assertTrue(isinstance(obj, cls)), with a nicer\n",
      " |      default message.\n",
      " |  \n",
      " |  assertIsNone(self, obj, msg=None)\n",
      " |      Same as self.assertTrue(obj is None), with a nicer default message.\n",
      " |  \n",
      " |  assertIsNot(self, expr1, expr2, msg=None)\n",
      " |      Just like self.assertTrue(a is not b), but with a nicer default message.\n",
      " |  \n",
      " |  assertIsNotNone(self, obj, msg=None)\n",
      " |      Included for symmetry with assertIsNone.\n",
      " |  \n",
      " |  assertLess(self, a, b, msg=None)\n",
      " |      Just like self.assertTrue(a < b), but with a nicer default message.\n",
      " |  \n",
      " |  assertLessEqual(self, a, b, msg=None)\n",
      " |      Just like self.assertTrue(a <= b), but with a nicer default message.\n",
      " |  \n",
      " |  assertListEqual(self, list1, list2, msg=None)\n",
      " |      A list-specific equality assertion.\n",
      " |      \n",
      " |      Args:\n",
      " |          list1: The first list to compare.\n",
      " |          list2: The second list to compare.\n",
      " |          msg: Optional message to use on failure instead of a list of\n",
      " |                  differences.\n",
      " |  \n",
      " |  assertLogs(self, logger=None, level=None)\n",
      " |      Fail unless a log message of level *level* or higher is emitted\n",
      " |      on *logger_name* or its children.  If omitted, *level* defaults to\n",
      " |      INFO and *logger* defaults to the root logger.\n",
      " |      \n",
      " |      This method must be used as a context manager, and will yield\n",
      " |      a recording object with two attributes: `output` and `records`.\n",
      " |      At the end of the context manager, the `output` attribute will\n",
      " |      be a list of the matching formatted log messages and the\n",
      " |      `records` attribute will be a list of the corresponding LogRecord\n",
      " |      objects.\n",
      " |      \n",
      " |      Example::\n",
      " |      \n",
      " |          with self.assertLogs('foo', level='INFO') as cm:\n",
      " |              logging.getLogger('foo').info('first message')\n",
      " |              logging.getLogger('foo.bar').error('second message')\n",
      " |          self.assertEqual(cm.output, ['INFO:foo:first message',\n",
      " |                                       'ERROR:foo.bar:second message'])\n",
      " |  \n",
      " |  assertMultiLineEqual(self, first, second, msg=None)\n",
      " |      Assert that two multi-line strings are equal.\n",
      " |  \n",
      " |  assertNotAlmostEqual(self, first, second, places=None, msg=None, delta=None)\n",
      " |      Fail if the two objects are equal as determined by their\n",
      " |      difference rounded to the given number of decimal places\n",
      " |      (default 7) and comparing to zero, or by comparing that the\n",
      " |      difference between the two objects is less than the given delta.\n",
      " |      \n",
      " |      Note that decimal places (from zero) are usually not the same\n",
      " |      as significant digits (measured from the most significant digit).\n",
      " |      \n",
      " |      Objects that are equal automatically fail.\n",
      " |  \n",
      " |  assertNotAlmostEquals = deprecated_func(*args, **kwargs)\n",
      " |  \n",
      " |  assertNotEqual(self, first, second, msg=None)\n",
      " |      Fail if the two objects are equal as determined by the '!='\n",
      " |      operator.\n",
      " |  \n",
      " |  assertNotEquals = deprecated_func(*args, **kwargs)\n",
      " |  \n",
      " |  assertNotIn(self, member, container, msg=None)\n",
      " |      Just like self.assertTrue(a not in b), but with a nicer default message.\n",
      " |  \n",
      " |  assertNotIsInstance(self, obj, cls, msg=None)\n",
      " |      Included for symmetry with assertIsInstance.\n",
      " |  \n",
      " |  assertNotRegex(self, text, unexpected_regex, msg=None)\n",
      " |      Fail the test if the text matches the regular expression.\n",
      " |  \n",
      " |  assertNotRegexpMatches = deprecated_func(*args, **kwargs)\n",
      " |  \n",
      " |  assertRaises(self, expected_exception, *args, **kwargs)\n",
      " |      Fail unless an exception of class expected_exception is raised\n",
      " |      by the callable when invoked with specified positional and\n",
      " |      keyword arguments. If a different type of exception is\n",
      " |      raised, it will not be caught, and the test case will be\n",
      " |      deemed to have suffered an error, exactly as for an\n",
      " |      unexpected exception.\n",
      " |      \n",
      " |      If called with the callable and arguments omitted, will return a\n",
      " |      context object used like this::\n",
      " |      \n",
      " |           with self.assertRaises(SomeException):\n",
      " |               do_something()\n",
      " |      \n",
      " |      An optional keyword argument 'msg' can be provided when assertRaises\n",
      " |      is used as a context object.\n",
      " |      \n",
      " |      The context manager keeps a reference to the exception as\n",
      " |      the 'exception' attribute. This allows you to inspect the\n",
      " |      exception after the assertion::\n",
      " |      \n",
      " |          with self.assertRaises(SomeException) as cm:\n",
      " |              do_something()\n",
      " |          the_exception = cm.exception\n",
      " |          self.assertEqual(the_exception.error_code, 3)\n",
      " |  \n",
      " |  assertRaisesRegex(self, expected_exception, expected_regex, *args, **kwargs)\n",
      " |      Asserts that the message in a raised exception matches a regex.\n",
      " |      \n",
      " |      Args:\n",
      " |          expected_exception: Exception class expected to be raised.\n",
      " |          expected_regex: Regex (re.Pattern object or string) expected\n",
      " |                  to be found in error message.\n",
      " |          args: Function to be called and extra positional args.\n",
      " |          kwargs: Extra kwargs.\n",
      " |          msg: Optional message used in case of failure. Can only be used\n",
      " |                  when assertRaisesRegex is used as a context manager.\n",
      " |  \n",
      " |  assertRaisesRegexp = deprecated_func(*args, **kwargs)\n",
      " |  \n",
      " |  assertRegex(self, text, expected_regex, msg=None)\n",
      " |      Fail the test unless the text matches the regular expression.\n",
      " |  \n",
      " |  assertRegexpMatches = deprecated_func(*args, **kwargs)\n",
      " |  \n",
      " |  assertSequenceEqual(self, seq1, seq2, msg=None, seq_type=None)\n",
      " |      An equality assertion for ordered sequences (like lists and tuples).\n",
      " |      \n",
      " |      For the purposes of this function, a valid ordered sequence type is one\n",
      " |      which can be indexed, has a length, and has an equality operator.\n",
      " |      \n",
      " |      Args:\n",
      " |          seq1: The first sequence to compare.\n",
      " |          seq2: The second sequence to compare.\n",
      " |          seq_type: The expected datatype of the sequences, or None if no\n",
      " |                  datatype should be enforced.\n",
      " |          msg: Optional message to use on failure instead of a list of\n",
      " |                  differences.\n",
      " |  \n",
      " |  assertSetEqual(self, set1, set2, msg=None)\n",
      " |      A set-specific equality assertion.\n",
      " |      \n",
      " |      Args:\n",
      " |          set1: The first set to compare.\n",
      " |          set2: The second set to compare.\n",
      " |          msg: Optional message to use on failure instead of a list of\n",
      " |                  differences.\n",
      " |      \n",
      " |      assertSetEqual uses ducktyping to support different types of sets, and\n",
      " |      is optimized for sets specifically (parameters must support a\n",
      " |      difference method).\n",
      " |  \n",
      " |  assertTrue(self, expr, msg=None)\n",
      " |      Check that the expression is true.\n",
      " |  \n",
      " |  assertTupleEqual(self, tuple1, tuple2, msg=None)\n",
      " |      A tuple-specific equality assertion.\n",
      " |      \n",
      " |      Args:\n",
      " |          tuple1: The first tuple to compare.\n",
      " |          tuple2: The second tuple to compare.\n",
      " |          msg: Optional message to use on failure instead of a list of\n",
      " |                  differences.\n",
      " |  \n",
      " |  assertWarns(self, expected_warning, *args, **kwargs)\n",
      " |      Fail unless a warning of class warnClass is triggered\n",
      " |      by the callable when invoked with specified positional and\n",
      " |      keyword arguments.  If a different type of warning is\n",
      " |      triggered, it will not be handled: depending on the other\n",
      " |      warning filtering rules in effect, it might be silenced, printed\n",
      " |      out, or raised as an exception.\n",
      " |      \n",
      " |      If called with the callable and arguments omitted, will return a\n",
      " |      context object used like this::\n",
      " |      \n",
      " |           with self.assertWarns(SomeWarning):\n",
      " |               do_something()\n",
      " |      \n",
      " |      An optional keyword argument 'msg' can be provided when assertWarns\n",
      " |      is used as a context object.\n",
      " |      \n",
      " |      The context manager keeps a reference to the first matching\n",
      " |      warning as the 'warning' attribute; similarly, the 'filename'\n",
      " |      and 'lineno' attributes give you information about the line\n",
      " |      of Python code from which the warning was triggered.\n",
      " |      This allows you to inspect the warning after the assertion::\n",
      " |      \n",
      " |          with self.assertWarns(SomeWarning) as cm:\n",
      " |              do_something()\n",
      " |          the_warning = cm.warning\n",
      " |          self.assertEqual(the_warning.some_attribute, 147)\n",
      " |  \n",
      " |  assertWarnsRegex(self, expected_warning, expected_regex, *args, **kwargs)\n",
      " |      Asserts that the message in a triggered warning matches a regexp.\n",
      " |      Basic functioning is similar to assertWarns() with the addition\n",
      " |      that only warnings whose messages also match the regular expression\n",
      " |      are considered successful matches.\n",
      " |      \n",
      " |      Args:\n",
      " |          expected_warning: Warning class expected to be triggered.\n",
      " |          expected_regex: Regex (re.Pattern object or string) expected\n",
      " |                  to be found in error message.\n",
      " |          args: Function to be called and extra positional args.\n",
      " |          kwargs: Extra kwargs.\n",
      " |          msg: Optional message used in case of failure. Can only be used\n",
      " |                  when assertWarnsRegex is used as a context manager.\n",
      " |  \n",
      " |  assert_ = deprecated_func(*args, **kwargs)\n",
      " |  \n",
      " |  countTestCases(self)\n",
      " |  \n",
      " |  debug(self)\n",
      " |      Run the test without collecting errors in a TestResult\n",
      " |  \n",
      " |  defaultTestResult(self)\n",
      " |  \n",
      " |  doCleanups(self)\n",
      " |      Execute all cleanup functions. Normally called for you after\n",
      " |      tearDown.\n",
      " |  \n",
      " |  fail(self, msg=None)\n",
      " |      Fail immediately, with the given message.\n",
      " |  \n",
      " |  failIf = deprecated_func(*args, **kwargs)\n",
      " |  \n",
      " |  failIfAlmostEqual = deprecated_func(*args, **kwargs)\n",
      " |  \n",
      " |  failIfEqual = deprecated_func(*args, **kwargs)\n",
      " |  \n",
      " |  failUnless = deprecated_func(*args, **kwargs)\n",
      " |  \n",
      " |  failUnlessAlmostEqual = deprecated_func(*args, **kwargs)\n",
      " |  \n",
      " |  failUnlessEqual = deprecated_func(*args, **kwargs)\n",
      " |  \n",
      " |  failUnlessRaises = deprecated_func(*args, **kwargs)\n",
      " |  \n",
      " |  id(self)\n",
      " |  \n",
      " |  run(self, result=None)\n",
      " |  \n",
      " |  setUp(self)\n",
      " |      Hook method for setting up the test fixture before exercising it.\n",
      " |  \n",
      " |  shortDescription(self)\n",
      " |      Returns a one-line description of the test, or None if no\n",
      " |      description has been provided.\n",
      " |      \n",
      " |      The default implementation of this method returns the first line of\n",
      " |      the specified test method's docstring.\n",
      " |  \n",
      " |  skipTest(self, reason)\n",
      " |      Skip this test.\n",
      " |  \n",
      " |  subTest(self, msg=<object object at 0x000001AFB463E580>, **params)\n",
      " |      Return a context manager that will return the enclosed block\n",
      " |      of code in a subtest identified by the optional message and\n",
      " |      keyword parameters.  A failure in the subtest marks the test\n",
      " |      case as failed but resumes execution at the end of the enclosed\n",
      " |      block, allowing further test code to be executed.\n",
      " |  \n",
      " |  tearDown(self)\n",
      " |      Hook method for deconstructing the test fixture after testing it.\n",
      " |  \n",
      " |  ----------------------------------------------------------------------\n",
      " |  Class methods defined here:\n",
      " |  \n",
      " |  setUpClass() from builtins.type\n",
      " |      Hook method for setting up class fixture before running tests in the class.\n",
      " |  \n",
      " |  tearDownClass() from builtins.type\n",
      " |      Hook method for deconstructing the class fixture after running all tests in the class.\n",
      " |  \n",
      " |  ----------------------------------------------------------------------\n",
      " |  Data descriptors defined here:\n",
      " |  \n",
      " |  __dict__\n",
      " |      dictionary for instance variables (if defined)\n",
      " |  \n",
      " |  __weakref__\n",
      " |      list of weak references to the object (if defined)\n",
      " |  \n",
      " |  ----------------------------------------------------------------------\n",
      " |  Data and other attributes defined here:\n",
      " |  \n",
      " |  failureException = <class 'AssertionError'>\n",
      " |      Assertion failed.\n",
      " |  \n",
      " |  longMessage = True\n",
      " |  \n",
      " |  maxDiff = 640\n",
      "\n"
     ]
    }
   ],
   "source": [
    "help(unittest.TestCase)"
   ]
  },
  {
   "cell_type": "code",
   "execution_count": 36,
   "metadata": {},
   "outputs": [],
   "source": [
    "class Testing_is_prime(unittest.TestCase):\n",
    "    \"\"\" Testing the is_prime function. \"\"\"\n",
    "    \n",
    "    # These are the test cases.\n",
    "    def test_5_prime(self):\n",
    "        \"\"\" Does is_prime state that 5 is prime? \"\"\"\n",
    "        self.assertTrue(is_prime(5))\n",
    "        \n",
    "    def test_1_prime(self):\n",
    "        \"\"\" Does is_prime state that 1 is not prime? \"\"\"\n",
    "        self.assertFalse(is_prime(1))\n",
    "        \n",
    "    def test_0_prime(self):\n",
    "        \"\"\" Is zero prime? \"\"\"\n",
    "        self.assertFalse(is_prime(0))\n",
    "        \n",
    "    def test_negative_prime(self):\n",
    "        \"\"\" Negatives should not be prime. \"\"\"\n",
    "        self.assertFalse(is_prime(-1))\n",
    "        \n",
    "    def test_4_prime(self):\n",
    "        \"\"\" Is four prime? \"\"\"\n",
    "        self.assertFalse(is_prime(4))\n",
    "        \n",
    "    def test_string_error(self):\n",
    "        \"\"\" Strings shouldn't work. \"\"\"\n",
    "        with self.assertRaises(TypeError):\n",
    "            is_prime('Optimus')\n",
    "            \n",
    "    def test_floats(self):\n",
    "        \"\"\" Floats aren't prime. \"\"\"\n",
    "        self.assertFalse(is_prime(1.1))\n",
    "            \n",
    "    # The assertTrue, assertFalse, assertEqual, assertGreaterThan, assertLessThan, and assertRaises\n",
    "    # functions are built-in to the unittest.TestCase class."
   ]
  },
  {
   "cell_type": "markdown",
   "metadata": {},
   "source": [
    "Notice the new syntax when we use the `assert***()` expressions. For example, in line 9, we wrote `self.assertTrue(is_prime(5))`. The `self` parameter was passed into the testing method. This indicates that we are referring to methods contained in the `TestCase` class.\n",
    "\n",
    "Put another way: we defined a class instance which contains methods (functions). To use the methods in the class, we have to tell the interpreter where they are. The methods are in the class instance itself, so we refer the class instance to its `self`.\n",
    "\n",
    "The other new syntax in the above code is the `assert***()` expression. We use these to `assert***()` the output of a specified function with a particular input. Here are some of the assertions that are part of the `TestCase` class:\n",
    "\n",
    "|Assertion|Description|Example|\n",
    "|---|---|---|\n",
    "|`assertTrue(func(arg))`|Assert that `func(arg) == True`|`assertTrue(is_prime(5))`|\n",
    "|`assertFalse(func(arg))`|Assert that `func(arg) == False`|`assertFalse(is_prime(4))`|\n",
    "|`assertEqual(func(arg), val)`|Assert that `func(arg) == val`|`assertEqual(factorial(4), 24)`|\n",
    "|`assertGreaterThan(func(arg), val)`|Assert that `func(arg) > val`|`assertGreaterThan(factorial(4), 2)`|\n",
    "|`assertLessThan(func(arg), val)`|Assert that `func(arg) < val`|`assertLessThan(factorial(4), 120)`|\n",
    "|`assertRaises(error)`|Assert that `error` is raised. This is called in a `with` statement.|`with assertRaises(TypeError): is_prime('s')`|\n",
    "\n",
    "The following code runs all of the tests in *all* `TestCase` class instances."
   ]
  },
  {
   "cell_type": "code",
   "execution_count": 37,
   "metadata": {},
   "outputs": [
    {
     "name": "stderr",
     "output_type": "stream",
     "text": [
      "FF..EF.\n",
      "======================================================================\n",
      "ERROR: test_floats (__main__.Testing_is_prime)\n",
      "Floats aren't prime.\n",
      "----------------------------------------------------------------------\n",
      "Traceback (most recent call last):\n",
      "  File \"<ipython-input-36-06fd7de26cb7>\", line 32, in test_floats\n",
      "    self.assertFalse(is_prime(1.1))\n",
      "  File \"<ipython-input-32-3e55749663b3>\", line 3, in is_prime\n",
      "    for element in range(2,n):\n",
      "TypeError: 'float' object cannot be interpreted as an integer\n",
      "\n",
      "======================================================================\n",
      "FAIL: test_0_prime (__main__.Testing_is_prime)\n",
      "Is zero prime?\n",
      "----------------------------------------------------------------------\n",
      "Traceback (most recent call last):\n",
      "  File \"<ipython-input-36-06fd7de26cb7>\", line 15, in test_0_prime\n",
      "    self.assertFalse(is_prime(0))\n",
      "AssertionError: True is not false\n",
      "\n",
      "======================================================================\n",
      "FAIL: test_1_prime (__main__.Testing_is_prime)\n",
      "Does is_prime state that 1 is not prime?\n",
      "----------------------------------------------------------------------\n",
      "Traceback (most recent call last):\n",
      "  File \"<ipython-input-36-06fd7de26cb7>\", line 11, in test_1_prime\n",
      "    self.assertFalse(is_prime(1))\n",
      "AssertionError: True is not false\n",
      "\n",
      "======================================================================\n",
      "FAIL: test_negative_prime (__main__.Testing_is_prime)\n",
      "Negatives should not be prime.\n",
      "----------------------------------------------------------------------\n",
      "Traceback (most recent call last):\n",
      "  File \"<ipython-input-36-06fd7de26cb7>\", line 19, in test_negative_prime\n",
      "    self.assertFalse(is_prime(-1))\n",
      "AssertionError: True is not false\n",
      "\n",
      "----------------------------------------------------------------------\n",
      "Ran 7 tests in 0.006s\n",
      "\n",
      "FAILED (failures=3, errors=1)\n"
     ]
    }
   ],
   "source": [
    "if __name__ == '__main__':\n",
    "    unittest.main(argv=['first-arg-is-ignored'], exit=False)"
   ]
  },
  {
   "cell_type": "markdown",
   "metadata": {},
   "source": [
    "The output from running the tests starts with `FF..EF.`. The symbol `.` indicates that the test was completed successfully, the `F` means that the test was failed, and the `E` means that there is an error in the testing code. The rest of the output indicates which of the tests failed and why.\n",
    "\n",
    "The output reports that `is_prime` considers 0, 1, and negatives as prime numbers. It also indicates that an error was raised for float input. We can now make changes to the `is_prime` function to deal with these problems."
   ]
  },
  {
   "cell_type": "code",
   "execution_count": 54,
   "metadata": {},
   "outputs": [
    {
     "name": "stderr",
     "output_type": "stream",
     "text": [
      "....E..\n",
      "======================================================================\n",
      "ERROR: test_floats (__main__.Testing_is_prime)\n",
      "Floats aren't prime.\n",
      "----------------------------------------------------------------------\n",
      "Traceback (most recent call last):\n",
      "  File \"<ipython-input-54-11485488957e>\", line 8, in is_prime\n",
      "    for element in range(2,n):\n",
      "TypeError: 'float' object cannot be interpreted as an integer\n",
      "\n",
      "The above exception was the direct cause of the following exception:\n",
      "\n",
      "Traceback (most recent call last):\n",
      "  File \"<ipython-input-36-06fd7de26cb7>\", line 32, in test_floats\n",
      "    self.assertFalse(is_prime(1.1))\n",
      "  File \"<ipython-input-54-11485488957e>\", line 12, in is_prime\n",
      "    raise TypeError(\"This function only allows integer inputs. \") from exception\n",
      "TypeError: This function only allows integer inputs. \n",
      "\n",
      "----------------------------------------------------------------------\n",
      "Ran 7 tests in 0.006s\n",
      "\n",
      "FAILED (errors=1)\n"
     ]
    }
   ],
   "source": [
    "def is_prime(n):\n",
    "    # Negatives are not prime.\n",
    "    if n <= 1:\n",
    "        return False\n",
    "    \n",
    "    # Using try/except to catch incorrect type inputs.\n",
    "    try:\n",
    "        for element in range(2,n):\n",
    "            if n % element == 0:\n",
    "                return False\n",
    "    except TypeError as exception:\n",
    "        raise TypeError(\"This function only allows integer inputs. \") from exception \n",
    "    return True\n",
    "\n",
    "# Run the test cases again.\n",
    "if __name__ == '__main__':\n",
    "    unittest.main(argv=['first-arg-is-ignored'], exit=False)"
   ]
  },
  {
   "cell_type": "markdown",
   "metadata": {},
   "source": [
    "Floats are still a problem, so let's adjust again."
   ]
  },
  {
   "cell_type": "code",
   "execution_count": 52,
   "metadata": {},
   "outputs": [
    {
     "name": "stderr",
     "output_type": "stream",
     "text": [
      ".......\n",
      "----------------------------------------------------------------------\n",
      "Ran 7 tests in 0.005s\n",
      "\n",
      "OK\n"
     ]
    }
   ],
   "source": [
    "def is_prime(n):\n",
    "    # Negatives are not prime.\n",
    "    \n",
    "    if isinstance(n, float):\n",
    "        return False\n",
    "    \n",
    "    if n <= 1:\n",
    "        return False\n",
    "    \n",
    "    # Using try/except to catch incorrect type inputs.\n",
    "    try:\n",
    "        for element in range(2,n):\n",
    "            if n % element == 0:\n",
    "                return False\n",
    "    except TypeError as exception:\n",
    "        raise TypeError(\"This function only allows integer inputs. \") from exception \n",
    "    return True\n",
    "\n",
    "# Run the test cases again.\n",
    "if __name__ == '__main__':\n",
    "    unittest.main(argv=['first-arg-is-ignored'], exit=False)"
   ]
  },
  {
   "cell_type": "markdown",
   "metadata": {},
   "source": [
    "The changes corrected the problems, and all of the tests ran successfully."
   ]
  },
  {
   "cell_type": "markdown",
   "metadata": {},
   "source": [
    "# Test-Driven Programming\n",
    "\n",
    "Possibly the best method to avoid creating runtime and semantic errors is to begin with the end in mind. By thinking ahead about potential problems that your program may encounter, you can save valuable time later when getting your program ready for a release.\n",
    "\n",
    "Some questions to ask yourself about your program include:\n",
    "<ul>\n",
    "    <li> What should this program do? </li>\n",
    "    <li> How will the user interact with the program? </li>\n",
    "    <li> How can the user break the program? Specifically, what function inputs will cause trouble? </li>\n",
    "    <li> What inputs can I give to functions in my program that will test if the functions give the correct output? </li>\n",
    "</ul>\n",
    "\n",
    "After considering these questions, you can carefully plan your program, writing test cases at each step."
   ]
  },
  {
   "cell_type": "markdown",
   "metadata": {},
   "source": [
    "# Summary\n",
    "\n",
    "1. Debugging is the process of removing errors from your code during the development phase.\n",
    "2. The three types of errors are: syntax, runtime, and semantic. Semantic errors are the most difficult to find.\n",
    "3. Using the interactive debugger will help you diagnose and correct errors in your code.\n",
    "4. To reduce runtime errors, you can `raise` exceptions to give the user more information about what went wrong.\n",
    "5. Unit testing is an important part of the development process, and will help to keep your code clean, readable, and bug-free.\n",
    "6. Beginning with the end in mind can help you to reduce the amount of errors in your code."
   ]
  },
  {
   "cell_type": "markdown",
   "metadata": {},
   "source": [
    "# Exercises\n",
    "\n",
    "1. In the following code, locate 2 syntax errors, 2 runtime errors, and 2 semantic errors."
   ]
  },
  {
   "cell_type": "code",
   "execution_count": 80,
   "metadata": {
    "scrolled": true
   },
   "outputs": [
    {
     "ename": "SyntaxError",
     "evalue": "invalid syntax (<ipython-input-80-71f1be35b5e7>, line 7)",
     "output_type": "error",
     "traceback": [
      "\u001b[1;36m  File \u001b[1;32m\"<ipython-input-80-71f1be35b5e7>\"\u001b[1;36m, line \u001b[1;32m7\u001b[0m\n\u001b[1;33m    found = code.find(strt)\u001b[0m\n\u001b[1;37m        ^\u001b[0m\n\u001b[1;31mSyntaxError\u001b[0m\u001b[1;31m:\u001b[0m invalid syntax\n"
     ]
    }
   ],
   "source": [
    "def start_codon(code):\n",
    "    \"\"\" Determines if the sequence 'AUG' is present in the code. \"\"\"\n",
    "    \n",
    "    start == 'AUG'\n",
    "    \n",
    "    code = str(code\n",
    "    found = code.find(strt)\n",
    "    \n",
    "    retun False\n",
    "\n",
    "startCodon('GUATUTAUAGUATUAGAUAGAUGAUTAUGAUGAUCAUCAUCAUTUGAUCUAGAUT')"
   ]
  },
  {
   "cell_type": "code",
   "execution_count": 86,
   "metadata": {},
   "outputs": [
    {
     "data": {
      "text/plain": [
       "20"
      ]
     },
     "execution_count": 86,
     "metadata": {},
     "output_type": "execute_result"
    }
   ],
   "source": [
    "# Corrected code.\n",
    "\n",
    "def start_codon(code):\n",
    "    \"\"\" Determines if the sequence 'AUG' is present in the code. \"\"\"\n",
    "    \n",
    "    start = 'AUG'\n",
    "    \n",
    "    code = str(code)\n",
    "    found = code.find(start)\n",
    "    \n",
    "    return found\n",
    "\n",
    "start_codon('GUATUTAUAGUATUAGAUAGAUGAUTAUGAUGAUCAUCAUCAUTUGAUCUAGAUT')"
   ]
  },
  {
   "cell_type": "markdown",
   "metadata": {},
   "source": [
    "2. Debug the `factorial` function to give correct output. Also, create a `TestCase` class and test functions to test for: correct outputs for inputs of -1, 0, 2, 4, and 5 and correctly raising exceptions for incorrect input. **Hint:** 0! = 1."
   ]
  },
  {
   "cell_type": "code",
   "execution_count": 99,
   "metadata": {},
   "outputs": [
    {
     "name": "stdout",
     "output_type": "stream",
     "text": [
      "Trying:\n",
      "    calculate_statistics([1,1,1])\n",
      "Expecting:\n",
      "    (1.0, 0.0)\n",
      "> <ipython-input-16-26dbdbce60b8>(32)calculate_statistics()\n",
      "-> N = len(data)\n",
      "(Pdb) c\n",
      "ok\n",
      "Trying:\n",
      "    calculate_statistics(list(range(21)))\n",
      "Expecting:\n",
      "    (10.0, 36.6667)\n",
      "> <ipython-input-16-26dbdbce60b8>(32)calculate_statistics()\n",
      "-> N = len(data)\n",
      "(Pdb) c\n",
      "ok\n",
      "Trying:\n",
      "    factorial(5)\n",
      "Expecting:\n",
      "    120\n",
      "ok\n",
      "Trying:\n",
      "    factorial(6)\n",
      "Expecting:\n",
      "    720\n",
      "ok\n",
      "Trying:\n",
      "    factorial('t')\n",
      "Expecting:\n",
      "    Traceback (most recent call last):\n",
      "        ...\n",
      "    TypeError: can only concatenate str (not \"int\") to str\n",
      "ok\n",
      "13 items had no tests:\n",
      "    __main__\n",
      "    __main__.Testing_is_prime\n",
      "    __main__.Testing_is_prime.test_0_prime\n",
      "    __main__.Testing_is_prime.test_1_prime\n",
      "    __main__.Testing_is_prime.test_4_prime\n",
      "    __main__.Testing_is_prime.test_5_prime\n",
      "    __main__.Testing_is_prime.test_floats\n",
      "    __main__.Testing_is_prime.test_negative_prime\n",
      "    __main__.Testing_is_prime.test_string_error\n",
      "    __main__.is_prime\n",
      "    __main__.longer_words\n",
      "    __main__.modulo_sum\n",
      "    __main__.start_codon\n",
      "2 items passed all tests:\n",
      "   2 tests in __main__.calculate_statistics\n",
      "   3 tests in __main__.factorial\n",
      "5 tests in 15 items.\n",
      "5 passed and 0 failed.\n",
      "Test passed.\n"
     ]
    },
    {
     "data": {
      "text/plain": [
       "TestResults(failed=0, attempted=5)"
      ]
     },
     "execution_count": 99,
     "metadata": {},
     "output_type": "execute_result"
    }
   ],
   "source": [
    "def factorial(n):\n",
    "    \"\"\" Compute the factorial function of the number n. \n",
    "    \n",
    "        Examples:\n",
    "        ---------\n",
    "        >>> factorial(5)\n",
    "        120\n",
    "        >>> factorial(6)\n",
    "        720\n",
    "        >>> factorial('t')\n",
    "        Traceback (most recent call last):\n",
    "            ...\n",
    "        TypeError: can only concatenate str (not \"int\") to str\n",
    "\n",
    "    \"\"\"\n",
    "    \n",
    "    total = 1\n",
    "    \n",
    "    for i in range(1,n+1):\n",
    "        total *= i\n",
    "        \n",
    "    return total\n",
    "\n",
    "import doctest\n",
    "\n",
    "doctest.testmod(verbose = True)"
   ]
  },
  {
   "cell_type": "code",
   "execution_count": 107,
   "metadata": {
    "scrolled": false
   },
   "outputs": [],
   "source": [
    "class Test_factorial(unittest.TestCase):\n",
    "    \n",
    "    def test_zero(self):\n",
    "        \"\"\" factorial(0) should be equal to 1 \"\"\"\n",
    "        self.assertEqual(factorial(0), 1)\n",
    "    \n",
    "    def test_two(self):\n",
    "        \"\"\" factorial(2) should be equal to 2 \"\"\"\n",
    "        self.assertEqual(factorial(2), 2)\n",
    "        \n",
    "    def test_four(self):\n",
    "        \"\"\" factorial(4) should be equal to 24 \"\"\"\n",
    "        self.assertEqual(factorial(4), 24)\n",
    "        \n",
    "    def test_five(self):\n",
    "        \"\"\" factorial(5) should be equal to 120 \"\"\"\n",
    "        self.assertEqual(factorial(5), 120)\n",
    "        \n",
    "    def test_negatives(self):\n",
    "        \"\"\" factorial(-1) should raise a ValueError \"\"\"\n",
    "        with self.assertRaises(ValueError):\n",
    "            factorial(-1)\n",
    "            \n",
    "    def test_wrong_types(self):\n",
    "        \"\"\" factorial(1.2) should raise a TypeError \"\"\"\n",
    "        with self.assertRaises(TypeError):\n",
    "            factorial(1.2)"
   ]
  },
  {
   "cell_type": "code",
   "execution_count": 108,
   "metadata": {},
   "outputs": [],
   "source": [
    "def factorial(n):\n",
    "    \"\"\" Compute the factorial function of the number n. \n",
    "    \n",
    "        Examples:\n",
    "        ---------\n",
    "        >>> factorial(5)\n",
    "        120\n",
    "        >>> factorial(6)\n",
    "        720\n",
    "        >>> factorial('t')\n",
    "        Traceback (most recent call last):\n",
    "            ...\n",
    "        TypeError: can only concatenate str (not \"int\") to str\n",
    "\n",
    "    \"\"\"\n",
    "    \n",
    "    if n < 0:\n",
    "        raise ValueError\n",
    "    \n",
    "    try:\n",
    "        total = 1\n",
    "\n",
    "        for i in range(1,n+1):\n",
    "            total *= i\n",
    "\n",
    "        return total\n",
    "    except TypeError:\n",
    "        raise"
   ]
  },
  {
   "cell_type": "code",
   "execution_count": 109,
   "metadata": {},
   "outputs": [
    {
     "name": "stderr",
     "output_type": "stream",
     "text": [
      "..........E..\n",
      "======================================================================\n",
      "ERROR: test_floats (__main__.Testing_is_prime)\n",
      "Floats aren't prime.\n",
      "----------------------------------------------------------------------\n",
      "Traceback (most recent call last):\n",
      "  File \"<ipython-input-54-11485488957e>\", line 8, in is_prime\n",
      "    for element in range(2,n):\n",
      "TypeError: 'float' object cannot be interpreted as an integer\n",
      "\n",
      "The above exception was the direct cause of the following exception:\n",
      "\n",
      "Traceback (most recent call last):\n",
      "  File \"<ipython-input-36-06fd7de26cb7>\", line 32, in test_floats\n",
      "    self.assertFalse(is_prime(1.1))\n",
      "  File \"<ipython-input-54-11485488957e>\", line 12, in is_prime\n",
      "    raise TypeError(\"This function only allows integer inputs. \") from exception\n",
      "TypeError: This function only allows integer inputs. \n",
      "\n",
      "----------------------------------------------------------------------\n",
      "Ran 13 tests in 0.009s\n",
      "\n",
      "FAILED (errors=1)\n"
     ]
    }
   ],
   "source": [
    "# Run the test cases again.\n",
    "if __name__ == '__main__':\n",
    "    unittest.main(argv=['first-arg-is-ignored'], exit=False)"
   ]
  },
  {
   "cell_type": "markdown",
   "metadata": {},
   "source": [
    "3. Try this exercise *without* writing the function to be tested. Create a `TestCase` class and test functions to test a function called `power_digit_sum`. The intention of the `power_digit_sum` function is to sum up the digits of a power of two. For example, $2^{11} = 2048$, and $2 + 0 + 4 + 8 = 14$. The function should only work for non-negative powers of two up to and including $2^{64}$."
   ]
  },
  {
   "cell_type": "code",
   "execution_count": null,
   "metadata": {},
   "outputs": [],
   "source": [
    "import unittest\n",
    "\n",
    "class Test_power_digit_sum(unittest.TestCase):\n",
    "    \n",
    "    def test_negatives(self):\n",
    "        \"\"\" power_digit_sum(-1) should raise a ValueError \"\"\"\n",
    "        with self.assertRaises(ValueError):\n",
    "            power_digit_sum(-1)\n",
    "            \n",
    "    def test_wrong_types(self):\n",
    "        \"\"\" power_digit_sum('Optimus') should raise a TypeError \"\"\"\n",
    "        with self.assertRaises(TypeError):\n",
    "            power_digit_sum('Optimus')\n",
    "            \n",
    "    def test_zero(self):\n",
    "        \"\"\" power_digit_sum(0) should equal 1 \"\"\"\n",
    "        self.assertEqual(power_digit_sum(0), 1)\n",
    "        \n",
    "    def test_sixty_four(self):\n",
    "        \"\"\" power_digit_sum(64) should equal 88 \"\"\"\n",
    "        self.assertEqual(power_digit_sum(64), 88)\n",
    "        \n",
    "    def test_sixty_five(self):\n",
    "        \"\"\" power_digit_sum(65) should raise a ValueError \"\"\"\n",
    "        with self.assertRaises(ValueError):\n",
    "            power_digit_sum(65)"
   ]
  },
  {
   "cell_type": "code",
   "execution_count": 3,
   "metadata": {},
   "outputs": [
    {
     "data": {
      "text/plain": [
       "88"
      ]
     },
     "execution_count": 3,
     "metadata": {},
     "output_type": "execute_result"
    }
   ],
   "source": [
    "sum([int(i) for i in str(2**64)])"
   ]
  },
  {
   "cell_type": "markdown",
   "metadata": {},
   "source": [
    "4. Write the `power_digit_sum` function, and run the tests to debug the program."
   ]
  },
  {
   "cell_type": "code",
   "execution_count": null,
   "metadata": {},
   "outputs": [],
   "source": []
  },
  {
   "cell_type": "markdown",
   "metadata": {},
   "source": [
    "5. Write appropriate docstrings for the `power_digit_sum` function, and test them."
   ]
  },
  {
   "cell_type": "code",
   "execution_count": null,
   "metadata": {},
   "outputs": [],
   "source": []
  },
  {
   "cell_type": "code",
   "execution_count": null,
   "metadata": {},
   "outputs": [],
   "source": []
  }
 ],
 "metadata": {
  "kernelspec": {
   "display_name": "Python 3",
   "language": "python",
   "name": "python3"
  },
  "language_info": {
   "codemirror_mode": {
    "name": "ipython",
    "version": 3
   },
   "file_extension": ".py",
   "mimetype": "text/x-python",
   "name": "python",
   "nbconvert_exporter": "python",
   "pygments_lexer": "ipython3",
   "version": "3.7.1"
  }
 },
 "nbformat": 4,
 "nbformat_minor": 2
}
