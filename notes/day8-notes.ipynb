{
 "cells": [
  {
   "cell_type": "markdown",
   "metadata": {},
   "source": [
    "# ICT 781 - Day 8\n",
    "\n",
    "# Object-Oriented Programming\n",
    "\n",
    "<a title=\"Dmitry Fomin [CC0], from Wikimedia Commons\" href=\"https://commons.wikimedia.org/wiki/File:English_pattern_playing_cards_deck.svg\"><img width=\"1024\" alt=\"English pattern playing cards deck\" src=\"https://upload.wikimedia.org/wikipedia/commons/thumb/8/81/English_pattern_playing_cards_deck.svg/1024px-English_pattern_playing_cards_deck.svg.png\"></a>"
   ]
  },
  {
   "cell_type": "markdown",
   "metadata": {},
   "source": [
    "# Introduction\n",
    "\n",
    "We've made reference several times to the fact that, in Python, *everything is an object*. Today we'll more fully explore what it means for something to be 'an object'. We saw one example of an object in Day 7 when we created an instance of the `unittest.TestCase` class."
   ]
  },
  {
   "cell_type": "markdown",
   "metadata": {},
   "source": [
    "# Objects\n",
    "\n",
    "It is important to note that an **object** is an abstract concept. Therefore, you won't often see things called 'objects' within Python. However, you will see **classes**, data types such as float, integer, and string, and data containers such as lists and dictionaries. Functions are also objects. An **object** is any entity in the Python language with two key features: **attributes** and **methods**. For now, we'll focus on attributes."
   ]
  },
  {
   "cell_type": "markdown",
   "metadata": {},
   "source": [
    "## Object Attributes\n",
    "\n",
    "An object's **attributes** can be thought of as its traits or characteristics. For example, when we create an integer variable, we assign it a value. This value is one of the variable's attributes."
   ]
  },
  {
   "cell_type": "code",
   "execution_count": 1,
   "metadata": {},
   "outputs": [
    {
     "name": "stdout",
     "output_type": "stream",
     "text": [
      "1\n"
     ]
    }
   ],
   "source": [
    "number = 1\n",
    "print(number)"
   ]
  },
  {
   "cell_type": "markdown",
   "metadata": {},
   "source": [
    "This example is not very interesting, because the integer object hardly has any attributes other than its value! Let's create a more interesting object: the **Card** class."
   ]
  },
  {
   "cell_type": "markdown",
   "metadata": {},
   "source": [
    "## Creating Custom Objects: Classes and Attributes\n",
    "\n",
    "First, we'll write the code for our **Card** class, then we'll examine it closely."
   ]
  },
  {
   "cell_type": "code",
   "execution_count": 2,
   "metadata": {},
   "outputs": [],
   "source": [
    "class Card:\n",
    "    pass"
   ]
  },
  {
   "cell_type": "markdown",
   "metadata": {},
   "source": [
    "This is all it takes to create a class. You write the Python keyword `class` to indicate that you are creating a class, and then you name the class. I've included the `pass` statement, but now we'll replace that with some attributes."
   ]
  },
  {
   "cell_type": "code",
   "execution_count": 3,
   "metadata": {},
   "outputs": [],
   "source": [
    "class Card:\n",
    "    \"\"\" The playing card class. \"\"\"\n",
    "    \n",
    "    def __init__(self):\n",
    "        pass"
   ]
  },
  {
   "cell_type": "markdown",
   "metadata": {},
   "source": [
    "Without adding too much code, we've started the process of assigning **attributes** to our class. This is done in the `__init__`(initialize) function. The `__init__` function is required for any user-defined object, and it always has the argument `self`.\n",
    "\n",
    "By passing `self` to the `__init__` function, we are telling the function that it is *self-referential*, meaning the function will be manipulating the class itself. You can think of this as passing the class to the function. The two underscores in `__init__` indicate that this is a private function.\n",
    "\n",
    "If we only pass in `self` to the `__init__` function, we can assign values to attributes by hard-coding them.\n",
    "\n",
    "A playing card generally has a suit (which comes with a colour), and a value (either numeric or 'Ace', 'Jack', 'Queen', or 'King'). For now, let's consider an Ace as the '1' card. Let's assign the suit and value as attributes."
   ]
  },
  {
   "cell_type": "code",
   "execution_count": 4,
   "metadata": {},
   "outputs": [],
   "source": [
    "class Card:\n",
    "    \"\"\" The playing card class. \"\"\"\n",
    "    \n",
    "    def __init__(self):\n",
    "        self.suit = 'clubs'\n",
    "        self.value = 'Q'"
   ]
  },
  {
   "cell_type": "markdown",
   "metadata": {},
   "source": [
    "By referring to the `self`, or the class as an argument of the `__init__` function, we have set the attributes `suit` and `value`.\n",
    "\n",
    "Now we'll create an **instance** of the `Card` class. An **instance** of a class is a user-defined variable. Note that we include the empty parentheses in `Card()`."
   ]
  },
  {
   "cell_type": "code",
   "execution_count": 5,
   "metadata": {},
   "outputs": [],
   "source": [
    "queen_of_clubs = Card()"
   ]
  },
  {
   "cell_type": "markdown",
   "metadata": {},
   "source": [
    "We can access the attributes of our class instance with the `.` syntax."
   ]
  },
  {
   "cell_type": "code",
   "execution_count": 6,
   "metadata": {},
   "outputs": [
    {
     "name": "stdout",
     "output_type": "stream",
     "text": [
      "clubs\n",
      "Q\n"
     ]
    }
   ],
   "source": [
    "print(queen_of_clubs.suit)\n",
    "print(queen_of_clubs.value)"
   ]
  },
  {
   "cell_type": "markdown",
   "metadata": {},
   "source": [
    "This is great for an example, but not very useful for creating a general card. Since we hard-coded the `Card` attributes, any instance of the `Card` class will have the same attributes. We can correct this by allowing specified arguments to the `__init__` function."
   ]
  },
  {
   "cell_type": "code",
   "execution_count": 7,
   "metadata": {},
   "outputs": [
    {
     "name": "stdout",
     "output_type": "stream",
     "text": [
      "clubs\n",
      "K\n"
     ]
    }
   ],
   "source": [
    "class Card:\n",
    "    \"\"\" The playing card class. \"\"\"\n",
    "    \n",
    "    def __init__(self, suit_arg, value_arg):\n",
    "        \"\"\" Assign the attributes 'suit' and 'value' based on arguments. \"\"\"\n",
    "        self.suit = suit_arg\n",
    "        self.value = value_arg\n",
    "        \n",
    "king_of_clubs = Card('clubs','K')\n",
    "\n",
    "print(king_of_clubs.suit)\n",
    "print(king_of_clubs.value)"
   ]
  },
  {
   "cell_type": "markdown",
   "metadata": {},
   "source": [
    "This time when we created an instance of the `Card` class, we passed in two arguments: suit and value. These automatically get sent to the `__init__` function to be assigned to the attributes.\n",
    "\n",
    "**Note:** the order of arguments matters in a class instance."
   ]
  },
  {
   "cell_type": "code",
   "execution_count": 8,
   "metadata": {},
   "outputs": [
    {
     "name": "stdout",
     "output_type": "stream",
     "text": [
      "clubs\n",
      "Q\n",
      "Q\n",
      "clubs\n"
     ]
    }
   ],
   "source": [
    "queen_of_clubs = Card('clubs','Q')\n",
    "\n",
    "print(queen_of_clubs.suit)\n",
    "print(queen_of_clubs.value)\n",
    "\n",
    "queen_of_clubs = Card('Q','clubs')\n",
    "\n",
    "print(queen_of_clubs.suit)\n",
    "print(queen_of_clubs.value)"
   ]
  },
  {
   "cell_type": "markdown",
   "metadata": {},
   "source": [
    "We can get around the problem of argument order by specifying our arguments by keyword."
   ]
  },
  {
   "cell_type": "code",
   "execution_count": 9,
   "metadata": {},
   "outputs": [
    {
     "name": "stdout",
     "output_type": "stream",
     "text": [
      "clubs\n",
      "Q\n",
      "clubs\n",
      "Q\n"
     ]
    }
   ],
   "source": [
    "queen_of_clubs = Card('clubs','Q')\n",
    "\n",
    "print(queen_of_clubs.suit)\n",
    "print(queen_of_clubs.value)\n",
    "\n",
    "queen_of_clubs = Card(value_arg='Q', suit_arg='clubs')\n",
    "\n",
    "print(queen_of_clubs.suit)\n",
    "print(queen_of_clubs.value)"
   ]
  },
  {
   "cell_type": "markdown",
   "metadata": {},
   "source": [
    "We can also write conditional statements within the `__init__` function to set the value of `colour`, since the colour of a playing card is dictated by its suit. We'll change the class to reflect this."
   ]
  },
  {
   "cell_type": "code",
   "execution_count": 10,
   "metadata": {},
   "outputs": [
    {
     "name": "stdout",
     "output_type": "stream",
     "text": [
      "hearts\n",
      "red\n",
      "J\n"
     ]
    }
   ],
   "source": [
    "class Card:\n",
    "    \"\"\" The playing card class. \"\"\"\n",
    "    \n",
    "    def __init__(self, suit_arg, value_arg):\n",
    "        self.suit = suit_arg\n",
    "        self.value = value_arg\n",
    "        \n",
    "        # Assign card colour based on suit.\n",
    "        if self.suit in ['clubs','spades']:\n",
    "            self.colour = 'black'\n",
    "        else:\n",
    "            self.colour = 'red'\n",
    "            \n",
    "jack_of_hearts = Card(suit_arg = 'hearts',value_arg = 'J')\n",
    "\n",
    "print(jack_of_hearts.suit)\n",
    "print(jack_of_hearts.colour)\n",
    "print(jack_of_hearts.value)"
   ]
  },
  {
   "cell_type": "markdown",
   "metadata": {},
   "source": [
    "Also, some card games, like Cribbage, consider the 'royal' cards (the Jacks, Queens, and Kings) to have specific numerical values. In Cribbage, all 'royal' cards have a numerical value of 10.\n",
    "\n",
    "Supposing that our `Card` class will be used in a Cribbage game, we can change the class definition to reflect this."
   ]
  },
  {
   "cell_type": "code",
   "execution_count": 11,
   "metadata": {},
   "outputs": [
    {
     "name": "stdout",
     "output_type": "stream",
     "text": [
      "hearts\n",
      "red\n",
      "J\n",
      "10\n"
     ]
    }
   ],
   "source": [
    "class Card:\n",
    "    \"\"\" The playing card class for Cribbage. \"\"\"\n",
    "    \n",
    "    def __init__(self, suit_arg, value_arg):\n",
    "        self.suit = suit_arg\n",
    "        self.value = value_arg\n",
    "        \n",
    "        # Assign card colour based on suit.\n",
    "        if self.suit in ['clubs','spades']:\n",
    "            self.colour = 'black'\n",
    "        else:\n",
    "            self.colour = 'red'\n",
    "            \n",
    "        # Assign numerical value based on face value.\n",
    "        if self.value in ['K','Q','J']:\n",
    "            self.numvalue = 10\n",
    "        else:\n",
    "            self.numvalue = value\n",
    "            \n",
    "jack_of_hearts = Card(suit_arg = 'hearts', value_arg = 'J')\n",
    "\n",
    "print(jack_of_hearts.suit)\n",
    "print(jack_of_hearts.colour)\n",
    "print(jack_of_hearts.value)\n",
    "print(jack_of_hearts.numvalue)"
   ]
  },
  {
   "cell_type": "markdown",
   "metadata": {},
   "source": [
    "## Class Attributes are Mutable\n",
    "\n",
    "We may arbitrarily change a class instance's attributes. This simply changes the attribute, **it doesn't re-run the `__init__` function**. Therefore, you need to be careful when using classes in your programs. Limiting the user's access to classes can reduce the number of errors in the code."
   ]
  },
  {
   "cell_type": "code",
   "execution_count": 12,
   "metadata": {},
   "outputs": [
    {
     "name": "stdout",
     "output_type": "stream",
     "text": [
      "hearts\n",
      "red\n",
      "J\n",
      "10\n",
      "\n",
      "spades\n",
      "red\n",
      "J\n",
      "33\n"
     ]
    }
   ],
   "source": [
    "jack_of_hearts = Card(suit_arg = 'hearts', value_arg = 'J')\n",
    "\n",
    "print(jack_of_hearts.suit)\n",
    "print(jack_of_hearts.colour)\n",
    "print(jack_of_hearts.value)\n",
    "print(jack_of_hearts.numvalue)\n",
    "\n",
    "print()\n",
    "jack_of_hearts.suit = 'spades'\n",
    "jack_of_hearts.numvalue += 23\n",
    "\n",
    "print(jack_of_hearts.suit)\n",
    "print(jack_of_hearts.colour)\n",
    "print(jack_of_hearts.value)\n",
    "print(jack_of_hearts.numvalue)"
   ]
  },
  {
   "cell_type": "markdown",
   "metadata": {},
   "source": [
    "## Creating Custom Objects: Classes and Methods\n",
    "\n",
    "In several of the above examples, I printed out all of the attributes of the `Card` class instances. There is a more convenient way to print out this information.\n",
    "\n",
    "To accomplish this task, we'll define a new function inside the `Card` class."
   ]
  },
  {
   "cell_type": "code",
   "execution_count": 13,
   "metadata": {},
   "outputs": [
    {
     "name": "stdout",
     "output_type": "stream",
     "text": [
      "Card attributes:\n",
      "J of clubs.\n",
      "Numeric value is 10.\n",
      "Colour is black.\n",
      "\n"
     ]
    }
   ],
   "source": [
    "class Card:\n",
    "    \"\"\" The playing card class for Cribbage. \"\"\"\n",
    "    \n",
    "    def __init__(self, suit_arg, value_arg):\n",
    "        self.suit = suit_arg\n",
    "        self.value = value_arg\n",
    "        \n",
    "        # Assign card colour based on suit.\n",
    "        if self.suit in ['clubs','spades']:\n",
    "            self.colour = 'black'\n",
    "        else:\n",
    "            self.colour = 'red'\n",
    "            \n",
    "        # Assign numerical value based on face value.\n",
    "        if self.value in ['K','Q','J']:\n",
    "            self.numvalue = 10\n",
    "        else:\n",
    "            self.numvalue = self.value\n",
    "            \n",
    "    def display(self):\n",
    "        \"\"\" Print out all class attributes. \"\"\"\n",
    "        \n",
    "        print('Card attributes:')\n",
    "        print('{} of {}.'.format(self.value, self.suit))\n",
    "        print('Numeric value is {}.'.format(self.numvalue))\n",
    "        print('Colour is {}.'.format(self.colour))\n",
    "        print()\n",
    "        return None\n",
    "       \n",
    "jack_of_clubs = Card(suit_arg = 'clubs', value_arg = 'J')\n",
    "jack_of_clubs.display()"
   ]
  },
  {
   "cell_type": "markdown",
   "metadata": {},
   "source": [
    "A function defined inside of a class is called a **method**. So far, our `Card` class has two **methods**: `__init__` and `display`.\n",
    "\n",
    "Let's create a collection of 52 cards and call it a deck. We'll place the deck into a list using a list comprehension."
   ]
  },
  {
   "cell_type": "code",
   "execution_count": 15,
   "metadata": {
    "scrolled": false
   },
   "outputs": [
    {
     "name": "stdout",
     "output_type": "stream",
     "text": [
      "['clubs', 'spades', 'hearts', 'diamonds']\n",
      "[1, 2, 3, 4, 5, 6, 7, 8, 9, 10, 'J', 'Q', 'K']\n",
      "Card attributes:\n",
      "1 of clubs.\n",
      "Numeric value is 1.\n",
      "Colour is black.\n",
      "\n",
      "Card attributes:\n",
      "2 of clubs.\n",
      "Numeric value is 2.\n",
      "Colour is black.\n",
      "\n",
      "Card attributes:\n",
      "3 of clubs.\n",
      "Numeric value is 3.\n",
      "Colour is black.\n",
      "\n",
      "Card attributes:\n",
      "4 of clubs.\n",
      "Numeric value is 4.\n",
      "Colour is black.\n",
      "\n",
      "Card attributes:\n",
      "5 of clubs.\n",
      "Numeric value is 5.\n",
      "Colour is black.\n",
      "\n",
      "Card attributes:\n",
      "6 of clubs.\n",
      "Numeric value is 6.\n",
      "Colour is black.\n",
      "\n",
      "Card attributes:\n",
      "7 of clubs.\n",
      "Numeric value is 7.\n",
      "Colour is black.\n",
      "\n",
      "Card attributes:\n",
      "8 of clubs.\n",
      "Numeric value is 8.\n",
      "Colour is black.\n",
      "\n",
      "Card attributes:\n",
      "9 of clubs.\n",
      "Numeric value is 9.\n",
      "Colour is black.\n",
      "\n",
      "Card attributes:\n",
      "10 of clubs.\n",
      "Numeric value is 10.\n",
      "Colour is black.\n",
      "\n",
      "Card attributes:\n",
      "J of clubs.\n",
      "Numeric value is 10.\n",
      "Colour is black.\n",
      "\n",
      "Card attributes:\n",
      "Q of clubs.\n",
      "Numeric value is 10.\n",
      "Colour is black.\n",
      "\n",
      "Card attributes:\n",
      "K of clubs.\n",
      "Numeric value is 10.\n",
      "Colour is black.\n",
      "\n",
      "Card attributes:\n",
      "1 of spades.\n",
      "Numeric value is 1.\n",
      "Colour is black.\n",
      "\n",
      "Card attributes:\n",
      "2 of spades.\n",
      "Numeric value is 2.\n",
      "Colour is black.\n",
      "\n",
      "Card attributes:\n",
      "3 of spades.\n",
      "Numeric value is 3.\n",
      "Colour is black.\n",
      "\n",
      "Card attributes:\n",
      "4 of spades.\n",
      "Numeric value is 4.\n",
      "Colour is black.\n",
      "\n",
      "Card attributes:\n",
      "5 of spades.\n",
      "Numeric value is 5.\n",
      "Colour is black.\n",
      "\n",
      "Card attributes:\n",
      "6 of spades.\n",
      "Numeric value is 6.\n",
      "Colour is black.\n",
      "\n",
      "Card attributes:\n",
      "7 of spades.\n",
      "Numeric value is 7.\n",
      "Colour is black.\n",
      "\n",
      "Card attributes:\n",
      "8 of spades.\n",
      "Numeric value is 8.\n",
      "Colour is black.\n",
      "\n",
      "Card attributes:\n",
      "9 of spades.\n",
      "Numeric value is 9.\n",
      "Colour is black.\n",
      "\n",
      "Card attributes:\n",
      "10 of spades.\n",
      "Numeric value is 10.\n",
      "Colour is black.\n",
      "\n",
      "Card attributes:\n",
      "J of spades.\n",
      "Numeric value is 10.\n",
      "Colour is black.\n",
      "\n",
      "Card attributes:\n",
      "Q of spades.\n",
      "Numeric value is 10.\n",
      "Colour is black.\n",
      "\n",
      "Card attributes:\n",
      "K of spades.\n",
      "Numeric value is 10.\n",
      "Colour is black.\n",
      "\n",
      "Card attributes:\n",
      "1 of hearts.\n",
      "Numeric value is 1.\n",
      "Colour is red.\n",
      "\n",
      "Card attributes:\n",
      "2 of hearts.\n",
      "Numeric value is 2.\n",
      "Colour is red.\n",
      "\n",
      "Card attributes:\n",
      "3 of hearts.\n",
      "Numeric value is 3.\n",
      "Colour is red.\n",
      "\n",
      "Card attributes:\n",
      "4 of hearts.\n",
      "Numeric value is 4.\n",
      "Colour is red.\n",
      "\n",
      "Card attributes:\n",
      "5 of hearts.\n",
      "Numeric value is 5.\n",
      "Colour is red.\n",
      "\n",
      "Card attributes:\n",
      "6 of hearts.\n",
      "Numeric value is 6.\n",
      "Colour is red.\n",
      "\n",
      "Card attributes:\n",
      "7 of hearts.\n",
      "Numeric value is 7.\n",
      "Colour is red.\n",
      "\n",
      "Card attributes:\n",
      "8 of hearts.\n",
      "Numeric value is 8.\n",
      "Colour is red.\n",
      "\n",
      "Card attributes:\n",
      "9 of hearts.\n",
      "Numeric value is 9.\n",
      "Colour is red.\n",
      "\n",
      "Card attributes:\n",
      "10 of hearts.\n",
      "Numeric value is 10.\n",
      "Colour is red.\n",
      "\n",
      "Card attributes:\n",
      "J of hearts.\n",
      "Numeric value is 10.\n",
      "Colour is red.\n",
      "\n",
      "Card attributes:\n",
      "Q of hearts.\n",
      "Numeric value is 10.\n",
      "Colour is red.\n",
      "\n",
      "Card attributes:\n",
      "K of hearts.\n",
      "Numeric value is 10.\n",
      "Colour is red.\n",
      "\n",
      "Card attributes:\n",
      "1 of diamonds.\n",
      "Numeric value is 1.\n",
      "Colour is red.\n",
      "\n",
      "Card attributes:\n",
      "2 of diamonds.\n",
      "Numeric value is 2.\n",
      "Colour is red.\n",
      "\n",
      "Card attributes:\n",
      "3 of diamonds.\n",
      "Numeric value is 3.\n",
      "Colour is red.\n",
      "\n",
      "Card attributes:\n",
      "4 of diamonds.\n",
      "Numeric value is 4.\n",
      "Colour is red.\n",
      "\n",
      "Card attributes:\n",
      "5 of diamonds.\n",
      "Numeric value is 5.\n",
      "Colour is red.\n",
      "\n",
      "Card attributes:\n",
      "6 of diamonds.\n",
      "Numeric value is 6.\n",
      "Colour is red.\n",
      "\n",
      "Card attributes:\n",
      "7 of diamonds.\n",
      "Numeric value is 7.\n",
      "Colour is red.\n",
      "\n",
      "Card attributes:\n",
      "8 of diamonds.\n",
      "Numeric value is 8.\n",
      "Colour is red.\n",
      "\n",
      "Card attributes:\n",
      "9 of diamonds.\n",
      "Numeric value is 9.\n",
      "Colour is red.\n",
      "\n",
      "Card attributes:\n",
      "10 of diamonds.\n",
      "Numeric value is 10.\n",
      "Colour is red.\n",
      "\n",
      "Card attributes:\n",
      "J of diamonds.\n",
      "Numeric value is 10.\n",
      "Colour is red.\n",
      "\n",
      "Card attributes:\n",
      "Q of diamonds.\n",
      "Numeric value is 10.\n",
      "Colour is red.\n",
      "\n",
      "Card attributes:\n",
      "K of diamonds.\n",
      "Numeric value is 10.\n",
      "Colour is red.\n",
      "\n",
      "There are 52 cards in the deck.\n"
     ]
    }
   ],
   "source": [
    "suits = ['clubs','spades','hearts','diamonds']\n",
    "values = list(range(1,11))\n",
    "letters = ['J','Q','K']\n",
    "\n",
    "for letter in letters:\n",
    "    values.append(letter)\n",
    "    \n",
    "print(suits)\n",
    "print(values)\n",
    "\n",
    "deck = [Card(suit_arg = suit, value_arg = value) for suit in suits for value in values]\n",
    "for card in deck:\n",
    "    card.display()\n",
    "    \n",
    "print('There are {} cards in the deck.'.format(len(deck)))"
   ]
  },
  {
   "cell_type": "code",
   "execution_count": 16,
   "metadata": {
    "scrolled": false
   },
   "outputs": [
    {
     "name": "stdout",
     "output_type": "stream",
     "text": [
      "Card attributes:\n",
      "1 of clubs.\n",
      "Numeric value is 1.\n",
      "Colour is black.\n",
      "\n",
      "Card attributes:\n",
      "2 of clubs.\n",
      "Numeric value is 2.\n",
      "Colour is black.\n",
      "\n",
      "Card attributes:\n",
      "3 of clubs.\n",
      "Numeric value is 3.\n",
      "Colour is black.\n",
      "\n",
      "Card attributes:\n",
      "4 of clubs.\n",
      "Numeric value is 4.\n",
      "Colour is black.\n",
      "\n",
      "Card attributes:\n",
      "5 of clubs.\n",
      "Numeric value is 5.\n",
      "Colour is black.\n",
      "\n",
      "Card attributes:\n",
      "6 of clubs.\n",
      "Numeric value is 6.\n",
      "Colour is black.\n",
      "\n",
      "Card attributes:\n",
      "7 of clubs.\n",
      "Numeric value is 7.\n",
      "Colour is black.\n",
      "\n",
      "Card attributes:\n",
      "8 of clubs.\n",
      "Numeric value is 8.\n",
      "Colour is black.\n",
      "\n",
      "Card attributes:\n",
      "9 of clubs.\n",
      "Numeric value is 9.\n",
      "Colour is black.\n",
      "\n",
      "Card attributes:\n",
      "10 of clubs.\n",
      "Numeric value is 10.\n",
      "Colour is black.\n",
      "\n",
      "Card attributes:\n",
      "J of clubs.\n",
      "Numeric value is 10.\n",
      "Colour is black.\n",
      "\n",
      "Card attributes:\n",
      "Q of clubs.\n",
      "Numeric value is 10.\n",
      "Colour is black.\n",
      "\n",
      "Card attributes:\n",
      "K of clubs.\n",
      "Numeric value is 10.\n",
      "Colour is black.\n",
      "\n",
      "Card attributes:\n",
      "1 of spades.\n",
      "Numeric value is 1.\n",
      "Colour is black.\n",
      "\n",
      "Card attributes:\n",
      "2 of spades.\n",
      "Numeric value is 2.\n",
      "Colour is black.\n",
      "\n",
      "Card attributes:\n",
      "3 of spades.\n",
      "Numeric value is 3.\n",
      "Colour is black.\n",
      "\n",
      "Card attributes:\n",
      "4 of spades.\n",
      "Numeric value is 4.\n",
      "Colour is black.\n",
      "\n",
      "Card attributes:\n",
      "5 of spades.\n",
      "Numeric value is 5.\n",
      "Colour is black.\n",
      "\n",
      "Card attributes:\n",
      "6 of spades.\n",
      "Numeric value is 6.\n",
      "Colour is black.\n",
      "\n",
      "Card attributes:\n",
      "7 of spades.\n",
      "Numeric value is 7.\n",
      "Colour is black.\n",
      "\n",
      "Card attributes:\n",
      "8 of spades.\n",
      "Numeric value is 8.\n",
      "Colour is black.\n",
      "\n",
      "Card attributes:\n",
      "9 of spades.\n",
      "Numeric value is 9.\n",
      "Colour is black.\n",
      "\n",
      "Card attributes:\n",
      "10 of spades.\n",
      "Numeric value is 10.\n",
      "Colour is black.\n",
      "\n",
      "Card attributes:\n",
      "J of spades.\n",
      "Numeric value is 10.\n",
      "Colour is black.\n",
      "\n",
      "Card attributes:\n",
      "Q of spades.\n",
      "Numeric value is 10.\n",
      "Colour is black.\n",
      "\n",
      "Card attributes:\n",
      "K of spades.\n",
      "Numeric value is 10.\n",
      "Colour is black.\n",
      "\n",
      "Card attributes:\n",
      "1 of hearts.\n",
      "Numeric value is 1.\n",
      "Colour is red.\n",
      "\n",
      "Card attributes:\n",
      "2 of hearts.\n",
      "Numeric value is 2.\n",
      "Colour is red.\n",
      "\n",
      "Card attributes:\n",
      "3 of hearts.\n",
      "Numeric value is 3.\n",
      "Colour is red.\n",
      "\n",
      "Card attributes:\n",
      "4 of hearts.\n",
      "Numeric value is 4.\n",
      "Colour is red.\n",
      "\n",
      "Card attributes:\n",
      "5 of hearts.\n",
      "Numeric value is 5.\n",
      "Colour is red.\n",
      "\n",
      "Card attributes:\n",
      "6 of hearts.\n",
      "Numeric value is 6.\n",
      "Colour is red.\n",
      "\n",
      "Card attributes:\n",
      "7 of hearts.\n",
      "Numeric value is 7.\n",
      "Colour is red.\n",
      "\n",
      "Card attributes:\n",
      "8 of hearts.\n",
      "Numeric value is 8.\n",
      "Colour is red.\n",
      "\n",
      "Card attributes:\n",
      "9 of hearts.\n",
      "Numeric value is 9.\n",
      "Colour is red.\n",
      "\n",
      "Card attributes:\n",
      "10 of hearts.\n",
      "Numeric value is 10.\n",
      "Colour is red.\n",
      "\n",
      "Card attributes:\n",
      "J of hearts.\n",
      "Numeric value is 10.\n",
      "Colour is red.\n",
      "\n",
      "Card attributes:\n",
      "Q of hearts.\n",
      "Numeric value is 10.\n",
      "Colour is red.\n",
      "\n",
      "Card attributes:\n",
      "K of hearts.\n",
      "Numeric value is 10.\n",
      "Colour is red.\n",
      "\n",
      "Card attributes:\n",
      "1 of diamonds.\n",
      "Numeric value is 1.\n",
      "Colour is red.\n",
      "\n",
      "Card attributes:\n",
      "2 of diamonds.\n",
      "Numeric value is 2.\n",
      "Colour is red.\n",
      "\n",
      "Card attributes:\n",
      "3 of diamonds.\n",
      "Numeric value is 3.\n",
      "Colour is red.\n",
      "\n",
      "Card attributes:\n",
      "4 of diamonds.\n",
      "Numeric value is 4.\n",
      "Colour is red.\n",
      "\n",
      "Card attributes:\n",
      "5 of diamonds.\n",
      "Numeric value is 5.\n",
      "Colour is red.\n",
      "\n",
      "Card attributes:\n",
      "6 of diamonds.\n",
      "Numeric value is 6.\n",
      "Colour is red.\n",
      "\n",
      "Card attributes:\n",
      "7 of diamonds.\n",
      "Numeric value is 7.\n",
      "Colour is red.\n",
      "\n",
      "Card attributes:\n",
      "8 of diamonds.\n",
      "Numeric value is 8.\n",
      "Colour is red.\n",
      "\n",
      "Card attributes:\n",
      "9 of diamonds.\n",
      "Numeric value is 9.\n",
      "Colour is red.\n",
      "\n",
      "Card attributes:\n",
      "10 of diamonds.\n",
      "Numeric value is 10.\n",
      "Colour is red.\n",
      "\n",
      "Card attributes:\n",
      "J of diamonds.\n",
      "Numeric value is 10.\n",
      "Colour is red.\n",
      "\n",
      "Card attributes:\n",
      "Q of diamonds.\n",
      "Numeric value is 10.\n",
      "Colour is red.\n",
      "\n",
      "Card attributes:\n",
      "K of diamonds.\n",
      "Numeric value is 10.\n",
      "Colour is red.\n",
      "\n"
     ]
    }
   ],
   "source": [
    "# A second way\n",
    "\n",
    "import itertools\n",
    "\n",
    "deck = [Card(suit_arg = suit, value_arg = value) for suit, value in itertools.product(suits, values)]\n",
    "\n",
    "for card in deck:\n",
    "    card.display()"
   ]
  },
  {
   "cell_type": "markdown",
   "metadata": {},
   "source": [
    "From the output, we can see that the deck creation was successful. Next week we'll look at different ways of creating a deck and dealing cards from the deck."
   ]
  },
  {
   "cell_type": "markdown",
   "metadata": {},
   "source": [
    "<a title=\"Jahobr [CC0], from Wikimedia Commons\" href=\"https://commons.wikimedia.org/wiki/File:AnalogClockAnimation1_2hands_1h_in_6sec.gif\"><img width=\"512\" alt=\"AnalogClockAnimation1 2hands 1h in 6sec\" src=\"https://upload.wikimedia.org/wikipedia/commons/thumb/8/8a/AnalogClockAnimation1_2hands_1h_in_6sec.gif/512px-AnalogClockAnimation1_2hands_1h_in_6sec.gif\"></a>"
   ]
  },
  {
   "cell_type": "markdown",
   "metadata": {},
   "source": [
    "# The Time Class\n",
    "\n",
    "We'll create a new class called `Time` which will have three attributes: hours, minutes, and seconds."
   ]
  },
  {
   "cell_type": "code",
   "execution_count": 17,
   "metadata": {},
   "outputs": [],
   "source": [
    "class Time:\n",
    "    \"\"\" The time class. \"\"\"\n",
    "    \n",
    "    def __init__(self, hours, minutes, seconds):\n",
    "        self.hours = hours\n",
    "        self.minutes = minutes\n",
    "        self.seconds = seconds\n",
    "        \n",
    "T = Time(hours = 1, minutes = 54, seconds = 35)"
   ]
  },
  {
   "cell_type": "markdown",
   "metadata": {},
   "source": [
    "The `Time` instance created above represents the clock time 1:54:35. We haven't specified whether the time is 'AM' or 'PM', but we can change the class definition to allow for this. \n",
    "\n",
    "We'll use a boolean for AM/PM. The intention is to avoid too many string inputs so we don't have to worry about changing from uppercase to lowercase, or vice-versa. If `am` is `True`, we'll set the `am` attribute to `AM`, otherwise it will be `PM`."
   ]
  },
  {
   "cell_type": "code",
   "execution_count": 18,
   "metadata": {},
   "outputs": [
    {
     "name": "stdout",
     "output_type": "stream",
     "text": [
      "PM\n"
     ]
    }
   ],
   "source": [
    "class Time:\n",
    "    \"\"\" The time class. \"\"\"\n",
    "    \n",
    "    def __init__(self, hours, minutes, seconds, am):\n",
    "        self.hours = hours\n",
    "        self.minutes = minutes\n",
    "        self.seconds = seconds\n",
    "        \n",
    "        # Determine AM or PM.\n",
    "        if type(am) is not type(True):\n",
    "            raise TypeError('Only boolean inputs allowed for am argument.')\n",
    "        \n",
    "        if am:\n",
    "            self.am = 'AM'\n",
    "        else:\n",
    "            self.am = 'PM'\n",
    "        \n",
    "T = Time(hours = 1, minutes = 54, seconds = 35, am = False)\n",
    "print(T.am)"
   ]
  },
  {
   "cell_type": "markdown",
   "metadata": {},
   "source": [
    "Let's create a method to add time to a `Time` class instance. We should add hours to hours, minutes to minutes, and seconds to seconds."
   ]
  },
  {
   "cell_type": "code",
   "execution_count": 19,
   "metadata": {},
   "outputs": [
    {
     "name": "stdout",
     "output_type": "stream",
     "text": [
      "4 59 50 PM\n"
     ]
    }
   ],
   "source": [
    "class Time:\n",
    "    \"\"\" The time class. \"\"\"\n",
    "    \n",
    "    def __init__(self, hours, minutes, seconds, am):\n",
    "        self.hours = hours\n",
    "        self.minutes = minutes\n",
    "        self.seconds = seconds\n",
    "        \n",
    "        # Determine AM or PM.\n",
    "        if type(am) is not type(True):\n",
    "            raise TypeError('Only boolean inputs allowed for am argument.')\n",
    "        \n",
    "        if am:\n",
    "            self.am = 'AM'\n",
    "        else:\n",
    "            self.am = 'PM'\n",
    "            \n",
    "    def add(self, hours, minutes, seconds):\n",
    "        self.hours += hours\n",
    "        self.minutes += minutes\n",
    "        self.seconds += seconds\n",
    "        \n",
    "T = Time(hours = 1, minutes = 54, seconds = 35, am = False)\n",
    "\n",
    "T.add(3,5,15)\n",
    "print(T.hours,T.minutes,T.seconds,T.am)"
   ]
  },
  {
   "cell_type": "markdown",
   "metadata": {},
   "source": [
    "Notice that our `add` method leads to a semantic error if we pass in arguments that result in hours exceeding 12 or minutes or seconds exceeding 60. Here's an example."
   ]
  },
  {
   "cell_type": "code",
   "execution_count": 20,
   "metadata": {},
   "outputs": [
    {
     "name": "stdout",
     "output_type": "stream",
     "text": [
      "4 59 50 PM\n",
      "11 209 151 PM\n"
     ]
    }
   ],
   "source": [
    "print(T.hours,T.minutes,T.seconds,T.am)\n",
    "\n",
    "T.add(7,150,101)\n",
    "print(T.hours,T.minutes,T.seconds,T.am)"
   ]
  },
  {
   "cell_type": "markdown",
   "metadata": {},
   "source": [
    "There really shouldn't be minutes or seconds over 60, so we need to change the `add` method. It didn't happen here, but hours should never exceed 12 (unless we're using the 24-hour clock).\n",
    "\n",
    "We'll demonstrate that the changes to the `add` method work by starting with the time 1:54:35 PM. We'll add 13 hours, 10 minutes, and 45 seconds, and check that the resulting time is 3:05:20 AM."
   ]
  },
  {
   "cell_type": "code",
   "execution_count": 22,
   "metadata": {},
   "outputs": [
    {
     "name": "stdout",
     "output_type": "stream",
     "text": [
      "3 5 20 AM\n"
     ]
    }
   ],
   "source": [
    "class Time:\n",
    "    \"\"\" The time class. \"\"\"\n",
    "    \n",
    "    def __init__(self, hours, minutes, seconds, am):\n",
    "        self.hours = hours\n",
    "        self.minutes = minutes\n",
    "        self.seconds = seconds\n",
    "        \n",
    "        # Determine AM or PM.\n",
    "        if type(am) is not type(True):\n",
    "            raise TypeError('Only boolean inputs allowed for am argument.')\n",
    "            \n",
    "        if am:\n",
    "            self.am = 'AM'\n",
    "        else:\n",
    "            self.am = 'PM'\n",
    "            \n",
    "    def add(self, hours, minutes, seconds):\n",
    "        \"\"\" Add hours/minutes/seconds to a Time instance. \"\"\"\n",
    "        self.hours += hours\n",
    "        self.minutes += minutes\n",
    "        self.seconds += seconds\n",
    "        \n",
    "        # Adjust for correct clock time.\n",
    "        while self.seconds >= 60:\n",
    "            self.seconds -= 60\n",
    "            self.minutes += 1\n",
    "            \n",
    "        while self.minutes >= 60:\n",
    "            self.minutes -= 60\n",
    "            self.hours += 1\n",
    "        \n",
    "        # Change am to pm when needed.\n",
    "        if self.hours > 12:\n",
    "            self.hours -= 12\n",
    "            \n",
    "            if self.am == 'AM':\n",
    "                self.am = 'PM'\n",
    "            else:\n",
    "                self.am = 'AM'\n",
    "                \n",
    "T = Time(hours = 1, minutes = 54, seconds = 35, am = False)\n",
    "\n",
    "T.add(13,10,45)\n",
    "print(T.hours,T.minutes,T.seconds,T.am)"
   ]
  },
  {
   "cell_type": "markdown",
   "metadata": {},
   "source": [
    "The new `add` method works!\n",
    "\n",
    "We need to make an important consideration here. Suppose we were baking a cake that needed to be in the oven for 1 hour and 15 minutes. If we know the current time, we can add 1 hour and 15 minutes to the current time and find out when we need to take the cake out. However, if we used the `add` method to do this, we would be **changing the current time**. For this reason, it may be beneficial to have a second method to display hypothetical future times. Using a method to do this requires importing the `copy` module, which is part of the standard Python library.\n",
    "\n",
    "Alternatively, we could define a function outside of the `Time` class to show the resulting time from adding 1 hour and 15 minutes to the current time. This can be done by creating two `Time` instances and adding them together.\n",
    "\n",
    "The code below explores both of these options."
   ]
  },
  {
   "cell_type": "code",
   "execution_count": 23,
   "metadata": {},
   "outputs": [
    {
     "name": "stdout",
     "output_type": "stream",
     "text": [
      "6 55 35\n",
      "8 10 35\n"
     ]
    }
   ],
   "source": [
    "# First way of displaying future time: using methods.\n",
    "import copy\n",
    "\n",
    "class Time:\n",
    "    \"\"\" The time class. \"\"\"\n",
    "    \n",
    "    def __init__(self, hours, minutes, seconds, am = None):\n",
    "        self.hours = hours\n",
    "        self.minutes = minutes\n",
    "        self.seconds = seconds\n",
    "        \n",
    "        # Determine AM or PM.\n",
    "        if type(am) is not type(True):\n",
    "            raise TypeError('Only boolean inputs allowed for am argument.')\n",
    "        if am:\n",
    "            self.am = 'AM'\n",
    "        else:\n",
    "            self.am = 'PM'\n",
    "            \n",
    "    def add(self, hours, minutes, seconds):\n",
    "        self.hours += hours\n",
    "        self.minutes += minutes\n",
    "        self.seconds += seconds\n",
    "        \n",
    "        # Adjust for correct clock time.\n",
    "        while self.seconds > 60:\n",
    "            self.seconds -= 60\n",
    "            self.minutes += 1\n",
    "            \n",
    "        while self.minutes > 60:\n",
    "            self.minutes -= 60\n",
    "            self.hours += 1\n",
    "        \n",
    "        # Change am to pm when needed.\n",
    "        if self.hours > 12:\n",
    "            self.hours -= 12\n",
    "            \n",
    "            if self.am == 'AM':\n",
    "                self.am = 'PM'\n",
    "            else:\n",
    "                self.am = 'AM'\n",
    "                \n",
    "    def futureTime(self, hours, minutes, seconds):\n",
    "        \"\"\" Create a copy of self and add time to it. \"\"\"\n",
    "        future_time = copy.copy(self)\n",
    "        future_time.add(hours,minutes,seconds)\n",
    "        print(future_time.hours, future_time.minutes, future_time.seconds)\n",
    "\n",
    "current_time = Time(hours = 6, minutes = 55, seconds = 35, am = False)\n",
    "print(current_time.hours, current_time.minutes, current_time.seconds)\n",
    "current_time.futureTime(1,15,0)"
   ]
  },
  {
   "cell_type": "code",
   "execution_count": 24,
   "metadata": {},
   "outputs": [
    {
     "name": "stdout",
     "output_type": "stream",
     "text": [
      "1 54 35\n",
      "3 9 35\n"
     ]
    }
   ],
   "source": [
    "# Second way of displaying future time: using an external function.\n",
    "class Time:\n",
    "    \"\"\" The time class. \"\"\"\n",
    "    \n",
    "    def __init__(self, hours = 0, minutes = 0, seconds = 0, am = True):\n",
    "        \"\"\" All arguments are optional to allow for empty instances. \"\"\"\n",
    "        self.hours = hours\n",
    "        self.minutes = minutes\n",
    "        self.seconds = seconds\n",
    "        \n",
    "        # Determine AM or PM.\n",
    "        if type(am) is not type(True):\n",
    "            raise TypeError('Only boolean inputs allowed for am argument.')\n",
    "        if am:\n",
    "            self.am = 'AM'\n",
    "        else:\n",
    "            self.am = 'PM'\n",
    "            \n",
    "    def add(self, hours, minutes, seconds):\n",
    "        self.hours += hours\n",
    "        self.minutes += minutes\n",
    "        self.seconds += seconds\n",
    "        \n",
    "        # Adjust for correct clock time.\n",
    "        while self.seconds >= 60:\n",
    "            self.seconds -= 60\n",
    "            self.minutes += 1\n",
    "            \n",
    "        while self.minutes >= 60:\n",
    "            self.minutes -= 60\n",
    "            self.hours += 1\n",
    "        \n",
    "        # Change am to pm when needed.\n",
    "        if self.hours > 12:\n",
    "            self.hours -= 12\n",
    "            \n",
    "            if self.am == 'AM':\n",
    "                self.am = 'PM'\n",
    "            else:\n",
    "                self.am = 'AM'\n",
    "                               \n",
    "def addTime(t1, t2):\n",
    "    S = Time()\n",
    "    \n",
    "    S.hours = t1.hours + t2.hours\n",
    "    S.minutes = t1.minutes + t2.minutes\n",
    "    S.seconds = t1.seconds + t2.seconds\n",
    "    \n",
    "    while S.seconds >= 60:\n",
    "        S.seconds -= 60\n",
    "        S.minutes += 1\n",
    "    \n",
    "    while S.minutes >= 60:\n",
    "        S.minutes -= 60\n",
    "        S.hours += 1\n",
    "        \n",
    "    if S.hours > 12:\n",
    "        S.hours -= 12\n",
    "    \n",
    "    return S\n",
    "     \n",
    "current_time = Time(hours = 1, minutes = 54, seconds = 35, am = False) \n",
    "add_time = Time(hours = 1, minutes = 15, seconds = 0)\n",
    "\n",
    "future_time = addTime(current_time, add_time)\n",
    "print(current_time.hours, current_time.minutes, current_time.seconds)\n",
    "print(future_time.hours, future_time.minutes, future_time.seconds)"
   ]
  },
  {
   "cell_type": "markdown",
   "metadata": {},
   "source": [
    "These two approaches are equivalent, but the second approach is cleaner. If we don't need to create a class method to do a task, then we shouldn't. There is still an easier way to add two times together than the `addTime` function. We'll explore this in the exercises."
   ]
  },
  {
   "cell_type": "markdown",
   "metadata": {},
   "source": [
    "# Another example: The User Class\n",
    "\n",
    "Let's see another example of a custom class. We'll define a `User` class, with username and password as attributes, for a hypothetical log-in system."
   ]
  },
  {
   "cell_type": "code",
   "execution_count": 27,
   "metadata": {},
   "outputs": [],
   "source": [
    "class User:\n",
    "    \"\"\" User class for log-in system. \"\"\"\n",
    "        \n",
    "    def __init__(self, username_arg, password_arg):\n",
    "        self.username = username_arg\n",
    "        self.password = password_arg"
   ]
  },
  {
   "cell_type": "markdown",
   "metadata": {},
   "source": [
    "Now let's add a feature. If no username or password is specified, we'll create a randomized one."
   ]
  },
  {
   "cell_type": "code",
   "execution_count": 28,
   "metadata": {},
   "outputs": [],
   "source": [
    "def makeRandom():\n",
    "    \"\"\" Create a 9-character random username or password. \"\"\"\n",
    "    import random\n",
    "    import string\n",
    "\n",
    "    chars = string.ascii_uppercase + string.ascii_lowercase + string.digits\n",
    "    return ''.join(random.choice(chars) for _ in range(9))\n",
    "\n",
    "class User:\n",
    "    \"\"\" User class for log-in system. \"\"\"\n",
    "\n",
    "    def __init__(self, username_arg = makeRandom(), password_arg = makeRandom()):\n",
    "        \"\"\" The default username/password is randomly generated. \"\"\"\n",
    "        \n",
    "        self.username = username_arg\n",
    "        self.password = password_arg"
   ]
  },
  {
   "cell_type": "markdown",
   "metadata": {},
   "source": [
    "Note that the function `makeRandom()` isn't really a **method**. This function generates random usernames and passwords composed of upper/lowercase letters and the digits 0-9.\n",
    "\n",
    "Let's add a `display()` method to show the newly created User their username and password."
   ]
  },
  {
   "cell_type": "code",
   "execution_count": 30,
   "metadata": {},
   "outputs": [
    {
     "name": "stdout",
     "output_type": "stream",
     "text": [
      "Username: Matt\n",
      "Password: 45gNrFMEf\n"
     ]
    }
   ],
   "source": [
    "def makeRandom():\n",
    "    \"\"\" Create a 9-character random username or password. \"\"\"\n",
    "    import random\n",
    "    import string\n",
    "\n",
    "    chars = string.ascii_uppercase + string.ascii_lowercase + string.digits\n",
    "    return ''.join(random.choice(chars) for _ in range(9))\n",
    "\n",
    "class User:\n",
    "    \"\"\" User class for log-in system. \"\"\"\n",
    "    \n",
    "    def __init__(self, username_arg = makeRandom(), password_arg = makeRandom()):\n",
    "        \"\"\" The default username/password is randomly generated. \"\"\"\n",
    "        \n",
    "        self.username = username_arg\n",
    "        self.password = password_arg\n",
    "        \n",
    "    def display(self):\n",
    "        \"\"\" Display the username/password pair. \"\"\"\n",
    "        \n",
    "        print('Username: {}'.format(self.username))\n",
    "        print('Password: {}'.format(self.password))\n",
    "        \n",
    "person = User(username_arg = 'Matt')\n",
    "person.display()"
   ]
  },
  {
   "cell_type": "markdown",
   "metadata": {},
   "source": [
    "We can add more features to this class, such as allowing user input to define their own username and password. We'll also make sure that the password is at least 7 characters. This requires changing the `__init__` method. We need to place the `makeRandom()` function inside the `__init__` method, and we'll make the default username and password the empty string."
   ]
  },
  {
   "cell_type": "code",
   "execution_count": 31,
   "metadata": {},
   "outputs": [
    {
     "name": "stdout",
     "output_type": "stream",
     "text": [
      "Please enter a username (press Enter to select a random username): \n",
      "Please enter a password (press Enter to select a random password): ok\n",
      "Please enter a password (press Enter to select a random password): no\n",
      "Please enter a password (press Enter to select a random password): freedom!\n",
      "Username: gmySfu9dD\n",
      "Password: freedom!\n"
     ]
    }
   ],
   "source": [
    "class User:\n",
    "    \"\"\" User class for log-in system. \"\"\"\n",
    "        \n",
    "    def __init__(self, username_arg = '', password_arg = ''):\n",
    "        \"\"\" The default username/password is randomly generated. \"\"\"\n",
    "                \n",
    "        def makeRandom():\n",
    "            \"\"\" Create a 9-character random username or password. \"\"\"  \n",
    "            import random\n",
    "            import string\n",
    "\n",
    "            chars = string.ascii_uppercase + string.ascii_lowercase + string.digits\n",
    "            return ''.join(random.choice(chars) for _ in range(9))\n",
    "        \n",
    "        self.username = input('Please enter a username (press Enter to select a random username): ')\n",
    "        if self.username is '':\n",
    "            self.username = makeRandom()\n",
    "        \n",
    "        self.password = ''\n",
    "        while len(self.password) < 7:\n",
    "            self.password = input('Please enter a password (press Enter to select a random password): ')\n",
    "            if self.password is '':\n",
    "                self.password = makeRandom()\n",
    "        \n",
    "    def display(self):\n",
    "        \"\"\" Display the username/password pair. \"\"\"\n",
    "        \n",
    "        print('Username: {}'.format(self.username))\n",
    "        print('Password: {}'.format(self.password))\n",
    "        \n",
    "person = User()\n",
    "person.display()"
   ]
  },
  {
   "cell_type": "markdown",
   "metadata": {},
   "source": [
    "Hopefully you can see the many options for creating the `User` class. There are countless options for defining your own classes and customizing their functionality through internal functions and methods."
   ]
  },
  {
   "cell_type": "markdown",
   "metadata": {},
   "source": [
    "# Public vs Private Attributes and Methods\n",
    "\n",
    "The double underscores in the `__init__` method mean that the method is not accessible outside the class definition. You can also make attributes 'private' by using a *single* leading underscore. For example, `self._foo = bar` is only accessible within the code that declares the class.\n",
    "\n",
    "Note: it's usually safe to make attributes and methods accessible, but there are cases where you would rather not. Use private attributes and methods responsibly (don't make everything private by default)."
   ]
  },
  {
   "cell_type": "code",
   "execution_count": 34,
   "metadata": {},
   "outputs": [
    {
     "name": "stdout",
     "output_type": "stream",
     "text": [
      "bar\n",
      "True\n"
     ]
    },
    {
     "ename": "AttributeError",
     "evalue": "'Trout' object has no attribute 'foo'",
     "output_type": "error",
     "traceback": [
      "\u001b[1;31m---------------------------------------------------------------------------\u001b[0m",
      "\u001b[1;31mAttributeError\u001b[0m                            Traceback (most recent call last)",
      "\u001b[1;32m<ipython-input-34-ad0f340dbe7c>\u001b[0m in \u001b[0;36m<module>\u001b[1;34m\u001b[0m\n\u001b[0;32m     14\u001b[0m \u001b[1;33m\u001b[0m\u001b[0m\n\u001b[0;32m     15\u001b[0m \u001b[1;31m# This will raise an error.\u001b[0m\u001b[1;33m\u001b[0m\u001b[1;33m\u001b[0m\u001b[1;33m\u001b[0m\u001b[0m\n\u001b[1;32m---> 16\u001b[1;33m \u001b[0mprint\u001b[0m\u001b[1;33m(\u001b[0m\u001b[0mtrout\u001b[0m\u001b[1;33m.\u001b[0m\u001b[0mfoo\u001b[0m\u001b[1;33m)\u001b[0m\u001b[1;33m\u001b[0m\u001b[1;33m\u001b[0m\u001b[0m\n\u001b[0m\u001b[0;32m     17\u001b[0m \u001b[0mprint\u001b[0m\u001b[1;33m(\u001b[0m\u001b[0mtrout\u001b[0m\u001b[1;33m.\u001b[0m\u001b[0mfish\u001b[0m\u001b[1;33m)\u001b[0m\u001b[1;33m\u001b[0m\u001b[1;33m\u001b[0m\u001b[0m\n",
      "\u001b[1;31mAttributeError\u001b[0m: 'Trout' object has no attribute 'foo'"
     ]
    }
   ],
   "source": [
    "class Trout:\n",
    "    def __init__(self):\n",
    "        self._foo = 'bar'\n",
    "        self.fish = True\n",
    "        \n",
    "    def display(self):\n",
    "        print(self._foo)\n",
    "        print(self.fish)\n",
    "        \n",
    "trout = Trout()\n",
    "\n",
    "# This will print the 'foo' attribute without problems.\n",
    "trout.display()\n",
    "\n",
    "# This will raise an error.\n",
    "print(trout.foo)\n",
    "print(trout.fish)"
   ]
  },
  {
   "cell_type": "markdown",
   "metadata": {},
   "source": [
    "# If everything is an object in Python, why don't we use classes more often?\n",
    "\n",
    "The answer to this can be unfortunately phrased as a question: why would we? There are many situations in which classes will improve the functionality of your program and provide convenient solutions to problems. However, there are also situations in which using objects will only unnecessarily complicate things. \n",
    "\n",
    "At the outset of writing any code to accomplish a task, and as you write the code, it is helpful to ask yourself the following questions:\n",
    "\n",
    "* How can I store data and variables in my program? Do lists and dictionaries give me the flexibility that I need?\n",
    "* Is there another existing object that I can use, rather than 'reinventing the wheel'?\n",
    "* Is there something in the Python standard library or a well-documented external package that does the same thing that I am trying to do?"
   ]
  },
  {
   "cell_type": "markdown",
   "metadata": {},
   "source": [
    "# *Exercises*"
   ]
  },
  {
   "cell_type": "markdown",
   "metadata": {},
   "source": [
    "1. Create a new `Book` class to represent a book. Your class should have the attributes title, author, pages, year, and publisher. Write a method that displays all of the attributes of the `Book` class in a readable format."
   ]
  },
  {
   "cell_type": "code",
   "execution_count": 45,
   "metadata": {},
   "outputs": [],
   "source": [
    "class Author:\n",
    "    \n",
    "    def __init__(bert, first_name, last_name, dob, books_published, citizenship = None, elbow_patches = True, untimely_death = False):\n",
    "        bert.first_name = first_name\n",
    "        bert.last_name = last_name\n",
    "        bert.dob = dob\n",
    "        bert.books_published = books_published\n",
    "        bert.citizenship = citizenship\n",
    "        bert.elbow_patches = elbow_patches\n",
    "        bert.untimely_death = untimely_death\n",
    "        \n",
    "    def write(self, book):\n",
    "        \"\"\"Write a book.\"\"\"\n",
    "        self.books_published += 1"
   ]
  },
  {
   "cell_type": "code",
   "execution_count": 47,
   "metadata": {},
   "outputs": [
    {
     "name": "stdout",
     "output_type": "stream",
     "text": [
      "Catch-22 by Joseph Heller\n",
      "M*A*S*H by Richard Hooker\n",
      "Slaughterhouse-Five by Kurt Vonnegut\n"
     ]
    }
   ],
   "source": [
    "class Book:\n",
    "    def __init__(book, title, author, pages = None, year = None, publisher = None):\n",
    "        \"\"\" Declare attributes \"\"\"\n",
    "                \n",
    "        book.title = title\n",
    "        book.author = author\n",
    "        book.pages = pages\n",
    "        book.year = year\n",
    "        book.publisher = publisher\n",
    "        \n",
    "    def display(book):\n",
    "        \"\"\" Method to display book information \"\"\"\n",
    "        \n",
    "        author = book.author.first_name + ' ' + book.author.last_name\n",
    "        \n",
    "        print('{} by {}'.format(book.title, author))\n",
    "        \n",
    "        if book.publisher:\n",
    "            print('Published by {}'.format(book.publisher))\n",
    "        if book.year:\n",
    "            print('Printed in {}'.format(book.year))\n",
    "        if book.pages:\n",
    "            print('This book has {} pages'.format(book.pages))\n",
    "            \n",
    "titles = ['Catch-22', 'M*A*S*H', 'Slaughterhouse-Five']\n",
    "authors = ['Joseph Heller','Richard Hooker','Kurt Vonnegut']\n",
    "\n",
    "writers = [Author(name.split()[0], name.split()[1], dob = None, books_published = 1) for name in authors]\n",
    "\n",
    "booklist = [Book(title, writer) for title, writer in zip(titles, writers)]\n",
    "\n",
    "for book in booklist:\n",
    "    book.display()"
   ]
  },
  {
   "cell_type": "markdown",
   "metadata": {},
   "source": [
    "2. Write a `display` method for the `Time` class. Your method should display the time in the format hours:minutes:seconds, am/pm."
   ]
  },
  {
   "cell_type": "code",
   "execution_count": null,
   "metadata": {},
   "outputs": [],
   "source": [
    "class Time:\n",
    "    \"\"\" The time class. \"\"\"\n",
    "    \n",
    "    def __init__(self, hours = 0, minutes = 0, seconds = 0, am = 0):\n",
    "        \"\"\" All arguments are optional to allow for empty instances. \"\"\"\n",
    "        self.hours = hours\n",
    "        self.minutes = minutes\n",
    "        self.seconds = seconds\n",
    "        \n",
    "        # Determine AM or PM.\n",
    "        if am:\n",
    "            self.am = 'AM'\n",
    "        else:\n",
    "            self.am = 'PM'\n",
    "            \n",
    "    def display(self):\n",
    "        \"\"\" Display the time. \"\"\"\n",
    "        \n",
    "        pass"
   ]
  },
  {
   "cell_type": "markdown",
   "metadata": {},
   "source": [
    "3. Write a function (not a method) called `convertToSeconds` that converts a `Time` class instance to seconds."
   ]
  },
  {
   "cell_type": "code",
   "execution_count": null,
   "metadata": {},
   "outputs": [],
   "source": []
  },
  {
   "cell_type": "markdown",
   "metadata": {},
   "source": [
    "4. The following function `makeTime` converts a time, represented in seconds only, into a `Time` class instance. Define a function called `addTime` that adds two times represented in seconds together and then uses the `makeTime` function to convert the result into a `Time` class instance."
   ]
  },
  {
   "cell_type": "code",
   "execution_count": null,
   "metadata": {},
   "outputs": [],
   "source": [
    "import math\n",
    "\n",
    "def makeTime(seconds):\n",
    "    \"\"\" Function to convert seconds to a clock time. \n",
    "        12:00:00 midnight is considered '0'.\n",
    "    \"\"\"\n",
    "    \n",
    "    # Only allow integer input.\n",
    "    if type(seconds) is not type(2):\n",
    "        raise TypeError('Only integer inputs allowed.')\n",
    "        \n",
    "    # Math for converting to time.\n",
    "    hr = math.floor(seconds/3600)\n",
    "    mins = math.floor((seconds % 3600)/60)\n",
    "    sec = seconds % 60\n",
    "    \n",
    "    # Set am to True if before noon.\n",
    "    if seconds < 43200:\n",
    "        am = True\n",
    "    # Set am to False if past noon.\n",
    "    elif seconds >= 43200:\n",
    "        am = False\n",
    "    \n",
    "    # Subtract 12 from hours if past 1 pm (13 pm).\n",
    "    if seconds >= 46800:\n",
    "        hr -= 12\n",
    "    \n",
    "    T = Time(hr,mins,sec,am)\n",
    "    \n",
    "    return T\n",
    "\n",
    "def addTime(t1, t2):\n",
    "    \"\"\" Function to add two times represented in seconds. \"\"\"\n",
    "    \n",
    "    pass"
   ]
  },
  {
   "cell_type": "code",
   "execution_count": null,
   "metadata": {},
   "outputs": [],
   "source": []
  },
  {
   "cell_type": "markdown",
   "metadata": {},
   "source": [
    "# Example class for the *Hangman* game\n",
    "\n",
    "Here's an example of using a custom class to represent the 'man' in the *Hangman* game."
   ]
  },
  {
   "cell_type": "code",
   "execution_count": 48,
   "metadata": {},
   "outputs": [],
   "source": [
    "class Man:\n",
    "    def __init__(self):\n",
    "        self.head = False\n",
    "        self.body = False\n",
    "        self.armR = False\n",
    "        self.armL = False\n",
    "        self.legR = False\n",
    "        self.legL = False\n",
    "        self.eyes = False\n",
    "        self.nose = False\n",
    "        self.mouth = False\n",
    "        \n",
    "        self.hanged = False\n",
    "        \n",
    "        self.limbs = [self.head,self.body,self.armR,self.armL,self.legR,self.legL,self.eyes,self.nose,self.mouth]\n",
    "        self.names = ['head','body','right arm','left arm','right leg','left leg','eyes','nose','mouth']\n",
    "        \n",
    "        self.index = 0\n",
    "        \n",
    "    def update(self,guess):\n",
    "        \"\"\" Method to change attributes to True if the guess is wrong. \"\"\"\n",
    "        \n",
    "        # If the guess is false, add another limb.\n",
    "        if not guess: \n",
    "            self.limbs[self.index] = True\n",
    "            print('The man now has a {}.'.format(self.names[self.index]))\n",
    "            \n",
    "            self.index += 1\n",
    "        else:\n",
    "            # If they guess correctly, do something else (?).\n",
    "            print('Great guess!')\n",
    "        \n",
    "        if self.index == len(self.limbs):\n",
    "            \"\"\" If we are out of limbs, the game is lost. \"\"\"\n",
    "            \n",
    "            self.hanged = True\n",
    "            print('You ran out of guesses! Game over.')"
   ]
  },
  {
   "cell_type": "code",
   "execution_count": 49,
   "metadata": {},
   "outputs": [
    {
     "name": "stdout",
     "output_type": "stream",
     "text": [
      "The man now has a head.\n",
      "The man now has a body.\n",
      "The man now has a right arm.\n",
      "The man now has a left arm.\n",
      "The man now has a right leg.\n",
      "The man now has a left leg.\n",
      "The man now has a eyes.\n",
      "The man now has a nose.\n",
      "The man now has a mouth.\n",
      "You ran out of guesses! Game over.\n"
     ]
    }
   ],
   "source": [
    "# Testing the Man class.\n",
    "man = Man()\n",
    "\n",
    "for _ in range(9):\n",
    "    man.update(False)"
   ]
  },
  {
   "cell_type": "code",
   "execution_count": 50,
   "metadata": {},
   "outputs": [],
   "source": [
    "class PDF:\n",
    "    \"\"\" Class to list .pdf files from a directory. \"\"\"\n",
    "    \n",
    "    def __init__(self, file_directory):\n",
    "        self.dir = file_directory\n",
    "        \n",
    "    def get_pdfs(self):\n",
    "        \"\"\" Get a list of .pdf files in the directory. \"\"\"\n",
    "        \n",
    "        import os\n",
    "        \n",
    "        # Get all the files.\n",
    "        self.files = os.listdir(self.dir)\n",
    "        self.pdfs = [file for file in self.files if file.split('.')[-1] == 'pdf']\n",
    "        \n",
    "    def display(self):\n",
    "        try:\n",
    "            print(self.pdfs)\n",
    "        except:\n",
    "            self.get_pdfs()\n",
    "    \n",
    "    def run(self):\n",
    "        \"\"\" Run the above functions. \"\"\"\n",
    "        \n",
    "        self.get_pdfs()\n",
    "        self.display()"
   ]
  },
  {
   "cell_type": "code",
   "execution_count": 56,
   "metadata": {},
   "outputs": [
    {
     "name": "stdout",
     "output_type": "stream",
     "text": [
      "['2015_Book_DataStructuresAndAlgorithmsWit.pdf', '2016_Book_BrownianMotionMartingalesAndSt.pdf', '2016_Book_FreeDiscontinuityProblems.pdf', '2016_Book_PrinciplesOfDataMining.pdf', '2016_Book_PsychologyOfPerception.pdf', '2017_Book_IntroductionToDataScience.pdf', '2017_Book_TheDataScienceDesignManual.pdf', '2018_Book_MathematicalLogic.pdf', '2018_Book_PhilosophicalAndMathematicalLo.pdf', '2019_Book_ExcelDataAnalysis.pdf', 'A Digital Signal Processing Primer, With Applications To Digital Audio And Computer Music.pdf', 'a primer on scientific programming with python.pdf', 'Absolute.CPP.5th.Edition.pdf', 'Adams - TS.pdf', 'Adams Matthew PhD MATH.pdf', 'Adams_Transcript.pdf', 'Amazon - machine learning best practices.pdf', 'anisotropic_diffusion.pdf', 'application_for_absence_from_campus_students.pdf', 'approval_absence_from_campus.pdf', 'artificial intelligence a modern approach.pdf', 'Audio_FX_MATLAB.pdf', 'category_theory.pdf', 'counterexamples in analysis.pdf', 'Data Structures and Algorithm Analysis in C++.pdf', 'Data Structures and Algorithms in Java Fourth Edition.pdf', 'differint_paper.pdf', 'differint_paper_preprint.pdf', 'Elementary Differential Equations and Boundary Value Problems 10th ed.pdf', 'engineering the guitar - theory and practice.pdf', 'FOAGapr2915public.pdf', 'fractional_harris_laplace_ADAMS.pdf', 'Full page photo.pdf', 'Geometry, 2 edition by David A. Brannan.pdf', 'graduate-student-instruction-training_2.pdf', 'graphicpresentat00brinrich.pdf', 'handbook of nonlinear partial differential equations.pdf', 'higher transcendental functions.pdf', 'how to think like a computer scientist.pdf', 'intermediatepythongithubio.pdf', 'katz - a history of mathematics 3rd ed.pdf', 'kernel techniques - from machine learning to meshless methods.pdf', 'LA-solution-2011-7.pdf', 'light-and-optical-systems.pdf', 'Linear Algebra 4th Ed.pdf', 'MAdams_GAT_Assignment_F2017.pdf', 'mathematical problems in image processing ch 4.pdf', 'mathematical-analysis-zorich2.pdf', 'math_476_comments.pdf', 'Matthew Adams Completed Safety Courses.pdf', 'matthew.adams_10-6-2017_15-20-26.pdf', 'matthew.adams_SFU_official_transcript.pdf', 'Matthew_Adams_CV.pdf', 'Measure and integration Preliminary exam waiver.pdf', 'meditations.pdf', 'minimaltikz.pdf', 'modern fourier analysis - grafakos.pdf', 'MTST Candidacy Requirements (1).pdf', 'Neural Networks - A Comprehensive Foundation - Simon Haykin.pdf', 'overleaf-keyboard-shortcuts.pdf', 'pgf-tut.pdf', 'Python Talk.pdf', 'Rosen_Discrete_Mathematics_and_Its_Applications_7th_Edition.pdf', 's41583-020-0277-3.pdf', 'schaums outline discrete math.pdf', 'self-reliance_emerson.pdf', 'SSVM28_1_I.pdf', 'ssvm_confirmation.pdf', 'Stat 315 book.pdf', 'TA Evaluation F16 MATH 265.pdf', 'TA Evaluation W17 MATH 267.pdf', 'uCalgary-logo.pdf', 'virus-spread.pdf', 'WilliamFeller-AnIntroductionToProbabilityTheoryAndItsApplications.VolII.pdf', 'zombie-problem.pdf']\n"
     ]
    }
   ],
   "source": [
    "current = PDF('C:/Users/Matt/OneDrive - University of Calgary') # Passing in the empty string means use the current directory.\n",
    "current.run()"
   ]
  },
  {
   "cell_type": "code",
   "execution_count": 59,
   "metadata": {},
   "outputs": [],
   "source": [
    "class Player:\n",
    "    def __init__(self, name, cards = []):\n",
    "        self.name = name\n",
    "        self.cards = cards\n",
    "\n",
    "class War:\n",
    "    \"\"\" Classic game of War with playing cards. Highest card wins, duplicate cards result in WAR!!!! (Aces high) \"\"\"\n",
    "    \n",
    "    def __init__(self, players = ['orange', 'purple']):\n",
    "        \"\"\" Set attributes for the game. \"\"\"\n",
    "        \n",
    "        import itertools\n",
    "        \n",
    "        suits = ['\\u2660', '\\u2663', '\\u2665', '\\u2666']\n",
    "        values = [2,3,4,5,6,7,8,9,10,'J','Q','K','A']\n",
    "        \n",
    "        self.deck = [Card(suit, value) for suit, value in itertools.product(suits, values)]\n",
    "        self.players = [Player(name) for name in players]\n",
    "        \n",
    "    def display(self):\n",
    "        \"\"\" Print out all cards in the deck. \"\"\"\n",
    "        for card in self.deck:\n",
    "            card.display()\n",
    "        for player in self.players:\n",
    "            print(player.name)\n",
    "            \n",
    "    def deal(self):\n",
    "        \"\"\" Deal out cards to the players. \"\"\"\n",
    "            \n",
    "        pass"
   ]
  },
  {
   "cell_type": "code",
   "execution_count": 60,
   "metadata": {
    "scrolled": false
   },
   "outputs": [
    {
     "name": "stdout",
     "output_type": "stream",
     "text": [
      "orange\n",
      "purple\n"
     ]
    }
   ],
   "source": [
    "game = War()\n",
    "game.display()"
   ]
  },
  {
   "cell_type": "code",
   "execution_count": null,
   "metadata": {},
   "outputs": [],
   "source": [
    "class Hangman:\n",
    "    \"\"\" all code for the game \"\"\"\n",
    "    \n",
    "    def run():\n",
    "        \"\"\" runs the game \"\"\""
   ]
  }
 ],
 "metadata": {
  "kernelspec": {
   "display_name": "Python 3",
   "language": "python",
   "name": "python3"
  },
  "language_info": {
   "codemirror_mode": {
    "name": "ipython",
    "version": 3
   },
   "file_extension": ".py",
   "mimetype": "text/x-python",
   "name": "python",
   "nbconvert_exporter": "python",
   "pygments_lexer": "ipython3",
   "version": "3.7.1"
  }
 },
 "nbformat": 4,
 "nbformat_minor": 2
}
